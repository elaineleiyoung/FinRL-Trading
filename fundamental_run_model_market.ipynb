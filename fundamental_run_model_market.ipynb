{
 "cells": [
  {
   "cell_type": "code",
   "execution_count": null,
   "id": "4684df86",
   "metadata": {},
   "outputs": [],
   "source": [
    "# 添加导入\n",
    "import market_state_analyzer\n",
    "\n",
    "# 在main函数中添加市场状态分析\n",
    "if __name__ == '__main__':\n",
    "    # 现有代码...\n",
    "    \n",
    "    # 添加市场指数数据，如S&P 500\n",
    "    market_index_data = pd.read_csv(\"data_processor_update/market_index_data.csv\")\n",
    "    market_analyzer = market_state_analyzer.MarketStateAnalyzer()\n",
    "    market_analyzer.train(market_index_data)\n",
    "    \n",
    "    # 对每个交易日期进行市场状态评估\n",
    "    market_states = {}\n",
    "    for date in unique_datetime[first_trade_date_index:]:\n",
    "        # 获取截至当前日期的市场数据\n",
    "        current_market_data = market_index_data[market_index_data['date'] <= date]\n",
    "        market_state = market_analyzer.predict_market_state(current_market_data)\n",
    "        market_states[date] = market_state\n",
    "    \n",
    "    # 将市场状态信息传递给模型训练\n",
    "    try:\n",
    "        start = time.time()\n",
    "        model_result = ml_model.run_4model(sector_data,\n",
    "                                          features_column, \n",
    "                                          label_column, \n",
    "                                          date_column,\n",
    "                                          tic_column,\n",
    "                                          unique_ticker, \n",
    "                                          unique_datetime, \n",
    "                                          trade_date,\n",
    "                                          first_trade_date_index,\n",
    "                                          testing_windows,\n",
    "                                          market_states=market_states)  # 添加市场状态参数\n",
    "        end = time.time()\n",
    "        print('Time Spent: ',(end-start)/60,' minutes')\n",
    "        ml_model.save_model_result(model_result, sector_name, market_states)  # 修改保存函数，添加市场状态\n",
    "    # 错误处理..."
   ]
  },
  {
   "cell_type": "code",
   "execution_count": null,
   "id": "4342ea3e",
   "metadata": {},
   "outputs": [],
   "source": []
  }
 ],
 "metadata": {
  "kernelspec": {
   "display_name": "Python 3 (ipykernel)",
   "language": "python",
   "name": "python3"
  },
  "language_info": {
   "codemirror_mode": {
    "name": "ipython",
    "version": 3
   },
   "file_extension": ".py",
   "mimetype": "text/x-python",
   "name": "python",
   "nbconvert_exporter": "python",
   "pygments_lexer": "ipython3",
   "version": "3.9.7"
  }
 },
 "nbformat": 4,
 "nbformat_minor": 5
}
