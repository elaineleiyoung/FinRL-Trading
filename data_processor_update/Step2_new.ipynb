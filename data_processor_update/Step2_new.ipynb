{
 "cells": [
  {
   "cell_type": "code",
   "execution_count": 118,
   "metadata": {},
   "outputs": [],
   "source": [
    "import pandas as pd\n",
    "import numpy as np\n",
    "import matplotlib\n",
    "import matplotlib.pyplot as plt\n",
    "# matplotlib.use('Agg')\n",
    "import datetime\n",
    "from datetime import datetime as dt\n",
    "\n",
    "from pprint import pprint\n",
    "\n",
    "import sys\n",
    "sys.path.append(\"../FinRL\")\n",
    "\n",
    "import itertools\n",
    "import warnings\n",
    "warnings.filterwarnings(\"ignore\")"
   ]
  },
  {
   "cell_type": "code",
   "execution_count": 119,
   "metadata": {},
   "outputs": [],
   "source": [
    "fund_df = pd.read_csv(\"sp500_fundamental_199601_202502.csv\")"
   ]
  },
  {
   "cell_type": "code",
   "execution_count": 120,
   "metadata": {},
   "outputs": [],
   "source": [
    "df_daily_price = pd.read_csv(\"sp500_price_199601_202502.csv\")"
   ]
  },
  {
   "cell_type": "code",
   "execution_count": 121,
   "metadata": {},
   "outputs": [],
   "source": [
    "df_daily_price['date'] = df_daily_price['date'].astype(str).str[:10]\n",
    "df_daily_price['date'] = pd.to_datetime(df_daily_price['date'], format='%Y-%m-%d', errors='coerce')"
   ]
  },
  {
   "cell_type": "code",
   "execution_count": 122,
   "metadata": {},
   "outputs": [
    {
     "data": {
      "text/plain": [
       "861"
      ]
     },
     "execution_count": 122,
     "metadata": {},
     "output_type": "execute_result"
    }
   ],
   "source": [
    "len(df_daily_price.tic.unique())"
   ]
  },
  {
   "cell_type": "code",
   "execution_count": 123,
   "metadata": {},
   "outputs": [
    {
     "data": {
      "text/plain": [
       "924"
      ]
     },
     "execution_count": 123,
     "metadata": {},
     "output_type": "execute_result"
    }
   ],
   "source": [
    "len(fund_df.tic.unique())"
   ]
  },
  {
   "cell_type": "code",
   "execution_count": 124,
   "metadata": {},
   "outputs": [],
   "source": [
    "# fund_df['datadate'] = pd.to_datetime(fund_df['datadate'])\n",
    "df_daily_price['date'] = pd.to_datetime(df_daily_price['date'])\n",
    "fund_df['datadate'] = (pd.to_datetime(fund_df['datadate']).dt.strftime('%Y%m%d')).astype(int)"
   ]
  },
  {
   "cell_type": "code",
   "execution_count": 125,
   "metadata": {},
   "outputs": [],
   "source": [
    "trading_dates = list(df_daily_price['date'].unique())"
   ]
  },
  {
   "cell_type": "code",
   "execution_count": 126,
   "metadata": {},
   "outputs": [],
   "source": [
    "def check_trading_date(date):\n",
    "    # date = date.strftime('%Y%m%d').astype(int)\n",
    "    while date not in trading_dates:\n",
    "        date += + pd.Timedelta(days=1)\n",
    "    # return pd.to_datetime(date,format='%Y%m%d')\n",
    "    return date"
   ]
  },
  {
   "cell_type": "code",
   "execution_count": 127,
   "metadata": {},
   "outputs": [],
   "source": [
    "# fund_df['year'] = (fund_df['datadate'].str[:4] + fund_df['datadate'].str[5:7] + fund_df.str[-2:]).astype(int)\n",
    "# use trade date instead of report quarterly date\n",
    "times = list(fund_df['datadate']) # quarterly report date\n",
    "for i in range(len(times)):\n",
    "    quarter = (times[i] - int(times[i]/10000)*10000)\n",
    "    if 1201 < quarter:\n",
    "        times[i] = int(times[i]/10000 + 1)*10000 + 301\n",
    "    if quarter <= 301:\n",
    "        times[i] = int(times[i]/10000)*10000 + 301\n",
    "    if 301 < quarter <= 601:\n",
    "        times[i] = int(times[i]/10000)*10000 + 601\n",
    "    if 601 < quarter <= 901:\n",
    "        times[i] = int(times[i]/10000)*10000 + 901\n",
    "    if 901 < quarter <= 1201:\n",
    "        times[i] = int(times[i]/10000)*10000 + 1201\n",
    "    # times[i] = check_trading_date(times[i])\n",
    "    time_tmp = times[i]\n",
    "    year = int(time_tmp/10000)\n",
    "    month = int(quarter/100)\n",
    "    day = int(quarter - month*100)\n",
    "#     if(time_tmp < 20171114):\n",
    "#         while(dt.date(year, month, day).weekday() > 4):\n",
    "#             time_tmp = time_tmp + 1\n",
    "#             year = int(time_tmp/10000)\n",
    "#             month = int((time_tmp - year*10000)/100)\n",
    "#             day = int(time_tmp - year*10000 - month*100)\n",
    "#         times[i] = time_tmp\n",
    "times = pd.to_datetime(times,format='%Y%m%d')\n",
    "fund_df['datadate']=times"
   ]
  },
  {
   "cell_type": "code",
   "execution_count": 128,
   "metadata": {},
   "outputs": [],
   "source": [
    "fund_times = list(sorted(times.unique()))\n",
    "date_map_df = pd.DataFrame()\n",
    "date_map_df['report_date'] = fund_times[:-1]\n",
    "date_map_df['trading_date'] = date_map_df['report_date'].apply(check_trading_date)\n",
    "fund_df = pd.merge(fund_df, date_map_df, left_on='datadate',right_on='report_date')\n",
    "fund_df.drop(columns=['datadate','report_date'], inplace=True)\n",
    "fund_df.rename(columns={'trading_date':'datadate'}, inplace=True)"
   ]
  },
  {
   "cell_type": "code",
   "execution_count": 129,
   "metadata": {},
   "outputs": [],
   "source": [
    "fund_df = fund_df.merge(df_daily_price, left_on=['datadate', 'tic'], right_on=['date', 'tic'], how='left')\n",
    "fund_df.drop(columns=['datadate'], inplace=True)"
   ]
  },
  {
   "cell_type": "code",
   "execution_count": 130,
   "metadata": {},
   "outputs": [],
   "source": [
    "l_df = list(fund_df.groupby('tic'))\n",
    "for tic,df in l_df:\n",
    "    df.reset_index(inplace=True, drop=True)\n",
    "    df.sort_values('date')\n",
    "    # our goal is to predict next quarter's return\n",
    "    df['y_return'] = np.log(df['adj_close_q'].shift(-1) / df['adj_close_q'])"
   ]
  },
  {
   "cell_type": "code",
   "execution_count": 131,
   "metadata": {},
   "outputs": [],
   "source": [
    "fund_df = pd.concat([x[1] for x in l_df])"
   ]
  },
  {
   "cell_type": "code",
   "execution_count": 132,
   "metadata": {},
   "outputs": [],
   "source": [
    "fund_df['pe'] = fund_df.prccq / fund_df.epspxq\n",
    "fund_df['ps'] = fund_df.prccq / (fund_df.revtq/fund_df.cshoq)\n",
    "fund_df['pb'] = fund_df.prccq / ((fund_df.atq-fund_df.ltq)/fund_df.cshoq)"
   ]
  },
  {
   "cell_type": "code",
   "execution_count": 133,
   "metadata": {},
   "outputs": [],
   "source": [
    "items = [\n",
    "    'date', # Date\n",
    "    'gvkey',#gvkey unique identifier\n",
    "    'tic', # Ticker\n",
    "    'gsector',#gics sector 11\n",
    "    'oiadpq', # Quarterly operating income\n",
    "    'revtq', # Quartely revenue\n",
    "    'niq', # Quartely net income\n",
    "    'atq', # Total asset\n",
    "    'teqq', # Shareholder's equity\n",
    "    'epspiy', # EPS(Basic) incl. Extraordinary items\n",
    "    'ceqq', # Common Equity\n",
    "    'cshoq', # Common Shares Outstanding\n",
    "    'dvpspq', # Dividends per share\n",
    "    'actq', # Current assets\n",
    "    'lctq', # Current liabilities\n",
    "    'cheq', # Cash & Equivalent\n",
    "    'rectq', # Recievalbles\n",
    "    'cogsq', # Cost of  Goods Sold\n",
    "    'invtq', # Inventories\n",
    "    'apq',# Account payable\n",
    "    'dlttq', # Long term debt\n",
    "    'dlcq', # Debt in current liabilites\n",
    "    'ltq', # Liabilities   \n",
    "    'pe', #Price–earnings ratio\n",
    "    'ps', #Price–sales ratio\n",
    "    'pb', #Price-to-Book (P/B) Ratio\n",
    "    'adj_close_q',#adjusted close price\n",
    "    'y_return' #next quarter return\n",
    "]\n",
    "\n",
    "# Omit items that will not be used\n",
    "fund_data = fund_df[items]\n"
   ]
  },
  {
   "cell_type": "code",
   "execution_count": 134,
   "metadata": {},
   "outputs": [],
   "source": [
    "# Rename column names for the sake of readability\n",
    "fund_data = fund_data.rename(columns={\n",
    "    'oiadpq':'op_inc_q', # Quarterly operating income\n",
    "    'revtq':'rev_q', # Quartely revenue\n",
    "    'niq':'net_inc_q', # Quartely net income\n",
    "    'atq':'tot_assets', # Assets\n",
    "    'teqq':'sh_equity', # Shareholder's equity\n",
    "    'epspiy':'eps_incl_ex', # EPS(Basic) incl. Extraordinary items\n",
    "    'ceqq':'com_eq', # Common Equity\n",
    "    'cshoq':'sh_outstanding', # Common Shares Outstanding\n",
    "    'dvpspq':'div_per_sh', # Dividends per share\n",
    "    'actq':'cur_assets', # Current assets\n",
    "    'lctq':'cur_liabilities', # Current liabilities\n",
    "    'cheq':'cash_eq', # Cash & Equivalent\n",
    "    'rectq':'receivables', # Receivalbles\n",
    "    'cogsq':'cogs_q', # Cost of  Goods Sold\n",
    "    'invtq':'inventories', # Inventories\n",
    "    'apq': 'payables',# Account payable\n",
    "    'dlttq':'long_debt', # Long term debt\n",
    "    'dlcq':'short_debt', # Debt in current liabilites\n",
    "    'ltq':'tot_liabilities', # Liabilities   \n",
    "})"
   ]
  },
  {
   "cell_type": "code",
   "execution_count": 135,
   "metadata": {},
   "outputs": [],
   "source": [
    "# set data type to series\n",
    "date = fund_data['date'].to_frame('date').reset_index(drop=True)\n",
    "tic = fund_data['tic'].to_frame('tic').reset_index(drop=True)\n",
    "gvkey = fund_data['gvkey'].to_frame('gvkey').reset_index(drop=True)\n",
    "adj_close_q = fund_data['adj_close_q'].to_frame('adj_close_q').reset_index(drop=True)\n",
    "y_return = fund_data['y_return'].to_frame('y_return').reset_index(drop=True)\n",
    "gsector = fund_data['gsector'].to_frame('gsector').reset_index(drop=True)\n",
    "pe = fund_data['pe'].to_frame('pe').reset_index(drop=True)\n",
    "ps = fund_data['ps'].to_frame('ps').reset_index(drop=True)\n",
    "pb = fund_data['pb'].to_frame('pb').reset_index(drop=True)"
   ]
  },
  {
   "cell_type": "code",
   "execution_count": 136,
   "metadata": {},
   "outputs": [],
   "source": [
    "# Calculate financial ratios\n",
    "\n",
    "# Profitability ratios\n",
    "# Operating Margin\n",
    "OPM = pd.Series(np.empty(fund_data.shape[0],dtype=object),name='OPM')\n",
    "for i in range(0, fund_data.shape[0]):\n",
    "    if i-3 < 0:\n",
    "        OPM[i] = np.nan\n",
    "    elif fund_data.iloc[i,1] != fund_data.iloc[i-3,1]:\n",
    "        OPM.iloc[i] = np.nan\n",
    "    else:\n",
    "        OPM.iloc[i] = np.sum(fund_data['op_inc_q'].iloc[i-3:i])/np.sum(fund_data['rev_q'].iloc[i-3:i])\n",
    "OPM=pd.Series(OPM).to_frame().reset_index(drop=True)\n",
    "\n",
    "# Net Profit Margin        \n",
    "NPM = pd.Series(np.empty(fund_data.shape[0],dtype=object),name='NPM')\n",
    "for i in range(0, fund_data.shape[0]):\n",
    "    if i-3 < 0:\n",
    "        NPM[i] = np.nan\n",
    "    elif fund_data.iloc[i,1] != fund_data.iloc[i-3,1]:\n",
    "        NPM.iloc[i] = np.nan\n",
    "    else:\n",
    "        NPM.iloc[i] = np.sum(fund_data['net_inc_q'].iloc[i-3:i])/np.sum(fund_data['rev_q'].iloc[i-3:i])\n",
    "NPM=pd.Series(NPM).to_frame().reset_index(drop=True)\n",
    "\n",
    "# Return On Assets\n",
    "ROA = pd.Series(np.empty(fund_data.shape[0],dtype=object),name='ROA')\n",
    "for i in range(0, fund_data.shape[0]):\n",
    "    if i-3 < 0:\n",
    "        ROA[i] = np.nan\n",
    "    elif fund_data.iloc[i,1] != fund_data.iloc[i-3,1]:\n",
    "        ROA.iloc[i] = np.nan\n",
    "    else:\n",
    "        ROA.iloc[i] = np.sum(fund_data['net_inc_q'].iloc[i-3:i])/fund_data['tot_assets'].iloc[i]\n",
    "ROA=pd.Series(ROA).to_frame().reset_index(drop=True)\n",
    "\n",
    "# Return on Equity\n",
    "ROE = pd.Series(np.empty(fund_data.shape[0],dtype=object),name='ROE')\n",
    "for i in range(0, fund_data.shape[0]):\n",
    "    if i-3 < 0:\n",
    "        ROE[i] = np.nan\n",
    "    elif fund_data.iloc[i,1] != fund_data.iloc[i-3,1]:\n",
    "        ROE.iloc[i] = np.nan\n",
    "    else:\n",
    "        ROE.iloc[i] = np.sum(fund_data['net_inc_q'].iloc[i-3:i])/fund_data['sh_equity'].iloc[i]        \n",
    "ROE=pd.Series(ROE).to_frame().reset_index(drop=True)\n",
    "\n",
    "# For calculating valuation ratios in the next subpart, calculate per share items in advance\n",
    "# Earnings Per Share       \n",
    "EPS = fund_data['eps_incl_ex'].to_frame('EPS').reset_index(drop=True)\n",
    "\n",
    "# Book Per Share\n",
    "BPS = (fund_data['com_eq']/fund_data['sh_outstanding']).to_frame('BPS').reset_index(drop=True) # Need to check units\n",
    "\n",
    "#Dividend Per Share\n",
    "DPS = fund_data['div_per_sh'].to_frame('DPS').reset_index(drop=True)\n",
    "\n",
    "# Liquidity ratios\n",
    "# Current ratio\n",
    "cur_ratio = (fund_data['cur_assets']/fund_data['cur_liabilities']).to_frame('cur_ratio').reset_index(drop=True)\n",
    "\n",
    "# Quick ratio\n",
    "quick_ratio = ((fund_data['cash_eq'] + fund_data['receivables'] )/fund_data['cur_liabilities']).to_frame('quick_ratio').reset_index(drop=True)\n",
    "\n",
    "# Cash ratio\n",
    "cash_ratio = (fund_data['cash_eq']/fund_data['cur_liabilities']).to_frame('cash_ratio').reset_index(drop=True)\n",
    "\n",
    "\n",
    "# Efficiency ratios\n",
    "# Inventory turnover ratio\n",
    "inv_turnover = pd.Series(np.empty(fund_data.shape[0],dtype=object),name='inv_turnover')\n",
    "for i in range(0, fund_data.shape[0]):\n",
    "    if i-3 < 0:\n",
    "        inv_turnover[i] = np.nan\n",
    "    elif fund_data.iloc[i,1] != fund_data.iloc[i-3,1]:\n",
    "        inv_turnover.iloc[i] = np.nan\n",
    "    else:\n",
    "        inv_turnover.iloc[i] = np.sum(fund_data['cogs_q'].iloc[i-3:i])/fund_data['inventories'].iloc[i]\n",
    "inv_turnover=pd.Series(inv_turnover).to_frame().reset_index(drop=True)\n",
    "\n",
    "# Receivables turnover ratio       \n",
    "acc_rec_turnover = pd.Series(np.empty(fund_data.shape[0],dtype=object),name='acc_rec_turnover')\n",
    "for i in range(0, fund_data.shape[0]):\n",
    "    if i-3 < 0:\n",
    "        acc_rec_turnover[i] = np.nan\n",
    "    elif fund_data.iloc[i,1] != fund_data.iloc[i-3,1]:\n",
    "        acc_rec_turnover.iloc[i] = np.nan\n",
    "    else:\n",
    "        acc_rec_turnover.iloc[i] = np.sum(fund_data['rev_q'].iloc[i-3:i])/fund_data['receivables'].iloc[i]\n",
    "acc_rec_turnover=pd.Series(acc_rec_turnover).to_frame().reset_index(drop=True)\n",
    "\n",
    "# Payable turnover ratio\n",
    "acc_pay_turnover = pd.Series(np.empty(fund_data.shape[0],dtype=object),name='acc_pay_turnover')\n",
    "for i in range(0, fund_data.shape[0]):\n",
    "    if i-3 < 0:\n",
    "        acc_pay_turnover[i] = np.nan\n",
    "    elif fund_data.iloc[i,1] != fund_data.iloc[i-3,1]:\n",
    "        acc_pay_turnover.iloc[i] = np.nan\n",
    "    else:\n",
    "        acc_pay_turnover.iloc[i] = np.sum(fund_data['cogs_q'].iloc[i-3:i])/fund_data['payables'].iloc[i]\n",
    "acc_pay_turnover=pd.Series(acc_pay_turnover).to_frame().reset_index(drop=True)\n",
    "\n",
    "## Leverage financial ratios\n",
    "# Debt ratio\n",
    "debt_ratio = (fund_data['tot_liabilities']/fund_data['tot_assets']).to_frame('debt_ratio').reset_index(drop=True)\n",
    "\n",
    "# Debt to Equity ratio\n",
    "debt_to_equity = (fund_data['tot_liabilities']/fund_data['sh_equity']).to_frame('debt_to_equity').reset_index(drop=True)"
   ]
  },
  {
   "cell_type": "code",
   "execution_count": 137,
   "metadata": {},
   "outputs": [],
   "source": [
    "# Create a dataframe that merges all the ratios\n",
    "ratios = pd.concat([date,gvkey,tic,gsector,adj_close_q,y_return,OPM,NPM,ROA,ROE,EPS,BPS,DPS,\n",
    "                    cur_ratio,quick_ratio,cash_ratio,inv_turnover,acc_rec_turnover,acc_pay_turnover,\n",
    "                   debt_ratio,debt_to_equity,pe,ps,pb], axis=1).reset_index(drop=True)"
   ]
  },
  {
   "cell_type": "code",
   "execution_count": 138,
   "metadata": {},
   "outputs": [],
   "source": [
    "# Replace NAs infinite values with zero\n",
    "final_ratios = ratios.copy()\n",
    "final_ratios = final_ratios.fillna(0)\n",
    "final_ratios = final_ratios.replace(np.inf,0)"
   ]
  },
  {
   "cell_type": "code",
   "execution_count": 139,
   "metadata": {},
   "outputs": [],
   "source": [
    "import os\n",
    "\n",
    "output_dir = 'outputs'\n",
    "if not os.path.exists(output_dir):\n",
    "    os.makedirs(output_dir)\n",
    "\n",
    "final_ratios.to_csv('outputs/final_ratios_raw.csv')"
   ]
  },
  {
   "cell_type": "code",
   "execution_count": 140,
   "metadata": {},
   "outputs": [
    {
     "data": {
      "text/html": [
       "<div>\n",
       "<style scoped>\n",
       "    .dataframe tbody tr th:only-of-type {\n",
       "        vertical-align: middle;\n",
       "    }\n",
       "\n",
       "    .dataframe tbody tr th {\n",
       "        vertical-align: top;\n",
       "    }\n",
       "\n",
       "    .dataframe thead th {\n",
       "        text-align: right;\n",
       "    }\n",
       "</style>\n",
       "<table border=\"1\" class=\"dataframe\">\n",
       "  <thead>\n",
       "    <tr style=\"text-align: right;\">\n",
       "      <th></th>\n",
       "      <th>date</th>\n",
       "      <th>gvkey</th>\n",
       "      <th>tic</th>\n",
       "      <th>gsector</th>\n",
       "      <th>adj_close_q</th>\n",
       "      <th>y_return</th>\n",
       "      <th>OPM</th>\n",
       "      <th>NPM</th>\n",
       "      <th>ROA</th>\n",
       "      <th>ROE</th>\n",
       "      <th>...</th>\n",
       "      <th>quick_ratio</th>\n",
       "      <th>cash_ratio</th>\n",
       "      <th>inv_turnover</th>\n",
       "      <th>acc_rec_turnover</th>\n",
       "      <th>acc_pay_turnover</th>\n",
       "      <th>debt_ratio</th>\n",
       "      <th>debt_to_equity</th>\n",
       "      <th>pe</th>\n",
       "      <th>ps</th>\n",
       "      <th>pb</th>\n",
       "    </tr>\n",
       "  </thead>\n",
       "  <tbody>\n",
       "    <tr>\n",
       "      <th>0</th>\n",
       "      <td>0</td>\n",
       "      <td>10507</td>\n",
       "      <td>0033A</td>\n",
       "      <td>55.0</td>\n",
       "      <td>0.0</td>\n",
       "      <td>0.0</td>\n",
       "      <td>0.000000</td>\n",
       "      <td>0.000000</td>\n",
       "      <td>0.000000</td>\n",
       "      <td>0.0</td>\n",
       "      <td>...</td>\n",
       "      <td>0.169339</td>\n",
       "      <td>0.014917</td>\n",
       "      <td>0.000000</td>\n",
       "      <td>0.000000</td>\n",
       "      <td>0.000000</td>\n",
       "      <td>0.695946</td>\n",
       "      <td>0.0</td>\n",
       "      <td>73.883929</td>\n",
       "      <td>6.383067</td>\n",
       "      <td>1.430224</td>\n",
       "    </tr>\n",
       "    <tr>\n",
       "      <th>1</th>\n",
       "      <td>0</td>\n",
       "      <td>10507</td>\n",
       "      <td>0033A</td>\n",
       "      <td>55.0</td>\n",
       "      <td>0.0</td>\n",
       "      <td>0.0</td>\n",
       "      <td>0.000000</td>\n",
       "      <td>0.000000</td>\n",
       "      <td>0.000000</td>\n",
       "      <td>0.0</td>\n",
       "      <td>...</td>\n",
       "      <td>0.271284</td>\n",
       "      <td>0.010014</td>\n",
       "      <td>0.000000</td>\n",
       "      <td>0.000000</td>\n",
       "      <td>0.000000</td>\n",
       "      <td>0.696722</td>\n",
       "      <td>0.0</td>\n",
       "      <td>47.500000</td>\n",
       "      <td>5.677115</td>\n",
       "      <td>1.461822</td>\n",
       "    </tr>\n",
       "    <tr>\n",
       "      <th>2</th>\n",
       "      <td>0</td>\n",
       "      <td>10507</td>\n",
       "      <td>0033A</td>\n",
       "      <td>55.0</td>\n",
       "      <td>0.0</td>\n",
       "      <td>0.0</td>\n",
       "      <td>0.000000</td>\n",
       "      <td>0.000000</td>\n",
       "      <td>0.000000</td>\n",
       "      <td>0.0</td>\n",
       "      <td>...</td>\n",
       "      <td>0.266745</td>\n",
       "      <td>0.020813</td>\n",
       "      <td>0.000000</td>\n",
       "      <td>0.000000</td>\n",
       "      <td>0.000000</td>\n",
       "      <td>0.685703</td>\n",
       "      <td>0.0</td>\n",
       "      <td>25.000000</td>\n",
       "      <td>4.625658</td>\n",
       "      <td>1.314168</td>\n",
       "    </tr>\n",
       "    <tr>\n",
       "      <th>3</th>\n",
       "      <td>0</td>\n",
       "      <td>10507</td>\n",
       "      <td>0033A</td>\n",
       "      <td>55.0</td>\n",
       "      <td>0.0</td>\n",
       "      <td>0.0</td>\n",
       "      <td>0.333037</td>\n",
       "      <td>0.143130</td>\n",
       "      <td>0.034051</td>\n",
       "      <td>0.0</td>\n",
       "      <td>...</td>\n",
       "      <td>0.207633</td>\n",
       "      <td>0.010034</td>\n",
       "      <td>9.085628</td>\n",
       "      <td>15.509621</td>\n",
       "      <td>8.705043</td>\n",
       "      <td>0.684889</td>\n",
       "      <td>0.0</td>\n",
       "      <td>135.833333</td>\n",
       "      <td>6.244855</td>\n",
       "      <td>1.358811</td>\n",
       "    </tr>\n",
       "    <tr>\n",
       "      <th>4</th>\n",
       "      <td>0</td>\n",
       "      <td>10507</td>\n",
       "      <td>0033A</td>\n",
       "      <td>55.0</td>\n",
       "      <td>0.0</td>\n",
       "      <td>0.0</td>\n",
       "      <td>0.312177</td>\n",
       "      <td>0.131014</td>\n",
       "      <td>0.030764</td>\n",
       "      <td>0.0</td>\n",
       "      <td>...</td>\n",
       "      <td>0.313543</td>\n",
       "      <td>0.146420</td>\n",
       "      <td>9.658611</td>\n",
       "      <td>16.798462</td>\n",
       "      <td>11.588044</td>\n",
       "      <td>0.709488</td>\n",
       "      <td>0.0</td>\n",
       "      <td>67.156863</td>\n",
       "      <td>5.149707</td>\n",
       "      <td>1.222281</td>\n",
       "    </tr>\n",
       "  </tbody>\n",
       "</table>\n",
       "<p>5 rows × 24 columns</p>\n",
       "</div>"
      ],
      "text/plain": [
       "  date  gvkey    tic  gsector  adj_close_q  y_return       OPM       NPM  \\\n",
       "0    0  10507  0033A     55.0          0.0       0.0  0.000000  0.000000   \n",
       "1    0  10507  0033A     55.0          0.0       0.0  0.000000  0.000000   \n",
       "2    0  10507  0033A     55.0          0.0       0.0  0.000000  0.000000   \n",
       "3    0  10507  0033A     55.0          0.0       0.0  0.333037  0.143130   \n",
       "4    0  10507  0033A     55.0          0.0       0.0  0.312177  0.131014   \n",
       "\n",
       "        ROA  ROE  ...  quick_ratio  cash_ratio  inv_turnover  \\\n",
       "0  0.000000  0.0  ...     0.169339    0.014917      0.000000   \n",
       "1  0.000000  0.0  ...     0.271284    0.010014      0.000000   \n",
       "2  0.000000  0.0  ...     0.266745    0.020813      0.000000   \n",
       "3  0.034051  0.0  ...     0.207633    0.010034      9.085628   \n",
       "4  0.030764  0.0  ...     0.313543    0.146420      9.658611   \n",
       "\n",
       "   acc_rec_turnover  acc_pay_turnover  debt_ratio  debt_to_equity          pe  \\\n",
       "0          0.000000          0.000000    0.695946             0.0   73.883929   \n",
       "1          0.000000          0.000000    0.696722             0.0   47.500000   \n",
       "2          0.000000          0.000000    0.685703             0.0   25.000000   \n",
       "3         15.509621          8.705043    0.684889             0.0  135.833333   \n",
       "4         16.798462         11.588044    0.709488             0.0   67.156863   \n",
       "\n",
       "         ps        pb  \n",
       "0  6.383067  1.430224  \n",
       "1  5.677115  1.461822  \n",
       "2  4.625658  1.314168  \n",
       "3  6.244855  1.358811  \n",
       "4  5.149707  1.222281  \n",
       "\n",
       "[5 rows x 24 columns]"
      ]
     },
     "execution_count": 140,
     "metadata": {},
     "output_type": "execute_result"
    }
   ],
   "source": [
    "final_ratios.head()"
   ]
  },
  {
   "cell_type": "code",
   "execution_count": 141,
   "metadata": {},
   "outputs": [],
   "source": [
    "features_column_financial=[ 'OPM', 'NPM', 'ROA', 'ROE', 'EPS', 'BPS', 'DPS', 'cur_ratio',\n",
    "       'quick_ratio', 'cash_ratio', 'inv_turnover', 'acc_rec_turnover',\n",
    "       'acc_pay_turnover', 'debt_ratio', 'debt_to_equity', 'pe', 'ps', 'pb']"
   ]
  },
  {
   "cell_type": "code",
   "execution_count": 142,
   "metadata": {},
   "outputs": [],
   "source": [
    "def handle_nan(df,features_column_financial):\n",
    "    ##handle nan, inf\n",
    "    df=df.drop(list(df[df.adj_close_q==0].index)).reset_index(drop=True)\n",
    "    df['y_return'] = pd.to_numeric(df['y_return'], errors='coerce')\n",
    "    for col in features_column_financial:\n",
    "        df[col] = pd.to_numeric(df[col], errors='coerce')\n",
    "    df['y_return'].replace([np.nan,np.inf,-np.inf], np.nan, inplace=True)\n",
    "    df[features_column_financial].replace([np.nan, np.inf, -np.inf], np.nan, inplace=True)\n",
    "    dropped_col = []\n",
    "    for col in features_column_financial:\n",
    "        if np.any(~np.isfinite(df[col])):\n",
    "            df.drop(columns=[col], axis=1, inplace=True)\n",
    "    df.dropna(axis=0, inplace=True)\n",
    "    df=df.reset_index(drop=True)\n",
    "    print(\"dropped_col: \",dropped_col)\n",
    "    return df"
   ]
  },
  {
   "cell_type": "code",
   "execution_count": 143,
   "metadata": {},
   "outputs": [
    {
     "name": "stdout",
     "output_type": "stream",
     "text": [
      "dropped_col:  []\n"
     ]
    }
   ],
   "source": [
    "final_ratios=handle_nan(final_ratios,features_column_financial)"
   ]
  },
  {
   "cell_type": "code",
   "execution_count": 144,
   "metadata": {},
   "outputs": [],
   "source": [
    "final_ratios.date=final_ratios.date.apply(lambda x: x.strftime('%Y-%m-%d'))"
   ]
  },
  {
   "cell_type": "code",
   "execution_count": 145,
   "metadata": {},
   "outputs": [],
   "source": [
    "final_ratios.to_csv('outputs/final_ratios.csv')"
   ]
  },
  {
   "cell_type": "code",
   "execution_count": 146,
   "metadata": {},
   "outputs": [],
   "source": [
    "for sec, df_ in list(final_ratios.groupby('gsector')):\n",
    "    df_.to_excel(f\"outputs/sector{int(sec)}.xlsx\")"
   ]
  }
 ],
 "metadata": {
  "kernelspec": {
   "display_name": "Python 3",
   "language": "python",
   "name": "python3"
  },
  "language_info": {
   "codemirror_mode": {
    "name": "ipython",
    "version": 3
   },
   "file_extension": ".py",
   "mimetype": "text/x-python",
   "name": "python",
   "nbconvert_exporter": "python",
   "pygments_lexer": "ipython3",
   "version": "3.11.9"
  }
 },
 "nbformat": 4,
 "nbformat_minor": 2
}
