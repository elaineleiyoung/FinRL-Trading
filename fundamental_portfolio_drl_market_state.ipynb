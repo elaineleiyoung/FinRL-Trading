{
 "cells": [
  {
   "cell_type": "code",
   "execution_count": null,
   "id": "4bf9b109",
   "metadata": {},
   "outputs": [],
   "source": [
    "# 读取市场状态数据\n",
    "market_states = {}\n",
    "for sector in sectors:\n",
    "    try:\n",
    "        market_state_file = f\"results/sector{sector}/df_market_states.csv\"\n",
    "        if os.path.exists(market_state_file):\n",
    "            df_market_state = pd.read_csv(market_state_file, index_col=0)\n",
    "            for idx, row in df_market_state.iterrows():\n",
    "                date_str = idx if isinstance(idx, str) else idx.strftime('%Y-%m-%d')\n",
    "                market_states[date_str] = row.to_dict()\n",
    "    except:\n",
    "        pass\n",
    "\n",
    "# 在准备DRL环境时添加市场状态特征\n",
    "for idx in range(1, len(trade_date)):\n",
    "    # 现有代码...\n",
    "    \n",
    "    # 添加市场状态作为特征\n",
    "    if trade_date[idx-1] in market_states:\n",
    "        ms = market_states[trade_date[idx-1]]\n",
    "        # 创建市场状态特征列\n",
    "        market_state_features = []\n",
    "        \n",
    "        # 将市场状态转换为数值特征\n",
    "        if ms['state'] == 'Bull':\n",
    "            bull_indicator = 1\n",
    "            bear_indicator = 0\n",
    "            sideways_indicator = 0\n",
    "        elif ms['state'] == 'Bear':\n",
    "            bull_indicator = 0\n",
    "            bear_indicator = 1\n",
    "            sideways_indicator = 0\n",
    "        else:  # Sideways\n",
    "            bull_indicator = 0\n",
    "            bear_indicator = 0\n",
    "            sideways_indicator = 1\n",
    "            \n",
    "        # 为每一行数据添加市场状态特征\n",
    "        df_['bull_market'] = bull_indicator\n",
    "        df_['bear_market'] = bear_indicator\n",
    "        df_['sideways_market'] = sideways_indicator\n",
    "        df_['bull_confidence'] = ms.get('bull_confidence', 0)\n",
    "        df_['bear_confidence'] = ms.get('bear_confidence', 0)\n",
    "        df_['sideways_confidence'] = ms.get('sideways_confidence', 0)\n",
    "    \n",
    "    # 更新环境参数，添加市场状态特征\n",
    "    if 'bull_market' in df_.columns:\n",
    "        env_kwargs[\"tech_indicator_list\"] = config.INDICATORS + ['bull_market', 'bear_market', 'sideways_market', \n",
    "                                                                'bull_confidence', 'bear_confidence', 'sideways_confidence']\n",
    "    \n",
    "    # 训练DRL模型..."
   ]
  }
 ],
 "metadata": {
  "kernelspec": {
   "display_name": "Python 3 (ipykernel)",
   "language": "python",
   "name": "python3"
  },
  "language_info": {
   "codemirror_mode": {
    "name": "ipython",
    "version": 3
   },
   "file_extension": ".py",
   "mimetype": "text/x-python",
   "name": "python",
   "nbconvert_exporter": "python",
   "pygments_lexer": "ipython3",
   "version": "3.9.7"
  }
 },
 "nbformat": 4,
 "nbformat_minor": 5
}
