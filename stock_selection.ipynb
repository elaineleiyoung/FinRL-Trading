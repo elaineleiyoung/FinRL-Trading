{
 "cells": [
  {
   "cell_type": "code",
   "execution_count": 15,
   "metadata": {},
   "outputs": [],
   "source": [
    "import pandas as pd\n",
    "import time\n",
    "import os"
   ]
  },
  {
   "cell_type": "code",
   "execution_count": 16,
   "metadata": {},
   "outputs": [],
   "source": [
    "df = pd.read_csv(f\"results/sector{10}/df_predict_best.csv\", index_col=0)"
   ]
  },
  {
   "cell_type": "code",
   "execution_count": 17,
   "metadata": {},
   "outputs": [
    {
     "data": {
      "text/plain": [
       "Index(['2001-03-01', '2001-06-01', '2001-09-04', '2001-12-03', '2002-03-01',\n",
       "       '2002-06-03', '2002-09-03', '2002-12-02', '2003-03-03', '2003-06-02',\n",
       "       '2003-09-02', '2003-12-01', '2004-03-01', '2004-06-01', '2004-09-01',\n",
       "       '2004-12-01', '2005-03-01', '2005-06-01', '2005-09-01', '2005-12-01',\n",
       "       '2006-03-01', '2006-06-01', '2006-09-01', '2006-12-01', '2007-03-01',\n",
       "       '2007-06-01', '2007-09-04', '2007-12-03', '2008-03-03', '2008-06-02',\n",
       "       '2008-09-02', '2008-12-01', '2009-03-02', '2009-06-01', '2009-09-01',\n",
       "       '2009-12-01', '2010-03-01', '2010-06-01', '2010-09-01', '2010-12-01',\n",
       "       '2011-03-01', '2011-06-01', '2011-09-01', '2011-12-01', '2012-03-01',\n",
       "       '2012-06-01', '2012-09-04', '2012-12-03', '2013-03-01', '2013-06-03',\n",
       "       '2013-09-03', '2013-12-02', '2014-03-03', '2014-06-02', '2014-09-02',\n",
       "       '2014-12-01', '2015-03-02', '2015-06-01', '2015-09-01', '2015-12-01',\n",
       "       '2016-03-01', '2016-06-01', '2016-09-01', '2016-12-01', '2017-03-01',\n",
       "       '2017-06-01', '2017-09-01', '2017-12-01', '2018-03-01', '2018-06-01',\n",
       "       '2018-09-04', '2018-12-03', '2019-03-01', '2019-06-03', '2019-09-03',\n",
       "       '2019-12-02', '2020-03-02', '2020-06-01', '2020-09-01', '2020-12-01',\n",
       "       '2021-03-01', '2021-06-01', '2021-09-01', '2021-12-01', '2022-03-01',\n",
       "       '2022-06-01', '2022-09-01', '2022-12-01', '2023-03-01', '2023-06-01',\n",
       "       '2023-09-01', '2023-12-01', '2024-03-01', '2024-06-03', '2024-09-03',\n",
       "       '2024-12-02'],\n",
       "      dtype='object')"
      ]
     },
     "execution_count": 17,
     "metadata": {},
     "output_type": "execute_result"
    }
   ],
   "source": [
    "df.index"
   ]
  },
  {
   "cell_type": "code",
   "execution_count": 18,
   "metadata": {},
   "outputs": [],
   "source": [
    "sectors = list(range(10, 65, 5))"
   ]
  },
  {
   "cell_type": "code",
   "execution_count": 19,
   "metadata": {},
   "outputs": [],
   "source": [
    "#gvkey is unique identifier\n",
    "df_dict = {'gvkey':[], 'predicted_return':[], 'trade_date':[]}"
   ]
  },
  {
   "cell_type": "code",
   "execution_count": 20,
   "metadata": {},
   "outputs": [],
   "source": [
    "start=time.time()\n",
    "for sector in sectors:\n",
    "    # os.system(f\"python3 fundamental_run_model.py -sector_name sector{sector} -tic_column gvkey -fundamental final_ratios.csv -sector sector{sector}.xlsx \")\n",
    "    df = pd.read_csv(f\"results/sector{sector}/df_predict_best.csv\", index_col=0)\n",
    "    for idx in df.index:\n",
    "        predicted_return = df.loc[idx]\n",
    "        top_q = predicted_return.quantile(0.75)\n",
    "        predicted_return = predicted_return[predicted_return >= top_q]\n",
    "        for gvkey in predicted_return.index:\n",
    "            df_dict[\"gvkey\"].append(gvkey)\n",
    "            df_dict[\"predicted_return\"].append(predicted_return[gvkey])\n",
    "            df_dict[\"trade_date\"].append(idx)\n",
    "end=time.time()"
   ]
  },
  {
   "cell_type": "code",
   "execution_count": 21,
   "metadata": {},
   "outputs": [
    {
     "name": "stdout",
     "output_type": "stream",
     "text": [
      "it took  0.004703629016876221  minutes\n"
     ]
    }
   ],
   "source": [
    "print(\"it took \", (end-start)/60, ' minutes')"
   ]
  },
  {
   "cell_type": "code",
   "execution_count": 22,
   "metadata": {},
   "outputs": [],
   "source": [
    "df_result = pd.DataFrame(df_dict)"
   ]
  },
  {
   "cell_type": "code",
   "execution_count": 23,
   "metadata": {},
   "outputs": [],
   "source": [
    "df_result.to_csv(\"stock_selected.csv\")"
   ]
  },
  {
   "cell_type": "code",
   "execution_count": 24,
   "metadata": {},
   "outputs": [
    {
     "data": {
      "application/vnd.microsoft.datawrangler.viewer.v0+json": {
       "columns": [
        {
         "name": "index",
         "rawType": "int64",
         "type": "integer"
        },
        {
         "name": "gvkey",
         "rawType": "object",
         "type": "string"
        },
        {
         "name": "predicted_return",
         "rawType": "float64",
         "type": "float"
        },
        {
         "name": "trade_date",
         "rawType": "object",
         "type": "string"
        }
       ],
       "conversionMethod": "pd.DataFrame",
       "ref": "eadbf9a0-8ebf-42bf-889d-830eecba782d",
       "rows": [
        [
         "0",
         "1661",
         "0.0195276689995545",
         "2001-03-01"
        ],
        [
         "1",
         "2991",
         "0.0184052687257443",
         "2001-03-01"
        ],
        [
         "2",
         "5581",
         "0.0196990346864991",
         "2001-03-01"
        ],
        [
         "3",
         "7620",
         "0.0201533421819624",
         "2001-03-01"
        ],
        [
         "4",
         "11506",
         "0.0185969198916234",
         "2001-03-01"
        ]
       ],
       "shape": {
        "columns": 3,
        "rows": 5
       }
      },
      "text/html": [
       "<div>\n",
       "<style scoped>\n",
       "    .dataframe tbody tr th:only-of-type {\n",
       "        vertical-align: middle;\n",
       "    }\n",
       "\n",
       "    .dataframe tbody tr th {\n",
       "        vertical-align: top;\n",
       "    }\n",
       "\n",
       "    .dataframe thead th {\n",
       "        text-align: right;\n",
       "    }\n",
       "</style>\n",
       "<table border=\"1\" class=\"dataframe\">\n",
       "  <thead>\n",
       "    <tr style=\"text-align: right;\">\n",
       "      <th></th>\n",
       "      <th>gvkey</th>\n",
       "      <th>predicted_return</th>\n",
       "      <th>trade_date</th>\n",
       "    </tr>\n",
       "  </thead>\n",
       "  <tbody>\n",
       "    <tr>\n",
       "      <th>0</th>\n",
       "      <td>1661</td>\n",
       "      <td>0.019528</td>\n",
       "      <td>2001-03-01</td>\n",
       "    </tr>\n",
       "    <tr>\n",
       "      <th>1</th>\n",
       "      <td>2991</td>\n",
       "      <td>0.018405</td>\n",
       "      <td>2001-03-01</td>\n",
       "    </tr>\n",
       "    <tr>\n",
       "      <th>2</th>\n",
       "      <td>5581</td>\n",
       "      <td>0.019699</td>\n",
       "      <td>2001-03-01</td>\n",
       "    </tr>\n",
       "    <tr>\n",
       "      <th>3</th>\n",
       "      <td>7620</td>\n",
       "      <td>0.020153</td>\n",
       "      <td>2001-03-01</td>\n",
       "    </tr>\n",
       "    <tr>\n",
       "      <th>4</th>\n",
       "      <td>11506</td>\n",
       "      <td>0.018597</td>\n",
       "      <td>2001-03-01</td>\n",
       "    </tr>\n",
       "  </tbody>\n",
       "</table>\n",
       "</div>"
      ],
      "text/plain": [
       "   gvkey  predicted_return  trade_date\n",
       "0   1661          0.019528  2001-03-01\n",
       "1   2991          0.018405  2001-03-01\n",
       "2   5581          0.019699  2001-03-01\n",
       "3   7620          0.020153  2001-03-01\n",
       "4  11506          0.018597  2001-03-01"
      ]
     },
     "execution_count": 24,
     "metadata": {},
     "output_type": "execute_result"
    }
   ],
   "source": [
    "df_result.head()"
   ]
  },
  {
   "cell_type": "code",
   "execution_count": 25,
   "metadata": {},
   "outputs": [
    {
     "data": {
      "application/vnd.microsoft.datawrangler.viewer.v0+json": {
       "columns": [
        {
         "name": "index",
         "rawType": "int64",
         "type": "integer"
        },
        {
         "name": "gvkey",
         "rawType": "object",
         "type": "string"
        },
        {
         "name": "predicted_return",
         "rawType": "float64",
         "type": "float"
        },
        {
         "name": "trade_date",
         "rawType": "object",
         "type": "string"
        }
       ],
       "conversionMethod": "pd.DataFrame",
       "ref": "101b58bf-cd2d-4000-8e40-af8686b8122e",
       "rows": [
        [
         "0",
         "1661",
         "0.0195276689995545",
         "2001-03-01"
        ],
        [
         "12735",
         "12884",
         "0.1248006804736824",
         "2001-03-01"
        ],
        [
         "12734",
         "11636",
         "0.1227885233807689",
         "2001-03-01"
        ],
        [
         "12733",
         "10499",
         "0.114889843097568",
         "2001-03-01"
        ],
        [
         "12732",
         "10420",
         "0.1121418065209172",
         "2001-03-01"
        ],
        [
         "12731",
         "7343",
         "0.1202050107259574",
         "2001-03-01"
        ],
        [
         "12730",
         "3336",
         "0.1108285832454762",
         "2001-03-01"
        ],
        [
         "5075",
         "2255",
         "0.0213219001889228",
         "2001-03-01"
        ],
        [
         "5076",
         "5125",
         "0.0213219001889228",
         "2001-03-01"
        ],
        [
         "5077",
         "5680",
         "0.0272012408822774",
         "2001-03-01"
        ],
        [
         "5078",
         "6649",
         "0.0213219001889228",
         "2001-03-01"
        ],
        [
         "5079",
         "6733",
         "0.0213219001889228",
         "2001-03-01"
        ],
        [
         "5080",
         "6829",
         "0.0222925674170255",
         "2001-03-01"
        ],
        [
         "5081",
         "7154",
         "0.0213219001889228",
         "2001-03-01"
        ],
        [
         "5082",
         "7875",
         "0.0213219001889228",
         "2001-03-01"
        ],
        [
         "5083",
         "7906",
         "0.0213219001889228",
         "2001-03-01"
        ],
        [
         "5084",
         "7922",
         "0.0213219001889228",
         "2001-03-01"
        ],
        [
         "5085",
         "11060",
         "0.0224871486425399",
         "2001-03-01"
        ],
        [
         "5086",
         "13498",
         "0.023616824299097",
         "2001-03-01"
        ],
        [
         "5087",
         "14418",
         "0.0214348696172237",
         "2001-03-01"
        ],
        [
         "5088",
         "15520",
         "0.0213219001889228",
         "2001-03-01"
        ],
        [
         "5089",
         "23809",
         "0.0286441668868064",
         "2001-03-01"
        ],
        [
         "12736",
         "24800",
         "0.1306609143654315",
         "2001-03-01"
        ],
        [
         "12737",
         "27965",
         "0.1121520181682806",
         "2001-03-01"
        ],
        [
         "12738",
         "29241",
         "0.1306609143654315",
         "2001-03-01"
        ],
        [
         "12739",
         "61591",
         "0.1306609143654315",
         "2001-03-01"
        ],
        [
         "1966",
         "3497",
         "0.0182473333646534",
         "2001-03-01"
        ],
        [
         "1967",
         "4108",
         "0.0187634550189452",
         "2001-03-01"
        ],
        [
         "1968",
         "5783",
         "0.0184509217689287",
         "2001-03-01"
        ],
        [
         "1969",
         "6216",
         "0.0184763201610023",
         "2001-03-01"
        ],
        [
         "1970",
         "6268",
         "0.0184763201610023",
         "2001-03-01"
        ],
        [
         "1971",
         "6994",
         "0.0251292839221673",
         "2001-03-01"
        ],
        [
         "1972",
         "8253",
         "0.0301826071005175",
         "2001-03-01"
        ],
        [
         "1973",
         "8358",
         "0.0195559624031503",
         "2001-03-01"
        ],
        [
         "1974",
         "8463",
         "0.0182473333646534",
         "2001-03-01"
        ],
        [
         "1975",
         "9299",
         "0.0184763201610023",
         "2001-03-01"
        ],
        [
         "5090",
         "25434",
         "0.0223745293915271",
         "2001-03-01"
        ],
        [
         "1976",
         "14225",
         "0.0189242395677209",
         "2001-03-01"
        ],
        [
         "1978",
         "24617",
         "0.017977318167303",
         "2001-03-01"
        ],
        [
         "1979",
         "62823",
         "0.0193068383231944",
         "2001-03-01"
        ],
        [
         "1980",
         "66065",
         "0.0184763201610023",
         "2001-03-01"
        ],
        [
         "1981",
         "112168",
         "0.0207705108728511",
         "2001-03-01"
        ],
        [
         "7975",
         "2086",
         "0.037874907805576",
         "2001-03-01"
        ],
        [
         "12744",
         "125595",
         "0.1306609143654315",
         "2001-03-01"
        ],
        [
         "12743",
         "121718",
         "0.1248006804736824",
         "2001-03-01"
        ],
        [
         "12742",
         "66368",
         "0.1306609143654315",
         "2001-03-01"
        ],
        [
         "12741",
         "64356",
         "0.1306609143654315",
         "2001-03-01"
        ],
        [
         "12740",
         "63080",
         "0.1202050107259574",
         "2001-03-01"
        ],
        [
         "1977",
         "15267",
         "0.018192075652836",
         "2001-03-01"
        ],
        [
         "5091",
         "28118",
         "0.0213219001889228",
         "2001-03-01"
        ]
       ],
       "shape": {
        "columns": 3,
        "rows": 17551
       }
      },
      "text/html": [
       "<div>\n",
       "<style scoped>\n",
       "    .dataframe tbody tr th:only-of-type {\n",
       "        vertical-align: middle;\n",
       "    }\n",
       "\n",
       "    .dataframe tbody tr th {\n",
       "        vertical-align: top;\n",
       "    }\n",
       "\n",
       "    .dataframe thead th {\n",
       "        text-align: right;\n",
       "    }\n",
       "</style>\n",
       "<table border=\"1\" class=\"dataframe\">\n",
       "  <thead>\n",
       "    <tr style=\"text-align: right;\">\n",
       "      <th></th>\n",
       "      <th>gvkey</th>\n",
       "      <th>predicted_return</th>\n",
       "      <th>trade_date</th>\n",
       "    </tr>\n",
       "  </thead>\n",
       "  <tbody>\n",
       "    <tr>\n",
       "      <th>0</th>\n",
       "      <td>1661</td>\n",
       "      <td>0.019528</td>\n",
       "      <td>2001-03-01</td>\n",
       "    </tr>\n",
       "    <tr>\n",
       "      <th>12735</th>\n",
       "      <td>12884</td>\n",
       "      <td>0.124801</td>\n",
       "      <td>2001-03-01</td>\n",
       "    </tr>\n",
       "    <tr>\n",
       "      <th>12734</th>\n",
       "      <td>11636</td>\n",
       "      <td>0.122789</td>\n",
       "      <td>2001-03-01</td>\n",
       "    </tr>\n",
       "    <tr>\n",
       "      <th>12733</th>\n",
       "      <td>10499</td>\n",
       "      <td>0.114890</td>\n",
       "      <td>2001-03-01</td>\n",
       "    </tr>\n",
       "    <tr>\n",
       "      <th>12732</th>\n",
       "      <td>10420</td>\n",
       "      <td>0.112142</td>\n",
       "      <td>2001-03-01</td>\n",
       "    </tr>\n",
       "    <tr>\n",
       "      <th>...</th>\n",
       "      <td>...</td>\n",
       "      <td>...</td>\n",
       "      <td>...</td>\n",
       "    </tr>\n",
       "    <tr>\n",
       "      <th>5011</th>\n",
       "      <td>3580</td>\n",
       "      <td>0.019592</td>\n",
       "      <td>2024-12-02</td>\n",
       "    </tr>\n",
       "    <tr>\n",
       "      <th>5012</th>\n",
       "      <td>3650</td>\n",
       "      <td>0.019592</td>\n",
       "      <td>2024-12-02</td>\n",
       "    </tr>\n",
       "    <tr>\n",
       "      <th>5013</th>\n",
       "      <td>3851</td>\n",
       "      <td>0.019592</td>\n",
       "      <td>2024-12-02</td>\n",
       "    </tr>\n",
       "    <tr>\n",
       "      <th>5007</th>\n",
       "      <td>2285</td>\n",
       "      <td>0.027450</td>\n",
       "      <td>2024-12-02</td>\n",
       "    </tr>\n",
       "    <tr>\n",
       "      <th>17550</th>\n",
       "      <td>260774</td>\n",
       "      <td>0.011763</td>\n",
       "      <td>2024-12-02</td>\n",
       "    </tr>\n",
       "  </tbody>\n",
       "</table>\n",
       "<p>17551 rows × 3 columns</p>\n",
       "</div>"
      ],
      "text/plain": [
       "        gvkey  predicted_return  trade_date\n",
       "0        1661          0.019528  2001-03-01\n",
       "12735   12884          0.124801  2001-03-01\n",
       "12734   11636          0.122789  2001-03-01\n",
       "12733   10499          0.114890  2001-03-01\n",
       "12732   10420          0.112142  2001-03-01\n",
       "...       ...               ...         ...\n",
       "5011     3580          0.019592  2024-12-02\n",
       "5012     3650          0.019592  2024-12-02\n",
       "5013     3851          0.019592  2024-12-02\n",
       "5007     2285          0.027450  2024-12-02\n",
       "17550  260774          0.011763  2024-12-02\n",
       "\n",
       "[17551 rows x 3 columns]"
      ]
     },
     "execution_count": 25,
     "metadata": {},
     "output_type": "execute_result"
    }
   ],
   "source": [
    "df_result_sorted = df_result.sort_values('trade_date')\n",
    "df_result_sorted"
   ]
  }
 ],
 "metadata": {
  "kernelspec": {
   "display_name": "Python 3",
   "language": "python",
   "name": "python3"
  },
  "language_info": {
   "codemirror_mode": {
    "name": "ipython",
    "version": 3
   },
   "file_extension": ".py",
   "mimetype": "text/x-python",
   "name": "python",
   "nbconvert_exporter": "python",
   "pygments_lexer": "ipython3",
   "version": "3.11.9"
  },
  "vscode": {
   "interpreter": {
    "hash": "31f2aee4e71d21fbe5cf8b01ff0e069b9275f58929596ceb00d14d90e3e16cd6"
   }
  }
 },
 "nbformat": 4,
 "nbformat_minor": 2
}
