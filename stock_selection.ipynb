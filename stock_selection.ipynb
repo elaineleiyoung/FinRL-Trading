{
 "cells": [
  {
   "cell_type": "code",
   "execution_count": 5,
   "metadata": {},
   "outputs": [],
   "source": [
    "import pandas as pd\n",
    "import time\n",
    "import os"
   ]
  },
  {
   "cell_type": "code",
   "execution_count": 6,
   "metadata": {},
   "outputs": [],
   "source": [
    "sectors = range(10, 65, 5)"
   ]
  },
  {
   "cell_type": "code",
   "execution_count": 7,
   "metadata": {},
   "outputs": [],
   "source": [
    "#gvkey is unique identifier\n",
    "df_dict = {'gvkey':[], 'predicted_return':[], 'trade_date':[]}"
   ]
  },
  {
   "cell_type": "code",
   "execution_count": null,
   "metadata": {
    "scrolled": true
   },
   "outputs": [],
   "source": [
    "import subprocess\n",
    "start=time.time()\n",
    "for sector in sectors:\n",
    "    os.system(\n",
    "        f\"python3 ./fundamental_run_model.py \"\n",
    "        f\"-sector_name sector{sector} \"\n",
    "        f\"-tic_column gvkey \"\n",
    "        f\"-fundamental ./data_processor_update/outputs/final_ratios.csv \"\n",
    "        f\"-sector ./data_processor_update/outputs/sector{sector}.xlsx\"\n",
    "    )\n",
    "    df = pd.read_csv(f\"results/sector{sector}/df_predict_best.csv\", index_col=0)\n",
    "    print(df)\n",
    "    for idx in df.index:\n",
    "        predicted_return = df.loc[idx]\n",
    "        top_q = predicted_return.quantile(0.75)\n",
    "        predicted_return = predicted_return[predicted_return >= top_q]\n",
    "        for gvkey in predicted_return.index:\n",
    "            df_dict[\"gvkey\"].append(gvkey)\n",
    "            df_dict[\"predicted_return\"].append(predicted_return[gvkey])\n",
    "            df_dict[\"trade_date\"].append(idx)\n",
    "end=time.time()\n",
    "\n",
    "# import os\n",
    "# import subprocess\n",
    "# import time\n",
    "# import pandas as pd\n",
    "\n",
    "# # 1) Define the list of sectors you want to process:\n",
    "\n",
    "\n",
    "# # 2) Initialize df_dict to store results\n",
    "# df_dict = {\n",
    "#     \"gvkey\": [],\n",
    "#     \"predicted_return\": [],\n",
    "#     \"trade_date\": []\n",
    "# }\n",
    "\n",
    "# start = time.time()\n",
    "\n",
    "# for sector in sectors:\n",
    "#     # 3) Build the command to run fundamental_run_model.py\n",
    "#     # cmd_list = [\n",
    "#     #     \"python3\", \"./fundamental_run_model.py\",\n",
    "#     #     \"-sector_name\", f\"sector{sector}\",\n",
    "#     #     \"-tic_column\", \"gvkey\",\n",
    "#     #     \"-fundamental\", \"./data_processor_update/outputs/final_ratios.csv\",\n",
    "#     #     \"-sector\", f\"./data_processor_update/outputs/sector{sector}.xlsx\"\n",
    "#     # ]\n",
    "#     cmd_list = [\n",
    "#     \"python3\", \"fundamental_run_model.py\",\n",
    "#     \"-sector_name\", f\"sector{sector}\",\n",
    "#     \"-tic_column\", \"gvkey\",\n",
    "#     \"-fundamental\", \"./data_processor_update/outputs/final_ratios.csv\",\n",
    "#     \"-sector\", f\"./data_processor_update/outputs/sector{sector}.xlsx\"\n",
    "# ]\n",
    "\n",
    "#     result = subprocess.run(cmd_list, capture_output=True, text=True)\n",
    "#     print(\"Return code:\", result.returncode)  # 0 means success\n",
    "#     print(\"STDOUT:\", result.stdout)\n",
    "#     print(\"STDERR:\", result.stderr)\n",
    "\n",
    "#     print(\"Running:\", \" \".join(cmd_list))\n",
    "#     # 4) Use subprocess to run the script and capture output\n",
    "#     result = subprocess.run(cmd_list, capture_output=True, text=True)\n",
    "\n",
    "#     # 5) Check for errors and/or print debug info\n",
    "#     if result.returncode != 0:\n",
    "#         print(\"Error running fundamental_run_model.py:\\n\", result.stderr)\n",
    "#     else:\n",
    "#         print(result.stdout)\n",
    "\n",
    "#     # 6) Read the CSV file that fundamental_run_model.py produces\n",
    "#     csv_path = f\"results/sector{sector}/df_predict_best.csv\"\n",
    "#     df = pd.read_csv(csv_path, index_col=0)\n",
    "#     print(df.head())  # Optional: show a preview\n",
    "\n",
    "#     # 7) Take the top 25% (>= 75th quantile) for each date row in df\n",
    "#     for idx in df.index:\n",
    "#         predicted_return = df.loc[idx]\n",
    "#         top_q = predicted_return.quantile(0.75)\n",
    "#         predicted_return = predicted_return[predicted_return >= top_q]\n",
    "\n",
    "#         # 8) Append to df_dict\n",
    "#         for gvkey in predicted_return.index:\n",
    "#             df_dict[\"gvkey\"].append(gvkey)\n",
    "#             df_dict[\"predicted_return\"].append(predicted_return[gvkey])\n",
    "#             df_dict[\"trade_date\"].append(idx)\n",
    "\n",
    "# end = time.time()\n",
    "# print(\"Finished. Time Spent:\", (end - start)/60, \"minutes\")\n",
    "\n",
    "# # 9) If desired, save df_dict to a single CSV with aggregated results\n",
    "# df_result = pd.DataFrame(df_dict)\n",
    "# df_result.to_csv(\"top_quartile_results.csv\", index=False)\n",
    "# print(\"Aggregated results saved to top_quartile_results.csv\")\n"
   ]
  },
  {
   "cell_type": "code",
   "execution_count": null,
   "metadata": {},
   "outputs": [],
   "source": [
    "print(\"it took \", (end-start)/60, ' minutes')"
   ]
  },
  {
   "cell_type": "code",
   "execution_count": null,
   "metadata": {},
   "outputs": [],
   "source": [
    "df_result = pd.DataFrame(df_dict)"
   ]
  },
  {
   "cell_type": "code",
   "execution_count": null,
   "metadata": {},
   "outputs": [],
   "source": [
    "df_result.to_csv(\"stock_selected.csv\")"
   ]
  },
  {
   "cell_type": "code",
   "execution_count": null,
   "metadata": {},
   "outputs": [],
   "source": [
    "df_result.head()"
   ]
  }
 ],
 "metadata": {
  "kernelspec": {
   "display_name": "Python 3 (ipykernel)",
   "language": "python",
   "name": "python3"
  },
  "language_info": {
   "codemirror_mode": {
    "name": "ipython",
    "version": 3
   },
   "file_extension": ".py",
   "mimetype": "text/x-python",
   "name": "python",
   "nbconvert_exporter": "python",
   "pygments_lexer": "ipython3",
   "version": "3.12.8"
  },
  "vscode": {
   "interpreter": {
    "hash": "31f2aee4e71d21fbe5cf8b01ff0e069b9275f58929596ceb00d14d90e3e16cd6"
   }
  }
 },
 "nbformat": 4,
 "nbformat_minor": 4
}
