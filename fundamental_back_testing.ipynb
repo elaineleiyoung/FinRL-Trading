{
 "cells": [
  {
   "cell_type": "code",
   "execution_count": 3,
   "metadata": {
    "collapsed": true
   },
   "outputs": [],
   "source": [
    "import numpy as np\n",
    "import pandas as pd\n",
    "\n",
    "import time\n",
    "from datetime import datetime as dt\n",
    "\n",
    "import matplotlib.pyplot as plt\n",
    "import plotly\n",
    "import plotly.graph_objs as go\n"
   ]
  },
  {
   "cell_type": "markdown",
   "metadata": {},
   "source": [
    "# 1. Data Preparation"
   ]
  },
  {
   "cell_type": "markdown",
   "metadata": {},
   "source": [
    "3 datasets:\n",
    "\n",
    "S&P 500 daily adjusted price\n",
    "\n",
    "Mean-variance weights table\n",
    "\n",
    "Min-variance weights table"
   ]
  },
  {
   "cell_type": "code",
   "execution_count": 4,
   "metadata": {},
   "outputs": [],
   "source": [
    "data_adj = pd.read_csv(\"data_processor_update/outputs/final_ratios.csv\")\n",
    "weight_meanv = pd.read_excel('mean_weighted.xlsx')\n",
    "weight_minv = pd.read_excel('minimum_weighted.xlsx')\n",
    "weight_equal=pd.read_excel('equally_weighted.xlsx')"
   ]
  },
  {
   "cell_type": "code",
   "execution_count": 5,
   "metadata": {},
   "outputs": [
    {
     "data": {
      "text/html": [
       "<div>\n",
       "<style scoped>\n",
       "    .dataframe tbody tr th:only-of-type {\n",
       "        vertical-align: middle;\n",
       "    }\n",
       "\n",
       "    .dataframe tbody tr th {\n",
       "        vertical-align: top;\n",
       "    }\n",
       "\n",
       "    .dataframe thead th {\n",
       "        text-align: right;\n",
       "    }\n",
       "</style>\n",
       "<table border=\"1\" class=\"dataframe\">\n",
       "  <thead>\n",
       "    <tr style=\"text-align: right;\">\n",
       "      <th></th>\n",
       "      <th>Unnamed: 0</th>\n",
       "      <th>date</th>\n",
       "      <th>gvkey</th>\n",
       "      <th>tic</th>\n",
       "      <th>gsector</th>\n",
       "      <th>adj_close_q</th>\n",
       "      <th>y_return</th>\n",
       "      <th>EPS</th>\n",
       "      <th>BPS</th>\n",
       "      <th>DPS</th>\n",
       "      <th>cur_ratio</th>\n",
       "      <th>quick_ratio</th>\n",
       "      <th>cash_ratio</th>\n",
       "      <th>acc_rec_turnover</th>\n",
       "      <th>debt_ratio</th>\n",
       "      <th>debt_to_equity</th>\n",
       "      <th>pe</th>\n",
       "      <th>ps</th>\n",
       "      <th>pb</th>\n",
       "    </tr>\n",
       "  </thead>\n",
       "  <tbody>\n",
       "    <tr>\n",
       "      <th>0</th>\n",
       "      <td>0</td>\n",
       "      <td>1999-12-01</td>\n",
       "      <td>126554</td>\n",
       "      <td>A</td>\n",
       "      <td>35.0</td>\n",
       "      <td>25.871546</td>\n",
       "      <td>0.932748</td>\n",
       "      <td>1.35</td>\n",
       "      <td>8.900000</td>\n",
       "      <td>0.000</td>\n",
       "      <td>2.104700</td>\n",
       "      <td>0.972635</td>\n",
       "      <td>0.000000</td>\n",
       "      <td>0.000000</td>\n",
       "      <td>0.378766</td>\n",
       "      <td>0.000000</td>\n",
       "      <td>0.000000</td>\n",
       "      <td>0.000000</td>\n",
       "      <td>0.000000</td>\n",
       "    </tr>\n",
       "    <tr>\n",
       "      <th>1</th>\n",
       "      <td>1</td>\n",
       "      <td>2000-03-01</td>\n",
       "      <td>126554</td>\n",
       "      <td>A</td>\n",
       "      <td>35.0</td>\n",
       "      <td>65.752098</td>\n",
       "      <td>-0.402034</td>\n",
       "      <td>0.30</td>\n",
       "      <td>9.924779</td>\n",
       "      <td>0.000</td>\n",
       "      <td>2.410256</td>\n",
       "      <td>1.381229</td>\n",
       "      <td>0.682148</td>\n",
       "      <td>4.529412</td>\n",
       "      <td>0.368791</td>\n",
       "      <td>0.000000</td>\n",
       "      <td>330.937500</td>\n",
       "      <td>16.162480</td>\n",
       "      <td>6.668914</td>\n",
       "    </tr>\n",
       "    <tr>\n",
       "      <th>2</th>\n",
       "      <td>2</td>\n",
       "      <td>2000-06-01</td>\n",
       "      <td>126554</td>\n",
       "      <td>A</td>\n",
       "      <td>35.0</td>\n",
       "      <td>43.985371</td>\n",
       "      <td>-0.165343</td>\n",
       "      <td>0.67</td>\n",
       "      <td>10.263735</td>\n",
       "      <td>0.000</td>\n",
       "      <td>2.313358</td>\n",
       "      <td>1.311528</td>\n",
       "      <td>0.447392</td>\n",
       "      <td>3.380625</td>\n",
       "      <td>0.365934</td>\n",
       "      <td>0.000000</td>\n",
       "      <td>285.887097</td>\n",
       "      <td>18.712701</td>\n",
       "      <td>8.634771</td>\n",
       "    </tr>\n",
       "    <tr>\n",
       "      <th>3</th>\n",
       "      <td>3</td>\n",
       "      <td>2000-09-01</td>\n",
       "      <td>126554</td>\n",
       "      <td>A</td>\n",
       "      <td>35.0</td>\n",
       "      <td>37.282143</td>\n",
       "      <td>-0.154825</td>\n",
       "      <td>1.01</td>\n",
       "      <td>10.820834</td>\n",
       "      <td>0.000</td>\n",
       "      <td>2.129084</td>\n",
       "      <td>1.143426</td>\n",
       "      <td>0.280080</td>\n",
       "      <td>2.972312</td>\n",
       "      <td>0.373706</td>\n",
       "      <td>0.000000</td>\n",
       "      <td>127.343750</td>\n",
       "      <td>7.852132</td>\n",
       "      <td>3.765884</td>\n",
       "    </tr>\n",
       "    <tr>\n",
       "      <th>4</th>\n",
       "      <td>4</td>\n",
       "      <td>2000-12-01</td>\n",
       "      <td>126554</td>\n",
       "      <td>A</td>\n",
       "      <td>35.0</td>\n",
       "      <td>31.934578</td>\n",
       "      <td>-0.324580</td>\n",
       "      <td>1.68</td>\n",
       "      <td>11.597529</td>\n",
       "      <td>0.000</td>\n",
       "      <td>2.050399</td>\n",
       "      <td>1.159173</td>\n",
       "      <td>0.361131</td>\n",
       "      <td>2.882326</td>\n",
       "      <td>0.375074</td>\n",
       "      <td>0.000000</td>\n",
       "      <td>70.170455</td>\n",
       "      <td>6.968765</td>\n",
       "      <td>3.993307</td>\n",
       "    </tr>\n",
       "    <tr>\n",
       "      <th>...</th>\n",
       "      <td>...</td>\n",
       "      <td>...</td>\n",
       "      <td>...</td>\n",
       "      <td>...</td>\n",
       "      <td>...</td>\n",
       "      <td>...</td>\n",
       "      <td>...</td>\n",
       "      <td>...</td>\n",
       "      <td>...</td>\n",
       "      <td>...</td>\n",
       "      <td>...</td>\n",
       "      <td>...</td>\n",
       "      <td>...</td>\n",
       "      <td>...</td>\n",
       "      <td>...</td>\n",
       "      <td>...</td>\n",
       "      <td>...</td>\n",
       "      <td>...</td>\n",
       "      <td>...</td>\n",
       "    </tr>\n",
       "    <tr>\n",
       "      <th>63426</th>\n",
       "      <td>63426</td>\n",
       "      <td>2023-12-01</td>\n",
       "      <td>13721</td>\n",
       "      <td>ZTS</td>\n",
       "      <td>35.0</td>\n",
       "      <td>176.838669</td>\n",
       "      <td>0.065484</td>\n",
       "      <td>3.94</td>\n",
       "      <td>11.050541</td>\n",
       "      <td>0.375</td>\n",
       "      <td>3.869403</td>\n",
       "      <td>1.872512</td>\n",
       "      <td>1.090796</td>\n",
       "      <td>4.976929</td>\n",
       "      <td>0.640295</td>\n",
       "      <td>1.780055</td>\n",
       "      <td>134.868217</td>\n",
       "      <td>37.150632</td>\n",
       "      <td>15.756437</td>\n",
       "    </tr>\n",
       "    <tr>\n",
       "      <th>63427</th>\n",
       "      <td>63427</td>\n",
       "      <td>2024-03-01</td>\n",
       "      <td>13721</td>\n",
       "      <td>ZTS</td>\n",
       "      <td>35.0</td>\n",
       "      <td>188.806396</td>\n",
       "      <td>-0.098840</td>\n",
       "      <td>5.08</td>\n",
       "      <td>10.901745</td>\n",
       "      <td>0.375</td>\n",
       "      <td>3.357861</td>\n",
       "      <td>1.770778</td>\n",
       "      <td>1.080466</td>\n",
       "      <td>4.882669</td>\n",
       "      <td>0.650637</td>\n",
       "      <td>1.862352</td>\n",
       "      <td>173.131579</td>\n",
       "      <td>40.861741</td>\n",
       "      <td>18.126206</td>\n",
       "    </tr>\n",
       "    <tr>\n",
       "      <th>63428</th>\n",
       "      <td>63428</td>\n",
       "      <td>2024-06-03</td>\n",
       "      <td>13721</td>\n",
       "      <td>ZTS</td>\n",
       "      <td>35.0</td>\n",
       "      <td>171.037384</td>\n",
       "      <td>0.065329</td>\n",
       "      <td>1.31</td>\n",
       "      <td>11.069117</td>\n",
       "      <td>0.432</td>\n",
       "      <td>3.331063</td>\n",
       "      <td>1.711891</td>\n",
       "      <td>1.034573</td>\n",
       "      <td>5.063418</td>\n",
       "      <td>0.647895</td>\n",
       "      <td>1.840063</td>\n",
       "      <td>129.167939</td>\n",
       "      <td>35.273723</td>\n",
       "      <td>15.304830</td>\n",
       "    </tr>\n",
       "    <tr>\n",
       "      <th>63429</th>\n",
       "      <td>63429</td>\n",
       "      <td>2024-09-03</td>\n",
       "      <td>13721</td>\n",
       "      <td>ZTS</td>\n",
       "      <td>35.0</td>\n",
       "      <td>182.584076</td>\n",
       "      <td>-0.035154</td>\n",
       "      <td>2.68</td>\n",
       "      <td>10.942857</td>\n",
       "      <td>0.432</td>\n",
       "      <td>3.451308</td>\n",
       "      <td>1.645520</td>\n",
       "      <td>0.875904</td>\n",
       "      <td>4.741866</td>\n",
       "      <td>0.649841</td>\n",
       "      <td>1.855847</td>\n",
       "      <td>126.540146</td>\n",
       "      <td>33.307726</td>\n",
       "      <td>15.861461</td>\n",
       "    </tr>\n",
       "    <tr>\n",
       "      <th>63430</th>\n",
       "      <td>63430</td>\n",
       "      <td>2024-12-02</td>\n",
       "      <td>13721</td>\n",
       "      <td>ZTS</td>\n",
       "      <td>35.0</td>\n",
       "      <td>176.277084</td>\n",
       "      <td>0.000000</td>\n",
       "      <td>4.18</td>\n",
       "      <td>11.591186</td>\n",
       "      <td>0.432</td>\n",
       "      <td>3.690952</td>\n",
       "      <td>1.836075</td>\n",
       "      <td>1.007051</td>\n",
       "      <td>4.796598</td>\n",
       "      <td>0.635439</td>\n",
       "      <td>1.743026</td>\n",
       "      <td>129.390728</td>\n",
       "      <td>36.913740</td>\n",
       "      <td>16.855911</td>\n",
       "    </tr>\n",
       "  </tbody>\n",
       "</table>\n",
       "<p>63431 rows × 19 columns</p>\n",
       "</div>"
      ],
      "text/plain": [
       "       Unnamed: 0        date   gvkey  tic  gsector  adj_close_q  y_return  \\\n",
       "0               0  1999-12-01  126554    A     35.0    25.871546  0.932748   \n",
       "1               1  2000-03-01  126554    A     35.0    65.752098 -0.402034   \n",
       "2               2  2000-06-01  126554    A     35.0    43.985371 -0.165343   \n",
       "3               3  2000-09-01  126554    A     35.0    37.282143 -0.154825   \n",
       "4               4  2000-12-01  126554    A     35.0    31.934578 -0.324580   \n",
       "...           ...         ...     ...  ...      ...          ...       ...   \n",
       "63426       63426  2023-12-01   13721  ZTS     35.0   176.838669  0.065484   \n",
       "63427       63427  2024-03-01   13721  ZTS     35.0   188.806396 -0.098840   \n",
       "63428       63428  2024-06-03   13721  ZTS     35.0   171.037384  0.065329   \n",
       "63429       63429  2024-09-03   13721  ZTS     35.0   182.584076 -0.035154   \n",
       "63430       63430  2024-12-02   13721  ZTS     35.0   176.277084  0.000000   \n",
       "\n",
       "        EPS        BPS    DPS  cur_ratio  quick_ratio  cash_ratio  \\\n",
       "0      1.35   8.900000  0.000   2.104700     0.972635    0.000000   \n",
       "1      0.30   9.924779  0.000   2.410256     1.381229    0.682148   \n",
       "2      0.67  10.263735  0.000   2.313358     1.311528    0.447392   \n",
       "3      1.01  10.820834  0.000   2.129084     1.143426    0.280080   \n",
       "4      1.68  11.597529  0.000   2.050399     1.159173    0.361131   \n",
       "...     ...        ...    ...        ...          ...         ...   \n",
       "63426  3.94  11.050541  0.375   3.869403     1.872512    1.090796   \n",
       "63427  5.08  10.901745  0.375   3.357861     1.770778    1.080466   \n",
       "63428  1.31  11.069117  0.432   3.331063     1.711891    1.034573   \n",
       "63429  2.68  10.942857  0.432   3.451308     1.645520    0.875904   \n",
       "63430  4.18  11.591186  0.432   3.690952     1.836075    1.007051   \n",
       "\n",
       "       acc_rec_turnover  debt_ratio  debt_to_equity          pe         ps  \\\n",
       "0              0.000000    0.378766        0.000000    0.000000   0.000000   \n",
       "1              4.529412    0.368791        0.000000  330.937500  16.162480   \n",
       "2              3.380625    0.365934        0.000000  285.887097  18.712701   \n",
       "3              2.972312    0.373706        0.000000  127.343750   7.852132   \n",
       "4              2.882326    0.375074        0.000000   70.170455   6.968765   \n",
       "...                 ...         ...             ...         ...        ...   \n",
       "63426          4.976929    0.640295        1.780055  134.868217  37.150632   \n",
       "63427          4.882669    0.650637        1.862352  173.131579  40.861741   \n",
       "63428          5.063418    0.647895        1.840063  129.167939  35.273723   \n",
       "63429          4.741866    0.649841        1.855847  126.540146  33.307726   \n",
       "63430          4.796598    0.635439        1.743026  129.390728  36.913740   \n",
       "\n",
       "              pb  \n",
       "0       0.000000  \n",
       "1       6.668914  \n",
       "2       8.634771  \n",
       "3       3.765884  \n",
       "4       3.993307  \n",
       "...          ...  \n",
       "63426  15.756437  \n",
       "63427  18.126206  \n",
       "63428  15.304830  \n",
       "63429  15.861461  \n",
       "63430  16.855911  \n",
       "\n",
       "[63431 rows x 19 columns]"
      ]
     },
     "execution_count": 5,
     "metadata": {},
     "output_type": "execute_result"
    }
   ],
   "source": [
    "data_adj"
   ]
  },
  {
   "cell_type": "code",
   "execution_count": 6,
   "metadata": {},
   "outputs": [
    {
     "data": {
      "text/html": [
       "<div>\n",
       "<style scoped>\n",
       "    .dataframe tbody tr th:only-of-type {\n",
       "        vertical-align: middle;\n",
       "    }\n",
       "\n",
       "    .dataframe tbody tr th {\n",
       "        vertical-align: top;\n",
       "    }\n",
       "\n",
       "    .dataframe thead th {\n",
       "        text-align: right;\n",
       "    }\n",
       "</style>\n",
       "<table border=\"1\" class=\"dataframe\">\n",
       "  <thead>\n",
       "    <tr style=\"text-align: right;\">\n",
       "      <th></th>\n",
       "      <th>Unnamed: 0</th>\n",
       "      <th>trade_date</th>\n",
       "      <th>gvkey</th>\n",
       "      <th>weights</th>\n",
       "      <th>predicted_return</th>\n",
       "    </tr>\n",
       "  </thead>\n",
       "  <tbody>\n",
       "    <tr>\n",
       "      <th>0</th>\n",
       "      <td>0</td>\n",
       "      <td>2001-03-01</td>\n",
       "      <td>1078</td>\n",
       "      <td>0.00917</td>\n",
       "      <td>0.034301</td>\n",
       "    </tr>\n",
       "    <tr>\n",
       "      <th>1</th>\n",
       "      <td>1</td>\n",
       "      <td>2001-03-01</td>\n",
       "      <td>1661</td>\n",
       "      <td>0.00917</td>\n",
       "      <td>0.019528</td>\n",
       "    </tr>\n",
       "    <tr>\n",
       "      <th>2</th>\n",
       "      <td>2</td>\n",
       "      <td>2001-03-01</td>\n",
       "      <td>2086</td>\n",
       "      <td>0.00917</td>\n",
       "      <td>0.037875</td>\n",
       "    </tr>\n",
       "    <tr>\n",
       "      <th>3</th>\n",
       "      <td>3</td>\n",
       "      <td>2001-03-01</td>\n",
       "      <td>2220</td>\n",
       "      <td>0.00917</td>\n",
       "      <td>0.033051</td>\n",
       "    </tr>\n",
       "    <tr>\n",
       "      <th>4</th>\n",
       "      <td>4</td>\n",
       "      <td>2001-03-01</td>\n",
       "      <td>2255</td>\n",
       "      <td>0.00917</td>\n",
       "      <td>0.021322</td>\n",
       "    </tr>\n",
       "  </tbody>\n",
       "</table>\n",
       "</div>"
      ],
      "text/plain": [
       "   Unnamed: 0  trade_date  gvkey  weights  predicted_return\n",
       "0           0  2001-03-01   1078  0.00917          0.034301\n",
       "1           1  2001-03-01   1661  0.00917          0.019528\n",
       "2           2  2001-03-01   2086  0.00917          0.037875\n",
       "3           3  2001-03-01   2220  0.00917          0.033051\n",
       "4           4  2001-03-01   2255  0.00917          0.021322"
      ]
     },
     "execution_count": 6,
     "metadata": {},
     "output_type": "execute_result"
    }
   ],
   "source": [
    "weight_meanv.head()"
   ]
  },
  {
   "cell_type": "code",
   "execution_count": 7,
   "metadata": {},
   "outputs": [
    {
     "data": {
      "text/html": [
       "<div>\n",
       "<style scoped>\n",
       "    .dataframe tbody tr th:only-of-type {\n",
       "        vertical-align: middle;\n",
       "    }\n",
       "\n",
       "    .dataframe tbody tr th {\n",
       "        vertical-align: top;\n",
       "    }\n",
       "\n",
       "    .dataframe thead th {\n",
       "        text-align: right;\n",
       "    }\n",
       "</style>\n",
       "<table border=\"1\" class=\"dataframe\">\n",
       "  <thead>\n",
       "    <tr style=\"text-align: right;\">\n",
       "      <th></th>\n",
       "      <th>Unnamed: 0</th>\n",
       "      <th>trade_date</th>\n",
       "      <th>gvkey</th>\n",
       "      <th>weights</th>\n",
       "      <th>predicted_return</th>\n",
       "    </tr>\n",
       "  </thead>\n",
       "  <tbody>\n",
       "    <tr>\n",
       "      <th>0</th>\n",
       "      <td>0</td>\n",
       "      <td>2001-03-01</td>\n",
       "      <td>1078</td>\n",
       "      <td>0.00917</td>\n",
       "      <td>0.034301</td>\n",
       "    </tr>\n",
       "    <tr>\n",
       "      <th>1</th>\n",
       "      <td>1</td>\n",
       "      <td>2001-03-01</td>\n",
       "      <td>1661</td>\n",
       "      <td>0.00917</td>\n",
       "      <td>0.019528</td>\n",
       "    </tr>\n",
       "    <tr>\n",
       "      <th>2</th>\n",
       "      <td>2</td>\n",
       "      <td>2001-03-01</td>\n",
       "      <td>2086</td>\n",
       "      <td>0.00917</td>\n",
       "      <td>0.037875</td>\n",
       "    </tr>\n",
       "    <tr>\n",
       "      <th>3</th>\n",
       "      <td>3</td>\n",
       "      <td>2001-03-01</td>\n",
       "      <td>2220</td>\n",
       "      <td>0.00917</td>\n",
       "      <td>0.033051</td>\n",
       "    </tr>\n",
       "    <tr>\n",
       "      <th>4</th>\n",
       "      <td>4</td>\n",
       "      <td>2001-03-01</td>\n",
       "      <td>2255</td>\n",
       "      <td>0.00917</td>\n",
       "      <td>0.021322</td>\n",
       "    </tr>\n",
       "  </tbody>\n",
       "</table>\n",
       "</div>"
      ],
      "text/plain": [
       "   Unnamed: 0  trade_date  gvkey  weights  predicted_return\n",
       "0           0  2001-03-01   1078  0.00917          0.034301\n",
       "1           1  2001-03-01   1661  0.00917          0.019528\n",
       "2           2  2001-03-01   2086  0.00917          0.037875\n",
       "3           3  2001-03-01   2220  0.00917          0.033051\n",
       "4           4  2001-03-01   2255  0.00917          0.021322"
      ]
     },
     "execution_count": 7,
     "metadata": {},
     "output_type": "execute_result"
    }
   ],
   "source": [
    "weight_minv.head()"
   ]
  },
  {
   "cell_type": "code",
   "execution_count": 8,
   "metadata": {},
   "outputs": [
    {
     "data": {
      "text/html": [
       "<div>\n",
       "<style scoped>\n",
       "    .dataframe tbody tr th:only-of-type {\n",
       "        vertical-align: middle;\n",
       "    }\n",
       "\n",
       "    .dataframe tbody tr th {\n",
       "        vertical-align: top;\n",
       "    }\n",
       "\n",
       "    .dataframe thead th {\n",
       "        text-align: right;\n",
       "    }\n",
       "</style>\n",
       "<table border=\"1\" class=\"dataframe\">\n",
       "  <thead>\n",
       "    <tr style=\"text-align: right;\">\n",
       "      <th></th>\n",
       "      <th>Unnamed: 0</th>\n",
       "      <th>trade_date</th>\n",
       "      <th>gvkey</th>\n",
       "      <th>weights</th>\n",
       "      <th>predicted_return</th>\n",
       "    </tr>\n",
       "  </thead>\n",
       "  <tbody>\n",
       "    <tr>\n",
       "      <th>0</th>\n",
       "      <td>0</td>\n",
       "      <td>2001-03-01</td>\n",
       "      <td>1078</td>\n",
       "      <td>0.009174</td>\n",
       "      <td>0.034301</td>\n",
       "    </tr>\n",
       "    <tr>\n",
       "      <th>1</th>\n",
       "      <td>1</td>\n",
       "      <td>2001-03-01</td>\n",
       "      <td>1661</td>\n",
       "      <td>0.009174</td>\n",
       "      <td>0.019528</td>\n",
       "    </tr>\n",
       "    <tr>\n",
       "      <th>2</th>\n",
       "      <td>2</td>\n",
       "      <td>2001-03-01</td>\n",
       "      <td>2086</td>\n",
       "      <td>0.009174</td>\n",
       "      <td>0.037875</td>\n",
       "    </tr>\n",
       "    <tr>\n",
       "      <th>3</th>\n",
       "      <td>3</td>\n",
       "      <td>2001-03-01</td>\n",
       "      <td>2220</td>\n",
       "      <td>0.009174</td>\n",
       "      <td>0.033051</td>\n",
       "    </tr>\n",
       "    <tr>\n",
       "      <th>4</th>\n",
       "      <td>4</td>\n",
       "      <td>2001-03-01</td>\n",
       "      <td>2255</td>\n",
       "      <td>0.009174</td>\n",
       "      <td>0.021322</td>\n",
       "    </tr>\n",
       "  </tbody>\n",
       "</table>\n",
       "</div>"
      ],
      "text/plain": [
       "   Unnamed: 0  trade_date  gvkey   weights  predicted_return\n",
       "0           0  2001-03-01   1078  0.009174          0.034301\n",
       "1           1  2001-03-01   1661  0.009174          0.019528\n",
       "2           2  2001-03-01   2086  0.009174          0.037875\n",
       "3           3  2001-03-01   2220  0.009174          0.033051\n",
       "4           4  2001-03-01   2255  0.009174          0.021322"
      ]
     },
     "execution_count": 8,
     "metadata": {},
     "output_type": "execute_result"
    }
   ],
   "source": [
    "weight_equal.head()"
   ]
  },
  {
   "cell_type": "code",
   "execution_count": 9,
   "metadata": {},
   "outputs": [
    {
     "name": "stdout",
     "output_type": "stream",
     "text": [
      "17551 17551 17551\n"
     ]
    }
   ],
   "source": [
    "#the length of the 3 tables should be the same\n",
    "print(len(weight_meanv),\n",
    "len(weight_minv),\n",
    "len(weight_equal))\n"
   ]
  },
  {
   "cell_type": "markdown",
   "metadata": {},
   "source": []
  },
  {
   "cell_type": "code",
   "execution_count": null,
   "metadata": {
    "collapsed": true
   },
   "outputs": [],
   "source": []
  },
  {
   "cell_type": "markdown",
   "metadata": {},
   "source": [
    "## 1.1 Get stock name, trade date, daily date"
   ]
  },
  {
   "cell_type": "markdown",
   "metadata": {},
   "source": [
    "Add 20170901 as tradedate_full\n"
   ]
  },
  {
   "cell_type": "code",
   "execution_count": 10,
   "metadata": {
    "collapsed": true
   },
   "outputs": [],
   "source": [
    "#get unique stock name from table\n",
    "#stock names are the same between mean variance and minimum variance\n",
    "#only the weights are different\n",
    "stocks_name = list(set(weight_meanv['gvkey']))\n",
    "stocks_name.sort()"
   ]
  },
  {
   "cell_type": "code",
   "execution_count": 11,
   "metadata": {},
   "outputs": [
    {
     "data": {
      "text/plain": [
       "677"
      ]
     },
     "execution_count": 11,
     "metadata": {},
     "output_type": "execute_result"
    }
   ],
   "source": [
    "len(stocks_name)"
   ]
  },
  {
   "cell_type": "code",
   "execution_count": 12,
   "metadata": {},
   "outputs": [
    {
     "name": "stdout",
     "output_type": "stream",
     "text": [
      "<class 'pandas.core.series.Series'> <class 'list'>\n"
     ]
    }
   ],
   "source": [
    "#get all daily date\n",
    "#convert to list from pandas.core.series.Series\n",
    "#use set to get unique values\n",
    "daily = list(set(data_adj['date']))\n",
    "#sort it\n",
    "daily.sort()\n",
    "print(type(data_adj['date']),type(daily))"
   ]
  },
  {
   "cell_type": "code",
   "execution_count": 13,
   "metadata": {},
   "outputs": [
    {
     "data": {
      "text/plain": [
       "116"
      ]
     },
     "execution_count": 13,
     "metadata": {},
     "output_type": "execute_result"
    }
   ],
   "source": [
    "len(daily)\n"
   ]
  },
  {
   "cell_type": "code",
   "execution_count": 14,
   "metadata": {},
   "outputs": [],
   "source": [
    "#get unique trade date from table\n",
    "tradedate = list(set(weight_meanv['trade_date']))\n",
    "tradedate.sort()\n"
   ]
  },
  {
   "cell_type": "code",
   "execution_count": 15,
   "metadata": {},
   "outputs": [
    {
     "data": {
      "text/plain": [
       "['2001-03-01',\n",
       " '2001-06-01',\n",
       " '2001-09-04',\n",
       " '2001-12-03',\n",
       " '2002-03-01',\n",
       " '2002-06-03',\n",
       " '2002-09-03',\n",
       " '2002-12-02',\n",
       " '2003-03-03',\n",
       " '2003-06-02',\n",
       " '2003-09-02',\n",
       " '2003-12-01',\n",
       " '2004-03-01',\n",
       " '2004-06-01',\n",
       " '2004-09-01',\n",
       " '2004-12-01',\n",
       " '2005-03-01',\n",
       " '2005-06-01',\n",
       " '2005-09-01',\n",
       " '2005-12-01',\n",
       " '2006-03-01',\n",
       " '2006-06-01',\n",
       " '2006-09-01',\n",
       " '2006-12-01',\n",
       " '2007-03-01',\n",
       " '2007-06-01',\n",
       " '2007-09-04',\n",
       " '2007-12-03',\n",
       " '2008-03-03',\n",
       " '2008-06-02',\n",
       " '2008-09-02',\n",
       " '2008-12-01',\n",
       " '2009-03-02',\n",
       " '2009-06-01',\n",
       " '2009-09-01',\n",
       " '2009-12-01',\n",
       " '2010-03-01',\n",
       " '2010-06-01',\n",
       " '2010-09-01',\n",
       " '2010-12-01',\n",
       " '2011-03-01',\n",
       " '2011-06-01',\n",
       " '2011-09-01',\n",
       " '2011-12-01',\n",
       " '2012-03-01',\n",
       " '2012-06-01',\n",
       " '2012-09-04',\n",
       " '2012-12-03',\n",
       " '2013-03-01',\n",
       " '2013-06-03',\n",
       " '2013-09-03',\n",
       " '2013-12-02',\n",
       " '2014-03-03',\n",
       " '2014-06-02',\n",
       " '2014-09-02',\n",
       " '2014-12-01',\n",
       " '2015-03-02',\n",
       " '2015-06-01',\n",
       " '2015-09-01',\n",
       " '2015-12-01',\n",
       " '2016-03-01',\n",
       " '2016-06-01',\n",
       " '2016-09-01',\n",
       " '2016-12-01',\n",
       " '2017-03-01',\n",
       " '2017-06-01',\n",
       " '2017-09-01',\n",
       " '2017-12-01',\n",
       " '2018-03-01',\n",
       " '2018-06-01',\n",
       " '2018-09-04',\n",
       " '2018-12-03',\n",
       " '2019-03-01',\n",
       " '2019-06-03',\n",
       " '2019-09-03',\n",
       " '2019-12-02',\n",
       " '2020-03-02',\n",
       " '2020-06-01',\n",
       " '2020-09-01',\n",
       " '2020-12-01',\n",
       " '2021-03-01',\n",
       " '2021-06-01',\n",
       " '2021-09-01',\n",
       " '2021-12-01',\n",
       " '2022-03-01',\n",
       " '2022-06-01',\n",
       " '2022-09-01',\n",
       " '2022-12-01',\n",
       " '2023-03-01',\n",
       " '2023-06-01',\n",
       " '2023-09-01',\n",
       " '2023-12-01',\n",
       " '2024-03-01',\n",
       " '2024-06-03',\n",
       " '2024-09-03',\n",
       " '2024-12-02']"
      ]
     },
     "execution_count": 15,
     "metadata": {},
     "output_type": "execute_result"
    }
   ],
   "source": [
    "tradedate"
   ]
  },
  {
   "cell_type": "code",
   "execution_count": 16,
   "metadata": {},
   "outputs": [],
   "source": [
    "tradedate_full = [x for x in tradedate if x >= '2001-03-01']"
   ]
  },
  {
   "cell_type": "code",
   "execution_count": 17,
   "metadata": {},
   "outputs": [
    {
     "data": {
      "text/plain": [
       "['2001-03-01',\n",
       " '2001-06-01',\n",
       " '2001-09-04',\n",
       " '2001-12-03',\n",
       " '2002-03-01',\n",
       " '2002-06-03',\n",
       " '2002-09-03',\n",
       " '2002-12-02',\n",
       " '2003-03-03',\n",
       " '2003-06-02',\n",
       " '2003-09-02',\n",
       " '2003-12-01',\n",
       " '2004-03-01',\n",
       " '2004-06-01',\n",
       " '2004-09-01',\n",
       " '2004-12-01',\n",
       " '2005-03-01',\n",
       " '2005-06-01',\n",
       " '2005-09-01',\n",
       " '2005-12-01',\n",
       " '2006-03-01',\n",
       " '2006-06-01',\n",
       " '2006-09-01',\n",
       " '2006-12-01',\n",
       " '2007-03-01',\n",
       " '2007-06-01',\n",
       " '2007-09-04',\n",
       " '2007-12-03',\n",
       " '2008-03-03',\n",
       " '2008-06-02',\n",
       " '2008-09-02',\n",
       " '2008-12-01',\n",
       " '2009-03-02',\n",
       " '2009-06-01',\n",
       " '2009-09-01',\n",
       " '2009-12-01',\n",
       " '2010-03-01',\n",
       " '2010-06-01',\n",
       " '2010-09-01',\n",
       " '2010-12-01',\n",
       " '2011-03-01',\n",
       " '2011-06-01',\n",
       " '2011-09-01',\n",
       " '2011-12-01',\n",
       " '2012-03-01',\n",
       " '2012-06-01',\n",
       " '2012-09-04',\n",
       " '2012-12-03',\n",
       " '2013-03-01',\n",
       " '2013-06-03',\n",
       " '2013-09-03',\n",
       " '2013-12-02',\n",
       " '2014-03-03',\n",
       " '2014-06-02',\n",
       " '2014-09-02',\n",
       " '2014-12-01',\n",
       " '2015-03-02',\n",
       " '2015-06-01',\n",
       " '2015-09-01',\n",
       " '2015-12-01',\n",
       " '2016-03-01',\n",
       " '2016-06-01',\n",
       " '2016-09-01',\n",
       " '2016-12-01',\n",
       " '2017-03-01',\n",
       " '2017-06-01',\n",
       " '2017-09-01',\n",
       " '2017-12-01',\n",
       " '2018-03-01',\n",
       " '2018-06-01',\n",
       " '2018-09-04',\n",
       " '2018-12-03',\n",
       " '2019-03-01',\n",
       " '2019-06-03',\n",
       " '2019-09-03',\n",
       " '2019-12-02',\n",
       " '2020-03-02',\n",
       " '2020-06-01',\n",
       " '2020-09-01',\n",
       " '2020-12-01',\n",
       " '2021-03-01',\n",
       " '2021-06-01',\n",
       " '2021-09-01',\n",
       " '2021-12-01',\n",
       " '2022-03-01',\n",
       " '2022-06-01',\n",
       " '2022-09-01',\n",
       " '2022-12-01',\n",
       " '2023-03-01',\n",
       " '2023-06-01',\n",
       " '2023-09-01',\n",
       " '2023-12-01',\n",
       " '2024-03-01',\n",
       " '2024-06-03',\n",
       " '2024-09-03',\n",
       " '2024-12-02']"
      ]
     },
     "execution_count": 17,
     "metadata": {},
     "output_type": "execute_result"
    }
   ],
   "source": [
    "tradedate_full"
   ]
  },
  {
   "cell_type": "markdown",
   "metadata": {},
   "source": [
    "## 1.2 Get the daily price matrix based on stock_name"
   ]
  },
  {
   "cell_type": "code",
   "execution_count": 18,
   "metadata": {
    "collapsed": true
   },
   "outputs": [
    {
     "name": "stderr",
     "output_type": "stream",
     "text": [
      "C:\\Users\\misss\\AppData\\Local\\Temp\\ipykernel_31220\\1696695376.py:10: FutureWarning: Downcasting object dtype arrays on .fillna, .ffill, .bfill is deprecated and will change in a future version. Call result.infer_objects(copy=False) instead. To opt-in to the future behavior, set `pd.set_option('future.no_silent_downcasting', True)`\n",
      "  balance_daily = balance_daily.fillna(np.nan)\n"
     ]
    },
    {
     "name": "stdout",
     "output_type": "stream",
     "text": [
      "13.396374225616455\n"
     ]
    },
    {
     "name": "stderr",
     "output_type": "stream",
     "text": [
      "C:\\Users\\misss\\AppData\\Local\\Temp\\ipykernel_31220\\1696695376.py:26: FutureWarning: Starting with pandas version 3.0 all arguments of to_excel except for the argument 'excel_writer' will be keyword-only.\n",
      "  balance_daily.to_excel(writer2,'Sheet1')\n"
     ]
    }
   ],
   "source": [
    "#30mins running time\n",
    "##################match current all stocks to daily adjusted price table#######################\n",
    "# backtest daily price matrix:\n",
    "# covert original table to matrix\n",
    "# rows = all stocks: 971, columns = all dates:7155 days\n",
    "#\n",
    "start_time = time.time()\n",
    "\n",
    "balance_daily = pd.DataFrame(index = stocks_name, columns = daily)\n",
    "balance_daily = balance_daily.fillna(np.nan)\n",
    "\n",
    "for i in stocks_name:\n",
    "    ind = np.where(data_adj['gvkey'] == i)[0]\n",
    "    tmp = data_adj.loc[ind, :]\n",
    "    tmp.index = range(tmp.shape[0])\n",
    "    for j in daily:\n",
    "        ind2 = np.where(tmp['date'] == j)[0]\n",
    "        if(len(ind2) != 0):\n",
    "            balance_daily.loc[i,j] = tmp.loc[ind2[0], 'adj_close_q']\n",
    "\n",
    "elapsed_time = time.time() - start_time\n",
    "print(elapsed_time)\n",
    "writer2 = pd.ExcelWriter('balance_daily.xlsx')\n",
    "writer2 = pd.ExcelWriter('balance_daily_user8.xlsx')\n",
    "\n",
    "balance_daily.to_excel(writer2,'Sheet1')\n",
    "writer2.close()\n",
    "###############################################"
   ]
  },
  {
   "cell_type": "code",
   "execution_count": 19,
   "metadata": {
    "collapsed": true
   },
   "outputs": [],
   "source": [
    "balance_daily = pd.read_excel('balance_daily_user8.xlsx', index_col=0)\n"
   ]
  },
  {
   "cell_type": "code",
   "execution_count": 20,
   "metadata": {},
   "outputs": [
    {
     "data": {
      "text/html": [
       "<div>\n",
       "<style scoped>\n",
       "    .dataframe tbody tr th:only-of-type {\n",
       "        vertical-align: middle;\n",
       "    }\n",
       "\n",
       "    .dataframe tbody tr th {\n",
       "        vertical-align: top;\n",
       "    }\n",
       "\n",
       "    .dataframe thead th {\n",
       "        text-align: right;\n",
       "    }\n",
       "</style>\n",
       "<table border=\"1\" class=\"dataframe\">\n",
       "  <thead>\n",
       "    <tr style=\"text-align: right;\">\n",
       "      <th></th>\n",
       "      <th>1996-03-01</th>\n",
       "      <th>1996-06-03</th>\n",
       "      <th>1996-09-03</th>\n",
       "      <th>1996-12-02</th>\n",
       "      <th>1997-03-03</th>\n",
       "      <th>1997-06-02</th>\n",
       "      <th>1997-09-02</th>\n",
       "      <th>1997-12-01</th>\n",
       "      <th>1998-03-02</th>\n",
       "      <th>1998-06-01</th>\n",
       "      <th>...</th>\n",
       "      <th>2022-09-01</th>\n",
       "      <th>2022-12-01</th>\n",
       "      <th>2023-03-01</th>\n",
       "      <th>2023-06-01</th>\n",
       "      <th>2023-09-01</th>\n",
       "      <th>2023-12-01</th>\n",
       "      <th>2024-03-01</th>\n",
       "      <th>2024-06-03</th>\n",
       "      <th>2024-09-03</th>\n",
       "      <th>2024-12-02</th>\n",
       "    </tr>\n",
       "  </thead>\n",
       "  <tbody>\n",
       "    <tr>\n",
       "      <th>1045</th>\n",
       "      <td>NaN</td>\n",
       "      <td>NaN</td>\n",
       "      <td>NaN</td>\n",
       "      <td>NaN</td>\n",
       "      <td>NaN</td>\n",
       "      <td>NaN</td>\n",
       "      <td>NaN</td>\n",
       "      <td>NaN</td>\n",
       "      <td>NaN</td>\n",
       "      <td>NaN</td>\n",
       "      <td>...</td>\n",
       "      <td>12.930000</td>\n",
       "      <td>13.980000</td>\n",
       "      <td>16.030001</td>\n",
       "      <td>14.700000</td>\n",
       "      <td>14.680000</td>\n",
       "      <td>13.020000</td>\n",
       "      <td>15.660000</td>\n",
       "      <td>11.530000</td>\n",
       "      <td>10.600000</td>\n",
       "      <td>14.610000</td>\n",
       "    </tr>\n",
       "    <tr>\n",
       "      <th>1075</th>\n",
       "      <td>NaN</td>\n",
       "      <td>7.730066</td>\n",
       "      <td>8.389183</td>\n",
       "      <td>9.284263</td>\n",
       "      <td>9.478542</td>\n",
       "      <td>8.999684</td>\n",
       "      <td>10.055619</td>\n",
       "      <td>12.135516</td>\n",
       "      <td>12.712487</td>\n",
       "      <td>14.311364</td>\n",
       "      <td>...</td>\n",
       "      <td>67.808128</td>\n",
       "      <td>70.360054</td>\n",
       "      <td>67.065178</td>\n",
       "      <td>70.373497</td>\n",
       "      <td>71.014015</td>\n",
       "      <td>71.022690</td>\n",
       "      <td>65.187202</td>\n",
       "      <td>74.559937</td>\n",
       "      <td>86.479935</td>\n",
       "      <td>91.468803</td>\n",
       "    </tr>\n",
       "    <tr>\n",
       "      <th>1078</th>\n",
       "      <td>NaN</td>\n",
       "      <td>4.717293</td>\n",
       "      <td>5.064067</td>\n",
       "      <td>6.179262</td>\n",
       "      <td>6.434070</td>\n",
       "      <td>7.102882</td>\n",
       "      <td>7.082232</td>\n",
       "      <td>7.690752</td>\n",
       "      <td>8.631998</td>\n",
       "      <td>8.442722</td>\n",
       "      <td>...</td>\n",
       "      <td>99.775932</td>\n",
       "      <td>103.201340</td>\n",
       "      <td>96.848946</td>\n",
       "      <td>99.253922</td>\n",
       "      <td>99.759033</td>\n",
       "      <td>102.291161</td>\n",
       "      <td>116.250908</td>\n",
       "      <td>101.315460</td>\n",
       "      <td>113.526405</td>\n",
       "      <td>116.200218</td>\n",
       "    </tr>\n",
       "    <tr>\n",
       "      <th>1161</th>\n",
       "      <td>NaN</td>\n",
       "      <td>8.750000</td>\n",
       "      <td>6.250000</td>\n",
       "      <td>12.687500</td>\n",
       "      <td>17.937500</td>\n",
       "      <td>19.875000</td>\n",
       "      <td>19.437500</td>\n",
       "      <td>11.281250</td>\n",
       "      <td>11.125000</td>\n",
       "      <td>9.625000</td>\n",
       "      <td>...</td>\n",
       "      <td>82.330002</td>\n",
       "      <td>77.480003</td>\n",
       "      <td>78.290001</td>\n",
       "      <td>119.470001</td>\n",
       "      <td>109.449997</td>\n",
       "      <td>121.389999</td>\n",
       "      <td>202.639999</td>\n",
       "      <td>163.550003</td>\n",
       "      <td>136.940002</td>\n",
       "      <td>142.059998</td>\n",
       "    </tr>\n",
       "    <tr>\n",
       "      <th>1209</th>\n",
       "      <td>NaN</td>\n",
       "      <td>14.317203</td>\n",
       "      <td>13.027093</td>\n",
       "      <td>17.007317</td>\n",
       "      <td>17.958735</td>\n",
       "      <td>19.500549</td>\n",
       "      <td>20.691166</td>\n",
       "      <td>19.316851</td>\n",
       "      <td>20.720919</td>\n",
       "      <td>21.759985</td>\n",
       "      <td>...</td>\n",
       "      <td>234.675720</td>\n",
       "      <td>294.974731</td>\n",
       "      <td>273.939209</td>\n",
       "      <td>261.215149</td>\n",
       "      <td>286.679657</td>\n",
       "      <td>263.875183</td>\n",
       "      <td>229.880035</td>\n",
       "      <td>265.820160</td>\n",
       "      <td>271.884644</td>\n",
       "      <td>333.571838</td>\n",
       "    </tr>\n",
       "    <tr>\n",
       "      <th>...</th>\n",
       "      <td>...</td>\n",
       "      <td>...</td>\n",
       "      <td>...</td>\n",
       "      <td>...</td>\n",
       "      <td>...</td>\n",
       "      <td>...</td>\n",
       "      <td>...</td>\n",
       "      <td>...</td>\n",
       "      <td>...</td>\n",
       "      <td>...</td>\n",
       "      <td>...</td>\n",
       "      <td>...</td>\n",
       "      <td>...</td>\n",
       "      <td>...</td>\n",
       "      <td>...</td>\n",
       "      <td>...</td>\n",
       "      <td>...</td>\n",
       "      <td>...</td>\n",
       "      <td>...</td>\n",
       "      <td>...</td>\n",
       "      <td>...</td>\n",
       "    </tr>\n",
       "    <tr>\n",
       "      <th>294524</th>\n",
       "      <td>NaN</td>\n",
       "      <td>NaN</td>\n",
       "      <td>NaN</td>\n",
       "      <td>NaN</td>\n",
       "      <td>NaN</td>\n",
       "      <td>NaN</td>\n",
       "      <td>NaN</td>\n",
       "      <td>NaN</td>\n",
       "      <td>NaN</td>\n",
       "      <td>NaN</td>\n",
       "      <td>...</td>\n",
       "      <td>72.438545</td>\n",
       "      <td>75.924255</td>\n",
       "      <td>87.442062</td>\n",
       "      <td>79.818817</td>\n",
       "      <td>94.209686</td>\n",
       "      <td>90.294510</td>\n",
       "      <td>95.216087</td>\n",
       "      <td>92.683456</td>\n",
       "      <td>94.180946</td>\n",
       "      <td>82.050003</td>\n",
       "    </tr>\n",
       "    <tr>\n",
       "      <th>312009</th>\n",
       "      <td>NaN</td>\n",
       "      <td>NaN</td>\n",
       "      <td>NaN</td>\n",
       "      <td>NaN</td>\n",
       "      <td>NaN</td>\n",
       "      <td>NaN</td>\n",
       "      <td>NaN</td>\n",
       "      <td>NaN</td>\n",
       "      <td>NaN</td>\n",
       "      <td>NaN</td>\n",
       "      <td>...</td>\n",
       "      <td>9.065766</td>\n",
       "      <td>10.765805</td>\n",
       "      <td>14.564113</td>\n",
       "      <td>12.180532</td>\n",
       "      <td>15.303938</td>\n",
       "      <td>18.491840</td>\n",
       "      <td>21.097977</td>\n",
       "      <td>26.536190</td>\n",
       "      <td>22.375109</td>\n",
       "      <td>15.710000</td>\n",
       "    </tr>\n",
       "    <tr>\n",
       "      <th>316056</th>\n",
       "      <td>NaN</td>\n",
       "      <td>NaN</td>\n",
       "      <td>NaN</td>\n",
       "      <td>NaN</td>\n",
       "      <td>NaN</td>\n",
       "      <td>NaN</td>\n",
       "      <td>NaN</td>\n",
       "      <td>NaN</td>\n",
       "      <td>NaN</td>\n",
       "      <td>NaN</td>\n",
       "      <td>...</td>\n",
       "      <td>92.766258</td>\n",
       "      <td>111.007080</td>\n",
       "      <td>109.401260</td>\n",
       "      <td>102.390770</td>\n",
       "      <td>112.585030</td>\n",
       "      <td>107.092667</td>\n",
       "      <td>125.412460</td>\n",
       "      <td>119.613861</td>\n",
       "      <td>136.542542</td>\n",
       "      <td>140.399994</td>\n",
       "    </tr>\n",
       "    <tr>\n",
       "      <th>322985</th>\n",
       "      <td>NaN</td>\n",
       "      <td>NaN</td>\n",
       "      <td>NaN</td>\n",
       "      <td>NaN</td>\n",
       "      <td>NaN</td>\n",
       "      <td>NaN</td>\n",
       "      <td>NaN</td>\n",
       "      <td>NaN</td>\n",
       "      <td>NaN</td>\n",
       "      <td>NaN</td>\n",
       "      <td>...</td>\n",
       "      <td>NaN</td>\n",
       "      <td>NaN</td>\n",
       "      <td>NaN</td>\n",
       "      <td>NaN</td>\n",
       "      <td>NaN</td>\n",
       "      <td>NaN</td>\n",
       "      <td>11.751506</td>\n",
       "      <td>14.251513</td>\n",
       "      <td>11.460000</td>\n",
       "      <td>NaN</td>\n",
       "    </tr>\n",
       "    <tr>\n",
       "      <th>327675</th>\n",
       "      <td>NaN</td>\n",
       "      <td>NaN</td>\n",
       "      <td>NaN</td>\n",
       "      <td>NaN</td>\n",
       "      <td>NaN</td>\n",
       "      <td>NaN</td>\n",
       "      <td>NaN</td>\n",
       "      <td>NaN</td>\n",
       "      <td>NaN</td>\n",
       "      <td>NaN</td>\n",
       "      <td>...</td>\n",
       "      <td>NaN</td>\n",
       "      <td>NaN</td>\n",
       "      <td>NaN</td>\n",
       "      <td>NaN</td>\n",
       "      <td>NaN</td>\n",
       "      <td>NaN</td>\n",
       "      <td>26.618521</td>\n",
       "      <td>33.281895</td>\n",
       "      <td>29.687500</td>\n",
       "      <td>21.410000</td>\n",
       "    </tr>\n",
       "  </tbody>\n",
       "</table>\n",
       "<p>677 rows × 116 columns</p>\n",
       "</div>"
      ],
      "text/plain": [
       "        1996-03-01  1996-06-03  1996-09-03  1996-12-02  1997-03-03  \\\n",
       "1045           NaN         NaN         NaN         NaN         NaN   \n",
       "1075           NaN    7.730066    8.389183    9.284263    9.478542   \n",
       "1078           NaN    4.717293    5.064067    6.179262    6.434070   \n",
       "1161           NaN    8.750000    6.250000   12.687500   17.937500   \n",
       "1209           NaN   14.317203   13.027093   17.007317   17.958735   \n",
       "...            ...         ...         ...         ...         ...   \n",
       "294524         NaN         NaN         NaN         NaN         NaN   \n",
       "312009         NaN         NaN         NaN         NaN         NaN   \n",
       "316056         NaN         NaN         NaN         NaN         NaN   \n",
       "322985         NaN         NaN         NaN         NaN         NaN   \n",
       "327675         NaN         NaN         NaN         NaN         NaN   \n",
       "\n",
       "        1997-06-02  1997-09-02  1997-12-01  1998-03-02  1998-06-01  ...  \\\n",
       "1045           NaN         NaN         NaN         NaN         NaN  ...   \n",
       "1075      8.999684   10.055619   12.135516   12.712487   14.311364  ...   \n",
       "1078      7.102882    7.082232    7.690752    8.631998    8.442722  ...   \n",
       "1161     19.875000   19.437500   11.281250   11.125000    9.625000  ...   \n",
       "1209     19.500549   20.691166   19.316851   20.720919   21.759985  ...   \n",
       "...            ...         ...         ...         ...         ...  ...   \n",
       "294524         NaN         NaN         NaN         NaN         NaN  ...   \n",
       "312009         NaN         NaN         NaN         NaN         NaN  ...   \n",
       "316056         NaN         NaN         NaN         NaN         NaN  ...   \n",
       "322985         NaN         NaN         NaN         NaN         NaN  ...   \n",
       "327675         NaN         NaN         NaN         NaN         NaN  ...   \n",
       "\n",
       "        2022-09-01  2022-12-01  2023-03-01  2023-06-01  2023-09-01  \\\n",
       "1045     12.930000   13.980000   16.030001   14.700000   14.680000   \n",
       "1075     67.808128   70.360054   67.065178   70.373497   71.014015   \n",
       "1078     99.775932  103.201340   96.848946   99.253922   99.759033   \n",
       "1161     82.330002   77.480003   78.290001  119.470001  109.449997   \n",
       "1209    234.675720  294.974731  273.939209  261.215149  286.679657   \n",
       "...            ...         ...         ...         ...         ...   \n",
       "294524   72.438545   75.924255   87.442062   79.818817   94.209686   \n",
       "312009    9.065766   10.765805   14.564113   12.180532   15.303938   \n",
       "316056   92.766258  111.007080  109.401260  102.390770  112.585030   \n",
       "322985         NaN         NaN         NaN         NaN         NaN   \n",
       "327675         NaN         NaN         NaN         NaN         NaN   \n",
       "\n",
       "        2023-12-01  2024-03-01  2024-06-03  2024-09-03  2024-12-02  \n",
       "1045     13.020000   15.660000   11.530000   10.600000   14.610000  \n",
       "1075     71.022690   65.187202   74.559937   86.479935   91.468803  \n",
       "1078    102.291161  116.250908  101.315460  113.526405  116.200218  \n",
       "1161    121.389999  202.639999  163.550003  136.940002  142.059998  \n",
       "1209    263.875183  229.880035  265.820160  271.884644  333.571838  \n",
       "...            ...         ...         ...         ...         ...  \n",
       "294524   90.294510   95.216087   92.683456   94.180946   82.050003  \n",
       "312009   18.491840   21.097977   26.536190   22.375109   15.710000  \n",
       "316056  107.092667  125.412460  119.613861  136.542542  140.399994  \n",
       "322985         NaN   11.751506   14.251513   11.460000         NaN  \n",
       "327675         NaN   26.618521   33.281895   29.687500   21.410000  \n",
       "\n",
       "[677 rows x 116 columns]"
      ]
     },
     "execution_count": 20,
     "metadata": {},
     "output_type": "execute_result"
    }
   ],
   "source": [
    "balance_daily"
   ]
  },
  {
   "cell_type": "markdown",
   "metadata": {},
   "source": [
    "# 2. Function: calculate the rebalance matrix:"
   ]
  },
  {
   "cell_type": "markdown",
   "metadata": {},
   "source": [
    "1. shares table\n",
    "2. cost table\n",
    "3. cash table\n",
    "4. portfolio table\n",
    "5. portfolio_cost table\n",
    "6. portfolio_return table\n",
    "7. portfolio_cumsum table"
   ]
  },
  {
   "cell_type": "code",
   "execution_count": 21,
   "metadata": {
    "collapsed": true
   },
   "outputs": [],
   "source": [
    "# set initial capital to 1 million and transaction percet to 0.1%\n",
    "\n",
    "capital = 1000000\n",
    "transaction_percent = 1/1000"
   ]
  },
  {
   "cell_type": "code",
   "execution_count": 22,
   "metadata": {},
   "outputs": [
    {
     "data": {
      "text/plain": [
       "(17551, 5)"
      ]
     },
     "execution_count": 22,
     "metadata": {},
     "output_type": "execute_result"
    }
   ],
   "source": [
    "weight_meanv.shape"
   ]
  },
  {
   "cell_type": "code",
   "execution_count": 23,
   "metadata": {
    "collapsed": true
   },
   "outputs": [],
   "source": [
    "#construct an empty matrix\n",
    "#rows are stocks: 971 unique stocks\n",
    "#columns are trade dates\n",
    "#name the index as stock names\n",
    "\n",
    "def cal_portfolio(stocks_name,tradedate, weight_table, capital, transaction_percent):\n",
    "\n",
    "\n",
    "    balance_weight = pd.DataFrame(index = stocks_name, columns = tradedate)\n",
    "    balance_weight = balance_weight.fillna(0)\n",
    "    \n",
    "    #loop through the weights table to fill the matrix\n",
    "    #need weight tabele\n",
    "    #0. weights table\n",
    "    for i in range(weight_table.shape[0]):\n",
    "        tics = weight_table.loc[i, 'gvkey']\n",
    "        date = weight_table.loc[i, 'trade_date']\n",
    "        w = weight_table.loc[i, 'weights']\n",
    "        balance_weight.loc[tics, date] = w\n",
    "        \n",
    "    #1. shares table\n",
    "    balance_share = pd.DataFrame(index = stocks_name, columns = tradedate)\n",
    "    balance_share['initial'] = 0\n",
    "    balance_share = balance_share.fillna(0)\n",
    "    #2. costs table\n",
    "    balance_cost = pd.DataFrame(index = stocks_name, columns = tradedate)\n",
    "    balance_cost = balance_cost.fillna(0)\n",
    "    #3. cash table\n",
    "    balance_cash = pd.DataFrame(index = stocks_name, columns = tradedate)\n",
    "    balance_cash = balance_cash.fillna(0)\n",
    "\n",
    "    #4. portfolio without transaction costs table \n",
    "    portfolio = pd.DataFrame(index = range(1), columns = tradedate_full)\n",
    "    portfolio.loc[0,tradedate[0]] = capital\n",
    "    \n",
    "    \n",
    "    # calculate portfolio value without cost\n",
    "    balance_price_full = []\n",
    "    balance_price_full = balance_daily[tradedate_full]\n",
    "    balance_price = balance_daily[tradedate]\n",
    "    balance_price.replace([0, np.inf, -np.inf], np.nan, inplace=True)\n",
    "    for j in range(len(tradedate) - 1):\n",
    "        i = tradedate[j]\n",
    "        #current capital\n",
    "        cap = portfolio.loc[0, i]\n",
    "        #\n",
    "        balance_cash[i] = cap * balance_weight[i]\n",
    "        balance_share[i] = list(np.array(balance_cash[i])\n",
    "                                      / np.array(balance_price[i]))\n",
    "        balance_share[i] = balance_share[i].fillna(0)\n",
    "        balance_share[i] = balance_share[i].astype(int)\n",
    "        #next quarter price * current share to calculate next quarter total account value\n",
    "        a = balance_price_full[tradedate_full[j+1]].fillna(0)\n",
    "        portfolio.loc[0, tradedate_full[j+1]] = np.dot(balance_share[i], a)\n",
    "\n",
    "    balance_cost = abs(np.diff(balance_share, axis = 1))\n",
    "    balance_cost = balance_cost * balance_price\n",
    "    balance_cost = np.sum(balance_cost, axis = 0) * transaction_percent\n",
    "    \n",
    "    #5. portfolio with transaction cost table\n",
    "    #calcualte portolio value with transaction cost\n",
    "    balance_cost.index = tradedate_full\n",
    "    portfolio_cost = []\n",
    "    portfolio_cost = portfolio.loc[0,] - balance_cost\n",
    "    portfolio_cost.index = tradedate_full\n",
    "    portfolio_cost_value = portfolio_cost.copy()\n",
    "    \n",
    "    #6. portfolio return P&L table\n",
    "    portfolio_cumsum = portfolio_cost_value.copy()\n",
    "    portfolio_cumsum.index = range(len(portfolio_cumsum))\n",
    "    tmp = portfolio_cumsum.shift(1)\n",
    "    tmp[0] = 0\n",
    "    tmp.index = tradedate_full\n",
    "\n",
    "    portfolio_cumsum = portfolio_cost_value- tmp\n",
    "    portfolio_cumsum.index = range(len(portfolio_cumsum))\n",
    "    tmp.index = range(len(tmp))\n",
    "    for i in range(len(portfolio_cumsum)):\n",
    "        if(tmp[i] != 0):\n",
    "            portfolio_cumsum[i] = portfolio_cumsum[i]/tmp[i]\n",
    "\n",
    "    portfolio_cumsum.index = range(len(portfolio_cumsum))\n",
    "    portfolio_cumsum[0] = 0\n",
    "    portfolio_return=portfolio_cumsum.copy()\n",
    "\n",
    "\n",
    "\n",
    "    # 7. portfolio accumulative return table\n",
    "    initial = 0\n",
    "    for i in range(portfolio_cumsum.shape[0]):\n",
    "        portfolio_cumsum[i] = initial + portfolio_cumsum[i]\n",
    "        initial = portfolio_cumsum[i]\n",
    "    \n",
    "    #1. shares table\n",
    "    #2. costs table\n",
    "    #3. cash table\n",
    "    #4. portfolio without transaction costs table \n",
    "    #5. portfolio with transaction cost table\n",
    "    #6. portfolio return P&L table\n",
    "    #7. portfolio accumulative return table\n",
    "\n",
    "    return(balance_share,\n",
    "           balance_cost,\n",
    "           balance_cash,\n",
    "           portfolio,\n",
    "           portfolio_cost,\n",
    "           portfolio_return,\n",
    "           portfolio_cumsum)\n"
   ]
  },
  {
   "cell_type": "code",
   "execution_count": 24,
   "metadata": {},
   "outputs": [
    {
     "name": "stderr",
     "output_type": "stream",
     "text": [
      "C:\\Users\\misss\\AppData\\Local\\Temp\\ipykernel_31220\\1845856610.py:10: FutureWarning: Downcasting object dtype arrays on .fillna, .ffill, .bfill is deprecated and will change in a future version. Call result.infer_objects(copy=False) instead. To opt-in to the future behavior, set `pd.set_option('future.no_silent_downcasting', True)`\n",
      "  balance_weight = balance_weight.fillna(0)\n",
      "C:\\Users\\misss\\AppData\\Local\\Temp\\ipykernel_31220\\1845856610.py:19: FutureWarning: Setting an item of incompatible dtype is deprecated and will raise an error in a future version of pandas. Value '0.00917' has dtype incompatible with int64, please explicitly cast to a compatible dtype first.\n",
      "  balance_weight.loc[tics, date] = w\n",
      "C:\\Users\\misss\\AppData\\Local\\Temp\\ipykernel_31220\\1845856610.py:19: FutureWarning: Setting an item of incompatible dtype is deprecated and will raise an error in a future version of pandas. Value '0.0064' has dtype incompatible with int64, please explicitly cast to a compatible dtype first.\n",
      "  balance_weight.loc[tics, date] = w\n",
      "C:\\Users\\misss\\AppData\\Local\\Temp\\ipykernel_31220\\1845856610.py:19: FutureWarning: Setting an item of incompatible dtype is deprecated and will raise an error in a future version of pandas. Value '0.00676' has dtype incompatible with int64, please explicitly cast to a compatible dtype first.\n",
      "  balance_weight.loc[tics, date] = w\n",
      "C:\\Users\\misss\\AppData\\Local\\Temp\\ipykernel_31220\\1845856610.py:19: FutureWarning: Setting an item of incompatible dtype is deprecated and will raise an error in a future version of pandas. Value '0.00504' has dtype incompatible with int64, please explicitly cast to a compatible dtype first.\n",
      "  balance_weight.loc[tics, date] = w\n",
      "C:\\Users\\misss\\AppData\\Local\\Temp\\ipykernel_31220\\1845856610.py:19: FutureWarning: Setting an item of incompatible dtype is deprecated and will raise an error in a future version of pandas. Value '0.00763' has dtype incompatible with int64, please explicitly cast to a compatible dtype first.\n",
      "  balance_weight.loc[tics, date] = w\n",
      "C:\\Users\\misss\\AppData\\Local\\Temp\\ipykernel_31220\\1845856610.py:19: FutureWarning: Setting an item of incompatible dtype is deprecated and will raise an error in a future version of pandas. Value '0.00775' has dtype incompatible with int64, please explicitly cast to a compatible dtype first.\n",
      "  balance_weight.loc[tics, date] = w\n",
      "C:\\Users\\misss\\AppData\\Local\\Temp\\ipykernel_31220\\1845856610.py:19: FutureWarning: Setting an item of incompatible dtype is deprecated and will raise an error in a future version of pandas. Value '0.00387' has dtype incompatible with int64, please explicitly cast to a compatible dtype first.\n",
      "  balance_weight.loc[tics, date] = w\n",
      "C:\\Users\\misss\\AppData\\Local\\Temp\\ipykernel_31220\\1845856610.py:19: FutureWarning: Setting an item of incompatible dtype is deprecated and will raise an error in a future version of pandas. Value '0.00805' has dtype incompatible with int64, please explicitly cast to a compatible dtype first.\n",
      "  balance_weight.loc[tics, date] = w\n",
      "C:\\Users\\misss\\AppData\\Local\\Temp\\ipykernel_31220\\1845856610.py:19: FutureWarning: Setting an item of incompatible dtype is deprecated and will raise an error in a future version of pandas. Value '0.02094' has dtype incompatible with int64, please explicitly cast to a compatible dtype first.\n",
      "  balance_weight.loc[tics, date] = w\n",
      "C:\\Users\\misss\\AppData\\Local\\Temp\\ipykernel_31220\\1845856610.py:19: FutureWarning: Setting an item of incompatible dtype is deprecated and will raise an error in a future version of pandas. Value '0.01053' has dtype incompatible with int64, please explicitly cast to a compatible dtype first.\n",
      "  balance_weight.loc[tics, date] = w\n",
      "C:\\Users\\misss\\AppData\\Local\\Temp\\ipykernel_31220\\1845856610.py:19: FutureWarning: Setting an item of incompatible dtype is deprecated and will raise an error in a future version of pandas. Value '0.00889' has dtype incompatible with int64, please explicitly cast to a compatible dtype first.\n",
      "  balance_weight.loc[tics, date] = w\n",
      "C:\\Users\\misss\\AppData\\Local\\Temp\\ipykernel_31220\\1845856610.py:19: FutureWarning: Setting an item of incompatible dtype is deprecated and will raise an error in a future version of pandas. Value '0.02204' has dtype incompatible with int64, please explicitly cast to a compatible dtype first.\n",
      "  balance_weight.loc[tics, date] = w\n",
      "C:\\Users\\misss\\AppData\\Local\\Temp\\ipykernel_31220\\1845856610.py:19: FutureWarning: Setting an item of incompatible dtype is deprecated and will raise an error in a future version of pandas. Value '0.00547' has dtype incompatible with int64, please explicitly cast to a compatible dtype first.\n",
      "  balance_weight.loc[tics, date] = w\n",
      "C:\\Users\\misss\\AppData\\Local\\Temp\\ipykernel_31220\\1845856610.py:19: FutureWarning: Setting an item of incompatible dtype is deprecated and will raise an error in a future version of pandas. Value '0.00692' has dtype incompatible with int64, please explicitly cast to a compatible dtype first.\n",
      "  balance_weight.loc[tics, date] = w\n",
      "C:\\Users\\misss\\AppData\\Local\\Temp\\ipykernel_31220\\1845856610.py:19: FutureWarning: Setting an item of incompatible dtype is deprecated and will raise an error in a future version of pandas. Value '0.0068' has dtype incompatible with int64, please explicitly cast to a compatible dtype first.\n",
      "  balance_weight.loc[tics, date] = w\n",
      "C:\\Users\\misss\\AppData\\Local\\Temp\\ipykernel_31220\\1845856610.py:19: FutureWarning: Setting an item of incompatible dtype is deprecated and will raise an error in a future version of pandas. Value '0.0069' has dtype incompatible with int64, please explicitly cast to a compatible dtype first.\n",
      "  balance_weight.loc[tics, date] = w\n",
      "C:\\Users\\misss\\AppData\\Local\\Temp\\ipykernel_31220\\1845856610.py:19: FutureWarning: Setting an item of incompatible dtype is deprecated and will raise an error in a future version of pandas. Value '0.0069' has dtype incompatible with int64, please explicitly cast to a compatible dtype first.\n",
      "  balance_weight.loc[tics, date] = w\n",
      "C:\\Users\\misss\\AppData\\Local\\Temp\\ipykernel_31220\\1845856610.py:19: FutureWarning: Setting an item of incompatible dtype is deprecated and will raise an error in a future version of pandas. Value '0.00746' has dtype incompatible with int64, please explicitly cast to a compatible dtype first.\n",
      "  balance_weight.loc[tics, date] = w\n",
      "C:\\Users\\misss\\AppData\\Local\\Temp\\ipykernel_31220\\1845856610.py:19: FutureWarning: Setting an item of incompatible dtype is deprecated and will raise an error in a future version of pandas. Value '0.01107' has dtype incompatible with int64, please explicitly cast to a compatible dtype first.\n",
      "  balance_weight.loc[tics, date] = w\n",
      "C:\\Users\\misss\\AppData\\Local\\Temp\\ipykernel_31220\\1845856610.py:19: FutureWarning: Setting an item of incompatible dtype is deprecated and will raise an error in a future version of pandas. Value '0.0027' has dtype incompatible with int64, please explicitly cast to a compatible dtype first.\n",
      "  balance_weight.loc[tics, date] = w\n",
      "C:\\Users\\misss\\AppData\\Local\\Temp\\ipykernel_31220\\1845856610.py:19: FutureWarning: Setting an item of incompatible dtype is deprecated and will raise an error in a future version of pandas. Value '0.00676' has dtype incompatible with int64, please explicitly cast to a compatible dtype first.\n",
      "  balance_weight.loc[tics, date] = w\n",
      "C:\\Users\\misss\\AppData\\Local\\Temp\\ipykernel_31220\\1845856610.py:19: FutureWarning: Setting an item of incompatible dtype is deprecated and will raise an error in a future version of pandas. Value '0.00704' has dtype incompatible with int64, please explicitly cast to a compatible dtype first.\n",
      "  balance_weight.loc[tics, date] = w\n",
      "C:\\Users\\misss\\AppData\\Local\\Temp\\ipykernel_31220\\1845856610.py:19: FutureWarning: Setting an item of incompatible dtype is deprecated and will raise an error in a future version of pandas. Value '0.00768' has dtype incompatible with int64, please explicitly cast to a compatible dtype first.\n",
      "  balance_weight.loc[tics, date] = w\n",
      "C:\\Users\\misss\\AppData\\Local\\Temp\\ipykernel_31220\\1845856610.py:19: FutureWarning: Setting an item of incompatible dtype is deprecated and will raise an error in a future version of pandas. Value '0.0133' has dtype incompatible with int64, please explicitly cast to a compatible dtype first.\n",
      "  balance_weight.loc[tics, date] = w\n",
      "C:\\Users\\misss\\AppData\\Local\\Temp\\ipykernel_31220\\1845856610.py:19: FutureWarning: Setting an item of incompatible dtype is deprecated and will raise an error in a future version of pandas. Value '0.01826' has dtype incompatible with int64, please explicitly cast to a compatible dtype first.\n",
      "  balance_weight.loc[tics, date] = w\n",
      "C:\\Users\\misss\\AppData\\Local\\Temp\\ipykernel_31220\\1845856610.py:19: FutureWarning: Setting an item of incompatible dtype is deprecated and will raise an error in a future version of pandas. Value '0.00231' has dtype incompatible with int64, please explicitly cast to a compatible dtype first.\n",
      "  balance_weight.loc[tics, date] = w\n",
      "C:\\Users\\misss\\AppData\\Local\\Temp\\ipykernel_31220\\1845856610.py:19: FutureWarning: Setting an item of incompatible dtype is deprecated and will raise an error in a future version of pandas. Value '0.01719' has dtype incompatible with int64, please explicitly cast to a compatible dtype first.\n",
      "  balance_weight.loc[tics, date] = w\n",
      "C:\\Users\\misss\\AppData\\Local\\Temp\\ipykernel_31220\\1845856610.py:19: FutureWarning: Setting an item of incompatible dtype is deprecated and will raise an error in a future version of pandas. Value '0.00715' has dtype incompatible with int64, please explicitly cast to a compatible dtype first.\n",
      "  balance_weight.loc[tics, date] = w\n",
      "C:\\Users\\misss\\AppData\\Local\\Temp\\ipykernel_31220\\1845856610.py:19: FutureWarning: Setting an item of incompatible dtype is deprecated and will raise an error in a future version of pandas. Value '0.00281' has dtype incompatible with int64, please explicitly cast to a compatible dtype first.\n",
      "  balance_weight.loc[tics, date] = w\n",
      "C:\\Users\\misss\\AppData\\Local\\Temp\\ipykernel_31220\\1845856610.py:19: FutureWarning: Setting an item of incompatible dtype is deprecated and will raise an error in a future version of pandas. Value '0.00609' has dtype incompatible with int64, please explicitly cast to a compatible dtype first.\n",
      "  balance_weight.loc[tics, date] = w\n",
      "C:\\Users\\misss\\AppData\\Local\\Temp\\ipykernel_31220\\1845856610.py:19: FutureWarning: Setting an item of incompatible dtype is deprecated and will raise an error in a future version of pandas. Value '0.00656' has dtype incompatible with int64, please explicitly cast to a compatible dtype first.\n",
      "  balance_weight.loc[tics, date] = w\n",
      "C:\\Users\\misss\\AppData\\Local\\Temp\\ipykernel_31220\\1845856610.py:19: FutureWarning: Setting an item of incompatible dtype is deprecated and will raise an error in a future version of pandas. Value '0.00149' has dtype incompatible with int64, please explicitly cast to a compatible dtype first.\n",
      "  balance_weight.loc[tics, date] = w\n",
      "C:\\Users\\misss\\AppData\\Local\\Temp\\ipykernel_31220\\1845856610.py:19: FutureWarning: Setting an item of incompatible dtype is deprecated and will raise an error in a future version of pandas. Value '0.00671' has dtype incompatible with int64, please explicitly cast to a compatible dtype first.\n",
      "  balance_weight.loc[tics, date] = w\n",
      "C:\\Users\\misss\\AppData\\Local\\Temp\\ipykernel_31220\\1845856610.py:19: FutureWarning: Setting an item of incompatible dtype is deprecated and will raise an error in a future version of pandas. Value '0.0073' has dtype incompatible with int64, please explicitly cast to a compatible dtype first.\n",
      "  balance_weight.loc[tics, date] = w\n",
      "C:\\Users\\misss\\AppData\\Local\\Temp\\ipykernel_31220\\1845856610.py:19: FutureWarning: Setting an item of incompatible dtype is deprecated and will raise an error in a future version of pandas. Value '0.01311' has dtype incompatible with int64, please explicitly cast to a compatible dtype first.\n",
      "  balance_weight.loc[tics, date] = w\n",
      "C:\\Users\\misss\\AppData\\Local\\Temp\\ipykernel_31220\\1845856610.py:19: FutureWarning: Setting an item of incompatible dtype is deprecated and will raise an error in a future version of pandas. Value '0.00714' has dtype incompatible with int64, please explicitly cast to a compatible dtype first.\n",
      "  balance_weight.loc[tics, date] = w\n",
      "C:\\Users\\misss\\AppData\\Local\\Temp\\ipykernel_31220\\1845856610.py:19: FutureWarning: Setting an item of incompatible dtype is deprecated and will raise an error in a future version of pandas. Value '0.00568' has dtype incompatible with int64, please explicitly cast to a compatible dtype first.\n",
      "  balance_weight.loc[tics, date] = w\n",
      "C:\\Users\\misss\\AppData\\Local\\Temp\\ipykernel_31220\\1845856610.py:19: FutureWarning: Setting an item of incompatible dtype is deprecated and will raise an error in a future version of pandas. Value '0.00645' has dtype incompatible with int64, please explicitly cast to a compatible dtype first.\n",
      "  balance_weight.loc[tics, date] = w\n",
      "C:\\Users\\misss\\AppData\\Local\\Temp\\ipykernel_31220\\1845856610.py:19: FutureWarning: Setting an item of incompatible dtype is deprecated and will raise an error in a future version of pandas. Value '0.00699' has dtype incompatible with int64, please explicitly cast to a compatible dtype first.\n",
      "  balance_weight.loc[tics, date] = w\n",
      "C:\\Users\\misss\\AppData\\Local\\Temp\\ipykernel_31220\\1845856610.py:19: FutureWarning: Setting an item of incompatible dtype is deprecated and will raise an error in a future version of pandas. Value '0.00621' has dtype incompatible with int64, please explicitly cast to a compatible dtype first.\n",
      "  balance_weight.loc[tics, date] = w\n",
      "C:\\Users\\misss\\AppData\\Local\\Temp\\ipykernel_31220\\1845856610.py:19: FutureWarning: Setting an item of incompatible dtype is deprecated and will raise an error in a future version of pandas. Value '0.00968' has dtype incompatible with int64, please explicitly cast to a compatible dtype first.\n",
      "  balance_weight.loc[tics, date] = w\n",
      "C:\\Users\\misss\\AppData\\Local\\Temp\\ipykernel_31220\\1845856610.py:19: FutureWarning: Setting an item of incompatible dtype is deprecated and will raise an error in a future version of pandas. Value '0.00595' has dtype incompatible with int64, please explicitly cast to a compatible dtype first.\n",
      "  balance_weight.loc[tics, date] = w\n",
      "C:\\Users\\misss\\AppData\\Local\\Temp\\ipykernel_31220\\1845856610.py:19: FutureWarning: Setting an item of incompatible dtype is deprecated and will raise an error in a future version of pandas. Value '0.01789' has dtype incompatible with int64, please explicitly cast to a compatible dtype first.\n",
      "  balance_weight.loc[tics, date] = w\n",
      "C:\\Users\\misss\\AppData\\Local\\Temp\\ipykernel_31220\\1845856610.py:19: FutureWarning: Setting an item of incompatible dtype is deprecated and will raise an error in a future version of pandas. Value '0.00694' has dtype incompatible with int64, please explicitly cast to a compatible dtype first.\n",
      "  balance_weight.loc[tics, date] = w\n",
      "C:\\Users\\misss\\AppData\\Local\\Temp\\ipykernel_31220\\1845856610.py:19: FutureWarning: Setting an item of incompatible dtype is deprecated and will raise an error in a future version of pandas. Value '0.00667' has dtype incompatible with int64, please explicitly cast to a compatible dtype first.\n",
      "  balance_weight.loc[tics, date] = w\n",
      "C:\\Users\\misss\\AppData\\Local\\Temp\\ipykernel_31220\\1845856610.py:19: FutureWarning: Setting an item of incompatible dtype is deprecated and will raise an error in a future version of pandas. Value '0.00506' has dtype incompatible with int64, please explicitly cast to a compatible dtype first.\n",
      "  balance_weight.loc[tics, date] = w\n",
      "C:\\Users\\misss\\AppData\\Local\\Temp\\ipykernel_31220\\1845856610.py:19: FutureWarning: Setting an item of incompatible dtype is deprecated and will raise an error in a future version of pandas. Value '0.00588' has dtype incompatible with int64, please explicitly cast to a compatible dtype first.\n",
      "  balance_weight.loc[tics, date] = w\n",
      "C:\\Users\\misss\\AppData\\Local\\Temp\\ipykernel_31220\\1845856610.py:19: FutureWarning: Setting an item of incompatible dtype is deprecated and will raise an error in a future version of pandas. Value '0.0051' has dtype incompatible with int64, please explicitly cast to a compatible dtype first.\n",
      "  balance_weight.loc[tics, date] = w\n",
      "C:\\Users\\misss\\AppData\\Local\\Temp\\ipykernel_31220\\1845856610.py:19: FutureWarning: Setting an item of incompatible dtype is deprecated and will raise an error in a future version of pandas. Value '0.00692' has dtype incompatible with int64, please explicitly cast to a compatible dtype first.\n",
      "  balance_weight.loc[tics, date] = w\n",
      "C:\\Users\\misss\\AppData\\Local\\Temp\\ipykernel_31220\\1845856610.py:19: FutureWarning: Setting an item of incompatible dtype is deprecated and will raise an error in a future version of pandas. Value '0.00678' has dtype incompatible with int64, please explicitly cast to a compatible dtype first.\n",
      "  balance_weight.loc[tics, date] = w\n",
      "C:\\Users\\misss\\AppData\\Local\\Temp\\ipykernel_31220\\1845856610.py:19: FutureWarning: Setting an item of incompatible dtype is deprecated and will raise an error in a future version of pandas. Value '0.00467' has dtype incompatible with int64, please explicitly cast to a compatible dtype first.\n",
      "  balance_weight.loc[tics, date] = w\n",
      "C:\\Users\\misss\\AppData\\Local\\Temp\\ipykernel_31220\\1845856610.py:19: FutureWarning: Setting an item of incompatible dtype is deprecated and will raise an error in a future version of pandas. Value '0.00784' has dtype incompatible with int64, please explicitly cast to a compatible dtype first.\n",
      "  balance_weight.loc[tics, date] = w\n",
      "C:\\Users\\misss\\AppData\\Local\\Temp\\ipykernel_31220\\1845856610.py:19: FutureWarning: Setting an item of incompatible dtype is deprecated and will raise an error in a future version of pandas. Value '0.00636' has dtype incompatible with int64, please explicitly cast to a compatible dtype first.\n",
      "  balance_weight.loc[tics, date] = w\n",
      "C:\\Users\\misss\\AppData\\Local\\Temp\\ipykernel_31220\\1845856610.py:19: FutureWarning: Setting an item of incompatible dtype is deprecated and will raise an error in a future version of pandas. Value '0.01219' has dtype incompatible with int64, please explicitly cast to a compatible dtype first.\n",
      "  balance_weight.loc[tics, date] = w\n",
      "C:\\Users\\misss\\AppData\\Local\\Temp\\ipykernel_31220\\1845856610.py:19: FutureWarning: Setting an item of incompatible dtype is deprecated and will raise an error in a future version of pandas. Value '0.00038' has dtype incompatible with int64, please explicitly cast to a compatible dtype first.\n",
      "  balance_weight.loc[tics, date] = w\n",
      "C:\\Users\\misss\\AppData\\Local\\Temp\\ipykernel_31220\\1845856610.py:19: FutureWarning: Setting an item of incompatible dtype is deprecated and will raise an error in a future version of pandas. Value '0.00433' has dtype incompatible with int64, please explicitly cast to a compatible dtype first.\n",
      "  balance_weight.loc[tics, date] = w\n",
      "C:\\Users\\misss\\AppData\\Local\\Temp\\ipykernel_31220\\1845856610.py:19: FutureWarning: Setting an item of incompatible dtype is deprecated and will raise an error in a future version of pandas. Value '0.00729' has dtype incompatible with int64, please explicitly cast to a compatible dtype first.\n",
      "  balance_weight.loc[tics, date] = w\n",
      "C:\\Users\\misss\\AppData\\Local\\Temp\\ipykernel_31220\\1845856610.py:19: FutureWarning: Setting an item of incompatible dtype is deprecated and will raise an error in a future version of pandas. Value '0.00305' has dtype incompatible with int64, please explicitly cast to a compatible dtype first.\n",
      "  balance_weight.loc[tics, date] = w\n",
      "C:\\Users\\misss\\AppData\\Local\\Temp\\ipykernel_31220\\1845856610.py:19: FutureWarning: Setting an item of incompatible dtype is deprecated and will raise an error in a future version of pandas. Value '0.01098' has dtype incompatible with int64, please explicitly cast to a compatible dtype first.\n",
      "  balance_weight.loc[tics, date] = w\n",
      "C:\\Users\\misss\\AppData\\Local\\Temp\\ipykernel_31220\\1845856610.py:19: FutureWarning: Setting an item of incompatible dtype is deprecated and will raise an error in a future version of pandas. Value '0.00469' has dtype incompatible with int64, please explicitly cast to a compatible dtype first.\n",
      "  balance_weight.loc[tics, date] = w\n",
      "C:\\Users\\misss\\AppData\\Local\\Temp\\ipykernel_31220\\1845856610.py:19: FutureWarning: Setting an item of incompatible dtype is deprecated and will raise an error in a future version of pandas. Value '0.00044' has dtype incompatible with int64, please explicitly cast to a compatible dtype first.\n",
      "  balance_weight.loc[tics, date] = w\n",
      "C:\\Users\\misss\\AppData\\Local\\Temp\\ipykernel_31220\\1845856610.py:19: FutureWarning: Setting an item of incompatible dtype is deprecated and will raise an error in a future version of pandas. Value '0.00391' has dtype incompatible with int64, please explicitly cast to a compatible dtype first.\n",
      "  balance_weight.loc[tics, date] = w\n",
      "C:\\Users\\misss\\AppData\\Local\\Temp\\ipykernel_31220\\1845856610.py:19: FutureWarning: Setting an item of incompatible dtype is deprecated and will raise an error in a future version of pandas. Value '0.00406' has dtype incompatible with int64, please explicitly cast to a compatible dtype first.\n",
      "  balance_weight.loc[tics, date] = w\n",
      "C:\\Users\\misss\\AppData\\Local\\Temp\\ipykernel_31220\\1845856610.py:19: FutureWarning: Setting an item of incompatible dtype is deprecated and will raise an error in a future version of pandas. Value '0.00383' has dtype incompatible with int64, please explicitly cast to a compatible dtype first.\n",
      "  balance_weight.loc[tics, date] = w\n",
      "C:\\Users\\misss\\AppData\\Local\\Temp\\ipykernel_31220\\1845856610.py:19: FutureWarning: Setting an item of incompatible dtype is deprecated and will raise an error in a future version of pandas. Value '0.00669' has dtype incompatible with int64, please explicitly cast to a compatible dtype first.\n",
      "  balance_weight.loc[tics, date] = w\n",
      "C:\\Users\\misss\\AppData\\Local\\Temp\\ipykernel_31220\\1845856610.py:19: FutureWarning: Setting an item of incompatible dtype is deprecated and will raise an error in a future version of pandas. Value '0.00473' has dtype incompatible with int64, please explicitly cast to a compatible dtype first.\n",
      "  balance_weight.loc[tics, date] = w\n",
      "C:\\Users\\misss\\AppData\\Local\\Temp\\ipykernel_31220\\1845856610.py:19: FutureWarning: Setting an item of incompatible dtype is deprecated and will raise an error in a future version of pandas. Value '0.00332' has dtype incompatible with int64, please explicitly cast to a compatible dtype first.\n",
      "  balance_weight.loc[tics, date] = w\n",
      "C:\\Users\\misss\\AppData\\Local\\Temp\\ipykernel_31220\\1845856610.py:19: FutureWarning: Setting an item of incompatible dtype is deprecated and will raise an error in a future version of pandas. Value '0.00777' has dtype incompatible with int64, please explicitly cast to a compatible dtype first.\n",
      "  balance_weight.loc[tics, date] = w\n",
      "C:\\Users\\misss\\AppData\\Local\\Temp\\ipykernel_31220\\1845856610.py:19: FutureWarning: Setting an item of incompatible dtype is deprecated and will raise an error in a future version of pandas. Value '0.00341' has dtype incompatible with int64, please explicitly cast to a compatible dtype first.\n",
      "  balance_weight.loc[tics, date] = w\n",
      "C:\\Users\\misss\\AppData\\Local\\Temp\\ipykernel_31220\\1845856610.py:19: FutureWarning: Setting an item of incompatible dtype is deprecated and will raise an error in a future version of pandas. Value '0.00149' has dtype incompatible with int64, please explicitly cast to a compatible dtype first.\n",
      "  balance_weight.loc[tics, date] = w\n",
      "C:\\Users\\misss\\AppData\\Local\\Temp\\ipykernel_31220\\1845856610.py:19: FutureWarning: Setting an item of incompatible dtype is deprecated and will raise an error in a future version of pandas. Value '0.00116' has dtype incompatible with int64, please explicitly cast to a compatible dtype first.\n",
      "  balance_weight.loc[tics, date] = w\n",
      "C:\\Users\\misss\\AppData\\Local\\Temp\\ipykernel_31220\\1845856610.py:19: FutureWarning: Setting an item of incompatible dtype is deprecated and will raise an error in a future version of pandas. Value '0.00286' has dtype incompatible with int64, please explicitly cast to a compatible dtype first.\n",
      "  balance_weight.loc[tics, date] = w\n",
      "C:\\Users\\misss\\AppData\\Local\\Temp\\ipykernel_31220\\1845856610.py:19: FutureWarning: Setting an item of incompatible dtype is deprecated and will raise an error in a future version of pandas. Value '0.00727' has dtype incompatible with int64, please explicitly cast to a compatible dtype first.\n",
      "  balance_weight.loc[tics, date] = w\n",
      "C:\\Users\\misss\\AppData\\Local\\Temp\\ipykernel_31220\\1845856610.py:19: FutureWarning: Setting an item of incompatible dtype is deprecated and will raise an error in a future version of pandas. Value '0.00507' has dtype incompatible with int64, please explicitly cast to a compatible dtype first.\n",
      "  balance_weight.loc[tics, date] = w\n",
      "C:\\Users\\misss\\AppData\\Local\\Temp\\ipykernel_31220\\1845856610.py:19: FutureWarning: Setting an item of incompatible dtype is deprecated and will raise an error in a future version of pandas. Value '0.00542' has dtype incompatible with int64, please explicitly cast to a compatible dtype first.\n",
      "  balance_weight.loc[tics, date] = w\n",
      "C:\\Users\\misss\\AppData\\Local\\Temp\\ipykernel_31220\\1845856610.py:19: FutureWarning: Setting an item of incompatible dtype is deprecated and will raise an error in a future version of pandas. Value '0.00949' has dtype incompatible with int64, please explicitly cast to a compatible dtype first.\n",
      "  balance_weight.loc[tics, date] = w\n",
      "C:\\Users\\misss\\AppData\\Local\\Temp\\ipykernel_31220\\1845856610.py:19: FutureWarning: Setting an item of incompatible dtype is deprecated and will raise an error in a future version of pandas. Value '0.00623' has dtype incompatible with int64, please explicitly cast to a compatible dtype first.\n",
      "  balance_weight.loc[tics, date] = w\n",
      "C:\\Users\\misss\\AppData\\Local\\Temp\\ipykernel_31220\\1845856610.py:19: FutureWarning: Setting an item of incompatible dtype is deprecated and will raise an error in a future version of pandas. Value '0.00234' has dtype incompatible with int64, please explicitly cast to a compatible dtype first.\n",
      "  balance_weight.loc[tics, date] = w\n",
      "C:\\Users\\misss\\AppData\\Local\\Temp\\ipykernel_31220\\1845856610.py:19: FutureWarning: Setting an item of incompatible dtype is deprecated and will raise an error in a future version of pandas. Value '0.00391' has dtype incompatible with int64, please explicitly cast to a compatible dtype first.\n",
      "  balance_weight.loc[tics, date] = w\n",
      "C:\\Users\\misss\\AppData\\Local\\Temp\\ipykernel_31220\\1845856610.py:19: FutureWarning: Setting an item of incompatible dtype is deprecated and will raise an error in a future version of pandas. Value '0.00129' has dtype incompatible with int64, please explicitly cast to a compatible dtype first.\n",
      "  balance_weight.loc[tics, date] = w\n",
      "C:\\Users\\misss\\AppData\\Local\\Temp\\ipykernel_31220\\1845856610.py:19: FutureWarning: Setting an item of incompatible dtype is deprecated and will raise an error in a future version of pandas. Value '0.00783' has dtype incompatible with int64, please explicitly cast to a compatible dtype first.\n",
      "  balance_weight.loc[tics, date] = w\n",
      "C:\\Users\\misss\\AppData\\Local\\Temp\\ipykernel_31220\\1845856610.py:19: FutureWarning: Setting an item of incompatible dtype is deprecated and will raise an error in a future version of pandas. Value '0.00694' has dtype incompatible with int64, please explicitly cast to a compatible dtype first.\n",
      "  balance_weight.loc[tics, date] = w\n",
      "C:\\Users\\misss\\AppData\\Local\\Temp\\ipykernel_31220\\1845856610.py:19: FutureWarning: Setting an item of incompatible dtype is deprecated and will raise an error in a future version of pandas. Value '0.00862' has dtype incompatible with int64, please explicitly cast to a compatible dtype first.\n",
      "  balance_weight.loc[tics, date] = w\n",
      "C:\\Users\\misss\\AppData\\Local\\Temp\\ipykernel_31220\\1845856610.py:19: FutureWarning: Setting an item of incompatible dtype is deprecated and will raise an error in a future version of pandas. Value '0.01156' has dtype incompatible with int64, please explicitly cast to a compatible dtype first.\n",
      "  balance_weight.loc[tics, date] = w\n",
      "C:\\Users\\misss\\AppData\\Local\\Temp\\ipykernel_31220\\1845856610.py:19: FutureWarning: Setting an item of incompatible dtype is deprecated and will raise an error in a future version of pandas. Value '0.00251' has dtype incompatible with int64, please explicitly cast to a compatible dtype first.\n",
      "  balance_weight.loc[tics, date] = w\n",
      "C:\\Users\\misss\\AppData\\Local\\Temp\\ipykernel_31220\\1845856610.py:19: FutureWarning: Setting an item of incompatible dtype is deprecated and will raise an error in a future version of pandas. Value '0.00106' has dtype incompatible with int64, please explicitly cast to a compatible dtype first.\n",
      "  balance_weight.loc[tics, date] = w\n",
      "C:\\Users\\misss\\AppData\\Local\\Temp\\ipykernel_31220\\1845856610.py:19: FutureWarning: Setting an item of incompatible dtype is deprecated and will raise an error in a future version of pandas. Value '0.00138' has dtype incompatible with int64, please explicitly cast to a compatible dtype first.\n",
      "  balance_weight.loc[tics, date] = w\n",
      "C:\\Users\\misss\\AppData\\Local\\Temp\\ipykernel_31220\\1845856610.py:19: FutureWarning: Setting an item of incompatible dtype is deprecated and will raise an error in a future version of pandas. Value '0.0034' has dtype incompatible with int64, please explicitly cast to a compatible dtype first.\n",
      "  balance_weight.loc[tics, date] = w\n",
      "C:\\Users\\misss\\AppData\\Local\\Temp\\ipykernel_31220\\1845856610.py:19: FutureWarning: Setting an item of incompatible dtype is deprecated and will raise an error in a future version of pandas. Value '0.00617' has dtype incompatible with int64, please explicitly cast to a compatible dtype first.\n",
      "  balance_weight.loc[tics, date] = w\n",
      "C:\\Users\\misss\\AppData\\Local\\Temp\\ipykernel_31220\\1845856610.py:19: FutureWarning: Setting an item of incompatible dtype is deprecated and will raise an error in a future version of pandas. Value '0.00711' has dtype incompatible with int64, please explicitly cast to a compatible dtype first.\n",
      "  balance_weight.loc[tics, date] = w\n",
      "C:\\Users\\misss\\AppData\\Local\\Temp\\ipykernel_31220\\1845856610.py:19: FutureWarning: Setting an item of incompatible dtype is deprecated and will raise an error in a future version of pandas. Value '0.01767' has dtype incompatible with int64, please explicitly cast to a compatible dtype first.\n",
      "  balance_weight.loc[tics, date] = w\n",
      "C:\\Users\\misss\\AppData\\Local\\Temp\\ipykernel_31220\\1845856610.py:19: FutureWarning: Setting an item of incompatible dtype is deprecated and will raise an error in a future version of pandas. Value '0.00603' has dtype incompatible with int64, please explicitly cast to a compatible dtype first.\n",
      "  balance_weight.loc[tics, date] = w\n",
      "C:\\Users\\misss\\AppData\\Local\\Temp\\ipykernel_31220\\1845856610.py:19: FutureWarning: Setting an item of incompatible dtype is deprecated and will raise an error in a future version of pandas. Value '0.00497' has dtype incompatible with int64, please explicitly cast to a compatible dtype first.\n",
      "  balance_weight.loc[tics, date] = w\n",
      "C:\\Users\\misss\\AppData\\Local\\Temp\\ipykernel_31220\\1845856610.py:19: FutureWarning: Setting an item of incompatible dtype is deprecated and will raise an error in a future version of pandas. Value '0.00439' has dtype incompatible with int64, please explicitly cast to a compatible dtype first.\n",
      "  balance_weight.loc[tics, date] = w\n",
      "C:\\Users\\misss\\AppData\\Local\\Temp\\ipykernel_31220\\1845856610.py:19: FutureWarning: Setting an item of incompatible dtype is deprecated and will raise an error in a future version of pandas. Value '0.00397' has dtype incompatible with int64, please explicitly cast to a compatible dtype first.\n",
      "  balance_weight.loc[tics, date] = w\n",
      "C:\\Users\\misss\\AppData\\Local\\Temp\\ipykernel_31220\\1845856610.py:19: FutureWarning: Setting an item of incompatible dtype is deprecated and will raise an error in a future version of pandas. Value '0.03438' has dtype incompatible with int64, please explicitly cast to a compatible dtype first.\n",
      "  balance_weight.loc[tics, date] = w\n",
      "C:\\Users\\misss\\AppData\\Local\\Temp\\ipykernel_31220\\1845856610.py:24: FutureWarning: Downcasting object dtype arrays on .fillna, .ffill, .bfill is deprecated and will change in a future version. Call result.infer_objects(copy=False) instead. To opt-in to the future behavior, set `pd.set_option('future.no_silent_downcasting', True)`\n",
      "  balance_share = balance_share.fillna(0)\n",
      "C:\\Users\\misss\\AppData\\Local\\Temp\\ipykernel_31220\\1845856610.py:27: FutureWarning: Downcasting object dtype arrays on .fillna, .ffill, .bfill is deprecated and will change in a future version. Call result.infer_objects(copy=False) instead. To opt-in to the future behavior, set `pd.set_option('future.no_silent_downcasting', True)`\n",
      "  balance_cost = balance_cost.fillna(0)\n",
      "C:\\Users\\misss\\AppData\\Local\\Temp\\ipykernel_31220\\1845856610.py:30: FutureWarning: Downcasting object dtype arrays on .fillna, .ffill, .bfill is deprecated and will change in a future version. Call result.infer_objects(copy=False) instead. To opt-in to the future behavior, set `pd.set_option('future.no_silent_downcasting', True)`\n",
      "  balance_cash = balance_cash.fillna(0)\n",
      "C:\\Users\\misss\\AppData\\Local\\Temp\\ipykernel_31220\\1845856610.py:41: SettingWithCopyWarning: \n",
      "A value is trying to be set on a copy of a slice from a DataFrame\n",
      "\n",
      "See the caveats in the documentation: https://pandas.pydata.org/pandas-docs/stable/user_guide/indexing.html#returning-a-view-versus-a-copy\n",
      "  balance_price.replace([0, np.inf, -np.inf], np.nan, inplace=True)\n"
     ]
    }
   ],
   "source": [
    "#calculate mean variance allocation portolio\n",
    "(balance_share_meanv,\n",
    " balance_cost_meanv,\n",
    " balance_cash_meanv,\n",
    " portfolio_meanv,\n",
    " portfolio_cost_meanv,\n",
    " portfolio_return_meanv,\n",
    " portfolio_cumsum_meanv)=cal_portfolio(stocks_name,tradedate_full, weight_meanv, capital, transaction_percent)\n"
   ]
  },
  {
   "cell_type": "code",
   "execution_count": 25,
   "metadata": {},
   "outputs": [
    {
     "data": {
      "text/plain": [
       "217.30234082955243"
      ]
     },
     "execution_count": 25,
     "metadata": {},
     "output_type": "execute_result"
    }
   ],
   "source": [
    "sum(portfolio_return_meanv)"
   ]
  },
  {
   "cell_type": "code",
   "execution_count": 26,
   "metadata": {},
   "outputs": [],
   "source": [
    "def analyze_portfolio_anomaly(stocks_name, tradedate, weight_table, balance_daily, capital, problem_date=\"2009-06-01\"):\n",
    "    \"\"\"\n",
    "    专门分析投资组合在特定日期出现异常收益率的原因\n",
    "    \n",
    "    参数:\n",
    "    stocks_name - 股票代码列表\n",
    "    tradedate - 交易日期列表\n",
    "    weight_table - 包含权重信息的DataFrame (gvkey, trade_date, weights)\n",
    "    balance_daily - 股票价格的DataFrame\n",
    "    capital - 初始资本\n",
    "    problem_date - 需要分析的问题日期\n",
    "    \n",
    "    返回:\n",
    "    异常分析结果的字典\n",
    "    \"\"\"\n",
    "    import pandas as pd\n",
    "    import numpy as np\n",
    "    import matplotlib.pyplot as plt\n",
    "\n",
    "    tradedate = sorted(tradedate)\n",
    "    tradedate_full = tradedate.copy()\n",
    "    \n",
    "    if problem_date not in tradedate_full:\n",
    "        print(f\"错误: 问题日期 {problem_date} 不在交易日列表中\")\n",
    "        return None\n",
    "    \n",
    "    problem_idx = tradedate_full.index(problem_date)\n",
    "    if problem_idx == 0:\n",
    "        print(f\"错误: 问题日期 {problem_date} 是第一个交易日，无法计算收益率\")\n",
    "        return None\n",
    "        \n",
    "    prev_date = tradedate_full[problem_idx - 1]\n",
    "    print(f\"分析日期: {problem_date}, 前一交易日: {prev_date}\")\n",
    "    \n",
    "    portfolio = {}\n",
    "    portfolio[prev_date] = capital\n",
    "    \n",
    "    if prev_date in tradedate:\n",
    "        prev_weights = weight_table[weight_table['trade_date'] == prev_date]\n",
    "        print(f\"\\n前一交易日 {prev_date} 的权重分布:\")\n",
    "        print(f\"权重数量: {len(prev_weights)}\")\n",
    "        if len(prev_weights) > 0:\n",
    "            print(\"权重统计: \")\n",
    "            weights_stats = prev_weights['weights'].describe()\n",
    "            print(weights_stats)\n",
    "\n",
    "            total_weight = prev_weights['weights'].sum()\n",
    "            print(f\"权重总和: {total_weight}\")\n",
    "            \n",
    "            top_stocks = prev_weights.sort_values('weights', ascending=False).head(5)\n",
    "            print(\"\\n权重最大的5只股票:\")\n",
    "            print(top_stocks)\n",
    "        else:\n",
    "            print(\"警告: 该日期没有权重数据!\")\n",
    "    else:\n",
    "        print(f\"警告: {prev_date} 不是重新平衡的交易日\")\n",
    "        prev_weights = pd.DataFrame()\n",
    "    \n",
    "    prev_prices = balance_daily[prev_date]\n",
    "    curr_prices = balance_daily[problem_date]\n",
    "    \n",
    "    price_change = pd.DataFrame({\n",
    "        'prev_price': prev_prices,\n",
    "        'curr_price': curr_prices\n",
    "    })\n",
    "    price_change['change_ratio'] = price_change['curr_price'] / price_change['prev_price'] - 1\n",
    "    \n",
    "    price_change = price_change.dropna()\n",
    "    \n",
    "    print(\"\\n价格变化统计:\")\n",
    "    change_stats = price_change['change_ratio'].describe()\n",
    "    print(change_stats)\n",
    " \n",
    "    extreme_changes = price_change[abs(price_change['change_ratio']) > 0.5]\n",
    "    if len(extreme_changes) > 0:\n",
    "        print(f\"\\n发现 {len(extreme_changes)} 只股票价格变化超过50%:\")\n",
    "        extreme_changes = extreme_changes.sort_values('change_ratio', ascending=False)\n",
    "        print(extreme_changes.head(10))\n",
    "    \n",
    "    holdings = pd.DataFrame(index=stocks_name, columns=[prev_date, problem_date])\n",
    "    holdings = holdings.fillna(0)\n",
    "    \n",
    "    if len(prev_weights) > 0:\n",
    "        for _, row in prev_weights.iterrows():\n",
    "            stock = row['gvkey']\n",
    "            weight = row['weights']\n",
    "            if stock in stocks_name:\n",
    "                if pd.notna(prev_prices[stock]) and prev_prices[stock] > 0:\n",
    "                    shares = (capital * weight) / prev_prices[stock]\n",
    "                    holdings.loc[stock, prev_date] = shares\n",
    "                    \n",
    "    next_day_value = 0\n",
    "    stock_values = {}\n",
    "    \n",
    "    for stock in stocks_name:\n",
    "        if holdings.loc[stock, prev_date] > 0:\n",
    "            if pd.notna(curr_prices[stock]):\n",
    "                stock_value = holdings.loc[stock, prev_date] * curr_prices[stock]\n",
    "                next_day_value += stock_value\n",
    "                stock_values[stock] = stock_value\n",
    "\n",
    "    stock_values = {k: v for k, v in sorted(stock_values.items(), key=lambda item: item[1], reverse=True)}\n",
    "  \n",
    "    portfolio[problem_date] = next_day_value\n",
    "    returns = portfolio[problem_date] / portfolio[prev_date] - 1\n",
    "    \n",
    "    print(f\"\\n模拟计算的投资组合收益率: {returns:.6f}\")\n",
    "    print(f\"前一日价值: {portfolio[prev_date]:.2f}\")\n",
    "    print(f\"当前日价值: {portfolio[problem_date]:.2f}\")\n",
    "    \n",
    "    print(\"\\n贡献最大的股票:\")\n",
    "    total_analyzed = 0\n",
    "    \n",
    "    for i, (stock, value) in enumerate(stock_values.items()):\n",
    "        if i >= 10:\n",
    "            break\n",
    "            \n",
    "        contribution = value / portfolio[problem_date]\n",
    "        price_chg = price_change.loc[stock, 'change_ratio'] if stock in price_change.index else \"N/A\"\n",
    "        weight = prev_weights[prev_weights['gvkey'] == stock]['weights'].values[0] if stock in prev_weights['gvkey'].values else \"N/A\"\n",
    "        \n",
    "        print(f\"{stock}: 价值贡献 ${value:.2f} ({contribution:.2%}), 价格变化 {price_chg:.2%}, 权重 {weight}\")\n",
    "        total_analyzed += contribution\n",
    "    \n",
    "    print(f\"以上股票占总价值的 {total_analyzed:.2%}\")\n",
    "    \n",
    "    print(\"\\n可能的异常原因诊断:\")\n",
    "    \n",
    "    if portfolio[prev_date] < capital * 0.01:\n",
    "        print(\"- 警告: 前一日投资组合价值异常小，可能导致计算的收益率被放大\")\n",
    "    \n",
    "    if len(extreme_changes) > 0:\n",
    "        print(f\"- 发现 {len(extreme_changes)} 只股票价格异常变化 (>50%)\")\n",
    "        if len(prev_weights) > 0:\n",
    "            for stock in extreme_changes.index[:5]:\n",
    "                if stock in prev_weights['gvkey'].values:\n",
    "                    stock_weight = prev_weights[prev_weights['gvkey'] == stock]['weights'].values[0]\n",
    "                    if stock_weight > 0.05:\n",
    "                        print(f\"  * 股票 {stock} 价格变化 {price_change.loc[stock, 'change_ratio']:.2%}, 权重 {stock_weight:.2%}\")\n",
    "    \n",
    "    if len(prev_weights) > 0:\n",
    "        top_weight_sum = prev_weights.sort_values('weights', ascending=False).head(5)['weights'].sum()\n",
    "        if top_weight_sum > 0.5:\n",
    "            print(f\"- 权重过度集中: 前5只股票占总权重的 {top_weight_sum:.2%}\")\n",
    "    \n",
    "    result = {\n",
    "        \"problem_date\": problem_date,\n",
    "        \"prev_date\": prev_date,\n",
    "        \"returns\": returns,\n",
    "        \"prev_value\": portfolio[prev_date],\n",
    "        \"curr_value\": portfolio[problem_date],\n",
    "        \"extreme_price_changes\": extreme_changes,\n",
    "        \"top_contributors\": list(stock_values.keys())[:5]\n",
    "    }\n",
    "    \n",
    "    return result"
   ]
  },
  {
   "cell_type": "code",
   "execution_count": 57,
   "metadata": {},
   "outputs": [
    {
     "name": "stdout",
     "output_type": "stream",
     "text": [
      "分析日期: 2009-06-01, 前一交易日: 2009-03-02\n",
      "\n",
      "前一交易日 2009-03-02 的权重分布:\n",
      "权重数量: 149\n",
      "权重统计: \n",
      "count    149.00000\n",
      "mean       0.00671\n",
      "std        0.00000\n",
      "min        0.00671\n",
      "25%        0.00671\n",
      "50%        0.00671\n",
      "75%        0.00671\n",
      "max        0.00671\n",
      "Name: weights, dtype: float64\n",
      "权重总和: 0.99979\n",
      "\n",
      "权重最大的5只股票:\n",
      "      Unnamed: 0  trade_date  gvkey  weights  predicted_return\n",
      "4512           0  2009-03-02   1161  0.00671          0.035598\n",
      "4606          94  2009-03-02  24216  0.00671          0.074394\n",
      "4608          96  2009-03-02  24782  0.00671          0.036313\n",
      "4609          97  2009-03-02  27914  0.00671          0.036107\n",
      "4610          98  2009-03-02  27965  0.00671          0.034819\n",
      "\n",
      "价格变化统计:\n",
      "count      534.000000\n",
      "mean        35.168162\n",
      "std        798.414931\n",
      "min         -0.925000\n",
      "25%          0.224487\n",
      "50%          0.444399\n",
      "75%          0.746368\n",
      "max      18450.732534\n",
      "Name: change_ratio, dtype: float64\n",
      "\n",
      "发现 232 只股票价格变化超过50%:\n",
      "        prev_price    curr_price  change_ratio\n",
      "10540     0.596150  11000.000000  18450.732534\n",
      "3278      0.399045      4.722033     10.833333\n",
      "158354    1.090000      6.600000      5.055046\n",
      "14624     8.064173     45.667763      4.663044\n",
      "161844    1.416200      6.964602      3.917808\n",
      "1794      2.331403     11.301669      3.847583\n",
      "2504      3.600000     14.500000      3.027778\n",
      "4640      1.130906      4.491225      2.971351\n",
      "1487      5.392723     21.314087      2.952379\n",
      "7750      4.040000     15.240000      2.772277\n",
      "\n",
      "模拟计算的投资组合收益率: 124.549772\n",
      "前一日价值: 1000000.00\n",
      "当前日价值: 125549771.50\n",
      "\n",
      "贡献最大的股票:\n",
      "10540: 价值贡献 $123811125.30 (98.62%), 价格变化 1845073.25%, 权重 0.00671\n",
      "158354: 价值贡献 $40629.36 (0.03%), 价格变化 505.50%, 权重 0.00671\n",
      "4640: 价值贡献 $26647.77 (0.02%), 价格变化 297.14%, 权重 0.00671\n",
      "1487: 价值贡献 $26520.46 (0.02%), 价格变化 295.24%, 权重 0.00671\n",
      "7750: 价值贡献 $25311.98 (0.02%), 价格变化 277.23%, 权重 0.00671\n",
      "6821: 价值贡献 $23691.46 (0.02%), 价格变化 253.08%, 权重 0.00671\n",
      "24032: 价值贡献 $23658.96 (0.02%), 价格变化 252.59%, 权重 0.00671\n",
      "3964: 价值贡献 $22171.47 (0.02%), 价格变化 230.42%, 权重 0.00671\n",
      "61739: 价值贡献 $20000.97 (0.02%), 价格变化 198.08%, 权重 0.00671\n",
      "163036: 价值贡献 $19685.63 (0.02%), 价格变化 193.38%, 权重 0.00671\n",
      "以上股票占总价值的 98.80%\n",
      "\n",
      "可能的异常原因诊断:\n",
      "- 发现 232 只股票价格异常变化 (>50%)\n"
     ]
    },
    {
     "name": "stderr",
     "output_type": "stream",
     "text": [
      "C:\\Users\\misss\\AppData\\Local\\Temp\\ipykernel_31220\\1958549341.py:81: FutureWarning:\n",
      "\n",
      "Downcasting object dtype arrays on .fillna, .ffill, .bfill is deprecated and will change in a future version. Call result.infer_objects(copy=False) instead. To opt-in to the future behavior, set `pd.set_option('future.no_silent_downcasting', True)`\n",
      "\n",
      "C:\\Users\\misss\\AppData\\Local\\Temp\\ipykernel_31220\\1958549341.py:90: FutureWarning:\n",
      "\n",
      "Setting an item of incompatible dtype is deprecated and will raise an error in a future version of pandas. Value '3338.3084735505427' has dtype incompatible with int64, please explicitly cast to a compatible dtype first.\n",
      "\n"
     ]
    }
   ],
   "source": [
    "# 调用分析函数\n",
    "anomaly_report = analyze_portfolio_anomaly(\n",
    "    stocks_name=stocks_name, \n",
    "    tradedate=tradedate,\n",
    "    weight_table=weight_meanv,\n",
    "    balance_daily=balance_daily,\n",
    "    capital=capital,\n",
    "    problem_date=\"2009-06-01\"  # 异常日期\n",
    ")"
   ]
  },
  {
   "cell_type": "code",
   "execution_count": 28,
   "metadata": {},
   "outputs": [
    {
     "name": "stderr",
     "output_type": "stream",
     "text": [
      "C:\\Users\\misss\\AppData\\Local\\Temp\\ipykernel_31220\\1845856610.py:10: FutureWarning: Downcasting object dtype arrays on .fillna, .ffill, .bfill is deprecated and will change in a future version. Call result.infer_objects(copy=False) instead. To opt-in to the future behavior, set `pd.set_option('future.no_silent_downcasting', True)`\n",
      "  balance_weight = balance_weight.fillna(0)\n",
      "C:\\Users\\misss\\AppData\\Local\\Temp\\ipykernel_31220\\1845856610.py:19: FutureWarning: Setting an item of incompatible dtype is deprecated and will raise an error in a future version of pandas. Value '0.00917' has dtype incompatible with int64, please explicitly cast to a compatible dtype first.\n",
      "  balance_weight.loc[tics, date] = w\n",
      "C:\\Users\\misss\\AppData\\Local\\Temp\\ipykernel_31220\\1845856610.py:19: FutureWarning: Setting an item of incompatible dtype is deprecated and will raise an error in a future version of pandas. Value '0.00699' has dtype incompatible with int64, please explicitly cast to a compatible dtype first.\n",
      "  balance_weight.loc[tics, date] = w\n",
      "C:\\Users\\misss\\AppData\\Local\\Temp\\ipykernel_31220\\1845856610.py:19: FutureWarning: Setting an item of incompatible dtype is deprecated and will raise an error in a future version of pandas. Value '0.00676' has dtype incompatible with int64, please explicitly cast to a compatible dtype first.\n",
      "  balance_weight.loc[tics, date] = w\n",
      "C:\\Users\\misss\\AppData\\Local\\Temp\\ipykernel_31220\\1845856610.py:19: FutureWarning: Setting an item of incompatible dtype is deprecated and will raise an error in a future version of pandas. Value '0.00699' has dtype incompatible with int64, please explicitly cast to a compatible dtype first.\n",
      "  balance_weight.loc[tics, date] = w\n",
      "C:\\Users\\misss\\AppData\\Local\\Temp\\ipykernel_31220\\1845856610.py:19: FutureWarning: Setting an item of incompatible dtype is deprecated and will raise an error in a future version of pandas. Value '0.00763' has dtype incompatible with int64, please explicitly cast to a compatible dtype first.\n",
      "  balance_weight.loc[tics, date] = w\n",
      "C:\\Users\\misss\\AppData\\Local\\Temp\\ipykernel_31220\\1845856610.py:19: FutureWarning: Setting an item of incompatible dtype is deprecated and will raise an error in a future version of pandas. Value '0.00775' has dtype incompatible with int64, please explicitly cast to a compatible dtype first.\n",
      "  balance_weight.loc[tics, date] = w\n",
      "C:\\Users\\misss\\AppData\\Local\\Temp\\ipykernel_31220\\1845856610.py:19: FutureWarning: Setting an item of incompatible dtype is deprecated and will raise an error in a future version of pandas. Value '0.00794' has dtype incompatible with int64, please explicitly cast to a compatible dtype first.\n",
      "  balance_weight.loc[tics, date] = w\n",
      "C:\\Users\\misss\\AppData\\Local\\Temp\\ipykernel_31220\\1845856610.py:19: FutureWarning: Setting an item of incompatible dtype is deprecated and will raise an error in a future version of pandas. Value '0.00794' has dtype incompatible with int64, please explicitly cast to a compatible dtype first.\n",
      "  balance_weight.loc[tics, date] = w\n",
      "C:\\Users\\misss\\AppData\\Local\\Temp\\ipykernel_31220\\1845856610.py:19: FutureWarning: Setting an item of incompatible dtype is deprecated and will raise an error in a future version of pandas. Value '0.00794' has dtype incompatible with int64, please explicitly cast to a compatible dtype first.\n",
      "  balance_weight.loc[tics, date] = w\n",
      "C:\\Users\\misss\\AppData\\Local\\Temp\\ipykernel_31220\\1845856610.py:19: FutureWarning: Setting an item of incompatible dtype is deprecated and will raise an error in a future version of pandas. Value '0.01053' has dtype incompatible with int64, please explicitly cast to a compatible dtype first.\n",
      "  balance_weight.loc[tics, date] = w\n",
      "C:\\Users\\misss\\AppData\\Local\\Temp\\ipykernel_31220\\1845856610.py:19: FutureWarning: Setting an item of incompatible dtype is deprecated and will raise an error in a future version of pandas. Value '0.00833' has dtype incompatible with int64, please explicitly cast to a compatible dtype first.\n",
      "  balance_weight.loc[tics, date] = w\n",
      "C:\\Users\\misss\\AppData\\Local\\Temp\\ipykernel_31220\\1845856610.py:19: FutureWarning: Setting an item of incompatible dtype is deprecated and will raise an error in a future version of pandas. Value '0.00741' has dtype incompatible with int64, please explicitly cast to a compatible dtype first.\n",
      "  balance_weight.loc[tics, date] = w\n",
      "C:\\Users\\misss\\AppData\\Local\\Temp\\ipykernel_31220\\1845856610.py:19: FutureWarning: Setting an item of incompatible dtype is deprecated and will raise an error in a future version of pandas. Value '0.00654' has dtype incompatible with int64, please explicitly cast to a compatible dtype first.\n",
      "  balance_weight.loc[tics, date] = w\n",
      "C:\\Users\\misss\\AppData\\Local\\Temp\\ipykernel_31220\\1845856610.py:19: FutureWarning: Setting an item of incompatible dtype is deprecated and will raise an error in a future version of pandas. Value '0.00709' has dtype incompatible with int64, please explicitly cast to a compatible dtype first.\n",
      "  balance_weight.loc[tics, date] = w\n",
      "C:\\Users\\misss\\AppData\\Local\\Temp\\ipykernel_31220\\1845856610.py:19: FutureWarning: Setting an item of incompatible dtype is deprecated and will raise an error in a future version of pandas. Value '0.0068' has dtype incompatible with int64, please explicitly cast to a compatible dtype first.\n",
      "  balance_weight.loc[tics, date] = w\n",
      "C:\\Users\\misss\\AppData\\Local\\Temp\\ipykernel_31220\\1845856610.py:19: FutureWarning: Setting an item of incompatible dtype is deprecated and will raise an error in a future version of pandas. Value '0.0069' has dtype incompatible with int64, please explicitly cast to a compatible dtype first.\n",
      "  balance_weight.loc[tics, date] = w\n",
      "C:\\Users\\misss\\AppData\\Local\\Temp\\ipykernel_31220\\1845856610.py:19: FutureWarning: Setting an item of incompatible dtype is deprecated and will raise an error in a future version of pandas. Value '0.0069' has dtype incompatible with int64, please explicitly cast to a compatible dtype first.\n",
      "  balance_weight.loc[tics, date] = w\n",
      "C:\\Users\\misss\\AppData\\Local\\Temp\\ipykernel_31220\\1845856610.py:19: FutureWarning: Setting an item of incompatible dtype is deprecated and will raise an error in a future version of pandas. Value '0.00746' has dtype incompatible with int64, please explicitly cast to a compatible dtype first.\n",
      "  balance_weight.loc[tics, date] = w\n",
      "C:\\Users\\misss\\AppData\\Local\\Temp\\ipykernel_31220\\1845856610.py:19: FutureWarning: Setting an item of incompatible dtype is deprecated and will raise an error in a future version of pandas. Value '0.00641' has dtype incompatible with int64, please explicitly cast to a compatible dtype first.\n",
      "  balance_weight.loc[tics, date] = w\n",
      "C:\\Users\\misss\\AppData\\Local\\Temp\\ipykernel_31220\\1845856610.py:19: FutureWarning: Setting an item of incompatible dtype is deprecated and will raise an error in a future version of pandas. Value '0.00667' has dtype incompatible with int64, please explicitly cast to a compatible dtype first.\n",
      "  balance_weight.loc[tics, date] = w\n",
      "C:\\Users\\misss\\AppData\\Local\\Temp\\ipykernel_31220\\1845856610.py:19: FutureWarning: Setting an item of incompatible dtype is deprecated and will raise an error in a future version of pandas. Value '0.00676' has dtype incompatible with int64, please explicitly cast to a compatible dtype first.\n",
      "  balance_weight.loc[tics, date] = w\n",
      "C:\\Users\\misss\\AppData\\Local\\Temp\\ipykernel_31220\\1845856610.py:19: FutureWarning: Setting an item of incompatible dtype is deprecated and will raise an error in a future version of pandas. Value '0.00704' has dtype incompatible with int64, please explicitly cast to a compatible dtype first.\n",
      "  balance_weight.loc[tics, date] = w\n",
      "C:\\Users\\misss\\AppData\\Local\\Temp\\ipykernel_31220\\1845856610.py:19: FutureWarning: Setting an item of incompatible dtype is deprecated and will raise an error in a future version of pandas. Value '0.00649' has dtype incompatible with int64, please explicitly cast to a compatible dtype first.\n",
      "  balance_weight.loc[tics, date] = w\n",
      "C:\\Users\\misss\\AppData\\Local\\Temp\\ipykernel_31220\\1845856610.py:19: FutureWarning: Setting an item of incompatible dtype is deprecated and will raise an error in a future version of pandas. Value '0.00667' has dtype incompatible with int64, please explicitly cast to a compatible dtype first.\n",
      "  balance_weight.loc[tics, date] = w\n",
      "C:\\Users\\misss\\AppData\\Local\\Temp\\ipykernel_31220\\1845856610.py:19: FutureWarning: Setting an item of incompatible dtype is deprecated and will raise an error in a future version of pandas. Value '0.00641' has dtype incompatible with int64, please explicitly cast to a compatible dtype first.\n",
      "  balance_weight.loc[tics, date] = w\n",
      "C:\\Users\\misss\\AppData\\Local\\Temp\\ipykernel_31220\\1845856610.py:19: FutureWarning: Setting an item of incompatible dtype is deprecated and will raise an error in a future version of pandas. Value '0.00752' has dtype incompatible with int64, please explicitly cast to a compatible dtype first.\n",
      "  balance_weight.loc[tics, date] = w\n",
      "C:\\Users\\misss\\AppData\\Local\\Temp\\ipykernel_31220\\1845856610.py:19: FutureWarning: Setting an item of incompatible dtype is deprecated and will raise an error in a future version of pandas. Value '0.00735' has dtype incompatible with int64, please explicitly cast to a compatible dtype first.\n",
      "  balance_weight.loc[tics, date] = w\n",
      "C:\\Users\\misss\\AppData\\Local\\Temp\\ipykernel_31220\\1845856610.py:19: FutureWarning: Setting an item of incompatible dtype is deprecated and will raise an error in a future version of pandas. Value '0.00645' has dtype incompatible with int64, please explicitly cast to a compatible dtype first.\n",
      "  balance_weight.loc[tics, date] = w\n",
      "C:\\Users\\misss\\AppData\\Local\\Temp\\ipykernel_31220\\1845856610.py:19: FutureWarning: Setting an item of incompatible dtype is deprecated and will raise an error in a future version of pandas. Value '0.00662' has dtype incompatible with int64, please explicitly cast to a compatible dtype first.\n",
      "  balance_weight.loc[tics, date] = w\n",
      "C:\\Users\\misss\\AppData\\Local\\Temp\\ipykernel_31220\\1845856610.py:19: FutureWarning: Setting an item of incompatible dtype is deprecated and will raise an error in a future version of pandas. Value '0.0061' has dtype incompatible with int64, please explicitly cast to a compatible dtype first.\n",
      "  balance_weight.loc[tics, date] = w\n",
      "C:\\Users\\misss\\AppData\\Local\\Temp\\ipykernel_31220\\1845856610.py:19: FutureWarning: Setting an item of incompatible dtype is deprecated and will raise an error in a future version of pandas. Value '0.00645' has dtype incompatible with int64, please explicitly cast to a compatible dtype first.\n",
      "  balance_weight.loc[tics, date] = w\n",
      "C:\\Users\\misss\\AppData\\Local\\Temp\\ipykernel_31220\\1845856610.py:19: FutureWarning: Setting an item of incompatible dtype is deprecated and will raise an error in a future version of pandas. Value '0.00606' has dtype incompatible with int64, please explicitly cast to a compatible dtype first.\n",
      "  balance_weight.loc[tics, date] = w\n",
      "C:\\Users\\misss\\AppData\\Local\\Temp\\ipykernel_31220\\1845856610.py:19: FutureWarning: Setting an item of incompatible dtype is deprecated and will raise an error in a future version of pandas. Value '0.00671' has dtype incompatible with int64, please explicitly cast to a compatible dtype first.\n",
      "  balance_weight.loc[tics, date] = w\n",
      "C:\\Users\\misss\\AppData\\Local\\Temp\\ipykernel_31220\\1845856610.py:19: FutureWarning: Setting an item of incompatible dtype is deprecated and will raise an error in a future version of pandas. Value '0.00725' has dtype incompatible with int64, please explicitly cast to a compatible dtype first.\n",
      "  balance_weight.loc[tics, date] = w\n",
      "C:\\Users\\misss\\AppData\\Local\\Temp\\ipykernel_31220\\1845856610.py:19: FutureWarning: Setting an item of incompatible dtype is deprecated and will raise an error in a future version of pandas. Value '0.00709' has dtype incompatible with int64, please explicitly cast to a compatible dtype first.\n",
      "  balance_weight.loc[tics, date] = w\n",
      "C:\\Users\\misss\\AppData\\Local\\Temp\\ipykernel_31220\\1845856610.py:19: FutureWarning: Setting an item of incompatible dtype is deprecated and will raise an error in a future version of pandas. Value '0.00714' has dtype incompatible with int64, please explicitly cast to a compatible dtype first.\n",
      "  balance_weight.loc[tics, date] = w\n",
      "C:\\Users\\misss\\AppData\\Local\\Temp\\ipykernel_31220\\1845856610.py:19: FutureWarning: Setting an item of incompatible dtype is deprecated and will raise an error in a future version of pandas. Value '0.00556' has dtype incompatible with int64, please explicitly cast to a compatible dtype first.\n",
      "  balance_weight.loc[tics, date] = w\n",
      "C:\\Users\\misss\\AppData\\Local\\Temp\\ipykernel_31220\\1845856610.py:19: FutureWarning: Setting an item of incompatible dtype is deprecated and will raise an error in a future version of pandas. Value '0.00645' has dtype incompatible with int64, please explicitly cast to a compatible dtype first.\n",
      "  balance_weight.loc[tics, date] = w\n",
      "C:\\Users\\misss\\AppData\\Local\\Temp\\ipykernel_31220\\1845856610.py:19: FutureWarning: Setting an item of incompatible dtype is deprecated and will raise an error in a future version of pandas. Value '0.00699' has dtype incompatible with int64, please explicitly cast to a compatible dtype first.\n",
      "  balance_weight.loc[tics, date] = w\n",
      "C:\\Users\\misss\\AppData\\Local\\Temp\\ipykernel_31220\\1845856610.py:19: FutureWarning: Setting an item of incompatible dtype is deprecated and will raise an error in a future version of pandas. Value '0.00621' has dtype incompatible with int64, please explicitly cast to a compatible dtype first.\n",
      "  balance_weight.loc[tics, date] = w\n",
      "C:\\Users\\misss\\AppData\\Local\\Temp\\ipykernel_31220\\1845856610.py:19: FutureWarning: Setting an item of incompatible dtype is deprecated and will raise an error in a future version of pandas. Value '0.00575' has dtype incompatible with int64, please explicitly cast to a compatible dtype first.\n",
      "  balance_weight.loc[tics, date] = w\n",
      "C:\\Users\\misss\\AppData\\Local\\Temp\\ipykernel_31220\\1845856610.py:19: FutureWarning: Setting an item of incompatible dtype is deprecated and will raise an error in a future version of pandas. Value '0.00595' has dtype incompatible with int64, please explicitly cast to a compatible dtype first.\n",
      "  balance_weight.loc[tics, date] = w\n",
      "C:\\Users\\misss\\AppData\\Local\\Temp\\ipykernel_31220\\1845856610.py:19: FutureWarning: Setting an item of incompatible dtype is deprecated and will raise an error in a future version of pandas. Value '0.00685' has dtype incompatible with int64, please explicitly cast to a compatible dtype first.\n",
      "  balance_weight.loc[tics, date] = w\n",
      "C:\\Users\\misss\\AppData\\Local\\Temp\\ipykernel_31220\\1845856610.py:19: FutureWarning: Setting an item of incompatible dtype is deprecated and will raise an error in a future version of pandas. Value '0.00694' has dtype incompatible with int64, please explicitly cast to a compatible dtype first.\n",
      "  balance_weight.loc[tics, date] = w\n",
      "C:\\Users\\misss\\AppData\\Local\\Temp\\ipykernel_31220\\1845856610.py:19: FutureWarning: Setting an item of incompatible dtype is deprecated and will raise an error in a future version of pandas. Value '0.00667' has dtype incompatible with int64, please explicitly cast to a compatible dtype first.\n",
      "  balance_weight.loc[tics, date] = w\n",
      "C:\\Users\\misss\\AppData\\Local\\Temp\\ipykernel_31220\\1845856610.py:19: FutureWarning: Setting an item of incompatible dtype is deprecated and will raise an error in a future version of pandas. Value '0.00599' has dtype incompatible with int64, please explicitly cast to a compatible dtype first.\n",
      "  balance_weight.loc[tics, date] = w\n",
      "C:\\Users\\misss\\AppData\\Local\\Temp\\ipykernel_31220\\1845856610.py:19: FutureWarning: Setting an item of incompatible dtype is deprecated and will raise an error in a future version of pandas. Value '0.00588' has dtype incompatible with int64, please explicitly cast to a compatible dtype first.\n",
      "  balance_weight.loc[tics, date] = w\n",
      "C:\\Users\\misss\\AppData\\Local\\Temp\\ipykernel_31220\\1845856610.py:19: FutureWarning: Setting an item of incompatible dtype is deprecated and will raise an error in a future version of pandas. Value '0.0051' has dtype incompatible with int64, please explicitly cast to a compatible dtype first.\n",
      "  balance_weight.loc[tics, date] = w\n",
      "C:\\Users\\misss\\AppData\\Local\\Temp\\ipykernel_31220\\1845856610.py:19: FutureWarning: Setting an item of incompatible dtype is deprecated and will raise an error in a future version of pandas. Value '0.00671' has dtype incompatible with int64, please explicitly cast to a compatible dtype first.\n",
      "  balance_weight.loc[tics, date] = w\n",
      "C:\\Users\\misss\\AppData\\Local\\Temp\\ipykernel_31220\\1845856610.py:19: FutureWarning: Setting an item of incompatible dtype is deprecated and will raise an error in a future version of pandas. Value '0.00658' has dtype incompatible with int64, please explicitly cast to a compatible dtype first.\n",
      "  balance_weight.loc[tics, date] = w\n",
      "C:\\Users\\misss\\AppData\\Local\\Temp\\ipykernel_31220\\1845856610.py:19: FutureWarning: Setting an item of incompatible dtype is deprecated and will raise an error in a future version of pandas. Value '0.00467' has dtype incompatible with int64, please explicitly cast to a compatible dtype first.\n",
      "  balance_weight.loc[tics, date] = w\n",
      "C:\\Users\\misss\\AppData\\Local\\Temp\\ipykernel_31220\\1845856610.py:19: FutureWarning: Setting an item of incompatible dtype is deprecated and will raise an error in a future version of pandas. Value '0.00585' has dtype incompatible with int64, please explicitly cast to a compatible dtype first.\n",
      "  balance_weight.loc[tics, date] = w\n",
      "C:\\Users\\misss\\AppData\\Local\\Temp\\ipykernel_31220\\1845856610.py:19: FutureWarning: Setting an item of incompatible dtype is deprecated and will raise an error in a future version of pandas. Value '0.00633' has dtype incompatible with int64, please explicitly cast to a compatible dtype first.\n",
      "  balance_weight.loc[tics, date] = w\n",
      "C:\\Users\\misss\\AppData\\Local\\Temp\\ipykernel_31220\\1845856610.py:19: FutureWarning: Setting an item of incompatible dtype is deprecated and will raise an error in a future version of pandas. Value '0.00588' has dtype incompatible with int64, please explicitly cast to a compatible dtype first.\n",
      "  balance_weight.loc[tics, date] = w\n",
      "C:\\Users\\misss\\AppData\\Local\\Temp\\ipykernel_31220\\1845856610.py:19: FutureWarning: Setting an item of incompatible dtype is deprecated and will raise an error in a future version of pandas. Value '0.00645' has dtype incompatible with int64, please explicitly cast to a compatible dtype first.\n",
      "  balance_weight.loc[tics, date] = w\n",
      "C:\\Users\\misss\\AppData\\Local\\Temp\\ipykernel_31220\\1845856610.py:19: FutureWarning: Setting an item of incompatible dtype is deprecated and will raise an error in a future version of pandas. Value '0.00433' has dtype incompatible with int64, please explicitly cast to a compatible dtype first.\n",
      "  balance_weight.loc[tics, date] = w\n",
      "C:\\Users\\misss\\AppData\\Local\\Temp\\ipykernel_31220\\1845856610.py:19: FutureWarning: Setting an item of incompatible dtype is deprecated and will raise an error in a future version of pandas. Value '0.00452' has dtype incompatible with int64, please explicitly cast to a compatible dtype first.\n",
      "  balance_weight.loc[tics, date] = w\n",
      "C:\\Users\\misss\\AppData\\Local\\Temp\\ipykernel_31220\\1845856610.py:19: FutureWarning: Setting an item of incompatible dtype is deprecated and will raise an error in a future version of pandas. Value '0.00392' has dtype incompatible with int64, please explicitly cast to a compatible dtype first.\n",
      "  balance_weight.loc[tics, date] = w\n",
      "C:\\Users\\misss\\AppData\\Local\\Temp\\ipykernel_31220\\1845856610.py:19: FutureWarning: Setting an item of incompatible dtype is deprecated and will raise an error in a future version of pandas. Value '0.00469' has dtype incompatible with int64, please explicitly cast to a compatible dtype first.\n",
      "  balance_weight.loc[tics, date] = w\n",
      "C:\\Users\\misss\\AppData\\Local\\Temp\\ipykernel_31220\\1845856610.py:19: FutureWarning: Setting an item of incompatible dtype is deprecated and will raise an error in a future version of pandas. Value '0.00469' has dtype incompatible with int64, please explicitly cast to a compatible dtype first.\n",
      "  balance_weight.loc[tics, date] = w\n",
      "C:\\Users\\misss\\AppData\\Local\\Temp\\ipykernel_31220\\1845856610.py:19: FutureWarning: Setting an item of incompatible dtype is deprecated and will raise an error in a future version of pandas. Value '0.00315' has dtype incompatible with int64, please explicitly cast to a compatible dtype first.\n",
      "  balance_weight.loc[tics, date] = w\n",
      "C:\\Users\\misss\\AppData\\Local\\Temp\\ipykernel_31220\\1845856610.py:19: FutureWarning: Setting an item of incompatible dtype is deprecated and will raise an error in a future version of pandas. Value '0.00323' has dtype incompatible with int64, please explicitly cast to a compatible dtype first.\n",
      "  balance_weight.loc[tics, date] = w\n",
      "C:\\Users\\misss\\AppData\\Local\\Temp\\ipykernel_31220\\1845856610.py:19: FutureWarning: Setting an item of incompatible dtype is deprecated and will raise an error in a future version of pandas. Value '0.00452' has dtype incompatible with int64, please explicitly cast to a compatible dtype first.\n",
      "  balance_weight.loc[tics, date] = w\n",
      "C:\\Users\\misss\\AppData\\Local\\Temp\\ipykernel_31220\\1845856610.py:19: FutureWarning: Setting an item of incompatible dtype is deprecated and will raise an error in a future version of pandas. Value '0.00369' has dtype incompatible with int64, please explicitly cast to a compatible dtype first.\n",
      "  balance_weight.loc[tics, date] = w\n",
      "C:\\Users\\misss\\AppData\\Local\\Temp\\ipykernel_31220\\1845856610.py:19: FutureWarning: Setting an item of incompatible dtype is deprecated and will raise an error in a future version of pandas. Value '0.00397' has dtype incompatible with int64, please explicitly cast to a compatible dtype first.\n",
      "  balance_weight.loc[tics, date] = w\n",
      "C:\\Users\\misss\\AppData\\Local\\Temp\\ipykernel_31220\\1845856610.py:19: FutureWarning: Setting an item of incompatible dtype is deprecated and will raise an error in a future version of pandas. Value '0.00426' has dtype incompatible with int64, please explicitly cast to a compatible dtype first.\n",
      "  balance_weight.loc[tics, date] = w\n",
      "C:\\Users\\misss\\AppData\\Local\\Temp\\ipykernel_31220\\1845856610.py:19: FutureWarning: Setting an item of incompatible dtype is deprecated and will raise an error in a future version of pandas. Value '0.00535' has dtype incompatible with int64, please explicitly cast to a compatible dtype first.\n",
      "  balance_weight.loc[tics, date] = w\n",
      "C:\\Users\\misss\\AppData\\Local\\Temp\\ipykernel_31220\\1845856610.py:19: FutureWarning: Setting an item of incompatible dtype is deprecated and will raise an error in a future version of pandas. Value '0.00412' has dtype incompatible with int64, please explicitly cast to a compatible dtype first.\n",
      "  balance_weight.loc[tics, date] = w\n",
      "C:\\Users\\misss\\AppData\\Local\\Temp\\ipykernel_31220\\1845856610.py:19: FutureWarning: Setting an item of incompatible dtype is deprecated and will raise an error in a future version of pandas. Value '0.00405' has dtype incompatible with int64, please explicitly cast to a compatible dtype first.\n",
      "  balance_weight.loc[tics, date] = w\n",
      "C:\\Users\\misss\\AppData\\Local\\Temp\\ipykernel_31220\\1845856610.py:19: FutureWarning: Setting an item of incompatible dtype is deprecated and will raise an error in a future version of pandas. Value '0.00505' has dtype incompatible with int64, please explicitly cast to a compatible dtype first.\n",
      "  balance_weight.loc[tics, date] = w\n",
      "C:\\Users\\misss\\AppData\\Local\\Temp\\ipykernel_31220\\1845856610.py:19: FutureWarning: Setting an item of incompatible dtype is deprecated and will raise an error in a future version of pandas. Value '0.00389' has dtype incompatible with int64, please explicitly cast to a compatible dtype first.\n",
      "  balance_weight.loc[tics, date] = w\n",
      "C:\\Users\\misss\\AppData\\Local\\Temp\\ipykernel_31220\\1845856610.py:19: FutureWarning: Setting an item of incompatible dtype is deprecated and will raise an error in a future version of pandas. Value '0.00437' has dtype incompatible with int64, please explicitly cast to a compatible dtype first.\n",
      "  balance_weight.loc[tics, date] = w\n",
      "C:\\Users\\misss\\AppData\\Local\\Temp\\ipykernel_31220\\1845856610.py:19: FutureWarning: Setting an item of incompatible dtype is deprecated and will raise an error in a future version of pandas. Value '0.00719' has dtype incompatible with int64, please explicitly cast to a compatible dtype first.\n",
      "  balance_weight.loc[tics, date] = w\n",
      "C:\\Users\\misss\\AppData\\Local\\Temp\\ipykernel_31220\\1845856610.py:19: FutureWarning: Setting an item of incompatible dtype is deprecated and will raise an error in a future version of pandas. Value '0.00493' has dtype incompatible with int64, please explicitly cast to a compatible dtype first.\n",
      "  balance_weight.loc[tics, date] = w\n",
      "C:\\Users\\misss\\AppData\\Local\\Temp\\ipykernel_31220\\1845856610.py:19: FutureWarning: Setting an item of incompatible dtype is deprecated and will raise an error in a future version of pandas. Value '0.00532' has dtype incompatible with int64, please explicitly cast to a compatible dtype first.\n",
      "  balance_weight.loc[tics, date] = w\n",
      "C:\\Users\\misss\\AppData\\Local\\Temp\\ipykernel_31220\\1845856610.py:19: FutureWarning: Setting an item of incompatible dtype is deprecated and will raise an error in a future version of pandas. Value '0.00505' has dtype incompatible with int64, please explicitly cast to a compatible dtype first.\n",
      "  balance_weight.loc[tics, date] = w\n",
      "C:\\Users\\misss\\AppData\\Local\\Temp\\ipykernel_31220\\1845856610.py:19: FutureWarning: Setting an item of incompatible dtype is deprecated and will raise an error in a future version of pandas. Value '0.00455' has dtype incompatible with int64, please explicitly cast to a compatible dtype first.\n",
      "  balance_weight.loc[tics, date] = w\n",
      "C:\\Users\\misss\\AppData\\Local\\Temp\\ipykernel_31220\\1845856610.py:19: FutureWarning: Setting an item of incompatible dtype is deprecated and will raise an error in a future version of pandas. Value '0.00592' has dtype incompatible with int64, please explicitly cast to a compatible dtype first.\n",
      "  balance_weight.loc[tics, date] = w\n",
      "C:\\Users\\misss\\AppData\\Local\\Temp\\ipykernel_31220\\1845856610.py:19: FutureWarning: Setting an item of incompatible dtype is deprecated and will raise an error in a future version of pandas. Value '0.00391' has dtype incompatible with int64, please explicitly cast to a compatible dtype first.\n",
      "  balance_weight.loc[tics, date] = w\n",
      "C:\\Users\\misss\\AppData\\Local\\Temp\\ipykernel_31220\\1845856610.py:19: FutureWarning: Setting an item of incompatible dtype is deprecated and will raise an error in a future version of pandas. Value '0.00568' has dtype incompatible with int64, please explicitly cast to a compatible dtype first.\n",
      "  balance_weight.loc[tics, date] = w\n",
      "C:\\Users\\misss\\AppData\\Local\\Temp\\ipykernel_31220\\1845856610.py:19: FutureWarning: Setting an item of incompatible dtype is deprecated and will raise an error in a future version of pandas. Value '0.00388' has dtype incompatible with int64, please explicitly cast to a compatible dtype first.\n",
      "  balance_weight.loc[tics, date] = w\n",
      "C:\\Users\\misss\\AppData\\Local\\Temp\\ipykernel_31220\\1845856610.py:19: FutureWarning: Setting an item of incompatible dtype is deprecated and will raise an error in a future version of pandas. Value '0.00305' has dtype incompatible with int64, please explicitly cast to a compatible dtype first.\n",
      "  balance_weight.loc[tics, date] = w\n",
      "C:\\Users\\misss\\AppData\\Local\\Temp\\ipykernel_31220\\1845856610.py:19: FutureWarning: Setting an item of incompatible dtype is deprecated and will raise an error in a future version of pandas. Value '0.00295' has dtype incompatible with int64, please explicitly cast to a compatible dtype first.\n",
      "  balance_weight.loc[tics, date] = w\n",
      "C:\\Users\\misss\\AppData\\Local\\Temp\\ipykernel_31220\\1845856610.py:19: FutureWarning: Setting an item of incompatible dtype is deprecated and will raise an error in a future version of pandas. Value '0.00508' has dtype incompatible with int64, please explicitly cast to a compatible dtype first.\n",
      "  balance_weight.loc[tics, date] = w\n",
      "C:\\Users\\misss\\AppData\\Local\\Temp\\ipykernel_31220\\1845856610.py:19: FutureWarning: Setting an item of incompatible dtype is deprecated and will raise an error in a future version of pandas. Value '0.00518' has dtype incompatible with int64, please explicitly cast to a compatible dtype first.\n",
      "  balance_weight.loc[tics, date] = w\n",
      "C:\\Users\\misss\\AppData\\Local\\Temp\\ipykernel_31220\\1845856610.py:19: FutureWarning: Setting an item of incompatible dtype is deprecated and will raise an error in a future version of pandas. Value '0.00559' has dtype incompatible with int64, please explicitly cast to a compatible dtype first.\n",
      "  balance_weight.loc[tics, date] = w\n",
      "C:\\Users\\misss\\AppData\\Local\\Temp\\ipykernel_31220\\1845856610.py:19: FutureWarning: Setting an item of incompatible dtype is deprecated and will raise an error in a future version of pandas. Value '0.00559' has dtype incompatible with int64, please explicitly cast to a compatible dtype first.\n",
      "  balance_weight.loc[tics, date] = w\n",
      "C:\\Users\\misss\\AppData\\Local\\Temp\\ipykernel_31220\\1845856610.py:19: FutureWarning: Setting an item of incompatible dtype is deprecated and will raise an error in a future version of pandas. Value '0.0041' has dtype incompatible with int64, please explicitly cast to a compatible dtype first.\n",
      "  balance_weight.loc[tics, date] = w\n",
      "C:\\Users\\misss\\AppData\\Local\\Temp\\ipykernel_31220\\1845856610.py:19: FutureWarning: Setting an item of incompatible dtype is deprecated and will raise an error in a future version of pandas. Value '0.00402' has dtype incompatible with int64, please explicitly cast to a compatible dtype first.\n",
      "  balance_weight.loc[tics, date] = w\n",
      "C:\\Users\\misss\\AppData\\Local\\Temp\\ipykernel_31220\\1845856610.py:19: FutureWarning: Setting an item of incompatible dtype is deprecated and will raise an error in a future version of pandas. Value '0.00483' has dtype incompatible with int64, please explicitly cast to a compatible dtype first.\n",
      "  balance_weight.loc[tics, date] = w\n",
      "C:\\Users\\misss\\AppData\\Local\\Temp\\ipykernel_31220\\1845856610.py:19: FutureWarning: Setting an item of incompatible dtype is deprecated and will raise an error in a future version of pandas. Value '0.00463' has dtype incompatible with int64, please explicitly cast to a compatible dtype first.\n",
      "  balance_weight.loc[tics, date] = w\n",
      "C:\\Users\\misss\\AppData\\Local\\Temp\\ipykernel_31220\\1845856610.py:19: FutureWarning: Setting an item of incompatible dtype is deprecated and will raise an error in a future version of pandas. Value '0.00585' has dtype incompatible with int64, please explicitly cast to a compatible dtype first.\n",
      "  balance_weight.loc[tics, date] = w\n",
      "C:\\Users\\misss\\AppData\\Local\\Temp\\ipykernel_31220\\1845856610.py:19: FutureWarning: Setting an item of incompatible dtype is deprecated and will raise an error in a future version of pandas. Value '0.00481' has dtype incompatible with int64, please explicitly cast to a compatible dtype first.\n",
      "  balance_weight.loc[tics, date] = w\n",
      "C:\\Users\\misss\\AppData\\Local\\Temp\\ipykernel_31220\\1845856610.py:19: FutureWarning: Setting an item of incompatible dtype is deprecated and will raise an error in a future version of pandas. Value '0.00435' has dtype incompatible with int64, please explicitly cast to a compatible dtype first.\n",
      "  balance_weight.loc[tics, date] = w\n",
      "C:\\Users\\misss\\AppData\\Local\\Temp\\ipykernel_31220\\1845856610.py:19: FutureWarning: Setting an item of incompatible dtype is deprecated and will raise an error in a future version of pandas. Value '0.00392' has dtype incompatible with int64, please explicitly cast to a compatible dtype first.\n",
      "  balance_weight.loc[tics, date] = w\n",
      "C:\\Users\\misss\\AppData\\Local\\Temp\\ipykernel_31220\\1845856610.py:19: FutureWarning: Setting an item of incompatible dtype is deprecated and will raise an error in a future version of pandas. Value '0.00407' has dtype incompatible with int64, please explicitly cast to a compatible dtype first.\n",
      "  balance_weight.loc[tics, date] = w\n",
      "C:\\Users\\misss\\AppData\\Local\\Temp\\ipykernel_31220\\1845856610.py:24: FutureWarning: Downcasting object dtype arrays on .fillna, .ffill, .bfill is deprecated and will change in a future version. Call result.infer_objects(copy=False) instead. To opt-in to the future behavior, set `pd.set_option('future.no_silent_downcasting', True)`\n",
      "  balance_share = balance_share.fillna(0)\n",
      "C:\\Users\\misss\\AppData\\Local\\Temp\\ipykernel_31220\\1845856610.py:27: FutureWarning: Downcasting object dtype arrays on .fillna, .ffill, .bfill is deprecated and will change in a future version. Call result.infer_objects(copy=False) instead. To opt-in to the future behavior, set `pd.set_option('future.no_silent_downcasting', True)`\n",
      "  balance_cost = balance_cost.fillna(0)\n",
      "C:\\Users\\misss\\AppData\\Local\\Temp\\ipykernel_31220\\1845856610.py:30: FutureWarning: Downcasting object dtype arrays on .fillna, .ffill, .bfill is deprecated and will change in a future version. Call result.infer_objects(copy=False) instead. To opt-in to the future behavior, set `pd.set_option('future.no_silent_downcasting', True)`\n",
      "  balance_cash = balance_cash.fillna(0)\n",
      "C:\\Users\\misss\\AppData\\Local\\Temp\\ipykernel_31220\\1845856610.py:41: SettingWithCopyWarning: \n",
      "A value is trying to be set on a copy of a slice from a DataFrame\n",
      "\n",
      "See the caveats in the documentation: https://pandas.pydata.org/pandas-docs/stable/user_guide/indexing.html#returning-a-view-versus-a-copy\n",
      "  balance_price.replace([0, np.inf, -np.inf], np.nan, inplace=True)\n"
     ]
    }
   ],
   "source": [
    "#calculate minimum variance allocation portolio\n",
    "(balance_share_minv,\n",
    " balance_cost_minv,\n",
    " balance_cash_minv,\n",
    " portfolio_minv,\n",
    " portfolio_cost_minv,\n",
    " portfolio_return_minv,\n",
    " portfolio_cumsum_minv)=cal_portfolio(stocks_name,tradedate_full, weight_minv, capital, transaction_percent)"
   ]
  },
  {
   "cell_type": "code",
   "execution_count": 29,
   "metadata": {},
   "outputs": [
    {
     "name": "stderr",
     "output_type": "stream",
     "text": [
      "C:\\Users\\misss\\AppData\\Local\\Temp\\ipykernel_31220\\1845856610.py:10: FutureWarning: Downcasting object dtype arrays on .fillna, .ffill, .bfill is deprecated and will change in a future version. Call result.infer_objects(copy=False) instead. To opt-in to the future behavior, set `pd.set_option('future.no_silent_downcasting', True)`\n",
      "  balance_weight = balance_weight.fillna(0)\n",
      "C:\\Users\\misss\\AppData\\Local\\Temp\\ipykernel_31220\\1845856610.py:19: FutureWarning: Setting an item of incompatible dtype is deprecated and will raise an error in a future version of pandas. Value '0.009174311926605505' has dtype incompatible with int64, please explicitly cast to a compatible dtype first.\n",
      "  balance_weight.loc[tics, date] = w\n",
      "C:\\Users\\misss\\AppData\\Local\\Temp\\ipykernel_31220\\1845856610.py:19: FutureWarning: Setting an item of incompatible dtype is deprecated and will raise an error in a future version of pandas. Value '0.006993006993006993' has dtype incompatible with int64, please explicitly cast to a compatible dtype first.\n",
      "  balance_weight.loc[tics, date] = w\n",
      "C:\\Users\\misss\\AppData\\Local\\Temp\\ipykernel_31220\\1845856610.py:19: FutureWarning: Setting an item of incompatible dtype is deprecated and will raise an error in a future version of pandas. Value '0.006756756756756757' has dtype incompatible with int64, please explicitly cast to a compatible dtype first.\n",
      "  balance_weight.loc[tics, date] = w\n",
      "C:\\Users\\misss\\AppData\\Local\\Temp\\ipykernel_31220\\1845856610.py:19: FutureWarning: Setting an item of incompatible dtype is deprecated and will raise an error in a future version of pandas. Value '0.006993006993006993' has dtype incompatible with int64, please explicitly cast to a compatible dtype first.\n",
      "  balance_weight.loc[tics, date] = w\n",
      "C:\\Users\\misss\\AppData\\Local\\Temp\\ipykernel_31220\\1845856610.py:19: FutureWarning: Setting an item of incompatible dtype is deprecated and will raise an error in a future version of pandas. Value '0.007633587786259542' has dtype incompatible with int64, please explicitly cast to a compatible dtype first.\n",
      "  balance_weight.loc[tics, date] = w\n",
      "C:\\Users\\misss\\AppData\\Local\\Temp\\ipykernel_31220\\1845856610.py:19: FutureWarning: Setting an item of incompatible dtype is deprecated and will raise an error in a future version of pandas. Value '0.007751937984496124' has dtype incompatible with int64, please explicitly cast to a compatible dtype first.\n",
      "  balance_weight.loc[tics, date] = w\n",
      "C:\\Users\\misss\\AppData\\Local\\Temp\\ipykernel_31220\\1845856610.py:19: FutureWarning: Setting an item of incompatible dtype is deprecated and will raise an error in a future version of pandas. Value '0.007936507936507936' has dtype incompatible with int64, please explicitly cast to a compatible dtype first.\n",
      "  balance_weight.loc[tics, date] = w\n",
      "C:\\Users\\misss\\AppData\\Local\\Temp\\ipykernel_31220\\1845856610.py:19: FutureWarning: Setting an item of incompatible dtype is deprecated and will raise an error in a future version of pandas. Value '0.007936507936507936' has dtype incompatible with int64, please explicitly cast to a compatible dtype first.\n",
      "  balance_weight.loc[tics, date] = w\n",
      "C:\\Users\\misss\\AppData\\Local\\Temp\\ipykernel_31220\\1845856610.py:19: FutureWarning: Setting an item of incompatible dtype is deprecated and will raise an error in a future version of pandas. Value '0.007936507936507936' has dtype incompatible with int64, please explicitly cast to a compatible dtype first.\n",
      "  balance_weight.loc[tics, date] = w\n",
      "C:\\Users\\misss\\AppData\\Local\\Temp\\ipykernel_31220\\1845856610.py:19: FutureWarning: Setting an item of incompatible dtype is deprecated and will raise an error in a future version of pandas. Value '0.01052631578947368' has dtype incompatible with int64, please explicitly cast to a compatible dtype first.\n",
      "  balance_weight.loc[tics, date] = w\n",
      "C:\\Users\\misss\\AppData\\Local\\Temp\\ipykernel_31220\\1845856610.py:19: FutureWarning: Setting an item of incompatible dtype is deprecated and will raise an error in a future version of pandas. Value '0.008333333333333333' has dtype incompatible with int64, please explicitly cast to a compatible dtype first.\n",
      "  balance_weight.loc[tics, date] = w\n",
      "C:\\Users\\misss\\AppData\\Local\\Temp\\ipykernel_31220\\1845856610.py:19: FutureWarning: Setting an item of incompatible dtype is deprecated and will raise an error in a future version of pandas. Value '0.007407407407407408' has dtype incompatible with int64, please explicitly cast to a compatible dtype first.\n",
      "  balance_weight.loc[tics, date] = w\n",
      "C:\\Users\\misss\\AppData\\Local\\Temp\\ipykernel_31220\\1845856610.py:19: FutureWarning: Setting an item of incompatible dtype is deprecated and will raise an error in a future version of pandas. Value '0.006535947712418301' has dtype incompatible with int64, please explicitly cast to a compatible dtype first.\n",
      "  balance_weight.loc[tics, date] = w\n",
      "C:\\Users\\misss\\AppData\\Local\\Temp\\ipykernel_31220\\1845856610.py:19: FutureWarning: Setting an item of incompatible dtype is deprecated and will raise an error in a future version of pandas. Value '0.007092198581560284' has dtype incompatible with int64, please explicitly cast to a compatible dtype first.\n",
      "  balance_weight.loc[tics, date] = w\n",
      "C:\\Users\\misss\\AppData\\Local\\Temp\\ipykernel_31220\\1845856610.py:19: FutureWarning: Setting an item of incompatible dtype is deprecated and will raise an error in a future version of pandas. Value '0.006802721088435374' has dtype incompatible with int64, please explicitly cast to a compatible dtype first.\n",
      "  balance_weight.loc[tics, date] = w\n",
      "C:\\Users\\misss\\AppData\\Local\\Temp\\ipykernel_31220\\1845856610.py:19: FutureWarning: Setting an item of incompatible dtype is deprecated and will raise an error in a future version of pandas. Value '0.006896551724137931' has dtype incompatible with int64, please explicitly cast to a compatible dtype first.\n",
      "  balance_weight.loc[tics, date] = w\n",
      "C:\\Users\\misss\\AppData\\Local\\Temp\\ipykernel_31220\\1845856610.py:19: FutureWarning: Setting an item of incompatible dtype is deprecated and will raise an error in a future version of pandas. Value '0.006896551724137931' has dtype incompatible with int64, please explicitly cast to a compatible dtype first.\n",
      "  balance_weight.loc[tics, date] = w\n",
      "C:\\Users\\misss\\AppData\\Local\\Temp\\ipykernel_31220\\1845856610.py:19: FutureWarning: Setting an item of incompatible dtype is deprecated and will raise an error in a future version of pandas. Value '0.007462686567164179' has dtype incompatible with int64, please explicitly cast to a compatible dtype first.\n",
      "  balance_weight.loc[tics, date] = w\n",
      "C:\\Users\\misss\\AppData\\Local\\Temp\\ipykernel_31220\\1845856610.py:19: FutureWarning: Setting an item of incompatible dtype is deprecated and will raise an error in a future version of pandas. Value '0.00641025641025641' has dtype incompatible with int64, please explicitly cast to a compatible dtype first.\n",
      "  balance_weight.loc[tics, date] = w\n",
      "C:\\Users\\misss\\AppData\\Local\\Temp\\ipykernel_31220\\1845856610.py:19: FutureWarning: Setting an item of incompatible dtype is deprecated and will raise an error in a future version of pandas. Value '0.006666666666666667' has dtype incompatible with int64, please explicitly cast to a compatible dtype first.\n",
      "  balance_weight.loc[tics, date] = w\n",
      "C:\\Users\\misss\\AppData\\Local\\Temp\\ipykernel_31220\\1845856610.py:19: FutureWarning: Setting an item of incompatible dtype is deprecated and will raise an error in a future version of pandas. Value '0.006756756756756757' has dtype incompatible with int64, please explicitly cast to a compatible dtype first.\n",
      "  balance_weight.loc[tics, date] = w\n",
      "C:\\Users\\misss\\AppData\\Local\\Temp\\ipykernel_31220\\1845856610.py:19: FutureWarning: Setting an item of incompatible dtype is deprecated and will raise an error in a future version of pandas. Value '0.007042253521126761' has dtype incompatible with int64, please explicitly cast to a compatible dtype first.\n",
      "  balance_weight.loc[tics, date] = w\n",
      "C:\\Users\\misss\\AppData\\Local\\Temp\\ipykernel_31220\\1845856610.py:19: FutureWarning: Setting an item of incompatible dtype is deprecated and will raise an error in a future version of pandas. Value '0.006493506493506494' has dtype incompatible with int64, please explicitly cast to a compatible dtype first.\n",
      "  balance_weight.loc[tics, date] = w\n",
      "C:\\Users\\misss\\AppData\\Local\\Temp\\ipykernel_31220\\1845856610.py:19: FutureWarning: Setting an item of incompatible dtype is deprecated and will raise an error in a future version of pandas. Value '0.006666666666666667' has dtype incompatible with int64, please explicitly cast to a compatible dtype first.\n",
      "  balance_weight.loc[tics, date] = w\n",
      "C:\\Users\\misss\\AppData\\Local\\Temp\\ipykernel_31220\\1845856610.py:19: FutureWarning: Setting an item of incompatible dtype is deprecated and will raise an error in a future version of pandas. Value '0.00641025641025641' has dtype incompatible with int64, please explicitly cast to a compatible dtype first.\n",
      "  balance_weight.loc[tics, date] = w\n",
      "C:\\Users\\misss\\AppData\\Local\\Temp\\ipykernel_31220\\1845856610.py:19: FutureWarning: Setting an item of incompatible dtype is deprecated and will raise an error in a future version of pandas. Value '0.007518796992481203' has dtype incompatible with int64, please explicitly cast to a compatible dtype first.\n",
      "  balance_weight.loc[tics, date] = w\n",
      "C:\\Users\\misss\\AppData\\Local\\Temp\\ipykernel_31220\\1845856610.py:19: FutureWarning: Setting an item of incompatible dtype is deprecated and will raise an error in a future version of pandas. Value '0.007352941176470588' has dtype incompatible with int64, please explicitly cast to a compatible dtype first.\n",
      "  balance_weight.loc[tics, date] = w\n",
      "C:\\Users\\misss\\AppData\\Local\\Temp\\ipykernel_31220\\1845856610.py:19: FutureWarning: Setting an item of incompatible dtype is deprecated and will raise an error in a future version of pandas. Value '0.006451612903225806' has dtype incompatible with int64, please explicitly cast to a compatible dtype first.\n",
      "  balance_weight.loc[tics, date] = w\n",
      "C:\\Users\\misss\\AppData\\Local\\Temp\\ipykernel_31220\\1845856610.py:19: FutureWarning: Setting an item of incompatible dtype is deprecated and will raise an error in a future version of pandas. Value '0.006622516556291391' has dtype incompatible with int64, please explicitly cast to a compatible dtype first.\n",
      "  balance_weight.loc[tics, date] = w\n",
      "C:\\Users\\misss\\AppData\\Local\\Temp\\ipykernel_31220\\1845856610.py:19: FutureWarning: Setting an item of incompatible dtype is deprecated and will raise an error in a future version of pandas. Value '0.006097560975609756' has dtype incompatible with int64, please explicitly cast to a compatible dtype first.\n",
      "  balance_weight.loc[tics, date] = w\n",
      "C:\\Users\\misss\\AppData\\Local\\Temp\\ipykernel_31220\\1845856610.py:19: FutureWarning: Setting an item of incompatible dtype is deprecated and will raise an error in a future version of pandas. Value '0.006451612903225806' has dtype incompatible with int64, please explicitly cast to a compatible dtype first.\n",
      "  balance_weight.loc[tics, date] = w\n",
      "C:\\Users\\misss\\AppData\\Local\\Temp\\ipykernel_31220\\1845856610.py:19: FutureWarning: Setting an item of incompatible dtype is deprecated and will raise an error in a future version of pandas. Value '0.006060606060606061' has dtype incompatible with int64, please explicitly cast to a compatible dtype first.\n",
      "  balance_weight.loc[tics, date] = w\n",
      "C:\\Users\\misss\\AppData\\Local\\Temp\\ipykernel_31220\\1845856610.py:19: FutureWarning: Setting an item of incompatible dtype is deprecated and will raise an error in a future version of pandas. Value '0.006711409395973154' has dtype incompatible with int64, please explicitly cast to a compatible dtype first.\n",
      "  balance_weight.loc[tics, date] = w\n",
      "C:\\Users\\misss\\AppData\\Local\\Temp\\ipykernel_31220\\1845856610.py:19: FutureWarning: Setting an item of incompatible dtype is deprecated and will raise an error in a future version of pandas. Value '0.007246376811594203' has dtype incompatible with int64, please explicitly cast to a compatible dtype first.\n",
      "  balance_weight.loc[tics, date] = w\n",
      "C:\\Users\\misss\\AppData\\Local\\Temp\\ipykernel_31220\\1845856610.py:19: FutureWarning: Setting an item of incompatible dtype is deprecated and will raise an error in a future version of pandas. Value '0.007092198581560284' has dtype incompatible with int64, please explicitly cast to a compatible dtype first.\n",
      "  balance_weight.loc[tics, date] = w\n",
      "C:\\Users\\misss\\AppData\\Local\\Temp\\ipykernel_31220\\1845856610.py:19: FutureWarning: Setting an item of incompatible dtype is deprecated and will raise an error in a future version of pandas. Value '0.007142857142857143' has dtype incompatible with int64, please explicitly cast to a compatible dtype first.\n",
      "  balance_weight.loc[tics, date] = w\n",
      "C:\\Users\\misss\\AppData\\Local\\Temp\\ipykernel_31220\\1845856610.py:19: FutureWarning: Setting an item of incompatible dtype is deprecated and will raise an error in a future version of pandas. Value '0.005555555555555556' has dtype incompatible with int64, please explicitly cast to a compatible dtype first.\n",
      "  balance_weight.loc[tics, date] = w\n",
      "C:\\Users\\misss\\AppData\\Local\\Temp\\ipykernel_31220\\1845856610.py:19: FutureWarning: Setting an item of incompatible dtype is deprecated and will raise an error in a future version of pandas. Value '0.006451612903225806' has dtype incompatible with int64, please explicitly cast to a compatible dtype first.\n",
      "  balance_weight.loc[tics, date] = w\n",
      "C:\\Users\\misss\\AppData\\Local\\Temp\\ipykernel_31220\\1845856610.py:19: FutureWarning: Setting an item of incompatible dtype is deprecated and will raise an error in a future version of pandas. Value '0.006993006993006993' has dtype incompatible with int64, please explicitly cast to a compatible dtype first.\n",
      "  balance_weight.loc[tics, date] = w\n",
      "C:\\Users\\misss\\AppData\\Local\\Temp\\ipykernel_31220\\1845856610.py:19: FutureWarning: Setting an item of incompatible dtype is deprecated and will raise an error in a future version of pandas. Value '0.006211180124223602' has dtype incompatible with int64, please explicitly cast to a compatible dtype first.\n",
      "  balance_weight.loc[tics, date] = w\n",
      "C:\\Users\\misss\\AppData\\Local\\Temp\\ipykernel_31220\\1845856610.py:19: FutureWarning: Setting an item of incompatible dtype is deprecated and will raise an error in a future version of pandas. Value '0.005747126436781609' has dtype incompatible with int64, please explicitly cast to a compatible dtype first.\n",
      "  balance_weight.loc[tics, date] = w\n",
      "C:\\Users\\misss\\AppData\\Local\\Temp\\ipykernel_31220\\1845856610.py:19: FutureWarning: Setting an item of incompatible dtype is deprecated and will raise an error in a future version of pandas. Value '0.005952380952380952' has dtype incompatible with int64, please explicitly cast to a compatible dtype first.\n",
      "  balance_weight.loc[tics, date] = w\n",
      "C:\\Users\\misss\\AppData\\Local\\Temp\\ipykernel_31220\\1845856610.py:19: FutureWarning: Setting an item of incompatible dtype is deprecated and will raise an error in a future version of pandas. Value '0.00684931506849315' has dtype incompatible with int64, please explicitly cast to a compatible dtype first.\n",
      "  balance_weight.loc[tics, date] = w\n",
      "C:\\Users\\misss\\AppData\\Local\\Temp\\ipykernel_31220\\1845856610.py:19: FutureWarning: Setting an item of incompatible dtype is deprecated and will raise an error in a future version of pandas. Value '0.006944444444444444' has dtype incompatible with int64, please explicitly cast to a compatible dtype first.\n",
      "  balance_weight.loc[tics, date] = w\n",
      "C:\\Users\\misss\\AppData\\Local\\Temp\\ipykernel_31220\\1845856610.py:19: FutureWarning: Setting an item of incompatible dtype is deprecated and will raise an error in a future version of pandas. Value '0.006666666666666667' has dtype incompatible with int64, please explicitly cast to a compatible dtype first.\n",
      "  balance_weight.loc[tics, date] = w\n",
      "C:\\Users\\misss\\AppData\\Local\\Temp\\ipykernel_31220\\1845856610.py:19: FutureWarning: Setting an item of incompatible dtype is deprecated and will raise an error in a future version of pandas. Value '0.005988023952095809' has dtype incompatible with int64, please explicitly cast to a compatible dtype first.\n",
      "  balance_weight.loc[tics, date] = w\n",
      "C:\\Users\\misss\\AppData\\Local\\Temp\\ipykernel_31220\\1845856610.py:19: FutureWarning: Setting an item of incompatible dtype is deprecated and will raise an error in a future version of pandas. Value '0.005882352941176471' has dtype incompatible with int64, please explicitly cast to a compatible dtype first.\n",
      "  balance_weight.loc[tics, date] = w\n",
      "C:\\Users\\misss\\AppData\\Local\\Temp\\ipykernel_31220\\1845856610.py:19: FutureWarning: Setting an item of incompatible dtype is deprecated and will raise an error in a future version of pandas. Value '0.00510204081632653' has dtype incompatible with int64, please explicitly cast to a compatible dtype first.\n",
      "  balance_weight.loc[tics, date] = w\n",
      "C:\\Users\\misss\\AppData\\Local\\Temp\\ipykernel_31220\\1845856610.py:19: FutureWarning: Setting an item of incompatible dtype is deprecated and will raise an error in a future version of pandas. Value '0.006711409395973154' has dtype incompatible with int64, please explicitly cast to a compatible dtype first.\n",
      "  balance_weight.loc[tics, date] = w\n",
      "C:\\Users\\misss\\AppData\\Local\\Temp\\ipykernel_31220\\1845856610.py:19: FutureWarning: Setting an item of incompatible dtype is deprecated and will raise an error in a future version of pandas. Value '0.006578947368421052' has dtype incompatible with int64, please explicitly cast to a compatible dtype first.\n",
      "  balance_weight.loc[tics, date] = w\n",
      "C:\\Users\\misss\\AppData\\Local\\Temp\\ipykernel_31220\\1845856610.py:19: FutureWarning: Setting an item of incompatible dtype is deprecated and will raise an error in a future version of pandas. Value '0.004672897196261682' has dtype incompatible with int64, please explicitly cast to a compatible dtype first.\n",
      "  balance_weight.loc[tics, date] = w\n",
      "C:\\Users\\misss\\AppData\\Local\\Temp\\ipykernel_31220\\1845856610.py:19: FutureWarning: Setting an item of incompatible dtype is deprecated and will raise an error in a future version of pandas. Value '0.005847953216374269' has dtype incompatible with int64, please explicitly cast to a compatible dtype first.\n",
      "  balance_weight.loc[tics, date] = w\n",
      "C:\\Users\\misss\\AppData\\Local\\Temp\\ipykernel_31220\\1845856610.py:19: FutureWarning: Setting an item of incompatible dtype is deprecated and will raise an error in a future version of pandas. Value '0.006329113924050633' has dtype incompatible with int64, please explicitly cast to a compatible dtype first.\n",
      "  balance_weight.loc[tics, date] = w\n",
      "C:\\Users\\misss\\AppData\\Local\\Temp\\ipykernel_31220\\1845856610.py:19: FutureWarning: Setting an item of incompatible dtype is deprecated and will raise an error in a future version of pandas. Value '0.005882352941176471' has dtype incompatible with int64, please explicitly cast to a compatible dtype first.\n",
      "  balance_weight.loc[tics, date] = w\n",
      "C:\\Users\\misss\\AppData\\Local\\Temp\\ipykernel_31220\\1845856610.py:19: FutureWarning: Setting an item of incompatible dtype is deprecated and will raise an error in a future version of pandas. Value '0.006451612903225806' has dtype incompatible with int64, please explicitly cast to a compatible dtype first.\n",
      "  balance_weight.loc[tics, date] = w\n",
      "C:\\Users\\misss\\AppData\\Local\\Temp\\ipykernel_31220\\1845856610.py:19: FutureWarning: Setting an item of incompatible dtype is deprecated and will raise an error in a future version of pandas. Value '0.004329004329004329' has dtype incompatible with int64, please explicitly cast to a compatible dtype first.\n",
      "  balance_weight.loc[tics, date] = w\n",
      "C:\\Users\\misss\\AppData\\Local\\Temp\\ipykernel_31220\\1845856610.py:19: FutureWarning: Setting an item of incompatible dtype is deprecated and will raise an error in a future version of pandas. Value '0.004524886877828055' has dtype incompatible with int64, please explicitly cast to a compatible dtype first.\n",
      "  balance_weight.loc[tics, date] = w\n",
      "C:\\Users\\misss\\AppData\\Local\\Temp\\ipykernel_31220\\1845856610.py:19: FutureWarning: Setting an item of incompatible dtype is deprecated and will raise an error in a future version of pandas. Value '0.00392156862745098' has dtype incompatible with int64, please explicitly cast to a compatible dtype first.\n",
      "  balance_weight.loc[tics, date] = w\n",
      "C:\\Users\\misss\\AppData\\Local\\Temp\\ipykernel_31220\\1845856610.py:19: FutureWarning: Setting an item of incompatible dtype is deprecated and will raise an error in a future version of pandas. Value '0.004694835680751174' has dtype incompatible with int64, please explicitly cast to a compatible dtype first.\n",
      "  balance_weight.loc[tics, date] = w\n",
      "C:\\Users\\misss\\AppData\\Local\\Temp\\ipykernel_31220\\1845856610.py:19: FutureWarning: Setting an item of incompatible dtype is deprecated and will raise an error in a future version of pandas. Value '0.004694835680751174' has dtype incompatible with int64, please explicitly cast to a compatible dtype first.\n",
      "  balance_weight.loc[tics, date] = w\n",
      "C:\\Users\\misss\\AppData\\Local\\Temp\\ipykernel_31220\\1845856610.py:19: FutureWarning: Setting an item of incompatible dtype is deprecated and will raise an error in a future version of pandas. Value '0.003154574132492113' has dtype incompatible with int64, please explicitly cast to a compatible dtype first.\n",
      "  balance_weight.loc[tics, date] = w\n",
      "C:\\Users\\misss\\AppData\\Local\\Temp\\ipykernel_31220\\1845856610.py:19: FutureWarning: Setting an item of incompatible dtype is deprecated and will raise an error in a future version of pandas. Value '0.003225806451612903' has dtype incompatible with int64, please explicitly cast to a compatible dtype first.\n",
      "  balance_weight.loc[tics, date] = w\n",
      "C:\\Users\\misss\\AppData\\Local\\Temp\\ipykernel_31220\\1845856610.py:19: FutureWarning: Setting an item of incompatible dtype is deprecated and will raise an error in a future version of pandas. Value '0.004524886877828055' has dtype incompatible with int64, please explicitly cast to a compatible dtype first.\n",
      "  balance_weight.loc[tics, date] = w\n",
      "C:\\Users\\misss\\AppData\\Local\\Temp\\ipykernel_31220\\1845856610.py:19: FutureWarning: Setting an item of incompatible dtype is deprecated and will raise an error in a future version of pandas. Value '0.003690036900369004' has dtype incompatible with int64, please explicitly cast to a compatible dtype first.\n",
      "  balance_weight.loc[tics, date] = w\n",
      "C:\\Users\\misss\\AppData\\Local\\Temp\\ipykernel_31220\\1845856610.py:19: FutureWarning: Setting an item of incompatible dtype is deprecated and will raise an error in a future version of pandas. Value '0.003968253968253968' has dtype incompatible with int64, please explicitly cast to a compatible dtype first.\n",
      "  balance_weight.loc[tics, date] = w\n",
      "C:\\Users\\misss\\AppData\\Local\\Temp\\ipykernel_31220\\1845856610.py:19: FutureWarning: Setting an item of incompatible dtype is deprecated and will raise an error in a future version of pandas. Value '0.00425531914893617' has dtype incompatible with int64, please explicitly cast to a compatible dtype first.\n",
      "  balance_weight.loc[tics, date] = w\n",
      "C:\\Users\\misss\\AppData\\Local\\Temp\\ipykernel_31220\\1845856610.py:19: FutureWarning: Setting an item of incompatible dtype is deprecated and will raise an error in a future version of pandas. Value '0.0053475935828877' has dtype incompatible with int64, please explicitly cast to a compatible dtype first.\n",
      "  balance_weight.loc[tics, date] = w\n",
      "C:\\Users\\misss\\AppData\\Local\\Temp\\ipykernel_31220\\1845856610.py:19: FutureWarning: Setting an item of incompatible dtype is deprecated and will raise an error in a future version of pandas. Value '0.00411522633744856' has dtype incompatible with int64, please explicitly cast to a compatible dtype first.\n",
      "  balance_weight.loc[tics, date] = w\n",
      "C:\\Users\\misss\\AppData\\Local\\Temp\\ipykernel_31220\\1845856610.py:19: FutureWarning: Setting an item of incompatible dtype is deprecated and will raise an error in a future version of pandas. Value '0.004048582995951417' has dtype incompatible with int64, please explicitly cast to a compatible dtype first.\n",
      "  balance_weight.loc[tics, date] = w\n",
      "C:\\Users\\misss\\AppData\\Local\\Temp\\ipykernel_31220\\1845856610.py:19: FutureWarning: Setting an item of incompatible dtype is deprecated and will raise an error in a future version of pandas. Value '0.005050505050505051' has dtype incompatible with int64, please explicitly cast to a compatible dtype first.\n",
      "  balance_weight.loc[tics, date] = w\n",
      "C:\\Users\\misss\\AppData\\Local\\Temp\\ipykernel_31220\\1845856610.py:19: FutureWarning: Setting an item of incompatible dtype is deprecated and will raise an error in a future version of pandas. Value '0.003891050583657588' has dtype incompatible with int64, please explicitly cast to a compatible dtype first.\n",
      "  balance_weight.loc[tics, date] = w\n",
      "C:\\Users\\misss\\AppData\\Local\\Temp\\ipykernel_31220\\1845856610.py:19: FutureWarning: Setting an item of incompatible dtype is deprecated and will raise an error in a future version of pandas. Value '0.004366812227074236' has dtype incompatible with int64, please explicitly cast to a compatible dtype first.\n",
      "  balance_weight.loc[tics, date] = w\n",
      "C:\\Users\\misss\\AppData\\Local\\Temp\\ipykernel_31220\\1845856610.py:19: FutureWarning: Setting an item of incompatible dtype is deprecated and will raise an error in a future version of pandas. Value '0.007194244604316547' has dtype incompatible with int64, please explicitly cast to a compatible dtype first.\n",
      "  balance_weight.loc[tics, date] = w\n",
      "C:\\Users\\misss\\AppData\\Local\\Temp\\ipykernel_31220\\1845856610.py:19: FutureWarning: Setting an item of incompatible dtype is deprecated and will raise an error in a future version of pandas. Value '0.004926108374384237' has dtype incompatible with int64, please explicitly cast to a compatible dtype first.\n",
      "  balance_weight.loc[tics, date] = w\n",
      "C:\\Users\\misss\\AppData\\Local\\Temp\\ipykernel_31220\\1845856610.py:19: FutureWarning: Setting an item of incompatible dtype is deprecated and will raise an error in a future version of pandas. Value '0.005319148936170213' has dtype incompatible with int64, please explicitly cast to a compatible dtype first.\n",
      "  balance_weight.loc[tics, date] = w\n",
      "C:\\Users\\misss\\AppData\\Local\\Temp\\ipykernel_31220\\1845856610.py:19: FutureWarning: Setting an item of incompatible dtype is deprecated and will raise an error in a future version of pandas. Value '0.005050505050505051' has dtype incompatible with int64, please explicitly cast to a compatible dtype first.\n",
      "  balance_weight.loc[tics, date] = w\n",
      "C:\\Users\\misss\\AppData\\Local\\Temp\\ipykernel_31220\\1845856610.py:19: FutureWarning: Setting an item of incompatible dtype is deprecated and will raise an error in a future version of pandas. Value '0.004545454545454545' has dtype incompatible with int64, please explicitly cast to a compatible dtype first.\n",
      "  balance_weight.loc[tics, date] = w\n",
      "C:\\Users\\misss\\AppData\\Local\\Temp\\ipykernel_31220\\1845856610.py:19: FutureWarning: Setting an item of incompatible dtype is deprecated and will raise an error in a future version of pandas. Value '0.005917159763313609' has dtype incompatible with int64, please explicitly cast to a compatible dtype first.\n",
      "  balance_weight.loc[tics, date] = w\n",
      "C:\\Users\\misss\\AppData\\Local\\Temp\\ipykernel_31220\\1845856610.py:19: FutureWarning: Setting an item of incompatible dtype is deprecated and will raise an error in a future version of pandas. Value '0.00390625' has dtype incompatible with int64, please explicitly cast to a compatible dtype first.\n",
      "  balance_weight.loc[tics, date] = w\n",
      "C:\\Users\\misss\\AppData\\Local\\Temp\\ipykernel_31220\\1845856610.py:19: FutureWarning: Setting an item of incompatible dtype is deprecated and will raise an error in a future version of pandas. Value '0.005681818181818182' has dtype incompatible with int64, please explicitly cast to a compatible dtype first.\n",
      "  balance_weight.loc[tics, date] = w\n",
      "C:\\Users\\misss\\AppData\\Local\\Temp\\ipykernel_31220\\1845856610.py:19: FutureWarning: Setting an item of incompatible dtype is deprecated and will raise an error in a future version of pandas. Value '0.003875968992248062' has dtype incompatible with int64, please explicitly cast to a compatible dtype first.\n",
      "  balance_weight.loc[tics, date] = w\n",
      "C:\\Users\\misss\\AppData\\Local\\Temp\\ipykernel_31220\\1845856610.py:19: FutureWarning: Setting an item of incompatible dtype is deprecated and will raise an error in a future version of pandas. Value '0.003048780487804878' has dtype incompatible with int64, please explicitly cast to a compatible dtype first.\n",
      "  balance_weight.loc[tics, date] = w\n",
      "C:\\Users\\misss\\AppData\\Local\\Temp\\ipykernel_31220\\1845856610.py:19: FutureWarning: Setting an item of incompatible dtype is deprecated and will raise an error in a future version of pandas. Value '0.002949852507374631' has dtype incompatible with int64, please explicitly cast to a compatible dtype first.\n",
      "  balance_weight.loc[tics, date] = w\n",
      "C:\\Users\\misss\\AppData\\Local\\Temp\\ipykernel_31220\\1845856610.py:19: FutureWarning: Setting an item of incompatible dtype is deprecated and will raise an error in a future version of pandas. Value '0.005076142131979695' has dtype incompatible with int64, please explicitly cast to a compatible dtype first.\n",
      "  balance_weight.loc[tics, date] = w\n",
      "C:\\Users\\misss\\AppData\\Local\\Temp\\ipykernel_31220\\1845856610.py:19: FutureWarning: Setting an item of incompatible dtype is deprecated and will raise an error in a future version of pandas. Value '0.005181347150259068' has dtype incompatible with int64, please explicitly cast to a compatible dtype first.\n",
      "  balance_weight.loc[tics, date] = w\n",
      "C:\\Users\\misss\\AppData\\Local\\Temp\\ipykernel_31220\\1845856610.py:19: FutureWarning: Setting an item of incompatible dtype is deprecated and will raise an error in a future version of pandas. Value '0.00558659217877095' has dtype incompatible with int64, please explicitly cast to a compatible dtype first.\n",
      "  balance_weight.loc[tics, date] = w\n",
      "C:\\Users\\misss\\AppData\\Local\\Temp\\ipykernel_31220\\1845856610.py:19: FutureWarning: Setting an item of incompatible dtype is deprecated and will raise an error in a future version of pandas. Value '0.00558659217877095' has dtype incompatible with int64, please explicitly cast to a compatible dtype first.\n",
      "  balance_weight.loc[tics, date] = w\n",
      "C:\\Users\\misss\\AppData\\Local\\Temp\\ipykernel_31220\\1845856610.py:19: FutureWarning: Setting an item of incompatible dtype is deprecated and will raise an error in a future version of pandas. Value '0.004098360655737705' has dtype incompatible with int64, please explicitly cast to a compatible dtype first.\n",
      "  balance_weight.loc[tics, date] = w\n",
      "C:\\Users\\misss\\AppData\\Local\\Temp\\ipykernel_31220\\1845856610.py:19: FutureWarning: Setting an item of incompatible dtype is deprecated and will raise an error in a future version of pandas. Value '0.004016064257028112' has dtype incompatible with int64, please explicitly cast to a compatible dtype first.\n",
      "  balance_weight.loc[tics, date] = w\n",
      "C:\\Users\\misss\\AppData\\Local\\Temp\\ipykernel_31220\\1845856610.py:19: FutureWarning: Setting an item of incompatible dtype is deprecated and will raise an error in a future version of pandas. Value '0.004830917874396135' has dtype incompatible with int64, please explicitly cast to a compatible dtype first.\n",
      "  balance_weight.loc[tics, date] = w\n",
      "C:\\Users\\misss\\AppData\\Local\\Temp\\ipykernel_31220\\1845856610.py:19: FutureWarning: Setting an item of incompatible dtype is deprecated and will raise an error in a future version of pandas. Value '0.004629629629629629' has dtype incompatible with int64, please explicitly cast to a compatible dtype first.\n",
      "  balance_weight.loc[tics, date] = w\n",
      "C:\\Users\\misss\\AppData\\Local\\Temp\\ipykernel_31220\\1845856610.py:19: FutureWarning: Setting an item of incompatible dtype is deprecated and will raise an error in a future version of pandas. Value '0.005847953216374269' has dtype incompatible with int64, please explicitly cast to a compatible dtype first.\n",
      "  balance_weight.loc[tics, date] = w\n",
      "C:\\Users\\misss\\AppData\\Local\\Temp\\ipykernel_31220\\1845856610.py:19: FutureWarning: Setting an item of incompatible dtype is deprecated and will raise an error in a future version of pandas. Value '0.004807692307692308' has dtype incompatible with int64, please explicitly cast to a compatible dtype first.\n",
      "  balance_weight.loc[tics, date] = w\n",
      "C:\\Users\\misss\\AppData\\Local\\Temp\\ipykernel_31220\\1845856610.py:19: FutureWarning: Setting an item of incompatible dtype is deprecated and will raise an error in a future version of pandas. Value '0.004347826086956522' has dtype incompatible with int64, please explicitly cast to a compatible dtype first.\n",
      "  balance_weight.loc[tics, date] = w\n",
      "C:\\Users\\misss\\AppData\\Local\\Temp\\ipykernel_31220\\1845856610.py:19: FutureWarning: Setting an item of incompatible dtype is deprecated and will raise an error in a future version of pandas. Value '0.00392156862745098' has dtype incompatible with int64, please explicitly cast to a compatible dtype first.\n",
      "  balance_weight.loc[tics, date] = w\n",
      "C:\\Users\\misss\\AppData\\Local\\Temp\\ipykernel_31220\\1845856610.py:19: FutureWarning: Setting an item of incompatible dtype is deprecated and will raise an error in a future version of pandas. Value '0.004065040650406504' has dtype incompatible with int64, please explicitly cast to a compatible dtype first.\n",
      "  balance_weight.loc[tics, date] = w\n",
      "C:\\Users\\misss\\AppData\\Local\\Temp\\ipykernel_31220\\1845856610.py:24: FutureWarning: Downcasting object dtype arrays on .fillna, .ffill, .bfill is deprecated and will change in a future version. Call result.infer_objects(copy=False) instead. To opt-in to the future behavior, set `pd.set_option('future.no_silent_downcasting', True)`\n",
      "  balance_share = balance_share.fillna(0)\n",
      "C:\\Users\\misss\\AppData\\Local\\Temp\\ipykernel_31220\\1845856610.py:27: FutureWarning: Downcasting object dtype arrays on .fillna, .ffill, .bfill is deprecated and will change in a future version. Call result.infer_objects(copy=False) instead. To opt-in to the future behavior, set `pd.set_option('future.no_silent_downcasting', True)`\n",
      "  balance_cost = balance_cost.fillna(0)\n",
      "C:\\Users\\misss\\AppData\\Local\\Temp\\ipykernel_31220\\1845856610.py:30: FutureWarning: Downcasting object dtype arrays on .fillna, .ffill, .bfill is deprecated and will change in a future version. Call result.infer_objects(copy=False) instead. To opt-in to the future behavior, set `pd.set_option('future.no_silent_downcasting', True)`\n",
      "  balance_cash = balance_cash.fillna(0)\n",
      "C:\\Users\\misss\\AppData\\Local\\Temp\\ipykernel_31220\\1845856610.py:41: SettingWithCopyWarning: \n",
      "A value is trying to be set on a copy of a slice from a DataFrame\n",
      "\n",
      "See the caveats in the documentation: https://pandas.pydata.org/pandas-docs/stable/user_guide/indexing.html#returning-a-view-versus-a-copy\n",
      "  balance_price.replace([0, np.inf, -np.inf], np.nan, inplace=True)\n"
     ]
    }
   ],
   "source": [
    "#calculate equally weighted allocation portolio\n",
    "(balance_share_equal,\n",
    " balance_cost_equal,\n",
    " balance_cash_equal,\n",
    " portfolio_equal,\n",
    " portfolio_cost_equal,\n",
    " portfolio_return_equal,\n",
    " portfolio_cumsum_equal)=cal_portfolio(stocks_name,tradedate_full, weight_equal, capital, transaction_percent)"
   ]
  },
  {
   "cell_type": "code",
   "execution_count": 30,
   "metadata": {},
   "outputs": [
    {
     "data": {
      "text/plain": [
       "173.70950741119717"
      ]
     },
     "execution_count": 30,
     "metadata": {},
     "output_type": "execute_result"
    }
   ],
   "source": [
    "sum(portfolio_return_equal)"
   ]
  },
  {
   "cell_type": "markdown",
   "metadata": {},
   "source": [
    "# 3. Calculate SPX Portfolio Value, Return and Cumulative Return"
   ]
  },
  {
   "cell_type": "code",
   "execution_count": 31,
   "metadata": {},
   "outputs": [
    {
     "name": "stdout",
     "output_type": "stream",
     "text": [
      "YF.download() has changed argument auto_adjust default to True\n"
     ]
    },
    {
     "name": "stderr",
     "output_type": "stream",
     "text": [
      "[*********************100%***********************]  1 of 1 completed"
     ]
    },
    {
     "name": "stdout",
     "output_type": "stream",
     "text": [
      "S&P 500 data saved successfully.\n"
     ]
    },
    {
     "name": "stderr",
     "output_type": "stream",
     "text": [
      "\n"
     ]
    }
   ],
   "source": [
    "import yfinance as yf\n",
    "import pandas as pd\n",
    "\n",
    "spx = yf.download(\"^GSPC\", start=\"1999-09-01\", end=\"2025-12-31\", interval=\"1d\")\n",
    "spx.reset_index(inplace=True)\n",
    "spx.columns = spx.columns.droplevel(1)\n",
    "spx = spx[['Date','Close']]\n",
    "spx.rename(columns={'Date':'date','Close':'close'}, inplace=True)\n",
    "spx.to_csv(\"SPX.csv\")\n",
    "print(\"S&P 500 data saved successfully.\")"
   ]
  },
  {
   "cell_type": "code",
   "execution_count": 32,
   "metadata": {},
   "outputs": [],
   "source": [
    "import datetime\n",
    "\n",
    "dates = pd.date_range('1999-09-01', '2025-12-31')\n"
   ]
  },
  {
   "cell_type": "code",
   "execution_count": 33,
   "metadata": {},
   "outputs": [],
   "source": [
    "spx = pd.read_csv(\"SPX.csv\")\n"
   ]
  },
  {
   "cell_type": "code",
   "execution_count": 34,
   "metadata": {},
   "outputs": [],
   "source": [
    "spx.date = pd.to_datetime(spx.date)"
   ]
  },
  {
   "cell_type": "code",
   "execution_count": 35,
   "metadata": {},
   "outputs": [],
   "source": [
    "spx = spx.set_index(\"date\").reindex(dates, method='ffill')"
   ]
  },
  {
   "cell_type": "code",
   "execution_count": 36,
   "metadata": {},
   "outputs": [],
   "source": [
    "tradedate = tradedate[:-1]"
   ]
  },
  {
   "cell_type": "code",
   "execution_count": 37,
   "metadata": {},
   "outputs": [],
   "source": [
    "\n",
    "spx_daily = list(set(spx.index))\n",
    "spx_daily.sort()\n",
    "spx = spx['close']\n",
    "spx.index = spx.index.astype(str)\n",
    "spx = spx[tradedate]\n",
    "spx.index = range(len(spx))\n",
    "spx_return = (spx - spx.shift(1))/spx\n",
    "spx_return[0] = 0\n",
    "\n",
    "spx_return.index = tradedate\n",
    "spx_return.index = range(len(spx))\n",
    "spx_cumsum=spx_return.copy()\n",
    "\n",
    "spx_value = spx_return.copy()\n",
    "initial = 0\n",
    "for i in range(len(spx_cumsum)):\n",
    "    spx_cumsum[i] = initial + spx_cumsum[i]\n",
    "    initial = spx_cumsum[i]\n",
    "\n",
    "initial = 1000000\n",
    "for i in range(len(spx_value)):\n",
    "    spx_value[i] = initial * (1 + spx_value[i])\n",
    "    initial = spx_value[i]\n",
    "\n",
    "spx_cumsum.index = tradedate\n",
    "spx_value.index = tradedate"
   ]
  },
  {
   "cell_type": "code",
   "execution_count": 38,
   "metadata": {},
   "outputs": [
    {
     "data": {
      "text/plain": [
       "1.1489957258041223"
      ]
     },
     "execution_count": 38,
     "metadata": {},
     "output_type": "execute_result"
    }
   ],
   "source": [
    "sum(spx_return)"
   ]
  },
  {
   "cell_type": "code",
   "execution_count": 39,
   "metadata": {},
   "outputs": [
    {
     "data": {
      "text/plain": [
       "2001-03-01    1.000000e+06\n",
       "2001-06-01    1.015420e+06\n",
       "2001-09-04    9.009397e+05\n",
       "2001-12-03    8.985158e+05\n",
       "2002-03-01    9.000083e+05\n",
       "                  ...     \n",
       "2023-09-01    1.610331e+06\n",
       "2023-12-01    1.637970e+06\n",
       "2024-03-01    1.810932e+06\n",
       "2024-06-03    1.861084e+06\n",
       "2024-09-03    1.943732e+06\n",
       "Name: close, Length: 95, dtype: float64"
      ]
     },
     "execution_count": 39,
     "metadata": {},
     "output_type": "execute_result"
    }
   ],
   "source": [
    "spx_value"
   ]
  },
  {
   "cell_type": "markdown",
   "metadata": {},
   "source": [
    "# 4. Plot the Portfolio Performance"
   ]
  },
  {
   "cell_type": "markdown",
   "metadata": {},
   "source": [
    "## 4.1 Plot Portfolio Value with Transaction Cost"
   ]
  },
  {
   "cell_type": "code",
   "execution_count": 40,
   "metadata": {},
   "outputs": [],
   "source": [
    "time_ind = tradedate_full[:-1]"
   ]
  },
  {
   "cell_type": "code",
   "execution_count": 41,
   "metadata": {},
   "outputs": [
    {
     "data": {
      "application/vnd.plotly.v1+json": {
       "config": {
        "linkText": "Export to plot.ly",
        "plotlyServerURL": "https://plot.ly",
        "showLink": false
       },
       "data": [
        {
         "mode": "lines",
         "name": "Mean-Variance",
         "type": "scatter",
         "x": [
          "2001-03-01",
          "2001-06-01",
          "2001-09-04",
          "2001-12-03",
          "2002-03-01",
          "2002-06-03",
          "2002-09-03",
          "2002-12-02",
          "2003-03-03",
          "2003-06-02",
          "2003-09-02",
          "2003-12-01",
          "2004-03-01",
          "2004-06-01",
          "2004-09-01",
          "2004-12-01",
          "2005-03-01",
          "2005-06-01",
          "2005-09-01",
          "2005-12-01",
          "2006-03-01",
          "2006-06-01",
          "2006-09-01",
          "2006-12-01",
          "2007-03-01",
          "2007-06-01",
          "2007-09-04",
          "2007-12-03",
          "2008-03-03",
          "2008-06-02",
          "2008-09-02",
          "2008-12-01",
          "2009-03-02",
          "2009-06-01",
          "2009-09-01",
          "2009-12-01",
          "2010-03-01",
          "2010-06-01",
          "2010-09-01",
          "2010-12-01",
          "2011-03-01",
          "2011-06-01",
          "2011-09-01",
          "2011-12-01",
          "2012-03-01",
          "2012-06-01",
          "2012-09-04",
          "2012-12-03",
          "2013-03-01",
          "2013-06-03",
          "2013-09-03",
          "2013-12-02",
          "2014-03-03",
          "2014-06-02",
          "2014-09-02",
          "2014-12-01",
          "2015-03-02",
          "2015-06-01",
          "2015-09-01",
          "2015-12-01",
          "2016-03-01",
          "2016-06-01",
          "2016-09-01",
          "2016-12-01",
          "2017-03-01",
          "2017-06-01",
          "2017-09-01",
          "2017-12-01",
          "2018-03-01",
          "2018-06-01",
          "2018-09-04",
          "2018-12-03",
          "2019-03-01",
          "2019-06-03",
          "2019-09-03",
          "2019-12-02",
          "2020-03-02",
          "2020-06-01",
          "2020-09-01",
          "2020-12-01",
          "2021-03-01",
          "2021-06-01",
          "2021-09-01",
          "2021-12-01",
          "2022-03-01",
          "2022-06-01",
          "2022-09-01",
          "2022-12-01",
          "2023-03-01",
          "2023-06-01",
          "2023-09-01",
          "2023-12-01",
          "2024-03-01",
          "2024-06-03",
          "2024-09-03"
         ],
         "y": [
          998627.1958082898,
          1076922.4714162042,
          990421.1967799165,
          995641.4574817062,
          1062546.970543602,
          1087527.7214148438,
          943020.7237498646,
          1045784.3641783018,
          941620.176805152,
          1143915.0835994913,
          1301565.6053515023,
          1439591.7417372179,
          1542993.7294609621,
          1554115.0416913223,
          1579511.7113089645,
          1872778.9258221379,
          1959635.9146001707,
          2573952.064105433,
          2780072.6459765667,
          3015371.164736042,
          3320829.3619044684,
          3432851.9545803117,
          5659871.419099828,
          6290344.045012489,
          6522679.718720009,
          7355862.934231441,
          6912249.311711447,
          7192452.48122222,
          6879729.152575053,
          7525345.383675729,
          7510164.79220641,
          4345561.145571526,
          3444411.3961444995,
          476454684.08098245,
          86413447.9228046,
          4207693031.4914846,
          69909999796.82857,
          68980225313.037,
          69833445830.56769,
          79364001592.75311,
          90219989590.53252,
          90749384587.78586,
          79459818681.33084,
          81843814823.43156,
          93786970638.70523,
          1582244092548.426,
          198374899461.54675,
          209647491863.0035,
          241723350756.2469,
          270069879097.74503,
          268095143833.70844,
          287243872409.07947,
          313751879686.9907,
          312349396529.6939,
          322805070024.55884,
          325923610829.93384,
          339939036518.18164,
          320733548792.32806,
          291445029558.15674,
          281627562473.25903,
          260224766657.19373,
          289624437610.15985,
          311349245259.9134,
          320622187115.85187,
          350730403398.99677,
          341744659166.83575,
          349033683972.713,
          377132374036.1066,
          365779303203.95325,
          333445278482.4912,
          304541413579.9258,
          295695752225.699,
          285165207600.78845,
          260081063092.77737,
          261209665533.39383,
          286941771876.07733,
          266675731838.04318,
          256391187871.52377,
          279701096990.3024,
          322238333216.602,
          327329764242.6093,
          359061670823.4102,
          379721462515.5582,
          359111432598.34845,
          350713946604.24005,
          296198621294.6579,
          288728574281.43506,
          305443734896.8552,
          290838987668.8234,
          288248572498.5753,
          316350609288.3875,
          309585264993.60425,
          276749646727.9946,
          250532514226.83527,
          256929703536.84473,
          276991334129.0053
         ]
        },
        {
         "mode": "lines",
         "name": "Equally Weighted",
         "type": "scatter",
         "x": [
          "2001-03-01",
          "2001-06-01",
          "2001-09-04",
          "2001-12-03",
          "2002-03-01",
          "2002-06-03",
          "2002-09-03",
          "2002-12-02",
          "2003-03-03",
          "2003-06-02",
          "2003-09-02",
          "2003-12-01",
          "2004-03-01",
          "2004-06-01",
          "2004-09-01",
          "2004-12-01",
          "2005-03-01",
          "2005-06-01",
          "2005-09-01",
          "2005-12-01",
          "2006-03-01",
          "2006-06-01",
          "2006-09-01",
          "2006-12-01",
          "2007-03-01",
          "2007-06-01",
          "2007-09-04",
          "2007-12-03",
          "2008-03-03",
          "2008-06-02",
          "2008-09-02",
          "2008-12-01",
          "2009-03-02",
          "2009-06-01",
          "2009-09-01",
          "2009-12-01",
          "2010-03-01",
          "2010-06-01",
          "2010-09-01",
          "2010-12-01",
          "2011-03-01",
          "2011-06-01",
          "2011-09-01",
          "2011-12-01",
          "2012-03-01",
          "2012-06-01",
          "2012-09-04",
          "2012-12-03",
          "2013-03-01",
          "2013-06-03",
          "2013-09-03",
          "2013-12-02",
          "2014-03-03",
          "2014-06-02",
          "2014-09-02",
          "2014-12-01",
          "2015-03-02",
          "2015-06-01",
          "2015-09-01",
          "2015-12-01",
          "2016-03-01",
          "2016-06-01",
          "2016-09-01",
          "2016-12-01",
          "2017-03-01",
          "2017-06-01",
          "2017-09-01",
          "2017-12-01",
          "2018-03-01",
          "2018-06-01",
          "2018-09-04",
          "2018-12-03",
          "2019-03-01",
          "2019-06-03",
          "2019-09-03",
          "2019-12-02",
          "2020-03-02",
          "2020-06-01",
          "2020-09-01",
          "2020-12-01",
          "2021-03-01",
          "2021-06-01",
          "2021-09-01",
          "2021-12-01",
          "2022-03-01",
          "2022-06-01",
          "2022-09-01",
          "2022-12-01",
          "2023-03-01",
          "2023-06-01",
          "2023-09-01",
          "2023-12-01",
          "2024-03-01",
          "2024-06-03",
          "2024-09-03"
         ],
         "y": [
          998653.4419761787,
          1077420.7277299215,
          994343.712719777,
          999169.1859492351,
          1080141.4058559895,
          1106563.7428115848,
          959817.402844814,
          1073333.3722676272,
          999389.3153790839,
          1218053.497267811,
          1386331.3073117118,
          1530243.9560736003,
          2179526.2621423993,
          2190124.787719091,
          2262292.1191044105,
          2683893.1976719922,
          2807363.8766056634,
          3688132.052879899,
          3985938.1654969105,
          4246583.472949805,
          4636692.681898133,
          4791438.2720365925,
          7907364.768247003,
          8761946.48829817,
          9024258.860544194,
          10175465.974203778,
          9673436.694465887,
          9663711.729802618,
          9707654.591035353,
          10563610.392217495,
          10584874.38493471,
          6107137.009491925,
          5025673.243955978,
          695665024.4929523,
          622103000.204956,
          1631636843.5342457,
          27118267262.16075,
          26742612255.117718,
          27080005809.105534,
          31365326054.1367,
          35661688408.45049,
          36981660381.328514,
          32392389773.49271,
          33753487528.62049,
          38468232912.65901,
          652608775931.5662,
          704036317684.3721,
          704064946737.2988,
          786809143663.2983,
          810328804003.4558,
          771136732620.7411,
          824319150422.7064,
          845209890888.1604,
          833740268990.3273,
          851899186240.6499,
          853854402115.5807,
          897886538814.3517,
          884147765991.8712,
          801309852686.2815,
          826596652431.7733,
          764083800428.119,
          824105470765.3207,
          865977034371.0784,
          864954083970.7758,
          935873817982.8334,
          944346378226.7705,
          945436001876.497,
          1015252479358.515,
          1013377424954.5082,
          1045960958955.7042,
          1088422210315.6965,
          1037630938998.8691,
          1024593508048.3419,
          924158939798.5197,
          925430435997.842,
          981073889782.3376,
          946542614458.2518,
          903388700566.3794,
          973694767016.4552,
          1114837118420.5715,
          1235304546250.1895,
          1346824705700.405,
          1415861934178.3252,
          1350204826594.8303,
          1302666027812.1287,
          1237277454400.1726,
          1182892263499.3684,
          1205193626412.1338,
          1172421651387.8267,
          1128300757129.2761,
          1185000221141.5562,
          1161013574256.8,
          1199589586723.385,
          1129372841995.1565,
          1111268215717.1816,
          1175619115730.1108
         ]
        },
        {
         "mode": "lines",
         "name": "Min-Variance",
         "type": "scatter",
         "x": [
          "2001-03-01",
          "2001-06-01",
          "2001-09-04",
          "2001-12-03",
          "2002-03-01",
          "2002-06-03",
          "2002-09-03",
          "2002-12-02",
          "2003-03-03",
          "2003-06-02",
          "2003-09-02",
          "2003-12-01",
          "2004-03-01",
          "2004-06-01",
          "2004-09-01",
          "2004-12-01",
          "2005-03-01",
          "2005-06-01",
          "2005-09-01",
          "2005-12-01",
          "2006-03-01",
          "2006-06-01",
          "2006-09-01",
          "2006-12-01",
          "2007-03-01",
          "2007-06-01",
          "2007-09-04",
          "2007-12-03",
          "2008-03-03",
          "2008-06-02",
          "2008-09-02",
          "2008-12-01",
          "2009-03-02",
          "2009-06-01",
          "2009-09-01",
          "2009-12-01",
          "2010-03-01",
          "2010-06-01",
          "2010-09-01",
          "2010-12-01",
          "2011-03-01",
          "2011-06-01",
          "2011-09-01",
          "2011-12-01",
          "2012-03-01",
          "2012-06-01",
          "2012-09-04",
          "2012-12-03",
          "2013-03-01",
          "2013-06-03",
          "2013-09-03",
          "2013-12-02",
          "2014-03-03",
          "2014-06-02",
          "2014-09-02",
          "2014-12-01",
          "2015-03-02",
          "2015-06-01",
          "2015-09-01",
          "2015-12-01",
          "2016-03-01",
          "2016-06-01",
          "2016-09-01",
          "2016-12-01",
          "2017-03-01",
          "2017-06-01",
          "2017-09-01",
          "2017-12-01",
          "2018-03-01",
          "2018-06-01",
          "2018-09-04",
          "2018-12-03",
          "2019-03-01",
          "2019-06-03",
          "2019-09-03",
          "2019-12-02",
          "2020-03-02",
          "2020-06-01",
          "2020-09-01",
          "2020-12-01",
          "2021-03-01",
          "2021-06-01",
          "2021-09-01",
          "2021-12-01",
          "2022-03-01",
          "2022-06-01",
          "2022-09-01",
          "2022-12-01",
          "2023-03-01",
          "2023-06-01",
          "2023-09-01",
          "2023-12-01",
          "2024-03-01",
          "2024-06-03",
          "2024-09-03"
         ],
         "y": [
          998654.3235235739,
          1076913.161622838,
          993578.3743802267,
          998808.8507826781,
          1079378.0107126534,
          1105335.546656806,
          958333.0235129863,
          1072187.0839803242,
          998807.14061157,
          1217892.3327210383,
          1386696.5194452864,
          1530090.4038795317,
          2180103.3766137734,
          2192224.0347746843,
          2263755.2386812405,
          2684595.1097086845,
          2809419.9730577297,
          3692705.6650337377,
          3989470.4712643744,
          4250053.799828259,
          4642788.252845053,
          4799920.126158748,
          7918703.646916398,
          8769797.2737227,
          9036736.265687611,
          10188950.216436109,
          9687845.908759747,
          9674360.604026517,
          9715593.611082863,
          10568273.274302535,
          10593660.558427544,
          6110664.900510667,
          5027841.683641366,
          695843095.0635369,
          622700971.0553224,
          1632352556.5171878,
          27119467801.775543,
          26765221240.94101,
          27096120740.2411,
          31370484271.443268,
          35660769466.43704,
          36999214830.267586,
          32394800624.445553,
          33759382172.748905,
          38449721581.030495,
          652630792692.1537,
          704293238723.2661,
          704039634245.2012,
          786460912377.3208,
          809778783318.1669,
          770727087035.3046,
          823362681675.1962,
          844511487560.371,
          833163427597.233,
          850958411016.5654,
          852696728716.1774,
          896870486001.3118,
          882184860421.114,
          799207911489.6981,
          823552023247.7451,
          760474145347.2795,
          819003737079.1292,
          861705892972.12,
          864458730951.5516,
          935322939370.2655,
          944204361196.5809,
          946342966214.5511,
          1016683374543.3115,
          1015986903665.9889,
          1049047312237.1866,
          1091549782449.5519,
          1040348645301.4906,
          1028090230687.7596,
          926790138045.3403,
          928806558654.9926,
          984865371103.5674,
          950118254959.8578,
          907752361436.9102,
          979011563972.4185,
          1122015138255.8206,
          1243185836531.435,
          1356899938194.507,
          1427023311790.2314,
          1360952523310.069,
          1314162634340.4922,
          1247912222014.1243,
          1193829432382.3577,
          1217228165458.3608,
          1184707679927.634,
          1141308994115.5942,
          1198642913971.8337,
          1174566200728.0266,
          1214270850252.365,
          1144041158156.412,
          1126644853545.9026,
          1191527407986.816
         ]
        },
        {
         "mode": "lines",
         "name": "SPX",
         "type": "scatter",
         "x": [
          "2001-03-01",
          "2001-06-01",
          "2001-09-04",
          "2001-12-03",
          "2002-03-01",
          "2002-06-03",
          "2002-09-03",
          "2002-12-02",
          "2003-03-03",
          "2003-06-02",
          "2003-09-02",
          "2003-12-01",
          "2004-03-01",
          "2004-06-01",
          "2004-09-01",
          "2004-12-01",
          "2005-03-01",
          "2005-06-01",
          "2005-09-01",
          "2005-12-01",
          "2006-03-01",
          "2006-06-01",
          "2006-09-01",
          "2006-12-01",
          "2007-03-01",
          "2007-06-01",
          "2007-09-04",
          "2007-12-03",
          "2008-03-03",
          "2008-06-02",
          "2008-09-02",
          "2008-12-01",
          "2009-03-02",
          "2009-06-01",
          "2009-09-01",
          "2009-12-01",
          "2010-03-01",
          "2010-06-01",
          "2010-09-01",
          "2010-12-01",
          "2011-03-01",
          "2011-06-01",
          "2011-09-01",
          "2011-12-01",
          "2012-03-01",
          "2012-06-01",
          "2012-09-04",
          "2012-12-03",
          "2013-03-01",
          "2013-06-03",
          "2013-09-03",
          "2013-12-02",
          "2014-03-03",
          "2014-06-02",
          "2014-09-02",
          "2014-12-01",
          "2015-03-02",
          "2015-06-01",
          "2015-09-01",
          "2015-12-01",
          "2016-03-01",
          "2016-06-01",
          "2016-09-01",
          "2016-12-01",
          "2017-03-01",
          "2017-06-01",
          "2017-09-01",
          "2017-12-01",
          "2018-03-01",
          "2018-06-01",
          "2018-09-04",
          "2018-12-03",
          "2019-03-01",
          "2019-06-03",
          "2019-09-03",
          "2019-12-02",
          "2020-03-02",
          "2020-06-01",
          "2020-09-01",
          "2020-12-01",
          "2021-03-01",
          "2021-06-01",
          "2021-09-01",
          "2021-12-01",
          "2022-03-01",
          "2022-06-01",
          "2022-09-01",
          "2022-12-01",
          "2023-03-01",
          "2023-06-01",
          "2023-09-01",
          "2023-12-01",
          "2024-03-01",
          "2024-06-03",
          "2024-09-03"
         ],
         "y": [
          1000000,
          1015420.4215210223,
          900939.7241592983,
          898515.8088418092,
          900008.3374818101,
          821222.6076320219,
          669084.7355390013,
          709543.5584275363,
          624786.8995794003,
          710195.981048645,
          748409.3397268461,
          782069.9995965377,
          840151.6903614096,
          814097.3807330988,
          802841.9612231391,
          860431.8308071607,
          873966.6291040779,
          868012.7751146342,
          881776.3158165558,
          911813.3936741495,
          930575.8492043352,
          926573.3044116419,
          944454.441603449,
          1002404.6974140023,
          1007019.6887193384,
          1094308.1380579178,
          1059835.0875886579,
          1047598.6360658094,
          936586.1965581117,
          973308.3595666433,
          890961.2738663295,
          387337.53349632706,
          323562.4083615879,
          406626.11534109776,
          429103.7277895812,
          471988.56346287334,
          474886.3686718953,
          454927.75488303683,
          458962.0820316908,
          506826.8085146606,
          545725.4501140829,
          549137.9590807538,
          498925.7707176323,
          515025.02975169144,
          563566.8998561451,
          521212.5464713972,
          568290.5882426021,
          570113.0483546109,
          610946.9894061291,
          656465.8173432003,
          656205.5864552172,
          714917.5681956026,
          732281.8216368309,
          762425.6707765233,
          791863.6976352393,
          811592.3862405074,
          836104.307098102,
          833863.3591851522,
          747647.1522242909,
          814772.9745997981,
          763588.9520842759,
          807593.0230416923,
          834203.2833715156,
          841901.5715895605,
          913893.0481330318,
          926717.3575892922,
          944113.7679403524,
          1003310.6765664602,
          1016593.6111820891,
          1037764.8167716259,
          1095837.9223820097,
          1054072.064224218,
          1059079.7701056749,
          1036219.1326902633,
          1093915.440934284,
          1166846.2131948671,
          1157919.8859687303,
          1144846.6640802594,
          1297720.1038989476,
          1345838.2914030056,
          1428403.213384152,
          1530457.2554418081,
          1639403.6904642065,
          1635389.746331914,
          1556860.7310544727,
          1479029.7333473368,
          1428926.5438265512,
          1467385.781837064,
          1420898.9467985146,
          1511663.0658124278,
          1610331.2191331463,
          1637970.1156312977,
          1810931.6415619075,
          1861084.0442501777,
          1943731.583601739
         ]
        }
       ],
       "layout": {
        "template": {
         "data": {
          "bar": [
           {
            "error_x": {
             "color": "#2a3f5f"
            },
            "error_y": {
             "color": "#2a3f5f"
            },
            "marker": {
             "line": {
              "color": "#E5ECF6",
              "width": 0.5
             },
             "pattern": {
              "fillmode": "overlay",
              "size": 10,
              "solidity": 0.2
             }
            },
            "type": "bar"
           }
          ],
          "barpolar": [
           {
            "marker": {
             "line": {
              "color": "#E5ECF6",
              "width": 0.5
             },
             "pattern": {
              "fillmode": "overlay",
              "size": 10,
              "solidity": 0.2
             }
            },
            "type": "barpolar"
           }
          ],
          "carpet": [
           {
            "aaxis": {
             "endlinecolor": "#2a3f5f",
             "gridcolor": "white",
             "linecolor": "white",
             "minorgridcolor": "white",
             "startlinecolor": "#2a3f5f"
            },
            "baxis": {
             "endlinecolor": "#2a3f5f",
             "gridcolor": "white",
             "linecolor": "white",
             "minorgridcolor": "white",
             "startlinecolor": "#2a3f5f"
            },
            "type": "carpet"
           }
          ],
          "choropleth": [
           {
            "colorbar": {
             "outlinewidth": 0,
             "ticks": ""
            },
            "type": "choropleth"
           }
          ],
          "contour": [
           {
            "colorbar": {
             "outlinewidth": 0,
             "ticks": ""
            },
            "colorscale": [
             [
              0,
              "#0d0887"
             ],
             [
              0.1111111111111111,
              "#46039f"
             ],
             [
              0.2222222222222222,
              "#7201a8"
             ],
             [
              0.3333333333333333,
              "#9c179e"
             ],
             [
              0.4444444444444444,
              "#bd3786"
             ],
             [
              0.5555555555555556,
              "#d8576b"
             ],
             [
              0.6666666666666666,
              "#ed7953"
             ],
             [
              0.7777777777777778,
              "#fb9f3a"
             ],
             [
              0.8888888888888888,
              "#fdca26"
             ],
             [
              1,
              "#f0f921"
             ]
            ],
            "type": "contour"
           }
          ],
          "contourcarpet": [
           {
            "colorbar": {
             "outlinewidth": 0,
             "ticks": ""
            },
            "type": "contourcarpet"
           }
          ],
          "heatmap": [
           {
            "colorbar": {
             "outlinewidth": 0,
             "ticks": ""
            },
            "colorscale": [
             [
              0,
              "#0d0887"
             ],
             [
              0.1111111111111111,
              "#46039f"
             ],
             [
              0.2222222222222222,
              "#7201a8"
             ],
             [
              0.3333333333333333,
              "#9c179e"
             ],
             [
              0.4444444444444444,
              "#bd3786"
             ],
             [
              0.5555555555555556,
              "#d8576b"
             ],
             [
              0.6666666666666666,
              "#ed7953"
             ],
             [
              0.7777777777777778,
              "#fb9f3a"
             ],
             [
              0.8888888888888888,
              "#fdca26"
             ],
             [
              1,
              "#f0f921"
             ]
            ],
            "type": "heatmap"
           }
          ],
          "heatmapgl": [
           {
            "colorbar": {
             "outlinewidth": 0,
             "ticks": ""
            },
            "colorscale": [
             [
              0,
              "#0d0887"
             ],
             [
              0.1111111111111111,
              "#46039f"
             ],
             [
              0.2222222222222222,
              "#7201a8"
             ],
             [
              0.3333333333333333,
              "#9c179e"
             ],
             [
              0.4444444444444444,
              "#bd3786"
             ],
             [
              0.5555555555555556,
              "#d8576b"
             ],
             [
              0.6666666666666666,
              "#ed7953"
             ],
             [
              0.7777777777777778,
              "#fb9f3a"
             ],
             [
              0.8888888888888888,
              "#fdca26"
             ],
             [
              1,
              "#f0f921"
             ]
            ],
            "type": "heatmapgl"
           }
          ],
          "histogram": [
           {
            "marker": {
             "pattern": {
              "fillmode": "overlay",
              "size": 10,
              "solidity": 0.2
             }
            },
            "type": "histogram"
           }
          ],
          "histogram2d": [
           {
            "colorbar": {
             "outlinewidth": 0,
             "ticks": ""
            },
            "colorscale": [
             [
              0,
              "#0d0887"
             ],
             [
              0.1111111111111111,
              "#46039f"
             ],
             [
              0.2222222222222222,
              "#7201a8"
             ],
             [
              0.3333333333333333,
              "#9c179e"
             ],
             [
              0.4444444444444444,
              "#bd3786"
             ],
             [
              0.5555555555555556,
              "#d8576b"
             ],
             [
              0.6666666666666666,
              "#ed7953"
             ],
             [
              0.7777777777777778,
              "#fb9f3a"
             ],
             [
              0.8888888888888888,
              "#fdca26"
             ],
             [
              1,
              "#f0f921"
             ]
            ],
            "type": "histogram2d"
           }
          ],
          "histogram2dcontour": [
           {
            "colorbar": {
             "outlinewidth": 0,
             "ticks": ""
            },
            "colorscale": [
             [
              0,
              "#0d0887"
             ],
             [
              0.1111111111111111,
              "#46039f"
             ],
             [
              0.2222222222222222,
              "#7201a8"
             ],
             [
              0.3333333333333333,
              "#9c179e"
             ],
             [
              0.4444444444444444,
              "#bd3786"
             ],
             [
              0.5555555555555556,
              "#d8576b"
             ],
             [
              0.6666666666666666,
              "#ed7953"
             ],
             [
              0.7777777777777778,
              "#fb9f3a"
             ],
             [
              0.8888888888888888,
              "#fdca26"
             ],
             [
              1,
              "#f0f921"
             ]
            ],
            "type": "histogram2dcontour"
           }
          ],
          "mesh3d": [
           {
            "colorbar": {
             "outlinewidth": 0,
             "ticks": ""
            },
            "type": "mesh3d"
           }
          ],
          "parcoords": [
           {
            "line": {
             "colorbar": {
              "outlinewidth": 0,
              "ticks": ""
             }
            },
            "type": "parcoords"
           }
          ],
          "pie": [
           {
            "automargin": true,
            "type": "pie"
           }
          ],
          "scatter": [
           {
            "fillpattern": {
             "fillmode": "overlay",
             "size": 10,
             "solidity": 0.2
            },
            "type": "scatter"
           }
          ],
          "scatter3d": [
           {
            "line": {
             "colorbar": {
              "outlinewidth": 0,
              "ticks": ""
             }
            },
            "marker": {
             "colorbar": {
              "outlinewidth": 0,
              "ticks": ""
             }
            },
            "type": "scatter3d"
           }
          ],
          "scattercarpet": [
           {
            "marker": {
             "colorbar": {
              "outlinewidth": 0,
              "ticks": ""
             }
            },
            "type": "scattercarpet"
           }
          ],
          "scattergeo": [
           {
            "marker": {
             "colorbar": {
              "outlinewidth": 0,
              "ticks": ""
             }
            },
            "type": "scattergeo"
           }
          ],
          "scattergl": [
           {
            "marker": {
             "colorbar": {
              "outlinewidth": 0,
              "ticks": ""
             }
            },
            "type": "scattergl"
           }
          ],
          "scattermapbox": [
           {
            "marker": {
             "colorbar": {
              "outlinewidth": 0,
              "ticks": ""
             }
            },
            "type": "scattermapbox"
           }
          ],
          "scatterpolar": [
           {
            "marker": {
             "colorbar": {
              "outlinewidth": 0,
              "ticks": ""
             }
            },
            "type": "scatterpolar"
           }
          ],
          "scatterpolargl": [
           {
            "marker": {
             "colorbar": {
              "outlinewidth": 0,
              "ticks": ""
             }
            },
            "type": "scatterpolargl"
           }
          ],
          "scatterternary": [
           {
            "marker": {
             "colorbar": {
              "outlinewidth": 0,
              "ticks": ""
             }
            },
            "type": "scatterternary"
           }
          ],
          "surface": [
           {
            "colorbar": {
             "outlinewidth": 0,
             "ticks": ""
            },
            "colorscale": [
             [
              0,
              "#0d0887"
             ],
             [
              0.1111111111111111,
              "#46039f"
             ],
             [
              0.2222222222222222,
              "#7201a8"
             ],
             [
              0.3333333333333333,
              "#9c179e"
             ],
             [
              0.4444444444444444,
              "#bd3786"
             ],
             [
              0.5555555555555556,
              "#d8576b"
             ],
             [
              0.6666666666666666,
              "#ed7953"
             ],
             [
              0.7777777777777778,
              "#fb9f3a"
             ],
             [
              0.8888888888888888,
              "#fdca26"
             ],
             [
              1,
              "#f0f921"
             ]
            ],
            "type": "surface"
           }
          ],
          "table": [
           {
            "cells": {
             "fill": {
              "color": "#EBF0F8"
             },
             "line": {
              "color": "white"
             }
            },
            "header": {
             "fill": {
              "color": "#C8D4E3"
             },
             "line": {
              "color": "white"
             }
            },
            "type": "table"
           }
          ]
         },
         "layout": {
          "annotationdefaults": {
           "arrowcolor": "#2a3f5f",
           "arrowhead": 0,
           "arrowwidth": 1
          },
          "autotypenumbers": "strict",
          "coloraxis": {
           "colorbar": {
            "outlinewidth": 0,
            "ticks": ""
           }
          },
          "colorscale": {
           "diverging": [
            [
             0,
             "#8e0152"
            ],
            [
             0.1,
             "#c51b7d"
            ],
            [
             0.2,
             "#de77ae"
            ],
            [
             0.3,
             "#f1b6da"
            ],
            [
             0.4,
             "#fde0ef"
            ],
            [
             0.5,
             "#f7f7f7"
            ],
            [
             0.6,
             "#e6f5d0"
            ],
            [
             0.7,
             "#b8e186"
            ],
            [
             0.8,
             "#7fbc41"
            ],
            [
             0.9,
             "#4d9221"
            ],
            [
             1,
             "#276419"
            ]
           ],
           "sequential": [
            [
             0,
             "#0d0887"
            ],
            [
             0.1111111111111111,
             "#46039f"
            ],
            [
             0.2222222222222222,
             "#7201a8"
            ],
            [
             0.3333333333333333,
             "#9c179e"
            ],
            [
             0.4444444444444444,
             "#bd3786"
            ],
            [
             0.5555555555555556,
             "#d8576b"
            ],
            [
             0.6666666666666666,
             "#ed7953"
            ],
            [
             0.7777777777777778,
             "#fb9f3a"
            ],
            [
             0.8888888888888888,
             "#fdca26"
            ],
            [
             1,
             "#f0f921"
            ]
           ],
           "sequentialminus": [
            [
             0,
             "#0d0887"
            ],
            [
             0.1111111111111111,
             "#46039f"
            ],
            [
             0.2222222222222222,
             "#7201a8"
            ],
            [
             0.3333333333333333,
             "#9c179e"
            ],
            [
             0.4444444444444444,
             "#bd3786"
            ],
            [
             0.5555555555555556,
             "#d8576b"
            ],
            [
             0.6666666666666666,
             "#ed7953"
            ],
            [
             0.7777777777777778,
             "#fb9f3a"
            ],
            [
             0.8888888888888888,
             "#fdca26"
            ],
            [
             1,
             "#f0f921"
            ]
           ]
          },
          "colorway": [
           "#636efa",
           "#EF553B",
           "#00cc96",
           "#ab63fa",
           "#FFA15A",
           "#19d3f3",
           "#FF6692",
           "#B6E880",
           "#FF97FF",
           "#FECB52"
          ],
          "font": {
           "color": "#2a3f5f"
          },
          "geo": {
           "bgcolor": "white",
           "lakecolor": "white",
           "landcolor": "#E5ECF6",
           "showlakes": true,
           "showland": true,
           "subunitcolor": "white"
          },
          "hoverlabel": {
           "align": "left"
          },
          "hovermode": "closest",
          "mapbox": {
           "style": "light"
          },
          "paper_bgcolor": "white",
          "plot_bgcolor": "#E5ECF6",
          "polar": {
           "angularaxis": {
            "gridcolor": "white",
            "linecolor": "white",
            "ticks": ""
           },
           "bgcolor": "#E5ECF6",
           "radialaxis": {
            "gridcolor": "white",
            "linecolor": "white",
            "ticks": ""
           }
          },
          "scene": {
           "xaxis": {
            "backgroundcolor": "#E5ECF6",
            "gridcolor": "white",
            "gridwidth": 2,
            "linecolor": "white",
            "showbackground": true,
            "ticks": "",
            "zerolinecolor": "white"
           },
           "yaxis": {
            "backgroundcolor": "#E5ECF6",
            "gridcolor": "white",
            "gridwidth": 2,
            "linecolor": "white",
            "showbackground": true,
            "ticks": "",
            "zerolinecolor": "white"
           },
           "zaxis": {
            "backgroundcolor": "#E5ECF6",
            "gridcolor": "white",
            "gridwidth": 2,
            "linecolor": "white",
            "showbackground": true,
            "ticks": "",
            "zerolinecolor": "white"
           }
          },
          "shapedefaults": {
           "line": {
            "color": "#2a3f5f"
           }
          },
          "ternary": {
           "aaxis": {
            "gridcolor": "white",
            "linecolor": "white",
            "ticks": ""
           },
           "baxis": {
            "gridcolor": "white",
            "linecolor": "white",
            "ticks": ""
           },
           "bgcolor": "#E5ECF6",
           "caxis": {
            "gridcolor": "white",
            "linecolor": "white",
            "ticks": ""
           }
          },
          "title": {
           "x": 0.05
          },
          "xaxis": {
           "automargin": true,
           "gridcolor": "white",
           "linecolor": "white",
           "ticks": "",
           "title": {
            "standoff": 15
           },
           "zerolinecolor": "white",
           "zerolinewidth": 2
          },
          "yaxis": {
           "automargin": true,
           "gridcolor": "white",
           "linecolor": "white",
           "ticks": "",
           "title": {
            "standoff": 15
           },
           "zerolinecolor": "white",
           "zerolinewidth": 2
          }
         }
        },
        "title": {
         "text": "Portfolio Value Performance Quarterly with Transaction cost"
        },
        "xaxis": {
         "title": {
          "text": "Quarterly Trade Date"
         }
        },
        "yaxis": {
         "title": {
          "text": "Portfolio Value"
         }
        }
       }
      }
     },
     "metadata": {},
     "output_type": "display_data"
    }
   ],
   "source": [
    "trace0 = go.Scatter(x = time_ind, y = portfolio_cost_meanv, mode = 'lines', name = 'Mean-Variance')\n",
    "trace1 = go.Scatter(x = time_ind, y = portfolio_cost_equal, mode = 'lines', name = 'Equally Weighted')\n",
    "trace2 = go.Scatter(x = time_ind, y = portfolio_cost_minv, mode = 'lines', name = 'Min-Variance')\n",
    "trace3 = go.Scatter(x = time_ind, y = spx_value, mode = 'lines', name = 'SPX')\n",
    "\n",
    "data = [trace0, trace1, trace2, trace3]\n",
    "layout = dict(title = \"Portfolio Value Performance Quarterly with Transaction cost\", \n",
    "              xaxis = dict(title = 'Quarterly Trade Date'), \n",
    "              yaxis = dict(title = 'Portfolio Value'))\n",
    "fig = dict(data = data, layout = layout)\n",
    "\n",
    "plotly.offline.iplot(fig)\n",
    "\n",
    "#portfolio_tmp = portfolio_cost_value"
   ]
  },
  {
   "cell_type": "markdown",
   "metadata": {},
   "source": [
    "## 4.2 Plot Portfolio Return"
   ]
  },
  {
   "cell_type": "code",
   "execution_count": 42,
   "metadata": {},
   "outputs": [
    {
     "data": {
      "application/vnd.plotly.v1+json": {
       "config": {
        "linkText": "Export to plot.ly",
        "plotlyServerURL": "https://plot.ly",
        "showLink": false
       },
       "data": [
        {
         "mode": "lines",
         "name": "Mean-Variance",
         "type": "scatter",
         "x": [
          "2001-03-01",
          "2001-06-01",
          "2001-09-04",
          "2001-12-03",
          "2002-03-01",
          "2002-06-03",
          "2002-09-03",
          "2002-12-02",
          "2003-03-03",
          "2003-06-02",
          "2003-09-02",
          "2003-12-01",
          "2004-03-01",
          "2004-06-01",
          "2004-09-01",
          "2004-12-01",
          "2005-03-01",
          "2005-06-01",
          "2005-09-01",
          "2005-12-01",
          "2006-03-01",
          "2006-06-01",
          "2006-09-01",
          "2006-12-01",
          "2007-03-01",
          "2007-06-01",
          "2007-09-04",
          "2007-12-03",
          "2008-03-03",
          "2008-06-02",
          "2008-09-02",
          "2008-12-01",
          "2009-03-02",
          "2009-06-01",
          "2009-09-01",
          "2009-12-01",
          "2010-03-01",
          "2010-06-01",
          "2010-09-01",
          "2010-12-01",
          "2011-03-01",
          "2011-06-01",
          "2011-09-01",
          "2011-12-01",
          "2012-03-01",
          "2012-06-01",
          "2012-09-04",
          "2012-12-03",
          "2013-03-01",
          "2013-06-03",
          "2013-09-03",
          "2013-12-02",
          "2014-03-03",
          "2014-06-02",
          "2014-09-02",
          "2014-12-01",
          "2015-03-02",
          "2015-06-01",
          "2015-09-01",
          "2015-12-01",
          "2016-03-01",
          "2016-06-01",
          "2016-09-01",
          "2016-12-01",
          "2017-03-01",
          "2017-06-01",
          "2017-09-01",
          "2017-12-01",
          "2018-03-01",
          "2018-06-01",
          "2018-09-04",
          "2018-12-03",
          "2019-03-01",
          "2019-06-03",
          "2019-09-03",
          "2019-12-02",
          "2020-03-02",
          "2020-06-01",
          "2020-09-01",
          "2020-12-01",
          "2021-03-01",
          "2021-06-01",
          "2021-09-01",
          "2021-12-01",
          "2022-03-01",
          "2022-06-01",
          "2022-09-01",
          "2022-12-01",
          "2023-03-01",
          "2023-06-01",
          "2023-09-01",
          "2023-12-01",
          "2024-03-01",
          "2024-06-03",
          "2024-09-03"
         ],
         "y": [
          0,
          0.07840290744790118,
          -0.08032265732419384,
          0.005270748161248857,
          0.06719840014609392,
          0.023510255606358343,
          -0.13287661070099394,
          0.10897283361897264,
          -0.09960388674867417,
          0.21483705614795878,
          0.13781662993370214,
          0.10604623832883174,
          0.07182729986972874,
          0.007207619848361541,
          0.016341563485546946,
          0.18566954104451588,
          0.04637866625923461,
          0.31348483916238223,
          0.08007941746295504,
          0.08463754323111254,
          0.10130036419419221,
          0.033733317935854205,
          0.6487374037636832,
          0.11139345388396367,
          0.03693528876083254,
          0.12773633712540056,
          -0.060307488935877396,
          0.04053719084408939,
          -0.04347937361610836,
          0.09384326283528535,
          -0.0020172617594733837,
          -0.4213760595398541,
          -0.20737247026091674,
          137.32688064332322,
          -0.8186323887454594,
          47.69257196229836,
          15.614805137542993,
          -0.013299592139803492,
          0.012369059591480196,
          0.13647551898425272,
          0.13678730633424468,
          0.0058678237456690555,
          -0.12440377373065406,
          0.030002536900588794,
          0.1459261868601754,
          15.870617333869241,
          -0.8746243386871895,
          0.056824691188523326,
          0.1529990109025664,
          0.11726847345452651,
          -0.007311941896792884,
          0.0714251228185186,
          0.09228397826415519,
          -0.0044700390598328135,
          0.0334742874839233,
          0.009660755344201202,
          0.04300217972106666,
          -0.05649685873845316,
          -0.09131729232708165,
          -0.03368548470283199,
          -0.07599680808265184,
          0.11297798949204435,
          0.07501027133282018,
          0.029783087632659758,
          0.0939055919803384,
          -0.025620089234005407,
          0.021328862384119487,
          0.0805042359911324,
          -0.030103676092963685,
          -0.08839763332217036,
          -0.08668248365700922,
          -0.0290458405976542,
          -0.035612769360558,
          -0.08796355179179903,
          0.004339425666734739,
          0.09851131002422203,
          -0.07062770925798327,
          -0.03856572885591776,
          0.09091540669665732,
          0.1520810489626874,
          0.015800202834915265,
          0.09694170847623237,
          0.05753828205826147,
          -0.05427670530044197,
          -0.023384067539561307,
          -0.15544099639441905,
          -0.025219722430077245,
          0.05789229783376842,
          -0.0478148528172092,
          -0.008906698482934475,
          0.0974923710678605,
          -0.021385589583663257,
          -0.10606324647359419,
          -0.09473230701872244,
          0.025534367583990976,
          0.07808217701572083
         ]
        },
        {
         "mode": "lines",
         "name": "Minimum-Variance",
         "type": "scatter",
         "x": [
          "2001-03-01",
          "2001-06-01",
          "2001-09-04",
          "2001-12-03",
          "2002-03-01",
          "2002-06-03",
          "2002-09-03",
          "2002-12-02",
          "2003-03-03",
          "2003-06-02",
          "2003-09-02",
          "2003-12-01",
          "2004-03-01",
          "2004-06-01",
          "2004-09-01",
          "2004-12-01",
          "2005-03-01",
          "2005-06-01",
          "2005-09-01",
          "2005-12-01",
          "2006-03-01",
          "2006-06-01",
          "2006-09-01",
          "2006-12-01",
          "2007-03-01",
          "2007-06-01",
          "2007-09-04",
          "2007-12-03",
          "2008-03-03",
          "2008-06-02",
          "2008-09-02",
          "2008-12-01",
          "2009-03-02",
          "2009-06-01",
          "2009-09-01",
          "2009-12-01",
          "2010-03-01",
          "2010-06-01",
          "2010-09-01",
          "2010-12-01",
          "2011-03-01",
          "2011-06-01",
          "2011-09-01",
          "2011-12-01",
          "2012-03-01",
          "2012-06-01",
          "2012-09-04",
          "2012-12-03",
          "2013-03-01",
          "2013-06-03",
          "2013-09-03",
          "2013-12-02",
          "2014-03-03",
          "2014-06-02",
          "2014-09-02",
          "2014-12-01",
          "2015-03-02",
          "2015-06-01",
          "2015-09-01",
          "2015-12-01",
          "2016-03-01",
          "2016-06-01",
          "2016-09-01",
          "2016-12-01",
          "2017-03-01",
          "2017-06-01",
          "2017-09-01",
          "2017-12-01",
          "2018-03-01",
          "2018-06-01",
          "2018-09-04",
          "2018-12-03",
          "2019-03-01",
          "2019-06-03",
          "2019-09-03",
          "2019-12-02",
          "2020-03-02",
          "2020-06-01",
          "2020-09-01",
          "2020-12-01",
          "2021-03-01",
          "2021-06-01",
          "2021-09-01",
          "2021-12-01",
          "2022-03-01",
          "2022-06-01",
          "2022-09-01",
          "2022-12-01",
          "2023-03-01",
          "2023-06-01",
          "2023-09-01",
          "2023-12-01",
          "2024-03-01",
          "2024-06-03",
          "2024-09-03"
         ],
         "y": [
          0,
          0.0783642910823653,
          -0.0773830149099776,
          0.005264281648354174,
          0.08066524427255561,
          0.024048605480682623,
          -0.13299357248434024,
          0.11880427541772501,
          -0.0684394957420517,
          0.2193468420493293,
          0.13860353841550394,
          0.10340682508643381,
          0.42481997866671095,
          0.005559671293999484,
          0.032629513577022734,
          0.1859034333025358,
          0.04649671859179926,
          0.3144014424495791,
          0.08036513958875882,
          0.06531777348418341,
          0.09240693683281453,
          0.03384429027479476,
          0.6497573790365407,
          0.10747890876529079,
          0.03043844499858056,
          0.12750332828937827,
          -0.04918115183917722,
          -0.0013919817532436589,
          0.0042620911855595685,
          0.08776403144806252,
          0.0024022168490608997,
          -0.42317720425264455,
          -0.17720219231442552,
          137.39797249932087,
          -0.10511295510022403,
          1.62140679458193,
          15.613731937687561,
          -0.013062445156513756,
          0.012363039943564354,
          0.15774817259557777,
          0.13676184141343478,
          0.03753271126385123,
          -0.12444626803418933,
          0.04212347419954857,
          0.13893439708940242,
          15.973615564855866,
          0.07916029493184155,
          -0.0003600836471533823,
          0.11706908833404421,
          0.029649116152970157,
          -0.04822514134396463,
          0.06829342775840513,
          0.025685893174252076,
          -0.013437425221911749,
          0.021358334787511615,
          0.00204277632973311,
          0.051804769266140534,
          -0.016374299087121787,
          -0.0940584594614405,
          0.030460298763397307,
          -0.07659246303799094,
          0.07696460437208076,
          0.05213914657493818,
          0.0031946375229450906,
          0.0819752359267749,
          0.009495567201949644,
          0.002264981084455045,
          0.07432866396220783,
          -0.0006850420639911444,
          0.032540191661827304,
          0.04051530347256211,
          -0.046906827312228096,
          -0.01178298704871048,
          -0.09853229767065559,
          0.002175703567481827,
          0.060355745689127945,
          -0.03528108223033016,
          -0.04459012686240575,
          0.07850070742058973,
          0.14606934130905824,
          0.1079938176805485,
          0.09146991408809914,
          0.05167910442167948,
          -0.04629972610417634,
          -0.034380250720117626,
          -0.05041264345460214,
          -0.04333861683354398,
          0.019599728773070715,
          -0.02671683621326726,
          -0.036632400167010595,
          0.05023523003134469,
          -0.020086643789538887,
          0.033803671091274724,
          -0.057836925000181685,
          -0.015206012901269342,
          0.057589181042018434
         ]
        },
        {
         "mode": "lines",
         "name": "Equally Weighted",
         "type": "scatter",
         "x": [
          "2001-03-01",
          "2001-06-01",
          "2001-09-04",
          "2001-12-03",
          "2002-03-01",
          "2002-06-03",
          "2002-09-03",
          "2002-12-02",
          "2003-03-03",
          "2003-06-02",
          "2003-09-02",
          "2003-12-01",
          "2004-03-01",
          "2004-06-01",
          "2004-09-01",
          "2004-12-01",
          "2005-03-01",
          "2005-06-01",
          "2005-09-01",
          "2005-12-01",
          "2006-03-01",
          "2006-06-01",
          "2006-09-01",
          "2006-12-01",
          "2007-03-01",
          "2007-06-01",
          "2007-09-04",
          "2007-12-03",
          "2008-03-03",
          "2008-06-02",
          "2008-09-02",
          "2008-12-01",
          "2009-03-02",
          "2009-06-01",
          "2009-09-01",
          "2009-12-01",
          "2010-03-01",
          "2010-06-01",
          "2010-09-01",
          "2010-12-01",
          "2011-03-01",
          "2011-06-01",
          "2011-09-01",
          "2011-12-01",
          "2012-03-01",
          "2012-06-01",
          "2012-09-04",
          "2012-12-03",
          "2013-03-01",
          "2013-06-03",
          "2013-09-03",
          "2013-12-02",
          "2014-03-03",
          "2014-06-02",
          "2014-09-02",
          "2014-12-01",
          "2015-03-02",
          "2015-06-01",
          "2015-09-01",
          "2015-12-01",
          "2016-03-01",
          "2016-06-01",
          "2016-09-01",
          "2016-12-01",
          "2017-03-01",
          "2017-06-01",
          "2017-09-01",
          "2017-12-01",
          "2018-03-01",
          "2018-06-01",
          "2018-09-04",
          "2018-12-03",
          "2019-03-01",
          "2019-06-03",
          "2019-09-03",
          "2019-12-02",
          "2020-03-02",
          "2020-06-01",
          "2020-09-01",
          "2020-12-01",
          "2021-03-01",
          "2021-06-01",
          "2021-09-01",
          "2021-12-01",
          "2022-03-01",
          "2022-06-01",
          "2022-09-01",
          "2022-12-01",
          "2023-03-01",
          "2023-06-01",
          "2023-09-01",
          "2023-12-01",
          "2024-03-01",
          "2024-06-03",
          "2024-09-03"
         ],
         "y": [
          0,
          0.07887349348926759,
          -0.0771073108879055,
          0.004852922754707447,
          0.08103954870248412,
          0.02446192397805188,
          -0.13261444803343553,
          0.11826829674723739,
          -0.06889197596858652,
          0.21879779833926333,
          0.1381530535574677,
          0.10380826574634243,
          0.42429986636560213,
          0.004862765712340453,
          0.032951241769414594,
          0.1863601411185059,
          0.04600431903950933,
          0.31373495385256484,
          0.08074713929629175,
          0.06539120694573061,
          0.09186425074021837,
          0.03337413125148313,
          0.6503113093192352,
          0.10807414923905442,
          0.029937682522524982,
          0.12756805090032217,
          -0.04933722750492269,
          -0.0010053267489549594,
          0.004547203234262116,
          0.08817328564332974,
          0.002012947460925061,
          -0.42303169717496886,
          -0.17708195572738883,
          137.42225523308335,
          -0.10574345654593353,
          1.6227760402966902,
          15.620283716700454,
          -0.01385247086074709,
          0.012616327483985753,
          0.15824665161594043,
          0.13697808678597034,
          0.037013726264436685,
          -0.12409585076804334,
          0.042019059558291445,
          0.1396817256303,
          15.964875340473661,
          0.07880301897472292,
          0.000040664170594097905,
          0.11752352863104983,
          0.029892459346179526,
          -0.04836564020566098,
          0.06896626182132787,
          0.025343024549097665,
          -0.013570146328719205,
          0.021780064998315807,
          0.002295125886384477,
          0.05156867094632681,
          -0.015301234876092865,
          -0.09369238547208106,
          0.03155683118174735,
          -0.07562679067202496,
          0.0785537794461436,
          0.050808500963927465,
          -0.001181267354330634,
          0.08199248414029546,
          0.009053101049667943,
          0.0011538389671938614,
          0.0738457995500982,
          -0.0018468848312407815,
          0.032153404248825415,
          0.04059544574434782,
          -0.046665044902102285,
          -0.01256461277369586,
          -0.09802381867627802,
          0.0013758414754929415,
          0.06012710585263845,
          -0.03519742568191981,
          -0.045591094613919025,
          0.07782482380618379,
          0.144955437972207,
          0.10805832156027269,
          0.09027746217622121,
          0.0512592531052643,
          -0.046372535343001516,
          -0.03520858305816671,
          -0.05019596121791735,
          -0.04395553374660814,
          0.018853249447072142,
          -0.027192290355757546,
          -0.03763227521969034,
          0.05025208363463292,
          -0.02024189232779117,
          0.03322615111651785,
          -0.05853397320663795,
          -0.016030690313033485,
          0.057907622212877666
         ]
        },
        {
         "mode": "lines",
         "name": "SPX",
         "type": "scatter",
         "x": [
          "2001-03-01",
          "2001-06-01",
          "2001-09-04",
          "2001-12-03",
          "2002-03-01",
          "2002-06-03",
          "2002-09-03",
          "2002-12-02",
          "2003-03-03",
          "2003-06-02",
          "2003-09-02",
          "2003-12-01",
          "2004-03-01",
          "2004-06-01",
          "2004-09-01",
          "2004-12-01",
          "2005-03-01",
          "2005-06-01",
          "2005-09-01",
          "2005-12-01",
          "2006-03-01",
          "2006-06-01",
          "2006-09-01",
          "2006-12-01",
          "2007-03-01",
          "2007-06-01",
          "2007-09-04",
          "2007-12-03",
          "2008-03-03",
          "2008-06-02",
          "2008-09-02",
          "2008-12-01",
          "2009-03-02",
          "2009-06-01",
          "2009-09-01",
          "2009-12-01",
          "2010-03-01",
          "2010-06-01",
          "2010-09-01",
          "2010-12-01",
          "2011-03-01",
          "2011-06-01",
          "2011-09-01",
          "2011-12-01",
          "2012-03-01",
          "2012-06-01",
          "2012-09-04",
          "2012-12-03",
          "2013-03-01",
          "2013-06-03",
          "2013-09-03",
          "2013-12-02",
          "2014-03-03",
          "2014-06-02",
          "2014-09-02",
          "2014-12-01",
          "2015-03-02",
          "2015-06-01",
          "2015-09-01",
          "2015-12-01",
          "2016-03-01",
          "2016-06-01",
          "2016-09-01",
          "2016-12-01",
          "2017-03-01",
          "2017-06-01",
          "2017-09-01",
          "2017-12-01",
          "2018-03-01",
          "2018-06-01",
          "2018-09-04",
          "2018-12-03",
          "2019-03-01",
          "2019-06-03",
          "2019-09-03",
          "2019-12-02",
          "2020-03-02",
          "2020-06-01",
          "2020-09-01",
          "2020-12-01",
          "2021-03-01",
          "2021-06-01",
          "2021-09-01",
          "2021-12-01",
          "2022-03-01",
          "2022-06-01",
          "2022-09-01",
          "2022-12-01",
          "2023-03-01",
          "2023-06-01",
          "2023-09-01",
          "2023-12-01",
          "2024-03-01",
          "2024-06-03",
          "2024-09-03"
         ],
         "y": [
          0,
          0.015420421521022359,
          -0.11274216564429605,
          -0.0026904300615126758,
          0.0016611044851007524,
          -0.08753888888432727,
          -0.1852577738108148,
          0.060468907358859514,
          -0.11945236883831412,
          0.1367011400635018,
          0.053806779674783346,
          0.04497626911227076,
          0.07426661397935691,
          -0.031011435110132206,
          -0.013825642701152312,
          0.0717325107126723,
          0.015730238947832015,
          -0.006812450030897837,
          0.01585638033968322,
          0.03406428287856472,
          0.020577078227138664,
          -0.004301148365407913,
          0.019298135513586202,
          0.06135844489456598,
          0.004603920270168108,
          0.0866799828408391,
          -0.031502142102716846,
          -0.011545618432664722,
          -0.10596848419409743,
          0.03920852468623058,
          -0.08460534104215246,
          -0.5652588447357824,
          -0.16465000063141016,
          0.25671618467706664,
          0.055278329650883605,
          0.09994048733671584,
          0.006139566577125166,
          -0.042028188437323,
          0.008868061148942749,
          0.10428906516870991,
          0.07674937660346187,
          0.006253160753191119,
          -0.0914382033381479,
          0.032267844194343066,
          0.09425147769586494,
          -0.0751540826751167,
          0.09032407621405636,
          0.0032069158802095496,
          0.07162428779584684,
          0.07450536417458699,
          -0.0003964119396745149,
          0.08947193219969968,
          0.02428846934766822,
          0.0411642734382144,
          0.03861101217740176,
          0.024914248076006226,
          0.030202255803729094,
          -0.002680225294769289,
          -0.1033936867607559,
          0.08978275671324937,
          -0.06281998067088922,
          0.05762795655608152,
          0.032950086950478095,
          0.009228312057142194,
          0.08551056200969813,
          0.014032615175767864,
          0.01877207781703161,
          0.06270103311304294,
          0.013239104223515227,
          0.020825633130744352,
          0.05595979423453841,
          -0.03811317103080873,
          0.004750819276424397,
          -0.021585378231830984,
          0.055679639975598286,
          0.06666947876546563,
          -0.007649960316275257,
          -0.011290264591607563,
          0.13353180352890567,
          0.0370790183179631,
          0.06134832283236208,
          0.07144624228047713,
          0.07118554578053078,
          -0.0024484171626794143,
          -0.04801853225115146,
          -0.04999226723023616,
          -0.03387571486300836,
          0.026914776114048754,
          -0.03168003643891869,
          0.0638779550216556,
          0.06527126021147461,
          0.01716348548035336,
          0.10559504369464505,
          0.027694255010649788,
          0.04440827893125021
         ]
        }
       ],
       "layout": {
        "template": {
         "data": {
          "bar": [
           {
            "error_x": {
             "color": "#2a3f5f"
            },
            "error_y": {
             "color": "#2a3f5f"
            },
            "marker": {
             "line": {
              "color": "#E5ECF6",
              "width": 0.5
             },
             "pattern": {
              "fillmode": "overlay",
              "size": 10,
              "solidity": 0.2
             }
            },
            "type": "bar"
           }
          ],
          "barpolar": [
           {
            "marker": {
             "line": {
              "color": "#E5ECF6",
              "width": 0.5
             },
             "pattern": {
              "fillmode": "overlay",
              "size": 10,
              "solidity": 0.2
             }
            },
            "type": "barpolar"
           }
          ],
          "carpet": [
           {
            "aaxis": {
             "endlinecolor": "#2a3f5f",
             "gridcolor": "white",
             "linecolor": "white",
             "minorgridcolor": "white",
             "startlinecolor": "#2a3f5f"
            },
            "baxis": {
             "endlinecolor": "#2a3f5f",
             "gridcolor": "white",
             "linecolor": "white",
             "minorgridcolor": "white",
             "startlinecolor": "#2a3f5f"
            },
            "type": "carpet"
           }
          ],
          "choropleth": [
           {
            "colorbar": {
             "outlinewidth": 0,
             "ticks": ""
            },
            "type": "choropleth"
           }
          ],
          "contour": [
           {
            "colorbar": {
             "outlinewidth": 0,
             "ticks": ""
            },
            "colorscale": [
             [
              0,
              "#0d0887"
             ],
             [
              0.1111111111111111,
              "#46039f"
             ],
             [
              0.2222222222222222,
              "#7201a8"
             ],
             [
              0.3333333333333333,
              "#9c179e"
             ],
             [
              0.4444444444444444,
              "#bd3786"
             ],
             [
              0.5555555555555556,
              "#d8576b"
             ],
             [
              0.6666666666666666,
              "#ed7953"
             ],
             [
              0.7777777777777778,
              "#fb9f3a"
             ],
             [
              0.8888888888888888,
              "#fdca26"
             ],
             [
              1,
              "#f0f921"
             ]
            ],
            "type": "contour"
           }
          ],
          "contourcarpet": [
           {
            "colorbar": {
             "outlinewidth": 0,
             "ticks": ""
            },
            "type": "contourcarpet"
           }
          ],
          "heatmap": [
           {
            "colorbar": {
             "outlinewidth": 0,
             "ticks": ""
            },
            "colorscale": [
             [
              0,
              "#0d0887"
             ],
             [
              0.1111111111111111,
              "#46039f"
             ],
             [
              0.2222222222222222,
              "#7201a8"
             ],
             [
              0.3333333333333333,
              "#9c179e"
             ],
             [
              0.4444444444444444,
              "#bd3786"
             ],
             [
              0.5555555555555556,
              "#d8576b"
             ],
             [
              0.6666666666666666,
              "#ed7953"
             ],
             [
              0.7777777777777778,
              "#fb9f3a"
             ],
             [
              0.8888888888888888,
              "#fdca26"
             ],
             [
              1,
              "#f0f921"
             ]
            ],
            "type": "heatmap"
           }
          ],
          "heatmapgl": [
           {
            "colorbar": {
             "outlinewidth": 0,
             "ticks": ""
            },
            "colorscale": [
             [
              0,
              "#0d0887"
             ],
             [
              0.1111111111111111,
              "#46039f"
             ],
             [
              0.2222222222222222,
              "#7201a8"
             ],
             [
              0.3333333333333333,
              "#9c179e"
             ],
             [
              0.4444444444444444,
              "#bd3786"
             ],
             [
              0.5555555555555556,
              "#d8576b"
             ],
             [
              0.6666666666666666,
              "#ed7953"
             ],
             [
              0.7777777777777778,
              "#fb9f3a"
             ],
             [
              0.8888888888888888,
              "#fdca26"
             ],
             [
              1,
              "#f0f921"
             ]
            ],
            "type": "heatmapgl"
           }
          ],
          "histogram": [
           {
            "marker": {
             "pattern": {
              "fillmode": "overlay",
              "size": 10,
              "solidity": 0.2
             }
            },
            "type": "histogram"
           }
          ],
          "histogram2d": [
           {
            "colorbar": {
             "outlinewidth": 0,
             "ticks": ""
            },
            "colorscale": [
             [
              0,
              "#0d0887"
             ],
             [
              0.1111111111111111,
              "#46039f"
             ],
             [
              0.2222222222222222,
              "#7201a8"
             ],
             [
              0.3333333333333333,
              "#9c179e"
             ],
             [
              0.4444444444444444,
              "#bd3786"
             ],
             [
              0.5555555555555556,
              "#d8576b"
             ],
             [
              0.6666666666666666,
              "#ed7953"
             ],
             [
              0.7777777777777778,
              "#fb9f3a"
             ],
             [
              0.8888888888888888,
              "#fdca26"
             ],
             [
              1,
              "#f0f921"
             ]
            ],
            "type": "histogram2d"
           }
          ],
          "histogram2dcontour": [
           {
            "colorbar": {
             "outlinewidth": 0,
             "ticks": ""
            },
            "colorscale": [
             [
              0,
              "#0d0887"
             ],
             [
              0.1111111111111111,
              "#46039f"
             ],
             [
              0.2222222222222222,
              "#7201a8"
             ],
             [
              0.3333333333333333,
              "#9c179e"
             ],
             [
              0.4444444444444444,
              "#bd3786"
             ],
             [
              0.5555555555555556,
              "#d8576b"
             ],
             [
              0.6666666666666666,
              "#ed7953"
             ],
             [
              0.7777777777777778,
              "#fb9f3a"
             ],
             [
              0.8888888888888888,
              "#fdca26"
             ],
             [
              1,
              "#f0f921"
             ]
            ],
            "type": "histogram2dcontour"
           }
          ],
          "mesh3d": [
           {
            "colorbar": {
             "outlinewidth": 0,
             "ticks": ""
            },
            "type": "mesh3d"
           }
          ],
          "parcoords": [
           {
            "line": {
             "colorbar": {
              "outlinewidth": 0,
              "ticks": ""
             }
            },
            "type": "parcoords"
           }
          ],
          "pie": [
           {
            "automargin": true,
            "type": "pie"
           }
          ],
          "scatter": [
           {
            "fillpattern": {
             "fillmode": "overlay",
             "size": 10,
             "solidity": 0.2
            },
            "type": "scatter"
           }
          ],
          "scatter3d": [
           {
            "line": {
             "colorbar": {
              "outlinewidth": 0,
              "ticks": ""
             }
            },
            "marker": {
             "colorbar": {
              "outlinewidth": 0,
              "ticks": ""
             }
            },
            "type": "scatter3d"
           }
          ],
          "scattercarpet": [
           {
            "marker": {
             "colorbar": {
              "outlinewidth": 0,
              "ticks": ""
             }
            },
            "type": "scattercarpet"
           }
          ],
          "scattergeo": [
           {
            "marker": {
             "colorbar": {
              "outlinewidth": 0,
              "ticks": ""
             }
            },
            "type": "scattergeo"
           }
          ],
          "scattergl": [
           {
            "marker": {
             "colorbar": {
              "outlinewidth": 0,
              "ticks": ""
             }
            },
            "type": "scattergl"
           }
          ],
          "scattermapbox": [
           {
            "marker": {
             "colorbar": {
              "outlinewidth": 0,
              "ticks": ""
             }
            },
            "type": "scattermapbox"
           }
          ],
          "scatterpolar": [
           {
            "marker": {
             "colorbar": {
              "outlinewidth": 0,
              "ticks": ""
             }
            },
            "type": "scatterpolar"
           }
          ],
          "scatterpolargl": [
           {
            "marker": {
             "colorbar": {
              "outlinewidth": 0,
              "ticks": ""
             }
            },
            "type": "scatterpolargl"
           }
          ],
          "scatterternary": [
           {
            "marker": {
             "colorbar": {
              "outlinewidth": 0,
              "ticks": ""
             }
            },
            "type": "scatterternary"
           }
          ],
          "surface": [
           {
            "colorbar": {
             "outlinewidth": 0,
             "ticks": ""
            },
            "colorscale": [
             [
              0,
              "#0d0887"
             ],
             [
              0.1111111111111111,
              "#46039f"
             ],
             [
              0.2222222222222222,
              "#7201a8"
             ],
             [
              0.3333333333333333,
              "#9c179e"
             ],
             [
              0.4444444444444444,
              "#bd3786"
             ],
             [
              0.5555555555555556,
              "#d8576b"
             ],
             [
              0.6666666666666666,
              "#ed7953"
             ],
             [
              0.7777777777777778,
              "#fb9f3a"
             ],
             [
              0.8888888888888888,
              "#fdca26"
             ],
             [
              1,
              "#f0f921"
             ]
            ],
            "type": "surface"
           }
          ],
          "table": [
           {
            "cells": {
             "fill": {
              "color": "#EBF0F8"
             },
             "line": {
              "color": "white"
             }
            },
            "header": {
             "fill": {
              "color": "#C8D4E3"
             },
             "line": {
              "color": "white"
             }
            },
            "type": "table"
           }
          ]
         },
         "layout": {
          "annotationdefaults": {
           "arrowcolor": "#2a3f5f",
           "arrowhead": 0,
           "arrowwidth": 1
          },
          "autotypenumbers": "strict",
          "coloraxis": {
           "colorbar": {
            "outlinewidth": 0,
            "ticks": ""
           }
          },
          "colorscale": {
           "diverging": [
            [
             0,
             "#8e0152"
            ],
            [
             0.1,
             "#c51b7d"
            ],
            [
             0.2,
             "#de77ae"
            ],
            [
             0.3,
             "#f1b6da"
            ],
            [
             0.4,
             "#fde0ef"
            ],
            [
             0.5,
             "#f7f7f7"
            ],
            [
             0.6,
             "#e6f5d0"
            ],
            [
             0.7,
             "#b8e186"
            ],
            [
             0.8,
             "#7fbc41"
            ],
            [
             0.9,
             "#4d9221"
            ],
            [
             1,
             "#276419"
            ]
           ],
           "sequential": [
            [
             0,
             "#0d0887"
            ],
            [
             0.1111111111111111,
             "#46039f"
            ],
            [
             0.2222222222222222,
             "#7201a8"
            ],
            [
             0.3333333333333333,
             "#9c179e"
            ],
            [
             0.4444444444444444,
             "#bd3786"
            ],
            [
             0.5555555555555556,
             "#d8576b"
            ],
            [
             0.6666666666666666,
             "#ed7953"
            ],
            [
             0.7777777777777778,
             "#fb9f3a"
            ],
            [
             0.8888888888888888,
             "#fdca26"
            ],
            [
             1,
             "#f0f921"
            ]
           ],
           "sequentialminus": [
            [
             0,
             "#0d0887"
            ],
            [
             0.1111111111111111,
             "#46039f"
            ],
            [
             0.2222222222222222,
             "#7201a8"
            ],
            [
             0.3333333333333333,
             "#9c179e"
            ],
            [
             0.4444444444444444,
             "#bd3786"
            ],
            [
             0.5555555555555556,
             "#d8576b"
            ],
            [
             0.6666666666666666,
             "#ed7953"
            ],
            [
             0.7777777777777778,
             "#fb9f3a"
            ],
            [
             0.8888888888888888,
             "#fdca26"
            ],
            [
             1,
             "#f0f921"
            ]
           ]
          },
          "colorway": [
           "#636efa",
           "#EF553B",
           "#00cc96",
           "#ab63fa",
           "#FFA15A",
           "#19d3f3",
           "#FF6692",
           "#B6E880",
           "#FF97FF",
           "#FECB52"
          ],
          "font": {
           "color": "#2a3f5f"
          },
          "geo": {
           "bgcolor": "white",
           "lakecolor": "white",
           "landcolor": "#E5ECF6",
           "showlakes": true,
           "showland": true,
           "subunitcolor": "white"
          },
          "hoverlabel": {
           "align": "left"
          },
          "hovermode": "closest",
          "mapbox": {
           "style": "light"
          },
          "paper_bgcolor": "white",
          "plot_bgcolor": "#E5ECF6",
          "polar": {
           "angularaxis": {
            "gridcolor": "white",
            "linecolor": "white",
            "ticks": ""
           },
           "bgcolor": "#E5ECF6",
           "radialaxis": {
            "gridcolor": "white",
            "linecolor": "white",
            "ticks": ""
           }
          },
          "scene": {
           "xaxis": {
            "backgroundcolor": "#E5ECF6",
            "gridcolor": "white",
            "gridwidth": 2,
            "linecolor": "white",
            "showbackground": true,
            "ticks": "",
            "zerolinecolor": "white"
           },
           "yaxis": {
            "backgroundcolor": "#E5ECF6",
            "gridcolor": "white",
            "gridwidth": 2,
            "linecolor": "white",
            "showbackground": true,
            "ticks": "",
            "zerolinecolor": "white"
           },
           "zaxis": {
            "backgroundcolor": "#E5ECF6",
            "gridcolor": "white",
            "gridwidth": 2,
            "linecolor": "white",
            "showbackground": true,
            "ticks": "",
            "zerolinecolor": "white"
           }
          },
          "shapedefaults": {
           "line": {
            "color": "#2a3f5f"
           }
          },
          "ternary": {
           "aaxis": {
            "gridcolor": "white",
            "linecolor": "white",
            "ticks": ""
           },
           "baxis": {
            "gridcolor": "white",
            "linecolor": "white",
            "ticks": ""
           },
           "bgcolor": "#E5ECF6",
           "caxis": {
            "gridcolor": "white",
            "linecolor": "white",
            "ticks": ""
           }
          },
          "title": {
           "x": 0.05
          },
          "xaxis": {
           "automargin": true,
           "gridcolor": "white",
           "linecolor": "white",
           "ticks": "",
           "title": {
            "standoff": 15
           },
           "zerolinecolor": "white",
           "zerolinewidth": 2
          },
          "yaxis": {
           "automargin": true,
           "gridcolor": "white",
           "linecolor": "white",
           "ticks": "",
           "title": {
            "standoff": 15
           },
           "zerolinecolor": "white",
           "zerolinewidth": 2
          }
         }
        },
        "title": {
         "text": "Portfolio Return Quarterly"
        },
        "xaxis": {
         "title": {
          "text": "Quarterly Trade Date"
         }
        },
        "yaxis": {
         "title": {
          "text": "Portfolio Value"
         }
        }
       }
      }
     },
     "metadata": {},
     "output_type": "display_data"
    }
   ],
   "source": [
    "trace_return1 = go.Scatter(x = time_ind, y = portfolio_return_meanv, mode = 'lines', name = 'Mean-Variance')\n",
    "trace_return2 = go.Scatter(x = time_ind, y = portfolio_return_minv, mode = 'lines', name = 'Minimum-Variance')\n",
    "trace_return3 = go.Scatter(x = time_ind, y = portfolio_return_equal, mode = 'lines', name = 'Equally Weighted')\n",
    "trace_return4 = go.Scatter(x = time_ind, y = spx_return, mode = 'lines', name = 'SPX')\n",
    "\n",
    "data = [trace_return1,trace_return2,trace_return3, trace_return4]\n",
    "layout = dict(title = \"Portfolio Return Quarterly\", \n",
    "              xaxis = dict(title = 'Quarterly Trade Date'), \n",
    "              yaxis = dict(title = 'Portfolio Value'))\n",
    "fig = dict(data = data, layout = layout)\n",
    "plotly.offline.iplot(fig)"
   ]
  },
  {
   "cell_type": "markdown",
   "metadata": {},
   "source": [
    "## 4.3 Plot Portfolio Cumulative Return"
   ]
  },
  {
   "cell_type": "code",
   "execution_count": 43,
   "metadata": {},
   "outputs": [
    {
     "data": {
      "application/vnd.plotly.v1+json": {
       "config": {
        "linkText": "Export to plot.ly",
        "plotlyServerURL": "https://plot.ly",
        "showLink": false
       },
       "data": [
        {
         "mode": "lines",
         "name": "Mean-Variance",
         "type": "scatter",
         "x": [
          "2001-03-01",
          "2001-06-01",
          "2001-09-04",
          "2001-12-03",
          "2002-03-01",
          "2002-06-03",
          "2002-09-03",
          "2002-12-02",
          "2003-03-03",
          "2003-06-02",
          "2003-09-02",
          "2003-12-01",
          "2004-03-01",
          "2004-06-01",
          "2004-09-01",
          "2004-12-01",
          "2005-03-01",
          "2005-06-01",
          "2005-09-01",
          "2005-12-01",
          "2006-03-01",
          "2006-06-01",
          "2006-09-01",
          "2006-12-01",
          "2007-03-01",
          "2007-06-01",
          "2007-09-04",
          "2007-12-03",
          "2008-03-03",
          "2008-06-02",
          "2008-09-02",
          "2008-12-01",
          "2009-03-02",
          "2009-06-01",
          "2009-09-01",
          "2009-12-01",
          "2010-03-01",
          "2010-06-01",
          "2010-09-01",
          "2010-12-01",
          "2011-03-01",
          "2011-06-01",
          "2011-09-01",
          "2011-12-01",
          "2012-03-01",
          "2012-06-01",
          "2012-09-04",
          "2012-12-03",
          "2013-03-01",
          "2013-06-03",
          "2013-09-03",
          "2013-12-02",
          "2014-03-03",
          "2014-06-02",
          "2014-09-02",
          "2014-12-01",
          "2015-03-02",
          "2015-06-01",
          "2015-09-01",
          "2015-12-01",
          "2016-03-01",
          "2016-06-01",
          "2016-09-01",
          "2016-12-01",
          "2017-03-01",
          "2017-06-01",
          "2017-09-01",
          "2017-12-01",
          "2018-03-01",
          "2018-06-01",
          "2018-09-04",
          "2018-12-03",
          "2019-03-01",
          "2019-06-03",
          "2019-09-03",
          "2019-12-02",
          "2020-03-02",
          "2020-06-01",
          "2020-09-01",
          "2020-12-01",
          "2021-03-01",
          "2021-06-01",
          "2021-09-01",
          "2021-12-01",
          "2022-03-01",
          "2022-06-01",
          "2022-09-01",
          "2022-12-01",
          "2023-03-01",
          "2023-06-01",
          "2023-09-01",
          "2023-12-01",
          "2024-03-01",
          "2024-06-03",
          "2024-09-03"
         ],
         "y": [
          0,
          0.07840290744790118,
          -0.0019197498762926618,
          0.003350998284956195,
          0.07054939843105011,
          0.09405965403740846,
          -0.03881695666358548,
          0.07015587695538716,
          -0.029448009793287003,
          0.1853890463546718,
          0.32320567628837393,
          0.4292519146172057,
          0.5010792144869345,
          0.508286834335296,
          0.5246283978208429,
          0.7102979388653587,
          0.7566766051245933,
          1.0701614442869756,
          1.1502408617499307,
          1.2348784049810433,
          1.3361787691752356,
          1.3699120871110897,
          2.0186494908747727,
          2.1300429447587366,
          2.1669782335195693,
          2.29471457064497,
          2.2344070817090924,
          2.274944272553182,
          2.2314648989370736,
          2.3253081617723588,
          2.323290900012885,
          1.901914840473031,
          1.6945423702121143,
          139.02142301353533,
          138.20279062478986,
          185.89536258708821,
          201.5101677246312,
          201.4968681324914,
          201.50923719208288,
          201.64571271106712,
          201.78250001740136,
          201.78836784114702,
          201.66396406741637,
          201.69396660431696,
          201.83989279117714,
          217.71051012504637,
          216.83588578635917,
          216.8927104775477,
          217.04570948845026,
          217.16297796190477,
          217.15566602000797,
          217.22709114282648,
          217.31937512109064,
          217.3149050820308,
          217.34837936951473,
          217.35804012485895,
          217.40104230458002,
          217.34454544584156,
          217.25322815351447,
          217.21954266881164,
          217.14354586072898,
          217.25652385022101,
          217.33153412155383,
          217.3613172091865,
          217.45522280116683,
          217.42960271193283,
          217.45093157431694,
          217.53143581030807,
          217.5013321342151,
          217.41293450089293,
          217.32625201723593,
          217.29720617663827,
          217.2615934072777,
          217.1736298554859,
          217.17796928115263,
          217.27648059117686,
          217.20585288191887,
          217.16728715306294,
          217.2582025597596,
          217.4102836087223,
          217.42608381155722,
          217.52302552003346,
          217.58056380209172,
          217.52628709679126,
          217.5029030292517,
          217.3474620328573,
          217.3222423104272,
          217.380134608261,
          217.3323197554438,
          217.32341305696085,
          217.4209054280287,
          217.39951983844503,
          217.29345659197145,
          217.19872428495273,
          217.22425865253672,
          217.30234082955243
         ]
        },
        {
         "mode": "lines",
         "name": "Minimum-Variance",
         "type": "scatter",
         "x": [
          "2001-03-01",
          "2001-06-01",
          "2001-09-04",
          "2001-12-03",
          "2002-03-01",
          "2002-06-03",
          "2002-09-03",
          "2002-12-02",
          "2003-03-03",
          "2003-06-02",
          "2003-09-02",
          "2003-12-01",
          "2004-03-01",
          "2004-06-01",
          "2004-09-01",
          "2004-12-01",
          "2005-03-01",
          "2005-06-01",
          "2005-09-01",
          "2005-12-01",
          "2006-03-01",
          "2006-06-01",
          "2006-09-01",
          "2006-12-01",
          "2007-03-01",
          "2007-06-01",
          "2007-09-04",
          "2007-12-03",
          "2008-03-03",
          "2008-06-02",
          "2008-09-02",
          "2008-12-01",
          "2009-03-02",
          "2009-06-01",
          "2009-09-01",
          "2009-12-01",
          "2010-03-01",
          "2010-06-01",
          "2010-09-01",
          "2010-12-01",
          "2011-03-01",
          "2011-06-01",
          "2011-09-01",
          "2011-12-01",
          "2012-03-01",
          "2012-06-01",
          "2012-09-04",
          "2012-12-03",
          "2013-03-01",
          "2013-06-03",
          "2013-09-03",
          "2013-12-02",
          "2014-03-03",
          "2014-06-02",
          "2014-09-02",
          "2014-12-01",
          "2015-03-02",
          "2015-06-01",
          "2015-09-01",
          "2015-12-01",
          "2016-03-01",
          "2016-06-01",
          "2016-09-01",
          "2016-12-01",
          "2017-03-01",
          "2017-06-01",
          "2017-09-01",
          "2017-12-01",
          "2018-03-01",
          "2018-06-01",
          "2018-09-04",
          "2018-12-03",
          "2019-03-01",
          "2019-06-03",
          "2019-09-03",
          "2019-12-02",
          "2020-03-02",
          "2020-06-01",
          "2020-09-01",
          "2020-12-01",
          "2021-03-01",
          "2021-06-01",
          "2021-09-01",
          "2021-12-01",
          "2022-03-01",
          "2022-06-01",
          "2022-09-01",
          "2022-12-01",
          "2023-03-01",
          "2023-06-01",
          "2023-09-01",
          "2023-12-01",
          "2024-03-01",
          "2024-06-03",
          "2024-09-03"
         ],
         "y": [
          0,
          0.0783642910823653,
          0.0009812761723877045,
          0.006245557820741879,
          0.08691080209329749,
          0.11095940757398011,
          -0.02203416491036013,
          0.09677011050736488,
          0.028330614765313178,
          0.24767745681464248,
          0.3862809952301464,
          0.4896878203165802,
          0.9145077989832912,
          0.9200674702772906,
          0.9526969838543133,
          1.1386004171568491,
          1.1850971357486484,
          1.4994985781982275,
          1.5798637177869863,
          1.6451814912711697,
          1.7375884281039844,
          1.7714327183787792,
          2.42119009741532,
          2.528669006180611,
          2.5591074511791914,
          2.6866107794685696,
          2.6374296276293925,
          2.636037645876149,
          2.6402997370617087,
          2.728063768509771,
          2.730465985358832,
          2.3072887811061875,
          2.130086588791762,
          139.52805908811263,
          139.4229461330124,
          141.04435292759433,
          156.6580848652819,
          156.64502242012537,
          156.65738546006892,
          156.8151336326645,
          156.95189547407793,
          156.98942818534178,
          156.8649819173076,
          156.90710539150714,
          157.04603978859654,
          173.0196553534524,
          173.09881564838426,
          173.0984555647371,
          173.21552465307113,
          173.2451737692241,
          173.19694862788012,
          173.2652420556385,
          173.29092794881277,
          173.27749052359084,
          173.29884885837836,
          173.3008916347081,
          173.35269640397425,
          173.33632210488713,
          173.24226364542568,
          173.27272394418907,
          173.19613148115107,
          173.27309608552315,
          173.3252352320981,
          173.32842986962103,
          173.4104051055478,
          173.41990067274975,
          173.4221656538342,
          173.49649431779642,
          173.49580927573243,
          173.52834946739426,
          173.56886477086684,
          173.5219579435546,
          173.5101749565059,
          173.41164265883523,
          173.4138183624027,
          173.47417410809183,
          173.4388930258615,
          173.3943028989991,
          173.4728036064197,
          173.61887294772876,
          173.7268667654093,
          173.8183366794974,
          173.8700157839191,
          173.82371605781492,
          173.7893358070948,
          173.7389231636402,
          173.69558454680666,
          173.71518427557973,
          173.68846743936646,
          173.65183503919945,
          173.7020702692308,
          173.68198362544126,
          173.71578729653254,
          173.65795037153237,
          173.6427443586311,
          173.7003335396731
         ]
        },
        {
         "mode": "lines",
         "name": "Equally Weighted",
         "type": "scatter",
         "x": [
          "2001-03-01",
          "2001-06-01",
          "2001-09-04",
          "2001-12-03",
          "2002-03-01",
          "2002-06-03",
          "2002-09-03",
          "2002-12-02",
          "2003-03-03",
          "2003-06-02",
          "2003-09-02",
          "2003-12-01",
          "2004-03-01",
          "2004-06-01",
          "2004-09-01",
          "2004-12-01",
          "2005-03-01",
          "2005-06-01",
          "2005-09-01",
          "2005-12-01",
          "2006-03-01",
          "2006-06-01",
          "2006-09-01",
          "2006-12-01",
          "2007-03-01",
          "2007-06-01",
          "2007-09-04",
          "2007-12-03",
          "2008-03-03",
          "2008-06-02",
          "2008-09-02",
          "2008-12-01",
          "2009-03-02",
          "2009-06-01",
          "2009-09-01",
          "2009-12-01",
          "2010-03-01",
          "2010-06-01",
          "2010-09-01",
          "2010-12-01",
          "2011-03-01",
          "2011-06-01",
          "2011-09-01",
          "2011-12-01",
          "2012-03-01",
          "2012-06-01",
          "2012-09-04",
          "2012-12-03",
          "2013-03-01",
          "2013-06-03",
          "2013-09-03",
          "2013-12-02",
          "2014-03-03",
          "2014-06-02",
          "2014-09-02",
          "2014-12-01",
          "2015-03-02",
          "2015-06-01",
          "2015-09-01",
          "2015-12-01",
          "2016-03-01",
          "2016-06-01",
          "2016-09-01",
          "2016-12-01",
          "2017-03-01",
          "2017-06-01",
          "2017-09-01",
          "2017-12-01",
          "2018-03-01",
          "2018-06-01",
          "2018-09-04",
          "2018-12-03",
          "2019-03-01",
          "2019-06-03",
          "2019-09-03",
          "2019-12-02",
          "2020-03-02",
          "2020-06-01",
          "2020-09-01",
          "2020-12-01",
          "2021-03-01",
          "2021-06-01",
          "2021-09-01",
          "2021-12-01",
          "2022-03-01",
          "2022-06-01",
          "2022-09-01",
          "2022-12-01",
          "2023-03-01",
          "2023-06-01",
          "2023-09-01",
          "2023-12-01",
          "2024-03-01",
          "2024-06-03",
          "2024-09-03"
         ],
         "y": [
          0,
          0.07887349348926759,
          0.0017661826013620902,
          0.006619105356069537,
          0.08765865405855365,
          0.11212057803660552,
          -0.020493869996830005,
          0.09777442675040739,
          0.028882450781820862,
          0.2476802491210842,
          0.38583330267855187,
          0.4896415684248943,
          0.9139414347904964,
          0.9188042005028368,
          0.9517554422722514,
          1.1381155833907572,
          1.1841199024302667,
          1.4978548562828315,
          1.5786019955791233,
          1.6439932025248538,
          1.7358574532650721,
          1.7692315845165552,
          2.41954289383579,
          2.5276170430748444,
          2.5575547255973694,
          2.6851227764976917,
          2.635785548992769,
          2.6347802222438137,
          2.6393274254780756,
          2.7275007111214054,
          2.7295136585823303,
          2.3064819614073615,
          2.1294000056799725,
          139.55165523876332,
          139.4459117822174,
          141.06868782251408,
          156.68897153921452,
          156.67511906835378,
          156.68773539583776,
          156.8459820474537,
          156.98296013423968,
          157.0199738605041,
          156.89587800973607,
          156.93789706929437,
          157.07757879492468,
          173.04245413539834,
          173.12125715437307,
          173.12129781854367,
          173.2388213471747,
          173.26871380652088,
          173.2203481663152,
          173.28931442813652,
          173.31465745268562,
          173.3010873063569,
          173.32286737135522,
          173.3251624972416,
          173.37673116818792,
          173.36142993331183,
          173.26773754783974,
          173.2992943790215,
          173.22366758834946,
          173.3022213677956,
          173.35302986875953,
          173.3518486014052,
          173.4338410855455,
          173.44289418659517,
          173.44404802556235,
          173.51789382511245,
          173.5160469402812,
          173.54820034453002,
          173.58879579027436,
          173.54213074537225,
          173.52956613259855,
          173.43154231392228,
          173.43291815539777,
          173.49304526125042,
          173.4578478355685,
          173.41225674095458,
          173.49008156476077,
          173.635037002733,
          173.74309532429325,
          173.83337278646948,
          173.88463203957474,
          173.83825950423173,
          173.80305092117356,
          173.75285495995564,
          173.70889942620903,
          173.7277526756561,
          173.70056038530032,
          173.66292811008063,
          173.71318019371526,
          173.69293830138747,
          173.72616445250398,
          173.66763047929734,
          173.6515997889843,
          173.70950741119717
         ]
        },
        {
         "mode": "lines",
         "name": "SPX",
         "type": "scatter",
         "x": [
          "2001-03-01",
          "2001-06-01",
          "2001-09-04",
          "2001-12-03",
          "2002-03-01",
          "2002-06-03",
          "2002-09-03",
          "2002-12-02",
          "2003-03-03",
          "2003-06-02",
          "2003-09-02",
          "2003-12-01",
          "2004-03-01",
          "2004-06-01",
          "2004-09-01",
          "2004-12-01",
          "2005-03-01",
          "2005-06-01",
          "2005-09-01",
          "2005-12-01",
          "2006-03-01",
          "2006-06-01",
          "2006-09-01",
          "2006-12-01",
          "2007-03-01",
          "2007-06-01",
          "2007-09-04",
          "2007-12-03",
          "2008-03-03",
          "2008-06-02",
          "2008-09-02",
          "2008-12-01",
          "2009-03-02",
          "2009-06-01",
          "2009-09-01",
          "2009-12-01",
          "2010-03-01",
          "2010-06-01",
          "2010-09-01",
          "2010-12-01",
          "2011-03-01",
          "2011-06-01",
          "2011-09-01",
          "2011-12-01",
          "2012-03-01",
          "2012-06-01",
          "2012-09-04",
          "2012-12-03",
          "2013-03-01",
          "2013-06-03",
          "2013-09-03",
          "2013-12-02",
          "2014-03-03",
          "2014-06-02",
          "2014-09-02",
          "2014-12-01",
          "2015-03-02",
          "2015-06-01",
          "2015-09-01",
          "2015-12-01",
          "2016-03-01",
          "2016-06-01",
          "2016-09-01",
          "2016-12-01",
          "2017-03-01",
          "2017-06-01",
          "2017-09-01",
          "2017-12-01",
          "2018-03-01",
          "2018-06-01",
          "2018-09-04",
          "2018-12-03",
          "2019-03-01",
          "2019-06-03",
          "2019-09-03",
          "2019-12-02",
          "2020-03-02",
          "2020-06-01",
          "2020-09-01",
          "2020-12-01",
          "2021-03-01",
          "2021-06-01",
          "2021-09-01",
          "2021-12-01",
          "2022-03-01",
          "2022-06-01",
          "2022-09-01",
          "2022-12-01",
          "2023-03-01",
          "2023-06-01",
          "2023-09-01",
          "2023-12-01",
          "2024-03-01",
          "2024-06-03",
          "2024-09-03"
         ],
         "y": [
          0,
          0.015420421521022359,
          -0.0973217441232737,
          -0.10001217418478638,
          -0.09835106969968563,
          -0.18588995858401292,
          -0.3711477323948277,
          -0.31067882503596816,
          -0.4301311938742823,
          -0.29343005381078047,
          -0.23962327413599713,
          -0.19464700502372637,
          -0.12038039104436946,
          -0.15139182615450167,
          -0.16521746885565397,
          -0.09348495814298168,
          -0.07775471919514966,
          -0.0845671692260475,
          -0.06871078888636428,
          -0.03464650600779956,
          -0.014069427780660896,
          -0.01837057614606881,
          0.0009275593675173929,
          0.062286004262083375,
          0.06688992453225148,
          0.15356990737309056,
          0.12206776527037372,
          0.110522146837709,
          0.004553662643611567,
          0.04376218732984215,
          -0.040843153712310315,
          -0.6061019984480926,
          -0.7707519990795029,
          -0.5140358144024362,
          -0.4587574847515526,
          -0.35881699741483675,
          -0.3526774308377116,
          -0.39470561927503456,
          -0.38583755812609183,
          -0.28154849295738194,
          -0.20479911635392006,
          -0.19854595560072894,
          -0.28998415893887686,
          -0.25771631474453377,
          -0.16346483704866882,
          -0.23861891972378552,
          -0.14829484350972916,
          -0.1450879276295196,
          -0.07346363983367277,
          0.0010417243409142213,
          0.0006453124012397064,
          0.09011724460093938,
          0.1144057139486076,
          0.15556998738682198,
          0.19418099956422374,
          0.21909524764022997,
          0.24929750344395907,
          0.24661727814918977,
          0.14322359138843388,
          0.23300634810168325,
          0.17018636743079402,
          0.22781432398687554,
          0.26076441093735364,
          0.26999272299449584,
          0.355503285004194,
          0.36953590017996185,
          0.38830797799699346,
          0.4510090111100364,
          0.4642481153335516,
          0.48507374846429596,
          0.5410335426988344,
          0.5029203716680257,
          0.5076711909444501,
          0.48608581271261914,
          0.5417654526882174,
          0.608434931453683,
          0.6007849711374077,
          0.5894947065458002,
          0.7230265100747059,
          0.760105528392669,
          0.8214538512250311,
          0.8929000935055083,
          0.9640856392860391,
          0.9616372221233597,
          0.9136186898722082,
          0.863626422641972,
          0.8297507077789636,
          0.8566654838930124,
          0.8249854474540937,
          0.8888634024757494,
          0.954134662687224,
          0.9712981481675774,
          1.0768931918622224,
          1.1045874468728722,
          1.1489957258041223
         ]
        }
       ],
       "layout": {
        "template": {
         "data": {
          "bar": [
           {
            "error_x": {
             "color": "#2a3f5f"
            },
            "error_y": {
             "color": "#2a3f5f"
            },
            "marker": {
             "line": {
              "color": "#E5ECF6",
              "width": 0.5
             },
             "pattern": {
              "fillmode": "overlay",
              "size": 10,
              "solidity": 0.2
             }
            },
            "type": "bar"
           }
          ],
          "barpolar": [
           {
            "marker": {
             "line": {
              "color": "#E5ECF6",
              "width": 0.5
             },
             "pattern": {
              "fillmode": "overlay",
              "size": 10,
              "solidity": 0.2
             }
            },
            "type": "barpolar"
           }
          ],
          "carpet": [
           {
            "aaxis": {
             "endlinecolor": "#2a3f5f",
             "gridcolor": "white",
             "linecolor": "white",
             "minorgridcolor": "white",
             "startlinecolor": "#2a3f5f"
            },
            "baxis": {
             "endlinecolor": "#2a3f5f",
             "gridcolor": "white",
             "linecolor": "white",
             "minorgridcolor": "white",
             "startlinecolor": "#2a3f5f"
            },
            "type": "carpet"
           }
          ],
          "choropleth": [
           {
            "colorbar": {
             "outlinewidth": 0,
             "ticks": ""
            },
            "type": "choropleth"
           }
          ],
          "contour": [
           {
            "colorbar": {
             "outlinewidth": 0,
             "ticks": ""
            },
            "colorscale": [
             [
              0,
              "#0d0887"
             ],
             [
              0.1111111111111111,
              "#46039f"
             ],
             [
              0.2222222222222222,
              "#7201a8"
             ],
             [
              0.3333333333333333,
              "#9c179e"
             ],
             [
              0.4444444444444444,
              "#bd3786"
             ],
             [
              0.5555555555555556,
              "#d8576b"
             ],
             [
              0.6666666666666666,
              "#ed7953"
             ],
             [
              0.7777777777777778,
              "#fb9f3a"
             ],
             [
              0.8888888888888888,
              "#fdca26"
             ],
             [
              1,
              "#f0f921"
             ]
            ],
            "type": "contour"
           }
          ],
          "contourcarpet": [
           {
            "colorbar": {
             "outlinewidth": 0,
             "ticks": ""
            },
            "type": "contourcarpet"
           }
          ],
          "heatmap": [
           {
            "colorbar": {
             "outlinewidth": 0,
             "ticks": ""
            },
            "colorscale": [
             [
              0,
              "#0d0887"
             ],
             [
              0.1111111111111111,
              "#46039f"
             ],
             [
              0.2222222222222222,
              "#7201a8"
             ],
             [
              0.3333333333333333,
              "#9c179e"
             ],
             [
              0.4444444444444444,
              "#bd3786"
             ],
             [
              0.5555555555555556,
              "#d8576b"
             ],
             [
              0.6666666666666666,
              "#ed7953"
             ],
             [
              0.7777777777777778,
              "#fb9f3a"
             ],
             [
              0.8888888888888888,
              "#fdca26"
             ],
             [
              1,
              "#f0f921"
             ]
            ],
            "type": "heatmap"
           }
          ],
          "heatmapgl": [
           {
            "colorbar": {
             "outlinewidth": 0,
             "ticks": ""
            },
            "colorscale": [
             [
              0,
              "#0d0887"
             ],
             [
              0.1111111111111111,
              "#46039f"
             ],
             [
              0.2222222222222222,
              "#7201a8"
             ],
             [
              0.3333333333333333,
              "#9c179e"
             ],
             [
              0.4444444444444444,
              "#bd3786"
             ],
             [
              0.5555555555555556,
              "#d8576b"
             ],
             [
              0.6666666666666666,
              "#ed7953"
             ],
             [
              0.7777777777777778,
              "#fb9f3a"
             ],
             [
              0.8888888888888888,
              "#fdca26"
             ],
             [
              1,
              "#f0f921"
             ]
            ],
            "type": "heatmapgl"
           }
          ],
          "histogram": [
           {
            "marker": {
             "pattern": {
              "fillmode": "overlay",
              "size": 10,
              "solidity": 0.2
             }
            },
            "type": "histogram"
           }
          ],
          "histogram2d": [
           {
            "colorbar": {
             "outlinewidth": 0,
             "ticks": ""
            },
            "colorscale": [
             [
              0,
              "#0d0887"
             ],
             [
              0.1111111111111111,
              "#46039f"
             ],
             [
              0.2222222222222222,
              "#7201a8"
             ],
             [
              0.3333333333333333,
              "#9c179e"
             ],
             [
              0.4444444444444444,
              "#bd3786"
             ],
             [
              0.5555555555555556,
              "#d8576b"
             ],
             [
              0.6666666666666666,
              "#ed7953"
             ],
             [
              0.7777777777777778,
              "#fb9f3a"
             ],
             [
              0.8888888888888888,
              "#fdca26"
             ],
             [
              1,
              "#f0f921"
             ]
            ],
            "type": "histogram2d"
           }
          ],
          "histogram2dcontour": [
           {
            "colorbar": {
             "outlinewidth": 0,
             "ticks": ""
            },
            "colorscale": [
             [
              0,
              "#0d0887"
             ],
             [
              0.1111111111111111,
              "#46039f"
             ],
             [
              0.2222222222222222,
              "#7201a8"
             ],
             [
              0.3333333333333333,
              "#9c179e"
             ],
             [
              0.4444444444444444,
              "#bd3786"
             ],
             [
              0.5555555555555556,
              "#d8576b"
             ],
             [
              0.6666666666666666,
              "#ed7953"
             ],
             [
              0.7777777777777778,
              "#fb9f3a"
             ],
             [
              0.8888888888888888,
              "#fdca26"
             ],
             [
              1,
              "#f0f921"
             ]
            ],
            "type": "histogram2dcontour"
           }
          ],
          "mesh3d": [
           {
            "colorbar": {
             "outlinewidth": 0,
             "ticks": ""
            },
            "type": "mesh3d"
           }
          ],
          "parcoords": [
           {
            "line": {
             "colorbar": {
              "outlinewidth": 0,
              "ticks": ""
             }
            },
            "type": "parcoords"
           }
          ],
          "pie": [
           {
            "automargin": true,
            "type": "pie"
           }
          ],
          "scatter": [
           {
            "fillpattern": {
             "fillmode": "overlay",
             "size": 10,
             "solidity": 0.2
            },
            "type": "scatter"
           }
          ],
          "scatter3d": [
           {
            "line": {
             "colorbar": {
              "outlinewidth": 0,
              "ticks": ""
             }
            },
            "marker": {
             "colorbar": {
              "outlinewidth": 0,
              "ticks": ""
             }
            },
            "type": "scatter3d"
           }
          ],
          "scattercarpet": [
           {
            "marker": {
             "colorbar": {
              "outlinewidth": 0,
              "ticks": ""
             }
            },
            "type": "scattercarpet"
           }
          ],
          "scattergeo": [
           {
            "marker": {
             "colorbar": {
              "outlinewidth": 0,
              "ticks": ""
             }
            },
            "type": "scattergeo"
           }
          ],
          "scattergl": [
           {
            "marker": {
             "colorbar": {
              "outlinewidth": 0,
              "ticks": ""
             }
            },
            "type": "scattergl"
           }
          ],
          "scattermapbox": [
           {
            "marker": {
             "colorbar": {
              "outlinewidth": 0,
              "ticks": ""
             }
            },
            "type": "scattermapbox"
           }
          ],
          "scatterpolar": [
           {
            "marker": {
             "colorbar": {
              "outlinewidth": 0,
              "ticks": ""
             }
            },
            "type": "scatterpolar"
           }
          ],
          "scatterpolargl": [
           {
            "marker": {
             "colorbar": {
              "outlinewidth": 0,
              "ticks": ""
             }
            },
            "type": "scatterpolargl"
           }
          ],
          "scatterternary": [
           {
            "marker": {
             "colorbar": {
              "outlinewidth": 0,
              "ticks": ""
             }
            },
            "type": "scatterternary"
           }
          ],
          "surface": [
           {
            "colorbar": {
             "outlinewidth": 0,
             "ticks": ""
            },
            "colorscale": [
             [
              0,
              "#0d0887"
             ],
             [
              0.1111111111111111,
              "#46039f"
             ],
             [
              0.2222222222222222,
              "#7201a8"
             ],
             [
              0.3333333333333333,
              "#9c179e"
             ],
             [
              0.4444444444444444,
              "#bd3786"
             ],
             [
              0.5555555555555556,
              "#d8576b"
             ],
             [
              0.6666666666666666,
              "#ed7953"
             ],
             [
              0.7777777777777778,
              "#fb9f3a"
             ],
             [
              0.8888888888888888,
              "#fdca26"
             ],
             [
              1,
              "#f0f921"
             ]
            ],
            "type": "surface"
           }
          ],
          "table": [
           {
            "cells": {
             "fill": {
              "color": "#EBF0F8"
             },
             "line": {
              "color": "white"
             }
            },
            "header": {
             "fill": {
              "color": "#C8D4E3"
             },
             "line": {
              "color": "white"
             }
            },
            "type": "table"
           }
          ]
         },
         "layout": {
          "annotationdefaults": {
           "arrowcolor": "#2a3f5f",
           "arrowhead": 0,
           "arrowwidth": 1
          },
          "autotypenumbers": "strict",
          "coloraxis": {
           "colorbar": {
            "outlinewidth": 0,
            "ticks": ""
           }
          },
          "colorscale": {
           "diverging": [
            [
             0,
             "#8e0152"
            ],
            [
             0.1,
             "#c51b7d"
            ],
            [
             0.2,
             "#de77ae"
            ],
            [
             0.3,
             "#f1b6da"
            ],
            [
             0.4,
             "#fde0ef"
            ],
            [
             0.5,
             "#f7f7f7"
            ],
            [
             0.6,
             "#e6f5d0"
            ],
            [
             0.7,
             "#b8e186"
            ],
            [
             0.8,
             "#7fbc41"
            ],
            [
             0.9,
             "#4d9221"
            ],
            [
             1,
             "#276419"
            ]
           ],
           "sequential": [
            [
             0,
             "#0d0887"
            ],
            [
             0.1111111111111111,
             "#46039f"
            ],
            [
             0.2222222222222222,
             "#7201a8"
            ],
            [
             0.3333333333333333,
             "#9c179e"
            ],
            [
             0.4444444444444444,
             "#bd3786"
            ],
            [
             0.5555555555555556,
             "#d8576b"
            ],
            [
             0.6666666666666666,
             "#ed7953"
            ],
            [
             0.7777777777777778,
             "#fb9f3a"
            ],
            [
             0.8888888888888888,
             "#fdca26"
            ],
            [
             1,
             "#f0f921"
            ]
           ],
           "sequentialminus": [
            [
             0,
             "#0d0887"
            ],
            [
             0.1111111111111111,
             "#46039f"
            ],
            [
             0.2222222222222222,
             "#7201a8"
            ],
            [
             0.3333333333333333,
             "#9c179e"
            ],
            [
             0.4444444444444444,
             "#bd3786"
            ],
            [
             0.5555555555555556,
             "#d8576b"
            ],
            [
             0.6666666666666666,
             "#ed7953"
            ],
            [
             0.7777777777777778,
             "#fb9f3a"
            ],
            [
             0.8888888888888888,
             "#fdca26"
            ],
            [
             1,
             "#f0f921"
            ]
           ]
          },
          "colorway": [
           "#636efa",
           "#EF553B",
           "#00cc96",
           "#ab63fa",
           "#FFA15A",
           "#19d3f3",
           "#FF6692",
           "#B6E880",
           "#FF97FF",
           "#FECB52"
          ],
          "font": {
           "color": "#2a3f5f"
          },
          "geo": {
           "bgcolor": "white",
           "lakecolor": "white",
           "landcolor": "#E5ECF6",
           "showlakes": true,
           "showland": true,
           "subunitcolor": "white"
          },
          "hoverlabel": {
           "align": "left"
          },
          "hovermode": "closest",
          "mapbox": {
           "style": "light"
          },
          "paper_bgcolor": "white",
          "plot_bgcolor": "#E5ECF6",
          "polar": {
           "angularaxis": {
            "gridcolor": "white",
            "linecolor": "white",
            "ticks": ""
           },
           "bgcolor": "#E5ECF6",
           "radialaxis": {
            "gridcolor": "white",
            "linecolor": "white",
            "ticks": ""
           }
          },
          "scene": {
           "xaxis": {
            "backgroundcolor": "#E5ECF6",
            "gridcolor": "white",
            "gridwidth": 2,
            "linecolor": "white",
            "showbackground": true,
            "ticks": "",
            "zerolinecolor": "white"
           },
           "yaxis": {
            "backgroundcolor": "#E5ECF6",
            "gridcolor": "white",
            "gridwidth": 2,
            "linecolor": "white",
            "showbackground": true,
            "ticks": "",
            "zerolinecolor": "white"
           },
           "zaxis": {
            "backgroundcolor": "#E5ECF6",
            "gridcolor": "white",
            "gridwidth": 2,
            "linecolor": "white",
            "showbackground": true,
            "ticks": "",
            "zerolinecolor": "white"
           }
          },
          "shapedefaults": {
           "line": {
            "color": "#2a3f5f"
           }
          },
          "ternary": {
           "aaxis": {
            "gridcolor": "white",
            "linecolor": "white",
            "ticks": ""
           },
           "baxis": {
            "gridcolor": "white",
            "linecolor": "white",
            "ticks": ""
           },
           "bgcolor": "#E5ECF6",
           "caxis": {
            "gridcolor": "white",
            "linecolor": "white",
            "ticks": ""
           }
          },
          "title": {
           "x": 0.05
          },
          "xaxis": {
           "automargin": true,
           "gridcolor": "white",
           "linecolor": "white",
           "ticks": "",
           "title": {
            "standoff": 15
           },
           "zerolinecolor": "white",
           "zerolinewidth": 2
          },
          "yaxis": {
           "automargin": true,
           "gridcolor": "white",
           "linecolor": "white",
           "ticks": "",
           "title": {
            "standoff": 15
           },
           "zerolinecolor": "white",
           "zerolinewidth": 2
          }
         }
        },
        "title": {
         "text": "Portfolio Cumulative Return Quarterly"
        },
        "xaxis": {
         "title": {
          "text": "Quarterly Trade Date"
         }
        },
        "yaxis": {
         "title": {
          "text": "Portfolio Value"
         }
        }
       }
      }
     },
     "metadata": {},
     "output_type": "display_data"
    }
   ],
   "source": [
    "trace_return1 = go.Scatter(x = time_ind, y = portfolio_cumsum_meanv, mode = 'lines', name = 'Mean-Variance')\n",
    "trace_return2 = go.Scatter(x = time_ind, y = portfolio_cumsum_minv, mode = 'lines', name = 'Minimum-Variance')\n",
    "trace_return3 = go.Scatter(x = time_ind, y = portfolio_cumsum_equal, mode = 'lines', name = 'Equally Weighted')\n",
    "trace_return4 = go.Scatter(x = time_ind, y = spx_cumsum, mode = 'lines', name = 'SPX')\n",
    "\n",
    "data = [trace_return1,trace_return2,trace_return3, trace_return4]\n",
    "layout = dict(title = \"Portfolio Cumulative Return Quarterly\", \n",
    "              xaxis = dict(title = 'Quarterly Trade Date'), \n",
    "              yaxis = dict(title = 'Portfolio Value'))\n",
    "fig = dict(data = data, layout = layout)\n",
    "plotly.offline.iplot(fig)"
   ]
  },
  {
   "cell_type": "markdown",
   "metadata": {},
   "source": [
    "# 5. Get all Quarterly Return and Calcualte Annulized return, standard deviation and Sharpe ratio"
   ]
  },
  {
   "cell_type": "code",
   "execution_count": 44,
   "metadata": {},
   "outputs": [],
   "source": [
    "quarter_return = pd.DataFrame(index = range(len(portfolio_return_equal)), columns = ['Mean-Var', 'Equally', 'Min-Var'])\n",
    "quarter_return['SPX'] = spx_return\n",
    "quarter_return['Mean-Var'] = portfolio_return_meanv\n",
    "quarter_return['Equally'] = portfolio_return_equal\n",
    "quarter_return['Min-Var'] = portfolio_return_minv\n",
    "\n",
    "#writer_return = pd.ExcelWriter('quarter_return_user8.xlsx')\n",
    "quarter_return.index=tradedate_full\n",
    "#quarter_return.to_excel(writer_return,'Sheet1')\n",
    "#writer_return.save()"
   ]
  },
  {
   "cell_type": "code",
   "execution_count": 45,
   "metadata": {},
   "outputs": [
    {
     "data": {
      "text/html": [
       "<div>\n",
       "<style scoped>\n",
       "    .dataframe tbody tr th:only-of-type {\n",
       "        vertical-align: middle;\n",
       "    }\n",
       "\n",
       "    .dataframe tbody tr th {\n",
       "        vertical-align: top;\n",
       "    }\n",
       "\n",
       "    .dataframe thead th {\n",
       "        text-align: right;\n",
       "    }\n",
       "</style>\n",
       "<table border=\"1\" class=\"dataframe\">\n",
       "  <thead>\n",
       "    <tr style=\"text-align: right;\">\n",
       "      <th></th>\n",
       "      <th>Mean-Var</th>\n",
       "      <th>Equally</th>\n",
       "      <th>Min-Var</th>\n",
       "      <th>SPX</th>\n",
       "    </tr>\n",
       "  </thead>\n",
       "  <tbody>\n",
       "    <tr>\n",
       "      <th>2001-03-01</th>\n",
       "      <td>0</td>\n",
       "      <td>0</td>\n",
       "      <td>0</td>\n",
       "      <td>0.000000</td>\n",
       "    </tr>\n",
       "    <tr>\n",
       "      <th>2001-06-01</th>\n",
       "      <td>0.078403</td>\n",
       "      <td>0.078873</td>\n",
       "      <td>0.078364</td>\n",
       "      <td>0.015420</td>\n",
       "    </tr>\n",
       "    <tr>\n",
       "      <th>2001-09-04</th>\n",
       "      <td>-0.080323</td>\n",
       "      <td>-0.077107</td>\n",
       "      <td>-0.077383</td>\n",
       "      <td>-0.112742</td>\n",
       "    </tr>\n",
       "    <tr>\n",
       "      <th>2001-12-03</th>\n",
       "      <td>0.005271</td>\n",
       "      <td>0.004853</td>\n",
       "      <td>0.005264</td>\n",
       "      <td>-0.002690</td>\n",
       "    </tr>\n",
       "    <tr>\n",
       "      <th>2002-03-01</th>\n",
       "      <td>0.067198</td>\n",
       "      <td>0.08104</td>\n",
       "      <td>0.080665</td>\n",
       "      <td>0.001661</td>\n",
       "    </tr>\n",
       "  </tbody>\n",
       "</table>\n",
       "</div>"
      ],
      "text/plain": [
       "            Mean-Var   Equally   Min-Var       SPX\n",
       "2001-03-01         0         0         0  0.000000\n",
       "2001-06-01  0.078403  0.078873  0.078364  0.015420\n",
       "2001-09-04 -0.080323 -0.077107 -0.077383 -0.112742\n",
       "2001-12-03  0.005271  0.004853  0.005264 -0.002690\n",
       "2002-03-01  0.067198   0.08104  0.080665  0.001661"
      ]
     },
     "execution_count": 45,
     "metadata": {},
     "output_type": "execute_result"
    }
   ],
   "source": [
    "quarter_return.head()"
   ]
  },
  {
   "cell_type": "code",
   "execution_count": 46,
   "metadata": {},
   "outputs": [],
   "source": [
    "annulizedR_spx=quarter_return['SPX'].mean()*4\n",
    "annulizedR_meanv=quarter_return['Mean-Var'].mean()*4\n",
    "annulizedR_equal=quarter_return['Equally'].mean()*4\n",
    "annulizedR_minv=quarter_return['Min-Var'].mean()*4\n",
    "annulizedS_spx=quarter_return['SPX'].std()*2\n",
    "annulizedS_meanv=quarter_return['Mean-Var'].std()*2\n",
    "annulizedS_equal=quarter_return['Equally'].std()*2\n",
    "annulizedS_minv=quarter_return['Min-Var'].std()*2"
   ]
  },
  {
   "cell_type": "code",
   "execution_count": 47,
   "metadata": {},
   "outputs": [
    {
     "name": "stdout",
     "output_type": "stream",
     "text": [
      "SPX 0.048378767402278824 0.17809557206285404\n",
      "Mean-Var 9.054264201231351 29.834518851153877\n",
      "Equally 7.2378961421332155 28.338892297094063\n",
      "Min-Var 7.237513897486379 28.334011294340318\n"
     ]
    }
   ],
   "source": [
    "print(\"SPX\",annulizedR_spx,annulizedS_spx)\n",
    "print(\"Mean-Var\",annulizedR_meanv,annulizedS_meanv)\n",
    "print(\"Equally\",annulizedR_equal,annulizedS_equal)\n",
    "print(\"Min-Var\",annulizedR_minv,annulizedS_minv)\n"
   ]
  },
  {
   "cell_type": "code",
   "execution_count": 48,
   "metadata": {
    "collapsed": true
   },
   "outputs": [],
   "source": [
    "risk_free=0.015"
   ]
  },
  {
   "cell_type": "code",
   "execution_count": 49,
   "metadata": {},
   "outputs": [],
   "source": [
    "sharpe_spx=(annulizedR_spx-risk_free)/annulizedS_spx\n",
    "sharpe_meanv=(annulizedR_meanv-risk_free)/annulizedS_meanv\n",
    "sharpe_equal=(annulizedR_equal-risk_free)/annulizedS_equal\n",
    "sharpe_minv=(annulizedR_minv-risk_free)/annulizedS_minv"
   ]
  },
  {
   "cell_type": "code",
   "execution_count": 50,
   "metadata": {},
   "outputs": [
    {
     "name": "stdout",
     "output_type": "stream",
     "text": [
      "SPX Sharpe 0.18742053502879166\n",
      "Mean-Var Sharpe 0.3029800563008493\n",
      "Equally Sharpe 0.2548757398987634\n",
      "Min-Var Sharpe 0.25490615580184606\n"
     ]
    }
   ],
   "source": [
    "print(\"SPX Sharpe\",sharpe_spx)\n",
    "print(\"Mean-Var Sharpe\",sharpe_meanv)\n",
    "print(\"Equally Sharpe\",sharpe_equal)\n",
    "print(\"Min-Var Sharpe\",sharpe_minv)\n"
   ]
  },
  {
   "cell_type": "code",
   "execution_count": null,
   "metadata": {
    "collapsed": true
   },
   "outputs": [],
   "source": []
  },
  {
   "cell_type": "code",
   "execution_count": 51,
   "metadata": {
    "collapsed": true
   },
   "outputs": [],
   "source": [
    "insample_date=tradedate_full"
   ]
  },
  {
   "cell_type": "code",
   "execution_count": 52,
   "metadata": {},
   "outputs": [
    {
     "data": {
      "text/plain": [
       "2001-03-01    0.000000\n",
       "2001-06-01    0.015420\n",
       "2001-09-04   -0.112742\n",
       "2001-12-03   -0.002690\n",
       "2002-03-01    0.001661\n",
       "                ...   \n",
       "2023-12-01    0.017163\n",
       "2024-03-01    0.105595\n",
       "2024-06-03    0.027694\n",
       "2024-09-03    0.044408\n",
       "2024-12-02         NaN\n",
       "Name: SPX, Length: 96, dtype: float64"
      ]
     },
     "execution_count": 52,
     "metadata": {},
     "output_type": "execute_result"
    }
   ],
   "source": [
    "quarter_return['SPX'][insample_date]\n"
   ]
  },
  {
   "cell_type": "code",
   "execution_count": 53,
   "metadata": {},
   "outputs": [
    {
     "data": {
      "text/html": [
       "<div>\n",
       "<style scoped>\n",
       "    .dataframe tbody tr th:only-of-type {\n",
       "        vertical-align: middle;\n",
       "    }\n",
       "\n",
       "    .dataframe tbody tr th {\n",
       "        vertical-align: top;\n",
       "    }\n",
       "\n",
       "    .dataframe thead th {\n",
       "        text-align: right;\n",
       "    }\n",
       "</style>\n",
       "<table border=\"1\" class=\"dataframe\">\n",
       "  <thead>\n",
       "    <tr style=\"text-align: right;\">\n",
       "      <th></th>\n",
       "      <th>Mean-Var</th>\n",
       "      <th>Equally</th>\n",
       "      <th>Min-Var</th>\n",
       "      <th>SPX</th>\n",
       "    </tr>\n",
       "  </thead>\n",
       "  <tbody>\n",
       "    <tr>\n",
       "      <th>2001-03-01</th>\n",
       "      <td>0</td>\n",
       "      <td>0</td>\n",
       "      <td>0</td>\n",
       "      <td>0.000000</td>\n",
       "    </tr>\n",
       "    <tr>\n",
       "      <th>2001-06-01</th>\n",
       "      <td>0.078403</td>\n",
       "      <td>0.078873</td>\n",
       "      <td>0.078364</td>\n",
       "      <td>0.015420</td>\n",
       "    </tr>\n",
       "    <tr>\n",
       "      <th>2001-09-04</th>\n",
       "      <td>-0.080323</td>\n",
       "      <td>-0.077107</td>\n",
       "      <td>-0.077383</td>\n",
       "      <td>-0.112742</td>\n",
       "    </tr>\n",
       "    <tr>\n",
       "      <th>2001-12-03</th>\n",
       "      <td>0.005271</td>\n",
       "      <td>0.004853</td>\n",
       "      <td>0.005264</td>\n",
       "      <td>-0.002690</td>\n",
       "    </tr>\n",
       "    <tr>\n",
       "      <th>2002-03-01</th>\n",
       "      <td>0.067198</td>\n",
       "      <td>0.08104</td>\n",
       "      <td>0.080665</td>\n",
       "      <td>0.001661</td>\n",
       "    </tr>\n",
       "    <tr>\n",
       "      <th>...</th>\n",
       "      <td>...</td>\n",
       "      <td>...</td>\n",
       "      <td>...</td>\n",
       "      <td>...</td>\n",
       "    </tr>\n",
       "    <tr>\n",
       "      <th>2023-12-01</th>\n",
       "      <td>-0.021386</td>\n",
       "      <td>-0.020242</td>\n",
       "      <td>-0.020087</td>\n",
       "      <td>0.017163</td>\n",
       "    </tr>\n",
       "    <tr>\n",
       "      <th>2024-03-01</th>\n",
       "      <td>-0.106063</td>\n",
       "      <td>0.033226</td>\n",
       "      <td>0.033804</td>\n",
       "      <td>0.105595</td>\n",
       "    </tr>\n",
       "    <tr>\n",
       "      <th>2024-06-03</th>\n",
       "      <td>-0.094732</td>\n",
       "      <td>-0.058534</td>\n",
       "      <td>-0.057837</td>\n",
       "      <td>0.027694</td>\n",
       "    </tr>\n",
       "    <tr>\n",
       "      <th>2024-09-03</th>\n",
       "      <td>0.025534</td>\n",
       "      <td>-0.016031</td>\n",
       "      <td>-0.015206</td>\n",
       "      <td>0.044408</td>\n",
       "    </tr>\n",
       "    <tr>\n",
       "      <th>2024-12-02</th>\n",
       "      <td>0.078082</td>\n",
       "      <td>0.057908</td>\n",
       "      <td>0.057589</td>\n",
       "      <td>NaN</td>\n",
       "    </tr>\n",
       "  </tbody>\n",
       "</table>\n",
       "<p>96 rows × 4 columns</p>\n",
       "</div>"
      ],
      "text/plain": [
       "            Mean-Var   Equally   Min-Var       SPX\n",
       "2001-03-01         0         0         0  0.000000\n",
       "2001-06-01  0.078403  0.078873  0.078364  0.015420\n",
       "2001-09-04 -0.080323 -0.077107 -0.077383 -0.112742\n",
       "2001-12-03  0.005271  0.004853  0.005264 -0.002690\n",
       "2002-03-01  0.067198   0.08104  0.080665  0.001661\n",
       "...              ...       ...       ...       ...\n",
       "2023-12-01 -0.021386 -0.020242 -0.020087  0.017163\n",
       "2024-03-01 -0.106063  0.033226  0.033804  0.105595\n",
       "2024-06-03 -0.094732 -0.058534 -0.057837  0.027694\n",
       "2024-09-03  0.025534 -0.016031 -0.015206  0.044408\n",
       "2024-12-02  0.078082  0.057908  0.057589       NaN\n",
       "\n",
       "[96 rows x 4 columns]"
      ]
     },
     "execution_count": 53,
     "metadata": {},
     "output_type": "execute_result"
    }
   ],
   "source": [
    "quarter_return"
   ]
  },
  {
   "cell_type": "code",
   "execution_count": 54,
   "metadata": {},
   "outputs": [
    {
     "name": "stdout",
     "output_type": "stream",
     "text": [
      "SPX 0.048378767402278824 0.17809557206285404\n",
      "Mean-Var 9.054264201231351 29.834518851153877\n",
      "Equally 7.2378961421332155 28.338892297094063\n",
      "Min-Var 7.237513897486379 28.334011294340318\n",
      "SPX Sharpe 0.18742053502879166\n",
      "Mean-Var Sharpe 0.3029800563008493\n",
      "Equally Sharpe 0.2548757398987634\n",
      "Min-Var Sharpe 0.25490615580184606\n"
     ]
    }
   ],
   "source": [
    "annulizedR_spx_insample=quarter_return['SPX'][insample_date].mean()*4\n",
    "annulizedR_meanv_insample=quarter_return['Mean-Var'][insample_date].mean()*4\n",
    "annulizedR_equal_insample=quarter_return['Equally'][insample_date].mean()*4\n",
    "annulizedR_minv_insample=quarter_return['Min-Var'][insample_date].mean()*4\n",
    "annulizedS_spx_insample=quarter_return['SPX'][insample_date].std()*2\n",
    "annulizedS_meanv_insample=quarter_return['Mean-Var'][insample_date].std()*2\n",
    "annulizedS_equal_insample=quarter_return['Equally'][insample_date].std()*2\n",
    "annulizedS_minv_insample=quarter_return['Min-Var'][insample_date].std()*2\n",
    "print(\"SPX\",annulizedR_spx_insample,annulizedS_spx_insample)\n",
    "print(\"Mean-Var\",annulizedR_meanv_insample,annulizedS_meanv_insample)\n",
    "print(\"Equally\",annulizedR_equal_insample,annulizedS_equal_insample)\n",
    "print(\"Min-Var\",annulizedR_minv_insample,annulizedS_minv_insample)\n",
    "sharpe_spx_insample=(annulizedR_spx_insample-risk_free)/annulizedS_spx_insample\n",
    "sharpe_meanv_insample=(annulizedR_meanv_insample-risk_free)/annulizedS_meanv_insample\n",
    "sharpe_equal_insample=(annulizedR_equal_insample-risk_free)/annulizedS_equal_insample\n",
    "sharpe_minv_insample=(annulizedR_minv_insample-risk_free)/annulizedS_minv_insample\n",
    "print(\"SPX Sharpe\",sharpe_spx_insample)\n",
    "print(\"Mean-Var Sharpe\",sharpe_meanv_insample)\n",
    "print(\"Equally Sharpe\",sharpe_equal_insample)\n",
    "print(\"Min-Var Sharpe\",sharpe_minv_insample)"
   ]
  }
 ],
 "metadata": {
  "kernelspec": {
   "display_name": "venv",
   "language": "python",
   "name": "python3"
  },
  "language_info": {
   "codemirror_mode": {
    "name": "ipython",
    "version": 3
   },
   "file_extension": ".py",
   "mimetype": "text/x-python",
   "name": "python",
   "nbconvert_exporter": "python",
   "pygments_lexer": "ipython3",
   "version": "3.11.9"
  }
 },
 "nbformat": 4,
 "nbformat_minor": 2
}
