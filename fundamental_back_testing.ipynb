{
 "cells": [
  {
   "cell_type": "code",
   "execution_count": 55,
   "metadata": {
    "collapsed": true
   },
   "outputs": [],
   "source": [
    "import numpy as np\n",
    "import pandas as pd\n",
    "\n",
    "import time\n",
    "from datetime import datetime as dt\n",
    "\n",
    "import matplotlib.pyplot as plt\n",
    "import plotly\n",
    "import plotly.graph_objs as go\n"
   ]
  },
  {
   "cell_type": "markdown",
   "metadata": {},
   "source": [
    "# 1. Data Preparation"
   ]
  },
  {
   "cell_type": "markdown",
   "metadata": {},
   "source": [
    "3 datasets:\n",
    "\n",
    "S&P 500 daily adjusted price\n",
    "\n",
    "Mean-variance weights table\n",
    "\n",
    "Min-variance weights table"
   ]
  },
  {
   "cell_type": "code",
   "execution_count": 56,
   "metadata": {},
   "outputs": [],
   "source": [
    "data_adj = pd.read_csv(\"data_processor_update/outputs/final_ratios.csv\")\n",
    "weight_meanv = pd.read_excel('mean_weighted.xlsx')\n",
    "weight_minv = pd.read_excel('minimum_weighted.xlsx')\n",
    "weight_equal=pd.read_excel('equally_weighted.xlsx')"
   ]
  },
  {
   "cell_type": "code",
   "execution_count": 57,
   "metadata": {},
   "outputs": [
    {
     "data": {
      "text/html": [
       "<div>\n",
       "<style scoped>\n",
       "    .dataframe tbody tr th:only-of-type {\n",
       "        vertical-align: middle;\n",
       "    }\n",
       "\n",
       "    .dataframe tbody tr th {\n",
       "        vertical-align: top;\n",
       "    }\n",
       "\n",
       "    .dataframe thead th {\n",
       "        text-align: right;\n",
       "    }\n",
       "</style>\n",
       "<table border=\"1\" class=\"dataframe\">\n",
       "  <thead>\n",
       "    <tr style=\"text-align: right;\">\n",
       "      <th></th>\n",
       "      <th>Unnamed: 0</th>\n",
       "      <th>date</th>\n",
       "      <th>gvkey</th>\n",
       "      <th>tic</th>\n",
       "      <th>gsector</th>\n",
       "      <th>adj_close_q</th>\n",
       "      <th>y_return</th>\n",
       "      <th>ROA</th>\n",
       "      <th>ROE</th>\n",
       "      <th>EPS</th>\n",
       "      <th>...</th>\n",
       "      <th>DPS</th>\n",
       "      <th>cur_ratio</th>\n",
       "      <th>quick_ratio</th>\n",
       "      <th>cash_ratio</th>\n",
       "      <th>acc_rec_turnover</th>\n",
       "      <th>debt_ratio</th>\n",
       "      <th>debt_to_equity</th>\n",
       "      <th>pe</th>\n",
       "      <th>ps</th>\n",
       "      <th>pb</th>\n",
       "    </tr>\n",
       "  </thead>\n",
       "  <tbody>\n",
       "    <tr>\n",
       "      <th>0</th>\n",
       "      <td>0</td>\n",
       "      <td>1999-12-01</td>\n",
       "      <td>126554</td>\n",
       "      <td>A</td>\n",
       "      <td>35.0</td>\n",
       "      <td>25.871546</td>\n",
       "      <td>0.932748</td>\n",
       "      <td>0.000000</td>\n",
       "      <td>0.000000</td>\n",
       "      <td>1.35</td>\n",
       "      <td>...</td>\n",
       "      <td>0.000</td>\n",
       "      <td>2.104700</td>\n",
       "      <td>0.972635</td>\n",
       "      <td>0.000000</td>\n",
       "      <td>0.000000</td>\n",
       "      <td>0.378766</td>\n",
       "      <td>0.000000</td>\n",
       "      <td>0.000000</td>\n",
       "      <td>0.000000</td>\n",
       "      <td>0.000000</td>\n",
       "    </tr>\n",
       "    <tr>\n",
       "      <th>1</th>\n",
       "      <td>1</td>\n",
       "      <td>2000-03-01</td>\n",
       "      <td>126554</td>\n",
       "      <td>A</td>\n",
       "      <td>35.0</td>\n",
       "      <td>65.752098</td>\n",
       "      <td>-0.402034</td>\n",
       "      <td>0.061629</td>\n",
       "      <td>0.000000</td>\n",
       "      <td>0.30</td>\n",
       "      <td>...</td>\n",
       "      <td>0.000</td>\n",
       "      <td>2.410256</td>\n",
       "      <td>1.381229</td>\n",
       "      <td>0.682148</td>\n",
       "      <td>4.529412</td>\n",
       "      <td>0.368791</td>\n",
       "      <td>0.000000</td>\n",
       "      <td>330.937500</td>\n",
       "      <td>16.162480</td>\n",
       "      <td>6.668914</td>\n",
       "    </tr>\n",
       "    <tr>\n",
       "      <th>2</th>\n",
       "      <td>2</td>\n",
       "      <td>2000-06-01</td>\n",
       "      <td>126554</td>\n",
       "      <td>A</td>\n",
       "      <td>35.0</td>\n",
       "      <td>43.985371</td>\n",
       "      <td>-0.165343</td>\n",
       "      <td>0.056276</td>\n",
       "      <td>0.000000</td>\n",
       "      <td>0.67</td>\n",
       "      <td>...</td>\n",
       "      <td>0.000</td>\n",
       "      <td>2.313358</td>\n",
       "      <td>1.311528</td>\n",
       "      <td>0.447392</td>\n",
       "      <td>3.380625</td>\n",
       "      <td>0.365934</td>\n",
       "      <td>0.000000</td>\n",
       "      <td>285.887097</td>\n",
       "      <td>18.712701</td>\n",
       "      <td>8.634771</td>\n",
       "    </tr>\n",
       "    <tr>\n",
       "      <th>3</th>\n",
       "      <td>3</td>\n",
       "      <td>2000-09-01</td>\n",
       "      <td>126554</td>\n",
       "      <td>A</td>\n",
       "      <td>35.0</td>\n",
       "      <td>37.282143</td>\n",
       "      <td>-0.154825</td>\n",
       "      <td>0.056599</td>\n",
       "      <td>0.000000</td>\n",
       "      <td>1.01</td>\n",
       "      <td>...</td>\n",
       "      <td>0.000</td>\n",
       "      <td>2.129084</td>\n",
       "      <td>1.143426</td>\n",
       "      <td>0.280080</td>\n",
       "      <td>2.972312</td>\n",
       "      <td>0.373706</td>\n",
       "      <td>0.000000</td>\n",
       "      <td>127.343750</td>\n",
       "      <td>7.852132</td>\n",
       "      <td>3.765884</td>\n",
       "    </tr>\n",
       "    <tr>\n",
       "      <th>4</th>\n",
       "      <td>4</td>\n",
       "      <td>2000-12-01</td>\n",
       "      <td>126554</td>\n",
       "      <td>A</td>\n",
       "      <td>35.0</td>\n",
       "      <td>31.934578</td>\n",
       "      <td>-0.324580</td>\n",
       "      <td>0.053650</td>\n",
       "      <td>0.000000</td>\n",
       "      <td>1.68</td>\n",
       "      <td>...</td>\n",
       "      <td>0.000</td>\n",
       "      <td>2.050399</td>\n",
       "      <td>1.159173</td>\n",
       "      <td>0.361131</td>\n",
       "      <td>2.882326</td>\n",
       "      <td>0.375074</td>\n",
       "      <td>0.000000</td>\n",
       "      <td>70.170455</td>\n",
       "      <td>6.968765</td>\n",
       "      <td>3.993307</td>\n",
       "    </tr>\n",
       "    <tr>\n",
       "      <th>...</th>\n",
       "      <td>...</td>\n",
       "      <td>...</td>\n",
       "      <td>...</td>\n",
       "      <td>...</td>\n",
       "      <td>...</td>\n",
       "      <td>...</td>\n",
       "      <td>...</td>\n",
       "      <td>...</td>\n",
       "      <td>...</td>\n",
       "      <td>...</td>\n",
       "      <td>...</td>\n",
       "      <td>...</td>\n",
       "      <td>...</td>\n",
       "      <td>...</td>\n",
       "      <td>...</td>\n",
       "      <td>...</td>\n",
       "      <td>...</td>\n",
       "      <td>...</td>\n",
       "      <td>...</td>\n",
       "      <td>...</td>\n",
       "      <td>...</td>\n",
       "    </tr>\n",
       "    <tr>\n",
       "      <th>42390</th>\n",
       "      <td>42390</td>\n",
       "      <td>2023-03-01</td>\n",
       "      <td>13721</td>\n",
       "      <td>ZTS</td>\n",
       "      <td>35.0</td>\n",
       "      <td>164.316330</td>\n",
       "      <td>-0.007268</td>\n",
       "      <td>0.110754</td>\n",
       "      <td>0.375426</td>\n",
       "      <td>4.51</td>\n",
       "      <td>...</td>\n",
       "      <td>0.325</td>\n",
       "      <td>2.370066</td>\n",
       "      <td>1.514367</td>\n",
       "      <td>1.130723</td>\n",
       "      <td>4.973663</td>\n",
       "      <td>0.704992</td>\n",
       "      <td>2.389734</td>\n",
       "      <td>148.030303</td>\n",
       "      <td>33.302823</td>\n",
       "      <td>15.437443</td>\n",
       "    </tr>\n",
       "    <tr>\n",
       "      <th>42391</th>\n",
       "      <td>42391</td>\n",
       "      <td>2023-06-01</td>\n",
       "      <td>13721</td>\n",
       "      <td>ZTS</td>\n",
       "      <td>35.0</td>\n",
       "      <td>163.126434</td>\n",
       "      <td>0.150409</td>\n",
       "      <td>0.110441</td>\n",
       "      <td>0.338232</td>\n",
       "      <td>1.19</td>\n",
       "      <td>...</td>\n",
       "      <td>0.375</td>\n",
       "      <td>3.273629</td>\n",
       "      <td>1.720627</td>\n",
       "      <td>1.101305</td>\n",
       "      <td>5.140809</td>\n",
       "      <td>0.673477</td>\n",
       "      <td>2.062570</td>\n",
       "      <td>139.865546</td>\n",
       "      <td>37.845461</td>\n",
       "      <td>17.140429</td>\n",
       "    </tr>\n",
       "    <tr>\n",
       "      <th>42392</th>\n",
       "      <td>42392</td>\n",
       "      <td>2023-09-01</td>\n",
       "      <td>13721</td>\n",
       "      <td>ZTS</td>\n",
       "      <td>35.0</td>\n",
       "      <td>189.603439</td>\n",
       "      <td>-0.069697</td>\n",
       "      <td>0.112154</td>\n",
       "      <td>0.333694</td>\n",
       "      <td>2.64</td>\n",
       "      <td>...</td>\n",
       "      <td>0.375</td>\n",
       "      <td>3.495195</td>\n",
       "      <td>1.717920</td>\n",
       "      <td>0.970605</td>\n",
       "      <td>4.597579</td>\n",
       "      <td>0.663903</td>\n",
       "      <td>1.975330</td>\n",
       "      <td>118.765517</td>\n",
       "      <td>36.380527</td>\n",
       "      <td>17.170727</td>\n",
       "    </tr>\n",
       "    <tr>\n",
       "      <th>42393</th>\n",
       "      <td>42393</td>\n",
       "      <td>2023-12-01</td>\n",
       "      <td>13721</td>\n",
       "      <td>ZTS</td>\n",
       "      <td>35.0</td>\n",
       "      <td>176.838669</td>\n",
       "      <td>0.065484</td>\n",
       "      <td>0.119382</td>\n",
       "      <td>0.331888</td>\n",
       "      <td>3.94</td>\n",
       "      <td>...</td>\n",
       "      <td>0.375</td>\n",
       "      <td>3.869403</td>\n",
       "      <td>1.872512</td>\n",
       "      <td>1.090796</td>\n",
       "      <td>4.976929</td>\n",
       "      <td>0.640295</td>\n",
       "      <td>1.780055</td>\n",
       "      <td>134.868217</td>\n",
       "      <td>37.150632</td>\n",
       "      <td>15.756437</td>\n",
       "    </tr>\n",
       "    <tr>\n",
       "      <th>42394</th>\n",
       "      <td>42394</td>\n",
       "      <td>2024-03-01</td>\n",
       "      <td>13721</td>\n",
       "      <td>ZTS</td>\n",
       "      <td>35.0</td>\n",
       "      <td>188.806396</td>\n",
       "      <td>0.000000</td>\n",
       "      <td>0.127327</td>\n",
       "      <td>0.364456</td>\n",
       "      <td>5.08</td>\n",
       "      <td>...</td>\n",
       "      <td>0.375</td>\n",
       "      <td>3.357861</td>\n",
       "      <td>1.770778</td>\n",
       "      <td>1.080466</td>\n",
       "      <td>4.882669</td>\n",
       "      <td>0.650637</td>\n",
       "      <td>1.862352</td>\n",
       "      <td>173.131579</td>\n",
       "      <td>40.861741</td>\n",
       "      <td>18.126206</td>\n",
       "    </tr>\n",
       "  </tbody>\n",
       "</table>\n",
       "<p>42395 rows × 21 columns</p>\n",
       "</div>"
      ],
      "text/plain": [
       "       Unnamed: 0        date   gvkey  tic  gsector  adj_close_q  y_return  \\\n",
       "0               0  1999-12-01  126554    A     35.0    25.871546  0.932748   \n",
       "1               1  2000-03-01  126554    A     35.0    65.752098 -0.402034   \n",
       "2               2  2000-06-01  126554    A     35.0    43.985371 -0.165343   \n",
       "3               3  2000-09-01  126554    A     35.0    37.282143 -0.154825   \n",
       "4               4  2000-12-01  126554    A     35.0    31.934578 -0.324580   \n",
       "...           ...         ...     ...  ...      ...          ...       ...   \n",
       "42390       42390  2023-03-01   13721  ZTS     35.0   164.316330 -0.007268   \n",
       "42391       42391  2023-06-01   13721  ZTS     35.0   163.126434  0.150409   \n",
       "42392       42392  2023-09-01   13721  ZTS     35.0   189.603439 -0.069697   \n",
       "42393       42393  2023-12-01   13721  ZTS     35.0   176.838669  0.065484   \n",
       "42394       42394  2024-03-01   13721  ZTS     35.0   188.806396  0.000000   \n",
       "\n",
       "            ROA       ROE   EPS  ...    DPS  cur_ratio  quick_ratio  \\\n",
       "0      0.000000  0.000000  1.35  ...  0.000   2.104700     0.972635   \n",
       "1      0.061629  0.000000  0.30  ...  0.000   2.410256     1.381229   \n",
       "2      0.056276  0.000000  0.67  ...  0.000   2.313358     1.311528   \n",
       "3      0.056599  0.000000  1.01  ...  0.000   2.129084     1.143426   \n",
       "4      0.053650  0.000000  1.68  ...  0.000   2.050399     1.159173   \n",
       "...         ...       ...   ...  ...    ...        ...          ...   \n",
       "42390  0.110754  0.375426  4.51  ...  0.325   2.370066     1.514367   \n",
       "42391  0.110441  0.338232  1.19  ...  0.375   3.273629     1.720627   \n",
       "42392  0.112154  0.333694  2.64  ...  0.375   3.495195     1.717920   \n",
       "42393  0.119382  0.331888  3.94  ...  0.375   3.869403     1.872512   \n",
       "42394  0.127327  0.364456  5.08  ...  0.375   3.357861     1.770778   \n",
       "\n",
       "       cash_ratio  acc_rec_turnover  debt_ratio  debt_to_equity          pe  \\\n",
       "0        0.000000          0.000000    0.378766        0.000000    0.000000   \n",
       "1        0.682148          4.529412    0.368791        0.000000  330.937500   \n",
       "2        0.447392          3.380625    0.365934        0.000000  285.887097   \n",
       "3        0.280080          2.972312    0.373706        0.000000  127.343750   \n",
       "4        0.361131          2.882326    0.375074        0.000000   70.170455   \n",
       "...           ...               ...         ...             ...         ...   \n",
       "42390    1.130723          4.973663    0.704992        2.389734  148.030303   \n",
       "42391    1.101305          5.140809    0.673477        2.062570  139.865546   \n",
       "42392    0.970605          4.597579    0.663903        1.975330  118.765517   \n",
       "42393    1.090796          4.976929    0.640295        1.780055  134.868217   \n",
       "42394    1.080466          4.882669    0.650637        1.862352  173.131579   \n",
       "\n",
       "              ps         pb  \n",
       "0       0.000000   0.000000  \n",
       "1      16.162480   6.668914  \n",
       "2      18.712701   8.634771  \n",
       "3       7.852132   3.765884  \n",
       "4       6.968765   3.993307  \n",
       "...          ...        ...  \n",
       "42390  33.302823  15.437443  \n",
       "42391  37.845461  17.140429  \n",
       "42392  36.380527  17.170727  \n",
       "42393  37.150632  15.756437  \n",
       "42394  40.861741  18.126206  \n",
       "\n",
       "[42395 rows x 21 columns]"
      ]
     },
     "execution_count": 57,
     "metadata": {},
     "output_type": "execute_result"
    }
   ],
   "source": [
    "data_adj"
   ]
  },
  {
   "cell_type": "code",
   "execution_count": 58,
   "metadata": {},
   "outputs": [
    {
     "data": {
      "text/html": [
       "<div>\n",
       "<style scoped>\n",
       "    .dataframe tbody tr th:only-of-type {\n",
       "        vertical-align: middle;\n",
       "    }\n",
       "\n",
       "    .dataframe tbody tr th {\n",
       "        vertical-align: top;\n",
       "    }\n",
       "\n",
       "    .dataframe thead th {\n",
       "        text-align: right;\n",
       "    }\n",
       "</style>\n",
       "<table border=\"1\" class=\"dataframe\">\n",
       "  <thead>\n",
       "    <tr style=\"text-align: right;\">\n",
       "      <th></th>\n",
       "      <th>Unnamed: 0</th>\n",
       "      <th>trade_date</th>\n",
       "      <th>gvkey</th>\n",
       "      <th>weights</th>\n",
       "      <th>predicted_return</th>\n",
       "    </tr>\n",
       "  </thead>\n",
       "  <tbody>\n",
       "    <tr>\n",
       "      <th>0</th>\n",
       "      <td>0</td>\n",
       "      <td>2010-12-01</td>\n",
       "      <td>1045</td>\n",
       "      <td>0.00699</td>\n",
       "      <td>0.041251</td>\n",
       "    </tr>\n",
       "    <tr>\n",
       "      <th>1</th>\n",
       "      <td>1</td>\n",
       "      <td>2010-12-01</td>\n",
       "      <td>1161</td>\n",
       "      <td>0.00699</td>\n",
       "      <td>0.046663</td>\n",
       "    </tr>\n",
       "    <tr>\n",
       "      <th>2</th>\n",
       "      <td>2</td>\n",
       "      <td>2010-12-01</td>\n",
       "      <td>1230</td>\n",
       "      <td>0.00699</td>\n",
       "      <td>0.047401</td>\n",
       "    </tr>\n",
       "    <tr>\n",
       "      <th>3</th>\n",
       "      <td>3</td>\n",
       "      <td>2010-12-01</td>\n",
       "      <td>1279</td>\n",
       "      <td>0.00699</td>\n",
       "      <td>0.034958</td>\n",
       "    </tr>\n",
       "    <tr>\n",
       "      <th>4</th>\n",
       "      <td>4</td>\n",
       "      <td>2010-12-01</td>\n",
       "      <td>1487</td>\n",
       "      <td>0.00699</td>\n",
       "      <td>0.054132</td>\n",
       "    </tr>\n",
       "  </tbody>\n",
       "</table>\n",
       "</div>"
      ],
      "text/plain": [
       "   Unnamed: 0  trade_date  gvkey  weights  predicted_return\n",
       "0           0  2010-12-01   1045  0.00699          0.041251\n",
       "1           1  2010-12-01   1161  0.00699          0.046663\n",
       "2           2  2010-12-01   1230  0.00699          0.047401\n",
       "3           3  2010-12-01   1279  0.00699          0.034958\n",
       "4           4  2010-12-01   1487  0.00699          0.054132"
      ]
     },
     "execution_count": 58,
     "metadata": {},
     "output_type": "execute_result"
    }
   ],
   "source": [
    "weight_meanv.head()"
   ]
  },
  {
   "cell_type": "code",
   "execution_count": 59,
   "metadata": {},
   "outputs": [
    {
     "data": {
      "text/html": [
       "<div>\n",
       "<style scoped>\n",
       "    .dataframe tbody tr th:only-of-type {\n",
       "        vertical-align: middle;\n",
       "    }\n",
       "\n",
       "    .dataframe tbody tr th {\n",
       "        vertical-align: top;\n",
       "    }\n",
       "\n",
       "    .dataframe thead th {\n",
       "        text-align: right;\n",
       "    }\n",
       "</style>\n",
       "<table border=\"1\" class=\"dataframe\">\n",
       "  <thead>\n",
       "    <tr style=\"text-align: right;\">\n",
       "      <th></th>\n",
       "      <th>Unnamed: 0</th>\n",
       "      <th>trade_date</th>\n",
       "      <th>gvkey</th>\n",
       "      <th>weights</th>\n",
       "      <th>predicted_return</th>\n",
       "    </tr>\n",
       "  </thead>\n",
       "  <tbody>\n",
       "    <tr>\n",
       "      <th>0</th>\n",
       "      <td>0</td>\n",
       "      <td>2010-12-01</td>\n",
       "      <td>1045</td>\n",
       "      <td>0.00699</td>\n",
       "      <td>0.041251</td>\n",
       "    </tr>\n",
       "    <tr>\n",
       "      <th>1</th>\n",
       "      <td>1</td>\n",
       "      <td>2010-12-01</td>\n",
       "      <td>1161</td>\n",
       "      <td>0.00699</td>\n",
       "      <td>0.046663</td>\n",
       "    </tr>\n",
       "    <tr>\n",
       "      <th>2</th>\n",
       "      <td>2</td>\n",
       "      <td>2010-12-01</td>\n",
       "      <td>1230</td>\n",
       "      <td>0.00699</td>\n",
       "      <td>0.047401</td>\n",
       "    </tr>\n",
       "    <tr>\n",
       "      <th>3</th>\n",
       "      <td>3</td>\n",
       "      <td>2010-12-01</td>\n",
       "      <td>1279</td>\n",
       "      <td>0.00699</td>\n",
       "      <td>0.034958</td>\n",
       "    </tr>\n",
       "    <tr>\n",
       "      <th>4</th>\n",
       "      <td>4</td>\n",
       "      <td>2010-12-01</td>\n",
       "      <td>1487</td>\n",
       "      <td>0.00699</td>\n",
       "      <td>0.054132</td>\n",
       "    </tr>\n",
       "  </tbody>\n",
       "</table>\n",
       "</div>"
      ],
      "text/plain": [
       "   Unnamed: 0  trade_date  gvkey  weights  predicted_return\n",
       "0           0  2010-12-01   1045  0.00699          0.041251\n",
       "1           1  2010-12-01   1161  0.00699          0.046663\n",
       "2           2  2010-12-01   1230  0.00699          0.047401\n",
       "3           3  2010-12-01   1279  0.00699          0.034958\n",
       "4           4  2010-12-01   1487  0.00699          0.054132"
      ]
     },
     "execution_count": 59,
     "metadata": {},
     "output_type": "execute_result"
    }
   ],
   "source": [
    "weight_minv.head()"
   ]
  },
  {
   "cell_type": "code",
   "execution_count": 60,
   "metadata": {},
   "outputs": [
    {
     "data": {
      "text/html": [
       "<div>\n",
       "<style scoped>\n",
       "    .dataframe tbody tr th:only-of-type {\n",
       "        vertical-align: middle;\n",
       "    }\n",
       "\n",
       "    .dataframe tbody tr th {\n",
       "        vertical-align: top;\n",
       "    }\n",
       "\n",
       "    .dataframe thead th {\n",
       "        text-align: right;\n",
       "    }\n",
       "</style>\n",
       "<table border=\"1\" class=\"dataframe\">\n",
       "  <thead>\n",
       "    <tr style=\"text-align: right;\">\n",
       "      <th></th>\n",
       "      <th>Unnamed: 0</th>\n",
       "      <th>trade_date</th>\n",
       "      <th>gvkey</th>\n",
       "      <th>weights</th>\n",
       "      <th>predicted_return</th>\n",
       "    </tr>\n",
       "  </thead>\n",
       "  <tbody>\n",
       "    <tr>\n",
       "      <th>0</th>\n",
       "      <td>0</td>\n",
       "      <td>2010-12-01</td>\n",
       "      <td>1045</td>\n",
       "      <td>0.006993</td>\n",
       "      <td>0.041251</td>\n",
       "    </tr>\n",
       "    <tr>\n",
       "      <th>1</th>\n",
       "      <td>1</td>\n",
       "      <td>2010-12-01</td>\n",
       "      <td>1161</td>\n",
       "      <td>0.006993</td>\n",
       "      <td>0.046663</td>\n",
       "    </tr>\n",
       "    <tr>\n",
       "      <th>2</th>\n",
       "      <td>2</td>\n",
       "      <td>2010-12-01</td>\n",
       "      <td>1230</td>\n",
       "      <td>0.006993</td>\n",
       "      <td>0.047401</td>\n",
       "    </tr>\n",
       "    <tr>\n",
       "      <th>3</th>\n",
       "      <td>3</td>\n",
       "      <td>2010-12-01</td>\n",
       "      <td>1279</td>\n",
       "      <td>0.006993</td>\n",
       "      <td>0.034958</td>\n",
       "    </tr>\n",
       "    <tr>\n",
       "      <th>4</th>\n",
       "      <td>4</td>\n",
       "      <td>2010-12-01</td>\n",
       "      <td>1487</td>\n",
       "      <td>0.006993</td>\n",
       "      <td>0.054132</td>\n",
       "    </tr>\n",
       "  </tbody>\n",
       "</table>\n",
       "</div>"
      ],
      "text/plain": [
       "   Unnamed: 0  trade_date  gvkey   weights  predicted_return\n",
       "0           0  2010-12-01   1045  0.006993          0.041251\n",
       "1           1  2010-12-01   1161  0.006993          0.046663\n",
       "2           2  2010-12-01   1230  0.006993          0.047401\n",
       "3           3  2010-12-01   1279  0.006993          0.034958\n",
       "4           4  2010-12-01   1487  0.006993          0.054132"
      ]
     },
     "execution_count": 60,
     "metadata": {},
     "output_type": "execute_result"
    }
   ],
   "source": [
    "weight_equal.head()"
   ]
  },
  {
   "cell_type": "code",
   "execution_count": 61,
   "metadata": {},
   "outputs": [
    {
     "name": "stdout",
     "output_type": "stream",
     "text": [
      "9851 9851 9851\n"
     ]
    }
   ],
   "source": [
    "#the length of the 3 tables should be the same\n",
    "print(len(weight_meanv),\n",
    "len(weight_minv),\n",
    "len(weight_equal))\n"
   ]
  },
  {
   "cell_type": "markdown",
   "metadata": {},
   "source": []
  },
  {
   "cell_type": "code",
   "execution_count": null,
   "metadata": {
    "collapsed": true
   },
   "outputs": [],
   "source": []
  },
  {
   "cell_type": "markdown",
   "metadata": {},
   "source": [
    "## 1.1 Get stock name, trade date, daily date"
   ]
  },
  {
   "cell_type": "markdown",
   "metadata": {},
   "source": [
    "Add 20170901 as tradedate_full\n"
   ]
  },
  {
   "cell_type": "code",
   "execution_count": 62,
   "metadata": {
    "collapsed": true
   },
   "outputs": [],
   "source": [
    "#get unique stock name from table\n",
    "#stock names are the same between mean variance and minimum variance\n",
    "#only the weights are different\n",
    "stocks_name = list(set(weight_meanv['gvkey']))\n",
    "stocks_name.sort()"
   ]
  },
  {
   "cell_type": "code",
   "execution_count": 63,
   "metadata": {},
   "outputs": [
    {
     "data": {
      "text/plain": [
       "687"
      ]
     },
     "execution_count": 63,
     "metadata": {},
     "output_type": "execute_result"
    }
   ],
   "source": [
    "len(stocks_name)"
   ]
  },
  {
   "cell_type": "code",
   "execution_count": 64,
   "metadata": {},
   "outputs": [
    {
     "name": "stdout",
     "output_type": "stream",
     "text": [
      "<class 'pandas.core.series.Series'> <class 'list'>\n"
     ]
    }
   ],
   "source": [
    "#get all daily date\n",
    "#convert to list from pandas.core.series.Series\n",
    "#use set to get unique values\n",
    "daily = list(set(data_adj['date']))\n",
    "#sort it\n",
    "daily.sort()\n",
    "print(type(data_adj['date']),type(daily))"
   ]
  },
  {
   "cell_type": "code",
   "execution_count": 65,
   "metadata": {},
   "outputs": [
    {
     "data": {
      "text/plain": [
       "77"
      ]
     },
     "execution_count": 65,
     "metadata": {},
     "output_type": "execute_result"
    }
   ],
   "source": [
    "len(daily)\n"
   ]
  },
  {
   "cell_type": "code",
   "execution_count": 66,
   "metadata": {},
   "outputs": [],
   "source": [
    "#get unique trade date from table\n",
    "tradedate = list(set(weight_meanv['trade_date']))\n",
    "tradedate.sort()\n"
   ]
  },
  {
   "cell_type": "code",
   "execution_count": 67,
   "metadata": {},
   "outputs": [
    {
     "data": {
      "text/plain": [
       "['2004-12-01',\n",
       " '2005-03-01',\n",
       " '2005-06-01',\n",
       " '2005-09-01',\n",
       " '2005-12-01',\n",
       " '2006-03-01',\n",
       " '2006-06-01',\n",
       " '2006-09-01',\n",
       " '2006-12-01',\n",
       " '2007-03-01',\n",
       " '2007-06-01',\n",
       " '2008-12-01',\n",
       " '2009-06-01',\n",
       " '2009-09-01',\n",
       " '2009-12-01',\n",
       " '2010-03-01',\n",
       " '2010-06-01',\n",
       " '2010-09-01',\n",
       " '2010-12-01',\n",
       " '2011-03-01',\n",
       " '2011-06-01',\n",
       " '2011-09-01',\n",
       " '2011-12-01',\n",
       " '2012-03-01',\n",
       " '2012-06-01',\n",
       " '2013-03-01',\n",
       " '2014-12-01',\n",
       " '2015-06-01',\n",
       " '2015-09-01',\n",
       " '2015-12-01',\n",
       " '2016-03-01',\n",
       " '2016-06-01',\n",
       " '2016-09-01',\n",
       " '2016-12-01',\n",
       " '2017-03-01',\n",
       " '2017-06-01',\n",
       " '2017-09-01',\n",
       " '2017-12-01',\n",
       " '2018-03-01',\n",
       " '2018-06-01',\n",
       " '2019-03-01',\n",
       " '2020-06-01',\n",
       " '2020-09-01',\n",
       " '2020-12-01',\n",
       " '2021-03-01',\n",
       " '2021-06-01',\n",
       " '2021-09-01',\n",
       " '2021-12-01',\n",
       " '2022-03-01',\n",
       " '2022-06-01',\n",
       " '2022-09-01',\n",
       " '2022-12-01',\n",
       " '2023-03-01',\n",
       " '2023-06-01',\n",
       " '2023-09-01',\n",
       " '2023-12-01',\n",
       " '2024-03-01']"
      ]
     },
     "execution_count": 67,
     "metadata": {},
     "output_type": "execute_result"
    }
   ],
   "source": [
    "tradedate"
   ]
  },
  {
   "cell_type": "code",
   "execution_count": 127,
   "metadata": {},
   "outputs": [],
   "source": [
    "tradedate_full = [x for x in tradedate if x >= '2004-12-01']"
   ]
  },
  {
   "cell_type": "code",
   "execution_count": 128,
   "metadata": {},
   "outputs": [
    {
     "data": {
      "text/plain": [
       "['2004-12-01',\n",
       " '2005-03-01',\n",
       " '2005-06-01',\n",
       " '2005-09-01',\n",
       " '2005-12-01',\n",
       " '2006-03-01',\n",
       " '2006-06-01',\n",
       " '2006-09-01',\n",
       " '2006-12-01',\n",
       " '2007-03-01',\n",
       " '2007-06-01',\n",
       " '2008-12-01',\n",
       " '2009-06-01',\n",
       " '2009-09-01',\n",
       " '2009-12-01',\n",
       " '2010-03-01',\n",
       " '2010-06-01',\n",
       " '2010-09-01',\n",
       " '2010-12-01',\n",
       " '2011-03-01',\n",
       " '2011-06-01',\n",
       " '2011-09-01',\n",
       " '2011-12-01',\n",
       " '2012-03-01',\n",
       " '2012-06-01',\n",
       " '2013-03-01',\n",
       " '2014-12-01',\n",
       " '2015-06-01',\n",
       " '2015-09-01',\n",
       " '2015-12-01',\n",
       " '2016-03-01',\n",
       " '2016-06-01',\n",
       " '2016-09-01',\n",
       " '2016-12-01',\n",
       " '2017-03-01',\n",
       " '2017-06-01',\n",
       " '2017-09-01',\n",
       " '2017-12-01',\n",
       " '2018-03-01',\n",
       " '2018-06-01',\n",
       " '2019-03-01',\n",
       " '2020-06-01',\n",
       " '2020-09-01',\n",
       " '2020-12-01',\n",
       " '2021-03-01',\n",
       " '2021-06-01',\n",
       " '2021-09-01',\n",
       " '2021-12-01',\n",
       " '2022-03-01',\n",
       " '2022-06-01',\n",
       " '2022-09-01',\n",
       " '2022-12-01',\n",
       " '2023-03-01',\n",
       " '2023-06-01',\n",
       " '2023-09-01']"
      ]
     },
     "execution_count": 128,
     "metadata": {},
     "output_type": "execute_result"
    }
   ],
   "source": [
    "tradedate_full"
   ]
  },
  {
   "cell_type": "markdown",
   "metadata": {},
   "source": [
    "## 1.2 Get the daily price matrix based on stock_name"
   ]
  },
  {
   "cell_type": "code",
   "execution_count": 129,
   "metadata": {
    "collapsed": true
   },
   "outputs": [
    {
     "name": "stderr",
     "output_type": "stream",
     "text": [
      "C:\\Users\\misss\\AppData\\Local\\Temp\\ipykernel_33052\\1696695376.py:10: FutureWarning:\n",
      "\n",
      "Downcasting object dtype arrays on .fillna, .ffill, .bfill is deprecated and will change in a future version. Call result.infer_objects(copy=False) instead. To opt-in to the future behavior, set `pd.set_option('future.no_silent_downcasting', True)`\n",
      "\n"
     ]
    },
    {
     "name": "stdout",
     "output_type": "stream",
     "text": [
      "4.524766683578491\n"
     ]
    },
    {
     "name": "stderr",
     "output_type": "stream",
     "text": [
      "C:\\Users\\misss\\AppData\\Local\\Temp\\ipykernel_33052\\1696695376.py:26: FutureWarning:\n",
      "\n",
      "Starting with pandas version 3.0 all arguments of to_excel except for the argument 'excel_writer' will be keyword-only.\n",
      "\n"
     ]
    }
   ],
   "source": [
    "#30mins running time\n",
    "##################match current all stocks to daily adjusted price table#######################\n",
    "# backtest daily price matrix:\n",
    "# covert original table to matrix\n",
    "# rows = all stocks: 971, columns = all dates:7155 days\n",
    "#\n",
    "start_time = time.time()\n",
    "\n",
    "balance_daily = pd.DataFrame(index = stocks_name, columns = daily)\n",
    "balance_daily = balance_daily.fillna(np.nan)\n",
    "\n",
    "for i in stocks_name:\n",
    "    ind = np.where(data_adj['gvkey'] == i)[0]\n",
    "    tmp = data_adj.loc[ind, :]\n",
    "    tmp.index = range(tmp.shape[0])\n",
    "    for j in daily:\n",
    "        ind2 = np.where(tmp['date'] == j)[0]\n",
    "        if(len(ind2) != 0):\n",
    "            balance_daily.loc[i,j] = tmp.loc[ind2[0], 'adj_close_q']\n",
    "\n",
    "elapsed_time = time.time() - start_time\n",
    "print(elapsed_time)\n",
    "writer2 = pd.ExcelWriter('balance_daily.xlsx')\n",
    "writer2 = pd.ExcelWriter('balance_daily_user8.xlsx')\n",
    "\n",
    "balance_daily.to_excel(writer2,'Sheet1')\n",
    "writer2.close()\n",
    "###############################################"
   ]
  },
  {
   "cell_type": "code",
   "execution_count": 130,
   "metadata": {
    "collapsed": true
   },
   "outputs": [],
   "source": [
    "balance_daily = pd.read_excel('balance_daily_user8.xlsx', index_col=0)\n"
   ]
  },
  {
   "cell_type": "code",
   "execution_count": 131,
   "metadata": {},
   "outputs": [
    {
     "data": {
      "text/html": [
       "<div>\n",
       "<style scoped>\n",
       "    .dataframe tbody tr th:only-of-type {\n",
       "        vertical-align: middle;\n",
       "    }\n",
       "\n",
       "    .dataframe tbody tr th {\n",
       "        vertical-align: top;\n",
       "    }\n",
       "\n",
       "    .dataframe thead th {\n",
       "        text-align: right;\n",
       "    }\n",
       "</style>\n",
       "<table border=\"1\" class=\"dataframe\">\n",
       "  <thead>\n",
       "    <tr style=\"text-align: right;\">\n",
       "      <th></th>\n",
       "      <th>1996-03-01</th>\n",
       "      <th>1997-12-01</th>\n",
       "      <th>1998-06-01</th>\n",
       "      <th>1998-09-01</th>\n",
       "      <th>1998-12-01</th>\n",
       "      <th>1999-03-01</th>\n",
       "      <th>1999-06-01</th>\n",
       "      <th>1999-09-01</th>\n",
       "      <th>1999-12-01</th>\n",
       "      <th>2000-03-01</th>\n",
       "      <th>...</th>\n",
       "      <th>2021-12-01</th>\n",
       "      <th>2022-03-01</th>\n",
       "      <th>2022-06-01</th>\n",
       "      <th>2022-09-01</th>\n",
       "      <th>2022-12-01</th>\n",
       "      <th>2023-03-01</th>\n",
       "      <th>2023-06-01</th>\n",
       "      <th>2023-09-01</th>\n",
       "      <th>2023-12-01</th>\n",
       "      <th>2024-03-01</th>\n",
       "    </tr>\n",
       "  </thead>\n",
       "  <tbody>\n",
       "    <tr>\n",
       "      <th>1045</th>\n",
       "      <td>NaN</td>\n",
       "      <td>NaN</td>\n",
       "      <td>NaN</td>\n",
       "      <td>NaN</td>\n",
       "      <td>NaN</td>\n",
       "      <td>NaN</td>\n",
       "      <td>NaN</td>\n",
       "      <td>NaN</td>\n",
       "      <td>NaN</td>\n",
       "      <td>NaN</td>\n",
       "      <td>...</td>\n",
       "      <td>16.280001</td>\n",
       "      <td>16.290001</td>\n",
       "      <td>17.290001</td>\n",
       "      <td>12.930000</td>\n",
       "      <td>13.980000</td>\n",
       "      <td>16.030001</td>\n",
       "      <td>14.700000</td>\n",
       "      <td>14.680000</td>\n",
       "      <td>13.020000</td>\n",
       "      <td>15.660000</td>\n",
       "    </tr>\n",
       "    <tr>\n",
       "      <th>1075</th>\n",
       "      <td>NaN</td>\n",
       "      <td>12.135516</td>\n",
       "      <td>14.311364</td>\n",
       "      <td>13.366533</td>\n",
       "      <td>14.817625</td>\n",
       "      <td>11.747632</td>\n",
       "      <td>13.446538</td>\n",
       "      <td>12.434831</td>\n",
       "      <td>10.970197</td>\n",
       "      <td>9.115800</td>\n",
       "      <td>...</td>\n",
       "      <td>55.224789</td>\n",
       "      <td>60.921352</td>\n",
       "      <td>68.341095</td>\n",
       "      <td>67.808128</td>\n",
       "      <td>70.360054</td>\n",
       "      <td>67.065178</td>\n",
       "      <td>70.373497</td>\n",
       "      <td>71.014015</td>\n",
       "      <td>71.022690</td>\n",
       "      <td>65.187202</td>\n",
       "    </tr>\n",
       "    <tr>\n",
       "      <th>1078</th>\n",
       "      <td>NaN</td>\n",
       "      <td>7.690752</td>\n",
       "      <td>8.442722</td>\n",
       "      <td>9.136696</td>\n",
       "      <td>11.112724</td>\n",
       "      <td>10.697457</td>\n",
       "      <td>10.483979</td>\n",
       "      <td>10.321457</td>\n",
       "      <td>8.819115</td>\n",
       "      <td>8.004331</td>\n",
       "      <td>...</td>\n",
       "      <td>119.187202</td>\n",
       "      <td>111.519905</td>\n",
       "      <td>109.036659</td>\n",
       "      <td>99.775932</td>\n",
       "      <td>103.201340</td>\n",
       "      <td>96.848946</td>\n",
       "      <td>99.253922</td>\n",
       "      <td>99.759033</td>\n",
       "      <td>102.291161</td>\n",
       "      <td>116.250908</td>\n",
       "    </tr>\n",
       "    <tr>\n",
       "      <th>1161</th>\n",
       "      <td>NaN</td>\n",
       "      <td>11.281250</td>\n",
       "      <td>9.625000</td>\n",
       "      <td>7.187500</td>\n",
       "      <td>14.593750</td>\n",
       "      <td>9.156250</td>\n",
       "      <td>9.281250</td>\n",
       "      <td>9.937500</td>\n",
       "      <td>13.750000</td>\n",
       "      <td>20.250000</td>\n",
       "      <td>...</td>\n",
       "      <td>149.110001</td>\n",
       "      <td>113.830002</td>\n",
       "      <td>101.220001</td>\n",
       "      <td>82.330002</td>\n",
       "      <td>77.480003</td>\n",
       "      <td>78.290001</td>\n",
       "      <td>119.470001</td>\n",
       "      <td>109.449997</td>\n",
       "      <td>121.389999</td>\n",
       "      <td>202.639999</td>\n",
       "    </tr>\n",
       "    <tr>\n",
       "      <th>1209</th>\n",
       "      <td>NaN</td>\n",
       "      <td>19.316851</td>\n",
       "      <td>21.759985</td>\n",
       "      <td>15.879885</td>\n",
       "      <td>19.073734</td>\n",
       "      <td>15.943583</td>\n",
       "      <td>21.910118</td>\n",
       "      <td>17.522356</td>\n",
       "      <td>16.509634</td>\n",
       "      <td>13.350645</td>\n",
       "      <td>...</td>\n",
       "      <td>262.688538</td>\n",
       "      <td>213.581772</td>\n",
       "      <td>227.060440</td>\n",
       "      <td>234.675720</td>\n",
       "      <td>294.974731</td>\n",
       "      <td>273.939209</td>\n",
       "      <td>261.215149</td>\n",
       "      <td>286.679657</td>\n",
       "      <td>263.875183</td>\n",
       "      <td>229.880035</td>\n",
       "    </tr>\n",
       "    <tr>\n",
       "      <th>...</th>\n",
       "      <td>...</td>\n",
       "      <td>...</td>\n",
       "      <td>...</td>\n",
       "      <td>...</td>\n",
       "      <td>...</td>\n",
       "      <td>...</td>\n",
       "      <td>...</td>\n",
       "      <td>...</td>\n",
       "      <td>...</td>\n",
       "      <td>...</td>\n",
       "      <td>...</td>\n",
       "      <td>...</td>\n",
       "      <td>...</td>\n",
       "      <td>...</td>\n",
       "      <td>...</td>\n",
       "      <td>...</td>\n",
       "      <td>...</td>\n",
       "      <td>...</td>\n",
       "      <td>...</td>\n",
       "      <td>...</td>\n",
       "      <td>...</td>\n",
       "    </tr>\n",
       "    <tr>\n",
       "      <th>294524</th>\n",
       "      <td>NaN</td>\n",
       "      <td>NaN</td>\n",
       "      <td>NaN</td>\n",
       "      <td>NaN</td>\n",
       "      <td>NaN</td>\n",
       "      <td>NaN</td>\n",
       "      <td>NaN</td>\n",
       "      <td>NaN</td>\n",
       "      <td>NaN</td>\n",
       "      <td>NaN</td>\n",
       "      <td>...</td>\n",
       "      <td>68.954109</td>\n",
       "      <td>76.187973</td>\n",
       "      <td>94.292084</td>\n",
       "      <td>72.438545</td>\n",
       "      <td>75.924255</td>\n",
       "      <td>87.442062</td>\n",
       "      <td>79.818817</td>\n",
       "      <td>94.209686</td>\n",
       "      <td>90.294510</td>\n",
       "      <td>95.216087</td>\n",
       "    </tr>\n",
       "    <tr>\n",
       "      <th>312009</th>\n",
       "      <td>NaN</td>\n",
       "      <td>NaN</td>\n",
       "      <td>NaN</td>\n",
       "      <td>NaN</td>\n",
       "      <td>NaN</td>\n",
       "      <td>NaN</td>\n",
       "      <td>NaN</td>\n",
       "      <td>NaN</td>\n",
       "      <td>NaN</td>\n",
       "      <td>NaN</td>\n",
       "      <td>...</td>\n",
       "      <td>4.983839</td>\n",
       "      <td>7.409670</td>\n",
       "      <td>7.868402</td>\n",
       "      <td>9.065766</td>\n",
       "      <td>10.765805</td>\n",
       "      <td>14.564113</td>\n",
       "      <td>12.180532</td>\n",
       "      <td>15.303938</td>\n",
       "      <td>18.491840</td>\n",
       "      <td>21.097977</td>\n",
       "    </tr>\n",
       "    <tr>\n",
       "      <th>316056</th>\n",
       "      <td>NaN</td>\n",
       "      <td>NaN</td>\n",
       "      <td>NaN</td>\n",
       "      <td>NaN</td>\n",
       "      <td>NaN</td>\n",
       "      <td>NaN</td>\n",
       "      <td>NaN</td>\n",
       "      <td>NaN</td>\n",
       "      <td>NaN</td>\n",
       "      <td>NaN</td>\n",
       "      <td>...</td>\n",
       "      <td>117.749786</td>\n",
       "      <td>110.226212</td>\n",
       "      <td>107.938713</td>\n",
       "      <td>92.766258</td>\n",
       "      <td>111.007080</td>\n",
       "      <td>109.401260</td>\n",
       "      <td>102.390770</td>\n",
       "      <td>112.585030</td>\n",
       "      <td>107.092667</td>\n",
       "      <td>125.412460</td>\n",
       "    </tr>\n",
       "    <tr>\n",
       "      <th>322985</th>\n",
       "      <td>NaN</td>\n",
       "      <td>NaN</td>\n",
       "      <td>NaN</td>\n",
       "      <td>NaN</td>\n",
       "      <td>NaN</td>\n",
       "      <td>NaN</td>\n",
       "      <td>NaN</td>\n",
       "      <td>NaN</td>\n",
       "      <td>NaN</td>\n",
       "      <td>NaN</td>\n",
       "      <td>...</td>\n",
       "      <td>NaN</td>\n",
       "      <td>NaN</td>\n",
       "      <td>NaN</td>\n",
       "      <td>NaN</td>\n",
       "      <td>NaN</td>\n",
       "      <td>NaN</td>\n",
       "      <td>NaN</td>\n",
       "      <td>NaN</td>\n",
       "      <td>NaN</td>\n",
       "      <td>11.751506</td>\n",
       "    </tr>\n",
       "    <tr>\n",
       "      <th>327675</th>\n",
       "      <td>NaN</td>\n",
       "      <td>NaN</td>\n",
       "      <td>NaN</td>\n",
       "      <td>NaN</td>\n",
       "      <td>NaN</td>\n",
       "      <td>NaN</td>\n",
       "      <td>NaN</td>\n",
       "      <td>NaN</td>\n",
       "      <td>NaN</td>\n",
       "      <td>NaN</td>\n",
       "      <td>...</td>\n",
       "      <td>NaN</td>\n",
       "      <td>NaN</td>\n",
       "      <td>NaN</td>\n",
       "      <td>NaN</td>\n",
       "      <td>NaN</td>\n",
       "      <td>NaN</td>\n",
       "      <td>NaN</td>\n",
       "      <td>NaN</td>\n",
       "      <td>NaN</td>\n",
       "      <td>26.618521</td>\n",
       "    </tr>\n",
       "  </tbody>\n",
       "</table>\n",
       "<p>687 rows × 77 columns</p>\n",
       "</div>"
      ],
      "text/plain": [
       "        1996-03-01  1997-12-01  1998-06-01  1998-09-01  1998-12-01  \\\n",
       "1045           NaN         NaN         NaN         NaN         NaN   \n",
       "1075           NaN   12.135516   14.311364   13.366533   14.817625   \n",
       "1078           NaN    7.690752    8.442722    9.136696   11.112724   \n",
       "1161           NaN   11.281250    9.625000    7.187500   14.593750   \n",
       "1209           NaN   19.316851   21.759985   15.879885   19.073734   \n",
       "...            ...         ...         ...         ...         ...   \n",
       "294524         NaN         NaN         NaN         NaN         NaN   \n",
       "312009         NaN         NaN         NaN         NaN         NaN   \n",
       "316056         NaN         NaN         NaN         NaN         NaN   \n",
       "322985         NaN         NaN         NaN         NaN         NaN   \n",
       "327675         NaN         NaN         NaN         NaN         NaN   \n",
       "\n",
       "        1999-03-01  1999-06-01  1999-09-01  1999-12-01  2000-03-01  ...  \\\n",
       "1045           NaN         NaN         NaN         NaN         NaN  ...   \n",
       "1075     11.747632   13.446538   12.434831   10.970197    9.115800  ...   \n",
       "1078     10.697457   10.483979   10.321457    8.819115    8.004331  ...   \n",
       "1161      9.156250    9.281250    9.937500   13.750000   20.250000  ...   \n",
       "1209     15.943583   21.910118   17.522356   16.509634   13.350645  ...   \n",
       "...            ...         ...         ...         ...         ...  ...   \n",
       "294524         NaN         NaN         NaN         NaN         NaN  ...   \n",
       "312009         NaN         NaN         NaN         NaN         NaN  ...   \n",
       "316056         NaN         NaN         NaN         NaN         NaN  ...   \n",
       "322985         NaN         NaN         NaN         NaN         NaN  ...   \n",
       "327675         NaN         NaN         NaN         NaN         NaN  ...   \n",
       "\n",
       "        2021-12-01  2022-03-01  2022-06-01  2022-09-01  2022-12-01  \\\n",
       "1045     16.280001   16.290001   17.290001   12.930000   13.980000   \n",
       "1075     55.224789   60.921352   68.341095   67.808128   70.360054   \n",
       "1078    119.187202  111.519905  109.036659   99.775932  103.201340   \n",
       "1161    149.110001  113.830002  101.220001   82.330002   77.480003   \n",
       "1209    262.688538  213.581772  227.060440  234.675720  294.974731   \n",
       "...            ...         ...         ...         ...         ...   \n",
       "294524   68.954109   76.187973   94.292084   72.438545   75.924255   \n",
       "312009    4.983839    7.409670    7.868402    9.065766   10.765805   \n",
       "316056  117.749786  110.226212  107.938713   92.766258  111.007080   \n",
       "322985         NaN         NaN         NaN         NaN         NaN   \n",
       "327675         NaN         NaN         NaN         NaN         NaN   \n",
       "\n",
       "        2023-03-01  2023-06-01  2023-09-01  2023-12-01  2024-03-01  \n",
       "1045     16.030001   14.700000   14.680000   13.020000   15.660000  \n",
       "1075     67.065178   70.373497   71.014015   71.022690   65.187202  \n",
       "1078     96.848946   99.253922   99.759033  102.291161  116.250908  \n",
       "1161     78.290001  119.470001  109.449997  121.389999  202.639999  \n",
       "1209    273.939209  261.215149  286.679657  263.875183  229.880035  \n",
       "...            ...         ...         ...         ...         ...  \n",
       "294524   87.442062   79.818817   94.209686   90.294510   95.216087  \n",
       "312009   14.564113   12.180532   15.303938   18.491840   21.097977  \n",
       "316056  109.401260  102.390770  112.585030  107.092667  125.412460  \n",
       "322985         NaN         NaN         NaN         NaN   11.751506  \n",
       "327675         NaN         NaN         NaN         NaN   26.618521  \n",
       "\n",
       "[687 rows x 77 columns]"
      ]
     },
     "execution_count": 131,
     "metadata": {},
     "output_type": "execute_result"
    }
   ],
   "source": [
    "balance_daily"
   ]
  },
  {
   "cell_type": "markdown",
   "metadata": {},
   "source": [
    "# 2. Function: calculate the rebalance matrix:"
   ]
  },
  {
   "cell_type": "markdown",
   "metadata": {},
   "source": [
    "1. shares table\n",
    "2. cost table\n",
    "3. cash table\n",
    "4. portfolio table\n",
    "5. portfolio_cost table\n",
    "6. portfolio_return table\n",
    "7. portfolio_cumsum table"
   ]
  },
  {
   "cell_type": "code",
   "execution_count": 132,
   "metadata": {
    "collapsed": true
   },
   "outputs": [],
   "source": [
    "# set initial capital to 1 million and transaction percet to 0.1%\n",
    "\n",
    "capital = 1000000\n",
    "transaction_percent = 1/1000"
   ]
  },
  {
   "cell_type": "code",
   "execution_count": 133,
   "metadata": {},
   "outputs": [
    {
     "data": {
      "text/plain": [
       "(9851, 5)"
      ]
     },
     "execution_count": 133,
     "metadata": {},
     "output_type": "execute_result"
    }
   ],
   "source": [
    "weight_meanv.shape"
   ]
  },
  {
   "cell_type": "code",
   "execution_count": 134,
   "metadata": {
    "collapsed": true
   },
   "outputs": [],
   "source": [
    "#construct an empty matrix\n",
    "#rows are stocks: 971 unique stocks\n",
    "#columns are trade dates\n",
    "#name the index as stock names\n",
    "\n",
    "def cal_portfolio(stocks_name,tradedate, weight_table, capital, transaction_percent):\n",
    "\n",
    "\n",
    "    balance_weight = pd.DataFrame(index = stocks_name, columns = tradedate)\n",
    "    balance_weight = balance_weight.fillna(0)\n",
    "    \n",
    "    #loop through the weights table to fill the matrix\n",
    "    #need weight tabele\n",
    "    #0. weights table\n",
    "    for i in range(weight_table.shape[0]):\n",
    "        tics = weight_table.loc[i, 'gvkey']\n",
    "        date = weight_table.loc[i, 'trade_date']\n",
    "        w = weight_table.loc[i, 'weights']\n",
    "        balance_weight.loc[tics, date] = w\n",
    "        \n",
    "    #1. shares table\n",
    "    balance_share = pd.DataFrame(index = stocks_name, columns = tradedate)\n",
    "    balance_share['initial'] = 0\n",
    "    balance_share = balance_share.fillna(0)\n",
    "    #2. costs table\n",
    "    balance_cost = pd.DataFrame(index = stocks_name, columns = tradedate)\n",
    "    balance_cost = balance_cost.fillna(0)\n",
    "    #3. cash table\n",
    "    balance_cash = pd.DataFrame(index = stocks_name, columns = tradedate)\n",
    "    balance_cash = balance_cash.fillna(0)\n",
    "\n",
    "    #4. portfolio without transaction costs table \n",
    "    portfolio = pd.DataFrame(index = range(1), columns = tradedate_full)\n",
    "    portfolio.loc[0,tradedate[0]] = capital\n",
    "    \n",
    "    \n",
    "    # calculate portfolio value without cost\n",
    "    balance_price_full = []\n",
    "    balance_price_full = balance_daily[tradedate_full]\n",
    "    balance_price = balance_daily[tradedate]\n",
    "    balance_price.replace([0, np.inf, -np.inf], np.nan, inplace=True)\n",
    "    for j in range(len(tradedate) - 1):\n",
    "        i = tradedate[j]\n",
    "        #current capital\n",
    "        cap = portfolio.loc[0, i]\n",
    "        #\n",
    "        balance_cash[i] = cap * balance_weight[i]\n",
    "        balance_share[i] = list(np.array(balance_cash[i])\n",
    "                                      / np.array(balance_price[i]))\n",
    "        balance_share[i] = balance_share[i].fillna(0)\n",
    "        balance_share[i] = balance_share[i].astype(int)\n",
    "        #next quarter price * current share to calculate next quarter total account value\n",
    "        a = balance_price_full[tradedate_full[j+1]].fillna(0)\n",
    "        portfolio.loc[0, tradedate_full[j+1]] = np.dot(balance_share[i], a)\n",
    "\n",
    "    balance_cost = abs(np.diff(balance_share, axis = 1))\n",
    "    balance_cost = balance_cost * balance_price\n",
    "    balance_cost = np.sum(balance_cost, axis = 0) * transaction_percent\n",
    "    \n",
    "    #5. portfolio with transaction cost table\n",
    "    #calcualte portolio value with transaction cost\n",
    "    balance_cost.index = tradedate_full\n",
    "    portfolio_cost = []\n",
    "    portfolio_cost = portfolio.loc[0,] - balance_cost\n",
    "    portfolio_cost.index = tradedate_full\n",
    "    portfolio_cost_value = portfolio_cost.copy()\n",
    "    \n",
    "    #6. portfolio return P&L table\n",
    "    portfolio_cumsum = portfolio_cost_value.copy()\n",
    "    portfolio_cumsum.index = range(len(portfolio_cumsum))\n",
    "    tmp = portfolio_cumsum.shift(1)\n",
    "    tmp[0] = 0\n",
    "    tmp.index = tradedate_full\n",
    "\n",
    "    portfolio_cumsum = portfolio_cost_value- tmp\n",
    "    portfolio_cumsum.index = range(len(portfolio_cumsum))\n",
    "    tmp.index = range(len(tmp))\n",
    "    for i in range(len(portfolio_cumsum)):\n",
    "        if(tmp[i] != 0):\n",
    "            portfolio_cumsum[i] = portfolio_cumsum[i]/tmp[i]\n",
    "\n",
    "    portfolio_cumsum.index = range(len(portfolio_cumsum))\n",
    "    portfolio_cumsum[0] = 0\n",
    "    portfolio_return=portfolio_cumsum.copy()\n",
    "\n",
    "\n",
    "\n",
    "    # 7. portfolio accumulative return table\n",
    "    initial = 0\n",
    "    for i in range(portfolio_cumsum.shape[0]):\n",
    "        portfolio_cumsum[i] = initial + portfolio_cumsum[i]\n",
    "        initial = portfolio_cumsum[i]\n",
    "    \n",
    "    #1. shares table\n",
    "    #2. costs table\n",
    "    #3. cash table\n",
    "    #4. portfolio without transaction costs table \n",
    "    #5. portfolio with transaction cost table\n",
    "    #6. portfolio return P&L table\n",
    "    #7. portfolio accumulative return table\n",
    "\n",
    "    return(balance_share,\n",
    "           balance_cost,\n",
    "           balance_cash,\n",
    "           portfolio,\n",
    "           portfolio_cost,\n",
    "           portfolio_return,\n",
    "           portfolio_cumsum)\n"
   ]
  },
  {
   "cell_type": "code",
   "execution_count": 135,
   "metadata": {},
   "outputs": [
    {
     "name": "stderr",
     "output_type": "stream",
     "text": [
      "C:\\Users\\misss\\AppData\\Local\\Temp\\ipykernel_33052\\1845856610.py:10: FutureWarning:\n",
      "\n",
      "Downcasting object dtype arrays on .fillna, .ffill, .bfill is deprecated and will change in a future version. Call result.infer_objects(copy=False) instead. To opt-in to the future behavior, set `pd.set_option('future.no_silent_downcasting', True)`\n",
      "\n",
      "C:\\Users\\misss\\AppData\\Local\\Temp\\ipykernel_33052\\1845856610.py:19: FutureWarning:\n",
      "\n",
      "Setting an item of incompatible dtype is deprecated and will raise an error in a future version of pandas. Value '0.00699' has dtype incompatible with int64, please explicitly cast to a compatible dtype first.\n",
      "\n",
      "C:\\Users\\misss\\AppData\\Local\\Temp\\ipykernel_33052\\1845856610.py:19: FutureWarning:\n",
      "\n",
      "Setting an item of incompatible dtype is deprecated and will raise an error in a future version of pandas. Value '0.00654' has dtype incompatible with int64, please explicitly cast to a compatible dtype first.\n",
      "\n",
      "C:\\Users\\misss\\AppData\\Local\\Temp\\ipykernel_33052\\1845856610.py:19: FutureWarning:\n",
      "\n",
      "Setting an item of incompatible dtype is deprecated and will raise an error in a future version of pandas. Value '0.01565' has dtype incompatible with int64, please explicitly cast to a compatible dtype first.\n",
      "\n",
      "C:\\Users\\misss\\AppData\\Local\\Temp\\ipykernel_33052\\1845856610.py:19: FutureWarning:\n",
      "\n",
      "Setting an item of incompatible dtype is deprecated and will raise an error in a future version of pandas. Value '0.00207' has dtype incompatible with int64, please explicitly cast to a compatible dtype first.\n",
      "\n",
      "C:\\Users\\misss\\AppData\\Local\\Temp\\ipykernel_33052\\1845856610.py:19: FutureWarning:\n",
      "\n",
      "Setting an item of incompatible dtype is deprecated and will raise an error in a future version of pandas. Value '0.0061' has dtype incompatible with int64, please explicitly cast to a compatible dtype first.\n",
      "\n",
      "C:\\Users\\misss\\AppData\\Local\\Temp\\ipykernel_33052\\1845856610.py:19: FutureWarning:\n",
      "\n",
      "Setting an item of incompatible dtype is deprecated and will raise an error in a future version of pandas. Value '0.00166' has dtype incompatible with int64, please explicitly cast to a compatible dtype first.\n",
      "\n",
      "C:\\Users\\misss\\AppData\\Local\\Temp\\ipykernel_33052\\1845856610.py:19: FutureWarning:\n",
      "\n",
      "Setting an item of incompatible dtype is deprecated and will raise an error in a future version of pandas. Value '0.0061' has dtype incompatible with int64, please explicitly cast to a compatible dtype first.\n",
      "\n",
      "C:\\Users\\misss\\AppData\\Local\\Temp\\ipykernel_33052\\1845856610.py:19: FutureWarning:\n",
      "\n",
      "Setting an item of incompatible dtype is deprecated and will raise an error in a future version of pandas. Value '0.00609' has dtype incompatible with int64, please explicitly cast to a compatible dtype first.\n",
      "\n",
      "C:\\Users\\misss\\AppData\\Local\\Temp\\ipykernel_33052\\1845856610.py:19: FutureWarning:\n",
      "\n",
      "Setting an item of incompatible dtype is deprecated and will raise an error in a future version of pandas. Value '0.00498' has dtype incompatible with int64, please explicitly cast to a compatible dtype first.\n",
      "\n",
      "C:\\Users\\misss\\AppData\\Local\\Temp\\ipykernel_33052\\1845856610.py:19: FutureWarning:\n",
      "\n",
      "Setting an item of incompatible dtype is deprecated and will raise an error in a future version of pandas. Value '0.00786' has dtype incompatible with int64, please explicitly cast to a compatible dtype first.\n",
      "\n",
      "C:\\Users\\misss\\AppData\\Local\\Temp\\ipykernel_33052\\1845856610.py:19: FutureWarning:\n",
      "\n",
      "Setting an item of incompatible dtype is deprecated and will raise an error in a future version of pandas. Value '0.00219' has dtype incompatible with int64, please explicitly cast to a compatible dtype first.\n",
      "\n",
      "C:\\Users\\misss\\AppData\\Local\\Temp\\ipykernel_33052\\1845856610.py:19: FutureWarning:\n",
      "\n",
      "Setting an item of incompatible dtype is deprecated and will raise an error in a future version of pandas. Value '0.00384' has dtype incompatible with int64, please explicitly cast to a compatible dtype first.\n",
      "\n",
      "C:\\Users\\misss\\AppData\\Local\\Temp\\ipykernel_33052\\1845856610.py:19: FutureWarning:\n",
      "\n",
      "Setting an item of incompatible dtype is deprecated and will raise an error in a future version of pandas. Value '0.0006' has dtype incompatible with int64, please explicitly cast to a compatible dtype first.\n",
      "\n",
      "C:\\Users\\misss\\AppData\\Local\\Temp\\ipykernel_33052\\1845856610.py:19: FutureWarning:\n",
      "\n",
      "Setting an item of incompatible dtype is deprecated and will raise an error in a future version of pandas. Value '0.00761' has dtype incompatible with int64, please explicitly cast to a compatible dtype first.\n",
      "\n",
      "C:\\Users\\misss\\AppData\\Local\\Temp\\ipykernel_33052\\1845856610.py:19: FutureWarning:\n",
      "\n",
      "Setting an item of incompatible dtype is deprecated and will raise an error in a future version of pandas. Value '0.00302' has dtype incompatible with int64, please explicitly cast to a compatible dtype first.\n",
      "\n",
      "C:\\Users\\misss\\AppData\\Local\\Temp\\ipykernel_33052\\1845856610.py:19: FutureWarning:\n",
      "\n",
      "Setting an item of incompatible dtype is deprecated and will raise an error in a future version of pandas. Value '0.00167' has dtype incompatible with int64, please explicitly cast to a compatible dtype first.\n",
      "\n",
      "C:\\Users\\misss\\AppData\\Local\\Temp\\ipykernel_33052\\1845856610.py:19: FutureWarning:\n",
      "\n",
      "Setting an item of incompatible dtype is deprecated and will raise an error in a future version of pandas. Value '0.00768' has dtype incompatible with int64, please explicitly cast to a compatible dtype first.\n",
      "\n",
      "C:\\Users\\misss\\AppData\\Local\\Temp\\ipykernel_33052\\1845856610.py:19: FutureWarning:\n",
      "\n",
      "Setting an item of incompatible dtype is deprecated and will raise an error in a future version of pandas. Value '0.01374' has dtype incompatible with int64, please explicitly cast to a compatible dtype first.\n",
      "\n",
      "C:\\Users\\misss\\AppData\\Local\\Temp\\ipykernel_33052\\1845856610.py:19: FutureWarning:\n",
      "\n",
      "Setting an item of incompatible dtype is deprecated and will raise an error in a future version of pandas. Value '0.00587' has dtype incompatible with int64, please explicitly cast to a compatible dtype first.\n",
      "\n",
      "C:\\Users\\misss\\AppData\\Local\\Temp\\ipykernel_33052\\1845856610.py:19: FutureWarning:\n",
      "\n",
      "Setting an item of incompatible dtype is deprecated and will raise an error in a future version of pandas. Value '0.00276' has dtype incompatible with int64, please explicitly cast to a compatible dtype first.\n",
      "\n",
      "C:\\Users\\misss\\AppData\\Local\\Temp\\ipykernel_33052\\1845856610.py:19: FutureWarning:\n",
      "\n",
      "Setting an item of incompatible dtype is deprecated and will raise an error in a future version of pandas. Value '0.00211' has dtype incompatible with int64, please explicitly cast to a compatible dtype first.\n",
      "\n",
      "C:\\Users\\misss\\AppData\\Local\\Temp\\ipykernel_33052\\1845856610.py:19: FutureWarning:\n",
      "\n",
      "Setting an item of incompatible dtype is deprecated and will raise an error in a future version of pandas. Value '0.00534' has dtype incompatible with int64, please explicitly cast to a compatible dtype first.\n",
      "\n",
      "C:\\Users\\misss\\AppData\\Local\\Temp\\ipykernel_33052\\1845856610.py:19: FutureWarning:\n",
      "\n",
      "Setting an item of incompatible dtype is deprecated and will raise an error in a future version of pandas. Value '0.00679' has dtype incompatible with int64, please explicitly cast to a compatible dtype first.\n",
      "\n",
      "C:\\Users\\misss\\AppData\\Local\\Temp\\ipykernel_33052\\1845856610.py:19: FutureWarning:\n",
      "\n",
      "Setting an item of incompatible dtype is deprecated and will raise an error in a future version of pandas. Value '0.00384' has dtype incompatible with int64, please explicitly cast to a compatible dtype first.\n",
      "\n",
      "C:\\Users\\misss\\AppData\\Local\\Temp\\ipykernel_33052\\1845856610.py:19: FutureWarning:\n",
      "\n",
      "Setting an item of incompatible dtype is deprecated and will raise an error in a future version of pandas. Value '0.00571' has dtype incompatible with int64, please explicitly cast to a compatible dtype first.\n",
      "\n",
      "C:\\Users\\misss\\AppData\\Local\\Temp\\ipykernel_33052\\1845856610.py:19: FutureWarning:\n",
      "\n",
      "Setting an item of incompatible dtype is deprecated and will raise an error in a future version of pandas. Value '0.00059' has dtype incompatible with int64, please explicitly cast to a compatible dtype first.\n",
      "\n",
      "C:\\Users\\misss\\AppData\\Local\\Temp\\ipykernel_33052\\1845856610.py:19: FutureWarning:\n",
      "\n",
      "Setting an item of incompatible dtype is deprecated and will raise an error in a future version of pandas. Value '0.00066' has dtype incompatible with int64, please explicitly cast to a compatible dtype first.\n",
      "\n",
      "C:\\Users\\misss\\AppData\\Local\\Temp\\ipykernel_33052\\1845856610.py:19: FutureWarning:\n",
      "\n",
      "Setting an item of incompatible dtype is deprecated and will raise an error in a future version of pandas. Value '0.00145' has dtype incompatible with int64, please explicitly cast to a compatible dtype first.\n",
      "\n",
      "C:\\Users\\misss\\AppData\\Local\\Temp\\ipykernel_33052\\1845856610.py:19: FutureWarning:\n",
      "\n",
      "Setting an item of incompatible dtype is deprecated and will raise an error in a future version of pandas. Value '0.00463' has dtype incompatible with int64, please explicitly cast to a compatible dtype first.\n",
      "\n",
      "C:\\Users\\misss\\AppData\\Local\\Temp\\ipykernel_33052\\1845856610.py:19: FutureWarning:\n",
      "\n",
      "Setting an item of incompatible dtype is deprecated and will raise an error in a future version of pandas. Value '0.00092' has dtype incompatible with int64, please explicitly cast to a compatible dtype first.\n",
      "\n",
      "C:\\Users\\misss\\AppData\\Local\\Temp\\ipykernel_33052\\1845856610.py:19: FutureWarning:\n",
      "\n",
      "Setting an item of incompatible dtype is deprecated and will raise an error in a future version of pandas. Value '0.0052' has dtype incompatible with int64, please explicitly cast to a compatible dtype first.\n",
      "\n",
      "C:\\Users\\misss\\AppData\\Local\\Temp\\ipykernel_33052\\1845856610.py:19: FutureWarning:\n",
      "\n",
      "Setting an item of incompatible dtype is deprecated and will raise an error in a future version of pandas. Value '0.00379' has dtype incompatible with int64, please explicitly cast to a compatible dtype first.\n",
      "\n",
      "C:\\Users\\misss\\AppData\\Local\\Temp\\ipykernel_33052\\1845856610.py:19: FutureWarning:\n",
      "\n",
      "Setting an item of incompatible dtype is deprecated and will raise an error in a future version of pandas. Value '0.00544' has dtype incompatible with int64, please explicitly cast to a compatible dtype first.\n",
      "\n",
      "C:\\Users\\misss\\AppData\\Local\\Temp\\ipykernel_33052\\1845856610.py:19: FutureWarning:\n",
      "\n",
      "Setting an item of incompatible dtype is deprecated and will raise an error in a future version of pandas. Value '0.00062' has dtype incompatible with int64, please explicitly cast to a compatible dtype first.\n",
      "\n",
      "C:\\Users\\misss\\AppData\\Local\\Temp\\ipykernel_33052\\1845856610.py:19: FutureWarning:\n",
      "\n",
      "Setting an item of incompatible dtype is deprecated and will raise an error in a future version of pandas. Value '0.01726' has dtype incompatible with int64, please explicitly cast to a compatible dtype first.\n",
      "\n",
      "C:\\Users\\misss\\AppData\\Local\\Temp\\ipykernel_33052\\1845856610.py:19: FutureWarning:\n",
      "\n",
      "Setting an item of incompatible dtype is deprecated and will raise an error in a future version of pandas. Value '0.01358' has dtype incompatible with int64, please explicitly cast to a compatible dtype first.\n",
      "\n",
      "C:\\Users\\misss\\AppData\\Local\\Temp\\ipykernel_33052\\1845856610.py:19: FutureWarning:\n",
      "\n",
      "Setting an item of incompatible dtype is deprecated and will raise an error in a future version of pandas. Value '0.00879' has dtype incompatible with int64, please explicitly cast to a compatible dtype first.\n",
      "\n",
      "C:\\Users\\misss\\AppData\\Local\\Temp\\ipykernel_33052\\1845856610.py:19: FutureWarning:\n",
      "\n",
      "Setting an item of incompatible dtype is deprecated and will raise an error in a future version of pandas. Value '0.008' has dtype incompatible with int64, please explicitly cast to a compatible dtype first.\n",
      "\n",
      "C:\\Users\\misss\\AppData\\Local\\Temp\\ipykernel_33052\\1845856610.py:19: FutureWarning:\n",
      "\n",
      "Setting an item of incompatible dtype is deprecated and will raise an error in a future version of pandas. Value '0.00858' has dtype incompatible with int64, please explicitly cast to a compatible dtype first.\n",
      "\n",
      "C:\\Users\\misss\\AppData\\Local\\Temp\\ipykernel_33052\\1845856610.py:19: FutureWarning:\n",
      "\n",
      "Setting an item of incompatible dtype is deprecated and will raise an error in a future version of pandas. Value '0.00758' has dtype incompatible with int64, please explicitly cast to a compatible dtype first.\n",
      "\n",
      "C:\\Users\\misss\\AppData\\Local\\Temp\\ipykernel_33052\\1845856610.py:19: FutureWarning:\n",
      "\n",
      "Setting an item of incompatible dtype is deprecated and will raise an error in a future version of pandas. Value '0.00417' has dtype incompatible with int64, please explicitly cast to a compatible dtype first.\n",
      "\n",
      "C:\\Users\\misss\\AppData\\Local\\Temp\\ipykernel_33052\\1845856610.py:19: FutureWarning:\n",
      "\n",
      "Setting an item of incompatible dtype is deprecated and will raise an error in a future version of pandas. Value '0.00719' has dtype incompatible with int64, please explicitly cast to a compatible dtype first.\n",
      "\n",
      "C:\\Users\\misss\\AppData\\Local\\Temp\\ipykernel_33052\\1845856610.py:19: FutureWarning:\n",
      "\n",
      "Setting an item of incompatible dtype is deprecated and will raise an error in a future version of pandas. Value '0.00641' has dtype incompatible with int64, please explicitly cast to a compatible dtype first.\n",
      "\n",
      "C:\\Users\\misss\\AppData\\Local\\Temp\\ipykernel_33052\\1845856610.py:19: FutureWarning:\n",
      "\n",
      "Setting an item of incompatible dtype is deprecated and will raise an error in a future version of pandas. Value '0.00725' has dtype incompatible with int64, please explicitly cast to a compatible dtype first.\n",
      "\n",
      "C:\\Users\\misss\\AppData\\Local\\Temp\\ipykernel_33052\\1845856610.py:19: FutureWarning:\n",
      "\n",
      "Setting an item of incompatible dtype is deprecated and will raise an error in a future version of pandas. Value '0.00641' has dtype incompatible with int64, please explicitly cast to a compatible dtype first.\n",
      "\n",
      "C:\\Users\\misss\\AppData\\Local\\Temp\\ipykernel_33052\\1845856610.py:19: FutureWarning:\n",
      "\n",
      "Setting an item of incompatible dtype is deprecated and will raise an error in a future version of pandas. Value '0.00171' has dtype incompatible with int64, please explicitly cast to a compatible dtype first.\n",
      "\n",
      "C:\\Users\\misss\\AppData\\Local\\Temp\\ipykernel_33052\\1845856610.py:19: FutureWarning:\n",
      "\n",
      "Setting an item of incompatible dtype is deprecated and will raise an error in a future version of pandas. Value '0.00678' has dtype incompatible with int64, please explicitly cast to a compatible dtype first.\n",
      "\n",
      "C:\\Users\\misss\\AppData\\Local\\Temp\\ipykernel_33052\\1845856610.py:19: FutureWarning:\n",
      "\n",
      "Setting an item of incompatible dtype is deprecated and will raise an error in a future version of pandas. Value '0.00856' has dtype incompatible with int64, please explicitly cast to a compatible dtype first.\n",
      "\n",
      "C:\\Users\\misss\\AppData\\Local\\Temp\\ipykernel_33052\\1845856610.py:19: FutureWarning:\n",
      "\n",
      "Setting an item of incompatible dtype is deprecated and will raise an error in a future version of pandas. Value '0.00665' has dtype incompatible with int64, please explicitly cast to a compatible dtype first.\n",
      "\n",
      "C:\\Users\\misss\\AppData\\Local\\Temp\\ipykernel_33052\\1845856610.py:19: FutureWarning:\n",
      "\n",
      "Setting an item of incompatible dtype is deprecated and will raise an error in a future version of pandas. Value '0.00849' has dtype incompatible with int64, please explicitly cast to a compatible dtype first.\n",
      "\n",
      "C:\\Users\\misss\\AppData\\Local\\Temp\\ipykernel_33052\\1845856610.py:19: FutureWarning:\n",
      "\n",
      "Setting an item of incompatible dtype is deprecated and will raise an error in a future version of pandas. Value '0.00515' has dtype incompatible with int64, please explicitly cast to a compatible dtype first.\n",
      "\n",
      "C:\\Users\\misss\\AppData\\Local\\Temp\\ipykernel_33052\\1845856610.py:19: FutureWarning:\n",
      "\n",
      "Setting an item of incompatible dtype is deprecated and will raise an error in a future version of pandas. Value '0.00958' has dtype incompatible with int64, please explicitly cast to a compatible dtype first.\n",
      "\n",
      "C:\\Users\\misss\\AppData\\Local\\Temp\\ipykernel_33052\\1845856610.py:19: FutureWarning:\n",
      "\n",
      "Setting an item of incompatible dtype is deprecated and will raise an error in a future version of pandas. Value '0.00662' has dtype incompatible with int64, please explicitly cast to a compatible dtype first.\n",
      "\n",
      "C:\\Users\\misss\\AppData\\Local\\Temp\\ipykernel_33052\\1845856610.py:19: FutureWarning:\n",
      "\n",
      "Setting an item of incompatible dtype is deprecated and will raise an error in a future version of pandas. Value '0.00676' has dtype incompatible with int64, please explicitly cast to a compatible dtype first.\n",
      "\n",
      "C:\\Users\\misss\\AppData\\Local\\Temp\\ipykernel_33052\\1845856610.py:19: FutureWarning:\n",
      "\n",
      "Setting an item of incompatible dtype is deprecated and will raise an error in a future version of pandas. Value '0.0068' has dtype incompatible with int64, please explicitly cast to a compatible dtype first.\n",
      "\n",
      "C:\\Users\\misss\\AppData\\Local\\Temp\\ipykernel_33052\\1845856610.py:24: FutureWarning:\n",
      "\n",
      "Downcasting object dtype arrays on .fillna, .ffill, .bfill is deprecated and will change in a future version. Call result.infer_objects(copy=False) instead. To opt-in to the future behavior, set `pd.set_option('future.no_silent_downcasting', True)`\n",
      "\n",
      "C:\\Users\\misss\\AppData\\Local\\Temp\\ipykernel_33052\\1845856610.py:27: FutureWarning:\n",
      "\n",
      "Downcasting object dtype arrays on .fillna, .ffill, .bfill is deprecated and will change in a future version. Call result.infer_objects(copy=False) instead. To opt-in to the future behavior, set `pd.set_option('future.no_silent_downcasting', True)`\n",
      "\n",
      "C:\\Users\\misss\\AppData\\Local\\Temp\\ipykernel_33052\\1845856610.py:30: FutureWarning:\n",
      "\n",
      "Downcasting object dtype arrays on .fillna, .ffill, .bfill is deprecated and will change in a future version. Call result.infer_objects(copy=False) instead. To opt-in to the future behavior, set `pd.set_option('future.no_silent_downcasting', True)`\n",
      "\n",
      "C:\\Users\\misss\\AppData\\Local\\Temp\\ipykernel_33052\\1845856610.py:41: SettingWithCopyWarning:\n",
      "\n",
      "\n",
      "A value is trying to be set on a copy of a slice from a DataFrame\n",
      "\n",
      "See the caveats in the documentation: https://pandas.pydata.org/pandas-docs/stable/user_guide/indexing.html#returning-a-view-versus-a-copy\n",
      "\n"
     ]
    }
   ],
   "source": [
    "#calculate mean variance allocation portolio\n",
    "(balance_share_meanv,\n",
    " balance_cost_meanv,\n",
    " balance_cash_meanv,\n",
    " portfolio_meanv,\n",
    " portfolio_cost_meanv,\n",
    " portfolio_return_meanv,\n",
    " portfolio_cumsum_meanv)=cal_portfolio(stocks_name,tradedate_full, weight_meanv, capital, transaction_percent)\n"
   ]
  },
  {
   "cell_type": "code",
   "execution_count": 136,
   "metadata": {},
   "outputs": [
    {
     "data": {
      "text/plain": [
       "np.float64(3.8780666446516507)"
      ]
     },
     "execution_count": 136,
     "metadata": {},
     "output_type": "execute_result"
    }
   ],
   "source": [
    "sum(portfolio_return_meanv)"
   ]
  },
  {
   "cell_type": "code",
   "execution_count": 137,
   "metadata": {},
   "outputs": [
    {
     "name": "stderr",
     "output_type": "stream",
     "text": [
      "C:\\Users\\misss\\AppData\\Local\\Temp\\ipykernel_33052\\1845856610.py:10: FutureWarning:\n",
      "\n",
      "Downcasting object dtype arrays on .fillna, .ffill, .bfill is deprecated and will change in a future version. Call result.infer_objects(copy=False) instead. To opt-in to the future behavior, set `pd.set_option('future.no_silent_downcasting', True)`\n",
      "\n",
      "C:\\Users\\misss\\AppData\\Local\\Temp\\ipykernel_33052\\1845856610.py:19: FutureWarning:\n",
      "\n",
      "Setting an item of incompatible dtype is deprecated and will raise an error in a future version of pandas. Value '0.00699' has dtype incompatible with int64, please explicitly cast to a compatible dtype first.\n",
      "\n",
      "C:\\Users\\misss\\AppData\\Local\\Temp\\ipykernel_33052\\1845856610.py:19: FutureWarning:\n",
      "\n",
      "Setting an item of incompatible dtype is deprecated and will raise an error in a future version of pandas. Value '0.00654' has dtype incompatible with int64, please explicitly cast to a compatible dtype first.\n",
      "\n",
      "C:\\Users\\misss\\AppData\\Local\\Temp\\ipykernel_33052\\1845856610.py:19: FutureWarning:\n",
      "\n",
      "Setting an item of incompatible dtype is deprecated and will raise an error in a future version of pandas. Value '0.0068' has dtype incompatible with int64, please explicitly cast to a compatible dtype first.\n",
      "\n",
      "C:\\Users\\misss\\AppData\\Local\\Temp\\ipykernel_33052\\1845856610.py:19: FutureWarning:\n",
      "\n",
      "Setting an item of incompatible dtype is deprecated and will raise an error in a future version of pandas. Value '0.0068' has dtype incompatible with int64, please explicitly cast to a compatible dtype first.\n",
      "\n",
      "C:\\Users\\misss\\AppData\\Local\\Temp\\ipykernel_33052\\1845856610.py:19: FutureWarning:\n",
      "\n",
      "Setting an item of incompatible dtype is deprecated and will raise an error in a future version of pandas. Value '0.0061' has dtype incompatible with int64, please explicitly cast to a compatible dtype first.\n",
      "\n",
      "C:\\Users\\misss\\AppData\\Local\\Temp\\ipykernel_33052\\1845856610.py:19: FutureWarning:\n",
      "\n",
      "Setting an item of incompatible dtype is deprecated and will raise an error in a future version of pandas. Value '0.00621' has dtype incompatible with int64, please explicitly cast to a compatible dtype first.\n",
      "\n",
      "C:\\Users\\misss\\AppData\\Local\\Temp\\ipykernel_33052\\1845856610.py:19: FutureWarning:\n",
      "\n",
      "Setting an item of incompatible dtype is deprecated and will raise an error in a future version of pandas. Value '0.0061' has dtype incompatible with int64, please explicitly cast to a compatible dtype first.\n",
      "\n",
      "C:\\Users\\misss\\AppData\\Local\\Temp\\ipykernel_33052\\1845856610.py:19: FutureWarning:\n",
      "\n",
      "Setting an item of incompatible dtype is deprecated and will raise an error in a future version of pandas. Value '0.00588' has dtype incompatible with int64, please explicitly cast to a compatible dtype first.\n",
      "\n",
      "C:\\Users\\misss\\AppData\\Local\\Temp\\ipykernel_33052\\1845856610.py:19: FutureWarning:\n",
      "\n",
      "Setting an item of incompatible dtype is deprecated and will raise an error in a future version of pandas. Value '0.00498' has dtype incompatible with int64, please explicitly cast to a compatible dtype first.\n",
      "\n",
      "C:\\Users\\misss\\AppData\\Local\\Temp\\ipykernel_33052\\1845856610.py:19: FutureWarning:\n",
      "\n",
      "Setting an item of incompatible dtype is deprecated and will raise an error in a future version of pandas. Value '0.00625' has dtype incompatible with int64, please explicitly cast to a compatible dtype first.\n",
      "\n",
      "C:\\Users\\misss\\AppData\\Local\\Temp\\ipykernel_33052\\1845856610.py:19: FutureWarning:\n",
      "\n",
      "Setting an item of incompatible dtype is deprecated and will raise an error in a future version of pandas. Value '0.00541' has dtype incompatible with int64, please explicitly cast to a compatible dtype first.\n",
      "\n",
      "C:\\Users\\misss\\AppData\\Local\\Temp\\ipykernel_33052\\1845856610.py:19: FutureWarning:\n",
      "\n",
      "Setting an item of incompatible dtype is deprecated and will raise an error in a future version of pandas. Value '0.00625' has dtype incompatible with int64, please explicitly cast to a compatible dtype first.\n",
      "\n",
      "C:\\Users\\misss\\AppData\\Local\\Temp\\ipykernel_33052\\1845856610.py:19: FutureWarning:\n",
      "\n",
      "Setting an item of incompatible dtype is deprecated and will raise an error in a future version of pandas. Value '0.00606' has dtype incompatible with int64, please explicitly cast to a compatible dtype first.\n",
      "\n",
      "C:\\Users\\misss\\AppData\\Local\\Temp\\ipykernel_33052\\1845856610.py:19: FutureWarning:\n",
      "\n",
      "Setting an item of incompatible dtype is deprecated and will raise an error in a future version of pandas. Value '0.0051' has dtype incompatible with int64, please explicitly cast to a compatible dtype first.\n",
      "\n",
      "C:\\Users\\misss\\AppData\\Local\\Temp\\ipykernel_33052\\1845856610.py:19: FutureWarning:\n",
      "\n",
      "Setting an item of incompatible dtype is deprecated and will raise an error in a future version of pandas. Value '0.00498' has dtype incompatible with int64, please explicitly cast to a compatible dtype first.\n",
      "\n",
      "C:\\Users\\misss\\AppData\\Local\\Temp\\ipykernel_33052\\1845856610.py:19: FutureWarning:\n",
      "\n",
      "Setting an item of incompatible dtype is deprecated and will raise an error in a future version of pandas. Value '0.00541' has dtype incompatible with int64, please explicitly cast to a compatible dtype first.\n",
      "\n",
      "C:\\Users\\misss\\AppData\\Local\\Temp\\ipykernel_33052\\1845856610.py:19: FutureWarning:\n",
      "\n",
      "Setting an item of incompatible dtype is deprecated and will raise an error in a future version of pandas. Value '0.00546' has dtype incompatible with int64, please explicitly cast to a compatible dtype first.\n",
      "\n",
      "C:\\Users\\misss\\AppData\\Local\\Temp\\ipykernel_33052\\1845856610.py:19: FutureWarning:\n",
      "\n",
      "Setting an item of incompatible dtype is deprecated and will raise an error in a future version of pandas. Value '0.0069' has dtype incompatible with int64, please explicitly cast to a compatible dtype first.\n",
      "\n",
      "C:\\Users\\misss\\AppData\\Local\\Temp\\ipykernel_33052\\1845856610.py:19: FutureWarning:\n",
      "\n",
      "Setting an item of incompatible dtype is deprecated and will raise an error in a future version of pandas. Value '0.00521' has dtype incompatible with int64, please explicitly cast to a compatible dtype first.\n",
      "\n",
      "C:\\Users\\misss\\AppData\\Local\\Temp\\ipykernel_33052\\1845856610.py:19: FutureWarning:\n",
      "\n",
      "Setting an item of incompatible dtype is deprecated and will raise an error in a future version of pandas. Value '0.00592' has dtype incompatible with int64, please explicitly cast to a compatible dtype first.\n",
      "\n",
      "C:\\Users\\misss\\AppData\\Local\\Temp\\ipykernel_33052\\1845856610.py:19: FutureWarning:\n",
      "\n",
      "Setting an item of incompatible dtype is deprecated and will raise an error in a future version of pandas. Value '0.00625' has dtype incompatible with int64, please explicitly cast to a compatible dtype first.\n",
      "\n",
      "C:\\Users\\misss\\AppData\\Local\\Temp\\ipykernel_33052\\1845856610.py:19: FutureWarning:\n",
      "\n",
      "Setting an item of incompatible dtype is deprecated and will raise an error in a future version of pandas. Value '0.00565' has dtype incompatible with int64, please explicitly cast to a compatible dtype first.\n",
      "\n",
      "C:\\Users\\misss\\AppData\\Local\\Temp\\ipykernel_33052\\1845856610.py:19: FutureWarning:\n",
      "\n",
      "Setting an item of incompatible dtype is deprecated and will raise an error in a future version of pandas. Value '0.00671' has dtype incompatible with int64, please explicitly cast to a compatible dtype first.\n",
      "\n",
      "C:\\Users\\misss\\AppData\\Local\\Temp\\ipykernel_33052\\1845856610.py:19: FutureWarning:\n",
      "\n",
      "Setting an item of incompatible dtype is deprecated and will raise an error in a future version of pandas. Value '0.00625' has dtype incompatible with int64, please explicitly cast to a compatible dtype first.\n",
      "\n",
      "C:\\Users\\misss\\AppData\\Local\\Temp\\ipykernel_33052\\1845856610.py:19: FutureWarning:\n",
      "\n",
      "Setting an item of incompatible dtype is deprecated and will raise an error in a future version of pandas. Value '0.00571' has dtype incompatible with int64, please explicitly cast to a compatible dtype first.\n",
      "\n",
      "C:\\Users\\misss\\AppData\\Local\\Temp\\ipykernel_33052\\1845856610.py:19: FutureWarning:\n",
      "\n",
      "Setting an item of incompatible dtype is deprecated and will raise an error in a future version of pandas. Value '0.00602' has dtype incompatible with int64, please explicitly cast to a compatible dtype first.\n",
      "\n",
      "C:\\Users\\misss\\AppData\\Local\\Temp\\ipykernel_33052\\1845856610.py:19: FutureWarning:\n",
      "\n",
      "Setting an item of incompatible dtype is deprecated and will raise an error in a future version of pandas. Value '0.00562' has dtype incompatible with int64, please explicitly cast to a compatible dtype first.\n",
      "\n",
      "C:\\Users\\misss\\AppData\\Local\\Temp\\ipykernel_33052\\1845856610.py:19: FutureWarning:\n",
      "\n",
      "Setting an item of incompatible dtype is deprecated and will raise an error in a future version of pandas. Value '0.00585' has dtype incompatible with int64, please explicitly cast to a compatible dtype first.\n",
      "\n",
      "C:\\Users\\misss\\AppData\\Local\\Temp\\ipykernel_33052\\1845856610.py:19: FutureWarning:\n",
      "\n",
      "Setting an item of incompatible dtype is deprecated and will raise an error in a future version of pandas. Value '0.00562' has dtype incompatible with int64, please explicitly cast to a compatible dtype first.\n",
      "\n",
      "C:\\Users\\misss\\AppData\\Local\\Temp\\ipykernel_33052\\1845856610.py:19: FutureWarning:\n",
      "\n",
      "Setting an item of incompatible dtype is deprecated and will raise an error in a future version of pandas. Value '0.00641' has dtype incompatible with int64, please explicitly cast to a compatible dtype first.\n",
      "\n",
      "C:\\Users\\misss\\AppData\\Local\\Temp\\ipykernel_33052\\1845856610.py:19: FutureWarning:\n",
      "\n",
      "Setting an item of incompatible dtype is deprecated and will raise an error in a future version of pandas. Value '0.00452' has dtype incompatible with int64, please explicitly cast to a compatible dtype first.\n",
      "\n",
      "C:\\Users\\misss\\AppData\\Local\\Temp\\ipykernel_33052\\1845856610.py:19: FutureWarning:\n",
      "\n",
      "Setting an item of incompatible dtype is deprecated and will raise an error in a future version of pandas. Value '0.00508' has dtype incompatible with int64, please explicitly cast to a compatible dtype first.\n",
      "\n",
      "C:\\Users\\misss\\AppData\\Local\\Temp\\ipykernel_33052\\1845856610.py:19: FutureWarning:\n",
      "\n",
      "Setting an item of incompatible dtype is deprecated and will raise an error in a future version of pandas. Value '0.00415' has dtype incompatible with int64, please explicitly cast to a compatible dtype first.\n",
      "\n",
      "C:\\Users\\misss\\AppData\\Local\\Temp\\ipykernel_33052\\1845856610.py:19: FutureWarning:\n",
      "\n",
      "Setting an item of incompatible dtype is deprecated and will raise an error in a future version of pandas. Value '0.0042' has dtype incompatible with int64, please explicitly cast to a compatible dtype first.\n",
      "\n",
      "C:\\Users\\misss\\AppData\\Local\\Temp\\ipykernel_33052\\1845856610.py:19: FutureWarning:\n",
      "\n",
      "Setting an item of incompatible dtype is deprecated and will raise an error in a future version of pandas. Value '0.00459' has dtype incompatible with int64, please explicitly cast to a compatible dtype first.\n",
      "\n",
      "C:\\Users\\misss\\AppData\\Local\\Temp\\ipykernel_33052\\1845856610.py:19: FutureWarning:\n",
      "\n",
      "Setting an item of incompatible dtype is deprecated and will raise an error in a future version of pandas. Value '0.00353' has dtype incompatible with int64, please explicitly cast to a compatible dtype first.\n",
      "\n",
      "C:\\Users\\misss\\AppData\\Local\\Temp\\ipykernel_33052\\1845856610.py:19: FutureWarning:\n",
      "\n",
      "Setting an item of incompatible dtype is deprecated and will raise an error in a future version of pandas. Value '0.00364' has dtype incompatible with int64, please explicitly cast to a compatible dtype first.\n",
      "\n",
      "C:\\Users\\misss\\AppData\\Local\\Temp\\ipykernel_33052\\1845856610.py:19: FutureWarning:\n",
      "\n",
      "Setting an item of incompatible dtype is deprecated and will raise an error in a future version of pandas. Value '0.008' has dtype incompatible with int64, please explicitly cast to a compatible dtype first.\n",
      "\n",
      "C:\\Users\\misss\\AppData\\Local\\Temp\\ipykernel_33052\\1845856610.py:19: FutureWarning:\n",
      "\n",
      "Setting an item of incompatible dtype is deprecated and will raise an error in a future version of pandas. Value '0.00714' has dtype incompatible with int64, please explicitly cast to a compatible dtype first.\n",
      "\n",
      "C:\\Users\\misss\\AppData\\Local\\Temp\\ipykernel_33052\\1845856610.py:19: FutureWarning:\n",
      "\n",
      "Setting an item of incompatible dtype is deprecated and will raise an error in a future version of pandas. Value '0.00758' has dtype incompatible with int64, please explicitly cast to a compatible dtype first.\n",
      "\n",
      "C:\\Users\\misss\\AppData\\Local\\Temp\\ipykernel_33052\\1845856610.py:19: FutureWarning:\n",
      "\n",
      "Setting an item of incompatible dtype is deprecated and will raise an error in a future version of pandas. Value '0.00735' has dtype incompatible with int64, please explicitly cast to a compatible dtype first.\n",
      "\n",
      "C:\\Users\\misss\\AppData\\Local\\Temp\\ipykernel_33052\\1845856610.py:19: FutureWarning:\n",
      "\n",
      "Setting an item of incompatible dtype is deprecated and will raise an error in a future version of pandas. Value '0.00719' has dtype incompatible with int64, please explicitly cast to a compatible dtype first.\n",
      "\n",
      "C:\\Users\\misss\\AppData\\Local\\Temp\\ipykernel_33052\\1845856610.py:19: FutureWarning:\n",
      "\n",
      "Setting an item of incompatible dtype is deprecated and will raise an error in a future version of pandas. Value '0.00641' has dtype incompatible with int64, please explicitly cast to a compatible dtype first.\n",
      "\n",
      "C:\\Users\\misss\\AppData\\Local\\Temp\\ipykernel_33052\\1845856610.py:19: FutureWarning:\n",
      "\n",
      "Setting an item of incompatible dtype is deprecated and will raise an error in a future version of pandas. Value '0.00725' has dtype incompatible with int64, please explicitly cast to a compatible dtype first.\n",
      "\n",
      "C:\\Users\\misss\\AppData\\Local\\Temp\\ipykernel_33052\\1845856610.py:19: FutureWarning:\n",
      "\n",
      "Setting an item of incompatible dtype is deprecated and will raise an error in a future version of pandas. Value '0.00641' has dtype incompatible with int64, please explicitly cast to a compatible dtype first.\n",
      "\n",
      "C:\\Users\\misss\\AppData\\Local\\Temp\\ipykernel_33052\\1845856610.py:19: FutureWarning:\n",
      "\n",
      "Setting an item of incompatible dtype is deprecated and will raise an error in a future version of pandas. Value '0.00699' has dtype incompatible with int64, please explicitly cast to a compatible dtype first.\n",
      "\n",
      "C:\\Users\\misss\\AppData\\Local\\Temp\\ipykernel_33052\\1845856610.py:19: FutureWarning:\n",
      "\n",
      "Setting an item of incompatible dtype is deprecated and will raise an error in a future version of pandas. Value '0.00667' has dtype incompatible with int64, please explicitly cast to a compatible dtype first.\n",
      "\n",
      "C:\\Users\\misss\\AppData\\Local\\Temp\\ipykernel_33052\\1845856610.py:19: FutureWarning:\n",
      "\n",
      "Setting an item of incompatible dtype is deprecated and will raise an error in a future version of pandas. Value '0.00704' has dtype incompatible with int64, please explicitly cast to a compatible dtype first.\n",
      "\n",
      "C:\\Users\\misss\\AppData\\Local\\Temp\\ipykernel_33052\\1845856610.py:19: FutureWarning:\n",
      "\n",
      "Setting an item of incompatible dtype is deprecated and will raise an error in a future version of pandas. Value '0.00662' has dtype incompatible with int64, please explicitly cast to a compatible dtype first.\n",
      "\n",
      "C:\\Users\\misss\\AppData\\Local\\Temp\\ipykernel_33052\\1845856610.py:19: FutureWarning:\n",
      "\n",
      "Setting an item of incompatible dtype is deprecated and will raise an error in a future version of pandas. Value '0.00645' has dtype incompatible with int64, please explicitly cast to a compatible dtype first.\n",
      "\n",
      "C:\\Users\\misss\\AppData\\Local\\Temp\\ipykernel_33052\\1845856610.py:19: FutureWarning:\n",
      "\n",
      "Setting an item of incompatible dtype is deprecated and will raise an error in a future version of pandas. Value '0.00515' has dtype incompatible with int64, please explicitly cast to a compatible dtype first.\n",
      "\n",
      "C:\\Users\\misss\\AppData\\Local\\Temp\\ipykernel_33052\\1845856610.py:19: FutureWarning:\n",
      "\n",
      "Setting an item of incompatible dtype is deprecated and will raise an error in a future version of pandas. Value '0.00578' has dtype incompatible with int64, please explicitly cast to a compatible dtype first.\n",
      "\n",
      "C:\\Users\\misss\\AppData\\Local\\Temp\\ipykernel_33052\\1845856610.py:19: FutureWarning:\n",
      "\n",
      "Setting an item of incompatible dtype is deprecated and will raise an error in a future version of pandas. Value '0.00662' has dtype incompatible with int64, please explicitly cast to a compatible dtype first.\n",
      "\n",
      "C:\\Users\\misss\\AppData\\Local\\Temp\\ipykernel_33052\\1845856610.py:19: FutureWarning:\n",
      "\n",
      "Setting an item of incompatible dtype is deprecated and will raise an error in a future version of pandas. Value '0.00676' has dtype incompatible with int64, please explicitly cast to a compatible dtype first.\n",
      "\n",
      "C:\\Users\\misss\\AppData\\Local\\Temp\\ipykernel_33052\\1845856610.py:19: FutureWarning:\n",
      "\n",
      "Setting an item of incompatible dtype is deprecated and will raise an error in a future version of pandas. Value '0.0068' has dtype incompatible with int64, please explicitly cast to a compatible dtype first.\n",
      "\n",
      "C:\\Users\\misss\\AppData\\Local\\Temp\\ipykernel_33052\\1845856610.py:24: FutureWarning:\n",
      "\n",
      "Downcasting object dtype arrays on .fillna, .ffill, .bfill is deprecated and will change in a future version. Call result.infer_objects(copy=False) instead. To opt-in to the future behavior, set `pd.set_option('future.no_silent_downcasting', True)`\n",
      "\n",
      "C:\\Users\\misss\\AppData\\Local\\Temp\\ipykernel_33052\\1845856610.py:27: FutureWarning:\n",
      "\n",
      "Downcasting object dtype arrays on .fillna, .ffill, .bfill is deprecated and will change in a future version. Call result.infer_objects(copy=False) instead. To opt-in to the future behavior, set `pd.set_option('future.no_silent_downcasting', True)`\n",
      "\n",
      "C:\\Users\\misss\\AppData\\Local\\Temp\\ipykernel_33052\\1845856610.py:30: FutureWarning:\n",
      "\n",
      "Downcasting object dtype arrays on .fillna, .ffill, .bfill is deprecated and will change in a future version. Call result.infer_objects(copy=False) instead. To opt-in to the future behavior, set `pd.set_option('future.no_silent_downcasting', True)`\n",
      "\n",
      "C:\\Users\\misss\\AppData\\Local\\Temp\\ipykernel_33052\\1845856610.py:41: SettingWithCopyWarning:\n",
      "\n",
      "\n",
      "A value is trying to be set on a copy of a slice from a DataFrame\n",
      "\n",
      "See the caveats in the documentation: https://pandas.pydata.org/pandas-docs/stable/user_guide/indexing.html#returning-a-view-versus-a-copy\n",
      "\n"
     ]
    }
   ],
   "source": [
    "#calculate minimum variance allocation portolio\n",
    "(balance_share_minv,\n",
    " balance_cost_minv,\n",
    " balance_cash_minv,\n",
    " portfolio_minv,\n",
    " portfolio_cost_minv,\n",
    " portfolio_return_minv,\n",
    " portfolio_cumsum_minv)=cal_portfolio(stocks_name,tradedate_full, weight_minv, capital, transaction_percent)"
   ]
  },
  {
   "cell_type": "code",
   "execution_count": 138,
   "metadata": {},
   "outputs": [
    {
     "name": "stderr",
     "output_type": "stream",
     "text": [
      "C:\\Users\\misss\\AppData\\Local\\Temp\\ipykernel_33052\\1845856610.py:10: FutureWarning:\n",
      "\n",
      "Downcasting object dtype arrays on .fillna, .ffill, .bfill is deprecated and will change in a future version. Call result.infer_objects(copy=False) instead. To opt-in to the future behavior, set `pd.set_option('future.no_silent_downcasting', True)`\n",
      "\n",
      "C:\\Users\\misss\\AppData\\Local\\Temp\\ipykernel_33052\\1845856610.py:19: FutureWarning:\n",
      "\n",
      "Setting an item of incompatible dtype is deprecated and will raise an error in a future version of pandas. Value '0.006993006993006993' has dtype incompatible with int64, please explicitly cast to a compatible dtype first.\n",
      "\n",
      "C:\\Users\\misss\\AppData\\Local\\Temp\\ipykernel_33052\\1845856610.py:19: FutureWarning:\n",
      "\n",
      "Setting an item of incompatible dtype is deprecated and will raise an error in a future version of pandas. Value '0.006535947712418301' has dtype incompatible with int64, please explicitly cast to a compatible dtype first.\n",
      "\n",
      "C:\\Users\\misss\\AppData\\Local\\Temp\\ipykernel_33052\\1845856610.py:19: FutureWarning:\n",
      "\n",
      "Setting an item of incompatible dtype is deprecated and will raise an error in a future version of pandas. Value '0.006802721088435374' has dtype incompatible with int64, please explicitly cast to a compatible dtype first.\n",
      "\n",
      "C:\\Users\\misss\\AppData\\Local\\Temp\\ipykernel_33052\\1845856610.py:19: FutureWarning:\n",
      "\n",
      "Setting an item of incompatible dtype is deprecated and will raise an error in a future version of pandas. Value '0.006802721088435374' has dtype incompatible with int64, please explicitly cast to a compatible dtype first.\n",
      "\n",
      "C:\\Users\\misss\\AppData\\Local\\Temp\\ipykernel_33052\\1845856610.py:19: FutureWarning:\n",
      "\n",
      "Setting an item of incompatible dtype is deprecated and will raise an error in a future version of pandas. Value '0.006097560975609756' has dtype incompatible with int64, please explicitly cast to a compatible dtype first.\n",
      "\n",
      "C:\\Users\\misss\\AppData\\Local\\Temp\\ipykernel_33052\\1845856610.py:19: FutureWarning:\n",
      "\n",
      "Setting an item of incompatible dtype is deprecated and will raise an error in a future version of pandas. Value '0.006211180124223602' has dtype incompatible with int64, please explicitly cast to a compatible dtype first.\n",
      "\n",
      "C:\\Users\\misss\\AppData\\Local\\Temp\\ipykernel_33052\\1845856610.py:19: FutureWarning:\n",
      "\n",
      "Setting an item of incompatible dtype is deprecated and will raise an error in a future version of pandas. Value '0.006097560975609756' has dtype incompatible with int64, please explicitly cast to a compatible dtype first.\n",
      "\n",
      "C:\\Users\\misss\\AppData\\Local\\Temp\\ipykernel_33052\\1845856610.py:19: FutureWarning:\n",
      "\n",
      "Setting an item of incompatible dtype is deprecated and will raise an error in a future version of pandas. Value '0.005882352941176471' has dtype incompatible with int64, please explicitly cast to a compatible dtype first.\n",
      "\n",
      "C:\\Users\\misss\\AppData\\Local\\Temp\\ipykernel_33052\\1845856610.py:19: FutureWarning:\n",
      "\n",
      "Setting an item of incompatible dtype is deprecated and will raise an error in a future version of pandas. Value '0.004975124378109453' has dtype incompatible with int64, please explicitly cast to a compatible dtype first.\n",
      "\n",
      "C:\\Users\\misss\\AppData\\Local\\Temp\\ipykernel_33052\\1845856610.py:19: FutureWarning:\n",
      "\n",
      "Setting an item of incompatible dtype is deprecated and will raise an error in a future version of pandas. Value '0.00625' has dtype incompatible with int64, please explicitly cast to a compatible dtype first.\n",
      "\n",
      "C:\\Users\\misss\\AppData\\Local\\Temp\\ipykernel_33052\\1845856610.py:19: FutureWarning:\n",
      "\n",
      "Setting an item of incompatible dtype is deprecated and will raise an error in a future version of pandas. Value '0.005405405405405406' has dtype incompatible with int64, please explicitly cast to a compatible dtype first.\n",
      "\n",
      "C:\\Users\\misss\\AppData\\Local\\Temp\\ipykernel_33052\\1845856610.py:19: FutureWarning:\n",
      "\n",
      "Setting an item of incompatible dtype is deprecated and will raise an error in a future version of pandas. Value '0.00625' has dtype incompatible with int64, please explicitly cast to a compatible dtype first.\n",
      "\n",
      "C:\\Users\\misss\\AppData\\Local\\Temp\\ipykernel_33052\\1845856610.py:19: FutureWarning:\n",
      "\n",
      "Setting an item of incompatible dtype is deprecated and will raise an error in a future version of pandas. Value '0.006060606060606061' has dtype incompatible with int64, please explicitly cast to a compatible dtype first.\n",
      "\n",
      "C:\\Users\\misss\\AppData\\Local\\Temp\\ipykernel_33052\\1845856610.py:19: FutureWarning:\n",
      "\n",
      "Setting an item of incompatible dtype is deprecated and will raise an error in a future version of pandas. Value '0.00510204081632653' has dtype incompatible with int64, please explicitly cast to a compatible dtype first.\n",
      "\n",
      "C:\\Users\\misss\\AppData\\Local\\Temp\\ipykernel_33052\\1845856610.py:19: FutureWarning:\n",
      "\n",
      "Setting an item of incompatible dtype is deprecated and will raise an error in a future version of pandas. Value '0.004975124378109453' has dtype incompatible with int64, please explicitly cast to a compatible dtype first.\n",
      "\n",
      "C:\\Users\\misss\\AppData\\Local\\Temp\\ipykernel_33052\\1845856610.py:19: FutureWarning:\n",
      "\n",
      "Setting an item of incompatible dtype is deprecated and will raise an error in a future version of pandas. Value '0.005405405405405406' has dtype incompatible with int64, please explicitly cast to a compatible dtype first.\n",
      "\n",
      "C:\\Users\\misss\\AppData\\Local\\Temp\\ipykernel_33052\\1845856610.py:19: FutureWarning:\n",
      "\n",
      "Setting an item of incompatible dtype is deprecated and will raise an error in a future version of pandas. Value '0.00546448087431694' has dtype incompatible with int64, please explicitly cast to a compatible dtype first.\n",
      "\n",
      "C:\\Users\\misss\\AppData\\Local\\Temp\\ipykernel_33052\\1845856610.py:19: FutureWarning:\n",
      "\n",
      "Setting an item of incompatible dtype is deprecated and will raise an error in a future version of pandas. Value '0.006896551724137931' has dtype incompatible with int64, please explicitly cast to a compatible dtype first.\n",
      "\n",
      "C:\\Users\\misss\\AppData\\Local\\Temp\\ipykernel_33052\\1845856610.py:19: FutureWarning:\n",
      "\n",
      "Setting an item of incompatible dtype is deprecated and will raise an error in a future version of pandas. Value '0.005208333333333333' has dtype incompatible with int64, please explicitly cast to a compatible dtype first.\n",
      "\n",
      "C:\\Users\\misss\\AppData\\Local\\Temp\\ipykernel_33052\\1845856610.py:19: FutureWarning:\n",
      "\n",
      "Setting an item of incompatible dtype is deprecated and will raise an error in a future version of pandas. Value '0.005917159763313609' has dtype incompatible with int64, please explicitly cast to a compatible dtype first.\n",
      "\n",
      "C:\\Users\\misss\\AppData\\Local\\Temp\\ipykernel_33052\\1845856610.py:19: FutureWarning:\n",
      "\n",
      "Setting an item of incompatible dtype is deprecated and will raise an error in a future version of pandas. Value '0.00625' has dtype incompatible with int64, please explicitly cast to a compatible dtype first.\n",
      "\n",
      "C:\\Users\\misss\\AppData\\Local\\Temp\\ipykernel_33052\\1845856610.py:19: FutureWarning:\n",
      "\n",
      "Setting an item of incompatible dtype is deprecated and will raise an error in a future version of pandas. Value '0.005649717514124294' has dtype incompatible with int64, please explicitly cast to a compatible dtype first.\n",
      "\n",
      "C:\\Users\\misss\\AppData\\Local\\Temp\\ipykernel_33052\\1845856610.py:19: FutureWarning:\n",
      "\n",
      "Setting an item of incompatible dtype is deprecated and will raise an error in a future version of pandas. Value '0.006711409395973154' has dtype incompatible with int64, please explicitly cast to a compatible dtype first.\n",
      "\n",
      "C:\\Users\\misss\\AppData\\Local\\Temp\\ipykernel_33052\\1845856610.py:19: FutureWarning:\n",
      "\n",
      "Setting an item of incompatible dtype is deprecated and will raise an error in a future version of pandas. Value '0.00625' has dtype incompatible with int64, please explicitly cast to a compatible dtype first.\n",
      "\n",
      "C:\\Users\\misss\\AppData\\Local\\Temp\\ipykernel_33052\\1845856610.py:19: FutureWarning:\n",
      "\n",
      "Setting an item of incompatible dtype is deprecated and will raise an error in a future version of pandas. Value '0.005714285714285714' has dtype incompatible with int64, please explicitly cast to a compatible dtype first.\n",
      "\n",
      "C:\\Users\\misss\\AppData\\Local\\Temp\\ipykernel_33052\\1845856610.py:19: FutureWarning:\n",
      "\n",
      "Setting an item of incompatible dtype is deprecated and will raise an error in a future version of pandas. Value '0.006024096385542169' has dtype incompatible with int64, please explicitly cast to a compatible dtype first.\n",
      "\n",
      "C:\\Users\\misss\\AppData\\Local\\Temp\\ipykernel_33052\\1845856610.py:19: FutureWarning:\n",
      "\n",
      "Setting an item of incompatible dtype is deprecated and will raise an error in a future version of pandas. Value '0.005617977528089887' has dtype incompatible with int64, please explicitly cast to a compatible dtype first.\n",
      "\n",
      "C:\\Users\\misss\\AppData\\Local\\Temp\\ipykernel_33052\\1845856610.py:19: FutureWarning:\n",
      "\n",
      "Setting an item of incompatible dtype is deprecated and will raise an error in a future version of pandas. Value '0.005847953216374269' has dtype incompatible with int64, please explicitly cast to a compatible dtype first.\n",
      "\n",
      "C:\\Users\\misss\\AppData\\Local\\Temp\\ipykernel_33052\\1845856610.py:19: FutureWarning:\n",
      "\n",
      "Setting an item of incompatible dtype is deprecated and will raise an error in a future version of pandas. Value '0.005617977528089887' has dtype incompatible with int64, please explicitly cast to a compatible dtype first.\n",
      "\n",
      "C:\\Users\\misss\\AppData\\Local\\Temp\\ipykernel_33052\\1845856610.py:19: FutureWarning:\n",
      "\n",
      "Setting an item of incompatible dtype is deprecated and will raise an error in a future version of pandas. Value '0.00641025641025641' has dtype incompatible with int64, please explicitly cast to a compatible dtype first.\n",
      "\n",
      "C:\\Users\\misss\\AppData\\Local\\Temp\\ipykernel_33052\\1845856610.py:19: FutureWarning:\n",
      "\n",
      "Setting an item of incompatible dtype is deprecated and will raise an error in a future version of pandas. Value '0.004524886877828055' has dtype incompatible with int64, please explicitly cast to a compatible dtype first.\n",
      "\n",
      "C:\\Users\\misss\\AppData\\Local\\Temp\\ipykernel_33052\\1845856610.py:19: FutureWarning:\n",
      "\n",
      "Setting an item of incompatible dtype is deprecated and will raise an error in a future version of pandas. Value '0.005076142131979695' has dtype incompatible with int64, please explicitly cast to a compatible dtype first.\n",
      "\n",
      "C:\\Users\\misss\\AppData\\Local\\Temp\\ipykernel_33052\\1845856610.py:19: FutureWarning:\n",
      "\n",
      "Setting an item of incompatible dtype is deprecated and will raise an error in a future version of pandas. Value '0.004149377593360996' has dtype incompatible with int64, please explicitly cast to a compatible dtype first.\n",
      "\n",
      "C:\\Users\\misss\\AppData\\Local\\Temp\\ipykernel_33052\\1845856610.py:19: FutureWarning:\n",
      "\n",
      "Setting an item of incompatible dtype is deprecated and will raise an error in a future version of pandas. Value '0.004201680672268907' has dtype incompatible with int64, please explicitly cast to a compatible dtype first.\n",
      "\n",
      "C:\\Users\\misss\\AppData\\Local\\Temp\\ipykernel_33052\\1845856610.py:19: FutureWarning:\n",
      "\n",
      "Setting an item of incompatible dtype is deprecated and will raise an error in a future version of pandas. Value '0.004587155963302753' has dtype incompatible with int64, please explicitly cast to a compatible dtype first.\n",
      "\n",
      "C:\\Users\\misss\\AppData\\Local\\Temp\\ipykernel_33052\\1845856610.py:19: FutureWarning:\n",
      "\n",
      "Setting an item of incompatible dtype is deprecated and will raise an error in a future version of pandas. Value '0.00353356890459364' has dtype incompatible with int64, please explicitly cast to a compatible dtype first.\n",
      "\n",
      "C:\\Users\\misss\\AppData\\Local\\Temp\\ipykernel_33052\\1845856610.py:19: FutureWarning:\n",
      "\n",
      "Setting an item of incompatible dtype is deprecated and will raise an error in a future version of pandas. Value '0.003636363636363636' has dtype incompatible with int64, please explicitly cast to a compatible dtype first.\n",
      "\n",
      "C:\\Users\\misss\\AppData\\Local\\Temp\\ipykernel_33052\\1845856610.py:19: FutureWarning:\n",
      "\n",
      "Setting an item of incompatible dtype is deprecated and will raise an error in a future version of pandas. Value '0.008' has dtype incompatible with int64, please explicitly cast to a compatible dtype first.\n",
      "\n",
      "C:\\Users\\misss\\AppData\\Local\\Temp\\ipykernel_33052\\1845856610.py:19: FutureWarning:\n",
      "\n",
      "Setting an item of incompatible dtype is deprecated and will raise an error in a future version of pandas. Value '0.007142857142857143' has dtype incompatible with int64, please explicitly cast to a compatible dtype first.\n",
      "\n",
      "C:\\Users\\misss\\AppData\\Local\\Temp\\ipykernel_33052\\1845856610.py:19: FutureWarning:\n",
      "\n",
      "Setting an item of incompatible dtype is deprecated and will raise an error in a future version of pandas. Value '0.007575757575757576' has dtype incompatible with int64, please explicitly cast to a compatible dtype first.\n",
      "\n",
      "C:\\Users\\misss\\AppData\\Local\\Temp\\ipykernel_33052\\1845856610.py:19: FutureWarning:\n",
      "\n",
      "Setting an item of incompatible dtype is deprecated and will raise an error in a future version of pandas. Value '0.007352941176470588' has dtype incompatible with int64, please explicitly cast to a compatible dtype first.\n",
      "\n",
      "C:\\Users\\misss\\AppData\\Local\\Temp\\ipykernel_33052\\1845856610.py:19: FutureWarning:\n",
      "\n",
      "Setting an item of incompatible dtype is deprecated and will raise an error in a future version of pandas. Value '0.007194244604316547' has dtype incompatible with int64, please explicitly cast to a compatible dtype first.\n",
      "\n",
      "C:\\Users\\misss\\AppData\\Local\\Temp\\ipykernel_33052\\1845856610.py:19: FutureWarning:\n",
      "\n",
      "Setting an item of incompatible dtype is deprecated and will raise an error in a future version of pandas. Value '0.00641025641025641' has dtype incompatible with int64, please explicitly cast to a compatible dtype first.\n",
      "\n",
      "C:\\Users\\misss\\AppData\\Local\\Temp\\ipykernel_33052\\1845856610.py:19: FutureWarning:\n",
      "\n",
      "Setting an item of incompatible dtype is deprecated and will raise an error in a future version of pandas. Value '0.007246376811594203' has dtype incompatible with int64, please explicitly cast to a compatible dtype first.\n",
      "\n",
      "C:\\Users\\misss\\AppData\\Local\\Temp\\ipykernel_33052\\1845856610.py:19: FutureWarning:\n",
      "\n",
      "Setting an item of incompatible dtype is deprecated and will raise an error in a future version of pandas. Value '0.00641025641025641' has dtype incompatible with int64, please explicitly cast to a compatible dtype first.\n",
      "\n",
      "C:\\Users\\misss\\AppData\\Local\\Temp\\ipykernel_33052\\1845856610.py:19: FutureWarning:\n",
      "\n",
      "Setting an item of incompatible dtype is deprecated and will raise an error in a future version of pandas. Value '0.006993006993006993' has dtype incompatible with int64, please explicitly cast to a compatible dtype first.\n",
      "\n",
      "C:\\Users\\misss\\AppData\\Local\\Temp\\ipykernel_33052\\1845856610.py:19: FutureWarning:\n",
      "\n",
      "Setting an item of incompatible dtype is deprecated and will raise an error in a future version of pandas. Value '0.006666666666666667' has dtype incompatible with int64, please explicitly cast to a compatible dtype first.\n",
      "\n",
      "C:\\Users\\misss\\AppData\\Local\\Temp\\ipykernel_33052\\1845856610.py:19: FutureWarning:\n",
      "\n",
      "Setting an item of incompatible dtype is deprecated and will raise an error in a future version of pandas. Value '0.007042253521126761' has dtype incompatible with int64, please explicitly cast to a compatible dtype first.\n",
      "\n",
      "C:\\Users\\misss\\AppData\\Local\\Temp\\ipykernel_33052\\1845856610.py:19: FutureWarning:\n",
      "\n",
      "Setting an item of incompatible dtype is deprecated and will raise an error in a future version of pandas. Value '0.006622516556291391' has dtype incompatible with int64, please explicitly cast to a compatible dtype first.\n",
      "\n",
      "C:\\Users\\misss\\AppData\\Local\\Temp\\ipykernel_33052\\1845856610.py:19: FutureWarning:\n",
      "\n",
      "Setting an item of incompatible dtype is deprecated and will raise an error in a future version of pandas. Value '0.006451612903225806' has dtype incompatible with int64, please explicitly cast to a compatible dtype first.\n",
      "\n",
      "C:\\Users\\misss\\AppData\\Local\\Temp\\ipykernel_33052\\1845856610.py:19: FutureWarning:\n",
      "\n",
      "Setting an item of incompatible dtype is deprecated and will raise an error in a future version of pandas. Value '0.005154639175257732' has dtype incompatible with int64, please explicitly cast to a compatible dtype first.\n",
      "\n",
      "C:\\Users\\misss\\AppData\\Local\\Temp\\ipykernel_33052\\1845856610.py:19: FutureWarning:\n",
      "\n",
      "Setting an item of incompatible dtype is deprecated and will raise an error in a future version of pandas. Value '0.005780346820809248' has dtype incompatible with int64, please explicitly cast to a compatible dtype first.\n",
      "\n",
      "C:\\Users\\misss\\AppData\\Local\\Temp\\ipykernel_33052\\1845856610.py:19: FutureWarning:\n",
      "\n",
      "Setting an item of incompatible dtype is deprecated and will raise an error in a future version of pandas. Value '0.006622516556291391' has dtype incompatible with int64, please explicitly cast to a compatible dtype first.\n",
      "\n",
      "C:\\Users\\misss\\AppData\\Local\\Temp\\ipykernel_33052\\1845856610.py:19: FutureWarning:\n",
      "\n",
      "Setting an item of incompatible dtype is deprecated and will raise an error in a future version of pandas. Value '0.006756756756756757' has dtype incompatible with int64, please explicitly cast to a compatible dtype first.\n",
      "\n",
      "C:\\Users\\misss\\AppData\\Local\\Temp\\ipykernel_33052\\1845856610.py:19: FutureWarning:\n",
      "\n",
      "Setting an item of incompatible dtype is deprecated and will raise an error in a future version of pandas. Value '0.006802721088435374' has dtype incompatible with int64, please explicitly cast to a compatible dtype first.\n",
      "\n",
      "C:\\Users\\misss\\AppData\\Local\\Temp\\ipykernel_33052\\1845856610.py:24: FutureWarning:\n",
      "\n",
      "Downcasting object dtype arrays on .fillna, .ffill, .bfill is deprecated and will change in a future version. Call result.infer_objects(copy=False) instead. To opt-in to the future behavior, set `pd.set_option('future.no_silent_downcasting', True)`\n",
      "\n",
      "C:\\Users\\misss\\AppData\\Local\\Temp\\ipykernel_33052\\1845856610.py:27: FutureWarning:\n",
      "\n",
      "Downcasting object dtype arrays on .fillna, .ffill, .bfill is deprecated and will change in a future version. Call result.infer_objects(copy=False) instead. To opt-in to the future behavior, set `pd.set_option('future.no_silent_downcasting', True)`\n",
      "\n",
      "C:\\Users\\misss\\AppData\\Local\\Temp\\ipykernel_33052\\1845856610.py:30: FutureWarning:\n",
      "\n",
      "Downcasting object dtype arrays on .fillna, .ffill, .bfill is deprecated and will change in a future version. Call result.infer_objects(copy=False) instead. To opt-in to the future behavior, set `pd.set_option('future.no_silent_downcasting', True)`\n",
      "\n",
      "C:\\Users\\misss\\AppData\\Local\\Temp\\ipykernel_33052\\1845856610.py:41: SettingWithCopyWarning:\n",
      "\n",
      "\n",
      "A value is trying to be set on a copy of a slice from a DataFrame\n",
      "\n",
      "See the caveats in the documentation: https://pandas.pydata.org/pandas-docs/stable/user_guide/indexing.html#returning-a-view-versus-a-copy\n",
      "\n"
     ]
    }
   ],
   "source": [
    "#calculate equally weighted allocation portolio\n",
    "(balance_share_equal,\n",
    " balance_cost_equal,\n",
    " balance_cash_equal,\n",
    " portfolio_equal,\n",
    " portfolio_cost_equal,\n",
    " portfolio_return_equal,\n",
    " portfolio_cumsum_equal)=cal_portfolio(stocks_name,tradedate_full, weight_equal, capital, transaction_percent)"
   ]
  },
  {
   "cell_type": "code",
   "execution_count": 139,
   "metadata": {},
   "outputs": [
    {
     "data": {
      "text/plain": [
       "np.float64(3.939265821318506)"
      ]
     },
     "execution_count": 139,
     "metadata": {},
     "output_type": "execute_result"
    }
   ],
   "source": [
    "sum(portfolio_return_equal)"
   ]
  },
  {
   "cell_type": "markdown",
   "metadata": {},
   "source": [
    "# 3. Calculate SPX Portfolio Value, Return and Cumulative Return"
   ]
  },
  {
   "cell_type": "code",
   "execution_count": 149,
   "metadata": {},
   "outputs": [
    {
     "name": "stderr",
     "output_type": "stream",
     "text": [
      "[*********************100%***********************]  1 of 1 completed"
     ]
    },
    {
     "name": "stdout",
     "output_type": "stream",
     "text": [
      "S&P 500 data saved successfully.\n"
     ]
    },
    {
     "name": "stderr",
     "output_type": "stream",
     "text": [
      "\n"
     ]
    }
   ],
   "source": [
    "import yfinance as yf\n",
    "import pandas as pd\n",
    "\n",
    "spx = yf.download(\"^GSPC\", start=\"1999-09-01\", end=\"2025-12-31\", interval=\"1d\")\n",
    "spx.reset_index(inplace=True)\n",
    "spx.columns = spx.columns.droplevel(1)\n",
    "spx = spx[['Date','Close']]\n",
    "spx.rename(columns={'Date':'date','Close':'close'}, inplace=True)\n",
    "spx.to_csv(\"SPX.csv\")\n",
    "print(\"S&P 500 data saved successfully.\")"
   ]
  },
  {
   "cell_type": "code",
   "execution_count": 150,
   "metadata": {},
   "outputs": [],
   "source": [
    "import datetime\n",
    "\n",
    "dates = pd.date_range('1999-09-01', '2025-12-31')\n"
   ]
  },
  {
   "cell_type": "code",
   "execution_count": 151,
   "metadata": {},
   "outputs": [],
   "source": [
    "spx = pd.read_csv(\"SPX.csv\")\n"
   ]
  },
  {
   "cell_type": "code",
   "execution_count": 152,
   "metadata": {},
   "outputs": [],
   "source": [
    "spx.date = pd.to_datetime(spx.date)"
   ]
  },
  {
   "cell_type": "code",
   "execution_count": 153,
   "metadata": {},
   "outputs": [],
   "source": [
    "spx = spx.set_index(\"date\").reindex(dates, method='ffill')"
   ]
  },
  {
   "cell_type": "code",
   "execution_count": 154,
   "metadata": {},
   "outputs": [],
   "source": [
    "tradedate = tradedate[:-1]"
   ]
  },
  {
   "cell_type": "code",
   "execution_count": 155,
   "metadata": {},
   "outputs": [],
   "source": [
    "\n",
    "spx_daily = list(set(spx.index))\n",
    "spx_daily.sort()\n",
    "spx = spx['close']\n",
    "spx.index = spx.index.astype(str)\n",
    "spx = spx[tradedate]\n",
    "spx.index = range(len(spx))\n",
    "spx_return = (spx - spx.shift(1))/spx\n",
    "spx_return[0] = 0\n",
    "\n",
    "spx_return.index = tradedate\n",
    "spx_return.index = range(len(spx))\n",
    "spx_cumsum=spx_return.copy()\n",
    "\n",
    "spx_value = spx_return.copy()\n",
    "initial = 0\n",
    "for i in range(len(spx_cumsum)):\n",
    "    spx_cumsum[i] = initial + spx_cumsum[i]\n",
    "    initial = spx_cumsum[i]\n",
    "\n",
    "initial = 1000000\n",
    "for i in range(len(spx_value)):\n",
    "    spx_value[i] = initial * (1 + spx_value[i])\n",
    "    initial = spx_value[i]\n",
    "\n",
    "spx_cumsum.index = tradedate\n",
    "spx_value.index = tradedate"
   ]
  },
  {
   "cell_type": "code",
   "execution_count": 156,
   "metadata": {},
   "outputs": [
    {
     "data": {
      "text/plain": [
       "0.8020303703441766"
      ]
     },
     "execution_count": 156,
     "metadata": {},
     "output_type": "execute_result"
    }
   ],
   "source": [
    "sum(spx_return)"
   ]
  },
  {
   "cell_type": "markdown",
   "metadata": {},
   "source": [
    "# 4. Plot the Portfolio Performance"
   ]
  },
  {
   "cell_type": "markdown",
   "metadata": {},
   "source": [
    "## 4.1 Plot Portfolio Value with Transaction Cost"
   ]
  },
  {
   "cell_type": "code",
   "execution_count": 157,
   "metadata": {},
   "outputs": [],
   "source": [
    "time_ind = tradedate_full[:-1]"
   ]
  },
  {
   "cell_type": "code",
   "execution_count": 158,
   "metadata": {},
   "outputs": [
    {
     "data": {
      "application/vnd.plotly.v1+json": {
       "config": {
        "linkText": "Export to plot.ly",
        "plotlyServerURL": "https://plot.ly",
        "showLink": false
       },
       "data": [
        {
         "mode": "lines",
         "name": "Mean-Variance",
         "type": "scatter",
         "x": [
          "2004-12-01",
          "2005-03-01",
          "2005-06-01",
          "2005-09-01",
          "2005-12-01",
          "2006-03-01",
          "2006-06-01",
          "2006-09-01",
          "2006-12-01",
          "2007-03-01",
          "2007-06-01",
          "2008-12-01",
          "2009-06-01",
          "2009-09-01",
          "2009-12-01",
          "2010-03-01",
          "2010-06-01",
          "2010-09-01",
          "2010-12-01",
          "2011-03-01",
          "2011-06-01",
          "2011-09-01",
          "2011-12-01",
          "2012-03-01",
          "2012-06-01",
          "2013-03-01",
          "2014-12-01",
          "2015-06-01",
          "2015-09-01",
          "2015-12-01",
          "2016-03-01",
          "2016-06-01",
          "2016-09-01",
          "2016-12-01",
          "2017-03-01",
          "2017-06-01",
          "2017-09-01",
          "2017-12-01",
          "2018-03-01",
          "2018-06-01",
          "2019-03-01",
          "2020-06-01",
          "2020-09-01",
          "2020-12-01",
          "2021-03-01",
          "2021-06-01",
          "2021-09-01",
          "2021-12-01",
          "2022-03-01",
          "2022-06-01",
          "2022-09-01",
          "2022-12-01",
          "2023-03-01",
          "2023-06-01"
         ],
         "y": [
          998391.1453979186,
          1048662.4998148943,
          1057919.368488821,
          1158349.900919499,
          1251323.4664066753,
          1364760.323410414,
          1388025.444896811,
          2307792.344553058,
          2587780.725017373,
          2780598.5409733583,
          3097842.825861514,
          1651604.9218080805,
          2395756.0056017875,
          2688515.2704134583,
          3013367.92583554,
          3280872.5589142237,
          3266100.100819165,
          3350999.2908435063,
          3798020.8946950375,
          4290735.243050707,
          4378945.430130612,
          3700270.6934646126,
          3767677.9989983942,
          4329125.284605805,
          3919511.099358896,
          5033495.961076562,
          7211641.892751781,
          7765619.257068019,
          6899980.229990174,
          7565822.546370181,
          6865706.709175817,
          7781308.898341616,
          8188124.27703594,
          8362095.36267792,
          9327065.902806014,
          9519286.317548882,
          9716304.785472346,
          10587777.869282983,
          10662746.273197075,
          11238353.820793869,
          11581679.795620242,
          11581057.982132837,
          13533690.097876437,
          15962226.222106317,
          19256655.671170153,
          21889080.789323807,
          22274717.116868433,
          20954050.349306528,
          21475361.208160877,
          21365832.492708735,
          20764355.35563248,
          22049660.438560724,
          23091618.473831486,
          22293537.528473146,
          24039494.0750041
         ]
        },
        {
         "mode": "lines",
         "name": "Equally Weighted",
         "type": "scatter",
         "x": [
          "2004-12-01",
          "2005-03-01",
          "2005-06-01",
          "2005-09-01",
          "2005-12-01",
          "2006-03-01",
          "2006-06-01",
          "2006-09-01",
          "2006-12-01",
          "2007-03-01",
          "2007-06-01",
          "2008-12-01",
          "2009-06-01",
          "2009-09-01",
          "2009-12-01",
          "2010-03-01",
          "2010-06-01",
          "2010-09-01",
          "2010-12-01",
          "2011-03-01",
          "2011-06-01",
          "2011-09-01",
          "2011-12-01",
          "2012-03-01",
          "2012-06-01",
          "2013-03-01",
          "2014-12-01",
          "2015-06-01",
          "2015-09-01",
          "2015-12-01",
          "2016-03-01",
          "2016-06-01",
          "2016-09-01",
          "2016-12-01",
          "2017-03-01",
          "2017-06-01",
          "2017-09-01",
          "2017-12-01",
          "2018-03-01",
          "2018-06-01",
          "2019-03-01",
          "2020-06-01",
          "2020-09-01",
          "2020-12-01",
          "2021-03-01",
          "2021-06-01",
          "2021-09-01",
          "2021-12-01",
          "2022-03-01",
          "2022-06-01",
          "2022-09-01",
          "2022-12-01",
          "2023-03-01",
          "2023-06-01"
         ],
         "y": [
          998667.2138746468,
          1049050.4082570896,
          1073098.5111591483,
          1174339.9571308042,
          1275974.1820598415,
          1393030.8431811961,
          1416550.6371497093,
          2355255.3984614806,
          2641577.181996098,
          2885913.883491239,
          3200083.6739187143,
          1507917.5743919045,
          2195621.2911740723,
          2438401.713264893,
          2735420.5827577943,
          3042632.32795139,
          3030416.8749023844,
          3107634.8603089624,
          3506001.5627323883,
          3965420.5701385746,
          4044843.3660391793,
          3497496.2503204243,
          3585122.114374038,
          4110080.186930206,
          3837512.4591877554,
          4925985.272999947,
          7073469.473549425,
          7610694.006453958,
          6872591.755206917,
          7235759.860014295,
          6758394.094806391,
          7498928.775797428,
          7966185.864369869,
          8171969.45067928,
          9059543.732086293,
          9272336.087630969,
          9372765.671111431,
          10425189.714347519,
          10703664.26225463,
          11308799.590234874,
          11661125.45391239,
          11666629.745271279,
          13491309.673137898,
          15924147.398268463,
          19898286.474946417,
          22664625.593968477,
          23189400.925229285,
          21942204.94930359,
          22674069.60387734,
          22120062.34865323,
          21412311.820302594,
          22841394.1383532,
          23306407.15170413,
          21965087.349133406,
          24026594.171862364
         ]
        },
        {
         "mode": "lines",
         "name": "Min-Variance",
         "type": "scatter",
         "x": [
          "2004-12-01",
          "2005-03-01",
          "2005-06-01",
          "2005-09-01",
          "2005-12-01",
          "2006-03-01",
          "2006-06-01",
          "2006-09-01",
          "2006-12-01",
          "2007-03-01",
          "2007-06-01",
          "2008-12-01",
          "2009-06-01",
          "2009-09-01",
          "2009-12-01",
          "2010-03-01",
          "2010-06-01",
          "2010-09-01",
          "2010-12-01",
          "2011-03-01",
          "2011-06-01",
          "2011-09-01",
          "2011-12-01",
          "2012-03-01",
          "2012-06-01",
          "2013-03-01",
          "2014-12-01",
          "2015-06-01",
          "2015-09-01",
          "2015-12-01",
          "2016-03-01",
          "2016-06-01",
          "2016-09-01",
          "2016-12-01",
          "2017-03-01",
          "2017-06-01",
          "2017-09-01",
          "2017-12-01",
          "2018-03-01",
          "2018-06-01",
          "2019-03-01",
          "2020-06-01",
          "2020-09-01",
          "2020-12-01",
          "2021-03-01",
          "2021-06-01",
          "2021-09-01",
          "2021-12-01",
          "2022-03-01",
          "2022-06-01",
          "2022-09-01",
          "2022-12-01",
          "2023-03-01",
          "2023-06-01"
         ],
         "y": [
          998667.3359077967,
          1049050.4497903916,
          1072663.727723225,
          1174531.8068027233,
          1275676.0011733535,
          1391837.9533602947,
          1415003.1516365048,
          2353606.947270506,
          2639718.0704159928,
          2882800.436544849,
          3198202.502632972,
          1506599.9542693165,
          2192884.4365504067,
          2434829.45987025,
          2729290.2374603944,
          3035734.824180798,
          3022502.75460894,
          3100838.088788738,
          3497045.398459285,
          3953471.494892539,
          4035030.781954494,
          3487993.774123103,
          3574088.5349554582,
          4099294.168347503,
          3826802.3148641605,
          4914281.823668171,
          7052526.474965302,
          7595590.495636478,
          6858875.2049708795,
          7227711.924149262,
          6751002.39213603,
          7489688.478157853,
          7953412.782448574,
          8166248.9928927785,
          9060847.868009124,
          9265940.144480225,
          9371111.021691127,
          10426286.469783956,
          10709794.237667724,
          11315378.571289033,
          11668168.042311525,
          11671435.955764962,
          13497267.202311866,
          15919926.76718393,
          19879962.97078923,
          22650836.012918726,
          23184306.246211864,
          21947253.590903006,
          22678579.163553167,
          22101345.2679528,
          21409350.326161504,
          22841566.251667712,
          23296310.294343404,
          21969583.062724482,
          24005346.339654684
         ]
        },
        {
         "mode": "lines",
         "name": "SPX",
         "type": "scatter",
         "x": [
          "2004-12-01",
          "2005-03-01",
          "2005-06-01",
          "2005-09-01",
          "2005-12-01",
          "2006-03-01",
          "2006-06-01",
          "2006-09-01",
          "2006-12-01",
          "2007-03-01",
          "2007-06-01",
          "2008-12-01",
          "2009-06-01",
          "2009-09-01",
          "2009-12-01",
          "2010-03-01",
          "2010-06-01",
          "2010-09-01",
          "2010-12-01",
          "2011-03-01",
          "2011-06-01",
          "2011-09-01",
          "2011-12-01",
          "2012-03-01",
          "2012-06-01",
          "2013-03-01",
          "2014-12-01",
          "2015-06-01",
          "2015-09-01",
          "2015-12-01",
          "2016-03-01",
          "2016-06-01",
          "2016-09-01",
          "2016-12-01",
          "2017-03-01",
          "2017-06-01",
          "2017-09-01",
          "2017-12-01",
          "2018-03-01",
          "2018-06-01",
          "2019-03-01",
          "2020-06-01",
          "2020-09-01",
          "2020-12-01",
          "2021-03-01",
          "2021-06-01",
          "2021-09-01",
          "2021-12-01",
          "2022-03-01",
          "2022-06-01",
          "2022-09-01",
          "2022-12-01",
          "2023-03-01",
          "2023-06-01"
         ],
         "y": [
          1000000,
          1015730.238947832,
          1008810.627450128,
          1024806.7124496916,
          1059716.0181984298,
          1081521.8776034508,
          1076870.0915474438,
          1097651.6765046543,
          1165001.876410893,
          1170365.4521644851,
          1271812.7094756137,
          149711.30125486085,
          169822.6946543472,
          179210.20955165155,
          197120.56522995856,
          198330.80006390842,
          189995.31582589744,
          191680.20590465417,
          211670.35538979637,
          227915.92321139647,
          229341.11811744928,
          208370.57832522775,
          215094.24768131136,
          235367.19836915532,
          217678.39248390924,
          252112.34406366877,
          317826.76105421025,
          326599.72657930333,
          292831.37675321434,
          319122.58501025406,
          299075.3103882657,
          316310.4093823173,
          326732.86487480596,
          329748.05771119474,
          357944.9994476854,
          362967.9038790252,
          369781.56561572716,
          392967.2518059917,
          398169.78620907955,
          406461.92410041677,
          416475.2473408424,
          450826.59326449235,
          511026.28134189243,
          529974.634188729,
          562487.6891399021,
          602675.3208579773,
          645577.0925017089,
          643996.450468595,
          613072.6861421417,
          582423.792584965,
          562693.7702579248,
          577838.5471051869,
          559532.6008770827
         ]
        }
       ],
       "layout": {
        "template": {
         "data": {
          "bar": [
           {
            "error_x": {
             "color": "#2a3f5f"
            },
            "error_y": {
             "color": "#2a3f5f"
            },
            "marker": {
             "line": {
              "color": "#E5ECF6",
              "width": 0.5
             },
             "pattern": {
              "fillmode": "overlay",
              "size": 10,
              "solidity": 0.2
             }
            },
            "type": "bar"
           }
          ],
          "barpolar": [
           {
            "marker": {
             "line": {
              "color": "#E5ECF6",
              "width": 0.5
             },
             "pattern": {
              "fillmode": "overlay",
              "size": 10,
              "solidity": 0.2
             }
            },
            "type": "barpolar"
           }
          ],
          "carpet": [
           {
            "aaxis": {
             "endlinecolor": "#2a3f5f",
             "gridcolor": "white",
             "linecolor": "white",
             "minorgridcolor": "white",
             "startlinecolor": "#2a3f5f"
            },
            "baxis": {
             "endlinecolor": "#2a3f5f",
             "gridcolor": "white",
             "linecolor": "white",
             "minorgridcolor": "white",
             "startlinecolor": "#2a3f5f"
            },
            "type": "carpet"
           }
          ],
          "choropleth": [
           {
            "colorbar": {
             "outlinewidth": 0,
             "ticks": ""
            },
            "type": "choropleth"
           }
          ],
          "contour": [
           {
            "colorbar": {
             "outlinewidth": 0,
             "ticks": ""
            },
            "colorscale": [
             [
              0,
              "#0d0887"
             ],
             [
              0.1111111111111111,
              "#46039f"
             ],
             [
              0.2222222222222222,
              "#7201a8"
             ],
             [
              0.3333333333333333,
              "#9c179e"
             ],
             [
              0.4444444444444444,
              "#bd3786"
             ],
             [
              0.5555555555555556,
              "#d8576b"
             ],
             [
              0.6666666666666666,
              "#ed7953"
             ],
             [
              0.7777777777777778,
              "#fb9f3a"
             ],
             [
              0.8888888888888888,
              "#fdca26"
             ],
             [
              1,
              "#f0f921"
             ]
            ],
            "type": "contour"
           }
          ],
          "contourcarpet": [
           {
            "colorbar": {
             "outlinewidth": 0,
             "ticks": ""
            },
            "type": "contourcarpet"
           }
          ],
          "heatmap": [
           {
            "colorbar": {
             "outlinewidth": 0,
             "ticks": ""
            },
            "colorscale": [
             [
              0,
              "#0d0887"
             ],
             [
              0.1111111111111111,
              "#46039f"
             ],
             [
              0.2222222222222222,
              "#7201a8"
             ],
             [
              0.3333333333333333,
              "#9c179e"
             ],
             [
              0.4444444444444444,
              "#bd3786"
             ],
             [
              0.5555555555555556,
              "#d8576b"
             ],
             [
              0.6666666666666666,
              "#ed7953"
             ],
             [
              0.7777777777777778,
              "#fb9f3a"
             ],
             [
              0.8888888888888888,
              "#fdca26"
             ],
             [
              1,
              "#f0f921"
             ]
            ],
            "type": "heatmap"
           }
          ],
          "heatmapgl": [
           {
            "colorbar": {
             "outlinewidth": 0,
             "ticks": ""
            },
            "colorscale": [
             [
              0,
              "#0d0887"
             ],
             [
              0.1111111111111111,
              "#46039f"
             ],
             [
              0.2222222222222222,
              "#7201a8"
             ],
             [
              0.3333333333333333,
              "#9c179e"
             ],
             [
              0.4444444444444444,
              "#bd3786"
             ],
             [
              0.5555555555555556,
              "#d8576b"
             ],
             [
              0.6666666666666666,
              "#ed7953"
             ],
             [
              0.7777777777777778,
              "#fb9f3a"
             ],
             [
              0.8888888888888888,
              "#fdca26"
             ],
             [
              1,
              "#f0f921"
             ]
            ],
            "type": "heatmapgl"
           }
          ],
          "histogram": [
           {
            "marker": {
             "pattern": {
              "fillmode": "overlay",
              "size": 10,
              "solidity": 0.2
             }
            },
            "type": "histogram"
           }
          ],
          "histogram2d": [
           {
            "colorbar": {
             "outlinewidth": 0,
             "ticks": ""
            },
            "colorscale": [
             [
              0,
              "#0d0887"
             ],
             [
              0.1111111111111111,
              "#46039f"
             ],
             [
              0.2222222222222222,
              "#7201a8"
             ],
             [
              0.3333333333333333,
              "#9c179e"
             ],
             [
              0.4444444444444444,
              "#bd3786"
             ],
             [
              0.5555555555555556,
              "#d8576b"
             ],
             [
              0.6666666666666666,
              "#ed7953"
             ],
             [
              0.7777777777777778,
              "#fb9f3a"
             ],
             [
              0.8888888888888888,
              "#fdca26"
             ],
             [
              1,
              "#f0f921"
             ]
            ],
            "type": "histogram2d"
           }
          ],
          "histogram2dcontour": [
           {
            "colorbar": {
             "outlinewidth": 0,
             "ticks": ""
            },
            "colorscale": [
             [
              0,
              "#0d0887"
             ],
             [
              0.1111111111111111,
              "#46039f"
             ],
             [
              0.2222222222222222,
              "#7201a8"
             ],
             [
              0.3333333333333333,
              "#9c179e"
             ],
             [
              0.4444444444444444,
              "#bd3786"
             ],
             [
              0.5555555555555556,
              "#d8576b"
             ],
             [
              0.6666666666666666,
              "#ed7953"
             ],
             [
              0.7777777777777778,
              "#fb9f3a"
             ],
             [
              0.8888888888888888,
              "#fdca26"
             ],
             [
              1,
              "#f0f921"
             ]
            ],
            "type": "histogram2dcontour"
           }
          ],
          "mesh3d": [
           {
            "colorbar": {
             "outlinewidth": 0,
             "ticks": ""
            },
            "type": "mesh3d"
           }
          ],
          "parcoords": [
           {
            "line": {
             "colorbar": {
              "outlinewidth": 0,
              "ticks": ""
             }
            },
            "type": "parcoords"
           }
          ],
          "pie": [
           {
            "automargin": true,
            "type": "pie"
           }
          ],
          "scatter": [
           {
            "fillpattern": {
             "fillmode": "overlay",
             "size": 10,
             "solidity": 0.2
            },
            "type": "scatter"
           }
          ],
          "scatter3d": [
           {
            "line": {
             "colorbar": {
              "outlinewidth": 0,
              "ticks": ""
             }
            },
            "marker": {
             "colorbar": {
              "outlinewidth": 0,
              "ticks": ""
             }
            },
            "type": "scatter3d"
           }
          ],
          "scattercarpet": [
           {
            "marker": {
             "colorbar": {
              "outlinewidth": 0,
              "ticks": ""
             }
            },
            "type": "scattercarpet"
           }
          ],
          "scattergeo": [
           {
            "marker": {
             "colorbar": {
              "outlinewidth": 0,
              "ticks": ""
             }
            },
            "type": "scattergeo"
           }
          ],
          "scattergl": [
           {
            "marker": {
             "colorbar": {
              "outlinewidth": 0,
              "ticks": ""
             }
            },
            "type": "scattergl"
           }
          ],
          "scattermapbox": [
           {
            "marker": {
             "colorbar": {
              "outlinewidth": 0,
              "ticks": ""
             }
            },
            "type": "scattermapbox"
           }
          ],
          "scatterpolar": [
           {
            "marker": {
             "colorbar": {
              "outlinewidth": 0,
              "ticks": ""
             }
            },
            "type": "scatterpolar"
           }
          ],
          "scatterpolargl": [
           {
            "marker": {
             "colorbar": {
              "outlinewidth": 0,
              "ticks": ""
             }
            },
            "type": "scatterpolargl"
           }
          ],
          "scatterternary": [
           {
            "marker": {
             "colorbar": {
              "outlinewidth": 0,
              "ticks": ""
             }
            },
            "type": "scatterternary"
           }
          ],
          "surface": [
           {
            "colorbar": {
             "outlinewidth": 0,
             "ticks": ""
            },
            "colorscale": [
             [
              0,
              "#0d0887"
             ],
             [
              0.1111111111111111,
              "#46039f"
             ],
             [
              0.2222222222222222,
              "#7201a8"
             ],
             [
              0.3333333333333333,
              "#9c179e"
             ],
             [
              0.4444444444444444,
              "#bd3786"
             ],
             [
              0.5555555555555556,
              "#d8576b"
             ],
             [
              0.6666666666666666,
              "#ed7953"
             ],
             [
              0.7777777777777778,
              "#fb9f3a"
             ],
             [
              0.8888888888888888,
              "#fdca26"
             ],
             [
              1,
              "#f0f921"
             ]
            ],
            "type": "surface"
           }
          ],
          "table": [
           {
            "cells": {
             "fill": {
              "color": "#EBF0F8"
             },
             "line": {
              "color": "white"
             }
            },
            "header": {
             "fill": {
              "color": "#C8D4E3"
             },
             "line": {
              "color": "white"
             }
            },
            "type": "table"
           }
          ]
         },
         "layout": {
          "annotationdefaults": {
           "arrowcolor": "#2a3f5f",
           "arrowhead": 0,
           "arrowwidth": 1
          },
          "autotypenumbers": "strict",
          "coloraxis": {
           "colorbar": {
            "outlinewidth": 0,
            "ticks": ""
           }
          },
          "colorscale": {
           "diverging": [
            [
             0,
             "#8e0152"
            ],
            [
             0.1,
             "#c51b7d"
            ],
            [
             0.2,
             "#de77ae"
            ],
            [
             0.3,
             "#f1b6da"
            ],
            [
             0.4,
             "#fde0ef"
            ],
            [
             0.5,
             "#f7f7f7"
            ],
            [
             0.6,
             "#e6f5d0"
            ],
            [
             0.7,
             "#b8e186"
            ],
            [
             0.8,
             "#7fbc41"
            ],
            [
             0.9,
             "#4d9221"
            ],
            [
             1,
             "#276419"
            ]
           ],
           "sequential": [
            [
             0,
             "#0d0887"
            ],
            [
             0.1111111111111111,
             "#46039f"
            ],
            [
             0.2222222222222222,
             "#7201a8"
            ],
            [
             0.3333333333333333,
             "#9c179e"
            ],
            [
             0.4444444444444444,
             "#bd3786"
            ],
            [
             0.5555555555555556,
             "#d8576b"
            ],
            [
             0.6666666666666666,
             "#ed7953"
            ],
            [
             0.7777777777777778,
             "#fb9f3a"
            ],
            [
             0.8888888888888888,
             "#fdca26"
            ],
            [
             1,
             "#f0f921"
            ]
           ],
           "sequentialminus": [
            [
             0,
             "#0d0887"
            ],
            [
             0.1111111111111111,
             "#46039f"
            ],
            [
             0.2222222222222222,
             "#7201a8"
            ],
            [
             0.3333333333333333,
             "#9c179e"
            ],
            [
             0.4444444444444444,
             "#bd3786"
            ],
            [
             0.5555555555555556,
             "#d8576b"
            ],
            [
             0.6666666666666666,
             "#ed7953"
            ],
            [
             0.7777777777777778,
             "#fb9f3a"
            ],
            [
             0.8888888888888888,
             "#fdca26"
            ],
            [
             1,
             "#f0f921"
            ]
           ]
          },
          "colorway": [
           "#636efa",
           "#EF553B",
           "#00cc96",
           "#ab63fa",
           "#FFA15A",
           "#19d3f3",
           "#FF6692",
           "#B6E880",
           "#FF97FF",
           "#FECB52"
          ],
          "font": {
           "color": "#2a3f5f"
          },
          "geo": {
           "bgcolor": "white",
           "lakecolor": "white",
           "landcolor": "#E5ECF6",
           "showlakes": true,
           "showland": true,
           "subunitcolor": "white"
          },
          "hoverlabel": {
           "align": "left"
          },
          "hovermode": "closest",
          "mapbox": {
           "style": "light"
          },
          "paper_bgcolor": "white",
          "plot_bgcolor": "#E5ECF6",
          "polar": {
           "angularaxis": {
            "gridcolor": "white",
            "linecolor": "white",
            "ticks": ""
           },
           "bgcolor": "#E5ECF6",
           "radialaxis": {
            "gridcolor": "white",
            "linecolor": "white",
            "ticks": ""
           }
          },
          "scene": {
           "xaxis": {
            "backgroundcolor": "#E5ECF6",
            "gridcolor": "white",
            "gridwidth": 2,
            "linecolor": "white",
            "showbackground": true,
            "ticks": "",
            "zerolinecolor": "white"
           },
           "yaxis": {
            "backgroundcolor": "#E5ECF6",
            "gridcolor": "white",
            "gridwidth": 2,
            "linecolor": "white",
            "showbackground": true,
            "ticks": "",
            "zerolinecolor": "white"
           },
           "zaxis": {
            "backgroundcolor": "#E5ECF6",
            "gridcolor": "white",
            "gridwidth": 2,
            "linecolor": "white",
            "showbackground": true,
            "ticks": "",
            "zerolinecolor": "white"
           }
          },
          "shapedefaults": {
           "line": {
            "color": "#2a3f5f"
           }
          },
          "ternary": {
           "aaxis": {
            "gridcolor": "white",
            "linecolor": "white",
            "ticks": ""
           },
           "baxis": {
            "gridcolor": "white",
            "linecolor": "white",
            "ticks": ""
           },
           "bgcolor": "#E5ECF6",
           "caxis": {
            "gridcolor": "white",
            "linecolor": "white",
            "ticks": ""
           }
          },
          "title": {
           "x": 0.05
          },
          "xaxis": {
           "automargin": true,
           "gridcolor": "white",
           "linecolor": "white",
           "ticks": "",
           "title": {
            "standoff": 15
           },
           "zerolinecolor": "white",
           "zerolinewidth": 2
          },
          "yaxis": {
           "automargin": true,
           "gridcolor": "white",
           "linecolor": "white",
           "ticks": "",
           "title": {
            "standoff": 15
           },
           "zerolinecolor": "white",
           "zerolinewidth": 2
          }
         }
        },
        "title": {
         "text": "Portfolio Value Performance Quarterly with Transaction cost"
        },
        "xaxis": {
         "title": {
          "text": "Quarterly Trade Date"
         }
        },
        "yaxis": {
         "title": {
          "text": "Portfolio Value"
         }
        }
       }
      }
     },
     "metadata": {},
     "output_type": "display_data"
    }
   ],
   "source": [
    "trace0 = go.Scatter(x = time_ind, y = portfolio_cost_meanv, mode = 'lines', name = 'Mean-Variance')\n",
    "trace1 = go.Scatter(x = time_ind, y = portfolio_cost_equal, mode = 'lines', name = 'Equally Weighted')\n",
    "trace2 = go.Scatter(x = time_ind, y = portfolio_cost_minv, mode = 'lines', name = 'Min-Variance')\n",
    "trace3 = go.Scatter(x = time_ind, y = spx_value, mode = 'lines', name = 'SPX')\n",
    "\n",
    "data = [trace0, trace1, trace2, trace3]\n",
    "layout = dict(title = \"Portfolio Value Performance Quarterly with Transaction cost\", \n",
    "              xaxis = dict(title = 'Quarterly Trade Date'), \n",
    "              yaxis = dict(title = 'Portfolio Value'))\n",
    "fig = dict(data = data, layout = layout)\n",
    "\n",
    "plotly.offline.iplot(fig)\n",
    "\n",
    "#portfolio_tmp = portfolio_cost_value"
   ]
  },
  {
   "cell_type": "markdown",
   "metadata": {},
   "source": [
    "## 4.2 Plot Portfolio Return"
   ]
  },
  {
   "cell_type": "code",
   "execution_count": 159,
   "metadata": {},
   "outputs": [
    {
     "data": {
      "application/vnd.plotly.v1+json": {
       "config": {
        "linkText": "Export to plot.ly",
        "plotlyServerURL": "https://plot.ly",
        "showLink": false
       },
       "data": [
        {
         "mode": "lines",
         "name": "Mean-Variance",
         "type": "scatter",
         "x": [
          "2004-12-01",
          "2005-03-01",
          "2005-06-01",
          "2005-09-01",
          "2005-12-01",
          "2006-03-01",
          "2006-06-01",
          "2006-09-01",
          "2006-12-01",
          "2007-03-01",
          "2007-06-01",
          "2008-12-01",
          "2009-06-01",
          "2009-09-01",
          "2009-12-01",
          "2010-03-01",
          "2010-06-01",
          "2010-09-01",
          "2010-12-01",
          "2011-03-01",
          "2011-06-01",
          "2011-09-01",
          "2011-12-01",
          "2012-03-01",
          "2012-06-01",
          "2013-03-01",
          "2014-12-01",
          "2015-06-01",
          "2015-09-01",
          "2015-12-01",
          "2016-03-01",
          "2016-06-01",
          "2016-09-01",
          "2016-12-01",
          "2017-03-01",
          "2017-06-01",
          "2017-09-01",
          "2017-12-01",
          "2018-03-01",
          "2018-06-01",
          "2019-03-01",
          "2020-06-01",
          "2020-09-01",
          "2020-12-01",
          "2021-03-01",
          "2021-06-01",
          "2021-09-01",
          "2021-12-01",
          "2022-03-01",
          "2022-06-01",
          "2022-09-01",
          "2022-12-01",
          "2023-03-01",
          "2023-06-01"
         ],
         "y": [
          0,
          0.05035236404960251,
          0.008827309716482348,
          0.09493212377247387,
          0.08026380061272823,
          0.09065350410912225,
          0.017047038287469802,
          0.6626441201332767,
          0.1213230389316242,
          0.07451087879738762,
          0.1140920849282699,
          -0.466853221854867,
          0.45056240385809326,
          0.12219911548886339,
          0.12082976020148237,
          0.08877264232661218,
          -0.004502600399677705,
          0.025994056337418452,
          0.13339949222699116,
          0.12972923583539991,
          0.020558291780591948,
          -0.15498588587018688,
          0.018216857932268543,
          0.1490167911792533,
          -0.09461823308821313,
          0.28421525886222854,
          0.432730243258079,
          0.07681709277231655,
          -0.11147070161725586,
          0.09649916292310237,
          -0.09253664527596617,
          0.1333587681428517,
          0.05228109872119675,
          0.02124675685857517,
          0.11539817453350198,
          0.02060888351663084,
          0.020696768786149344,
          0.08969182246255268,
          0.007080655151595947,
          0.05398304834878208,
          0.03054948974743357,
          -0.00005368940416053499,
          0.1686056765069396,
          0.17944375160555362,
          0.20638909655981025,
          0.1367020921548052,
          0.017617748833597267,
          -0.05928994566497891,
          0.024878763301797755,
          -0.0051002036422334975,
          -0.028151355079728997,
          0.061899589990382045,
          0.047255060374924066,
          -0.03456149885131537,
          0.07831671148201721
         ]
        },
        {
         "mode": "lines",
         "name": "Minimum-Variance",
         "type": "scatter",
         "x": [
          "2004-12-01",
          "2005-03-01",
          "2005-06-01",
          "2005-09-01",
          "2005-12-01",
          "2006-03-01",
          "2006-06-01",
          "2006-09-01",
          "2006-12-01",
          "2007-03-01",
          "2007-06-01",
          "2008-12-01",
          "2009-06-01",
          "2009-09-01",
          "2009-12-01",
          "2010-03-01",
          "2010-06-01",
          "2010-09-01",
          "2010-12-01",
          "2011-03-01",
          "2011-06-01",
          "2011-09-01",
          "2011-12-01",
          "2012-03-01",
          "2012-06-01",
          "2013-03-01",
          "2014-12-01",
          "2015-06-01",
          "2015-09-01",
          "2015-12-01",
          "2016-03-01",
          "2016-06-01",
          "2016-09-01",
          "2016-12-01",
          "2017-03-01",
          "2017-06-01",
          "2017-09-01",
          "2017-12-01",
          "2018-03-01",
          "2018-06-01",
          "2019-03-01",
          "2020-06-01",
          "2020-09-01",
          "2020-12-01",
          "2021-03-01",
          "2021-06-01",
          "2021-09-01",
          "2021-12-01",
          "2022-03-01",
          "2022-06-01",
          "2022-09-01",
          "2022-12-01",
          "2023-03-01",
          "2023-06-01"
         ],
         "y": [
          0,
          0.05045034724881253,
          0.022509191943582436,
          0.09496739420444252,
          0.08611447879471397,
          0.09105913420029585,
          0.016643602956998477,
          0.6633227597751075,
          0.12156283081900812,
          0.09208648789169709,
          0.10940822059335634,
          -0.5289229018397104,
          0.4555187197081326,
          0.11033186212969949,
          0.12093692081655526,
          0.11227995561422978,
          -0.004358769898628739,
          0.02591737395783892,
          0.1277742656422655,
          0.13051763544000441,
          0.020629790088867644,
          -0.13557195406732842,
          0.024683175030609097,
          0.14694813188185057,
          -0.06647287125363555,
          0.2841744671732834,
          0.4351082677022947,
          0.07700276242831795,
          -0.09699249730337983,
          0.05377510279106299,
          -0.06595580136785031,
          0.10941872674823645,
          0.06191503233319763,
          0.026760362660151003,
          0.10954832211152632,
          0.022634998342176582,
          0.011350265118381211,
          0.11259875650287736,
          0.027191634212755608,
          0.05654490835046953,
          0.03117787609136112,
          0.0002800708253075516,
          0.1564358707417708,
          0.17949259865412615,
          0.2487471369383561,
          0.13938019131126636,
          0.023551900379698034,
          -0.0533573289695042,
          0.03332196302471715,
          -0.025452824510630814,
          -0.03131008241361201,
          0.06689674855551729,
          0.01990861912293299,
          -0.05695010131887992,
          0.09266280889892062
         ]
        },
        {
         "mode": "lines",
         "name": "Equally Weighted",
         "type": "scatter",
         "x": [
          "2004-12-01",
          "2005-03-01",
          "2005-06-01",
          "2005-09-01",
          "2005-12-01",
          "2006-03-01",
          "2006-06-01",
          "2006-09-01",
          "2006-12-01",
          "2007-03-01",
          "2007-06-01",
          "2008-12-01",
          "2009-06-01",
          "2009-09-01",
          "2009-12-01",
          "2010-03-01",
          "2010-06-01",
          "2010-09-01",
          "2010-12-01",
          "2011-03-01",
          "2011-06-01",
          "2011-09-01",
          "2011-12-01",
          "2012-03-01",
          "2012-06-01",
          "2013-03-01",
          "2014-12-01",
          "2015-06-01",
          "2015-09-01",
          "2015-12-01",
          "2016-03-01",
          "2016-06-01",
          "2016-09-01",
          "2016-12-01",
          "2017-03-01",
          "2017-06-01",
          "2017-09-01",
          "2017-12-01",
          "2018-03-01",
          "2018-06-01",
          "2019-03-01",
          "2020-06-01",
          "2020-09-01",
          "2020-12-01",
          "2021-03-01",
          "2021-06-01",
          "2021-09-01",
          "2021-12-01",
          "2022-03-01",
          "2022-06-01",
          "2022-09-01",
          "2022-12-01",
          "2023-03-01",
          "2023-06-01"
         ],
         "y": [
          0,
          0.050450434020923876,
          0.022923686710167417,
          0.0943449691886126,
          0.08654582883933729,
          0.09173905143784866,
          0.01688390036993161,
          0.6626694003686108,
          0.12156719127855546,
          0.09249652183568195,
          0.10886318965533642,
          -0.5287880792987641,
          0.45606187530475395,
          0.11057481682599173,
          0.12180883399036359,
          0.11230877881450721,
          -0.0040147647603646424,
          0.02548097789650323,
          0.12818967489115501,
          0.13103787867343103,
          0.020028845489604447,
          -0.13531973087371543,
          0.025053883630492994,
          0.14642683172531934,
          -0.06631688807658762,
          0.28364020322752953,
          0.4359501869240568,
          0.07594922617725776,
          -0.09698225294843302,
          0.052842961977514355,
          -0.06597313543334773,
          0.10957258049809702,
          0.06230984485150734,
          0.025832134701979897,
          0.10861204104638883,
          0.02348819784279267,
          0.010831098283250606,
          0.11228532539545402,
          0.02671170074956657,
          0.056535342771745184,
          0.031155018785702884,
          0.00047202059360757675,
          0.15640163163712287,
          0.18032628292377786,
          0.2495668356542648,
          0.13902398694003673,
          0.02315393779990177,
          -0.05378301836891302,
          0.03335419827973934,
          -0.02443351656331564,
          -0.03199586498424709,
          0.06674115014034056,
          0.02035834636600059,
          -0.057551547685574855,
          0.09385379579700562
         ]
        },
        {
         "mode": "lines",
         "name": "SPX",
         "type": "scatter",
         "x": [
          "2004-12-01",
          "2005-03-01",
          "2005-06-01",
          "2005-09-01",
          "2005-12-01",
          "2006-03-01",
          "2006-06-01",
          "2006-09-01",
          "2006-12-01",
          "2007-03-01",
          "2007-06-01",
          "2008-12-01",
          "2009-06-01",
          "2009-09-01",
          "2009-12-01",
          "2010-03-01",
          "2010-06-01",
          "2010-09-01",
          "2010-12-01",
          "2011-03-01",
          "2011-06-01",
          "2011-09-01",
          "2011-12-01",
          "2012-03-01",
          "2012-06-01",
          "2013-03-01",
          "2014-12-01",
          "2015-06-01",
          "2015-09-01",
          "2015-12-01",
          "2016-03-01",
          "2016-06-01",
          "2016-09-01",
          "2016-12-01",
          "2017-03-01",
          "2017-06-01",
          "2017-09-01",
          "2017-12-01",
          "2018-03-01",
          "2018-06-01",
          "2019-03-01",
          "2020-06-01",
          "2020-09-01",
          "2020-12-01",
          "2021-03-01",
          "2021-06-01",
          "2021-09-01",
          "2021-12-01",
          "2022-03-01",
          "2022-06-01",
          "2022-09-01",
          "2022-12-01",
          "2023-03-01",
          "2023-06-01"
         ],
         "y": [
          0,
          0.015730238947832015,
          -0.006812450030897837,
          0.01585638033968322,
          0.03406428287856472,
          0.020577078227138664,
          -0.004301148365407913,
          0.019298135513586202,
          0.06135844489456598,
          0.004603920270168108,
          0.0866799828408391,
          -0.8822851036638965,
          0.13433450401482872,
          0.055278329650883605,
          0.09994048733671584,
          0.006139566577125166,
          -0.042028188437323,
          0.008868061148942749,
          0.10428906516870991,
          0.07674937660346187,
          0.006253160753191119,
          -0.0914382033381479,
          0.032267844194343066,
          0.09425147769586494,
          -0.0751540826751167,
          0.15818727429413978,
          0.2606552933161651,
          0.027602979358924053,
          -0.1033936867607559,
          0.08978275671324937,
          -0.06281998067088922,
          0.05762795655608152,
          0.032950086950478095,
          0.009228312057142194,
          0.08551056200969813,
          0.014032615175767864,
          0.01877207781703161,
          0.06270103311304294,
          0.013239104223515227,
          0.020825633130744352,
          0.024635329035031087,
          0.08248112257086176,
          0.13353180352890567,
          0.0370790183179631,
          0.06134832283236208,
          0.07144624228047713,
          0.07118554578053078,
          -0.0024484171626794143,
          -0.04801853225115146,
          -0.04999226723023616,
          -0.03387571486300836,
          0.026914776114048754,
          -0.03168003643891869
         ]
        }
       ],
       "layout": {
        "template": {
         "data": {
          "bar": [
           {
            "error_x": {
             "color": "#2a3f5f"
            },
            "error_y": {
             "color": "#2a3f5f"
            },
            "marker": {
             "line": {
              "color": "#E5ECF6",
              "width": 0.5
             },
             "pattern": {
              "fillmode": "overlay",
              "size": 10,
              "solidity": 0.2
             }
            },
            "type": "bar"
           }
          ],
          "barpolar": [
           {
            "marker": {
             "line": {
              "color": "#E5ECF6",
              "width": 0.5
             },
             "pattern": {
              "fillmode": "overlay",
              "size": 10,
              "solidity": 0.2
             }
            },
            "type": "barpolar"
           }
          ],
          "carpet": [
           {
            "aaxis": {
             "endlinecolor": "#2a3f5f",
             "gridcolor": "white",
             "linecolor": "white",
             "minorgridcolor": "white",
             "startlinecolor": "#2a3f5f"
            },
            "baxis": {
             "endlinecolor": "#2a3f5f",
             "gridcolor": "white",
             "linecolor": "white",
             "minorgridcolor": "white",
             "startlinecolor": "#2a3f5f"
            },
            "type": "carpet"
           }
          ],
          "choropleth": [
           {
            "colorbar": {
             "outlinewidth": 0,
             "ticks": ""
            },
            "type": "choropleth"
           }
          ],
          "contour": [
           {
            "colorbar": {
             "outlinewidth": 0,
             "ticks": ""
            },
            "colorscale": [
             [
              0,
              "#0d0887"
             ],
             [
              0.1111111111111111,
              "#46039f"
             ],
             [
              0.2222222222222222,
              "#7201a8"
             ],
             [
              0.3333333333333333,
              "#9c179e"
             ],
             [
              0.4444444444444444,
              "#bd3786"
             ],
             [
              0.5555555555555556,
              "#d8576b"
             ],
             [
              0.6666666666666666,
              "#ed7953"
             ],
             [
              0.7777777777777778,
              "#fb9f3a"
             ],
             [
              0.8888888888888888,
              "#fdca26"
             ],
             [
              1,
              "#f0f921"
             ]
            ],
            "type": "contour"
           }
          ],
          "contourcarpet": [
           {
            "colorbar": {
             "outlinewidth": 0,
             "ticks": ""
            },
            "type": "contourcarpet"
           }
          ],
          "heatmap": [
           {
            "colorbar": {
             "outlinewidth": 0,
             "ticks": ""
            },
            "colorscale": [
             [
              0,
              "#0d0887"
             ],
             [
              0.1111111111111111,
              "#46039f"
             ],
             [
              0.2222222222222222,
              "#7201a8"
             ],
             [
              0.3333333333333333,
              "#9c179e"
             ],
             [
              0.4444444444444444,
              "#bd3786"
             ],
             [
              0.5555555555555556,
              "#d8576b"
             ],
             [
              0.6666666666666666,
              "#ed7953"
             ],
             [
              0.7777777777777778,
              "#fb9f3a"
             ],
             [
              0.8888888888888888,
              "#fdca26"
             ],
             [
              1,
              "#f0f921"
             ]
            ],
            "type": "heatmap"
           }
          ],
          "heatmapgl": [
           {
            "colorbar": {
             "outlinewidth": 0,
             "ticks": ""
            },
            "colorscale": [
             [
              0,
              "#0d0887"
             ],
             [
              0.1111111111111111,
              "#46039f"
             ],
             [
              0.2222222222222222,
              "#7201a8"
             ],
             [
              0.3333333333333333,
              "#9c179e"
             ],
             [
              0.4444444444444444,
              "#bd3786"
             ],
             [
              0.5555555555555556,
              "#d8576b"
             ],
             [
              0.6666666666666666,
              "#ed7953"
             ],
             [
              0.7777777777777778,
              "#fb9f3a"
             ],
             [
              0.8888888888888888,
              "#fdca26"
             ],
             [
              1,
              "#f0f921"
             ]
            ],
            "type": "heatmapgl"
           }
          ],
          "histogram": [
           {
            "marker": {
             "pattern": {
              "fillmode": "overlay",
              "size": 10,
              "solidity": 0.2
             }
            },
            "type": "histogram"
           }
          ],
          "histogram2d": [
           {
            "colorbar": {
             "outlinewidth": 0,
             "ticks": ""
            },
            "colorscale": [
             [
              0,
              "#0d0887"
             ],
             [
              0.1111111111111111,
              "#46039f"
             ],
             [
              0.2222222222222222,
              "#7201a8"
             ],
             [
              0.3333333333333333,
              "#9c179e"
             ],
             [
              0.4444444444444444,
              "#bd3786"
             ],
             [
              0.5555555555555556,
              "#d8576b"
             ],
             [
              0.6666666666666666,
              "#ed7953"
             ],
             [
              0.7777777777777778,
              "#fb9f3a"
             ],
             [
              0.8888888888888888,
              "#fdca26"
             ],
             [
              1,
              "#f0f921"
             ]
            ],
            "type": "histogram2d"
           }
          ],
          "histogram2dcontour": [
           {
            "colorbar": {
             "outlinewidth": 0,
             "ticks": ""
            },
            "colorscale": [
             [
              0,
              "#0d0887"
             ],
             [
              0.1111111111111111,
              "#46039f"
             ],
             [
              0.2222222222222222,
              "#7201a8"
             ],
             [
              0.3333333333333333,
              "#9c179e"
             ],
             [
              0.4444444444444444,
              "#bd3786"
             ],
             [
              0.5555555555555556,
              "#d8576b"
             ],
             [
              0.6666666666666666,
              "#ed7953"
             ],
             [
              0.7777777777777778,
              "#fb9f3a"
             ],
             [
              0.8888888888888888,
              "#fdca26"
             ],
             [
              1,
              "#f0f921"
             ]
            ],
            "type": "histogram2dcontour"
           }
          ],
          "mesh3d": [
           {
            "colorbar": {
             "outlinewidth": 0,
             "ticks": ""
            },
            "type": "mesh3d"
           }
          ],
          "parcoords": [
           {
            "line": {
             "colorbar": {
              "outlinewidth": 0,
              "ticks": ""
             }
            },
            "type": "parcoords"
           }
          ],
          "pie": [
           {
            "automargin": true,
            "type": "pie"
           }
          ],
          "scatter": [
           {
            "fillpattern": {
             "fillmode": "overlay",
             "size": 10,
             "solidity": 0.2
            },
            "type": "scatter"
           }
          ],
          "scatter3d": [
           {
            "line": {
             "colorbar": {
              "outlinewidth": 0,
              "ticks": ""
             }
            },
            "marker": {
             "colorbar": {
              "outlinewidth": 0,
              "ticks": ""
             }
            },
            "type": "scatter3d"
           }
          ],
          "scattercarpet": [
           {
            "marker": {
             "colorbar": {
              "outlinewidth": 0,
              "ticks": ""
             }
            },
            "type": "scattercarpet"
           }
          ],
          "scattergeo": [
           {
            "marker": {
             "colorbar": {
              "outlinewidth": 0,
              "ticks": ""
             }
            },
            "type": "scattergeo"
           }
          ],
          "scattergl": [
           {
            "marker": {
             "colorbar": {
              "outlinewidth": 0,
              "ticks": ""
             }
            },
            "type": "scattergl"
           }
          ],
          "scattermapbox": [
           {
            "marker": {
             "colorbar": {
              "outlinewidth": 0,
              "ticks": ""
             }
            },
            "type": "scattermapbox"
           }
          ],
          "scatterpolar": [
           {
            "marker": {
             "colorbar": {
              "outlinewidth": 0,
              "ticks": ""
             }
            },
            "type": "scatterpolar"
           }
          ],
          "scatterpolargl": [
           {
            "marker": {
             "colorbar": {
              "outlinewidth": 0,
              "ticks": ""
             }
            },
            "type": "scatterpolargl"
           }
          ],
          "scatterternary": [
           {
            "marker": {
             "colorbar": {
              "outlinewidth": 0,
              "ticks": ""
             }
            },
            "type": "scatterternary"
           }
          ],
          "surface": [
           {
            "colorbar": {
             "outlinewidth": 0,
             "ticks": ""
            },
            "colorscale": [
             [
              0,
              "#0d0887"
             ],
             [
              0.1111111111111111,
              "#46039f"
             ],
             [
              0.2222222222222222,
              "#7201a8"
             ],
             [
              0.3333333333333333,
              "#9c179e"
             ],
             [
              0.4444444444444444,
              "#bd3786"
             ],
             [
              0.5555555555555556,
              "#d8576b"
             ],
             [
              0.6666666666666666,
              "#ed7953"
             ],
             [
              0.7777777777777778,
              "#fb9f3a"
             ],
             [
              0.8888888888888888,
              "#fdca26"
             ],
             [
              1,
              "#f0f921"
             ]
            ],
            "type": "surface"
           }
          ],
          "table": [
           {
            "cells": {
             "fill": {
              "color": "#EBF0F8"
             },
             "line": {
              "color": "white"
             }
            },
            "header": {
             "fill": {
              "color": "#C8D4E3"
             },
             "line": {
              "color": "white"
             }
            },
            "type": "table"
           }
          ]
         },
         "layout": {
          "annotationdefaults": {
           "arrowcolor": "#2a3f5f",
           "arrowhead": 0,
           "arrowwidth": 1
          },
          "autotypenumbers": "strict",
          "coloraxis": {
           "colorbar": {
            "outlinewidth": 0,
            "ticks": ""
           }
          },
          "colorscale": {
           "diverging": [
            [
             0,
             "#8e0152"
            ],
            [
             0.1,
             "#c51b7d"
            ],
            [
             0.2,
             "#de77ae"
            ],
            [
             0.3,
             "#f1b6da"
            ],
            [
             0.4,
             "#fde0ef"
            ],
            [
             0.5,
             "#f7f7f7"
            ],
            [
             0.6,
             "#e6f5d0"
            ],
            [
             0.7,
             "#b8e186"
            ],
            [
             0.8,
             "#7fbc41"
            ],
            [
             0.9,
             "#4d9221"
            ],
            [
             1,
             "#276419"
            ]
           ],
           "sequential": [
            [
             0,
             "#0d0887"
            ],
            [
             0.1111111111111111,
             "#46039f"
            ],
            [
             0.2222222222222222,
             "#7201a8"
            ],
            [
             0.3333333333333333,
             "#9c179e"
            ],
            [
             0.4444444444444444,
             "#bd3786"
            ],
            [
             0.5555555555555556,
             "#d8576b"
            ],
            [
             0.6666666666666666,
             "#ed7953"
            ],
            [
             0.7777777777777778,
             "#fb9f3a"
            ],
            [
             0.8888888888888888,
             "#fdca26"
            ],
            [
             1,
             "#f0f921"
            ]
           ],
           "sequentialminus": [
            [
             0,
             "#0d0887"
            ],
            [
             0.1111111111111111,
             "#46039f"
            ],
            [
             0.2222222222222222,
             "#7201a8"
            ],
            [
             0.3333333333333333,
             "#9c179e"
            ],
            [
             0.4444444444444444,
             "#bd3786"
            ],
            [
             0.5555555555555556,
             "#d8576b"
            ],
            [
             0.6666666666666666,
             "#ed7953"
            ],
            [
             0.7777777777777778,
             "#fb9f3a"
            ],
            [
             0.8888888888888888,
             "#fdca26"
            ],
            [
             1,
             "#f0f921"
            ]
           ]
          },
          "colorway": [
           "#636efa",
           "#EF553B",
           "#00cc96",
           "#ab63fa",
           "#FFA15A",
           "#19d3f3",
           "#FF6692",
           "#B6E880",
           "#FF97FF",
           "#FECB52"
          ],
          "font": {
           "color": "#2a3f5f"
          },
          "geo": {
           "bgcolor": "white",
           "lakecolor": "white",
           "landcolor": "#E5ECF6",
           "showlakes": true,
           "showland": true,
           "subunitcolor": "white"
          },
          "hoverlabel": {
           "align": "left"
          },
          "hovermode": "closest",
          "mapbox": {
           "style": "light"
          },
          "paper_bgcolor": "white",
          "plot_bgcolor": "#E5ECF6",
          "polar": {
           "angularaxis": {
            "gridcolor": "white",
            "linecolor": "white",
            "ticks": ""
           },
           "bgcolor": "#E5ECF6",
           "radialaxis": {
            "gridcolor": "white",
            "linecolor": "white",
            "ticks": ""
           }
          },
          "scene": {
           "xaxis": {
            "backgroundcolor": "#E5ECF6",
            "gridcolor": "white",
            "gridwidth": 2,
            "linecolor": "white",
            "showbackground": true,
            "ticks": "",
            "zerolinecolor": "white"
           },
           "yaxis": {
            "backgroundcolor": "#E5ECF6",
            "gridcolor": "white",
            "gridwidth": 2,
            "linecolor": "white",
            "showbackground": true,
            "ticks": "",
            "zerolinecolor": "white"
           },
           "zaxis": {
            "backgroundcolor": "#E5ECF6",
            "gridcolor": "white",
            "gridwidth": 2,
            "linecolor": "white",
            "showbackground": true,
            "ticks": "",
            "zerolinecolor": "white"
           }
          },
          "shapedefaults": {
           "line": {
            "color": "#2a3f5f"
           }
          },
          "ternary": {
           "aaxis": {
            "gridcolor": "white",
            "linecolor": "white",
            "ticks": ""
           },
           "baxis": {
            "gridcolor": "white",
            "linecolor": "white",
            "ticks": ""
           },
           "bgcolor": "#E5ECF6",
           "caxis": {
            "gridcolor": "white",
            "linecolor": "white",
            "ticks": ""
           }
          },
          "title": {
           "x": 0.05
          },
          "xaxis": {
           "automargin": true,
           "gridcolor": "white",
           "linecolor": "white",
           "ticks": "",
           "title": {
            "standoff": 15
           },
           "zerolinecolor": "white",
           "zerolinewidth": 2
          },
          "yaxis": {
           "automargin": true,
           "gridcolor": "white",
           "linecolor": "white",
           "ticks": "",
           "title": {
            "standoff": 15
           },
           "zerolinecolor": "white",
           "zerolinewidth": 2
          }
         }
        },
        "title": {
         "text": "Portfolio Return Quarterly"
        },
        "xaxis": {
         "title": {
          "text": "Quarterly Trade Date"
         }
        },
        "yaxis": {
         "title": {
          "text": "Portfolio Value"
         }
        }
       }
      }
     },
     "metadata": {},
     "output_type": "display_data"
    }
   ],
   "source": [
    "trace_return1 = go.Scatter(x = time_ind, y = portfolio_return_meanv, mode = 'lines', name = 'Mean-Variance')\n",
    "trace_return2 = go.Scatter(x = time_ind, y = portfolio_return_minv, mode = 'lines', name = 'Minimum-Variance')\n",
    "trace_return3 = go.Scatter(x = time_ind, y = portfolio_return_equal, mode = 'lines', name = 'Equally Weighted')\n",
    "trace_return4 = go.Scatter(x = time_ind, y = spx_return, mode = 'lines', name = 'SPX')\n",
    "\n",
    "data = [trace_return1,trace_return2,trace_return3, trace_return4]\n",
    "layout = dict(title = \"Portfolio Return Quarterly\", \n",
    "              xaxis = dict(title = 'Quarterly Trade Date'), \n",
    "              yaxis = dict(title = 'Portfolio Value'))\n",
    "fig = dict(data = data, layout = layout)\n",
    "plotly.offline.iplot(fig)"
   ]
  },
  {
   "cell_type": "markdown",
   "metadata": {},
   "source": [
    "## 4.3 Plot Portfolio Cumulative Return"
   ]
  },
  {
   "cell_type": "code",
   "execution_count": 160,
   "metadata": {},
   "outputs": [
    {
     "data": {
      "application/vnd.plotly.v1+json": {
       "config": {
        "linkText": "Export to plot.ly",
        "plotlyServerURL": "https://plot.ly",
        "showLink": false
       },
       "data": [
        {
         "mode": "lines",
         "name": "Mean-Variance",
         "type": "scatter",
         "x": [
          "2004-12-01",
          "2005-03-01",
          "2005-06-01",
          "2005-09-01",
          "2005-12-01",
          "2006-03-01",
          "2006-06-01",
          "2006-09-01",
          "2006-12-01",
          "2007-03-01",
          "2007-06-01",
          "2008-12-01",
          "2009-06-01",
          "2009-09-01",
          "2009-12-01",
          "2010-03-01",
          "2010-06-01",
          "2010-09-01",
          "2010-12-01",
          "2011-03-01",
          "2011-06-01",
          "2011-09-01",
          "2011-12-01",
          "2012-03-01",
          "2012-06-01",
          "2013-03-01",
          "2014-12-01",
          "2015-06-01",
          "2015-09-01",
          "2015-12-01",
          "2016-03-01",
          "2016-06-01",
          "2016-09-01",
          "2016-12-01",
          "2017-03-01",
          "2017-06-01",
          "2017-09-01",
          "2017-12-01",
          "2018-03-01",
          "2018-06-01",
          "2019-03-01",
          "2020-06-01",
          "2020-09-01",
          "2020-12-01",
          "2021-03-01",
          "2021-06-01",
          "2021-09-01",
          "2021-12-01",
          "2022-03-01",
          "2022-06-01",
          "2022-09-01",
          "2022-12-01",
          "2023-03-01",
          "2023-06-01"
         ],
         "y": [
          0,
          0.05035236404960251,
          0.059179673766084864,
          0.15411179753855875,
          0.23437559815128697,
          0.3250291022604092,
          0.342076140547879,
          1.0047202606811556,
          1.1260432996127798,
          1.2005541784101674,
          1.3146462633384373,
          0.8477930414835703,
          1.2983554453416635,
          1.4205545608305268,
          1.541384321032009,
          1.6301569633586213,
          1.6256543629589435,
          1.6516484192963619,
          1.785047911523353,
          1.914777147358753,
          1.935335439139345,
          1.780349553269158,
          1.7985664112014266,
          1.9475832023806798,
          1.8529649692924668,
          2.1371802281546954,
          2.5699104714127743,
          2.646727564185091,
          2.535256862567835,
          2.631756025490937,
          2.5392193802149707,
          2.6725781483578226,
          2.7248592470790194,
          2.7461060039375944,
          2.8615041784710966,
          2.8821130619877273,
          2.9028098307738768,
          2.9925016532364292,
          2.999582308388025,
          3.053565356736807,
          3.0841148464842405,
          3.0840611570800798,
          3.2526668335870195,
          3.4321105851925733,
          3.6384996817523834,
          3.7752017739071886,
          3.792819522740786,
          3.733529577075807,
          3.758408340377605,
          3.7533081367353716,
          3.7251567816556426,
          3.787056371646025,
          3.834311432020949,
          3.7997499331696334,
          3.8780666446516507
         ]
        },
        {
         "mode": "lines",
         "name": "Minimum-Variance",
         "type": "scatter",
         "x": [
          "2004-12-01",
          "2005-03-01",
          "2005-06-01",
          "2005-09-01",
          "2005-12-01",
          "2006-03-01",
          "2006-06-01",
          "2006-09-01",
          "2006-12-01",
          "2007-03-01",
          "2007-06-01",
          "2008-12-01",
          "2009-06-01",
          "2009-09-01",
          "2009-12-01",
          "2010-03-01",
          "2010-06-01",
          "2010-09-01",
          "2010-12-01",
          "2011-03-01",
          "2011-06-01",
          "2011-09-01",
          "2011-12-01",
          "2012-03-01",
          "2012-06-01",
          "2013-03-01",
          "2014-12-01",
          "2015-06-01",
          "2015-09-01",
          "2015-12-01",
          "2016-03-01",
          "2016-06-01",
          "2016-09-01",
          "2016-12-01",
          "2017-03-01",
          "2017-06-01",
          "2017-09-01",
          "2017-12-01",
          "2018-03-01",
          "2018-06-01",
          "2019-03-01",
          "2020-06-01",
          "2020-09-01",
          "2020-12-01",
          "2021-03-01",
          "2021-06-01",
          "2021-09-01",
          "2021-12-01",
          "2022-03-01",
          "2022-06-01",
          "2022-09-01",
          "2022-12-01",
          "2023-03-01",
          "2023-06-01"
         ],
         "y": [
          0,
          0.05045034724881253,
          0.07295953919239496,
          0.16792693339683748,
          0.25404141219155146,
          0.3451005463918473,
          0.36174414934884574,
          1.0250669091239533,
          1.1466297399429615,
          1.2387162278346586,
          1.348124448428015,
          0.8192015465883047,
          1.2747202662964372,
          1.3850521284261368,
          1.505989049242692,
          1.6182690048569217,
          1.613910234958293,
          1.6398276089161319,
          1.7676018745583975,
          1.8981195099984018,
          1.9187493000872695,
          1.7831773460199412,
          1.8078605210505503,
          1.954808652932401,
          1.8883357816787654,
          2.1725102488520487,
          2.6076185165543433,
          2.6846212789826613,
          2.5876287816792813,
          2.6414038844703445,
          2.575448083102494,
          2.6848668098507305,
          2.7467818421839283,
          2.7735422048440794,
          2.8830905269556055,
          2.905725525297782,
          2.9170757904161633,
          3.0296745469190407,
          3.056866181131796,
          3.1134110894822657,
          3.144588965573627,
          3.1448690363989344,
          3.3013049071407052,
          3.4807975057948313,
          3.7295446427331873,
          3.8689248340444538,
          3.892476734424152,
          3.839119405454648,
          3.872441368479365,
          3.846988543968734,
          3.8156784615551222,
          3.8825752101106397,
          3.9024838292335726,
          3.8455337279146926,
          3.938196536813613
         ]
        },
        {
         "mode": "lines",
         "name": "Equally Weighted",
         "type": "scatter",
         "x": [
          "2004-12-01",
          "2005-03-01",
          "2005-06-01",
          "2005-09-01",
          "2005-12-01",
          "2006-03-01",
          "2006-06-01",
          "2006-09-01",
          "2006-12-01",
          "2007-03-01",
          "2007-06-01",
          "2008-12-01",
          "2009-06-01",
          "2009-09-01",
          "2009-12-01",
          "2010-03-01",
          "2010-06-01",
          "2010-09-01",
          "2010-12-01",
          "2011-03-01",
          "2011-06-01",
          "2011-09-01",
          "2011-12-01",
          "2012-03-01",
          "2012-06-01",
          "2013-03-01",
          "2014-12-01",
          "2015-06-01",
          "2015-09-01",
          "2015-12-01",
          "2016-03-01",
          "2016-06-01",
          "2016-09-01",
          "2016-12-01",
          "2017-03-01",
          "2017-06-01",
          "2017-09-01",
          "2017-12-01",
          "2018-03-01",
          "2018-06-01",
          "2019-03-01",
          "2020-06-01",
          "2020-09-01",
          "2020-12-01",
          "2021-03-01",
          "2021-06-01",
          "2021-09-01",
          "2021-12-01",
          "2022-03-01",
          "2022-06-01",
          "2022-09-01",
          "2022-12-01",
          "2023-03-01",
          "2023-06-01"
         ],
         "y": [
          0,
          0.050450434020923876,
          0.07337412073109129,
          0.16771908991970388,
          0.25426491875904117,
          0.34600397019688983,
          0.3628878705668214,
          1.0255572709354321,
          1.1471244622139876,
          1.2396209840496695,
          1.348484173705006,
          0.8196960944062418,
          1.2757579697109958,
          1.3863327865369874,
          1.508141620527351,
          1.6204503993418582,
          1.6164356345814936,
          1.641916612477997,
          1.770106287369152,
          1.901144166042583,
          1.9211730115321874,
          1.785853280658472,
          1.810907164288965,
          1.9573339960142841,
          1.8910171079376965,
          2.174657311165226,
          2.6106074980892826,
          2.6865567242665405,
          2.5895744713181075,
          2.6424174332956216,
          2.576444297862274,
          2.686016878360371,
          2.7483267232118784,
          2.7741588579138585,
          2.8827708989602474,
          2.90625909680304,
          2.9170901950862906,
          3.0293755204817447,
          3.0560872212313113,
          3.1126225640030563,
          3.143777582788759,
          3.1442496033823666,
          3.3006512350194894,
          3.480977517943267,
          3.730544353597532,
          3.8695683405375685,
          3.8927222783374704,
          3.8389392599685572,
          3.8722934582482966,
          3.847859941684981,
          3.8158640767007337,
          3.8826052268410742,
          3.902963573207075,
          3.8454120255215,
          3.939265821318506
         ]
        },
        {
         "mode": "lines",
         "name": "SPX",
         "type": "scatter",
         "x": [
          "2004-12-01",
          "2005-03-01",
          "2005-06-01",
          "2005-09-01",
          "2005-12-01",
          "2006-03-01",
          "2006-06-01",
          "2006-09-01",
          "2006-12-01",
          "2007-03-01",
          "2007-06-01",
          "2008-12-01",
          "2009-06-01",
          "2009-09-01",
          "2009-12-01",
          "2010-03-01",
          "2010-06-01",
          "2010-09-01",
          "2010-12-01",
          "2011-03-01",
          "2011-06-01",
          "2011-09-01",
          "2011-12-01",
          "2012-03-01",
          "2012-06-01",
          "2013-03-01",
          "2014-12-01",
          "2015-06-01",
          "2015-09-01",
          "2015-12-01",
          "2016-03-01",
          "2016-06-01",
          "2016-09-01",
          "2016-12-01",
          "2017-03-01",
          "2017-06-01",
          "2017-09-01",
          "2017-12-01",
          "2018-03-01",
          "2018-06-01",
          "2019-03-01",
          "2020-06-01",
          "2020-09-01",
          "2020-12-01",
          "2021-03-01",
          "2021-06-01",
          "2021-09-01",
          "2021-12-01",
          "2022-03-01",
          "2022-06-01",
          "2022-09-01",
          "2022-12-01",
          "2023-03-01",
          "2023-06-01"
         ],
         "y": [
          0,
          0.015730238947832015,
          0.008917788916934177,
          0.024774169256617396,
          0.058838452135182115,
          0.07941553036232078,
          0.07511438199691287,
          0.09441251751049906,
          0.15577096240506505,
          0.16037488267523317,
          0.24705486551607225,
          -0.6352302381478242,
          -0.5008957341329955,
          -0.4456174044821119,
          -0.34567691714539606,
          -0.3395373505682709,
          -0.38156553900559387,
          -0.37269747785665114,
          -0.26840841268794124,
          -0.19165903608447937,
          -0.18540587533128824,
          -0.27684407866943617,
          -0.2445762344750931,
          -0.15032475677922819,
          -0.22547883945434488,
          -0.0672915651602051,
          0.19336372815596,
          0.22096670751488406,
          0.11757302075412816,
          0.20735577746737754,
          0.14453579679648831,
          0.20216375335256984,
          0.23511384030304794,
          0.24434215236019013,
          0.3298527143698883,
          0.34388532954565615,
          0.36265740736268776,
          0.4253584404757307,
          0.4385975446992459,
          0.45942317782999026,
          0.48405850686502133,
          0.5665396294358831,
          0.7000714329647888,
          0.7371504512827519,
          0.7984987741151139,
          0.8699450163955911,
          0.9411305621761219,
          0.9386821450134425,
          0.890663612762291,
          0.8406713455320548,
          0.8067956306690465,
          0.8337104067830953,
          0.8020303703441766
         ]
        }
       ],
       "layout": {
        "template": {
         "data": {
          "bar": [
           {
            "error_x": {
             "color": "#2a3f5f"
            },
            "error_y": {
             "color": "#2a3f5f"
            },
            "marker": {
             "line": {
              "color": "#E5ECF6",
              "width": 0.5
             },
             "pattern": {
              "fillmode": "overlay",
              "size": 10,
              "solidity": 0.2
             }
            },
            "type": "bar"
           }
          ],
          "barpolar": [
           {
            "marker": {
             "line": {
              "color": "#E5ECF6",
              "width": 0.5
             },
             "pattern": {
              "fillmode": "overlay",
              "size": 10,
              "solidity": 0.2
             }
            },
            "type": "barpolar"
           }
          ],
          "carpet": [
           {
            "aaxis": {
             "endlinecolor": "#2a3f5f",
             "gridcolor": "white",
             "linecolor": "white",
             "minorgridcolor": "white",
             "startlinecolor": "#2a3f5f"
            },
            "baxis": {
             "endlinecolor": "#2a3f5f",
             "gridcolor": "white",
             "linecolor": "white",
             "minorgridcolor": "white",
             "startlinecolor": "#2a3f5f"
            },
            "type": "carpet"
           }
          ],
          "choropleth": [
           {
            "colorbar": {
             "outlinewidth": 0,
             "ticks": ""
            },
            "type": "choropleth"
           }
          ],
          "contour": [
           {
            "colorbar": {
             "outlinewidth": 0,
             "ticks": ""
            },
            "colorscale": [
             [
              0,
              "#0d0887"
             ],
             [
              0.1111111111111111,
              "#46039f"
             ],
             [
              0.2222222222222222,
              "#7201a8"
             ],
             [
              0.3333333333333333,
              "#9c179e"
             ],
             [
              0.4444444444444444,
              "#bd3786"
             ],
             [
              0.5555555555555556,
              "#d8576b"
             ],
             [
              0.6666666666666666,
              "#ed7953"
             ],
             [
              0.7777777777777778,
              "#fb9f3a"
             ],
             [
              0.8888888888888888,
              "#fdca26"
             ],
             [
              1,
              "#f0f921"
             ]
            ],
            "type": "contour"
           }
          ],
          "contourcarpet": [
           {
            "colorbar": {
             "outlinewidth": 0,
             "ticks": ""
            },
            "type": "contourcarpet"
           }
          ],
          "heatmap": [
           {
            "colorbar": {
             "outlinewidth": 0,
             "ticks": ""
            },
            "colorscale": [
             [
              0,
              "#0d0887"
             ],
             [
              0.1111111111111111,
              "#46039f"
             ],
             [
              0.2222222222222222,
              "#7201a8"
             ],
             [
              0.3333333333333333,
              "#9c179e"
             ],
             [
              0.4444444444444444,
              "#bd3786"
             ],
             [
              0.5555555555555556,
              "#d8576b"
             ],
             [
              0.6666666666666666,
              "#ed7953"
             ],
             [
              0.7777777777777778,
              "#fb9f3a"
             ],
             [
              0.8888888888888888,
              "#fdca26"
             ],
             [
              1,
              "#f0f921"
             ]
            ],
            "type": "heatmap"
           }
          ],
          "heatmapgl": [
           {
            "colorbar": {
             "outlinewidth": 0,
             "ticks": ""
            },
            "colorscale": [
             [
              0,
              "#0d0887"
             ],
             [
              0.1111111111111111,
              "#46039f"
             ],
             [
              0.2222222222222222,
              "#7201a8"
             ],
             [
              0.3333333333333333,
              "#9c179e"
             ],
             [
              0.4444444444444444,
              "#bd3786"
             ],
             [
              0.5555555555555556,
              "#d8576b"
             ],
             [
              0.6666666666666666,
              "#ed7953"
             ],
             [
              0.7777777777777778,
              "#fb9f3a"
             ],
             [
              0.8888888888888888,
              "#fdca26"
             ],
             [
              1,
              "#f0f921"
             ]
            ],
            "type": "heatmapgl"
           }
          ],
          "histogram": [
           {
            "marker": {
             "pattern": {
              "fillmode": "overlay",
              "size": 10,
              "solidity": 0.2
             }
            },
            "type": "histogram"
           }
          ],
          "histogram2d": [
           {
            "colorbar": {
             "outlinewidth": 0,
             "ticks": ""
            },
            "colorscale": [
             [
              0,
              "#0d0887"
             ],
             [
              0.1111111111111111,
              "#46039f"
             ],
             [
              0.2222222222222222,
              "#7201a8"
             ],
             [
              0.3333333333333333,
              "#9c179e"
             ],
             [
              0.4444444444444444,
              "#bd3786"
             ],
             [
              0.5555555555555556,
              "#d8576b"
             ],
             [
              0.6666666666666666,
              "#ed7953"
             ],
             [
              0.7777777777777778,
              "#fb9f3a"
             ],
             [
              0.8888888888888888,
              "#fdca26"
             ],
             [
              1,
              "#f0f921"
             ]
            ],
            "type": "histogram2d"
           }
          ],
          "histogram2dcontour": [
           {
            "colorbar": {
             "outlinewidth": 0,
             "ticks": ""
            },
            "colorscale": [
             [
              0,
              "#0d0887"
             ],
             [
              0.1111111111111111,
              "#46039f"
             ],
             [
              0.2222222222222222,
              "#7201a8"
             ],
             [
              0.3333333333333333,
              "#9c179e"
             ],
             [
              0.4444444444444444,
              "#bd3786"
             ],
             [
              0.5555555555555556,
              "#d8576b"
             ],
             [
              0.6666666666666666,
              "#ed7953"
             ],
             [
              0.7777777777777778,
              "#fb9f3a"
             ],
             [
              0.8888888888888888,
              "#fdca26"
             ],
             [
              1,
              "#f0f921"
             ]
            ],
            "type": "histogram2dcontour"
           }
          ],
          "mesh3d": [
           {
            "colorbar": {
             "outlinewidth": 0,
             "ticks": ""
            },
            "type": "mesh3d"
           }
          ],
          "parcoords": [
           {
            "line": {
             "colorbar": {
              "outlinewidth": 0,
              "ticks": ""
             }
            },
            "type": "parcoords"
           }
          ],
          "pie": [
           {
            "automargin": true,
            "type": "pie"
           }
          ],
          "scatter": [
           {
            "fillpattern": {
             "fillmode": "overlay",
             "size": 10,
             "solidity": 0.2
            },
            "type": "scatter"
           }
          ],
          "scatter3d": [
           {
            "line": {
             "colorbar": {
              "outlinewidth": 0,
              "ticks": ""
             }
            },
            "marker": {
             "colorbar": {
              "outlinewidth": 0,
              "ticks": ""
             }
            },
            "type": "scatter3d"
           }
          ],
          "scattercarpet": [
           {
            "marker": {
             "colorbar": {
              "outlinewidth": 0,
              "ticks": ""
             }
            },
            "type": "scattercarpet"
           }
          ],
          "scattergeo": [
           {
            "marker": {
             "colorbar": {
              "outlinewidth": 0,
              "ticks": ""
             }
            },
            "type": "scattergeo"
           }
          ],
          "scattergl": [
           {
            "marker": {
             "colorbar": {
              "outlinewidth": 0,
              "ticks": ""
             }
            },
            "type": "scattergl"
           }
          ],
          "scattermapbox": [
           {
            "marker": {
             "colorbar": {
              "outlinewidth": 0,
              "ticks": ""
             }
            },
            "type": "scattermapbox"
           }
          ],
          "scatterpolar": [
           {
            "marker": {
             "colorbar": {
              "outlinewidth": 0,
              "ticks": ""
             }
            },
            "type": "scatterpolar"
           }
          ],
          "scatterpolargl": [
           {
            "marker": {
             "colorbar": {
              "outlinewidth": 0,
              "ticks": ""
             }
            },
            "type": "scatterpolargl"
           }
          ],
          "scatterternary": [
           {
            "marker": {
             "colorbar": {
              "outlinewidth": 0,
              "ticks": ""
             }
            },
            "type": "scatterternary"
           }
          ],
          "surface": [
           {
            "colorbar": {
             "outlinewidth": 0,
             "ticks": ""
            },
            "colorscale": [
             [
              0,
              "#0d0887"
             ],
             [
              0.1111111111111111,
              "#46039f"
             ],
             [
              0.2222222222222222,
              "#7201a8"
             ],
             [
              0.3333333333333333,
              "#9c179e"
             ],
             [
              0.4444444444444444,
              "#bd3786"
             ],
             [
              0.5555555555555556,
              "#d8576b"
             ],
             [
              0.6666666666666666,
              "#ed7953"
             ],
             [
              0.7777777777777778,
              "#fb9f3a"
             ],
             [
              0.8888888888888888,
              "#fdca26"
             ],
             [
              1,
              "#f0f921"
             ]
            ],
            "type": "surface"
           }
          ],
          "table": [
           {
            "cells": {
             "fill": {
              "color": "#EBF0F8"
             },
             "line": {
              "color": "white"
             }
            },
            "header": {
             "fill": {
              "color": "#C8D4E3"
             },
             "line": {
              "color": "white"
             }
            },
            "type": "table"
           }
          ]
         },
         "layout": {
          "annotationdefaults": {
           "arrowcolor": "#2a3f5f",
           "arrowhead": 0,
           "arrowwidth": 1
          },
          "autotypenumbers": "strict",
          "coloraxis": {
           "colorbar": {
            "outlinewidth": 0,
            "ticks": ""
           }
          },
          "colorscale": {
           "diverging": [
            [
             0,
             "#8e0152"
            ],
            [
             0.1,
             "#c51b7d"
            ],
            [
             0.2,
             "#de77ae"
            ],
            [
             0.3,
             "#f1b6da"
            ],
            [
             0.4,
             "#fde0ef"
            ],
            [
             0.5,
             "#f7f7f7"
            ],
            [
             0.6,
             "#e6f5d0"
            ],
            [
             0.7,
             "#b8e186"
            ],
            [
             0.8,
             "#7fbc41"
            ],
            [
             0.9,
             "#4d9221"
            ],
            [
             1,
             "#276419"
            ]
           ],
           "sequential": [
            [
             0,
             "#0d0887"
            ],
            [
             0.1111111111111111,
             "#46039f"
            ],
            [
             0.2222222222222222,
             "#7201a8"
            ],
            [
             0.3333333333333333,
             "#9c179e"
            ],
            [
             0.4444444444444444,
             "#bd3786"
            ],
            [
             0.5555555555555556,
             "#d8576b"
            ],
            [
             0.6666666666666666,
             "#ed7953"
            ],
            [
             0.7777777777777778,
             "#fb9f3a"
            ],
            [
             0.8888888888888888,
             "#fdca26"
            ],
            [
             1,
             "#f0f921"
            ]
           ],
           "sequentialminus": [
            [
             0,
             "#0d0887"
            ],
            [
             0.1111111111111111,
             "#46039f"
            ],
            [
             0.2222222222222222,
             "#7201a8"
            ],
            [
             0.3333333333333333,
             "#9c179e"
            ],
            [
             0.4444444444444444,
             "#bd3786"
            ],
            [
             0.5555555555555556,
             "#d8576b"
            ],
            [
             0.6666666666666666,
             "#ed7953"
            ],
            [
             0.7777777777777778,
             "#fb9f3a"
            ],
            [
             0.8888888888888888,
             "#fdca26"
            ],
            [
             1,
             "#f0f921"
            ]
           ]
          },
          "colorway": [
           "#636efa",
           "#EF553B",
           "#00cc96",
           "#ab63fa",
           "#FFA15A",
           "#19d3f3",
           "#FF6692",
           "#B6E880",
           "#FF97FF",
           "#FECB52"
          ],
          "font": {
           "color": "#2a3f5f"
          },
          "geo": {
           "bgcolor": "white",
           "lakecolor": "white",
           "landcolor": "#E5ECF6",
           "showlakes": true,
           "showland": true,
           "subunitcolor": "white"
          },
          "hoverlabel": {
           "align": "left"
          },
          "hovermode": "closest",
          "mapbox": {
           "style": "light"
          },
          "paper_bgcolor": "white",
          "plot_bgcolor": "#E5ECF6",
          "polar": {
           "angularaxis": {
            "gridcolor": "white",
            "linecolor": "white",
            "ticks": ""
           },
           "bgcolor": "#E5ECF6",
           "radialaxis": {
            "gridcolor": "white",
            "linecolor": "white",
            "ticks": ""
           }
          },
          "scene": {
           "xaxis": {
            "backgroundcolor": "#E5ECF6",
            "gridcolor": "white",
            "gridwidth": 2,
            "linecolor": "white",
            "showbackground": true,
            "ticks": "",
            "zerolinecolor": "white"
           },
           "yaxis": {
            "backgroundcolor": "#E5ECF6",
            "gridcolor": "white",
            "gridwidth": 2,
            "linecolor": "white",
            "showbackground": true,
            "ticks": "",
            "zerolinecolor": "white"
           },
           "zaxis": {
            "backgroundcolor": "#E5ECF6",
            "gridcolor": "white",
            "gridwidth": 2,
            "linecolor": "white",
            "showbackground": true,
            "ticks": "",
            "zerolinecolor": "white"
           }
          },
          "shapedefaults": {
           "line": {
            "color": "#2a3f5f"
           }
          },
          "ternary": {
           "aaxis": {
            "gridcolor": "white",
            "linecolor": "white",
            "ticks": ""
           },
           "baxis": {
            "gridcolor": "white",
            "linecolor": "white",
            "ticks": ""
           },
           "bgcolor": "#E5ECF6",
           "caxis": {
            "gridcolor": "white",
            "linecolor": "white",
            "ticks": ""
           }
          },
          "title": {
           "x": 0.05
          },
          "xaxis": {
           "automargin": true,
           "gridcolor": "white",
           "linecolor": "white",
           "ticks": "",
           "title": {
            "standoff": 15
           },
           "zerolinecolor": "white",
           "zerolinewidth": 2
          },
          "yaxis": {
           "automargin": true,
           "gridcolor": "white",
           "linecolor": "white",
           "ticks": "",
           "title": {
            "standoff": 15
           },
           "zerolinecolor": "white",
           "zerolinewidth": 2
          }
         }
        },
        "title": {
         "text": "Portfolio Cumulative Return Quarterly"
        },
        "xaxis": {
         "title": {
          "text": "Quarterly Trade Date"
         }
        },
        "yaxis": {
         "title": {
          "text": "Portfolio Value"
         }
        }
       }
      }
     },
     "metadata": {},
     "output_type": "display_data"
    }
   ],
   "source": [
    "trace_return1 = go.Scatter(x = time_ind, y = portfolio_cumsum_meanv, mode = 'lines', name = 'Mean-Variance')\n",
    "trace_return2 = go.Scatter(x = time_ind, y = portfolio_cumsum_minv, mode = 'lines', name = 'Minimum-Variance')\n",
    "trace_return3 = go.Scatter(x = time_ind, y = portfolio_cumsum_equal, mode = 'lines', name = 'Equally Weighted')\n",
    "trace_return4 = go.Scatter(x = time_ind, y = spx_cumsum, mode = 'lines', name = 'SPX')\n",
    "\n",
    "data = [trace_return1,trace_return2,trace_return3, trace_return4]\n",
    "layout = dict(title = \"Portfolio Cumulative Return Quarterly\", \n",
    "              xaxis = dict(title = 'Quarterly Trade Date'), \n",
    "              yaxis = dict(title = 'Portfolio Value'))\n",
    "fig = dict(data = data, layout = layout)\n",
    "plotly.offline.iplot(fig)"
   ]
  },
  {
   "cell_type": "markdown",
   "metadata": {},
   "source": [
    "# 5. Get all Quarterly Return and Calcualte Annulized return, standard deviation and Sharpe ratio"
   ]
  },
  {
   "cell_type": "code",
   "execution_count": 161,
   "metadata": {},
   "outputs": [],
   "source": [
    "quarter_return = pd.DataFrame(index = range(len(portfolio_return_equal)), columns = ['Mean-Var', 'Equally', 'Min-Var'])\n",
    "quarter_return['SPX'] = spx_return\n",
    "quarter_return['Mean-Var'] = portfolio_return_meanv\n",
    "quarter_return['Equally'] = portfolio_return_equal\n",
    "quarter_return['Min-Var'] = portfolio_return_minv\n",
    "\n",
    "#writer_return = pd.ExcelWriter('quarter_return_user8.xlsx')\n",
    "quarter_return.index=tradedate_full\n",
    "#quarter_return.to_excel(writer_return,'Sheet1')\n",
    "#writer_return.save()"
   ]
  },
  {
   "cell_type": "code",
   "execution_count": 162,
   "metadata": {},
   "outputs": [
    {
     "data": {
      "text/html": [
       "<div>\n",
       "<style scoped>\n",
       "    .dataframe tbody tr th:only-of-type {\n",
       "        vertical-align: middle;\n",
       "    }\n",
       "\n",
       "    .dataframe tbody tr th {\n",
       "        vertical-align: top;\n",
       "    }\n",
       "\n",
       "    .dataframe thead th {\n",
       "        text-align: right;\n",
       "    }\n",
       "</style>\n",
       "<table border=\"1\" class=\"dataframe\">\n",
       "  <thead>\n",
       "    <tr style=\"text-align: right;\">\n",
       "      <th></th>\n",
       "      <th>Mean-Var</th>\n",
       "      <th>Equally</th>\n",
       "      <th>Min-Var</th>\n",
       "      <th>SPX</th>\n",
       "    </tr>\n",
       "  </thead>\n",
       "  <tbody>\n",
       "    <tr>\n",
       "      <th>2004-12-01</th>\n",
       "      <td>0</td>\n",
       "      <td>0</td>\n",
       "      <td>0</td>\n",
       "      <td>0.000000</td>\n",
       "    </tr>\n",
       "    <tr>\n",
       "      <th>2005-03-01</th>\n",
       "      <td>0.050352</td>\n",
       "      <td>0.05045</td>\n",
       "      <td>0.05045</td>\n",
       "      <td>0.015730</td>\n",
       "    </tr>\n",
       "    <tr>\n",
       "      <th>2005-06-01</th>\n",
       "      <td>0.008827</td>\n",
       "      <td>0.022924</td>\n",
       "      <td>0.022509</td>\n",
       "      <td>-0.006812</td>\n",
       "    </tr>\n",
       "    <tr>\n",
       "      <th>2005-09-01</th>\n",
       "      <td>0.094932</td>\n",
       "      <td>0.094345</td>\n",
       "      <td>0.094967</td>\n",
       "      <td>0.015856</td>\n",
       "    </tr>\n",
       "    <tr>\n",
       "      <th>2005-12-01</th>\n",
       "      <td>0.080264</td>\n",
       "      <td>0.086546</td>\n",
       "      <td>0.086114</td>\n",
       "      <td>0.034064</td>\n",
       "    </tr>\n",
       "  </tbody>\n",
       "</table>\n",
       "</div>"
      ],
      "text/plain": [
       "            Mean-Var   Equally   Min-Var       SPX\n",
       "2004-12-01         0         0         0  0.000000\n",
       "2005-03-01  0.050352   0.05045   0.05045  0.015730\n",
       "2005-06-01  0.008827  0.022924  0.022509 -0.006812\n",
       "2005-09-01  0.094932  0.094345  0.094967  0.015856\n",
       "2005-12-01  0.080264  0.086546  0.086114  0.034064"
      ]
     },
     "execution_count": 162,
     "metadata": {},
     "output_type": "execute_result"
    }
   ],
   "source": [
    "quarter_return.head()"
   ]
  },
  {
   "cell_type": "code",
   "execution_count": 163,
   "metadata": {},
   "outputs": [],
   "source": [
    "annulizedR_spx=quarter_return['SPX'].mean()*4\n",
    "annulizedR_meanv=quarter_return['Mean-Var'].mean()*4\n",
    "annulizedR_equal=quarter_return['Equally'].mean()*4\n",
    "annulizedR_minv=quarter_return['Min-Var'].mean()*4\n",
    "annulizedS_spx=quarter_return['SPX'].std()*2\n",
    "annulizedS_meanv=quarter_return['Mean-Var'].std()*2\n",
    "annulizedS_equal=quarter_return['Equally'].std()*2\n",
    "annulizedS_minv=quarter_return['Min-Var'].std()*2"
   ]
  },
  {
   "cell_type": "code",
   "execution_count": 164,
   "metadata": {},
   "outputs": [
    {
     "name": "stdout",
     "output_type": "stream",
     "text": [
      "SPX 0.060530593988239734 0.28221330766976577\n",
      "Mean-Var 0.28204121052012004 0.3063559674533527\n",
      "Equally 0.286492059732255 0.3136578326427558\n",
      "Min-Var 0.2864142935864446 0.3136015350739992\n"
     ]
    }
   ],
   "source": [
    "print(\"SPX\",annulizedR_spx,annulizedS_spx)\n",
    "print(\"Mean-Var\",annulizedR_meanv,annulizedS_meanv)\n",
    "print(\"Equally\",annulizedR_equal,annulizedS_equal)\n",
    "print(\"Min-Var\",annulizedR_minv,annulizedS_minv)\n"
   ]
  },
  {
   "cell_type": "code",
   "execution_count": 165,
   "metadata": {
    "collapsed": true
   },
   "outputs": [],
   "source": [
    "risk_free=0.015"
   ]
  },
  {
   "cell_type": "code",
   "execution_count": 166,
   "metadata": {},
   "outputs": [],
   "source": [
    "sharpe_spx=(annulizedR_spx-risk_free)/annulizedS_spx\n",
    "sharpe_meanv=(annulizedR_meanv-risk_free)/annulizedS_meanv\n",
    "sharpe_equal=(annulizedR_equal-risk_free)/annulizedS_equal\n",
    "sharpe_minv=(annulizedR_minv-risk_free)/annulizedS_minv"
   ]
  },
  {
   "cell_type": "code",
   "execution_count": 167,
   "metadata": {},
   "outputs": [
    {
     "name": "stdout",
     "output_type": "stream",
     "text": [
      "SPX Sharpe 0.1613339723919672\n",
      "Mean-Var Sharpe 0.8716696878469686\n",
      "Equally Sharpe 0.86556760736619\n",
      "Min-Var Sharpe 0.8654750160020745\n"
     ]
    }
   ],
   "source": [
    "print(\"SPX Sharpe\",sharpe_spx)\n",
    "print(\"Mean-Var Sharpe\",sharpe_meanv)\n",
    "print(\"Equally Sharpe\",sharpe_equal)\n",
    "print(\"Min-Var Sharpe\",sharpe_minv)\n"
   ]
  },
  {
   "cell_type": "code",
   "execution_count": null,
   "metadata": {
    "collapsed": true
   },
   "outputs": [],
   "source": []
  },
  {
   "cell_type": "code",
   "execution_count": 168,
   "metadata": {
    "collapsed": true
   },
   "outputs": [],
   "source": [
    "insample_date=tradedate"
   ]
  },
  {
   "cell_type": "code",
   "execution_count": 169,
   "metadata": {},
   "outputs": [
    {
     "data": {
      "text/plain": [
       "['2004-12-01',\n",
       " '2005-03-01',\n",
       " '2005-06-01',\n",
       " '2005-09-01',\n",
       " '2005-12-01',\n",
       " '2006-03-01',\n",
       " '2006-06-01',\n",
       " '2006-09-01',\n",
       " '2006-12-01',\n",
       " '2007-03-01',\n",
       " '2007-06-01',\n",
       " '2008-12-01',\n",
       " '2009-06-01',\n",
       " '2009-09-01',\n",
       " '2009-12-01',\n",
       " '2010-03-01',\n",
       " '2010-06-01',\n",
       " '2010-09-01',\n",
       " '2010-12-01',\n",
       " '2011-03-01',\n",
       " '2011-06-01',\n",
       " '2011-09-01',\n",
       " '2011-12-01',\n",
       " '2012-03-01',\n",
       " '2012-06-01',\n",
       " '2013-03-01',\n",
       " '2014-12-01',\n",
       " '2015-06-01',\n",
       " '2015-09-01',\n",
       " '2015-12-01',\n",
       " '2016-03-01',\n",
       " '2016-06-01',\n",
       " '2016-09-01',\n",
       " '2016-12-01',\n",
       " '2017-03-01',\n",
       " '2017-06-01',\n",
       " '2017-09-01',\n",
       " '2017-12-01',\n",
       " '2018-03-01',\n",
       " '2018-06-01',\n",
       " '2019-03-01',\n",
       " '2020-06-01',\n",
       " '2020-09-01',\n",
       " '2020-12-01',\n",
       " '2021-03-01',\n",
       " '2021-06-01',\n",
       " '2021-09-01',\n",
       " '2021-12-01',\n",
       " '2022-03-01',\n",
       " '2022-06-01',\n",
       " '2022-09-01',\n",
       " '2022-12-01',\n",
       " '2023-03-01']"
      ]
     },
     "execution_count": 169,
     "metadata": {},
     "output_type": "execute_result"
    }
   ],
   "source": [
    "insample_date"
   ]
  },
  {
   "cell_type": "code",
   "execution_count": 170,
   "metadata": {},
   "outputs": [
    {
     "data": {
      "text/plain": [
       "2004-12-01    0.000000\n",
       "2005-03-01    0.015730\n",
       "2005-06-01   -0.006812\n",
       "2005-09-01    0.015856\n",
       "2005-12-01    0.034064\n",
       "2006-03-01    0.020577\n",
       "2006-06-01   -0.004301\n",
       "2006-09-01    0.019298\n",
       "2006-12-01    0.061358\n",
       "2007-03-01    0.004604\n",
       "2007-06-01    0.086680\n",
       "2008-12-01   -0.882285\n",
       "2009-06-01    0.134335\n",
       "2009-09-01    0.055278\n",
       "2009-12-01    0.099940\n",
       "2010-03-01    0.006140\n",
       "2010-06-01   -0.042028\n",
       "2010-09-01    0.008868\n",
       "2010-12-01    0.104289\n",
       "2011-03-01    0.076749\n",
       "2011-06-01    0.006253\n",
       "2011-09-01   -0.091438\n",
       "2011-12-01    0.032268\n",
       "2012-03-01    0.094251\n",
       "2012-06-01   -0.075154\n",
       "2013-03-01    0.158187\n",
       "2014-12-01    0.260655\n",
       "2015-06-01    0.027603\n",
       "2015-09-01   -0.103394\n",
       "2015-12-01    0.089783\n",
       "2016-03-01   -0.062820\n",
       "2016-06-01    0.057628\n",
       "2016-09-01    0.032950\n",
       "2016-12-01    0.009228\n",
       "2017-03-01    0.085511\n",
       "2017-06-01    0.014033\n",
       "2017-09-01    0.018772\n",
       "2017-12-01    0.062701\n",
       "2018-03-01    0.013239\n",
       "2018-06-01    0.020826\n",
       "2019-03-01    0.024635\n",
       "2020-06-01    0.082481\n",
       "2020-09-01    0.133532\n",
       "2020-12-01    0.037079\n",
       "2021-03-01    0.061348\n",
       "2021-06-01    0.071446\n",
       "2021-09-01    0.071186\n",
       "2021-12-01   -0.002448\n",
       "2022-03-01   -0.048019\n",
       "2022-06-01   -0.049992\n",
       "2022-09-01   -0.033876\n",
       "2022-12-01    0.026915\n",
       "2023-03-01   -0.031680\n",
       "Name: SPX, dtype: float64"
      ]
     },
     "execution_count": 170,
     "metadata": {},
     "output_type": "execute_result"
    }
   ],
   "source": [
    "quarter_return['SPX'][insample_date]\n"
   ]
  },
  {
   "cell_type": "code",
   "execution_count": 171,
   "metadata": {},
   "outputs": [
    {
     "name": "stdout",
     "output_type": "stream",
     "text": [
      "SPX 0.060530593988239734 0.28221330766976577\n",
      "Mean-Var 0.28938199486950555 0.3107991175575396\n",
      "Equally 0.29456328854393016 0.31753262927748793\n",
      "Min-Var 0.2945270814515904 0.3175001392164534\n",
      "SPX Sharpe 0.1613339723919672\n",
      "Mean-Var Sharpe 0.8828274578955586\n",
      "Equally Sharpe 0.8804238140188836\n",
      "Min-Var Sharpe 0.8803998705053317\n"
     ]
    }
   ],
   "source": [
    "annulizedR_spx_insample=quarter_return['SPX'][insample_date].mean()*4\n",
    "annulizedR_meanv_insample=quarter_return['Mean-Var'][insample_date].mean()*4\n",
    "annulizedR_equal_insample=quarter_return['Equally'][insample_date].mean()*4\n",
    "annulizedR_minv_insample=quarter_return['Min-Var'][insample_date].mean()*4\n",
    "annulizedS_spx_insample=quarter_return['SPX'][insample_date].std()*2\n",
    "annulizedS_meanv_insample=quarter_return['Mean-Var'][insample_date].std()*2\n",
    "annulizedS_equal_insample=quarter_return['Equally'][insample_date].std()*2\n",
    "annulizedS_minv_insample=quarter_return['Min-Var'][insample_date].std()*2\n",
    "print(\"SPX\",annulizedR_spx_insample,annulizedS_spx_insample)\n",
    "print(\"Mean-Var\",annulizedR_meanv_insample,annulizedS_meanv_insample)\n",
    "print(\"Equally\",annulizedR_equal_insample,annulizedS_equal_insample)\n",
    "print(\"Min-Var\",annulizedR_minv_insample,annulizedS_minv_insample)\n",
    "sharpe_spx_insample=(annulizedR_spx_insample-risk_free)/annulizedS_spx_insample\n",
    "sharpe_meanv_insample=(annulizedR_meanv_insample-risk_free)/annulizedS_meanv_insample\n",
    "sharpe_equal_insample=(annulizedR_equal_insample-risk_free)/annulizedS_equal_insample\n",
    "sharpe_minv_insample=(annulizedR_minv_insample-risk_free)/annulizedS_minv_insample\n",
    "print(\"SPX Sharpe\",sharpe_spx_insample)\n",
    "print(\"Mean-Var Sharpe\",sharpe_meanv_insample)\n",
    "print(\"Equally Sharpe\",sharpe_equal_insample)\n",
    "print(\"Min-Var Sharpe\",sharpe_minv_insample)"
   ]
  }
 ],
 "metadata": {
  "kernelspec": {
   "display_name": "venv",
   "language": "python",
   "name": "python3"
  },
  "language_info": {
   "codemirror_mode": {
    "name": "ipython",
    "version": 3
   },
   "file_extension": ".py",
   "mimetype": "text/x-python",
   "name": "python",
   "nbconvert_exporter": "python",
   "pygments_lexer": "ipython3",
   "version": "3.11.9"
  }
 },
 "nbformat": 4,
 "nbformat_minor": 2
}
