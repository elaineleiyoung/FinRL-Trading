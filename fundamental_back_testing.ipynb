{
 "cells": [
  {
   "cell_type": "code",
   "execution_count": 2,
   "metadata": {
    "collapsed": true
   },
   "outputs": [],
   "source": [
    "import numpy as np\n",
    "import pandas as pd\n",
    "\n",
    "import time\n",
    "from datetime import datetime as dt\n",
    "\n",
    "import matplotlib.pyplot as plt\n",
    "import plotly\n",
    "import plotly.graph_objs as go\n"
   ]
  },
  {
   "cell_type": "markdown",
   "metadata": {},
   "source": [
    "# 1. Data Preparation"
   ]
  },
  {
   "cell_type": "markdown",
   "metadata": {},
   "source": [
    "3 datasets:\n",
    "\n",
    "S&P 500 daily adjusted price\n",
    "\n",
    "Mean-variance weights table\n",
    "\n",
    "Min-variance weights table"
   ]
  },
  {
   "cell_type": "code",
   "execution_count": 3,
   "metadata": {},
   "outputs": [],
   "source": [
    "data_adj = pd.read_csv(\"data_processor_update/outputs/final_ratios.csv\")\n",
    "weight_meanv = pd.read_excel('mean_weighted.xlsx')\n",
    "weight_minv = pd.read_excel('minimum_weighted.xlsx')\n",
    "weight_equal=pd.read_excel('equally_weighted.xlsx')"
   ]
  },
  {
   "cell_type": "code",
   "execution_count": 4,
   "metadata": {},
   "outputs": [
    {
     "data": {
      "text/html": [
       "<div>\n",
       "<style scoped>\n",
       "    .dataframe tbody tr th:only-of-type {\n",
       "        vertical-align: middle;\n",
       "    }\n",
       "\n",
       "    .dataframe tbody tr th {\n",
       "        vertical-align: top;\n",
       "    }\n",
       "\n",
       "    .dataframe thead th {\n",
       "        text-align: right;\n",
       "    }\n",
       "</style>\n",
       "<table border=\"1\" class=\"dataframe\">\n",
       "  <thead>\n",
       "    <tr style=\"text-align: right;\">\n",
       "      <th></th>\n",
       "      <th>Unnamed: 0</th>\n",
       "      <th>date</th>\n",
       "      <th>gvkey</th>\n",
       "      <th>tic</th>\n",
       "      <th>gsector</th>\n",
       "      <th>adj_close_q</th>\n",
       "      <th>y_return</th>\n",
       "      <th>EPS</th>\n",
       "      <th>BPS</th>\n",
       "      <th>DPS</th>\n",
       "      <th>cur_ratio</th>\n",
       "      <th>quick_ratio</th>\n",
       "      <th>cash_ratio</th>\n",
       "      <th>acc_rec_turnover</th>\n",
       "      <th>debt_ratio</th>\n",
       "      <th>debt_to_equity</th>\n",
       "      <th>pe</th>\n",
       "      <th>ps</th>\n",
       "      <th>pb</th>\n",
       "    </tr>\n",
       "  </thead>\n",
       "  <tbody>\n",
       "    <tr>\n",
       "      <th>0</th>\n",
       "      <td>0</td>\n",
       "      <td>1999-12-01</td>\n",
       "      <td>126554</td>\n",
       "      <td>A</td>\n",
       "      <td>35.0</td>\n",
       "      <td>25.871546</td>\n",
       "      <td>0.932748</td>\n",
       "      <td>1.35</td>\n",
       "      <td>8.900000</td>\n",
       "      <td>0.000</td>\n",
       "      <td>2.104700</td>\n",
       "      <td>0.972635</td>\n",
       "      <td>0.000000</td>\n",
       "      <td>0.000000</td>\n",
       "      <td>0.378766</td>\n",
       "      <td>0.000000</td>\n",
       "      <td>0.000000</td>\n",
       "      <td>0.000000</td>\n",
       "      <td>0.000000</td>\n",
       "    </tr>\n",
       "    <tr>\n",
       "      <th>1</th>\n",
       "      <td>1</td>\n",
       "      <td>2000-03-01</td>\n",
       "      <td>126554</td>\n",
       "      <td>A</td>\n",
       "      <td>35.0</td>\n",
       "      <td>65.752098</td>\n",
       "      <td>-0.402034</td>\n",
       "      <td>0.30</td>\n",
       "      <td>9.924779</td>\n",
       "      <td>0.000</td>\n",
       "      <td>2.410256</td>\n",
       "      <td>1.381229</td>\n",
       "      <td>0.682148</td>\n",
       "      <td>4.529412</td>\n",
       "      <td>0.368791</td>\n",
       "      <td>0.000000</td>\n",
       "      <td>330.937500</td>\n",
       "      <td>16.162480</td>\n",
       "      <td>6.668914</td>\n",
       "    </tr>\n",
       "    <tr>\n",
       "      <th>2</th>\n",
       "      <td>2</td>\n",
       "      <td>2000-06-01</td>\n",
       "      <td>126554</td>\n",
       "      <td>A</td>\n",
       "      <td>35.0</td>\n",
       "      <td>43.985371</td>\n",
       "      <td>-0.165343</td>\n",
       "      <td>0.67</td>\n",
       "      <td>10.263735</td>\n",
       "      <td>0.000</td>\n",
       "      <td>2.313358</td>\n",
       "      <td>1.311528</td>\n",
       "      <td>0.447392</td>\n",
       "      <td>3.380625</td>\n",
       "      <td>0.365934</td>\n",
       "      <td>0.000000</td>\n",
       "      <td>285.887097</td>\n",
       "      <td>18.712701</td>\n",
       "      <td>8.634771</td>\n",
       "    </tr>\n",
       "    <tr>\n",
       "      <th>3</th>\n",
       "      <td>3</td>\n",
       "      <td>2000-09-01</td>\n",
       "      <td>126554</td>\n",
       "      <td>A</td>\n",
       "      <td>35.0</td>\n",
       "      <td>37.282143</td>\n",
       "      <td>-0.154825</td>\n",
       "      <td>1.01</td>\n",
       "      <td>10.820834</td>\n",
       "      <td>0.000</td>\n",
       "      <td>2.129084</td>\n",
       "      <td>1.143426</td>\n",
       "      <td>0.280080</td>\n",
       "      <td>2.972312</td>\n",
       "      <td>0.373706</td>\n",
       "      <td>0.000000</td>\n",
       "      <td>127.343750</td>\n",
       "      <td>7.852132</td>\n",
       "      <td>3.765884</td>\n",
       "    </tr>\n",
       "    <tr>\n",
       "      <th>4</th>\n",
       "      <td>4</td>\n",
       "      <td>2000-12-01</td>\n",
       "      <td>126554</td>\n",
       "      <td>A</td>\n",
       "      <td>35.0</td>\n",
       "      <td>31.934578</td>\n",
       "      <td>-0.324580</td>\n",
       "      <td>1.68</td>\n",
       "      <td>11.597529</td>\n",
       "      <td>0.000</td>\n",
       "      <td>2.050399</td>\n",
       "      <td>1.159173</td>\n",
       "      <td>0.361131</td>\n",
       "      <td>2.882326</td>\n",
       "      <td>0.375074</td>\n",
       "      <td>0.000000</td>\n",
       "      <td>70.170455</td>\n",
       "      <td>6.968765</td>\n",
       "      <td>3.993307</td>\n",
       "    </tr>\n",
       "    <tr>\n",
       "      <th>...</th>\n",
       "      <td>...</td>\n",
       "      <td>...</td>\n",
       "      <td>...</td>\n",
       "      <td>...</td>\n",
       "      <td>...</td>\n",
       "      <td>...</td>\n",
       "      <td>...</td>\n",
       "      <td>...</td>\n",
       "      <td>...</td>\n",
       "      <td>...</td>\n",
       "      <td>...</td>\n",
       "      <td>...</td>\n",
       "      <td>...</td>\n",
       "      <td>...</td>\n",
       "      <td>...</td>\n",
       "      <td>...</td>\n",
       "      <td>...</td>\n",
       "      <td>...</td>\n",
       "      <td>...</td>\n",
       "    </tr>\n",
       "    <tr>\n",
       "      <th>63426</th>\n",
       "      <td>63426</td>\n",
       "      <td>2023-12-01</td>\n",
       "      <td>13721</td>\n",
       "      <td>ZTS</td>\n",
       "      <td>35.0</td>\n",
       "      <td>176.838669</td>\n",
       "      <td>0.065484</td>\n",
       "      <td>3.94</td>\n",
       "      <td>11.050541</td>\n",
       "      <td>0.375</td>\n",
       "      <td>3.869403</td>\n",
       "      <td>1.872512</td>\n",
       "      <td>1.090796</td>\n",
       "      <td>4.976929</td>\n",
       "      <td>0.640295</td>\n",
       "      <td>1.780055</td>\n",
       "      <td>134.868217</td>\n",
       "      <td>37.150632</td>\n",
       "      <td>15.756437</td>\n",
       "    </tr>\n",
       "    <tr>\n",
       "      <th>63427</th>\n",
       "      <td>63427</td>\n",
       "      <td>2024-03-01</td>\n",
       "      <td>13721</td>\n",
       "      <td>ZTS</td>\n",
       "      <td>35.0</td>\n",
       "      <td>188.806396</td>\n",
       "      <td>-0.098840</td>\n",
       "      <td>5.08</td>\n",
       "      <td>10.901745</td>\n",
       "      <td>0.375</td>\n",
       "      <td>3.357861</td>\n",
       "      <td>1.770778</td>\n",
       "      <td>1.080466</td>\n",
       "      <td>4.882669</td>\n",
       "      <td>0.650637</td>\n",
       "      <td>1.862352</td>\n",
       "      <td>173.131579</td>\n",
       "      <td>40.861741</td>\n",
       "      <td>18.126206</td>\n",
       "    </tr>\n",
       "    <tr>\n",
       "      <th>63428</th>\n",
       "      <td>63428</td>\n",
       "      <td>2024-06-03</td>\n",
       "      <td>13721</td>\n",
       "      <td>ZTS</td>\n",
       "      <td>35.0</td>\n",
       "      <td>171.037384</td>\n",
       "      <td>0.065329</td>\n",
       "      <td>1.31</td>\n",
       "      <td>11.069117</td>\n",
       "      <td>0.432</td>\n",
       "      <td>3.331063</td>\n",
       "      <td>1.711891</td>\n",
       "      <td>1.034573</td>\n",
       "      <td>5.063418</td>\n",
       "      <td>0.647895</td>\n",
       "      <td>1.840063</td>\n",
       "      <td>129.167939</td>\n",
       "      <td>35.273723</td>\n",
       "      <td>15.304830</td>\n",
       "    </tr>\n",
       "    <tr>\n",
       "      <th>63429</th>\n",
       "      <td>63429</td>\n",
       "      <td>2024-09-03</td>\n",
       "      <td>13721</td>\n",
       "      <td>ZTS</td>\n",
       "      <td>35.0</td>\n",
       "      <td>182.584076</td>\n",
       "      <td>-0.035154</td>\n",
       "      <td>2.68</td>\n",
       "      <td>10.942857</td>\n",
       "      <td>0.432</td>\n",
       "      <td>3.451308</td>\n",
       "      <td>1.645520</td>\n",
       "      <td>0.875904</td>\n",
       "      <td>4.741866</td>\n",
       "      <td>0.649841</td>\n",
       "      <td>1.855847</td>\n",
       "      <td>126.540146</td>\n",
       "      <td>33.307726</td>\n",
       "      <td>15.861461</td>\n",
       "    </tr>\n",
       "    <tr>\n",
       "      <th>63430</th>\n",
       "      <td>63430</td>\n",
       "      <td>2024-12-02</td>\n",
       "      <td>13721</td>\n",
       "      <td>ZTS</td>\n",
       "      <td>35.0</td>\n",
       "      <td>176.277084</td>\n",
       "      <td>0.000000</td>\n",
       "      <td>4.18</td>\n",
       "      <td>11.591186</td>\n",
       "      <td>0.432</td>\n",
       "      <td>3.690952</td>\n",
       "      <td>1.836075</td>\n",
       "      <td>1.007051</td>\n",
       "      <td>4.796598</td>\n",
       "      <td>0.635439</td>\n",
       "      <td>1.743026</td>\n",
       "      <td>129.390728</td>\n",
       "      <td>36.913740</td>\n",
       "      <td>16.855911</td>\n",
       "    </tr>\n",
       "  </tbody>\n",
       "</table>\n",
       "<p>63431 rows × 19 columns</p>\n",
       "</div>"
      ],
      "text/plain": [
       "       Unnamed: 0        date   gvkey  tic  gsector  adj_close_q  y_return  \\\n",
       "0               0  1999-12-01  126554    A     35.0    25.871546  0.932748   \n",
       "1               1  2000-03-01  126554    A     35.0    65.752098 -0.402034   \n",
       "2               2  2000-06-01  126554    A     35.0    43.985371 -0.165343   \n",
       "3               3  2000-09-01  126554    A     35.0    37.282143 -0.154825   \n",
       "4               4  2000-12-01  126554    A     35.0    31.934578 -0.324580   \n",
       "...           ...         ...     ...  ...      ...          ...       ...   \n",
       "63426       63426  2023-12-01   13721  ZTS     35.0   176.838669  0.065484   \n",
       "63427       63427  2024-03-01   13721  ZTS     35.0   188.806396 -0.098840   \n",
       "63428       63428  2024-06-03   13721  ZTS     35.0   171.037384  0.065329   \n",
       "63429       63429  2024-09-03   13721  ZTS     35.0   182.584076 -0.035154   \n",
       "63430       63430  2024-12-02   13721  ZTS     35.0   176.277084  0.000000   \n",
       "\n",
       "        EPS        BPS    DPS  cur_ratio  quick_ratio  cash_ratio  \\\n",
       "0      1.35   8.900000  0.000   2.104700     0.972635    0.000000   \n",
       "1      0.30   9.924779  0.000   2.410256     1.381229    0.682148   \n",
       "2      0.67  10.263735  0.000   2.313358     1.311528    0.447392   \n",
       "3      1.01  10.820834  0.000   2.129084     1.143426    0.280080   \n",
       "4      1.68  11.597529  0.000   2.050399     1.159173    0.361131   \n",
       "...     ...        ...    ...        ...          ...         ...   \n",
       "63426  3.94  11.050541  0.375   3.869403     1.872512    1.090796   \n",
       "63427  5.08  10.901745  0.375   3.357861     1.770778    1.080466   \n",
       "63428  1.31  11.069117  0.432   3.331063     1.711891    1.034573   \n",
       "63429  2.68  10.942857  0.432   3.451308     1.645520    0.875904   \n",
       "63430  4.18  11.591186  0.432   3.690952     1.836075    1.007051   \n",
       "\n",
       "       acc_rec_turnover  debt_ratio  debt_to_equity          pe         ps  \\\n",
       "0              0.000000    0.378766        0.000000    0.000000   0.000000   \n",
       "1              4.529412    0.368791        0.000000  330.937500  16.162480   \n",
       "2              3.380625    0.365934        0.000000  285.887097  18.712701   \n",
       "3              2.972312    0.373706        0.000000  127.343750   7.852132   \n",
       "4              2.882326    0.375074        0.000000   70.170455   6.968765   \n",
       "...                 ...         ...             ...         ...        ...   \n",
       "63426          4.976929    0.640295        1.780055  134.868217  37.150632   \n",
       "63427          4.882669    0.650637        1.862352  173.131579  40.861741   \n",
       "63428          5.063418    0.647895        1.840063  129.167939  35.273723   \n",
       "63429          4.741866    0.649841        1.855847  126.540146  33.307726   \n",
       "63430          4.796598    0.635439        1.743026  129.390728  36.913740   \n",
       "\n",
       "              pb  \n",
       "0       0.000000  \n",
       "1       6.668914  \n",
       "2       8.634771  \n",
       "3       3.765884  \n",
       "4       3.993307  \n",
       "...          ...  \n",
       "63426  15.756437  \n",
       "63427  18.126206  \n",
       "63428  15.304830  \n",
       "63429  15.861461  \n",
       "63430  16.855911  \n",
       "\n",
       "[63431 rows x 19 columns]"
      ]
     },
     "execution_count": 4,
     "metadata": {},
     "output_type": "execute_result"
    }
   ],
   "source": [
    "data_adj"
   ]
  },
  {
   "cell_type": "code",
   "execution_count": 5,
   "metadata": {},
   "outputs": [
    {
     "data": {
      "text/html": [
       "<div>\n",
       "<style scoped>\n",
       "    .dataframe tbody tr th:only-of-type {\n",
       "        vertical-align: middle;\n",
       "    }\n",
       "\n",
       "    .dataframe tbody tr th {\n",
       "        vertical-align: top;\n",
       "    }\n",
       "\n",
       "    .dataframe thead th {\n",
       "        text-align: right;\n",
       "    }\n",
       "</style>\n",
       "<table border=\"1\" class=\"dataframe\">\n",
       "  <thead>\n",
       "    <tr style=\"text-align: right;\">\n",
       "      <th></th>\n",
       "      <th>Unnamed: 0</th>\n",
       "      <th>trade_date</th>\n",
       "      <th>gvkey</th>\n",
       "      <th>weights</th>\n",
       "      <th>predicted_return</th>\n",
       "    </tr>\n",
       "  </thead>\n",
       "  <tbody>\n",
       "    <tr>\n",
       "      <th>0</th>\n",
       "      <td>0</td>\n",
       "      <td>2009-06-01</td>\n",
       "      <td>1045</td>\n",
       "      <td>0.00699</td>\n",
       "      <td>0.052594</td>\n",
       "    </tr>\n",
       "    <tr>\n",
       "      <th>1</th>\n",
       "      <td>1</td>\n",
       "      <td>2009-06-01</td>\n",
       "      <td>1161</td>\n",
       "      <td>0.00696</td>\n",
       "      <td>0.098717</td>\n",
       "    </tr>\n",
       "    <tr>\n",
       "      <th>2</th>\n",
       "      <td>2</td>\n",
       "      <td>2009-06-01</td>\n",
       "      <td>1230</td>\n",
       "      <td>0.00696</td>\n",
       "      <td>0.036450</td>\n",
       "    </tr>\n",
       "    <tr>\n",
       "      <th>3</th>\n",
       "      <td>3</td>\n",
       "      <td>2009-06-01</td>\n",
       "      <td>1661</td>\n",
       "      <td>0.00698</td>\n",
       "      <td>0.062174</td>\n",
       "    </tr>\n",
       "    <tr>\n",
       "      <th>4</th>\n",
       "      <td>4</td>\n",
       "      <td>2009-06-01</td>\n",
       "      <td>1704</td>\n",
       "      <td>0.00698</td>\n",
       "      <td>0.058399</td>\n",
       "    </tr>\n",
       "  </tbody>\n",
       "</table>\n",
       "</div>"
      ],
      "text/plain": [
       "   Unnamed: 0  trade_date  gvkey  weights  predicted_return\n",
       "0           0  2009-06-01   1045  0.00699          0.052594\n",
       "1           1  2009-06-01   1161  0.00696          0.098717\n",
       "2           2  2009-06-01   1230  0.00696          0.036450\n",
       "3           3  2009-06-01   1661  0.00698          0.062174\n",
       "4           4  2009-06-01   1704  0.00698          0.058399"
      ]
     },
     "execution_count": 5,
     "metadata": {},
     "output_type": "execute_result"
    }
   ],
   "source": [
    "weight_meanv.head()"
   ]
  },
  {
   "cell_type": "code",
   "execution_count": 6,
   "metadata": {},
   "outputs": [
    {
     "data": {
      "text/html": [
       "<div>\n",
       "<style scoped>\n",
       "    .dataframe tbody tr th:only-of-type {\n",
       "        vertical-align: middle;\n",
       "    }\n",
       "\n",
       "    .dataframe tbody tr th {\n",
       "        vertical-align: top;\n",
       "    }\n",
       "\n",
       "    .dataframe thead th {\n",
       "        text-align: right;\n",
       "    }\n",
       "</style>\n",
       "<table border=\"1\" class=\"dataframe\">\n",
       "  <thead>\n",
       "    <tr style=\"text-align: right;\">\n",
       "      <th></th>\n",
       "      <th>Unnamed: 0</th>\n",
       "      <th>trade_date</th>\n",
       "      <th>gvkey</th>\n",
       "      <th>weights</th>\n",
       "      <th>predicted_return</th>\n",
       "    </tr>\n",
       "  </thead>\n",
       "  <tbody>\n",
       "    <tr>\n",
       "      <th>0</th>\n",
       "      <td>0</td>\n",
       "      <td>2009-06-01</td>\n",
       "      <td>1045</td>\n",
       "      <td>0.00694</td>\n",
       "      <td>0.052594</td>\n",
       "    </tr>\n",
       "    <tr>\n",
       "      <th>1</th>\n",
       "      <td>1</td>\n",
       "      <td>2009-06-01</td>\n",
       "      <td>1161</td>\n",
       "      <td>0.00694</td>\n",
       "      <td>0.098717</td>\n",
       "    </tr>\n",
       "    <tr>\n",
       "      <th>2</th>\n",
       "      <td>2</td>\n",
       "      <td>2009-06-01</td>\n",
       "      <td>1230</td>\n",
       "      <td>0.00694</td>\n",
       "      <td>0.036450</td>\n",
       "    </tr>\n",
       "    <tr>\n",
       "      <th>3</th>\n",
       "      <td>3</td>\n",
       "      <td>2009-06-01</td>\n",
       "      <td>1661</td>\n",
       "      <td>0.00694</td>\n",
       "      <td>0.062174</td>\n",
       "    </tr>\n",
       "    <tr>\n",
       "      <th>4</th>\n",
       "      <td>4</td>\n",
       "      <td>2009-06-01</td>\n",
       "      <td>1704</td>\n",
       "      <td>0.00694</td>\n",
       "      <td>0.058399</td>\n",
       "    </tr>\n",
       "  </tbody>\n",
       "</table>\n",
       "</div>"
      ],
      "text/plain": [
       "   Unnamed: 0  trade_date  gvkey  weights  predicted_return\n",
       "0           0  2009-06-01   1045  0.00694          0.052594\n",
       "1           1  2009-06-01   1161  0.00694          0.098717\n",
       "2           2  2009-06-01   1230  0.00694          0.036450\n",
       "3           3  2009-06-01   1661  0.00694          0.062174\n",
       "4           4  2009-06-01   1704  0.00694          0.058399"
      ]
     },
     "execution_count": 6,
     "metadata": {},
     "output_type": "execute_result"
    }
   ],
   "source": [
    "weight_minv.head()"
   ]
  },
  {
   "cell_type": "code",
   "execution_count": 7,
   "metadata": {},
   "outputs": [
    {
     "data": {
      "text/html": [
       "<div>\n",
       "<style scoped>\n",
       "    .dataframe tbody tr th:only-of-type {\n",
       "        vertical-align: middle;\n",
       "    }\n",
       "\n",
       "    .dataframe tbody tr th {\n",
       "        vertical-align: top;\n",
       "    }\n",
       "\n",
       "    .dataframe thead th {\n",
       "        text-align: right;\n",
       "    }\n",
       "</style>\n",
       "<table border=\"1\" class=\"dataframe\">\n",
       "  <thead>\n",
       "    <tr style=\"text-align: right;\">\n",
       "      <th></th>\n",
       "      <th>Unnamed: 0</th>\n",
       "      <th>trade_date</th>\n",
       "      <th>gvkey</th>\n",
       "      <th>weights</th>\n",
       "      <th>predicted_return</th>\n",
       "    </tr>\n",
       "  </thead>\n",
       "  <tbody>\n",
       "    <tr>\n",
       "      <th>0</th>\n",
       "      <td>0</td>\n",
       "      <td>2009-06-01</td>\n",
       "      <td>1045</td>\n",
       "      <td>0.006944</td>\n",
       "      <td>0.052594</td>\n",
       "    </tr>\n",
       "    <tr>\n",
       "      <th>1</th>\n",
       "      <td>1</td>\n",
       "      <td>2009-06-01</td>\n",
       "      <td>1161</td>\n",
       "      <td>0.006944</td>\n",
       "      <td>0.098717</td>\n",
       "    </tr>\n",
       "    <tr>\n",
       "      <th>2</th>\n",
       "      <td>2</td>\n",
       "      <td>2009-06-01</td>\n",
       "      <td>1230</td>\n",
       "      <td>0.006944</td>\n",
       "      <td>0.036450</td>\n",
       "    </tr>\n",
       "    <tr>\n",
       "      <th>3</th>\n",
       "      <td>3</td>\n",
       "      <td>2009-06-01</td>\n",
       "      <td>1661</td>\n",
       "      <td>0.006944</td>\n",
       "      <td>0.062174</td>\n",
       "    </tr>\n",
       "    <tr>\n",
       "      <th>4</th>\n",
       "      <td>4</td>\n",
       "      <td>2009-06-01</td>\n",
       "      <td>1704</td>\n",
       "      <td>0.006944</td>\n",
       "      <td>0.058399</td>\n",
       "    </tr>\n",
       "  </tbody>\n",
       "</table>\n",
       "</div>"
      ],
      "text/plain": [
       "   Unnamed: 0  trade_date  gvkey   weights  predicted_return\n",
       "0           0  2009-06-01   1045  0.006944          0.052594\n",
       "1           1  2009-06-01   1161  0.006944          0.098717\n",
       "2           2  2009-06-01   1230  0.006944          0.036450\n",
       "3           3  2009-06-01   1661  0.006944          0.062174\n",
       "4           4  2009-06-01   1704  0.006944          0.058399"
      ]
     },
     "execution_count": 7,
     "metadata": {},
     "output_type": "execute_result"
    }
   ],
   "source": [
    "weight_equal.head()"
   ]
  },
  {
   "cell_type": "code",
   "execution_count": 8,
   "metadata": {},
   "outputs": [
    {
     "name": "stdout",
     "output_type": "stream",
     "text": [
      "16425 16425 16425\n"
     ]
    }
   ],
   "source": [
    "#the length of the 3 tables should be the same\n",
    "print(len(weight_meanv),\n",
    "len(weight_minv),\n",
    "len(weight_equal))\n"
   ]
  },
  {
   "cell_type": "markdown",
   "metadata": {},
   "source": []
  },
  {
   "cell_type": "code",
   "execution_count": null,
   "metadata": {
    "collapsed": true
   },
   "outputs": [],
   "source": []
  },
  {
   "cell_type": "markdown",
   "metadata": {},
   "source": [
    "## 1.1 Get stock name, trade date, daily date"
   ]
  },
  {
   "cell_type": "markdown",
   "metadata": {},
   "source": [
    "Add 20170901 as tradedate_full\n"
   ]
  },
  {
   "cell_type": "code",
   "execution_count": 9,
   "metadata": {
    "collapsed": true
   },
   "outputs": [],
   "source": [
    "#get unique stock name from table\n",
    "#stock names are the same between mean variance and minimum variance\n",
    "#only the weights are different\n",
    "stocks_name = list(set(weight_meanv['gvkey']))\n",
    "stocks_name.sort()"
   ]
  },
  {
   "cell_type": "code",
   "execution_count": 10,
   "metadata": {},
   "outputs": [
    {
     "data": {
      "text/plain": [
       "697"
      ]
     },
     "execution_count": 10,
     "metadata": {},
     "output_type": "execute_result"
    }
   ],
   "source": [
    "len(stocks_name)"
   ]
  },
  {
   "cell_type": "code",
   "execution_count": 11,
   "metadata": {},
   "outputs": [
    {
     "name": "stdout",
     "output_type": "stream",
     "text": [
      "<class 'pandas.core.series.Series'> <class 'list'>\n"
     ]
    }
   ],
   "source": [
    "#get all daily date\n",
    "#convert to list from pandas.core.series.Series\n",
    "#use set to get unique values\n",
    "daily = list(set(data_adj['date']))\n",
    "#sort it\n",
    "daily.sort()\n",
    "print(type(data_adj['date']),type(daily))"
   ]
  },
  {
   "cell_type": "code",
   "execution_count": 12,
   "metadata": {},
   "outputs": [
    {
     "data": {
      "text/plain": [
       "116"
      ]
     },
     "execution_count": 12,
     "metadata": {},
     "output_type": "execute_result"
    }
   ],
   "source": [
    "len(daily)\n"
   ]
  },
  {
   "cell_type": "code",
   "execution_count": 13,
   "metadata": {},
   "outputs": [],
   "source": [
    "#get unique trade date from table\n",
    "tradedate = list(set(weight_meanv['trade_date']))\n",
    "tradedate.sort()\n"
   ]
  },
  {
   "cell_type": "code",
   "execution_count": 14,
   "metadata": {},
   "outputs": [
    {
     "data": {
      "text/plain": [
       "['2004-03-01',\n",
       " '2004-06-01',\n",
       " '2004-09-01',\n",
       " '2004-12-01',\n",
       " '2005-03-01',\n",
       " '2005-06-01',\n",
       " '2005-09-01',\n",
       " '2005-12-01',\n",
       " '2006-03-01',\n",
       " '2006-06-01',\n",
       " '2006-09-01',\n",
       " '2006-12-01',\n",
       " '2007-03-01',\n",
       " '2007-06-01',\n",
       " '2007-09-04',\n",
       " '2007-12-03',\n",
       " '2008-03-03',\n",
       " '2008-06-02',\n",
       " '2008-09-02',\n",
       " '2008-12-01',\n",
       " '2009-03-02',\n",
       " '2009-06-01',\n",
       " '2009-09-01',\n",
       " '2009-12-01',\n",
       " '2010-03-01',\n",
       " '2010-06-01',\n",
       " '2010-09-01',\n",
       " '2010-12-01',\n",
       " '2011-03-01',\n",
       " '2011-06-01',\n",
       " '2011-09-01',\n",
       " '2011-12-01',\n",
       " '2012-03-01',\n",
       " '2012-06-01',\n",
       " '2012-09-04',\n",
       " '2012-12-03',\n",
       " '2013-03-01',\n",
       " '2013-06-03',\n",
       " '2013-09-03',\n",
       " '2013-12-02',\n",
       " '2014-03-03',\n",
       " '2014-06-02',\n",
       " '2014-09-02',\n",
       " '2014-12-01',\n",
       " '2015-03-02',\n",
       " '2015-06-01',\n",
       " '2015-09-01',\n",
       " '2015-12-01',\n",
       " '2016-03-01',\n",
       " '2016-06-01',\n",
       " '2016-09-01',\n",
       " '2016-12-01',\n",
       " '2017-03-01',\n",
       " '2017-06-01',\n",
       " '2017-09-01',\n",
       " '2017-12-01',\n",
       " '2018-03-01',\n",
       " '2018-06-01',\n",
       " '2018-09-04',\n",
       " '2018-12-03',\n",
       " '2019-03-01',\n",
       " '2019-06-03',\n",
       " '2019-09-03',\n",
       " '2019-12-02',\n",
       " '2020-03-02',\n",
       " '2020-06-01',\n",
       " '2020-09-01',\n",
       " '2020-12-01',\n",
       " '2021-03-01',\n",
       " '2021-06-01',\n",
       " '2021-09-01',\n",
       " '2021-12-01',\n",
       " '2022-03-01',\n",
       " '2022-06-01',\n",
       " '2022-09-01',\n",
       " '2022-12-01',\n",
       " '2023-03-01',\n",
       " '2023-06-01',\n",
       " '2023-09-01',\n",
       " '2023-12-01',\n",
       " '2024-03-01',\n",
       " '2024-06-03',\n",
       " '2024-09-03',\n",
       " '2024-12-02']"
      ]
     },
     "execution_count": 14,
     "metadata": {},
     "output_type": "execute_result"
    }
   ],
   "source": [
    "tradedate"
   ]
  },
  {
   "cell_type": "code",
   "execution_count": 15,
   "metadata": {},
   "outputs": [],
   "source": [
    "tradedate_full = [x for x in tradedate if x >= '2004-12-01']"
   ]
  },
  {
   "cell_type": "code",
   "execution_count": 16,
   "metadata": {},
   "outputs": [
    {
     "data": {
      "text/plain": [
       "['2004-12-01',\n",
       " '2005-03-01',\n",
       " '2005-06-01',\n",
       " '2005-09-01',\n",
       " '2005-12-01',\n",
       " '2006-03-01',\n",
       " '2006-06-01',\n",
       " '2006-09-01',\n",
       " '2006-12-01',\n",
       " '2007-03-01',\n",
       " '2007-06-01',\n",
       " '2007-09-04',\n",
       " '2007-12-03',\n",
       " '2008-03-03',\n",
       " '2008-06-02',\n",
       " '2008-09-02',\n",
       " '2008-12-01',\n",
       " '2009-03-02',\n",
       " '2009-06-01',\n",
       " '2009-09-01',\n",
       " '2009-12-01',\n",
       " '2010-03-01',\n",
       " '2010-06-01',\n",
       " '2010-09-01',\n",
       " '2010-12-01',\n",
       " '2011-03-01',\n",
       " '2011-06-01',\n",
       " '2011-09-01',\n",
       " '2011-12-01',\n",
       " '2012-03-01',\n",
       " '2012-06-01',\n",
       " '2012-09-04',\n",
       " '2012-12-03',\n",
       " '2013-03-01',\n",
       " '2013-06-03',\n",
       " '2013-09-03',\n",
       " '2013-12-02',\n",
       " '2014-03-03',\n",
       " '2014-06-02',\n",
       " '2014-09-02',\n",
       " '2014-12-01',\n",
       " '2015-03-02',\n",
       " '2015-06-01',\n",
       " '2015-09-01',\n",
       " '2015-12-01',\n",
       " '2016-03-01',\n",
       " '2016-06-01',\n",
       " '2016-09-01',\n",
       " '2016-12-01',\n",
       " '2017-03-01',\n",
       " '2017-06-01',\n",
       " '2017-09-01',\n",
       " '2017-12-01',\n",
       " '2018-03-01',\n",
       " '2018-06-01',\n",
       " '2018-09-04',\n",
       " '2018-12-03',\n",
       " '2019-03-01',\n",
       " '2019-06-03',\n",
       " '2019-09-03',\n",
       " '2019-12-02',\n",
       " '2020-03-02',\n",
       " '2020-06-01',\n",
       " '2020-09-01',\n",
       " '2020-12-01',\n",
       " '2021-03-01',\n",
       " '2021-06-01',\n",
       " '2021-09-01',\n",
       " '2021-12-01',\n",
       " '2022-03-01',\n",
       " '2022-06-01',\n",
       " '2022-09-01',\n",
       " '2022-12-01',\n",
       " '2023-03-01',\n",
       " '2023-06-01',\n",
       " '2023-09-01',\n",
       " '2023-12-01',\n",
       " '2024-03-01',\n",
       " '2024-06-03',\n",
       " '2024-09-03',\n",
       " '2024-12-02']"
      ]
     },
     "execution_count": 16,
     "metadata": {},
     "output_type": "execute_result"
    }
   ],
   "source": [
    "tradedate_full"
   ]
  },
  {
   "cell_type": "markdown",
   "metadata": {},
   "source": [
    "## 1.2 Get the daily price matrix based on stock_name"
   ]
  },
  {
   "cell_type": "code",
   "execution_count": 17,
   "metadata": {
    "collapsed": true
   },
   "outputs": [
    {
     "name": "stderr",
     "output_type": "stream",
     "text": [
      "C:\\Users\\misss\\AppData\\Local\\Temp\\ipykernel_40080\\1696695376.py:10: FutureWarning: Downcasting object dtype arrays on .fillna, .ffill, .bfill is deprecated and will change in a future version. Call result.infer_objects(copy=False) instead. To opt-in to the future behavior, set `pd.set_option('future.no_silent_downcasting', True)`\n",
      "  balance_daily = balance_daily.fillna(np.nan)\n"
     ]
    },
    {
     "name": "stdout",
     "output_type": "stream",
     "text": [
      "6.6129655838012695\n"
     ]
    },
    {
     "name": "stderr",
     "output_type": "stream",
     "text": [
      "C:\\Users\\misss\\AppData\\Local\\Temp\\ipykernel_40080\\1696695376.py:26: FutureWarning: Starting with pandas version 3.0 all arguments of to_excel except for the argument 'excel_writer' will be keyword-only.\n",
      "  balance_daily.to_excel(writer2,'Sheet1')\n"
     ]
    }
   ],
   "source": [
    "#30mins running time\n",
    "##################match current all stocks to daily adjusted price table#######################\n",
    "# backtest daily price matrix:\n",
    "# covert original table to matrix\n",
    "# rows = all stocks: 971, columns = all dates:7155 days\n",
    "#\n",
    "start_time = time.time()\n",
    "\n",
    "balance_daily = pd.DataFrame(index = stocks_name, columns = daily)\n",
    "balance_daily = balance_daily.fillna(np.nan)\n",
    "\n",
    "for i in stocks_name:\n",
    "    ind = np.where(data_adj['gvkey'] == i)[0]\n",
    "    tmp = data_adj.loc[ind, :]\n",
    "    tmp.index = range(tmp.shape[0])\n",
    "    for j in daily:\n",
    "        ind2 = np.where(tmp['date'] == j)[0]\n",
    "        if(len(ind2) != 0):\n",
    "            balance_daily.loc[i,j] = tmp.loc[ind2[0], 'adj_close_q']\n",
    "\n",
    "elapsed_time = time.time() - start_time\n",
    "print(elapsed_time)\n",
    "writer2 = pd.ExcelWriter('balance_daily.xlsx')\n",
    "writer2 = pd.ExcelWriter('balance_daily_user8.xlsx')\n",
    "\n",
    "balance_daily.to_excel(writer2,'Sheet1')\n",
    "writer2.close()\n",
    "###############################################"
   ]
  },
  {
   "cell_type": "code",
   "execution_count": 18,
   "metadata": {
    "collapsed": true
   },
   "outputs": [],
   "source": [
    "balance_daily = pd.read_excel('balance_daily_user8.xlsx', index_col=0)\n"
   ]
  },
  {
   "cell_type": "code",
   "execution_count": 19,
   "metadata": {},
   "outputs": [
    {
     "data": {
      "text/html": [
       "<div>\n",
       "<style scoped>\n",
       "    .dataframe tbody tr th:only-of-type {\n",
       "        vertical-align: middle;\n",
       "    }\n",
       "\n",
       "    .dataframe tbody tr th {\n",
       "        vertical-align: top;\n",
       "    }\n",
       "\n",
       "    .dataframe thead th {\n",
       "        text-align: right;\n",
       "    }\n",
       "</style>\n",
       "<table border=\"1\" class=\"dataframe\">\n",
       "  <thead>\n",
       "    <tr style=\"text-align: right;\">\n",
       "      <th></th>\n",
       "      <th>1996-03-01</th>\n",
       "      <th>1996-06-03</th>\n",
       "      <th>1996-09-03</th>\n",
       "      <th>1996-12-02</th>\n",
       "      <th>1997-03-03</th>\n",
       "      <th>1997-06-02</th>\n",
       "      <th>1997-09-02</th>\n",
       "      <th>1997-12-01</th>\n",
       "      <th>1998-03-02</th>\n",
       "      <th>1998-06-01</th>\n",
       "      <th>...</th>\n",
       "      <th>2022-09-01</th>\n",
       "      <th>2022-12-01</th>\n",
       "      <th>2023-03-01</th>\n",
       "      <th>2023-06-01</th>\n",
       "      <th>2023-09-01</th>\n",
       "      <th>2023-12-01</th>\n",
       "      <th>2024-03-01</th>\n",
       "      <th>2024-06-03</th>\n",
       "      <th>2024-09-03</th>\n",
       "      <th>2024-12-02</th>\n",
       "    </tr>\n",
       "  </thead>\n",
       "  <tbody>\n",
       "    <tr>\n",
       "      <th>1045</th>\n",
       "      <td>NaN</td>\n",
       "      <td>NaN</td>\n",
       "      <td>NaN</td>\n",
       "      <td>NaN</td>\n",
       "      <td>NaN</td>\n",
       "      <td>NaN</td>\n",
       "      <td>NaN</td>\n",
       "      <td>NaN</td>\n",
       "      <td>NaN</td>\n",
       "      <td>NaN</td>\n",
       "      <td>...</td>\n",
       "      <td>12.930000</td>\n",
       "      <td>13.980000</td>\n",
       "      <td>16.030001</td>\n",
       "      <td>14.700000</td>\n",
       "      <td>14.680000</td>\n",
       "      <td>13.020000</td>\n",
       "      <td>15.660000</td>\n",
       "      <td>11.530000</td>\n",
       "      <td>10.600000</td>\n",
       "      <td>14.610000</td>\n",
       "    </tr>\n",
       "    <tr>\n",
       "      <th>1075</th>\n",
       "      <td>NaN</td>\n",
       "      <td>7.730066</td>\n",
       "      <td>8.389183</td>\n",
       "      <td>9.284263</td>\n",
       "      <td>9.478542</td>\n",
       "      <td>8.999684</td>\n",
       "      <td>10.055619</td>\n",
       "      <td>12.135516</td>\n",
       "      <td>12.712487</td>\n",
       "      <td>14.311364</td>\n",
       "      <td>...</td>\n",
       "      <td>67.808128</td>\n",
       "      <td>70.360054</td>\n",
       "      <td>67.065178</td>\n",
       "      <td>70.373497</td>\n",
       "      <td>71.014015</td>\n",
       "      <td>71.022690</td>\n",
       "      <td>65.187202</td>\n",
       "      <td>74.559937</td>\n",
       "      <td>86.479935</td>\n",
       "      <td>91.468803</td>\n",
       "    </tr>\n",
       "    <tr>\n",
       "      <th>1078</th>\n",
       "      <td>NaN</td>\n",
       "      <td>4.717293</td>\n",
       "      <td>5.064067</td>\n",
       "      <td>6.179262</td>\n",
       "      <td>6.434070</td>\n",
       "      <td>7.102882</td>\n",
       "      <td>7.082232</td>\n",
       "      <td>7.690752</td>\n",
       "      <td>8.631998</td>\n",
       "      <td>8.442722</td>\n",
       "      <td>...</td>\n",
       "      <td>99.775932</td>\n",
       "      <td>103.201340</td>\n",
       "      <td>96.848946</td>\n",
       "      <td>99.253922</td>\n",
       "      <td>99.759033</td>\n",
       "      <td>102.291161</td>\n",
       "      <td>116.250908</td>\n",
       "      <td>101.315460</td>\n",
       "      <td>113.526405</td>\n",
       "      <td>116.200218</td>\n",
       "    </tr>\n",
       "    <tr>\n",
       "      <th>1161</th>\n",
       "      <td>NaN</td>\n",
       "      <td>8.750000</td>\n",
       "      <td>6.250000</td>\n",
       "      <td>12.687500</td>\n",
       "      <td>17.937500</td>\n",
       "      <td>19.875000</td>\n",
       "      <td>19.437500</td>\n",
       "      <td>11.281250</td>\n",
       "      <td>11.125000</td>\n",
       "      <td>9.625000</td>\n",
       "      <td>...</td>\n",
       "      <td>82.330002</td>\n",
       "      <td>77.480003</td>\n",
       "      <td>78.290001</td>\n",
       "      <td>119.470001</td>\n",
       "      <td>109.449997</td>\n",
       "      <td>121.389999</td>\n",
       "      <td>202.639999</td>\n",
       "      <td>163.550003</td>\n",
       "      <td>136.940002</td>\n",
       "      <td>142.059998</td>\n",
       "    </tr>\n",
       "    <tr>\n",
       "      <th>1209</th>\n",
       "      <td>NaN</td>\n",
       "      <td>14.317203</td>\n",
       "      <td>13.027093</td>\n",
       "      <td>17.007317</td>\n",
       "      <td>17.958735</td>\n",
       "      <td>19.500549</td>\n",
       "      <td>20.691166</td>\n",
       "      <td>19.316851</td>\n",
       "      <td>20.720919</td>\n",
       "      <td>21.759985</td>\n",
       "      <td>...</td>\n",
       "      <td>234.675720</td>\n",
       "      <td>294.974731</td>\n",
       "      <td>273.939209</td>\n",
       "      <td>261.215149</td>\n",
       "      <td>286.679657</td>\n",
       "      <td>263.875183</td>\n",
       "      <td>229.880035</td>\n",
       "      <td>265.820160</td>\n",
       "      <td>271.884644</td>\n",
       "      <td>333.571838</td>\n",
       "    </tr>\n",
       "    <tr>\n",
       "      <th>...</th>\n",
       "      <td>...</td>\n",
       "      <td>...</td>\n",
       "      <td>...</td>\n",
       "      <td>...</td>\n",
       "      <td>...</td>\n",
       "      <td>...</td>\n",
       "      <td>...</td>\n",
       "      <td>...</td>\n",
       "      <td>...</td>\n",
       "      <td>...</td>\n",
       "      <td>...</td>\n",
       "      <td>...</td>\n",
       "      <td>...</td>\n",
       "      <td>...</td>\n",
       "      <td>...</td>\n",
       "      <td>...</td>\n",
       "      <td>...</td>\n",
       "      <td>...</td>\n",
       "      <td>...</td>\n",
       "      <td>...</td>\n",
       "      <td>...</td>\n",
       "    </tr>\n",
       "    <tr>\n",
       "      <th>294524</th>\n",
       "      <td>NaN</td>\n",
       "      <td>NaN</td>\n",
       "      <td>NaN</td>\n",
       "      <td>NaN</td>\n",
       "      <td>NaN</td>\n",
       "      <td>NaN</td>\n",
       "      <td>NaN</td>\n",
       "      <td>NaN</td>\n",
       "      <td>NaN</td>\n",
       "      <td>NaN</td>\n",
       "      <td>...</td>\n",
       "      <td>72.438545</td>\n",
       "      <td>75.924255</td>\n",
       "      <td>87.442062</td>\n",
       "      <td>79.818817</td>\n",
       "      <td>94.209686</td>\n",
       "      <td>90.294510</td>\n",
       "      <td>95.216087</td>\n",
       "      <td>92.683456</td>\n",
       "      <td>94.180946</td>\n",
       "      <td>82.050003</td>\n",
       "    </tr>\n",
       "    <tr>\n",
       "      <th>312009</th>\n",
       "      <td>NaN</td>\n",
       "      <td>NaN</td>\n",
       "      <td>NaN</td>\n",
       "      <td>NaN</td>\n",
       "      <td>NaN</td>\n",
       "      <td>NaN</td>\n",
       "      <td>NaN</td>\n",
       "      <td>NaN</td>\n",
       "      <td>NaN</td>\n",
       "      <td>NaN</td>\n",
       "      <td>...</td>\n",
       "      <td>9.065766</td>\n",
       "      <td>10.765805</td>\n",
       "      <td>14.564113</td>\n",
       "      <td>12.180532</td>\n",
       "      <td>15.303938</td>\n",
       "      <td>18.491840</td>\n",
       "      <td>21.097977</td>\n",
       "      <td>26.536190</td>\n",
       "      <td>22.375109</td>\n",
       "      <td>15.710000</td>\n",
       "    </tr>\n",
       "    <tr>\n",
       "      <th>316056</th>\n",
       "      <td>NaN</td>\n",
       "      <td>NaN</td>\n",
       "      <td>NaN</td>\n",
       "      <td>NaN</td>\n",
       "      <td>NaN</td>\n",
       "      <td>NaN</td>\n",
       "      <td>NaN</td>\n",
       "      <td>NaN</td>\n",
       "      <td>NaN</td>\n",
       "      <td>NaN</td>\n",
       "      <td>...</td>\n",
       "      <td>92.766258</td>\n",
       "      <td>111.007080</td>\n",
       "      <td>109.401260</td>\n",
       "      <td>102.390770</td>\n",
       "      <td>112.585030</td>\n",
       "      <td>107.092667</td>\n",
       "      <td>125.412460</td>\n",
       "      <td>119.613861</td>\n",
       "      <td>136.542542</td>\n",
       "      <td>140.399994</td>\n",
       "    </tr>\n",
       "    <tr>\n",
       "      <th>322985</th>\n",
       "      <td>NaN</td>\n",
       "      <td>NaN</td>\n",
       "      <td>NaN</td>\n",
       "      <td>NaN</td>\n",
       "      <td>NaN</td>\n",
       "      <td>NaN</td>\n",
       "      <td>NaN</td>\n",
       "      <td>NaN</td>\n",
       "      <td>NaN</td>\n",
       "      <td>NaN</td>\n",
       "      <td>...</td>\n",
       "      <td>NaN</td>\n",
       "      <td>NaN</td>\n",
       "      <td>NaN</td>\n",
       "      <td>NaN</td>\n",
       "      <td>NaN</td>\n",
       "      <td>NaN</td>\n",
       "      <td>11.751506</td>\n",
       "      <td>14.251513</td>\n",
       "      <td>11.460000</td>\n",
       "      <td>NaN</td>\n",
       "    </tr>\n",
       "    <tr>\n",
       "      <th>327675</th>\n",
       "      <td>NaN</td>\n",
       "      <td>NaN</td>\n",
       "      <td>NaN</td>\n",
       "      <td>NaN</td>\n",
       "      <td>NaN</td>\n",
       "      <td>NaN</td>\n",
       "      <td>NaN</td>\n",
       "      <td>NaN</td>\n",
       "      <td>NaN</td>\n",
       "      <td>NaN</td>\n",
       "      <td>...</td>\n",
       "      <td>NaN</td>\n",
       "      <td>NaN</td>\n",
       "      <td>NaN</td>\n",
       "      <td>NaN</td>\n",
       "      <td>NaN</td>\n",
       "      <td>NaN</td>\n",
       "      <td>26.618521</td>\n",
       "      <td>33.281895</td>\n",
       "      <td>29.687500</td>\n",
       "      <td>21.410000</td>\n",
       "    </tr>\n",
       "  </tbody>\n",
       "</table>\n",
       "<p>697 rows × 116 columns</p>\n",
       "</div>"
      ],
      "text/plain": [
       "        1996-03-01  1996-06-03  1996-09-03  1996-12-02  1997-03-03  \\\n",
       "1045           NaN         NaN         NaN         NaN         NaN   \n",
       "1075           NaN    7.730066    8.389183    9.284263    9.478542   \n",
       "1078           NaN    4.717293    5.064067    6.179262    6.434070   \n",
       "1161           NaN    8.750000    6.250000   12.687500   17.937500   \n",
       "1209           NaN   14.317203   13.027093   17.007317   17.958735   \n",
       "...            ...         ...         ...         ...         ...   \n",
       "294524         NaN         NaN         NaN         NaN         NaN   \n",
       "312009         NaN         NaN         NaN         NaN         NaN   \n",
       "316056         NaN         NaN         NaN         NaN         NaN   \n",
       "322985         NaN         NaN         NaN         NaN         NaN   \n",
       "327675         NaN         NaN         NaN         NaN         NaN   \n",
       "\n",
       "        1997-06-02  1997-09-02  1997-12-01  1998-03-02  1998-06-01  ...  \\\n",
       "1045           NaN         NaN         NaN         NaN         NaN  ...   \n",
       "1075      8.999684   10.055619   12.135516   12.712487   14.311364  ...   \n",
       "1078      7.102882    7.082232    7.690752    8.631998    8.442722  ...   \n",
       "1161     19.875000   19.437500   11.281250   11.125000    9.625000  ...   \n",
       "1209     19.500549   20.691166   19.316851   20.720919   21.759985  ...   \n",
       "...            ...         ...         ...         ...         ...  ...   \n",
       "294524         NaN         NaN         NaN         NaN         NaN  ...   \n",
       "312009         NaN         NaN         NaN         NaN         NaN  ...   \n",
       "316056         NaN         NaN         NaN         NaN         NaN  ...   \n",
       "322985         NaN         NaN         NaN         NaN         NaN  ...   \n",
       "327675         NaN         NaN         NaN         NaN         NaN  ...   \n",
       "\n",
       "        2022-09-01  2022-12-01  2023-03-01  2023-06-01  2023-09-01  \\\n",
       "1045     12.930000   13.980000   16.030001   14.700000   14.680000   \n",
       "1075     67.808128   70.360054   67.065178   70.373497   71.014015   \n",
       "1078     99.775932  103.201340   96.848946   99.253922   99.759033   \n",
       "1161     82.330002   77.480003   78.290001  119.470001  109.449997   \n",
       "1209    234.675720  294.974731  273.939209  261.215149  286.679657   \n",
       "...            ...         ...         ...         ...         ...   \n",
       "294524   72.438545   75.924255   87.442062   79.818817   94.209686   \n",
       "312009    9.065766   10.765805   14.564113   12.180532   15.303938   \n",
       "316056   92.766258  111.007080  109.401260  102.390770  112.585030   \n",
       "322985         NaN         NaN         NaN         NaN         NaN   \n",
       "327675         NaN         NaN         NaN         NaN         NaN   \n",
       "\n",
       "        2023-12-01  2024-03-01  2024-06-03  2024-09-03  2024-12-02  \n",
       "1045     13.020000   15.660000   11.530000   10.600000   14.610000  \n",
       "1075     71.022690   65.187202   74.559937   86.479935   91.468803  \n",
       "1078    102.291161  116.250908  101.315460  113.526405  116.200218  \n",
       "1161    121.389999  202.639999  163.550003  136.940002  142.059998  \n",
       "1209    263.875183  229.880035  265.820160  271.884644  333.571838  \n",
       "...            ...         ...         ...         ...         ...  \n",
       "294524   90.294510   95.216087   92.683456   94.180946   82.050003  \n",
       "312009   18.491840   21.097977   26.536190   22.375109   15.710000  \n",
       "316056  107.092667  125.412460  119.613861  136.542542  140.399994  \n",
       "322985         NaN   11.751506   14.251513   11.460000         NaN  \n",
       "327675         NaN   26.618521   33.281895   29.687500   21.410000  \n",
       "\n",
       "[697 rows x 116 columns]"
      ]
     },
     "execution_count": 19,
     "metadata": {},
     "output_type": "execute_result"
    }
   ],
   "source": [
    "balance_daily"
   ]
  },
  {
   "cell_type": "markdown",
   "metadata": {},
   "source": [
    "# 2. Function: calculate the rebalance matrix:"
   ]
  },
  {
   "cell_type": "markdown",
   "metadata": {},
   "source": [
    "1. shares table\n",
    "2. cost table\n",
    "3. cash table\n",
    "4. portfolio table\n",
    "5. portfolio_cost table\n",
    "6. portfolio_return table\n",
    "7. portfolio_cumsum table"
   ]
  },
  {
   "cell_type": "code",
   "execution_count": 20,
   "metadata": {
    "collapsed": true
   },
   "outputs": [],
   "source": [
    "# set initial capital to 1 million and transaction percet to 0.1%\n",
    "\n",
    "capital = 1000000\n",
    "transaction_percent = 1/1000"
   ]
  },
  {
   "cell_type": "code",
   "execution_count": 21,
   "metadata": {},
   "outputs": [
    {
     "data": {
      "text/plain": [
       "(16425, 5)"
      ]
     },
     "execution_count": 21,
     "metadata": {},
     "output_type": "execute_result"
    }
   ],
   "source": [
    "weight_meanv.shape"
   ]
  },
  {
   "cell_type": "code",
   "execution_count": 22,
   "metadata": {
    "collapsed": true
   },
   "outputs": [],
   "source": [
    "#construct an empty matrix\n",
    "#rows are stocks: 971 unique stocks\n",
    "#columns are trade dates\n",
    "#name the index as stock names\n",
    "\n",
    "def cal_portfolio(stocks_name,tradedate, weight_table, capital, transaction_percent):\n",
    "\n",
    "\n",
    "    balance_weight = pd.DataFrame(index = stocks_name, columns = tradedate)\n",
    "    balance_weight = balance_weight.fillna(0)\n",
    "    \n",
    "    #loop through the weights table to fill the matrix\n",
    "    #need weight tabele\n",
    "    #0. weights table\n",
    "    for i in range(weight_table.shape[0]):\n",
    "        tics = weight_table.loc[i, 'gvkey']\n",
    "        date = weight_table.loc[i, 'trade_date']\n",
    "        w = weight_table.loc[i, 'weights']\n",
    "        balance_weight.loc[tics, date] = w\n",
    "        \n",
    "    #1. shares table\n",
    "    balance_share = pd.DataFrame(index = stocks_name, columns = tradedate)\n",
    "    balance_share['initial'] = 0\n",
    "    balance_share = balance_share.fillna(0)\n",
    "    #2. costs table\n",
    "    balance_cost = pd.DataFrame(index = stocks_name, columns = tradedate)\n",
    "    balance_cost = balance_cost.fillna(0)\n",
    "    #3. cash table\n",
    "    balance_cash = pd.DataFrame(index = stocks_name, columns = tradedate)\n",
    "    balance_cash = balance_cash.fillna(0)\n",
    "\n",
    "    #4. portfolio without transaction costs table \n",
    "    portfolio = pd.DataFrame(index = range(1), columns = tradedate_full)\n",
    "    portfolio.loc[0,tradedate[0]] = capital\n",
    "    \n",
    "    \n",
    "    # calculate portfolio value without cost\n",
    "    balance_price_full = []\n",
    "    balance_price_full = balance_daily[tradedate_full]\n",
    "    balance_price = balance_daily[tradedate]\n",
    "    balance_price.replace([0, np.inf, -np.inf], np.nan, inplace=True)\n",
    "    for j in range(len(tradedate) - 1):\n",
    "        i = tradedate[j]\n",
    "        #current capital\n",
    "        cap = portfolio.loc[0, i]\n",
    "        #\n",
    "        balance_cash[i] = cap * balance_weight[i]\n",
    "        balance_share[i] = list(np.array(balance_cash[i])\n",
    "                                      / np.array(balance_price[i]))\n",
    "        balance_share[i] = balance_share[i].fillna(0)\n",
    "        balance_share[i] = balance_share[i].astype(int)\n",
    "        #next quarter price * current share to calculate next quarter total account value\n",
    "        a = balance_price_full[tradedate_full[j+1]].fillna(0)\n",
    "        portfolio.loc[0, tradedate_full[j+1]] = np.dot(balance_share[i], a)\n",
    "\n",
    "    balance_cost = abs(np.diff(balance_share, axis = 1))\n",
    "    balance_cost = balance_cost * balance_price\n",
    "    balance_cost = np.sum(balance_cost, axis = 0) * transaction_percent\n",
    "    \n",
    "    #5. portfolio with transaction cost table\n",
    "    #calcualte portolio value with transaction cost\n",
    "    balance_cost.index = tradedate_full\n",
    "    portfolio_cost = []\n",
    "    portfolio_cost = portfolio.loc[0,] - balance_cost\n",
    "    portfolio_cost.index = tradedate_full\n",
    "    portfolio_cost_value = portfolio_cost.copy()\n",
    "    \n",
    "    #6. portfolio return P&L table\n",
    "    portfolio_cumsum = portfolio_cost_value.copy()\n",
    "    portfolio_cumsum.index = range(len(portfolio_cumsum))\n",
    "    tmp = portfolio_cumsum.shift(1)\n",
    "    tmp[0] = 0\n",
    "    tmp.index = tradedate_full\n",
    "\n",
    "    portfolio_cumsum = portfolio_cost_value- tmp\n",
    "    portfolio_cumsum.index = range(len(portfolio_cumsum))\n",
    "    tmp.index = range(len(tmp))\n",
    "    for i in range(len(portfolio_cumsum)):\n",
    "        if(tmp[i] != 0):\n",
    "            portfolio_cumsum[i] = portfolio_cumsum[i]/tmp[i]\n",
    "\n",
    "    portfolio_cumsum.index = range(len(portfolio_cumsum))\n",
    "    portfolio_cumsum[0] = 0\n",
    "    portfolio_return=portfolio_cumsum.copy()\n",
    "\n",
    "\n",
    "\n",
    "    # 7. portfolio accumulative return table\n",
    "    initial = 0\n",
    "    for i in range(portfolio_cumsum.shape[0]):\n",
    "        portfolio_cumsum[i] = initial + portfolio_cumsum[i]\n",
    "        initial = portfolio_cumsum[i]\n",
    "    \n",
    "    #1. shares table\n",
    "    #2. costs table\n",
    "    #3. cash table\n",
    "    #4. portfolio without transaction costs table \n",
    "    #5. portfolio with transaction cost table\n",
    "    #6. portfolio return P&L table\n",
    "    #7. portfolio accumulative return table\n",
    "\n",
    "    return(balance_share,\n",
    "           balance_cost,\n",
    "           balance_cash,\n",
    "           portfolio,\n",
    "           portfolio_cost,\n",
    "           portfolio_return,\n",
    "           portfolio_cumsum)\n"
   ]
  },
  {
   "cell_type": "code",
   "execution_count": 23,
   "metadata": {},
   "outputs": [
    {
     "name": "stderr",
     "output_type": "stream",
     "text": [
      "C:\\Users\\misss\\AppData\\Local\\Temp\\ipykernel_40080\\1845856610.py:10: FutureWarning: Downcasting object dtype arrays on .fillna, .ffill, .bfill is deprecated and will change in a future version. Call result.infer_objects(copy=False) instead. To opt-in to the future behavior, set `pd.set_option('future.no_silent_downcasting', True)`\n",
      "  balance_weight = balance_weight.fillna(0)\n",
      "C:\\Users\\misss\\AppData\\Local\\Temp\\ipykernel_40080\\1845856610.py:19: FutureWarning: Setting an item of incompatible dtype is deprecated and will raise an error in a future version of pandas. Value '0.00699' has dtype incompatible with int64, please explicitly cast to a compatible dtype first.\n",
      "  balance_weight.loc[tics, date] = w\n",
      "C:\\Users\\misss\\AppData\\Local\\Temp\\ipykernel_40080\\1845856610.py:19: FutureWarning: Setting an item of incompatible dtype is deprecated and will raise an error in a future version of pandas. Value '0.00864' has dtype incompatible with int64, please explicitly cast to a compatible dtype first.\n",
      "  balance_weight.loc[tics, date] = w\n",
      "C:\\Users\\misss\\AppData\\Local\\Temp\\ipykernel_40080\\1845856610.py:19: FutureWarning: Setting an item of incompatible dtype is deprecated and will raise an error in a future version of pandas. Value '0.00694' has dtype incompatible with int64, please explicitly cast to a compatible dtype first.\n",
      "  balance_weight.loc[tics, date] = w\n",
      "C:\\Users\\misss\\AppData\\Local\\Temp\\ipykernel_40080\\1845856610.py:19: FutureWarning: Setting an item of incompatible dtype is deprecated and will raise an error in a future version of pandas. Value '0.00888' has dtype incompatible with int64, please explicitly cast to a compatible dtype first.\n",
      "  balance_weight.loc[tics, date] = w\n",
      "C:\\Users\\misss\\AppData\\Local\\Temp\\ipykernel_40080\\1845856610.py:19: FutureWarning: Setting an item of incompatible dtype is deprecated and will raise an error in a future version of pandas. Value '0.00621' has dtype incompatible with int64, please explicitly cast to a compatible dtype first.\n",
      "  balance_weight.loc[tics, date] = w\n",
      "C:\\Users\\misss\\AppData\\Local\\Temp\\ipykernel_40080\\1845856610.py:19: FutureWarning: Setting an item of incompatible dtype is deprecated and will raise an error in a future version of pandas. Value '0.00667' has dtype incompatible with int64, please explicitly cast to a compatible dtype first.\n",
      "  balance_weight.loc[tics, date] = w\n",
      "C:\\Users\\misss\\AppData\\Local\\Temp\\ipykernel_40080\\1845856610.py:19: FutureWarning: Setting an item of incompatible dtype is deprecated and will raise an error in a future version of pandas. Value '0.00585' has dtype incompatible with int64, please explicitly cast to a compatible dtype first.\n",
      "  balance_weight.loc[tics, date] = w\n",
      "C:\\Users\\misss\\AppData\\Local\\Temp\\ipykernel_40080\\1845856610.py:19: FutureWarning: Setting an item of incompatible dtype is deprecated and will raise an error in a future version of pandas. Value '0.00455' has dtype incompatible with int64, please explicitly cast to a compatible dtype first.\n",
      "  balance_weight.loc[tics, date] = w\n",
      "C:\\Users\\misss\\AppData\\Local\\Temp\\ipykernel_40080\\1845856610.py:19: FutureWarning: Setting an item of incompatible dtype is deprecated and will raise an error in a future version of pandas. Value '0.00565' has dtype incompatible with int64, please explicitly cast to a compatible dtype first.\n",
      "  balance_weight.loc[tics, date] = w\n",
      "C:\\Users\\misss\\AppData\\Local\\Temp\\ipykernel_40080\\1845856610.py:19: FutureWarning: Setting an item of incompatible dtype is deprecated and will raise an error in a future version of pandas. Value '0.00334' has dtype incompatible with int64, please explicitly cast to a compatible dtype first.\n",
      "  balance_weight.loc[tics, date] = w\n",
      "C:\\Users\\misss\\AppData\\Local\\Temp\\ipykernel_40080\\1845856610.py:19: FutureWarning: Setting an item of incompatible dtype is deprecated and will raise an error in a future version of pandas. Value '0.0068' has dtype incompatible with int64, please explicitly cast to a compatible dtype first.\n",
      "  balance_weight.loc[tics, date] = w\n",
      "C:\\Users\\misss\\AppData\\Local\\Temp\\ipykernel_40080\\1845856610.py:19: FutureWarning: Setting an item of incompatible dtype is deprecated and will raise an error in a future version of pandas. Value '0.00654' has dtype incompatible with int64, please explicitly cast to a compatible dtype first.\n",
      "  balance_weight.loc[tics, date] = w\n",
      "C:\\Users\\misss\\AppData\\Local\\Temp\\ipykernel_40080\\1845856610.py:19: FutureWarning: Setting an item of incompatible dtype is deprecated and will raise an error in a future version of pandas. Value '0.00336' has dtype incompatible with int64, please explicitly cast to a compatible dtype first.\n",
      "  balance_weight.loc[tics, date] = w\n",
      "C:\\Users\\misss\\AppData\\Local\\Temp\\ipykernel_40080\\1845856610.py:19: FutureWarning: Setting an item of incompatible dtype is deprecated and will raise an error in a future version of pandas. Value '0.00578' has dtype incompatible with int64, please explicitly cast to a compatible dtype first.\n",
      "  balance_weight.loc[tics, date] = w\n",
      "C:\\Users\\misss\\AppData\\Local\\Temp\\ipykernel_40080\\1845856610.py:19: FutureWarning: Setting an item of incompatible dtype is deprecated and will raise an error in a future version of pandas. Value '0.00498' has dtype incompatible with int64, please explicitly cast to a compatible dtype first.\n",
      "  balance_weight.loc[tics, date] = w\n",
      "C:\\Users\\misss\\AppData\\Local\\Temp\\ipykernel_40080\\1845856610.py:19: FutureWarning: Setting an item of incompatible dtype is deprecated and will raise an error in a future version of pandas. Value '0.00052' has dtype incompatible with int64, please explicitly cast to a compatible dtype first.\n",
      "  balance_weight.loc[tics, date] = w\n",
      "C:\\Users\\misss\\AppData\\Local\\Temp\\ipykernel_40080\\1845856610.py:19: FutureWarning: Setting an item of incompatible dtype is deprecated and will raise an error in a future version of pandas. Value '0.00674' has dtype incompatible with int64, please explicitly cast to a compatible dtype first.\n",
      "  balance_weight.loc[tics, date] = w\n",
      "C:\\Users\\misss\\AppData\\Local\\Temp\\ipykernel_40080\\1845856610.py:19: FutureWarning: Setting an item of incompatible dtype is deprecated and will raise an error in a future version of pandas. Value '0.00448' has dtype incompatible with int64, please explicitly cast to a compatible dtype first.\n",
      "  balance_weight.loc[tics, date] = w\n",
      "C:\\Users\\misss\\AppData\\Local\\Temp\\ipykernel_40080\\1845856610.py:19: FutureWarning: Setting an item of incompatible dtype is deprecated and will raise an error in a future version of pandas. Value '0.00612' has dtype incompatible with int64, please explicitly cast to a compatible dtype first.\n",
      "  balance_weight.loc[tics, date] = w\n",
      "C:\\Users\\misss\\AppData\\Local\\Temp\\ipykernel_40080\\1845856610.py:19: FutureWarning: Setting an item of incompatible dtype is deprecated and will raise an error in a future version of pandas. Value '0.00625' has dtype incompatible with int64, please explicitly cast to a compatible dtype first.\n",
      "  balance_weight.loc[tics, date] = w\n",
      "C:\\Users\\misss\\AppData\\Local\\Temp\\ipykernel_40080\\1845856610.py:19: FutureWarning: Setting an item of incompatible dtype is deprecated and will raise an error in a future version of pandas. Value '0.0118' has dtype incompatible with int64, please explicitly cast to a compatible dtype first.\n",
      "  balance_weight.loc[tics, date] = w\n",
      "C:\\Users\\misss\\AppData\\Local\\Temp\\ipykernel_40080\\1845856610.py:19: FutureWarning: Setting an item of incompatible dtype is deprecated and will raise an error in a future version of pandas. Value '0.00198' has dtype incompatible with int64, please explicitly cast to a compatible dtype first.\n",
      "  balance_weight.loc[tics, date] = w\n",
      "C:\\Users\\misss\\AppData\\Local\\Temp\\ipykernel_40080\\1845856610.py:19: FutureWarning: Setting an item of incompatible dtype is deprecated and will raise an error in a future version of pandas. Value '0.00426' has dtype incompatible with int64, please explicitly cast to a compatible dtype first.\n",
      "  balance_weight.loc[tics, date] = w\n",
      "C:\\Users\\misss\\AppData\\Local\\Temp\\ipykernel_40080\\1845856610.py:19: FutureWarning: Setting an item of incompatible dtype is deprecated and will raise an error in a future version of pandas. Value '0.00779' has dtype incompatible with int64, please explicitly cast to a compatible dtype first.\n",
      "  balance_weight.loc[tics, date] = w\n",
      "C:\\Users\\misss\\AppData\\Local\\Temp\\ipykernel_40080\\1845856610.py:19: FutureWarning: Setting an item of incompatible dtype is deprecated and will raise an error in a future version of pandas. Value '0.00245' has dtype incompatible with int64, please explicitly cast to a compatible dtype first.\n",
      "  balance_weight.loc[tics, date] = w\n",
      "C:\\Users\\misss\\AppData\\Local\\Temp\\ipykernel_40080\\1845856610.py:19: FutureWarning: Setting an item of incompatible dtype is deprecated and will raise an error in a future version of pandas. Value '0.01' has dtype incompatible with int64, please explicitly cast to a compatible dtype first.\n",
      "  balance_weight.loc[tics, date] = w\n",
      "C:\\Users\\misss\\AppData\\Local\\Temp\\ipykernel_40080\\1845856610.py:19: FutureWarning: Setting an item of incompatible dtype is deprecated and will raise an error in a future version of pandas. Value '0.00461' has dtype incompatible with int64, please explicitly cast to a compatible dtype first.\n",
      "  balance_weight.loc[tics, date] = w\n",
      "C:\\Users\\misss\\AppData\\Local\\Temp\\ipykernel_40080\\1845856610.py:19: FutureWarning: Setting an item of incompatible dtype is deprecated and will raise an error in a future version of pandas. Value '0.00095' has dtype incompatible with int64, please explicitly cast to a compatible dtype first.\n",
      "  balance_weight.loc[tics, date] = w\n",
      "C:\\Users\\misss\\AppData\\Local\\Temp\\ipykernel_40080\\1845856610.py:19: FutureWarning: Setting an item of incompatible dtype is deprecated and will raise an error in a future version of pandas. Value '0.004' has dtype incompatible with int64, please explicitly cast to a compatible dtype first.\n",
      "  balance_weight.loc[tics, date] = w\n",
      "C:\\Users\\misss\\AppData\\Local\\Temp\\ipykernel_40080\\1845856610.py:19: FutureWarning: Setting an item of incompatible dtype is deprecated and will raise an error in a future version of pandas. Value '0.00332' has dtype incompatible with int64, please explicitly cast to a compatible dtype first.\n",
      "  balance_weight.loc[tics, date] = w\n",
      "C:\\Users\\misss\\AppData\\Local\\Temp\\ipykernel_40080\\1845856610.py:19: FutureWarning: Setting an item of incompatible dtype is deprecated and will raise an error in a future version of pandas. Value '0.00382' has dtype incompatible with int64, please explicitly cast to a compatible dtype first.\n",
      "  balance_weight.loc[tics, date] = w\n",
      "C:\\Users\\misss\\AppData\\Local\\Temp\\ipykernel_40080\\1845856610.py:19: FutureWarning: Setting an item of incompatible dtype is deprecated and will raise an error in a future version of pandas. Value '0.00668' has dtype incompatible with int64, please explicitly cast to a compatible dtype first.\n",
      "  balance_weight.loc[tics, date] = w\n",
      "C:\\Users\\misss\\AppData\\Local\\Temp\\ipykernel_40080\\1845856610.py:19: FutureWarning: Setting an item of incompatible dtype is deprecated and will raise an error in a future version of pandas. Value '0.0047' has dtype incompatible with int64, please explicitly cast to a compatible dtype first.\n",
      "  balance_weight.loc[tics, date] = w\n",
      "C:\\Users\\misss\\AppData\\Local\\Temp\\ipykernel_40080\\1845856610.py:19: FutureWarning: Setting an item of incompatible dtype is deprecated and will raise an error in a future version of pandas. Value '0.00328' has dtype incompatible with int64, please explicitly cast to a compatible dtype first.\n",
      "  balance_weight.loc[tics, date] = w\n",
      "C:\\Users\\misss\\AppData\\Local\\Temp\\ipykernel_40080\\1845856610.py:19: FutureWarning: Setting an item of incompatible dtype is deprecated and will raise an error in a future version of pandas. Value '0.00753' has dtype incompatible with int64, please explicitly cast to a compatible dtype first.\n",
      "  balance_weight.loc[tics, date] = w\n",
      "C:\\Users\\misss\\AppData\\Local\\Temp\\ipykernel_40080\\1845856610.py:19: FutureWarning: Setting an item of incompatible dtype is deprecated and will raise an error in a future version of pandas. Value '0.00346' has dtype incompatible with int64, please explicitly cast to a compatible dtype first.\n",
      "  balance_weight.loc[tics, date] = w\n",
      "C:\\Users\\misss\\AppData\\Local\\Temp\\ipykernel_40080\\1845856610.py:19: FutureWarning: Setting an item of incompatible dtype is deprecated and will raise an error in a future version of pandas. Value '0.00162' has dtype incompatible with int64, please explicitly cast to a compatible dtype first.\n",
      "  balance_weight.loc[tics, date] = w\n",
      "C:\\Users\\misss\\AppData\\Local\\Temp\\ipykernel_40080\\1845856610.py:19: FutureWarning: Setting an item of incompatible dtype is deprecated and will raise an error in a future version of pandas. Value '0.00107' has dtype incompatible with int64, please explicitly cast to a compatible dtype first.\n",
      "  balance_weight.loc[tics, date] = w\n",
      "C:\\Users\\misss\\AppData\\Local\\Temp\\ipykernel_40080\\1845856610.py:19: FutureWarning: Setting an item of incompatible dtype is deprecated and will raise an error in a future version of pandas. Value '0.00184' has dtype incompatible with int64, please explicitly cast to a compatible dtype first.\n",
      "  balance_weight.loc[tics, date] = w\n",
      "C:\\Users\\misss\\AppData\\Local\\Temp\\ipykernel_40080\\1845856610.py:19: FutureWarning: Setting an item of incompatible dtype is deprecated and will raise an error in a future version of pandas. Value '0.00665' has dtype incompatible with int64, please explicitly cast to a compatible dtype first.\n",
      "  balance_weight.loc[tics, date] = w\n",
      "C:\\Users\\misss\\AppData\\Local\\Temp\\ipykernel_40080\\1845856610.py:19: FutureWarning: Setting an item of incompatible dtype is deprecated and will raise an error in a future version of pandas. Value '0.00356' has dtype incompatible with int64, please explicitly cast to a compatible dtype first.\n",
      "  balance_weight.loc[tics, date] = w\n",
      "C:\\Users\\misss\\AppData\\Local\\Temp\\ipykernel_40080\\1845856610.py:19: FutureWarning: Setting an item of incompatible dtype is deprecated and will raise an error in a future version of pandas. Value '0.00322' has dtype incompatible with int64, please explicitly cast to a compatible dtype first.\n",
      "  balance_weight.loc[tics, date] = w\n",
      "C:\\Users\\misss\\AppData\\Local\\Temp\\ipykernel_40080\\1845856610.py:19: FutureWarning: Setting an item of incompatible dtype is deprecated and will raise an error in a future version of pandas. Value '0.00763' has dtype incompatible with int64, please explicitly cast to a compatible dtype first.\n",
      "  balance_weight.loc[tics, date] = w\n",
      "C:\\Users\\misss\\AppData\\Local\\Temp\\ipykernel_40080\\1845856610.py:19: FutureWarning: Setting an item of incompatible dtype is deprecated and will raise an error in a future version of pandas. Value '0.00383' has dtype incompatible with int64, please explicitly cast to a compatible dtype first.\n",
      "  balance_weight.loc[tics, date] = w\n",
      "C:\\Users\\misss\\AppData\\Local\\Temp\\ipykernel_40080\\1845856610.py:19: FutureWarning: Setting an item of incompatible dtype is deprecated and will raise an error in a future version of pandas. Value '0.00241' has dtype incompatible with int64, please explicitly cast to a compatible dtype first.\n",
      "  balance_weight.loc[tics, date] = w\n",
      "C:\\Users\\misss\\AppData\\Local\\Temp\\ipykernel_40080\\1845856610.py:19: FutureWarning: Setting an item of incompatible dtype is deprecated and will raise an error in a future version of pandas. Value '0.00385' has dtype incompatible with int64, please explicitly cast to a compatible dtype first.\n",
      "  balance_weight.loc[tics, date] = w\n",
      "C:\\Users\\misss\\AppData\\Local\\Temp\\ipykernel_40080\\1845856610.py:19: FutureWarning: Setting an item of incompatible dtype is deprecated and will raise an error in a future version of pandas. Value '0.00172' has dtype incompatible with int64, please explicitly cast to a compatible dtype first.\n",
      "  balance_weight.loc[tics, date] = w\n",
      "C:\\Users\\misss\\AppData\\Local\\Temp\\ipykernel_40080\\1845856610.py:19: FutureWarning: Setting an item of incompatible dtype is deprecated and will raise an error in a future version of pandas. Value '0.00806' has dtype incompatible with int64, please explicitly cast to a compatible dtype first.\n",
      "  balance_weight.loc[tics, date] = w\n",
      "C:\\Users\\misss\\AppData\\Local\\Temp\\ipykernel_40080\\1845856610.py:19: FutureWarning: Setting an item of incompatible dtype is deprecated and will raise an error in a future version of pandas. Value '0.00743' has dtype incompatible with int64, please explicitly cast to a compatible dtype first.\n",
      "  balance_weight.loc[tics, date] = w\n",
      "C:\\Users\\misss\\AppData\\Local\\Temp\\ipykernel_40080\\1845856610.py:19: FutureWarning: Setting an item of incompatible dtype is deprecated and will raise an error in a future version of pandas. Value '0.00897' has dtype incompatible with int64, please explicitly cast to a compatible dtype first.\n",
      "  balance_weight.loc[tics, date] = w\n",
      "C:\\Users\\misss\\AppData\\Local\\Temp\\ipykernel_40080\\1845856610.py:19: FutureWarning: Setting an item of incompatible dtype is deprecated and will raise an error in a future version of pandas. Value '0.01052' has dtype incompatible with int64, please explicitly cast to a compatible dtype first.\n",
      "  balance_weight.loc[tics, date] = w\n",
      "C:\\Users\\misss\\AppData\\Local\\Temp\\ipykernel_40080\\1845856610.py:19: FutureWarning: Setting an item of incompatible dtype is deprecated and will raise an error in a future version of pandas. Value '0.00274' has dtype incompatible with int64, please explicitly cast to a compatible dtype first.\n",
      "  balance_weight.loc[tics, date] = w\n",
      "C:\\Users\\misss\\AppData\\Local\\Temp\\ipykernel_40080\\1845856610.py:19: FutureWarning: Setting an item of incompatible dtype is deprecated and will raise an error in a future version of pandas. Value '0.00042' has dtype incompatible with int64, please explicitly cast to a compatible dtype first.\n",
      "  balance_weight.loc[tics, date] = w\n",
      "C:\\Users\\misss\\AppData\\Local\\Temp\\ipykernel_40080\\1845856610.py:19: FutureWarning: Setting an item of incompatible dtype is deprecated and will raise an error in a future version of pandas. Value '0.00133' has dtype incompatible with int64, please explicitly cast to a compatible dtype first.\n",
      "  balance_weight.loc[tics, date] = w\n",
      "C:\\Users\\misss\\AppData\\Local\\Temp\\ipykernel_40080\\1845856610.py:19: FutureWarning: Setting an item of incompatible dtype is deprecated and will raise an error in a future version of pandas. Value '0.00378' has dtype incompatible with int64, please explicitly cast to a compatible dtype first.\n",
      "  balance_weight.loc[tics, date] = w\n",
      "C:\\Users\\misss\\AppData\\Local\\Temp\\ipykernel_40080\\1845856610.py:19: FutureWarning: Setting an item of incompatible dtype is deprecated and will raise an error in a future version of pandas. Value '0.00601' has dtype incompatible with int64, please explicitly cast to a compatible dtype first.\n",
      "  balance_weight.loc[tics, date] = w\n",
      "C:\\Users\\misss\\AppData\\Local\\Temp\\ipykernel_40080\\1845856610.py:19: FutureWarning: Setting an item of incompatible dtype is deprecated and will raise an error in a future version of pandas. Value '0.00763' has dtype incompatible with int64, please explicitly cast to a compatible dtype first.\n",
      "  balance_weight.loc[tics, date] = w\n",
      "C:\\Users\\misss\\AppData\\Local\\Temp\\ipykernel_40080\\1845856610.py:19: FutureWarning: Setting an item of incompatible dtype is deprecated and will raise an error in a future version of pandas. Value '0.01642' has dtype incompatible with int64, please explicitly cast to a compatible dtype first.\n",
      "  balance_weight.loc[tics, date] = w\n",
      "C:\\Users\\misss\\AppData\\Local\\Temp\\ipykernel_40080\\1845856610.py:19: FutureWarning: Setting an item of incompatible dtype is deprecated and will raise an error in a future version of pandas. Value '0.00455' has dtype incompatible with int64, please explicitly cast to a compatible dtype first.\n",
      "  balance_weight.loc[tics, date] = w\n",
      "C:\\Users\\misss\\AppData\\Local\\Temp\\ipykernel_40080\\1845856610.py:19: FutureWarning: Setting an item of incompatible dtype is deprecated and will raise an error in a future version of pandas. Value '0.00496' has dtype incompatible with int64, please explicitly cast to a compatible dtype first.\n",
      "  balance_weight.loc[tics, date] = w\n",
      "C:\\Users\\misss\\AppData\\Local\\Temp\\ipykernel_40080\\1845856610.py:19: FutureWarning: Setting an item of incompatible dtype is deprecated and will raise an error in a future version of pandas. Value '0.00592' has dtype incompatible with int64, please explicitly cast to a compatible dtype first.\n",
      "  balance_weight.loc[tics, date] = w\n",
      "C:\\Users\\misss\\AppData\\Local\\Temp\\ipykernel_40080\\1845856610.py:19: FutureWarning: Setting an item of incompatible dtype is deprecated and will raise an error in a future version of pandas. Value '0.00385' has dtype incompatible with int64, please explicitly cast to a compatible dtype first.\n",
      "  balance_weight.loc[tics, date] = w\n",
      "C:\\Users\\misss\\AppData\\Local\\Temp\\ipykernel_40080\\1845856610.py:19: FutureWarning: Setting an item of incompatible dtype is deprecated and will raise an error in a future version of pandas. Value '0.03312' has dtype incompatible with int64, please explicitly cast to a compatible dtype first.\n",
      "  balance_weight.loc[tics, date] = w\n",
      "C:\\Users\\misss\\AppData\\Local\\Temp\\ipykernel_40080\\1845856610.py:19: FutureWarning: Setting an item of incompatible dtype is deprecated and will raise an error in a future version of pandas. Value '0.0069' has dtype incompatible with int64, please explicitly cast to a compatible dtype first.\n",
      "  balance_weight.loc[tics, date] = w\n",
      "C:\\Users\\misss\\AppData\\Local\\Temp\\ipykernel_40080\\1845856610.py:19: FutureWarning: Setting an item of incompatible dtype is deprecated and will raise an error in a future version of pandas. Value '0.0069' has dtype incompatible with int64, please explicitly cast to a compatible dtype first.\n",
      "  balance_weight.loc[tics, date] = w\n",
      "C:\\Users\\misss\\AppData\\Local\\Temp\\ipykernel_40080\\1845856610.py:19: FutureWarning: Setting an item of incompatible dtype is deprecated and will raise an error in a future version of pandas. Value '0.00746' has dtype incompatible with int64, please explicitly cast to a compatible dtype first.\n",
      "  balance_weight.loc[tics, date] = w\n",
      "C:\\Users\\misss\\AppData\\Local\\Temp\\ipykernel_40080\\1845856610.py:19: FutureWarning: Setting an item of incompatible dtype is deprecated and will raise an error in a future version of pandas. Value '0.01108' has dtype incompatible with int64, please explicitly cast to a compatible dtype first.\n",
      "  balance_weight.loc[tics, date] = w\n",
      "C:\\Users\\misss\\AppData\\Local\\Temp\\ipykernel_40080\\1845856610.py:19: FutureWarning: Setting an item of incompatible dtype is deprecated and will raise an error in a future version of pandas. Value '0.0027' has dtype incompatible with int64, please explicitly cast to a compatible dtype first.\n",
      "  balance_weight.loc[tics, date] = w\n",
      "C:\\Users\\misss\\AppData\\Local\\Temp\\ipykernel_40080\\1845856610.py:19: FutureWarning: Setting an item of incompatible dtype is deprecated and will raise an error in a future version of pandas. Value '0.00676' has dtype incompatible with int64, please explicitly cast to a compatible dtype first.\n",
      "  balance_weight.loc[tics, date] = w\n",
      "C:\\Users\\misss\\AppData\\Local\\Temp\\ipykernel_40080\\1845856610.py:19: FutureWarning: Setting an item of incompatible dtype is deprecated and will raise an error in a future version of pandas. Value '0.00704' has dtype incompatible with int64, please explicitly cast to a compatible dtype first.\n",
      "  balance_weight.loc[tics, date] = w\n",
      "C:\\Users\\misss\\AppData\\Local\\Temp\\ipykernel_40080\\1845856610.py:19: FutureWarning: Setting an item of incompatible dtype is deprecated and will raise an error in a future version of pandas. Value '0.00768' has dtype incompatible with int64, please explicitly cast to a compatible dtype first.\n",
      "  balance_weight.loc[tics, date] = w\n",
      "C:\\Users\\misss\\AppData\\Local\\Temp\\ipykernel_40080\\1845856610.py:19: FutureWarning: Setting an item of incompatible dtype is deprecated and will raise an error in a future version of pandas. Value '0.0133' has dtype incompatible with int64, please explicitly cast to a compatible dtype first.\n",
      "  balance_weight.loc[tics, date] = w\n",
      "C:\\Users\\misss\\AppData\\Local\\Temp\\ipykernel_40080\\1845856610.py:19: FutureWarning: Setting an item of incompatible dtype is deprecated and will raise an error in a future version of pandas. Value '0.01826' has dtype incompatible with int64, please explicitly cast to a compatible dtype first.\n",
      "  balance_weight.loc[tics, date] = w\n",
      "C:\\Users\\misss\\AppData\\Local\\Temp\\ipykernel_40080\\1845856610.py:19: FutureWarning: Setting an item of incompatible dtype is deprecated and will raise an error in a future version of pandas. Value '0.00231' has dtype incompatible with int64, please explicitly cast to a compatible dtype first.\n",
      "  balance_weight.loc[tics, date] = w\n",
      "C:\\Users\\misss\\AppData\\Local\\Temp\\ipykernel_40080\\1845856610.py:19: FutureWarning: Setting an item of incompatible dtype is deprecated and will raise an error in a future version of pandas. Value '0.01719' has dtype incompatible with int64, please explicitly cast to a compatible dtype first.\n",
      "  balance_weight.loc[tics, date] = w\n",
      "C:\\Users\\misss\\AppData\\Local\\Temp\\ipykernel_40080\\1845856610.py:19: FutureWarning: Setting an item of incompatible dtype is deprecated and will raise an error in a future version of pandas. Value '0.00715' has dtype incompatible with int64, please explicitly cast to a compatible dtype first.\n",
      "  balance_weight.loc[tics, date] = w\n",
      "C:\\Users\\misss\\AppData\\Local\\Temp\\ipykernel_40080\\1845856610.py:19: FutureWarning: Setting an item of incompatible dtype is deprecated and will raise an error in a future version of pandas. Value '0.00281' has dtype incompatible with int64, please explicitly cast to a compatible dtype first.\n",
      "  balance_weight.loc[tics, date] = w\n",
      "C:\\Users\\misss\\AppData\\Local\\Temp\\ipykernel_40080\\1845856610.py:19: FutureWarning: Setting an item of incompatible dtype is deprecated and will raise an error in a future version of pandas. Value '0.00609' has dtype incompatible with int64, please explicitly cast to a compatible dtype first.\n",
      "  balance_weight.loc[tics, date] = w\n",
      "C:\\Users\\misss\\AppData\\Local\\Temp\\ipykernel_40080\\1845856610.py:19: FutureWarning: Setting an item of incompatible dtype is deprecated and will raise an error in a future version of pandas. Value '0.00656' has dtype incompatible with int64, please explicitly cast to a compatible dtype first.\n",
      "  balance_weight.loc[tics, date] = w\n",
      "C:\\Users\\misss\\AppData\\Local\\Temp\\ipykernel_40080\\1845856610.py:19: FutureWarning: Setting an item of incompatible dtype is deprecated and will raise an error in a future version of pandas. Value '0.00149' has dtype incompatible with int64, please explicitly cast to a compatible dtype first.\n",
      "  balance_weight.loc[tics, date] = w\n",
      "C:\\Users\\misss\\AppData\\Local\\Temp\\ipykernel_40080\\1845856610.py:19: FutureWarning: Setting an item of incompatible dtype is deprecated and will raise an error in a future version of pandas. Value '0.00671' has dtype incompatible with int64, please explicitly cast to a compatible dtype first.\n",
      "  balance_weight.loc[tics, date] = w\n",
      "C:\\Users\\misss\\AppData\\Local\\Temp\\ipykernel_40080\\1845856610.py:24: FutureWarning: Downcasting object dtype arrays on .fillna, .ffill, .bfill is deprecated and will change in a future version. Call result.infer_objects(copy=False) instead. To opt-in to the future behavior, set `pd.set_option('future.no_silent_downcasting', True)`\n",
      "  balance_share = balance_share.fillna(0)\n",
      "C:\\Users\\misss\\AppData\\Local\\Temp\\ipykernel_40080\\1845856610.py:27: FutureWarning: Downcasting object dtype arrays on .fillna, .ffill, .bfill is deprecated and will change in a future version. Call result.infer_objects(copy=False) instead. To opt-in to the future behavior, set `pd.set_option('future.no_silent_downcasting', True)`\n",
      "  balance_cost = balance_cost.fillna(0)\n",
      "C:\\Users\\misss\\AppData\\Local\\Temp\\ipykernel_40080\\1845856610.py:30: FutureWarning: Downcasting object dtype arrays on .fillna, .ffill, .bfill is deprecated and will change in a future version. Call result.infer_objects(copy=False) instead. To opt-in to the future behavior, set `pd.set_option('future.no_silent_downcasting', True)`\n",
      "  balance_cash = balance_cash.fillna(0)\n",
      "C:\\Users\\misss\\AppData\\Local\\Temp\\ipykernel_40080\\1845856610.py:41: SettingWithCopyWarning: \n",
      "A value is trying to be set on a copy of a slice from a DataFrame\n",
      "\n",
      "See the caveats in the documentation: https://pandas.pydata.org/pandas-docs/stable/user_guide/indexing.html#returning-a-view-versus-a-copy\n",
      "  balance_price.replace([0, np.inf, -np.inf], np.nan, inplace=True)\n"
     ]
    }
   ],
   "source": [
    "#calculate mean variance allocation portolio\n",
    "(balance_share_meanv,\n",
    " balance_cost_meanv,\n",
    " balance_cash_meanv,\n",
    " portfolio_meanv,\n",
    " portfolio_cost_meanv,\n",
    " portfolio_return_meanv,\n",
    " portfolio_cumsum_meanv)=cal_portfolio(stocks_name,tradedate_full, weight_meanv, capital, transaction_percent)\n"
   ]
  },
  {
   "cell_type": "code",
   "execution_count": 24,
   "metadata": {},
   "outputs": [
    {
     "data": {
      "text/plain": [
       "np.float64(173.11592824171572)"
      ]
     },
     "execution_count": 24,
     "metadata": {},
     "output_type": "execute_result"
    }
   ],
   "source": [
    "sum(portfolio_return_meanv)"
   ]
  },
  {
   "cell_type": "code",
   "execution_count": 25,
   "metadata": {},
   "outputs": [
    {
     "name": "stderr",
     "output_type": "stream",
     "text": [
      "C:\\Users\\misss\\AppData\\Local\\Temp\\ipykernel_40080\\1845856610.py:10: FutureWarning: Downcasting object dtype arrays on .fillna, .ffill, .bfill is deprecated and will change in a future version. Call result.infer_objects(copy=False) instead. To opt-in to the future behavior, set `pd.set_option('future.no_silent_downcasting', True)`\n",
      "  balance_weight = balance_weight.fillna(0)\n",
      "C:\\Users\\misss\\AppData\\Local\\Temp\\ipykernel_40080\\1845856610.py:19: FutureWarning: Setting an item of incompatible dtype is deprecated and will raise an error in a future version of pandas. Value '0.00694' has dtype incompatible with int64, please explicitly cast to a compatible dtype first.\n",
      "  balance_weight.loc[tics, date] = w\n",
      "C:\\Users\\misss\\AppData\\Local\\Temp\\ipykernel_40080\\1845856610.py:19: FutureWarning: Setting an item of incompatible dtype is deprecated and will raise an error in a future version of pandas. Value '0.0069' has dtype incompatible with int64, please explicitly cast to a compatible dtype first.\n",
      "  balance_weight.loc[tics, date] = w\n",
      "C:\\Users\\misss\\AppData\\Local\\Temp\\ipykernel_40080\\1845856610.py:19: FutureWarning: Setting an item of incompatible dtype is deprecated and will raise an error in a future version of pandas. Value '0.00694' has dtype incompatible with int64, please explicitly cast to a compatible dtype first.\n",
      "  balance_weight.loc[tics, date] = w\n",
      "C:\\Users\\misss\\AppData\\Local\\Temp\\ipykernel_40080\\1845856610.py:19: FutureWarning: Setting an item of incompatible dtype is deprecated and will raise an error in a future version of pandas. Value '0.00546' has dtype incompatible with int64, please explicitly cast to a compatible dtype first.\n",
      "  balance_weight.loc[tics, date] = w\n",
      "C:\\Users\\misss\\AppData\\Local\\Temp\\ipykernel_40080\\1845856610.py:19: FutureWarning: Setting an item of incompatible dtype is deprecated and will raise an error in a future version of pandas. Value '0.00621' has dtype incompatible with int64, please explicitly cast to a compatible dtype first.\n",
      "  balance_weight.loc[tics, date] = w\n",
      "C:\\Users\\misss\\AppData\\Local\\Temp\\ipykernel_40080\\1845856610.py:19: FutureWarning: Setting an item of incompatible dtype is deprecated and will raise an error in a future version of pandas. Value '0.00667' has dtype incompatible with int64, please explicitly cast to a compatible dtype first.\n",
      "  balance_weight.loc[tics, date] = w\n",
      "C:\\Users\\misss\\AppData\\Local\\Temp\\ipykernel_40080\\1845856610.py:19: FutureWarning: Setting an item of incompatible dtype is deprecated and will raise an error in a future version of pandas. Value '0.00585' has dtype incompatible with int64, please explicitly cast to a compatible dtype first.\n",
      "  balance_weight.loc[tics, date] = w\n",
      "C:\\Users\\misss\\AppData\\Local\\Temp\\ipykernel_40080\\1845856610.py:19: FutureWarning: Setting an item of incompatible dtype is deprecated and will raise an error in a future version of pandas. Value '0.00546' has dtype incompatible with int64, please explicitly cast to a compatible dtype first.\n",
      "  balance_weight.loc[tics, date] = w\n",
      "C:\\Users\\misss\\AppData\\Local\\Temp\\ipykernel_40080\\1845856610.py:19: FutureWarning: Setting an item of incompatible dtype is deprecated and will raise an error in a future version of pandas. Value '0.00565' has dtype incompatible with int64, please explicitly cast to a compatible dtype first.\n",
      "  balance_weight.loc[tics, date] = w\n",
      "C:\\Users\\misss\\AppData\\Local\\Temp\\ipykernel_40080\\1845856610.py:19: FutureWarning: Setting an item of incompatible dtype is deprecated and will raise an error in a future version of pandas. Value '0.00645' has dtype incompatible with int64, please explicitly cast to a compatible dtype first.\n",
      "  balance_weight.loc[tics, date] = w\n",
      "C:\\Users\\misss\\AppData\\Local\\Temp\\ipykernel_40080\\1845856610.py:19: FutureWarning: Setting an item of incompatible dtype is deprecated and will raise an error in a future version of pandas. Value '0.0068' has dtype incompatible with int64, please explicitly cast to a compatible dtype first.\n",
      "  balance_weight.loc[tics, date] = w\n",
      "C:\\Users\\misss\\AppData\\Local\\Temp\\ipykernel_40080\\1845856610.py:19: FutureWarning: Setting an item of incompatible dtype is deprecated and will raise an error in a future version of pandas. Value '0.00654' has dtype incompatible with int64, please explicitly cast to a compatible dtype first.\n",
      "  balance_weight.loc[tics, date] = w\n",
      "C:\\Users\\misss\\AppData\\Local\\Temp\\ipykernel_40080\\1845856610.py:19: FutureWarning: Setting an item of incompatible dtype is deprecated and will raise an error in a future version of pandas. Value '0.00571' has dtype incompatible with int64, please explicitly cast to a compatible dtype first.\n",
      "  balance_weight.loc[tics, date] = w\n",
      "C:\\Users\\misss\\AppData\\Local\\Temp\\ipykernel_40080\\1845856610.py:19: FutureWarning: Setting an item of incompatible dtype is deprecated and will raise an error in a future version of pandas. Value '0.00578' has dtype incompatible with int64, please explicitly cast to a compatible dtype first.\n",
      "  balance_weight.loc[tics, date] = w\n",
      "C:\\Users\\misss\\AppData\\Local\\Temp\\ipykernel_40080\\1845856610.py:19: FutureWarning: Setting an item of incompatible dtype is deprecated and will raise an error in a future version of pandas. Value '0.00498' has dtype incompatible with int64, please explicitly cast to a compatible dtype first.\n",
      "  balance_weight.loc[tics, date] = w\n",
      "C:\\Users\\misss\\AppData\\Local\\Temp\\ipykernel_40080\\1845856610.py:19: FutureWarning: Setting an item of incompatible dtype is deprecated and will raise an error in a future version of pandas. Value '0.00649' has dtype incompatible with int64, please explicitly cast to a compatible dtype first.\n",
      "  balance_weight.loc[tics, date] = w\n",
      "C:\\Users\\misss\\AppData\\Local\\Temp\\ipykernel_40080\\1845856610.py:19: FutureWarning: Setting an item of incompatible dtype is deprecated and will raise an error in a future version of pandas. Value '0.00621' has dtype incompatible with int64, please explicitly cast to a compatible dtype first.\n",
      "  balance_weight.loc[tics, date] = w\n",
      "C:\\Users\\misss\\AppData\\Local\\Temp\\ipykernel_40080\\1845856610.py:19: FutureWarning: Setting an item of incompatible dtype is deprecated and will raise an error in a future version of pandas. Value '0.00448' has dtype incompatible with int64, please explicitly cast to a compatible dtype first.\n",
      "  balance_weight.loc[tics, date] = w\n",
      "C:\\Users\\misss\\AppData\\Local\\Temp\\ipykernel_40080\\1845856610.py:19: FutureWarning: Setting an item of incompatible dtype is deprecated and will raise an error in a future version of pandas. Value '0.00556' has dtype incompatible with int64, please explicitly cast to a compatible dtype first.\n",
      "  balance_weight.loc[tics, date] = w\n",
      "C:\\Users\\misss\\AppData\\Local\\Temp\\ipykernel_40080\\1845856610.py:19: FutureWarning: Setting an item of incompatible dtype is deprecated and will raise an error in a future version of pandas. Value '0.00621' has dtype incompatible with int64, please explicitly cast to a compatible dtype first.\n",
      "  balance_weight.loc[tics, date] = w\n",
      "C:\\Users\\misss\\AppData\\Local\\Temp\\ipykernel_40080\\1845856610.py:19: FutureWarning: Setting an item of incompatible dtype is deprecated and will raise an error in a future version of pandas. Value '0.00578' has dtype incompatible with int64, please explicitly cast to a compatible dtype first.\n",
      "  balance_weight.loc[tics, date] = w\n",
      "C:\\Users\\misss\\AppData\\Local\\Temp\\ipykernel_40080\\1845856610.py:19: FutureWarning: Setting an item of incompatible dtype is deprecated and will raise an error in a future version of pandas. Value '0.00633' has dtype incompatible with int64, please explicitly cast to a compatible dtype first.\n",
      "  balance_weight.loc[tics, date] = w\n",
      "C:\\Users\\misss\\AppData\\Local\\Temp\\ipykernel_40080\\1845856610.py:19: FutureWarning: Setting an item of incompatible dtype is deprecated and will raise an error in a future version of pandas. Value '0.00426' has dtype incompatible with int64, please explicitly cast to a compatible dtype first.\n",
      "  balance_weight.loc[tics, date] = w\n",
      "C:\\Users\\misss\\AppData\\Local\\Temp\\ipykernel_40080\\1845856610.py:19: FutureWarning: Setting an item of incompatible dtype is deprecated and will raise an error in a future version of pandas. Value '0.00444' has dtype incompatible with int64, please explicitly cast to a compatible dtype first.\n",
      "  balance_weight.loc[tics, date] = w\n",
      "C:\\Users\\misss\\AppData\\Local\\Temp\\ipykernel_40080\\1845856610.py:19: FutureWarning: Setting an item of incompatible dtype is deprecated and will raise an error in a future version of pandas. Value '0.00385' has dtype incompatible with int64, please explicitly cast to a compatible dtype first.\n",
      "  balance_weight.loc[tics, date] = w\n",
      "C:\\Users\\misss\\AppData\\Local\\Temp\\ipykernel_40080\\1845856610.py:19: FutureWarning: Setting an item of incompatible dtype is deprecated and will raise an error in a future version of pandas. Value '0.00446' has dtype incompatible with int64, please explicitly cast to a compatible dtype first.\n",
      "  balance_weight.loc[tics, date] = w\n",
      "C:\\Users\\misss\\AppData\\Local\\Temp\\ipykernel_40080\\1845856610.py:19: FutureWarning: Setting an item of incompatible dtype is deprecated and will raise an error in a future version of pandas. Value '0.00461' has dtype incompatible with int64, please explicitly cast to a compatible dtype first.\n",
      "  balance_weight.loc[tics, date] = w\n",
      "C:\\Users\\misss\\AppData\\Local\\Temp\\ipykernel_40080\\1845856610.py:19: FutureWarning: Setting an item of incompatible dtype is deprecated and will raise an error in a future version of pandas. Value '0.00305' has dtype incompatible with int64, please explicitly cast to a compatible dtype first.\n",
      "  balance_weight.loc[tics, date] = w\n",
      "C:\\Users\\misss\\AppData\\Local\\Temp\\ipykernel_40080\\1845856610.py:19: FutureWarning: Setting an item of incompatible dtype is deprecated and will raise an error in a future version of pandas. Value '0.00312' has dtype incompatible with int64, please explicitly cast to a compatible dtype first.\n",
      "  balance_weight.loc[tics, date] = w\n",
      "C:\\Users\\misss\\AppData\\Local\\Temp\\ipykernel_40080\\1845856610.py:19: FutureWarning: Setting an item of incompatible dtype is deprecated and will raise an error in a future version of pandas. Value '0.00444' has dtype incompatible with int64, please explicitly cast to a compatible dtype first.\n",
      "  balance_weight.loc[tics, date] = w\n",
      "C:\\Users\\misss\\AppData\\Local\\Temp\\ipykernel_40080\\1845856610.py:19: FutureWarning: Setting an item of incompatible dtype is deprecated and will raise an error in a future version of pandas. Value '0.0036' has dtype incompatible with int64, please explicitly cast to a compatible dtype first.\n",
      "  balance_weight.loc[tics, date] = w\n",
      "C:\\Users\\misss\\AppData\\Local\\Temp\\ipykernel_40080\\1845856610.py:19: FutureWarning: Setting an item of incompatible dtype is deprecated and will raise an error in a future version of pandas. Value '0.00391' has dtype incompatible with int64, please explicitly cast to a compatible dtype first.\n",
      "  balance_weight.loc[tics, date] = w\n",
      "C:\\Users\\misss\\AppData\\Local\\Temp\\ipykernel_40080\\1845856610.py:19: FutureWarning: Setting an item of incompatible dtype is deprecated and will raise an error in a future version of pandas. Value '0.00418' has dtype incompatible with int64, please explicitly cast to a compatible dtype first.\n",
      "  balance_weight.loc[tics, date] = w\n",
      "C:\\Users\\misss\\AppData\\Local\\Temp\\ipykernel_40080\\1845856610.py:19: FutureWarning: Setting an item of incompatible dtype is deprecated and will raise an error in a future version of pandas. Value '0.00526' has dtype incompatible with int64, please explicitly cast to a compatible dtype first.\n",
      "  balance_weight.loc[tics, date] = w\n",
      "C:\\Users\\misss\\AppData\\Local\\Temp\\ipykernel_40080\\1845856610.py:19: FutureWarning: Setting an item of incompatible dtype is deprecated and will raise an error in a future version of pandas. Value '0.00407' has dtype incompatible with int64, please explicitly cast to a compatible dtype first.\n",
      "  balance_weight.loc[tics, date] = w\n",
      "C:\\Users\\misss\\AppData\\Local\\Temp\\ipykernel_40080\\1845856610.py:19: FutureWarning: Setting an item of incompatible dtype is deprecated and will raise an error in a future version of pandas. Value '0.004' has dtype incompatible with int64, please explicitly cast to a compatible dtype first.\n",
      "  balance_weight.loc[tics, date] = w\n",
      "C:\\Users\\misss\\AppData\\Local\\Temp\\ipykernel_40080\\1845856610.py:19: FutureWarning: Setting an item of incompatible dtype is deprecated and will raise an error in a future version of pandas. Value '0.00498' has dtype incompatible with int64, please explicitly cast to a compatible dtype first.\n",
      "  balance_weight.loc[tics, date] = w\n",
      "C:\\Users\\misss\\AppData\\Local\\Temp\\ipykernel_40080\\1845856610.py:19: FutureWarning: Setting an item of incompatible dtype is deprecated and will raise an error in a future version of pandas. Value '0.00385' has dtype incompatible with int64, please explicitly cast to a compatible dtype first.\n",
      "  balance_weight.loc[tics, date] = w\n",
      "C:\\Users\\misss\\AppData\\Local\\Temp\\ipykernel_40080\\1845856610.py:19: FutureWarning: Setting an item of incompatible dtype is deprecated and will raise an error in a future version of pandas. Value '0.00415' has dtype incompatible with int64, please explicitly cast to a compatible dtype first.\n",
      "  balance_weight.loc[tics, date] = w\n",
      "C:\\Users\\misss\\AppData\\Local\\Temp\\ipykernel_40080\\1845856610.py:19: FutureWarning: Setting an item of incompatible dtype is deprecated and will raise an error in a future version of pandas. Value '0.00658' has dtype incompatible with int64, please explicitly cast to a compatible dtype first.\n",
      "  balance_weight.loc[tics, date] = w\n",
      "C:\\Users\\misss\\AppData\\Local\\Temp\\ipykernel_40080\\1845856610.py:19: FutureWarning: Setting an item of incompatible dtype is deprecated and will raise an error in a future version of pandas. Value '0.00463' has dtype incompatible with int64, please explicitly cast to a compatible dtype first.\n",
      "  balance_weight.loc[tics, date] = w\n",
      "C:\\Users\\misss\\AppData\\Local\\Temp\\ipykernel_40080\\1845856610.py:19: FutureWarning: Setting an item of incompatible dtype is deprecated and will raise an error in a future version of pandas. Value '0.00515' has dtype incompatible with int64, please explicitly cast to a compatible dtype first.\n",
      "  balance_weight.loc[tics, date] = w\n",
      "C:\\Users\\misss\\AppData\\Local\\Temp\\ipykernel_40080\\1845856610.py:19: FutureWarning: Setting an item of incompatible dtype is deprecated and will raise an error in a future version of pandas. Value '0.00485' has dtype incompatible with int64, please explicitly cast to a compatible dtype first.\n",
      "  balance_weight.loc[tics, date] = w\n",
      "C:\\Users\\misss\\AppData\\Local\\Temp\\ipykernel_40080\\1845856610.py:19: FutureWarning: Setting an item of incompatible dtype is deprecated and will raise an error in a future version of pandas. Value '0.00442' has dtype incompatible with int64, please explicitly cast to a compatible dtype first.\n",
      "  balance_weight.loc[tics, date] = w\n",
      "C:\\Users\\misss\\AppData\\Local\\Temp\\ipykernel_40080\\1845856610.py:19: FutureWarning: Setting an item of incompatible dtype is deprecated and will raise an error in a future version of pandas. Value '0.00571' has dtype incompatible with int64, please explicitly cast to a compatible dtype first.\n",
      "  balance_weight.loc[tics, date] = w\n",
      "C:\\Users\\misss\\AppData\\Local\\Temp\\ipykernel_40080\\1845856610.py:19: FutureWarning: Setting an item of incompatible dtype is deprecated and will raise an error in a future version of pandas. Value '0.00385' has dtype incompatible with int64, please explicitly cast to a compatible dtype first.\n",
      "  balance_weight.loc[tics, date] = w\n",
      "C:\\Users\\misss\\AppData\\Local\\Temp\\ipykernel_40080\\1845856610.py:19: FutureWarning: Setting an item of incompatible dtype is deprecated and will raise an error in a future version of pandas. Value '0.00546' has dtype incompatible with int64, please explicitly cast to a compatible dtype first.\n",
      "  balance_weight.loc[tics, date] = w\n",
      "C:\\Users\\misss\\AppData\\Local\\Temp\\ipykernel_40080\\1845856610.py:19: FutureWarning: Setting an item of incompatible dtype is deprecated and will raise an error in a future version of pandas. Value '0.00382' has dtype incompatible with int64, please explicitly cast to a compatible dtype first.\n",
      "  balance_weight.loc[tics, date] = w\n",
      "C:\\Users\\misss\\AppData\\Local\\Temp\\ipykernel_40080\\1845856610.py:19: FutureWarning: Setting an item of incompatible dtype is deprecated and will raise an error in a future version of pandas. Value '0.003' has dtype incompatible with int64, please explicitly cast to a compatible dtype first.\n",
      "  balance_weight.loc[tics, date] = w\n",
      "C:\\Users\\misss\\AppData\\Local\\Temp\\ipykernel_40080\\1845856610.py:19: FutureWarning: Setting an item of incompatible dtype is deprecated and will raise an error in a future version of pandas. Value '0.00291' has dtype incompatible with int64, please explicitly cast to a compatible dtype first.\n",
      "  balance_weight.loc[tics, date] = w\n",
      "C:\\Users\\misss\\AppData\\Local\\Temp\\ipykernel_40080\\1845856610.py:19: FutureWarning: Setting an item of incompatible dtype is deprecated and will raise an error in a future version of pandas. Value '0.00493' has dtype incompatible with int64, please explicitly cast to a compatible dtype first.\n",
      "  balance_weight.loc[tics, date] = w\n",
      "C:\\Users\\misss\\AppData\\Local\\Temp\\ipykernel_40080\\1845856610.py:19: FutureWarning: Setting an item of incompatible dtype is deprecated and will raise an error in a future version of pandas. Value '0.00503' has dtype incompatible with int64, please explicitly cast to a compatible dtype first.\n",
      "  balance_weight.loc[tics, date] = w\n",
      "C:\\Users\\misss\\AppData\\Local\\Temp\\ipykernel_40080\\1845856610.py:19: FutureWarning: Setting an item of incompatible dtype is deprecated and will raise an error in a future version of pandas. Value '0.00541' has dtype incompatible with int64, please explicitly cast to a compatible dtype first.\n",
      "  balance_weight.loc[tics, date] = w\n",
      "C:\\Users\\misss\\AppData\\Local\\Temp\\ipykernel_40080\\1845856610.py:19: FutureWarning: Setting an item of incompatible dtype is deprecated and will raise an error in a future version of pandas. Value '0.00541' has dtype incompatible with int64, please explicitly cast to a compatible dtype first.\n",
      "  balance_weight.loc[tics, date] = w\n",
      "C:\\Users\\misss\\AppData\\Local\\Temp\\ipykernel_40080\\1845856610.py:19: FutureWarning: Setting an item of incompatible dtype is deprecated and will raise an error in a future version of pandas. Value '0.00383' has dtype incompatible with int64, please explicitly cast to a compatible dtype first.\n",
      "  balance_weight.loc[tics, date] = w\n",
      "C:\\Users\\misss\\AppData\\Local\\Temp\\ipykernel_40080\\1845856610.py:19: FutureWarning: Setting an item of incompatible dtype is deprecated and will raise an error in a future version of pandas. Value '0.00392' has dtype incompatible with int64, please explicitly cast to a compatible dtype first.\n",
      "  balance_weight.loc[tics, date] = w\n",
      "C:\\Users\\misss\\AppData\\Local\\Temp\\ipykernel_40080\\1845856610.py:19: FutureWarning: Setting an item of incompatible dtype is deprecated and will raise an error in a future version of pandas. Value '0.00472' has dtype incompatible with int64, please explicitly cast to a compatible dtype first.\n",
      "  balance_weight.loc[tics, date] = w\n",
      "C:\\Users\\misss\\AppData\\Local\\Temp\\ipykernel_40080\\1845856610.py:19: FutureWarning: Setting an item of incompatible dtype is deprecated and will raise an error in a future version of pandas. Value '0.00452' has dtype incompatible with int64, please explicitly cast to a compatible dtype first.\n",
      "  balance_weight.loc[tics, date] = w\n",
      "C:\\Users\\misss\\AppData\\Local\\Temp\\ipykernel_40080\\1845856610.py:19: FutureWarning: Setting an item of incompatible dtype is deprecated and will raise an error in a future version of pandas. Value '0.00526' has dtype incompatible with int64, please explicitly cast to a compatible dtype first.\n",
      "  balance_weight.loc[tics, date] = w\n",
      "C:\\Users\\misss\\AppData\\Local\\Temp\\ipykernel_40080\\1845856610.py:19: FutureWarning: Setting an item of incompatible dtype is deprecated and will raise an error in a future version of pandas. Value '0.00467' has dtype incompatible with int64, please explicitly cast to a compatible dtype first.\n",
      "  balance_weight.loc[tics, date] = w\n",
      "C:\\Users\\misss\\AppData\\Local\\Temp\\ipykernel_40080\\1845856610.py:19: FutureWarning: Setting an item of incompatible dtype is deprecated and will raise an error in a future version of pandas. Value '0.00424' has dtype incompatible with int64, please explicitly cast to a compatible dtype first.\n",
      "  balance_weight.loc[tics, date] = w\n",
      "C:\\Users\\misss\\AppData\\Local\\Temp\\ipykernel_40080\\1845856610.py:19: FutureWarning: Setting an item of incompatible dtype is deprecated and will raise an error in a future version of pandas. Value '0.0038' has dtype incompatible with int64, please explicitly cast to a compatible dtype first.\n",
      "  balance_weight.loc[tics, date] = w\n",
      "C:\\Users\\misss\\AppData\\Local\\Temp\\ipykernel_40080\\1845856610.py:19: FutureWarning: Setting an item of incompatible dtype is deprecated and will raise an error in a future version of pandas. Value '0.00397' has dtype incompatible with int64, please explicitly cast to a compatible dtype first.\n",
      "  balance_weight.loc[tics, date] = w\n",
      "C:\\Users\\misss\\AppData\\Local\\Temp\\ipykernel_40080\\1845856610.py:19: FutureWarning: Setting an item of incompatible dtype is deprecated and will raise an error in a future version of pandas. Value '0.0069' has dtype incompatible with int64, please explicitly cast to a compatible dtype first.\n",
      "  balance_weight.loc[tics, date] = w\n",
      "C:\\Users\\misss\\AppData\\Local\\Temp\\ipykernel_40080\\1845856610.py:19: FutureWarning: Setting an item of incompatible dtype is deprecated and will raise an error in a future version of pandas. Value '0.0069' has dtype incompatible with int64, please explicitly cast to a compatible dtype first.\n",
      "  balance_weight.loc[tics, date] = w\n",
      "C:\\Users\\misss\\AppData\\Local\\Temp\\ipykernel_40080\\1845856610.py:19: FutureWarning: Setting an item of incompatible dtype is deprecated and will raise an error in a future version of pandas. Value '0.00746' has dtype incompatible with int64, please explicitly cast to a compatible dtype first.\n",
      "  balance_weight.loc[tics, date] = w\n",
      "C:\\Users\\misss\\AppData\\Local\\Temp\\ipykernel_40080\\1845856610.py:19: FutureWarning: Setting an item of incompatible dtype is deprecated and will raise an error in a future version of pandas. Value '0.00641' has dtype incompatible with int64, please explicitly cast to a compatible dtype first.\n",
      "  balance_weight.loc[tics, date] = w\n",
      "C:\\Users\\misss\\AppData\\Local\\Temp\\ipykernel_40080\\1845856610.py:19: FutureWarning: Setting an item of incompatible dtype is deprecated and will raise an error in a future version of pandas. Value '0.00667' has dtype incompatible with int64, please explicitly cast to a compatible dtype first.\n",
      "  balance_weight.loc[tics, date] = w\n",
      "C:\\Users\\misss\\AppData\\Local\\Temp\\ipykernel_40080\\1845856610.py:19: FutureWarning: Setting an item of incompatible dtype is deprecated and will raise an error in a future version of pandas. Value '0.00676' has dtype incompatible with int64, please explicitly cast to a compatible dtype first.\n",
      "  balance_weight.loc[tics, date] = w\n",
      "C:\\Users\\misss\\AppData\\Local\\Temp\\ipykernel_40080\\1845856610.py:19: FutureWarning: Setting an item of incompatible dtype is deprecated and will raise an error in a future version of pandas. Value '0.00704' has dtype incompatible with int64, please explicitly cast to a compatible dtype first.\n",
      "  balance_weight.loc[tics, date] = w\n",
      "C:\\Users\\misss\\AppData\\Local\\Temp\\ipykernel_40080\\1845856610.py:19: FutureWarning: Setting an item of incompatible dtype is deprecated and will raise an error in a future version of pandas. Value '0.00649' has dtype incompatible with int64, please explicitly cast to a compatible dtype first.\n",
      "  balance_weight.loc[tics, date] = w\n",
      "C:\\Users\\misss\\AppData\\Local\\Temp\\ipykernel_40080\\1845856610.py:19: FutureWarning: Setting an item of incompatible dtype is deprecated and will raise an error in a future version of pandas. Value '0.00667' has dtype incompatible with int64, please explicitly cast to a compatible dtype first.\n",
      "  balance_weight.loc[tics, date] = w\n",
      "C:\\Users\\misss\\AppData\\Local\\Temp\\ipykernel_40080\\1845856610.py:19: FutureWarning: Setting an item of incompatible dtype is deprecated and will raise an error in a future version of pandas. Value '0.00641' has dtype incompatible with int64, please explicitly cast to a compatible dtype first.\n",
      "  balance_weight.loc[tics, date] = w\n",
      "C:\\Users\\misss\\AppData\\Local\\Temp\\ipykernel_40080\\1845856610.py:19: FutureWarning: Setting an item of incompatible dtype is deprecated and will raise an error in a future version of pandas. Value '0.00752' has dtype incompatible with int64, please explicitly cast to a compatible dtype first.\n",
      "  balance_weight.loc[tics, date] = w\n",
      "C:\\Users\\misss\\AppData\\Local\\Temp\\ipykernel_40080\\1845856610.py:19: FutureWarning: Setting an item of incompatible dtype is deprecated and will raise an error in a future version of pandas. Value '0.00735' has dtype incompatible with int64, please explicitly cast to a compatible dtype first.\n",
      "  balance_weight.loc[tics, date] = w\n",
      "C:\\Users\\misss\\AppData\\Local\\Temp\\ipykernel_40080\\1845856610.py:19: FutureWarning: Setting an item of incompatible dtype is deprecated and will raise an error in a future version of pandas. Value '0.00645' has dtype incompatible with int64, please explicitly cast to a compatible dtype first.\n",
      "  balance_weight.loc[tics, date] = w\n",
      "C:\\Users\\misss\\AppData\\Local\\Temp\\ipykernel_40080\\1845856610.py:19: FutureWarning: Setting an item of incompatible dtype is deprecated and will raise an error in a future version of pandas. Value '0.00662' has dtype incompatible with int64, please explicitly cast to a compatible dtype first.\n",
      "  balance_weight.loc[tics, date] = w\n",
      "C:\\Users\\misss\\AppData\\Local\\Temp\\ipykernel_40080\\1845856610.py:19: FutureWarning: Setting an item of incompatible dtype is deprecated and will raise an error in a future version of pandas. Value '0.0061' has dtype incompatible with int64, please explicitly cast to a compatible dtype first.\n",
      "  balance_weight.loc[tics, date] = w\n",
      "C:\\Users\\misss\\AppData\\Local\\Temp\\ipykernel_40080\\1845856610.py:19: FutureWarning: Setting an item of incompatible dtype is deprecated and will raise an error in a future version of pandas. Value '0.00645' has dtype incompatible with int64, please explicitly cast to a compatible dtype first.\n",
      "  balance_weight.loc[tics, date] = w\n",
      "C:\\Users\\misss\\AppData\\Local\\Temp\\ipykernel_40080\\1845856610.py:19: FutureWarning: Setting an item of incompatible dtype is deprecated and will raise an error in a future version of pandas. Value '0.00606' has dtype incompatible with int64, please explicitly cast to a compatible dtype first.\n",
      "  balance_weight.loc[tics, date] = w\n",
      "C:\\Users\\misss\\AppData\\Local\\Temp\\ipykernel_40080\\1845856610.py:19: FutureWarning: Setting an item of incompatible dtype is deprecated and will raise an error in a future version of pandas. Value '0.00671' has dtype incompatible with int64, please explicitly cast to a compatible dtype first.\n",
      "  balance_weight.loc[tics, date] = w\n",
      "C:\\Users\\misss\\AppData\\Local\\Temp\\ipykernel_40080\\1845856610.py:24: FutureWarning: Downcasting object dtype arrays on .fillna, .ffill, .bfill is deprecated and will change in a future version. Call result.infer_objects(copy=False) instead. To opt-in to the future behavior, set `pd.set_option('future.no_silent_downcasting', True)`\n",
      "  balance_share = balance_share.fillna(0)\n",
      "C:\\Users\\misss\\AppData\\Local\\Temp\\ipykernel_40080\\1845856610.py:27: FutureWarning: Downcasting object dtype arrays on .fillna, .ffill, .bfill is deprecated and will change in a future version. Call result.infer_objects(copy=False) instead. To opt-in to the future behavior, set `pd.set_option('future.no_silent_downcasting', True)`\n",
      "  balance_cost = balance_cost.fillna(0)\n",
      "C:\\Users\\misss\\AppData\\Local\\Temp\\ipykernel_40080\\1845856610.py:30: FutureWarning: Downcasting object dtype arrays on .fillna, .ffill, .bfill is deprecated and will change in a future version. Call result.infer_objects(copy=False) instead. To opt-in to the future behavior, set `pd.set_option('future.no_silent_downcasting', True)`\n",
      "  balance_cash = balance_cash.fillna(0)\n",
      "C:\\Users\\misss\\AppData\\Local\\Temp\\ipykernel_40080\\1845856610.py:41: SettingWithCopyWarning: \n",
      "A value is trying to be set on a copy of a slice from a DataFrame\n",
      "\n",
      "See the caveats in the documentation: https://pandas.pydata.org/pandas-docs/stable/user_guide/indexing.html#returning-a-view-versus-a-copy\n",
      "  balance_price.replace([0, np.inf, -np.inf], np.nan, inplace=True)\n"
     ]
    }
   ],
   "source": [
    "#calculate minimum variance allocation portolio\n",
    "(balance_share_minv,\n",
    " balance_cost_minv,\n",
    " balance_cash_minv,\n",
    " portfolio_minv,\n",
    " portfolio_cost_minv,\n",
    " portfolio_return_minv,\n",
    " portfolio_cumsum_minv)=cal_portfolio(stocks_name,tradedate_full, weight_minv, capital, transaction_percent)"
   ]
  },
  {
   "cell_type": "code",
   "execution_count": 26,
   "metadata": {},
   "outputs": [
    {
     "name": "stderr",
     "output_type": "stream",
     "text": [
      "C:\\Users\\misss\\AppData\\Local\\Temp\\ipykernel_40080\\1845856610.py:10: FutureWarning: Downcasting object dtype arrays on .fillna, .ffill, .bfill is deprecated and will change in a future version. Call result.infer_objects(copy=False) instead. To opt-in to the future behavior, set `pd.set_option('future.no_silent_downcasting', True)`\n",
      "  balance_weight = balance_weight.fillna(0)\n",
      "C:\\Users\\misss\\AppData\\Local\\Temp\\ipykernel_40080\\1845856610.py:19: FutureWarning: Setting an item of incompatible dtype is deprecated and will raise an error in a future version of pandas. Value '0.006944444444444444' has dtype incompatible with int64, please explicitly cast to a compatible dtype first.\n",
      "  balance_weight.loc[tics, date] = w\n",
      "C:\\Users\\misss\\AppData\\Local\\Temp\\ipykernel_40080\\1845856610.py:19: FutureWarning: Setting an item of incompatible dtype is deprecated and will raise an error in a future version of pandas. Value '0.006896551724137931' has dtype incompatible with int64, please explicitly cast to a compatible dtype first.\n",
      "  balance_weight.loc[tics, date] = w\n",
      "C:\\Users\\misss\\AppData\\Local\\Temp\\ipykernel_40080\\1845856610.py:19: FutureWarning: Setting an item of incompatible dtype is deprecated and will raise an error in a future version of pandas. Value '0.006944444444444444' has dtype incompatible with int64, please explicitly cast to a compatible dtype first.\n",
      "  balance_weight.loc[tics, date] = w\n",
      "C:\\Users\\misss\\AppData\\Local\\Temp\\ipykernel_40080\\1845856610.py:19: FutureWarning: Setting an item of incompatible dtype is deprecated and will raise an error in a future version of pandas. Value '0.00546448087431694' has dtype incompatible with int64, please explicitly cast to a compatible dtype first.\n",
      "  balance_weight.loc[tics, date] = w\n",
      "C:\\Users\\misss\\AppData\\Local\\Temp\\ipykernel_40080\\1845856610.py:19: FutureWarning: Setting an item of incompatible dtype is deprecated and will raise an error in a future version of pandas. Value '0.006211180124223602' has dtype incompatible with int64, please explicitly cast to a compatible dtype first.\n",
      "  balance_weight.loc[tics, date] = w\n",
      "C:\\Users\\misss\\AppData\\Local\\Temp\\ipykernel_40080\\1845856610.py:19: FutureWarning: Setting an item of incompatible dtype is deprecated and will raise an error in a future version of pandas. Value '0.006666666666666667' has dtype incompatible with int64, please explicitly cast to a compatible dtype first.\n",
      "  balance_weight.loc[tics, date] = w\n",
      "C:\\Users\\misss\\AppData\\Local\\Temp\\ipykernel_40080\\1845856610.py:19: FutureWarning: Setting an item of incompatible dtype is deprecated and will raise an error in a future version of pandas. Value '0.005847953216374269' has dtype incompatible with int64, please explicitly cast to a compatible dtype first.\n",
      "  balance_weight.loc[tics, date] = w\n",
      "C:\\Users\\misss\\AppData\\Local\\Temp\\ipykernel_40080\\1845856610.py:19: FutureWarning: Setting an item of incompatible dtype is deprecated and will raise an error in a future version of pandas. Value '0.00546448087431694' has dtype incompatible with int64, please explicitly cast to a compatible dtype first.\n",
      "  balance_weight.loc[tics, date] = w\n",
      "C:\\Users\\misss\\AppData\\Local\\Temp\\ipykernel_40080\\1845856610.py:19: FutureWarning: Setting an item of incompatible dtype is deprecated and will raise an error in a future version of pandas. Value '0.005649717514124294' has dtype incompatible with int64, please explicitly cast to a compatible dtype first.\n",
      "  balance_weight.loc[tics, date] = w\n",
      "C:\\Users\\misss\\AppData\\Local\\Temp\\ipykernel_40080\\1845856610.py:19: FutureWarning: Setting an item of incompatible dtype is deprecated and will raise an error in a future version of pandas. Value '0.006451612903225806' has dtype incompatible with int64, please explicitly cast to a compatible dtype first.\n",
      "  balance_weight.loc[tics, date] = w\n",
      "C:\\Users\\misss\\AppData\\Local\\Temp\\ipykernel_40080\\1845856610.py:19: FutureWarning: Setting an item of incompatible dtype is deprecated and will raise an error in a future version of pandas. Value '0.006802721088435374' has dtype incompatible with int64, please explicitly cast to a compatible dtype first.\n",
      "  balance_weight.loc[tics, date] = w\n",
      "C:\\Users\\misss\\AppData\\Local\\Temp\\ipykernel_40080\\1845856610.py:19: FutureWarning: Setting an item of incompatible dtype is deprecated and will raise an error in a future version of pandas. Value '0.006535947712418301' has dtype incompatible with int64, please explicitly cast to a compatible dtype first.\n",
      "  balance_weight.loc[tics, date] = w\n",
      "C:\\Users\\misss\\AppData\\Local\\Temp\\ipykernel_40080\\1845856610.py:19: FutureWarning: Setting an item of incompatible dtype is deprecated and will raise an error in a future version of pandas. Value '0.005714285714285714' has dtype incompatible with int64, please explicitly cast to a compatible dtype first.\n",
      "  balance_weight.loc[tics, date] = w\n",
      "C:\\Users\\misss\\AppData\\Local\\Temp\\ipykernel_40080\\1845856610.py:19: FutureWarning: Setting an item of incompatible dtype is deprecated and will raise an error in a future version of pandas. Value '0.005780346820809248' has dtype incompatible with int64, please explicitly cast to a compatible dtype first.\n",
      "  balance_weight.loc[tics, date] = w\n",
      "C:\\Users\\misss\\AppData\\Local\\Temp\\ipykernel_40080\\1845856610.py:19: FutureWarning: Setting an item of incompatible dtype is deprecated and will raise an error in a future version of pandas. Value '0.004975124378109453' has dtype incompatible with int64, please explicitly cast to a compatible dtype first.\n",
      "  balance_weight.loc[tics, date] = w\n",
      "C:\\Users\\misss\\AppData\\Local\\Temp\\ipykernel_40080\\1845856610.py:19: FutureWarning: Setting an item of incompatible dtype is deprecated and will raise an error in a future version of pandas. Value '0.006493506493506494' has dtype incompatible with int64, please explicitly cast to a compatible dtype first.\n",
      "  balance_weight.loc[tics, date] = w\n",
      "C:\\Users\\misss\\AppData\\Local\\Temp\\ipykernel_40080\\1845856610.py:19: FutureWarning: Setting an item of incompatible dtype is deprecated and will raise an error in a future version of pandas. Value '0.006211180124223602' has dtype incompatible with int64, please explicitly cast to a compatible dtype first.\n",
      "  balance_weight.loc[tics, date] = w\n",
      "C:\\Users\\misss\\AppData\\Local\\Temp\\ipykernel_40080\\1845856610.py:19: FutureWarning: Setting an item of incompatible dtype is deprecated and will raise an error in a future version of pandas. Value '0.004484304932735426' has dtype incompatible with int64, please explicitly cast to a compatible dtype first.\n",
      "  balance_weight.loc[tics, date] = w\n",
      "C:\\Users\\misss\\AppData\\Local\\Temp\\ipykernel_40080\\1845856610.py:19: FutureWarning: Setting an item of incompatible dtype is deprecated and will raise an error in a future version of pandas. Value '0.005555555555555556' has dtype incompatible with int64, please explicitly cast to a compatible dtype first.\n",
      "  balance_weight.loc[tics, date] = w\n",
      "C:\\Users\\misss\\AppData\\Local\\Temp\\ipykernel_40080\\1845856610.py:19: FutureWarning: Setting an item of incompatible dtype is deprecated and will raise an error in a future version of pandas. Value '0.006211180124223602' has dtype incompatible with int64, please explicitly cast to a compatible dtype first.\n",
      "  balance_weight.loc[tics, date] = w\n",
      "C:\\Users\\misss\\AppData\\Local\\Temp\\ipykernel_40080\\1845856610.py:19: FutureWarning: Setting an item of incompatible dtype is deprecated and will raise an error in a future version of pandas. Value '0.005780346820809248' has dtype incompatible with int64, please explicitly cast to a compatible dtype first.\n",
      "  balance_weight.loc[tics, date] = w\n",
      "C:\\Users\\misss\\AppData\\Local\\Temp\\ipykernel_40080\\1845856610.py:19: FutureWarning: Setting an item of incompatible dtype is deprecated and will raise an error in a future version of pandas. Value '0.006329113924050633' has dtype incompatible with int64, please explicitly cast to a compatible dtype first.\n",
      "  balance_weight.loc[tics, date] = w\n",
      "C:\\Users\\misss\\AppData\\Local\\Temp\\ipykernel_40080\\1845856610.py:19: FutureWarning: Setting an item of incompatible dtype is deprecated and will raise an error in a future version of pandas. Value '0.00425531914893617' has dtype incompatible with int64, please explicitly cast to a compatible dtype first.\n",
      "  balance_weight.loc[tics, date] = w\n",
      "C:\\Users\\misss\\AppData\\Local\\Temp\\ipykernel_40080\\1845856610.py:19: FutureWarning: Setting an item of incompatible dtype is deprecated and will raise an error in a future version of pandas. Value '0.004444444444444444' has dtype incompatible with int64, please explicitly cast to a compatible dtype first.\n",
      "  balance_weight.loc[tics, date] = w\n",
      "C:\\Users\\misss\\AppData\\Local\\Temp\\ipykernel_40080\\1845856610.py:19: FutureWarning: Setting an item of incompatible dtype is deprecated and will raise an error in a future version of pandas. Value '0.003846153846153846' has dtype incompatible with int64, please explicitly cast to a compatible dtype first.\n",
      "  balance_weight.loc[tics, date] = w\n",
      "C:\\Users\\misss\\AppData\\Local\\Temp\\ipykernel_40080\\1845856610.py:19: FutureWarning: Setting an item of incompatible dtype is deprecated and will raise an error in a future version of pandas. Value '0.004464285714285714' has dtype incompatible with int64, please explicitly cast to a compatible dtype first.\n",
      "  balance_weight.loc[tics, date] = w\n",
      "C:\\Users\\misss\\AppData\\Local\\Temp\\ipykernel_40080\\1845856610.py:19: FutureWarning: Setting an item of incompatible dtype is deprecated and will raise an error in a future version of pandas. Value '0.004608294930875576' has dtype incompatible with int64, please explicitly cast to a compatible dtype first.\n",
      "  balance_weight.loc[tics, date] = w\n",
      "C:\\Users\\misss\\AppData\\Local\\Temp\\ipykernel_40080\\1845856610.py:19: FutureWarning: Setting an item of incompatible dtype is deprecated and will raise an error in a future version of pandas. Value '0.003048780487804878' has dtype incompatible with int64, please explicitly cast to a compatible dtype first.\n",
      "  balance_weight.loc[tics, date] = w\n",
      "C:\\Users\\misss\\AppData\\Local\\Temp\\ipykernel_40080\\1845856610.py:19: FutureWarning: Setting an item of incompatible dtype is deprecated and will raise an error in a future version of pandas. Value '0.003115264797507788' has dtype incompatible with int64, please explicitly cast to a compatible dtype first.\n",
      "  balance_weight.loc[tics, date] = w\n",
      "C:\\Users\\misss\\AppData\\Local\\Temp\\ipykernel_40080\\1845856610.py:19: FutureWarning: Setting an item of incompatible dtype is deprecated and will raise an error in a future version of pandas. Value '0.004444444444444444' has dtype incompatible with int64, please explicitly cast to a compatible dtype first.\n",
      "  balance_weight.loc[tics, date] = w\n",
      "C:\\Users\\misss\\AppData\\Local\\Temp\\ipykernel_40080\\1845856610.py:19: FutureWarning: Setting an item of incompatible dtype is deprecated and will raise an error in a future version of pandas. Value '0.003597122302158274' has dtype incompatible with int64, please explicitly cast to a compatible dtype first.\n",
      "  balance_weight.loc[tics, date] = w\n",
      "C:\\Users\\misss\\AppData\\Local\\Temp\\ipykernel_40080\\1845856610.py:19: FutureWarning: Setting an item of incompatible dtype is deprecated and will raise an error in a future version of pandas. Value '0.00390625' has dtype incompatible with int64, please explicitly cast to a compatible dtype first.\n",
      "  balance_weight.loc[tics, date] = w\n",
      "C:\\Users\\misss\\AppData\\Local\\Temp\\ipykernel_40080\\1845856610.py:19: FutureWarning: Setting an item of incompatible dtype is deprecated and will raise an error in a future version of pandas. Value '0.004184100418410041' has dtype incompatible with int64, please explicitly cast to a compatible dtype first.\n",
      "  balance_weight.loc[tics, date] = w\n",
      "C:\\Users\\misss\\AppData\\Local\\Temp\\ipykernel_40080\\1845856610.py:19: FutureWarning: Setting an item of incompatible dtype is deprecated and will raise an error in a future version of pandas. Value '0.005263157894736842' has dtype incompatible with int64, please explicitly cast to a compatible dtype first.\n",
      "  balance_weight.loc[tics, date] = w\n",
      "C:\\Users\\misss\\AppData\\Local\\Temp\\ipykernel_40080\\1845856610.py:19: FutureWarning: Setting an item of incompatible dtype is deprecated and will raise an error in a future version of pandas. Value '0.004065040650406504' has dtype incompatible with int64, please explicitly cast to a compatible dtype first.\n",
      "  balance_weight.loc[tics, date] = w\n",
      "C:\\Users\\misss\\AppData\\Local\\Temp\\ipykernel_40080\\1845856610.py:19: FutureWarning: Setting an item of incompatible dtype is deprecated and will raise an error in a future version of pandas. Value '0.004' has dtype incompatible with int64, please explicitly cast to a compatible dtype first.\n",
      "  balance_weight.loc[tics, date] = w\n",
      "C:\\Users\\misss\\AppData\\Local\\Temp\\ipykernel_40080\\1845856610.py:19: FutureWarning: Setting an item of incompatible dtype is deprecated and will raise an error in a future version of pandas. Value '0.004975124378109453' has dtype incompatible with int64, please explicitly cast to a compatible dtype first.\n",
      "  balance_weight.loc[tics, date] = w\n",
      "C:\\Users\\misss\\AppData\\Local\\Temp\\ipykernel_40080\\1845856610.py:19: FutureWarning: Setting an item of incompatible dtype is deprecated and will raise an error in a future version of pandas. Value '0.003846153846153846' has dtype incompatible with int64, please explicitly cast to a compatible dtype first.\n",
      "  balance_weight.loc[tics, date] = w\n",
      "C:\\Users\\misss\\AppData\\Local\\Temp\\ipykernel_40080\\1845856610.py:19: FutureWarning: Setting an item of incompatible dtype is deprecated and will raise an error in a future version of pandas. Value '0.004149377593360996' has dtype incompatible with int64, please explicitly cast to a compatible dtype first.\n",
      "  balance_weight.loc[tics, date] = w\n",
      "C:\\Users\\misss\\AppData\\Local\\Temp\\ipykernel_40080\\1845856610.py:19: FutureWarning: Setting an item of incompatible dtype is deprecated and will raise an error in a future version of pandas. Value '0.006578947368421052' has dtype incompatible with int64, please explicitly cast to a compatible dtype first.\n",
      "  balance_weight.loc[tics, date] = w\n",
      "C:\\Users\\misss\\AppData\\Local\\Temp\\ipykernel_40080\\1845856610.py:19: FutureWarning: Setting an item of incompatible dtype is deprecated and will raise an error in a future version of pandas. Value '0.004629629629629629' has dtype incompatible with int64, please explicitly cast to a compatible dtype first.\n",
      "  balance_weight.loc[tics, date] = w\n",
      "C:\\Users\\misss\\AppData\\Local\\Temp\\ipykernel_40080\\1845856610.py:19: FutureWarning: Setting an item of incompatible dtype is deprecated and will raise an error in a future version of pandas. Value '0.005154639175257732' has dtype incompatible with int64, please explicitly cast to a compatible dtype first.\n",
      "  balance_weight.loc[tics, date] = w\n",
      "C:\\Users\\misss\\AppData\\Local\\Temp\\ipykernel_40080\\1845856610.py:19: FutureWarning: Setting an item of incompatible dtype is deprecated and will raise an error in a future version of pandas. Value '0.004854368932038835' has dtype incompatible with int64, please explicitly cast to a compatible dtype first.\n",
      "  balance_weight.loc[tics, date] = w\n",
      "C:\\Users\\misss\\AppData\\Local\\Temp\\ipykernel_40080\\1845856610.py:19: FutureWarning: Setting an item of incompatible dtype is deprecated and will raise an error in a future version of pandas. Value '0.004424778761061947' has dtype incompatible with int64, please explicitly cast to a compatible dtype first.\n",
      "  balance_weight.loc[tics, date] = w\n",
      "C:\\Users\\misss\\AppData\\Local\\Temp\\ipykernel_40080\\1845856610.py:19: FutureWarning: Setting an item of incompatible dtype is deprecated and will raise an error in a future version of pandas. Value '0.005714285714285714' has dtype incompatible with int64, please explicitly cast to a compatible dtype first.\n",
      "  balance_weight.loc[tics, date] = w\n",
      "C:\\Users\\misss\\AppData\\Local\\Temp\\ipykernel_40080\\1845856610.py:19: FutureWarning: Setting an item of incompatible dtype is deprecated and will raise an error in a future version of pandas. Value '0.003846153846153846' has dtype incompatible with int64, please explicitly cast to a compatible dtype first.\n",
      "  balance_weight.loc[tics, date] = w\n",
      "C:\\Users\\misss\\AppData\\Local\\Temp\\ipykernel_40080\\1845856610.py:19: FutureWarning: Setting an item of incompatible dtype is deprecated and will raise an error in a future version of pandas. Value '0.00546448087431694' has dtype incompatible with int64, please explicitly cast to a compatible dtype first.\n",
      "  balance_weight.loc[tics, date] = w\n",
      "C:\\Users\\misss\\AppData\\Local\\Temp\\ipykernel_40080\\1845856610.py:19: FutureWarning: Setting an item of incompatible dtype is deprecated and will raise an error in a future version of pandas. Value '0.003816793893129771' has dtype incompatible with int64, please explicitly cast to a compatible dtype first.\n",
      "  balance_weight.loc[tics, date] = w\n",
      "C:\\Users\\misss\\AppData\\Local\\Temp\\ipykernel_40080\\1845856610.py:19: FutureWarning: Setting an item of incompatible dtype is deprecated and will raise an error in a future version of pandas. Value '0.003003003003003003' has dtype incompatible with int64, please explicitly cast to a compatible dtype first.\n",
      "  balance_weight.loc[tics, date] = w\n",
      "C:\\Users\\misss\\AppData\\Local\\Temp\\ipykernel_40080\\1845856610.py:19: FutureWarning: Setting an item of incompatible dtype is deprecated and will raise an error in a future version of pandas. Value '0.002906976744186046' has dtype incompatible with int64, please explicitly cast to a compatible dtype first.\n",
      "  balance_weight.loc[tics, date] = w\n",
      "C:\\Users\\misss\\AppData\\Local\\Temp\\ipykernel_40080\\1845856610.py:19: FutureWarning: Setting an item of incompatible dtype is deprecated and will raise an error in a future version of pandas. Value '0.004926108374384237' has dtype incompatible with int64, please explicitly cast to a compatible dtype first.\n",
      "  balance_weight.loc[tics, date] = w\n",
      "C:\\Users\\misss\\AppData\\Local\\Temp\\ipykernel_40080\\1845856610.py:19: FutureWarning: Setting an item of incompatible dtype is deprecated and will raise an error in a future version of pandas. Value '0.005025125628140704' has dtype incompatible with int64, please explicitly cast to a compatible dtype first.\n",
      "  balance_weight.loc[tics, date] = w\n",
      "C:\\Users\\misss\\AppData\\Local\\Temp\\ipykernel_40080\\1845856610.py:19: FutureWarning: Setting an item of incompatible dtype is deprecated and will raise an error in a future version of pandas. Value '0.005405405405405406' has dtype incompatible with int64, please explicitly cast to a compatible dtype first.\n",
      "  balance_weight.loc[tics, date] = w\n",
      "C:\\Users\\misss\\AppData\\Local\\Temp\\ipykernel_40080\\1845856610.py:19: FutureWarning: Setting an item of incompatible dtype is deprecated and will raise an error in a future version of pandas. Value '0.005405405405405406' has dtype incompatible with int64, please explicitly cast to a compatible dtype first.\n",
      "  balance_weight.loc[tics, date] = w\n",
      "C:\\Users\\misss\\AppData\\Local\\Temp\\ipykernel_40080\\1845856610.py:19: FutureWarning: Setting an item of incompatible dtype is deprecated and will raise an error in a future version of pandas. Value '0.003831417624521073' has dtype incompatible with int64, please explicitly cast to a compatible dtype first.\n",
      "  balance_weight.loc[tics, date] = w\n",
      "C:\\Users\\misss\\AppData\\Local\\Temp\\ipykernel_40080\\1845856610.py:19: FutureWarning: Setting an item of incompatible dtype is deprecated and will raise an error in a future version of pandas. Value '0.00392156862745098' has dtype incompatible with int64, please explicitly cast to a compatible dtype first.\n",
      "  balance_weight.loc[tics, date] = w\n",
      "C:\\Users\\misss\\AppData\\Local\\Temp\\ipykernel_40080\\1845856610.py:19: FutureWarning: Setting an item of incompatible dtype is deprecated and will raise an error in a future version of pandas. Value '0.004716981132075472' has dtype incompatible with int64, please explicitly cast to a compatible dtype first.\n",
      "  balance_weight.loc[tics, date] = w\n",
      "C:\\Users\\misss\\AppData\\Local\\Temp\\ipykernel_40080\\1845856610.py:19: FutureWarning: Setting an item of incompatible dtype is deprecated and will raise an error in a future version of pandas. Value '0.004524886877828055' has dtype incompatible with int64, please explicitly cast to a compatible dtype first.\n",
      "  balance_weight.loc[tics, date] = w\n",
      "C:\\Users\\misss\\AppData\\Local\\Temp\\ipykernel_40080\\1845856610.py:19: FutureWarning: Setting an item of incompatible dtype is deprecated and will raise an error in a future version of pandas. Value '0.005263157894736842' has dtype incompatible with int64, please explicitly cast to a compatible dtype first.\n",
      "  balance_weight.loc[tics, date] = w\n",
      "C:\\Users\\misss\\AppData\\Local\\Temp\\ipykernel_40080\\1845856610.py:19: FutureWarning: Setting an item of incompatible dtype is deprecated and will raise an error in a future version of pandas. Value '0.004672897196261682' has dtype incompatible with int64, please explicitly cast to a compatible dtype first.\n",
      "  balance_weight.loc[tics, date] = w\n",
      "C:\\Users\\misss\\AppData\\Local\\Temp\\ipykernel_40080\\1845856610.py:19: FutureWarning: Setting an item of incompatible dtype is deprecated and will raise an error in a future version of pandas. Value '0.00423728813559322' has dtype incompatible with int64, please explicitly cast to a compatible dtype first.\n",
      "  balance_weight.loc[tics, date] = w\n",
      "C:\\Users\\misss\\AppData\\Local\\Temp\\ipykernel_40080\\1845856610.py:19: FutureWarning: Setting an item of incompatible dtype is deprecated and will raise an error in a future version of pandas. Value '0.003802281368821293' has dtype incompatible with int64, please explicitly cast to a compatible dtype first.\n",
      "  balance_weight.loc[tics, date] = w\n",
      "C:\\Users\\misss\\AppData\\Local\\Temp\\ipykernel_40080\\1845856610.py:19: FutureWarning: Setting an item of incompatible dtype is deprecated and will raise an error in a future version of pandas. Value '0.003968253968253968' has dtype incompatible with int64, please explicitly cast to a compatible dtype first.\n",
      "  balance_weight.loc[tics, date] = w\n",
      "C:\\Users\\misss\\AppData\\Local\\Temp\\ipykernel_40080\\1845856610.py:19: FutureWarning: Setting an item of incompatible dtype is deprecated and will raise an error in a future version of pandas. Value '0.006896551724137931' has dtype incompatible with int64, please explicitly cast to a compatible dtype first.\n",
      "  balance_weight.loc[tics, date] = w\n",
      "C:\\Users\\misss\\AppData\\Local\\Temp\\ipykernel_40080\\1845856610.py:19: FutureWarning: Setting an item of incompatible dtype is deprecated and will raise an error in a future version of pandas. Value '0.006896551724137931' has dtype incompatible with int64, please explicitly cast to a compatible dtype first.\n",
      "  balance_weight.loc[tics, date] = w\n",
      "C:\\Users\\misss\\AppData\\Local\\Temp\\ipykernel_40080\\1845856610.py:19: FutureWarning: Setting an item of incompatible dtype is deprecated and will raise an error in a future version of pandas. Value '0.007462686567164179' has dtype incompatible with int64, please explicitly cast to a compatible dtype first.\n",
      "  balance_weight.loc[tics, date] = w\n",
      "C:\\Users\\misss\\AppData\\Local\\Temp\\ipykernel_40080\\1845856610.py:19: FutureWarning: Setting an item of incompatible dtype is deprecated and will raise an error in a future version of pandas. Value '0.00641025641025641' has dtype incompatible with int64, please explicitly cast to a compatible dtype first.\n",
      "  balance_weight.loc[tics, date] = w\n",
      "C:\\Users\\misss\\AppData\\Local\\Temp\\ipykernel_40080\\1845856610.py:19: FutureWarning: Setting an item of incompatible dtype is deprecated and will raise an error in a future version of pandas. Value '0.006666666666666667' has dtype incompatible with int64, please explicitly cast to a compatible dtype first.\n",
      "  balance_weight.loc[tics, date] = w\n",
      "C:\\Users\\misss\\AppData\\Local\\Temp\\ipykernel_40080\\1845856610.py:19: FutureWarning: Setting an item of incompatible dtype is deprecated and will raise an error in a future version of pandas. Value '0.006756756756756757' has dtype incompatible with int64, please explicitly cast to a compatible dtype first.\n",
      "  balance_weight.loc[tics, date] = w\n",
      "C:\\Users\\misss\\AppData\\Local\\Temp\\ipykernel_40080\\1845856610.py:19: FutureWarning: Setting an item of incompatible dtype is deprecated and will raise an error in a future version of pandas. Value '0.007042253521126761' has dtype incompatible with int64, please explicitly cast to a compatible dtype first.\n",
      "  balance_weight.loc[tics, date] = w\n",
      "C:\\Users\\misss\\AppData\\Local\\Temp\\ipykernel_40080\\1845856610.py:19: FutureWarning: Setting an item of incompatible dtype is deprecated and will raise an error in a future version of pandas. Value '0.006493506493506494' has dtype incompatible with int64, please explicitly cast to a compatible dtype first.\n",
      "  balance_weight.loc[tics, date] = w\n",
      "C:\\Users\\misss\\AppData\\Local\\Temp\\ipykernel_40080\\1845856610.py:19: FutureWarning: Setting an item of incompatible dtype is deprecated and will raise an error in a future version of pandas. Value '0.006666666666666667' has dtype incompatible with int64, please explicitly cast to a compatible dtype first.\n",
      "  balance_weight.loc[tics, date] = w\n",
      "C:\\Users\\misss\\AppData\\Local\\Temp\\ipykernel_40080\\1845856610.py:19: FutureWarning: Setting an item of incompatible dtype is deprecated and will raise an error in a future version of pandas. Value '0.00641025641025641' has dtype incompatible with int64, please explicitly cast to a compatible dtype first.\n",
      "  balance_weight.loc[tics, date] = w\n",
      "C:\\Users\\misss\\AppData\\Local\\Temp\\ipykernel_40080\\1845856610.py:19: FutureWarning: Setting an item of incompatible dtype is deprecated and will raise an error in a future version of pandas. Value '0.007518796992481203' has dtype incompatible with int64, please explicitly cast to a compatible dtype first.\n",
      "  balance_weight.loc[tics, date] = w\n",
      "C:\\Users\\misss\\AppData\\Local\\Temp\\ipykernel_40080\\1845856610.py:19: FutureWarning: Setting an item of incompatible dtype is deprecated and will raise an error in a future version of pandas. Value '0.007352941176470588' has dtype incompatible with int64, please explicitly cast to a compatible dtype first.\n",
      "  balance_weight.loc[tics, date] = w\n",
      "C:\\Users\\misss\\AppData\\Local\\Temp\\ipykernel_40080\\1845856610.py:19: FutureWarning: Setting an item of incompatible dtype is deprecated and will raise an error in a future version of pandas. Value '0.006451612903225806' has dtype incompatible with int64, please explicitly cast to a compatible dtype first.\n",
      "  balance_weight.loc[tics, date] = w\n",
      "C:\\Users\\misss\\AppData\\Local\\Temp\\ipykernel_40080\\1845856610.py:19: FutureWarning: Setting an item of incompatible dtype is deprecated and will raise an error in a future version of pandas. Value '0.006622516556291391' has dtype incompatible with int64, please explicitly cast to a compatible dtype first.\n",
      "  balance_weight.loc[tics, date] = w\n",
      "C:\\Users\\misss\\AppData\\Local\\Temp\\ipykernel_40080\\1845856610.py:19: FutureWarning: Setting an item of incompatible dtype is deprecated and will raise an error in a future version of pandas. Value '0.006097560975609756' has dtype incompatible with int64, please explicitly cast to a compatible dtype first.\n",
      "  balance_weight.loc[tics, date] = w\n",
      "C:\\Users\\misss\\AppData\\Local\\Temp\\ipykernel_40080\\1845856610.py:19: FutureWarning: Setting an item of incompatible dtype is deprecated and will raise an error in a future version of pandas. Value '0.006451612903225806' has dtype incompatible with int64, please explicitly cast to a compatible dtype first.\n",
      "  balance_weight.loc[tics, date] = w\n",
      "C:\\Users\\misss\\AppData\\Local\\Temp\\ipykernel_40080\\1845856610.py:19: FutureWarning: Setting an item of incompatible dtype is deprecated and will raise an error in a future version of pandas. Value '0.006060606060606061' has dtype incompatible with int64, please explicitly cast to a compatible dtype first.\n",
      "  balance_weight.loc[tics, date] = w\n",
      "C:\\Users\\misss\\AppData\\Local\\Temp\\ipykernel_40080\\1845856610.py:19: FutureWarning: Setting an item of incompatible dtype is deprecated and will raise an error in a future version of pandas. Value '0.006711409395973154' has dtype incompatible with int64, please explicitly cast to a compatible dtype first.\n",
      "  balance_weight.loc[tics, date] = w\n",
      "C:\\Users\\misss\\AppData\\Local\\Temp\\ipykernel_40080\\1845856610.py:24: FutureWarning: Downcasting object dtype arrays on .fillna, .ffill, .bfill is deprecated and will change in a future version. Call result.infer_objects(copy=False) instead. To opt-in to the future behavior, set `pd.set_option('future.no_silent_downcasting', True)`\n",
      "  balance_share = balance_share.fillna(0)\n",
      "C:\\Users\\misss\\AppData\\Local\\Temp\\ipykernel_40080\\1845856610.py:27: FutureWarning: Downcasting object dtype arrays on .fillna, .ffill, .bfill is deprecated and will change in a future version. Call result.infer_objects(copy=False) instead. To opt-in to the future behavior, set `pd.set_option('future.no_silent_downcasting', True)`\n",
      "  balance_cost = balance_cost.fillna(0)\n",
      "C:\\Users\\misss\\AppData\\Local\\Temp\\ipykernel_40080\\1845856610.py:30: FutureWarning: Downcasting object dtype arrays on .fillna, .ffill, .bfill is deprecated and will change in a future version. Call result.infer_objects(copy=False) instead. To opt-in to the future behavior, set `pd.set_option('future.no_silent_downcasting', True)`\n",
      "  balance_cash = balance_cash.fillna(0)\n",
      "C:\\Users\\misss\\AppData\\Local\\Temp\\ipykernel_40080\\1845856610.py:41: SettingWithCopyWarning: \n",
      "A value is trying to be set on a copy of a slice from a DataFrame\n",
      "\n",
      "See the caveats in the documentation: https://pandas.pydata.org/pandas-docs/stable/user_guide/indexing.html#returning-a-view-versus-a-copy\n",
      "  balance_price.replace([0, np.inf, -np.inf], np.nan, inplace=True)\n"
     ]
    }
   ],
   "source": [
    "#calculate equally weighted allocation portolio\n",
    "(balance_share_equal,\n",
    " balance_cost_equal,\n",
    " balance_cash_equal,\n",
    " portfolio_equal,\n",
    " portfolio_cost_equal,\n",
    " portfolio_return_equal,\n",
    " portfolio_cumsum_equal)=cal_portfolio(stocks_name,tradedate_full, weight_equal, capital, transaction_percent)"
   ]
  },
  {
   "cell_type": "code",
   "execution_count": 27,
   "metadata": {},
   "outputs": [
    {
     "data": {
      "text/plain": [
       "np.float64(173.68927657704597)"
      ]
     },
     "execution_count": 27,
     "metadata": {},
     "output_type": "execute_result"
    }
   ],
   "source": [
    "sum(portfolio_return_equal)"
   ]
  },
  {
   "cell_type": "markdown",
   "metadata": {},
   "source": [
    "# 3. Calculate SPX Portfolio Value, Return and Cumulative Return"
   ]
  },
  {
   "cell_type": "code",
   "execution_count": 28,
   "metadata": {},
   "outputs": [
    {
     "name": "stdout",
     "output_type": "stream",
     "text": [
      "YF.download() has changed argument auto_adjust default to True\n"
     ]
    },
    {
     "name": "stderr",
     "output_type": "stream",
     "text": [
      "[*********************100%***********************]  1 of 1 completed"
     ]
    },
    {
     "name": "stdout",
     "output_type": "stream",
     "text": [
      "S&P 500 data saved successfully.\n"
     ]
    },
    {
     "name": "stderr",
     "output_type": "stream",
     "text": [
      "\n"
     ]
    }
   ],
   "source": [
    "import yfinance as yf\n",
    "import pandas as pd\n",
    "\n",
    "spx = yf.download(\"^GSPC\", start=\"1999-09-01\", end=\"2025-12-31\", interval=\"1d\")\n",
    "spx.reset_index(inplace=True)\n",
    "spx.columns = spx.columns.droplevel(1)\n",
    "spx = spx[['Date','Close']]\n",
    "spx.rename(columns={'Date':'date','Close':'close'}, inplace=True)\n",
    "spx.to_csv(\"SPX.csv\")\n",
    "print(\"S&P 500 data saved successfully.\")"
   ]
  },
  {
   "cell_type": "code",
   "execution_count": 29,
   "metadata": {},
   "outputs": [],
   "source": [
    "import datetime\n",
    "\n",
    "dates = pd.date_range('1999-09-01', '2025-12-31')\n"
   ]
  },
  {
   "cell_type": "code",
   "execution_count": 30,
   "metadata": {},
   "outputs": [],
   "source": [
    "spx = pd.read_csv(\"SPX.csv\")\n"
   ]
  },
  {
   "cell_type": "code",
   "execution_count": 31,
   "metadata": {},
   "outputs": [],
   "source": [
    "spx.date = pd.to_datetime(spx.date)"
   ]
  },
  {
   "cell_type": "code",
   "execution_count": 32,
   "metadata": {},
   "outputs": [],
   "source": [
    "spx = spx.set_index(\"date\").reindex(dates, method='ffill')"
   ]
  },
  {
   "cell_type": "code",
   "execution_count": 33,
   "metadata": {},
   "outputs": [],
   "source": [
    "tradedate = tradedate[:-1]"
   ]
  },
  {
   "cell_type": "code",
   "execution_count": 34,
   "metadata": {},
   "outputs": [],
   "source": [
    "\n",
    "spx_daily = list(set(spx.index))\n",
    "spx_daily.sort()\n",
    "spx = spx['close']\n",
    "spx.index = spx.index.astype(str)\n",
    "spx = spx[tradedate]\n",
    "spx.index = range(len(spx))\n",
    "spx_return = (spx - spx.shift(1))/spx\n",
    "spx_return[0] = 0\n",
    "\n",
    "spx_return.index = tradedate\n",
    "spx_return.index = range(len(spx))\n",
    "spx_cumsum=spx_return.copy()\n",
    "\n",
    "spx_value = spx_return.copy()\n",
    "initial = 0\n",
    "for i in range(len(spx_cumsum)):\n",
    "    spx_cumsum[i] = initial + spx_cumsum[i]\n",
    "    initial = spx_cumsum[i]\n",
    "\n",
    "initial = 1000000\n",
    "for i in range(len(spx_value)):\n",
    "    spx_value[i] = initial * (1 + spx_value[i])\n",
    "    initial = spx_value[i]\n",
    "\n",
    "spx_cumsum.index = tradedate\n",
    "spx_value.index = tradedate"
   ]
  },
  {
   "cell_type": "code",
   "execution_count": 35,
   "metadata": {},
   "outputs": [
    {
     "data": {
      "text/plain": [
       "1.2693761168484916"
      ]
     },
     "execution_count": 35,
     "metadata": {},
     "output_type": "execute_result"
    }
   ],
   "source": [
    "sum(spx_return)"
   ]
  },
  {
   "cell_type": "markdown",
   "metadata": {},
   "source": [
    "# 4. Plot the Portfolio Performance"
   ]
  },
  {
   "cell_type": "markdown",
   "metadata": {},
   "source": [
    "## 4.1 Plot Portfolio Value with Transaction Cost"
   ]
  },
  {
   "cell_type": "code",
   "execution_count": 36,
   "metadata": {},
   "outputs": [],
   "source": [
    "time_ind = tradedate_full[:-1]"
   ]
  },
  {
   "cell_type": "code",
   "execution_count": 37,
   "metadata": {},
   "outputs": [
    {
     "data": {
      "application/vnd.plotly.v1+json": {
       "config": {
        "linkText": "Export to plot.ly",
        "plotlyServerURL": "https://plot.ly",
        "showLink": false
       },
       "data": [
        {
         "mode": "lines",
         "name": "Mean-Variance",
         "type": "scatter",
         "x": [
          "2004-12-01",
          "2005-03-01",
          "2005-06-01",
          "2005-09-01",
          "2005-12-01",
          "2006-03-01",
          "2006-06-01",
          "2006-09-01",
          "2006-12-01",
          "2007-03-01",
          "2007-06-01",
          "2007-09-04",
          "2007-12-03",
          "2008-03-03",
          "2008-06-02",
          "2008-09-02",
          "2008-12-01",
          "2009-03-02",
          "2009-06-01",
          "2009-09-01",
          "2009-12-01",
          "2010-03-01",
          "2010-06-01",
          "2010-09-01",
          "2010-12-01",
          "2011-03-01",
          "2011-06-01",
          "2011-09-01",
          "2011-12-01",
          "2012-03-01",
          "2012-06-01",
          "2012-09-04",
          "2012-12-03",
          "2013-03-01",
          "2013-06-03",
          "2013-09-03",
          "2013-12-02",
          "2014-03-03",
          "2014-06-02",
          "2014-09-02",
          "2014-12-01",
          "2015-03-02",
          "2015-06-01",
          "2015-09-01",
          "2015-12-01",
          "2016-03-01",
          "2016-06-01",
          "2016-09-01",
          "2016-12-01",
          "2017-03-01",
          "2017-06-01",
          "2017-09-01",
          "2017-12-01",
          "2018-03-01",
          "2018-06-01",
          "2018-09-04",
          "2018-12-03",
          "2019-03-01",
          "2019-06-03",
          "2019-09-03",
          "2019-12-02",
          "2020-03-02",
          "2020-06-01",
          "2020-09-01",
          "2020-12-01",
          "2021-03-01",
          "2021-06-01",
          "2021-09-01",
          "2021-12-01",
          "2022-03-01",
          "2022-06-01",
          "2022-09-01",
          "2022-12-01",
          "2023-03-01",
          "2023-06-01",
          "2023-09-01",
          "2023-12-01",
          "2024-03-01",
          "2024-06-03",
          "2024-09-03"
         ],
         "y": [
          999344.4374823663,
          1044557.9731939444,
          1371596.117743432,
          1481035.6816504868,
          1605199.5909837505,
          1767336.609855845,
          1826398.45206632,
          3010185.5902785314,
          3344608.355205587,
          3467136.0830243034,
          3909629.964248526,
          3673106.8724134797,
          3821109.355092247,
          3653657.3669614936,
          3995559.2734026182,
          3986497.1916699777,
          2306228.4045711774,
          1821848.5935844022,
          252873686.59504536,
          237455951.00189453,
          485604450.1415197,
          7853988645.893107,
          7761544589.931033,
          7851549019.136135,
          9041795362.678457,
          10199997474.21465,
          10634580018.37683,
          9388479807.602158,
          9709095300.469088,
          11043135959.014275,
          183822289206.56058,
          198846640046.5333,
          210762182658.97723,
          242388569411.17767,
          275725026003.1814,
          280514758881.197,
          307379216158.2028,
          335766555892.315,
          342927625602.71204,
          363898220884.7676,
          357801940825.6055,
          387250131221.8532,
          388858830873.5375,
          351217895026.67896,
          380192167940.7291,
          356042101335.69604,
          382752162489.9976,
          406698693238.6834,
          432404385351.2177,
          478826547586.11633,
          484506025973.4694,
          494726465317.37244,
          536322575406.1924,
          548489949816.4459,
          585904912480.962,
          644920736935.7462,
          621319646068.1022,
          626532083075.2155,
          591431596978.9224,
          601519608610.2805,
          671323348598.0139,
          687453527506.6565,
          665085988963.7063,
          750039768947.3215,
          863043476964.5425,
          1001652589418.9204,
          1109824182298.908,
          1165371617748.9993,
          1097949986432.7721,
          1083701844803.5333,
          1011227841699.7428,
          990961203669.5375,
          1070687666162.4014,
          1067667965430.0197,
          1066370447379.4576,
          1187510394550.7422,
          1201014025020.5962,
          1294945180956.7798,
          1213333551875.7158,
          1285654092095.751,
          1385787985015.986
         ]
        },
        {
         "mode": "lines",
         "name": "Equally Weighted",
         "type": "scatter",
         "x": [
          "2004-12-01",
          "2005-03-01",
          "2005-06-01",
          "2005-09-01",
          "2005-12-01",
          "2006-03-01",
          "2006-06-01",
          "2006-09-01",
          "2006-12-01",
          "2007-03-01",
          "2007-06-01",
          "2007-09-04",
          "2007-12-03",
          "2008-03-03",
          "2008-06-02",
          "2008-09-02",
          "2008-12-01",
          "2009-03-02",
          "2009-06-01",
          "2009-09-01",
          "2009-12-01",
          "2010-03-01",
          "2010-06-01",
          "2010-09-01",
          "2010-12-01",
          "2011-03-01",
          "2011-06-01",
          "2011-09-01",
          "2011-12-01",
          "2012-03-01",
          "2012-06-01",
          "2012-09-04",
          "2012-12-03",
          "2013-03-01",
          "2013-06-03",
          "2013-09-03",
          "2013-12-02",
          "2014-03-03",
          "2014-06-02",
          "2014-09-02",
          "2014-12-01",
          "2015-03-02",
          "2015-06-01",
          "2015-09-01",
          "2015-12-01",
          "2016-03-01",
          "2016-06-01",
          "2016-09-01",
          "2016-12-01",
          "2017-03-01",
          "2017-06-01",
          "2017-09-01",
          "2017-12-01",
          "2018-03-01",
          "2018-06-01",
          "2018-09-04",
          "2018-12-03",
          "2019-03-01",
          "2019-06-03",
          "2019-09-03",
          "2019-12-02",
          "2020-03-02",
          "2020-06-01",
          "2020-09-01",
          "2020-12-01",
          "2021-03-01",
          "2021-06-01",
          "2021-09-01",
          "2021-12-01",
          "2022-03-01",
          "2022-06-01",
          "2022-09-01",
          "2022-12-01",
          "2023-03-01",
          "2023-06-01",
          "2023-09-01",
          "2023-12-01",
          "2024-03-01",
          "2024-06-03",
          "2024-09-03"
         ],
         "y": [
          999345.0295894061,
          1044079.5743761486,
          1371073.5448880207,
          1481240.6501738282,
          1576788.8395361027,
          1720837.2345535315,
          1777712.5968527435,
          2932895.4981636866,
          3248485.050297001,
          3344690.5137182996,
          3769953.4110408225,
          3582808.5180666535,
          3578024.2409335338,
          3592723.4945230423,
          3908783.169302287,
          3915170.1062521725,
          2258399.4652454345,
          1851658.5957019753,
          257187074.46987155,
          231009832.84050354,
          589978677.7257164,
          9546103182.576807,
          9416325011.24132,
          9527333584.229166,
          10967055618.83969,
          12367402453.012846,
          12811583558.03119,
          11309810169.390753,
          11737847485.696798,
          13357432166.058037,
          222360615801.74146,
          240722042113.57446,
          255270202486.10278,
          293303670044.60913,
          325890621943.67456,
          332895457594.0019,
          365125149651.98517,
          398541702796.27484,
          406701725919.1863,
          434120618210.81744,
          437904686212.49005,
          473476570363.56793,
          478019509474.58563,
          435526648372.8539,
          460477989659.1829,
          431345676841.91266,
          471973595305.8633,
          499440465740.0319,
          516398129936.15405,
          571841843296.8475,
          586349572998.6426,
          599807673963.9634,
          646739452492.6265,
          650772289692.6617,
          686732952014.0631,
          734511623584.7758,
          712447019766.1709,
          736240583848.8838,
          696314618193.5406,
          701477783258.3778,
          769311360674.7725,
          753386180666.8099,
          736444260064.3503,
          857085675825.4652,
          985296637972.48,
          1194031774521.753,
          1319655190953.0103,
          1385440842835.782,
          1334948678505.995,
          1328582707480.9355,
          1279415715976.4565,
          1241150179241.3467,
          1308452231751.2566,
          1304980063592.1697,
          1272355721970.118,
          1386601139593.0706,
          1383399594931.5967,
          1507105953397.9746,
          1495954635061.586,
          1570740349119.4177,
          1691244530776.774
         ]
        },
        {
         "mode": "lines",
         "name": "Min-Variance",
         "type": "scatter",
         "x": [
          "2004-12-01",
          "2005-03-01",
          "2005-06-01",
          "2005-09-01",
          "2005-12-01",
          "2006-03-01",
          "2006-06-01",
          "2006-09-01",
          "2006-12-01",
          "2007-03-01",
          "2007-06-01",
          "2007-09-04",
          "2007-12-03",
          "2008-03-03",
          "2008-06-02",
          "2008-09-02",
          "2008-12-01",
          "2009-03-02",
          "2009-06-01",
          "2009-09-01",
          "2009-12-01",
          "2010-03-01",
          "2010-06-01",
          "2010-09-01",
          "2010-12-01",
          "2011-03-01",
          "2011-06-01",
          "2011-09-01",
          "2011-12-01",
          "2012-03-01",
          "2012-06-01",
          "2012-09-04",
          "2012-12-03",
          "2013-03-01",
          "2013-06-03",
          "2013-09-03",
          "2013-12-02",
          "2014-03-03",
          "2014-06-02",
          "2014-09-02",
          "2014-12-01",
          "2015-03-02",
          "2015-06-01",
          "2015-09-01",
          "2015-12-01",
          "2016-03-01",
          "2016-06-01",
          "2016-09-01",
          "2016-12-01",
          "2017-03-01",
          "2017-06-01",
          "2017-09-01",
          "2017-12-01",
          "2018-03-01",
          "2018-06-01",
          "2018-09-04",
          "2018-12-03",
          "2019-03-01",
          "2019-06-03",
          "2019-09-03",
          "2019-12-02",
          "2020-03-02",
          "2020-06-01",
          "2020-09-01",
          "2020-12-01",
          "2021-03-01",
          "2021-06-01",
          "2021-09-01",
          "2021-12-01",
          "2022-03-01",
          "2022-06-01",
          "2022-09-01",
          "2022-12-01",
          "2023-03-01",
          "2023-06-01",
          "2023-09-01",
          "2023-12-01",
          "2024-03-01",
          "2024-06-03",
          "2024-09-03"
         ],
         "y": [
          999344.4374823663,
          1044557.9731939444,
          1372408.2134484749,
          1482167.1827756513,
          1577627.6023974686,
          1722597.9538084809,
          1780376.875214111,
          2936110.078550396,
          3250486.292292841,
          3348506.8348095743,
          3773917.5201005787,
          3587226.9288654495,
          3580908.8403781615,
          3594735.6055149552,
          3909534.10496449,
          3917354.6542487843,
          2258920.9565225495,
          1852103.5365160778,
          257164931.50843456,
          230848814.049812,
          589853989.2470701,
          9537752367.597958,
          9400363916.312227,
          9509373339.697441,
          10951858599.82322,
          12354596960.777193,
          12787817462.323107,
          11289397461.466335,
          11713728727.743347,
          13324685580.736984,
          221952592116.475,
          240098733052.158,
          254595112670.5025,
          292815038808.77026,
          325171854068.2048,
          332098136506.7365,
          363900683660.7503,
          397523223329.0427,
          405585216018.95166,
          432902702413.8515,
          436737424672.50024,
          472734393385.97406,
          476792527939.8964,
          434843398292.2732,
          459313760637.3896,
          430414080623.2703,
          471142808379.8553,
          499319897429.9718,
          515756044169.0687,
          571588539080.1165,
          586653305239.8696,
          599529705561.5725,
          646050956146.9901,
          650872502109.8955,
          686838849300.7351,
          735344652572.5845,
          713968724200.9438,
          737923891625.6267,
          698018897566.6909,
          703251464613.1444,
          770562128131.6093,
          753932825887.6387,
          736181575507.7816,
          856136506312.3933,
          985190744343.4934,
          1192922624632.7195,
          1319538144157.0774,
          1383929712232.7612,
          1334879843991.8586,
          1329563929900.5874,
          1281602613989.3396,
          1244329125713.1558,
          1312920466282.1082,
          1308950971304.378,
          1275716850663.5984,
          1391156574115.3525,
          1386444330189.5383,
          1509516005715.9612,
          1497416465362.68,
          1573283262146.1514,
          1692965125957.3333
         ]
        },
        {
         "mode": "lines",
         "name": "SPX",
         "type": "scatter",
         "x": [
          "2004-12-01",
          "2005-03-01",
          "2005-06-01",
          "2005-09-01",
          "2005-12-01",
          "2006-03-01",
          "2006-06-01",
          "2006-09-01",
          "2006-12-01",
          "2007-03-01",
          "2007-06-01",
          "2007-09-04",
          "2007-12-03",
          "2008-03-03",
          "2008-06-02",
          "2008-09-02",
          "2008-12-01",
          "2009-03-02",
          "2009-06-01",
          "2009-09-01",
          "2009-12-01",
          "2010-03-01",
          "2010-06-01",
          "2010-09-01",
          "2010-12-01",
          "2011-03-01",
          "2011-06-01",
          "2011-09-01",
          "2011-12-01",
          "2012-03-01",
          "2012-06-01",
          "2012-09-04",
          "2012-12-03",
          "2013-03-01",
          "2013-06-03",
          "2013-09-03",
          "2013-12-02",
          "2014-03-03",
          "2014-06-02",
          "2014-09-02",
          "2014-12-01",
          "2015-03-02",
          "2015-06-01",
          "2015-09-01",
          "2015-12-01",
          "2016-03-01",
          "2016-06-01",
          "2016-09-01",
          "2016-12-01",
          "2017-03-01",
          "2017-06-01",
          "2017-09-01",
          "2017-12-01",
          "2018-03-01",
          "2018-06-01",
          "2018-09-04",
          "2018-12-03",
          "2019-03-01",
          "2019-06-03",
          "2019-09-03",
          "2019-12-02",
          "2020-03-02",
          "2020-06-01",
          "2020-09-01",
          "2020-12-01",
          "2021-03-01",
          "2021-06-01",
          "2021-09-01",
          "2021-12-01",
          "2022-03-01",
          "2022-06-01",
          "2022-09-01",
          "2022-12-01",
          "2023-03-01",
          "2023-06-01",
          "2023-09-01",
          "2023-12-01",
          "2024-03-01",
          "2024-06-03",
          "2024-09-03"
         ],
         "y": [
          1000000,
          968988.5648898678,
          955591.6752101982,
          1024138.6652891542,
          1040248.6112098662,
          1033161.9695262882,
          1049544.1786675933,
          1085296.148463277,
          1107628.372209818,
          1102864.2982472084,
          1124147.5229278791,
          1193123.4667668121,
          1198616.5120802731,
          1302512.5707801376,
          1261480.6346848467,
          1246916.0606165796,
          1114782.2557557654,
          1158491.223350337,
          1060476.6783044413,
          461032.8562568329,
          385123.7961830445,
          483991.30776750395,
          510745.5388264383,
          561789.696881806,
          565238.8421281548,
          541482.8775590984,
          546284.780828398,
          603256.3099368851,
          649555.8556566458,
          653617.6328402434,
          593852.0108231984,
          613014.3349829387,
          670791.8419038287,
          620379.0963595945,
          676414.2651407858,
          678583.4687892661,
          727186.5264513325,
          781365.823427442,
          781056.0806857818,
          850938.6773810632,
          871606.6753633785,
          907485.7308786097,
          942524.673484382,
          966006.9670173287,
          995182.5565433706,
          992515.2430824098,
          889895.4329338716,
          969792.6980892052,
          908870.3395404718,
          961246.6799826212,
          992919.8416689071,
          1002082.815815556,
          1087771.4805762048,
          1103035.759162306,
          1123742.0322682695,
          1194201.8186440403,
          1210011.98098498,
          1235211.2465847784,
          1304333.4137798504,
          1254621.1312992603,
          1260581.609554446,
          1233371.4787201232,
          1302045.158611431,
          1388851.830665153,
          1378227.1692753783,
          1362666.6198669171,
          1544625.9512263844,
          1601899.1651663086,
          1700172.9922958228,
          1821643.963822114,
          1951318.6836046008,
          1946541.0414498064,
          1853070.9976727588,
          1760431.7771605018,
          1700795.8922416337,
          1746572.432897011,
          1691240.954579623,
          1799273.9682070417,
          1916714.847577616,
          1949612.355033992,
          2155481.7568514263,
          2215176.2182964734,
          2313548.3816804555
         ]
        }
       ],
       "layout": {
        "template": {
         "data": {
          "bar": [
           {
            "error_x": {
             "color": "#2a3f5f"
            },
            "error_y": {
             "color": "#2a3f5f"
            },
            "marker": {
             "line": {
              "color": "#E5ECF6",
              "width": 0.5
             },
             "pattern": {
              "fillmode": "overlay",
              "size": 10,
              "solidity": 0.2
             }
            },
            "type": "bar"
           }
          ],
          "barpolar": [
           {
            "marker": {
             "line": {
              "color": "#E5ECF6",
              "width": 0.5
             },
             "pattern": {
              "fillmode": "overlay",
              "size": 10,
              "solidity": 0.2
             }
            },
            "type": "barpolar"
           }
          ],
          "carpet": [
           {
            "aaxis": {
             "endlinecolor": "#2a3f5f",
             "gridcolor": "white",
             "linecolor": "white",
             "minorgridcolor": "white",
             "startlinecolor": "#2a3f5f"
            },
            "baxis": {
             "endlinecolor": "#2a3f5f",
             "gridcolor": "white",
             "linecolor": "white",
             "minorgridcolor": "white",
             "startlinecolor": "#2a3f5f"
            },
            "type": "carpet"
           }
          ],
          "choropleth": [
           {
            "colorbar": {
             "outlinewidth": 0,
             "ticks": ""
            },
            "type": "choropleth"
           }
          ],
          "contour": [
           {
            "colorbar": {
             "outlinewidth": 0,
             "ticks": ""
            },
            "colorscale": [
             [
              0,
              "#0d0887"
             ],
             [
              0.1111111111111111,
              "#46039f"
             ],
             [
              0.2222222222222222,
              "#7201a8"
             ],
             [
              0.3333333333333333,
              "#9c179e"
             ],
             [
              0.4444444444444444,
              "#bd3786"
             ],
             [
              0.5555555555555556,
              "#d8576b"
             ],
             [
              0.6666666666666666,
              "#ed7953"
             ],
             [
              0.7777777777777778,
              "#fb9f3a"
             ],
             [
              0.8888888888888888,
              "#fdca26"
             ],
             [
              1,
              "#f0f921"
             ]
            ],
            "type": "contour"
           }
          ],
          "contourcarpet": [
           {
            "colorbar": {
             "outlinewidth": 0,
             "ticks": ""
            },
            "type": "contourcarpet"
           }
          ],
          "heatmap": [
           {
            "colorbar": {
             "outlinewidth": 0,
             "ticks": ""
            },
            "colorscale": [
             [
              0,
              "#0d0887"
             ],
             [
              0.1111111111111111,
              "#46039f"
             ],
             [
              0.2222222222222222,
              "#7201a8"
             ],
             [
              0.3333333333333333,
              "#9c179e"
             ],
             [
              0.4444444444444444,
              "#bd3786"
             ],
             [
              0.5555555555555556,
              "#d8576b"
             ],
             [
              0.6666666666666666,
              "#ed7953"
             ],
             [
              0.7777777777777778,
              "#fb9f3a"
             ],
             [
              0.8888888888888888,
              "#fdca26"
             ],
             [
              1,
              "#f0f921"
             ]
            ],
            "type": "heatmap"
           }
          ],
          "heatmapgl": [
           {
            "colorbar": {
             "outlinewidth": 0,
             "ticks": ""
            },
            "colorscale": [
             [
              0,
              "#0d0887"
             ],
             [
              0.1111111111111111,
              "#46039f"
             ],
             [
              0.2222222222222222,
              "#7201a8"
             ],
             [
              0.3333333333333333,
              "#9c179e"
             ],
             [
              0.4444444444444444,
              "#bd3786"
             ],
             [
              0.5555555555555556,
              "#d8576b"
             ],
             [
              0.6666666666666666,
              "#ed7953"
             ],
             [
              0.7777777777777778,
              "#fb9f3a"
             ],
             [
              0.8888888888888888,
              "#fdca26"
             ],
             [
              1,
              "#f0f921"
             ]
            ],
            "type": "heatmapgl"
           }
          ],
          "histogram": [
           {
            "marker": {
             "pattern": {
              "fillmode": "overlay",
              "size": 10,
              "solidity": 0.2
             }
            },
            "type": "histogram"
           }
          ],
          "histogram2d": [
           {
            "colorbar": {
             "outlinewidth": 0,
             "ticks": ""
            },
            "colorscale": [
             [
              0,
              "#0d0887"
             ],
             [
              0.1111111111111111,
              "#46039f"
             ],
             [
              0.2222222222222222,
              "#7201a8"
             ],
             [
              0.3333333333333333,
              "#9c179e"
             ],
             [
              0.4444444444444444,
              "#bd3786"
             ],
             [
              0.5555555555555556,
              "#d8576b"
             ],
             [
              0.6666666666666666,
              "#ed7953"
             ],
             [
              0.7777777777777778,
              "#fb9f3a"
             ],
             [
              0.8888888888888888,
              "#fdca26"
             ],
             [
              1,
              "#f0f921"
             ]
            ],
            "type": "histogram2d"
           }
          ],
          "histogram2dcontour": [
           {
            "colorbar": {
             "outlinewidth": 0,
             "ticks": ""
            },
            "colorscale": [
             [
              0,
              "#0d0887"
             ],
             [
              0.1111111111111111,
              "#46039f"
             ],
             [
              0.2222222222222222,
              "#7201a8"
             ],
             [
              0.3333333333333333,
              "#9c179e"
             ],
             [
              0.4444444444444444,
              "#bd3786"
             ],
             [
              0.5555555555555556,
              "#d8576b"
             ],
             [
              0.6666666666666666,
              "#ed7953"
             ],
             [
              0.7777777777777778,
              "#fb9f3a"
             ],
             [
              0.8888888888888888,
              "#fdca26"
             ],
             [
              1,
              "#f0f921"
             ]
            ],
            "type": "histogram2dcontour"
           }
          ],
          "mesh3d": [
           {
            "colorbar": {
             "outlinewidth": 0,
             "ticks": ""
            },
            "type": "mesh3d"
           }
          ],
          "parcoords": [
           {
            "line": {
             "colorbar": {
              "outlinewidth": 0,
              "ticks": ""
             }
            },
            "type": "parcoords"
           }
          ],
          "pie": [
           {
            "automargin": true,
            "type": "pie"
           }
          ],
          "scatter": [
           {
            "fillpattern": {
             "fillmode": "overlay",
             "size": 10,
             "solidity": 0.2
            },
            "type": "scatter"
           }
          ],
          "scatter3d": [
           {
            "line": {
             "colorbar": {
              "outlinewidth": 0,
              "ticks": ""
             }
            },
            "marker": {
             "colorbar": {
              "outlinewidth": 0,
              "ticks": ""
             }
            },
            "type": "scatter3d"
           }
          ],
          "scattercarpet": [
           {
            "marker": {
             "colorbar": {
              "outlinewidth": 0,
              "ticks": ""
             }
            },
            "type": "scattercarpet"
           }
          ],
          "scattergeo": [
           {
            "marker": {
             "colorbar": {
              "outlinewidth": 0,
              "ticks": ""
             }
            },
            "type": "scattergeo"
           }
          ],
          "scattergl": [
           {
            "marker": {
             "colorbar": {
              "outlinewidth": 0,
              "ticks": ""
             }
            },
            "type": "scattergl"
           }
          ],
          "scattermapbox": [
           {
            "marker": {
             "colorbar": {
              "outlinewidth": 0,
              "ticks": ""
             }
            },
            "type": "scattermapbox"
           }
          ],
          "scatterpolar": [
           {
            "marker": {
             "colorbar": {
              "outlinewidth": 0,
              "ticks": ""
             }
            },
            "type": "scatterpolar"
           }
          ],
          "scatterpolargl": [
           {
            "marker": {
             "colorbar": {
              "outlinewidth": 0,
              "ticks": ""
             }
            },
            "type": "scatterpolargl"
           }
          ],
          "scatterternary": [
           {
            "marker": {
             "colorbar": {
              "outlinewidth": 0,
              "ticks": ""
             }
            },
            "type": "scatterternary"
           }
          ],
          "surface": [
           {
            "colorbar": {
             "outlinewidth": 0,
             "ticks": ""
            },
            "colorscale": [
             [
              0,
              "#0d0887"
             ],
             [
              0.1111111111111111,
              "#46039f"
             ],
             [
              0.2222222222222222,
              "#7201a8"
             ],
             [
              0.3333333333333333,
              "#9c179e"
             ],
             [
              0.4444444444444444,
              "#bd3786"
             ],
             [
              0.5555555555555556,
              "#d8576b"
             ],
             [
              0.6666666666666666,
              "#ed7953"
             ],
             [
              0.7777777777777778,
              "#fb9f3a"
             ],
             [
              0.8888888888888888,
              "#fdca26"
             ],
             [
              1,
              "#f0f921"
             ]
            ],
            "type": "surface"
           }
          ],
          "table": [
           {
            "cells": {
             "fill": {
              "color": "#EBF0F8"
             },
             "line": {
              "color": "white"
             }
            },
            "header": {
             "fill": {
              "color": "#C8D4E3"
             },
             "line": {
              "color": "white"
             }
            },
            "type": "table"
           }
          ]
         },
         "layout": {
          "annotationdefaults": {
           "arrowcolor": "#2a3f5f",
           "arrowhead": 0,
           "arrowwidth": 1
          },
          "autotypenumbers": "strict",
          "coloraxis": {
           "colorbar": {
            "outlinewidth": 0,
            "ticks": ""
           }
          },
          "colorscale": {
           "diverging": [
            [
             0,
             "#8e0152"
            ],
            [
             0.1,
             "#c51b7d"
            ],
            [
             0.2,
             "#de77ae"
            ],
            [
             0.3,
             "#f1b6da"
            ],
            [
             0.4,
             "#fde0ef"
            ],
            [
             0.5,
             "#f7f7f7"
            ],
            [
             0.6,
             "#e6f5d0"
            ],
            [
             0.7,
             "#b8e186"
            ],
            [
             0.8,
             "#7fbc41"
            ],
            [
             0.9,
             "#4d9221"
            ],
            [
             1,
             "#276419"
            ]
           ],
           "sequential": [
            [
             0,
             "#0d0887"
            ],
            [
             0.1111111111111111,
             "#46039f"
            ],
            [
             0.2222222222222222,
             "#7201a8"
            ],
            [
             0.3333333333333333,
             "#9c179e"
            ],
            [
             0.4444444444444444,
             "#bd3786"
            ],
            [
             0.5555555555555556,
             "#d8576b"
            ],
            [
             0.6666666666666666,
             "#ed7953"
            ],
            [
             0.7777777777777778,
             "#fb9f3a"
            ],
            [
             0.8888888888888888,
             "#fdca26"
            ],
            [
             1,
             "#f0f921"
            ]
           ],
           "sequentialminus": [
            [
             0,
             "#0d0887"
            ],
            [
             0.1111111111111111,
             "#46039f"
            ],
            [
             0.2222222222222222,
             "#7201a8"
            ],
            [
             0.3333333333333333,
             "#9c179e"
            ],
            [
             0.4444444444444444,
             "#bd3786"
            ],
            [
             0.5555555555555556,
             "#d8576b"
            ],
            [
             0.6666666666666666,
             "#ed7953"
            ],
            [
             0.7777777777777778,
             "#fb9f3a"
            ],
            [
             0.8888888888888888,
             "#fdca26"
            ],
            [
             1,
             "#f0f921"
            ]
           ]
          },
          "colorway": [
           "#636efa",
           "#EF553B",
           "#00cc96",
           "#ab63fa",
           "#FFA15A",
           "#19d3f3",
           "#FF6692",
           "#B6E880",
           "#FF97FF",
           "#FECB52"
          ],
          "font": {
           "color": "#2a3f5f"
          },
          "geo": {
           "bgcolor": "white",
           "lakecolor": "white",
           "landcolor": "#E5ECF6",
           "showlakes": true,
           "showland": true,
           "subunitcolor": "white"
          },
          "hoverlabel": {
           "align": "left"
          },
          "hovermode": "closest",
          "mapbox": {
           "style": "light"
          },
          "paper_bgcolor": "white",
          "plot_bgcolor": "#E5ECF6",
          "polar": {
           "angularaxis": {
            "gridcolor": "white",
            "linecolor": "white",
            "ticks": ""
           },
           "bgcolor": "#E5ECF6",
           "radialaxis": {
            "gridcolor": "white",
            "linecolor": "white",
            "ticks": ""
           }
          },
          "scene": {
           "xaxis": {
            "backgroundcolor": "#E5ECF6",
            "gridcolor": "white",
            "gridwidth": 2,
            "linecolor": "white",
            "showbackground": true,
            "ticks": "",
            "zerolinecolor": "white"
           },
           "yaxis": {
            "backgroundcolor": "#E5ECF6",
            "gridcolor": "white",
            "gridwidth": 2,
            "linecolor": "white",
            "showbackground": true,
            "ticks": "",
            "zerolinecolor": "white"
           },
           "zaxis": {
            "backgroundcolor": "#E5ECF6",
            "gridcolor": "white",
            "gridwidth": 2,
            "linecolor": "white",
            "showbackground": true,
            "ticks": "",
            "zerolinecolor": "white"
           }
          },
          "shapedefaults": {
           "line": {
            "color": "#2a3f5f"
           }
          },
          "ternary": {
           "aaxis": {
            "gridcolor": "white",
            "linecolor": "white",
            "ticks": ""
           },
           "baxis": {
            "gridcolor": "white",
            "linecolor": "white",
            "ticks": ""
           },
           "bgcolor": "#E5ECF6",
           "caxis": {
            "gridcolor": "white",
            "linecolor": "white",
            "ticks": ""
           }
          },
          "title": {
           "x": 0.05
          },
          "xaxis": {
           "automargin": true,
           "gridcolor": "white",
           "linecolor": "white",
           "ticks": "",
           "title": {
            "standoff": 15
           },
           "zerolinecolor": "white",
           "zerolinewidth": 2
          },
          "yaxis": {
           "automargin": true,
           "gridcolor": "white",
           "linecolor": "white",
           "ticks": "",
           "title": {
            "standoff": 15
           },
           "zerolinecolor": "white",
           "zerolinewidth": 2
          }
         }
        },
        "title": {
         "text": "Portfolio Value Performance Quarterly with Transaction cost"
        },
        "xaxis": {
         "title": {
          "text": "Quarterly Trade Date"
         }
        },
        "yaxis": {
         "title": {
          "text": "Portfolio Value"
         }
        }
       }
      }
     },
     "metadata": {},
     "output_type": "display_data"
    }
   ],
   "source": [
    "trace0 = go.Scatter(x = time_ind, y = portfolio_cost_meanv, mode = 'lines', name = 'Mean-Variance')\n",
    "trace1 = go.Scatter(x = time_ind, y = portfolio_cost_equal, mode = 'lines', name = 'Equally Weighted')\n",
    "trace2 = go.Scatter(x = time_ind, y = portfolio_cost_minv, mode = 'lines', name = 'Min-Variance')\n",
    "trace3 = go.Scatter(x = time_ind, y = spx_value, mode = 'lines', name = 'SPX')\n",
    "\n",
    "data = [trace0, trace1, trace2, trace3]\n",
    "layout = dict(title = \"Portfolio Value Performance Quarterly with Transaction cost\", \n",
    "              xaxis = dict(title = 'Quarterly Trade Date'), \n",
    "              yaxis = dict(title = 'Portfolio Value'))\n",
    "fig = dict(data = data, layout = layout)\n",
    "\n",
    "plotly.offline.iplot(fig)\n",
    "\n",
    "#portfolio_tmp = portfolio_cost_value"
   ]
  },
  {
   "cell_type": "markdown",
   "metadata": {},
   "source": [
    "## 4.2 Plot Portfolio Return"
   ]
  },
  {
   "cell_type": "code",
   "execution_count": 38,
   "metadata": {},
   "outputs": [
    {
     "data": {
      "application/vnd.plotly.v1+json": {
       "config": {
        "linkText": "Export to plot.ly",
        "plotlyServerURL": "https://plot.ly",
        "showLink": false
       },
       "data": [
        {
         "mode": "lines",
         "name": "Mean-Variance",
         "type": "scatter",
         "x": [
          "2004-12-01",
          "2005-03-01",
          "2005-06-01",
          "2005-09-01",
          "2005-12-01",
          "2006-03-01",
          "2006-06-01",
          "2006-09-01",
          "2006-12-01",
          "2007-03-01",
          "2007-06-01",
          "2007-09-04",
          "2007-12-03",
          "2008-03-03",
          "2008-06-02",
          "2008-09-02",
          "2008-12-01",
          "2009-03-02",
          "2009-06-01",
          "2009-09-01",
          "2009-12-01",
          "2010-03-01",
          "2010-06-01",
          "2010-09-01",
          "2010-12-01",
          "2011-03-01",
          "2011-06-01",
          "2011-09-01",
          "2011-12-01",
          "2012-03-01",
          "2012-06-01",
          "2012-09-04",
          "2012-12-03",
          "2013-03-01",
          "2013-06-03",
          "2013-09-03",
          "2013-12-02",
          "2014-03-03",
          "2014-06-02",
          "2014-09-02",
          "2014-12-01",
          "2015-03-02",
          "2015-06-01",
          "2015-09-01",
          "2015-12-01",
          "2016-03-01",
          "2016-06-01",
          "2016-09-01",
          "2016-12-01",
          "2017-03-01",
          "2017-06-01",
          "2017-09-01",
          "2017-12-01",
          "2018-03-01",
          "2018-06-01",
          "2018-09-04",
          "2018-12-03",
          "2019-03-01",
          "2019-06-03",
          "2019-09-03",
          "2019-12-02",
          "2020-03-02",
          "2020-06-01",
          "2020-09-01",
          "2020-12-01",
          "2021-03-01",
          "2021-06-01",
          "2021-09-01",
          "2021-12-01",
          "2022-03-01",
          "2022-06-01",
          "2022-09-01",
          "2022-12-01",
          "2023-03-01",
          "2023-06-01",
          "2023-09-01",
          "2023-12-01",
          "2024-03-01",
          "2024-06-03",
          "2024-09-03"
         ],
         "y": [
          0,
          0.04524319545469616,
          0.31308759584640694,
          0.07978993414410222,
          0.08383586626008481,
          0.10100738860313845,
          0.03341855868378822,
          0.6481538225532979,
          0.11109705860232746,
          0.03663440223965617,
          0.12762518419474472,
          -0.060497564730658225,
          0.04029354108651885,
          -0.043822872514129044,
          0.09357798832829854,
          -0.002268038367735999,
          -0.421490021518094,
          -0.21003115304047315,
          137.8006047733792,
          -0.06097010646204938,
          1.0450296069338998,
          15.173634001097435,
          -0.011770332264283801,
          0.011596200751312274,
          0.15159382443405783,
          0.12809426281829683,
          0.042606142330995106,
          -0.1171743697091355,
          0.034149883627306435,
          0.13740112927728024,
          15.645841352384183,
          0.08173301999895072,
          0.05992327861137363,
          0.15005721782343356,
          0.13753312160299594,
          0.017371411465422655,
          0.09576842724479738,
          0.09235282752332125,
          0.021327525284244475,
          0.06115166500569529,
          -0.016752706414281986,
          0.0823030482403137,
          0.004154161669638405,
          -0.0967984596422857,
          0.08249657356396732,
          -0.06352068412097854,
          0.07501938971289764,
          0.06256406389163531,
          0.06320574061310824,
          0.10735821330117296,
          0.011861243734259829,
          0.021094555683529654,
          0.08407900729979259,
          0.0226866721040754,
          0.06821449085263488,
          0.10072594238011581,
          -0.03659533569936275,
          0.008389300161517751,
          -0.05602344563746668,
          0.017056937239891285,
          0.11604566000600432,
          0.024027436171151665,
          -0.032536800886127704,
          0.127733528285545,
          0.1506636217114478,
          0.16060501719089243,
          0.10799312458498225,
          0.050050662380620906,
          -0.057854190276623516,
          -0.012977040671525332,
          -0.06687633083888447,
          -0.020041613961241152,
          0.0804536668011181,
          -0.002820337646369868,
          -0.0012152823654678225,
          0.11360024789600913,
          0.011371378753246774,
          0.07820987430564999,
          -0.06302323085272583,
          0.059604830104824376,
          0.07788556310430776
         ]
        },
        {
         "mode": "lines",
         "name": "Minimum-Variance",
         "type": "scatter",
         "x": [
          "2004-12-01",
          "2005-03-01",
          "2005-06-01",
          "2005-09-01",
          "2005-12-01",
          "2006-03-01",
          "2006-06-01",
          "2006-09-01",
          "2006-12-01",
          "2007-03-01",
          "2007-06-01",
          "2007-09-04",
          "2007-12-03",
          "2008-03-03",
          "2008-06-02",
          "2008-09-02",
          "2008-12-01",
          "2009-03-02",
          "2009-06-01",
          "2009-09-01",
          "2009-12-01",
          "2010-03-01",
          "2010-06-01",
          "2010-09-01",
          "2010-12-01",
          "2011-03-01",
          "2011-06-01",
          "2011-09-01",
          "2011-12-01",
          "2012-03-01",
          "2012-06-01",
          "2012-09-04",
          "2012-12-03",
          "2013-03-01",
          "2013-06-03",
          "2013-09-03",
          "2013-12-02",
          "2014-03-03",
          "2014-06-02",
          "2014-09-02",
          "2014-12-01",
          "2015-03-02",
          "2015-06-01",
          "2015-09-01",
          "2015-12-01",
          "2016-03-01",
          "2016-06-01",
          "2016-09-01",
          "2016-12-01",
          "2017-03-01",
          "2017-06-01",
          "2017-09-01",
          "2017-12-01",
          "2018-03-01",
          "2018-06-01",
          "2018-09-04",
          "2018-12-03",
          "2019-03-01",
          "2019-06-03",
          "2019-09-03",
          "2019-12-02",
          "2020-03-02",
          "2020-06-01",
          "2020-09-01",
          "2020-12-01",
          "2021-03-01",
          "2021-06-01",
          "2021-09-01",
          "2021-12-01",
          "2022-03-01",
          "2022-06-01",
          "2022-09-01",
          "2022-12-01",
          "2023-03-01",
          "2023-06-01",
          "2023-09-01",
          "2023-12-01",
          "2024-03-01",
          "2024-06-03",
          "2024-09-03"
         ],
         "y": [
          0,
          0.04524319545469616,
          0.3138650497799207,
          0.07997545355064811,
          0.06440597304485501,
          0.09189136345656324,
          0.0335417334485317,
          0.6491508732932147,
          0.10707235264750607,
          0.03015565478591556,
          0.12704489083570797,
          -0.04946864637098738,
          -0.0017612737115815077,
          0.003861244659703079,
          0.08757208707271229,
          0.002000378836537936,
          -0.42335551516314424,
          -0.18009369421794139,
          137.85019192403132,
          -0.10233167214620571,
          1.5551527811608894,
          15.169683585208258,
          -0.01440469892597254,
          0.011596298223737105,
          0.15169088525571273,
          0.1280822198504842,
          0.03506553090491598,
          -0.1171755856909581,
          0.03758670626358629,
          0.13752724605771097,
          15.657247990702599,
          0.08175683267605344,
          0.06037674349241728,
          0.15012042351234003,
          0.11050257319797666,
          0.021300375022860838,
          0.09576249806318528,
          0.0923948241318429,
          0.020280557755579895,
          0.06735325972439633,
          0.008858161977891233,
          0.0824224503784331,
          0.008584386096505175,
          -0.08798193593526965,
          0.056273965388958305,
          -0.06291925583508577,
          0.09462684793584554,
          0.05980583498029106,
          0.032917067442524754,
          0.10825368998050058,
          0.026355962602045153,
          0.02194890952917755,
          0.07759623944211687,
          0.007463104755174131,
          0.055258667518215294,
          0.07062181080938086,
          -0.02906926472757704,
          0.033552124361599864,
          -0.0540773845538815,
          0.007496311438980139,
          0.09571350634227566,
          -0.021580741690863835,
          -0.023544870007427676,
          0.1629420441850541,
          0.1507402582176654,
          0.21085447816265612,
          0.1061389204210463,
          0.04879856513493761,
          -0.03544245622255486,
          -0.003982316547214014,
          -0.036072967107970436,
          -0.029083498948367377,
          0.05512314961657833,
          -0.0030234085610462993,
          -0.025389889590487512,
          0.09049008280458558,
          -0.0033872850932043807,
          0.08876784508873713,
          -0.008015509810737287,
          0.05066512793092349,
          0.07607140220122925
         ]
        },
        {
         "mode": "lines",
         "name": "Equally Weighted",
         "type": "scatter",
         "x": [
          "2004-12-01",
          "2005-03-01",
          "2005-06-01",
          "2005-09-01",
          "2005-12-01",
          "2006-03-01",
          "2006-06-01",
          "2006-09-01",
          "2006-12-01",
          "2007-03-01",
          "2007-06-01",
          "2007-09-04",
          "2007-12-03",
          "2008-03-03",
          "2008-06-02",
          "2008-09-02",
          "2008-12-01",
          "2009-03-02",
          "2009-06-01",
          "2009-09-01",
          "2009-12-01",
          "2010-03-01",
          "2010-06-01",
          "2010-09-01",
          "2010-12-01",
          "2011-03-01",
          "2011-06-01",
          "2011-09-01",
          "2011-12-01",
          "2012-03-01",
          "2012-06-01",
          "2012-09-04",
          "2012-12-03",
          "2013-03-01",
          "2013-06-03",
          "2013-09-03",
          "2013-12-02",
          "2014-03-03",
          "2014-06-02",
          "2014-09-02",
          "2014-12-01",
          "2015-03-02",
          "2015-06-01",
          "2015-09-01",
          "2015-12-01",
          "2016-03-01",
          "2016-06-01",
          "2016-09-01",
          "2016-12-01",
          "2017-03-01",
          "2017-06-01",
          "2017-09-01",
          "2017-12-01",
          "2018-03-01",
          "2018-06-01",
          "2018-09-04",
          "2018-12-03",
          "2019-03-01",
          "2019-06-03",
          "2019-09-03",
          "2019-12-02",
          "2020-03-02",
          "2020-06-01",
          "2020-09-01",
          "2020-12-01",
          "2021-03-01",
          "2021-06-01",
          "2021-09-01",
          "2021-12-01",
          "2022-03-01",
          "2022-06-01",
          "2022-09-01",
          "2022-12-01",
          "2023-03-01",
          "2023-06-01",
          "2023-09-01",
          "2023-12-01",
          "2024-03-01",
          "2024-06-03",
          "2024-09-03"
         ],
         "y": [
          0,
          0.044763863792990806,
          0.31318874397792457,
          0.0803509816789625,
          0.06450551390893951,
          0.09135553943913528,
          0.03305098306637248,
          0.6498142069511545,
          0.10760340841700902,
          0.029615485967067274,
          0.12714566432329108,
          -0.049641168621895874,
          -0.0013353426813056252,
          0.004108204025379505,
          0.08797216798372169,
          0.001633996226765761,
          -0.42316696236544743,
          -0.18010138410091067,
          137.89551511647338,
          -0.1017828819093106,
          1.5539115390514835,
          15.180420654142408,
          -0.013594884619763346,
          0.011788948751803176,
          0.15111489714118242,
          0.12768667205148296,
          0.0359154726876489,
          -0.11721996596580149,
          0.037846551789569374,
          0.13797970048041516,
          15.646958265434572,
          0.08257499308332644,
          0.06043551410910842,
          0.14899297759039046,
          0.11110311675987285,
          0.02149443763846023,
          0.09681625664382147,
          0.09152082012466212,
          0.020474703313752465,
          0.06741769346973324,
          0.00871662815110751,
          0.08123202439038728,
          0.009594855153084595,
          -0.08889357078425043,
          0.05729004500539362,
          -0.06326537526545445,
          0.09418876934482567,
          0.05819577770313335,
          0.03395332448882689,
          0.10736621638724443,
          0.025370178611193322,
          0.022952350585837226,
          0.0782447117065107,
          0.006235644330173683,
          0.05525844122586166,
          0.06957387355679741,
          -0.03003982933710267,
          0.03339695924410221,
          -0.05422950939028661,
          0.007414988756421679,
          0.09670096335953275,
          -0.02070056523537408,
          -0.022487697594166876,
          0.16381608534850045,
          0.14958943517931728,
          0.21185004444834316,
          0.10520944175172678,
          0.0498506369950044,
          -0.036444836017997896,
          -0.004768700945255838,
          -0.03700709878852952,
          -0.029908603010949737,
          0.054225551134390766,
          -0.0026536453336471442,
          -0.02499987741747407,
          0.08979046948132935,
          -0.0023089153542838158,
          0.08942199991933256,
          -0.00739916016604308,
          0.04999196653764369,
          0.07671807865947594
         ]
        },
        {
         "mode": "lines",
         "name": "SPX",
         "type": "scatter",
         "x": [
          "2004-12-01",
          "2005-03-01",
          "2005-06-01",
          "2005-09-01",
          "2005-12-01",
          "2006-03-01",
          "2006-06-01",
          "2006-09-01",
          "2006-12-01",
          "2007-03-01",
          "2007-06-01",
          "2007-09-04",
          "2007-12-03",
          "2008-03-03",
          "2008-06-02",
          "2008-09-02",
          "2008-12-01",
          "2009-03-02",
          "2009-06-01",
          "2009-09-01",
          "2009-12-01",
          "2010-03-01",
          "2010-06-01",
          "2010-09-01",
          "2010-12-01",
          "2011-03-01",
          "2011-06-01",
          "2011-09-01",
          "2011-12-01",
          "2012-03-01",
          "2012-06-01",
          "2012-09-04",
          "2012-12-03",
          "2013-03-01",
          "2013-06-03",
          "2013-09-03",
          "2013-12-02",
          "2014-03-03",
          "2014-06-02",
          "2014-09-02",
          "2014-12-01",
          "2015-03-02",
          "2015-06-01",
          "2015-09-01",
          "2015-12-01",
          "2016-03-01",
          "2016-06-01",
          "2016-09-01",
          "2016-12-01",
          "2017-03-01",
          "2017-06-01",
          "2017-09-01",
          "2017-12-01",
          "2018-03-01",
          "2018-06-01",
          "2018-09-04",
          "2018-12-03",
          "2019-03-01",
          "2019-06-03",
          "2019-09-03",
          "2019-12-02",
          "2020-03-02",
          "2020-06-01",
          "2020-09-01",
          "2020-12-01",
          "2021-03-01",
          "2021-06-01",
          "2021-09-01",
          "2021-12-01",
          "2022-03-01",
          "2022-06-01",
          "2022-09-01",
          "2022-12-01",
          "2023-03-01",
          "2023-06-01",
          "2023-09-01",
          "2023-12-01",
          "2024-03-01",
          "2024-06-03",
          "2024-09-03"
         ],
         "y": [
          0,
          -0.031011435110132206,
          -0.013825642701152312,
          0.0717325107126723,
          0.015730238947832015,
          -0.006812450030897837,
          0.01585638033968322,
          0.03406428287856472,
          0.020577078227138664,
          -0.004301148365407913,
          0.019298135513586202,
          0.06135844489456598,
          0.004603920270168108,
          0.0866799828408391,
          -0.031502142102716846,
          -0.011545618432664722,
          -0.10596848419409743,
          0.03920852468623058,
          -0.08460534104215246,
          -0.5652588447357824,
          -0.16465000063141016,
          0.25671618467706664,
          0.055278329650883605,
          0.09994048733671584,
          0.006139566577125166,
          -0.042028188437323,
          0.008868061148942749,
          0.10428906516870991,
          0.07674937660346187,
          0.006253160753191119,
          -0.0914382033381479,
          0.032267844194343066,
          0.09425147769586494,
          -0.0751540826751167,
          0.09032407621405636,
          0.0032069158802095496,
          0.07162428779584684,
          0.07450536417458699,
          -0.0003964119396745149,
          0.08947193219969968,
          0.02428846934766822,
          0.0411642734382144,
          0.03861101217740176,
          0.024914248076006226,
          0.030202255803729094,
          -0.002680225294769289,
          -0.1033936867607559,
          0.08978275671324937,
          -0.06281998067088922,
          0.05762795655608152,
          0.032950086950478095,
          0.009228312057142194,
          0.08551056200969813,
          0.014032615175767864,
          0.01877207781703161,
          0.06270103311304294,
          0.013239104223515227,
          0.020825633130744352,
          0.05595979423453841,
          -0.03811317103080873,
          0.004750819276424397,
          -0.021585378231830984,
          0.055679639975598286,
          0.06666947876546563,
          -0.007649960316275257,
          -0.011290264591607563,
          0.13353180352890567,
          0.0370790183179631,
          0.06134832283236208,
          0.07144624228047713,
          0.07118554578053078,
          -0.0024484171626794143,
          -0.04801853225115146,
          -0.04999226723023616,
          -0.03387571486300836,
          0.026914776114048754,
          -0.03168003643891869,
          0.0638779550216556,
          0.06527126021147461,
          0.01716348548035336,
          0.10559504369464505,
          0.027694255010649788,
          0.04440827893125021
         ]
        }
       ],
       "layout": {
        "template": {
         "data": {
          "bar": [
           {
            "error_x": {
             "color": "#2a3f5f"
            },
            "error_y": {
             "color": "#2a3f5f"
            },
            "marker": {
             "line": {
              "color": "#E5ECF6",
              "width": 0.5
             },
             "pattern": {
              "fillmode": "overlay",
              "size": 10,
              "solidity": 0.2
             }
            },
            "type": "bar"
           }
          ],
          "barpolar": [
           {
            "marker": {
             "line": {
              "color": "#E5ECF6",
              "width": 0.5
             },
             "pattern": {
              "fillmode": "overlay",
              "size": 10,
              "solidity": 0.2
             }
            },
            "type": "barpolar"
           }
          ],
          "carpet": [
           {
            "aaxis": {
             "endlinecolor": "#2a3f5f",
             "gridcolor": "white",
             "linecolor": "white",
             "minorgridcolor": "white",
             "startlinecolor": "#2a3f5f"
            },
            "baxis": {
             "endlinecolor": "#2a3f5f",
             "gridcolor": "white",
             "linecolor": "white",
             "minorgridcolor": "white",
             "startlinecolor": "#2a3f5f"
            },
            "type": "carpet"
           }
          ],
          "choropleth": [
           {
            "colorbar": {
             "outlinewidth": 0,
             "ticks": ""
            },
            "type": "choropleth"
           }
          ],
          "contour": [
           {
            "colorbar": {
             "outlinewidth": 0,
             "ticks": ""
            },
            "colorscale": [
             [
              0,
              "#0d0887"
             ],
             [
              0.1111111111111111,
              "#46039f"
             ],
             [
              0.2222222222222222,
              "#7201a8"
             ],
             [
              0.3333333333333333,
              "#9c179e"
             ],
             [
              0.4444444444444444,
              "#bd3786"
             ],
             [
              0.5555555555555556,
              "#d8576b"
             ],
             [
              0.6666666666666666,
              "#ed7953"
             ],
             [
              0.7777777777777778,
              "#fb9f3a"
             ],
             [
              0.8888888888888888,
              "#fdca26"
             ],
             [
              1,
              "#f0f921"
             ]
            ],
            "type": "contour"
           }
          ],
          "contourcarpet": [
           {
            "colorbar": {
             "outlinewidth": 0,
             "ticks": ""
            },
            "type": "contourcarpet"
           }
          ],
          "heatmap": [
           {
            "colorbar": {
             "outlinewidth": 0,
             "ticks": ""
            },
            "colorscale": [
             [
              0,
              "#0d0887"
             ],
             [
              0.1111111111111111,
              "#46039f"
             ],
             [
              0.2222222222222222,
              "#7201a8"
             ],
             [
              0.3333333333333333,
              "#9c179e"
             ],
             [
              0.4444444444444444,
              "#bd3786"
             ],
             [
              0.5555555555555556,
              "#d8576b"
             ],
             [
              0.6666666666666666,
              "#ed7953"
             ],
             [
              0.7777777777777778,
              "#fb9f3a"
             ],
             [
              0.8888888888888888,
              "#fdca26"
             ],
             [
              1,
              "#f0f921"
             ]
            ],
            "type": "heatmap"
           }
          ],
          "heatmapgl": [
           {
            "colorbar": {
             "outlinewidth": 0,
             "ticks": ""
            },
            "colorscale": [
             [
              0,
              "#0d0887"
             ],
             [
              0.1111111111111111,
              "#46039f"
             ],
             [
              0.2222222222222222,
              "#7201a8"
             ],
             [
              0.3333333333333333,
              "#9c179e"
             ],
             [
              0.4444444444444444,
              "#bd3786"
             ],
             [
              0.5555555555555556,
              "#d8576b"
             ],
             [
              0.6666666666666666,
              "#ed7953"
             ],
             [
              0.7777777777777778,
              "#fb9f3a"
             ],
             [
              0.8888888888888888,
              "#fdca26"
             ],
             [
              1,
              "#f0f921"
             ]
            ],
            "type": "heatmapgl"
           }
          ],
          "histogram": [
           {
            "marker": {
             "pattern": {
              "fillmode": "overlay",
              "size": 10,
              "solidity": 0.2
             }
            },
            "type": "histogram"
           }
          ],
          "histogram2d": [
           {
            "colorbar": {
             "outlinewidth": 0,
             "ticks": ""
            },
            "colorscale": [
             [
              0,
              "#0d0887"
             ],
             [
              0.1111111111111111,
              "#46039f"
             ],
             [
              0.2222222222222222,
              "#7201a8"
             ],
             [
              0.3333333333333333,
              "#9c179e"
             ],
             [
              0.4444444444444444,
              "#bd3786"
             ],
             [
              0.5555555555555556,
              "#d8576b"
             ],
             [
              0.6666666666666666,
              "#ed7953"
             ],
             [
              0.7777777777777778,
              "#fb9f3a"
             ],
             [
              0.8888888888888888,
              "#fdca26"
             ],
             [
              1,
              "#f0f921"
             ]
            ],
            "type": "histogram2d"
           }
          ],
          "histogram2dcontour": [
           {
            "colorbar": {
             "outlinewidth": 0,
             "ticks": ""
            },
            "colorscale": [
             [
              0,
              "#0d0887"
             ],
             [
              0.1111111111111111,
              "#46039f"
             ],
             [
              0.2222222222222222,
              "#7201a8"
             ],
             [
              0.3333333333333333,
              "#9c179e"
             ],
             [
              0.4444444444444444,
              "#bd3786"
             ],
             [
              0.5555555555555556,
              "#d8576b"
             ],
             [
              0.6666666666666666,
              "#ed7953"
             ],
             [
              0.7777777777777778,
              "#fb9f3a"
             ],
             [
              0.8888888888888888,
              "#fdca26"
             ],
             [
              1,
              "#f0f921"
             ]
            ],
            "type": "histogram2dcontour"
           }
          ],
          "mesh3d": [
           {
            "colorbar": {
             "outlinewidth": 0,
             "ticks": ""
            },
            "type": "mesh3d"
           }
          ],
          "parcoords": [
           {
            "line": {
             "colorbar": {
              "outlinewidth": 0,
              "ticks": ""
             }
            },
            "type": "parcoords"
           }
          ],
          "pie": [
           {
            "automargin": true,
            "type": "pie"
           }
          ],
          "scatter": [
           {
            "fillpattern": {
             "fillmode": "overlay",
             "size": 10,
             "solidity": 0.2
            },
            "type": "scatter"
           }
          ],
          "scatter3d": [
           {
            "line": {
             "colorbar": {
              "outlinewidth": 0,
              "ticks": ""
             }
            },
            "marker": {
             "colorbar": {
              "outlinewidth": 0,
              "ticks": ""
             }
            },
            "type": "scatter3d"
           }
          ],
          "scattercarpet": [
           {
            "marker": {
             "colorbar": {
              "outlinewidth": 0,
              "ticks": ""
             }
            },
            "type": "scattercarpet"
           }
          ],
          "scattergeo": [
           {
            "marker": {
             "colorbar": {
              "outlinewidth": 0,
              "ticks": ""
             }
            },
            "type": "scattergeo"
           }
          ],
          "scattergl": [
           {
            "marker": {
             "colorbar": {
              "outlinewidth": 0,
              "ticks": ""
             }
            },
            "type": "scattergl"
           }
          ],
          "scattermapbox": [
           {
            "marker": {
             "colorbar": {
              "outlinewidth": 0,
              "ticks": ""
             }
            },
            "type": "scattermapbox"
           }
          ],
          "scatterpolar": [
           {
            "marker": {
             "colorbar": {
              "outlinewidth": 0,
              "ticks": ""
             }
            },
            "type": "scatterpolar"
           }
          ],
          "scatterpolargl": [
           {
            "marker": {
             "colorbar": {
              "outlinewidth": 0,
              "ticks": ""
             }
            },
            "type": "scatterpolargl"
           }
          ],
          "scatterternary": [
           {
            "marker": {
             "colorbar": {
              "outlinewidth": 0,
              "ticks": ""
             }
            },
            "type": "scatterternary"
           }
          ],
          "surface": [
           {
            "colorbar": {
             "outlinewidth": 0,
             "ticks": ""
            },
            "colorscale": [
             [
              0,
              "#0d0887"
             ],
             [
              0.1111111111111111,
              "#46039f"
             ],
             [
              0.2222222222222222,
              "#7201a8"
             ],
             [
              0.3333333333333333,
              "#9c179e"
             ],
             [
              0.4444444444444444,
              "#bd3786"
             ],
             [
              0.5555555555555556,
              "#d8576b"
             ],
             [
              0.6666666666666666,
              "#ed7953"
             ],
             [
              0.7777777777777778,
              "#fb9f3a"
             ],
             [
              0.8888888888888888,
              "#fdca26"
             ],
             [
              1,
              "#f0f921"
             ]
            ],
            "type": "surface"
           }
          ],
          "table": [
           {
            "cells": {
             "fill": {
              "color": "#EBF0F8"
             },
             "line": {
              "color": "white"
             }
            },
            "header": {
             "fill": {
              "color": "#C8D4E3"
             },
             "line": {
              "color": "white"
             }
            },
            "type": "table"
           }
          ]
         },
         "layout": {
          "annotationdefaults": {
           "arrowcolor": "#2a3f5f",
           "arrowhead": 0,
           "arrowwidth": 1
          },
          "autotypenumbers": "strict",
          "coloraxis": {
           "colorbar": {
            "outlinewidth": 0,
            "ticks": ""
           }
          },
          "colorscale": {
           "diverging": [
            [
             0,
             "#8e0152"
            ],
            [
             0.1,
             "#c51b7d"
            ],
            [
             0.2,
             "#de77ae"
            ],
            [
             0.3,
             "#f1b6da"
            ],
            [
             0.4,
             "#fde0ef"
            ],
            [
             0.5,
             "#f7f7f7"
            ],
            [
             0.6,
             "#e6f5d0"
            ],
            [
             0.7,
             "#b8e186"
            ],
            [
             0.8,
             "#7fbc41"
            ],
            [
             0.9,
             "#4d9221"
            ],
            [
             1,
             "#276419"
            ]
           ],
           "sequential": [
            [
             0,
             "#0d0887"
            ],
            [
             0.1111111111111111,
             "#46039f"
            ],
            [
             0.2222222222222222,
             "#7201a8"
            ],
            [
             0.3333333333333333,
             "#9c179e"
            ],
            [
             0.4444444444444444,
             "#bd3786"
            ],
            [
             0.5555555555555556,
             "#d8576b"
            ],
            [
             0.6666666666666666,
             "#ed7953"
            ],
            [
             0.7777777777777778,
             "#fb9f3a"
            ],
            [
             0.8888888888888888,
             "#fdca26"
            ],
            [
             1,
             "#f0f921"
            ]
           ],
           "sequentialminus": [
            [
             0,
             "#0d0887"
            ],
            [
             0.1111111111111111,
             "#46039f"
            ],
            [
             0.2222222222222222,
             "#7201a8"
            ],
            [
             0.3333333333333333,
             "#9c179e"
            ],
            [
             0.4444444444444444,
             "#bd3786"
            ],
            [
             0.5555555555555556,
             "#d8576b"
            ],
            [
             0.6666666666666666,
             "#ed7953"
            ],
            [
             0.7777777777777778,
             "#fb9f3a"
            ],
            [
             0.8888888888888888,
             "#fdca26"
            ],
            [
             1,
             "#f0f921"
            ]
           ]
          },
          "colorway": [
           "#636efa",
           "#EF553B",
           "#00cc96",
           "#ab63fa",
           "#FFA15A",
           "#19d3f3",
           "#FF6692",
           "#B6E880",
           "#FF97FF",
           "#FECB52"
          ],
          "font": {
           "color": "#2a3f5f"
          },
          "geo": {
           "bgcolor": "white",
           "lakecolor": "white",
           "landcolor": "#E5ECF6",
           "showlakes": true,
           "showland": true,
           "subunitcolor": "white"
          },
          "hoverlabel": {
           "align": "left"
          },
          "hovermode": "closest",
          "mapbox": {
           "style": "light"
          },
          "paper_bgcolor": "white",
          "plot_bgcolor": "#E5ECF6",
          "polar": {
           "angularaxis": {
            "gridcolor": "white",
            "linecolor": "white",
            "ticks": ""
           },
           "bgcolor": "#E5ECF6",
           "radialaxis": {
            "gridcolor": "white",
            "linecolor": "white",
            "ticks": ""
           }
          },
          "scene": {
           "xaxis": {
            "backgroundcolor": "#E5ECF6",
            "gridcolor": "white",
            "gridwidth": 2,
            "linecolor": "white",
            "showbackground": true,
            "ticks": "",
            "zerolinecolor": "white"
           },
           "yaxis": {
            "backgroundcolor": "#E5ECF6",
            "gridcolor": "white",
            "gridwidth": 2,
            "linecolor": "white",
            "showbackground": true,
            "ticks": "",
            "zerolinecolor": "white"
           },
           "zaxis": {
            "backgroundcolor": "#E5ECF6",
            "gridcolor": "white",
            "gridwidth": 2,
            "linecolor": "white",
            "showbackground": true,
            "ticks": "",
            "zerolinecolor": "white"
           }
          },
          "shapedefaults": {
           "line": {
            "color": "#2a3f5f"
           }
          },
          "ternary": {
           "aaxis": {
            "gridcolor": "white",
            "linecolor": "white",
            "ticks": ""
           },
           "baxis": {
            "gridcolor": "white",
            "linecolor": "white",
            "ticks": ""
           },
           "bgcolor": "#E5ECF6",
           "caxis": {
            "gridcolor": "white",
            "linecolor": "white",
            "ticks": ""
           }
          },
          "title": {
           "x": 0.05
          },
          "xaxis": {
           "automargin": true,
           "gridcolor": "white",
           "linecolor": "white",
           "ticks": "",
           "title": {
            "standoff": 15
           },
           "zerolinecolor": "white",
           "zerolinewidth": 2
          },
          "yaxis": {
           "automargin": true,
           "gridcolor": "white",
           "linecolor": "white",
           "ticks": "",
           "title": {
            "standoff": 15
           },
           "zerolinecolor": "white",
           "zerolinewidth": 2
          }
         }
        },
        "title": {
         "text": "Portfolio Return Quarterly"
        },
        "xaxis": {
         "title": {
          "text": "Quarterly Trade Date"
         }
        },
        "yaxis": {
         "title": {
          "text": "Portfolio Value"
         }
        }
       }
      }
     },
     "metadata": {},
     "output_type": "display_data"
    }
   ],
   "source": [
    "trace_return1 = go.Scatter(x = time_ind, y = portfolio_return_meanv, mode = 'lines', name = 'Mean-Variance')\n",
    "trace_return2 = go.Scatter(x = time_ind, y = portfolio_return_minv, mode = 'lines', name = 'Minimum-Variance')\n",
    "trace_return3 = go.Scatter(x = time_ind, y = portfolio_return_equal, mode = 'lines', name = 'Equally Weighted')\n",
    "trace_return4 = go.Scatter(x = time_ind, y = spx_return, mode = 'lines', name = 'SPX')\n",
    "\n",
    "data = [trace_return1,trace_return2,trace_return3, trace_return4]\n",
    "layout = dict(title = \"Portfolio Return Quarterly\", \n",
    "              xaxis = dict(title = 'Quarterly Trade Date'), \n",
    "              yaxis = dict(title = 'Portfolio Value'))\n",
    "fig = dict(data = data, layout = layout)\n",
    "plotly.offline.iplot(fig)"
   ]
  },
  {
   "cell_type": "markdown",
   "metadata": {},
   "source": [
    "## 4.3 Plot Portfolio Cumulative Return"
   ]
  },
  {
   "cell_type": "code",
   "execution_count": 39,
   "metadata": {},
   "outputs": [
    {
     "data": {
      "application/vnd.plotly.v1+json": {
       "config": {
        "linkText": "Export to plot.ly",
        "plotlyServerURL": "https://plot.ly",
        "showLink": false
       },
       "data": [
        {
         "mode": "lines",
         "name": "Mean-Variance",
         "type": "scatter",
         "x": [
          "2004-12-01",
          "2005-03-01",
          "2005-06-01",
          "2005-09-01",
          "2005-12-01",
          "2006-03-01",
          "2006-06-01",
          "2006-09-01",
          "2006-12-01",
          "2007-03-01",
          "2007-06-01",
          "2007-09-04",
          "2007-12-03",
          "2008-03-03",
          "2008-06-02",
          "2008-09-02",
          "2008-12-01",
          "2009-03-02",
          "2009-06-01",
          "2009-09-01",
          "2009-12-01",
          "2010-03-01",
          "2010-06-01",
          "2010-09-01",
          "2010-12-01",
          "2011-03-01",
          "2011-06-01",
          "2011-09-01",
          "2011-12-01",
          "2012-03-01",
          "2012-06-01",
          "2012-09-04",
          "2012-12-03",
          "2013-03-01",
          "2013-06-03",
          "2013-09-03",
          "2013-12-02",
          "2014-03-03",
          "2014-06-02",
          "2014-09-02",
          "2014-12-01",
          "2015-03-02",
          "2015-06-01",
          "2015-09-01",
          "2015-12-01",
          "2016-03-01",
          "2016-06-01",
          "2016-09-01",
          "2016-12-01",
          "2017-03-01",
          "2017-06-01",
          "2017-09-01",
          "2017-12-01",
          "2018-03-01",
          "2018-06-01",
          "2018-09-04",
          "2018-12-03",
          "2019-03-01",
          "2019-06-03",
          "2019-09-03",
          "2019-12-02",
          "2020-03-02",
          "2020-06-01",
          "2020-09-01",
          "2020-12-01",
          "2021-03-01",
          "2021-06-01",
          "2021-09-01",
          "2021-12-01",
          "2022-03-01",
          "2022-06-01",
          "2022-09-01",
          "2022-12-01",
          "2023-03-01",
          "2023-06-01",
          "2023-09-01",
          "2023-12-01",
          "2024-03-01",
          "2024-06-03",
          "2024-09-03"
         ],
         "y": [
          0,
          0.04524319545469616,
          0.3583307913011031,
          0.43812072544520536,
          0.5219565917052902,
          0.6229639803084286,
          0.6563825389922168,
          1.3045363615455146,
          1.415633420147842,
          1.452267822387498,
          1.5798930065822427,
          1.5193954418515845,
          1.5596889829381033,
          1.5158661104239743,
          1.609444098752273,
          1.6071760603845369,
          1.185686038866443,
          0.9756548858259698,
          138.77625965920518,
          138.71528955274314,
          139.76031915967704,
          154.93395316077448,
          154.9221828285102,
          154.9337790292615,
          155.08537285369556,
          155.21346711651387,
          155.25607325884485,
          155.1388988891357,
          155.173048772763,
          155.3104499020403,
          170.95629125442449,
          171.03802427442344,
          171.0979475530348,
          171.24800477085824,
          171.38553789246123,
          171.40290930392666,
          171.49867773117145,
          171.59103055869477,
          171.61235808397902,
          171.6735097489847,
          171.65675704257043,
          171.73906009081074,
          171.74321425248039,
          171.6464157928381,
          171.72891236640206,
          171.66539168228107,
          171.74041107199398,
          171.80297513588562,
          171.86618087649873,
          171.9735390897999,
          171.9854003335342,
          172.00649488921772,
          172.09057389651753,
          172.1132605686216,
          172.18147505947422,
          172.28220100185433,
          172.24560566615497,
          172.2539949663165,
          172.19797152067903,
          172.21502845791892,
          172.3310741179249,
          172.35510155409605,
          172.32256475320992,
          172.45029828149546,
          172.60096190320692,
          172.76156692039783,
          172.86956004498282,
          172.91961070736343,
          172.8617565170868,
          172.84877947641527,
          172.7819031455764,
          172.76186153161515,
          172.84231519841626,
          172.8394948607699,
          172.8382795784044,
          172.95187982630043,
          172.96325120505367,
          173.04146107935932,
          172.9784378485066,
          173.03804267861142,
          173.11592824171572
         ]
        },
        {
         "mode": "lines",
         "name": "Minimum-Variance",
         "type": "scatter",
         "x": [
          "2004-12-01",
          "2005-03-01",
          "2005-06-01",
          "2005-09-01",
          "2005-12-01",
          "2006-03-01",
          "2006-06-01",
          "2006-09-01",
          "2006-12-01",
          "2007-03-01",
          "2007-06-01",
          "2007-09-04",
          "2007-12-03",
          "2008-03-03",
          "2008-06-02",
          "2008-09-02",
          "2008-12-01",
          "2009-03-02",
          "2009-06-01",
          "2009-09-01",
          "2009-12-01",
          "2010-03-01",
          "2010-06-01",
          "2010-09-01",
          "2010-12-01",
          "2011-03-01",
          "2011-06-01",
          "2011-09-01",
          "2011-12-01",
          "2012-03-01",
          "2012-06-01",
          "2012-09-04",
          "2012-12-03",
          "2013-03-01",
          "2013-06-03",
          "2013-09-03",
          "2013-12-02",
          "2014-03-03",
          "2014-06-02",
          "2014-09-02",
          "2014-12-01",
          "2015-03-02",
          "2015-06-01",
          "2015-09-01",
          "2015-12-01",
          "2016-03-01",
          "2016-06-01",
          "2016-09-01",
          "2016-12-01",
          "2017-03-01",
          "2017-06-01",
          "2017-09-01",
          "2017-12-01",
          "2018-03-01",
          "2018-06-01",
          "2018-09-04",
          "2018-12-03",
          "2019-03-01",
          "2019-06-03",
          "2019-09-03",
          "2019-12-02",
          "2020-03-02",
          "2020-06-01",
          "2020-09-01",
          "2020-12-01",
          "2021-03-01",
          "2021-06-01",
          "2021-09-01",
          "2021-12-01",
          "2022-03-01",
          "2022-06-01",
          "2022-09-01",
          "2022-12-01",
          "2023-03-01",
          "2023-06-01",
          "2023-09-01",
          "2023-12-01",
          "2024-03-01",
          "2024-06-03",
          "2024-09-03"
         ],
         "y": [
          0,
          0.04524319545469616,
          0.3591082452346169,
          0.439083698785265,
          0.5034896718301201,
          0.5953810352866833,
          0.628922768735215,
          1.2780736420284298,
          1.385145994675936,
          1.4153016494618516,
          1.5423465402975596,
          1.492877893926572,
          1.4911166202149906,
          1.4949778648746936,
          1.582549951947406,
          1.584550330783944,
          1.1611948156207996,
          0.9811011214028582,
          138.83129304543417,
          138.72896137328797,
          140.28411415444887,
          155.45379773965712,
          155.43939304073115,
          155.45098933895488,
          155.6026802242106,
          155.73076244406107,
          155.765827974966,
          155.64865238927504,
          155.68623909553864,
          155.82376634159635,
          171.48101433229894,
          171.562771164975,
          171.62314790846742,
          171.77326833197975,
          171.88377090517773,
          171.9050712802006,
          172.00083377826377,
          172.0932286023956,
          172.11350916015118,
          172.18086241987558,
          172.18972058185346,
          172.2721430322319,
          172.2807274183284,
          172.19274548239315,
          172.2490194477821,
          172.18610019194702,
          172.28072703988286,
          172.34053287486316,
          172.37344994230568,
          172.48170363228618,
          172.50805959488824,
          172.53000850441742,
          172.60760474385955,
          172.61506784861473,
          172.67032651613295,
          172.74094832694232,
          172.71187906221473,
          172.74543118657633,
          172.69135380202243,
          172.69885011346142,
          172.79456361980368,
          172.77298287811283,
          172.7494380081054,
          172.91238005229044,
          173.0631203105081,
          173.27397478867076,
          173.3801137090918,
          173.42891227422675,
          173.39346981800418,
          173.38948750145695,
          173.35341453434899,
          173.3243310354006,
          173.37945418501718,
          173.37643077645615,
          173.35104088686566,
          173.44153096967025,
          173.43814368457706,
          173.5269115296658,
          173.51889601985505,
          173.56956114778598,
          173.6456325499872
         ]
        },
        {
         "mode": "lines",
         "name": "Equally Weighted",
         "type": "scatter",
         "x": [
          "2004-12-01",
          "2005-03-01",
          "2005-06-01",
          "2005-09-01",
          "2005-12-01",
          "2006-03-01",
          "2006-06-01",
          "2006-09-01",
          "2006-12-01",
          "2007-03-01",
          "2007-06-01",
          "2007-09-04",
          "2007-12-03",
          "2008-03-03",
          "2008-06-02",
          "2008-09-02",
          "2008-12-01",
          "2009-03-02",
          "2009-06-01",
          "2009-09-01",
          "2009-12-01",
          "2010-03-01",
          "2010-06-01",
          "2010-09-01",
          "2010-12-01",
          "2011-03-01",
          "2011-06-01",
          "2011-09-01",
          "2011-12-01",
          "2012-03-01",
          "2012-06-01",
          "2012-09-04",
          "2012-12-03",
          "2013-03-01",
          "2013-06-03",
          "2013-09-03",
          "2013-12-02",
          "2014-03-03",
          "2014-06-02",
          "2014-09-02",
          "2014-12-01",
          "2015-03-02",
          "2015-06-01",
          "2015-09-01",
          "2015-12-01",
          "2016-03-01",
          "2016-06-01",
          "2016-09-01",
          "2016-12-01",
          "2017-03-01",
          "2017-06-01",
          "2017-09-01",
          "2017-12-01",
          "2018-03-01",
          "2018-06-01",
          "2018-09-04",
          "2018-12-03",
          "2019-03-01",
          "2019-06-03",
          "2019-09-03",
          "2019-12-02",
          "2020-03-02",
          "2020-06-01",
          "2020-09-01",
          "2020-12-01",
          "2021-03-01",
          "2021-06-01",
          "2021-09-01",
          "2021-12-01",
          "2022-03-01",
          "2022-06-01",
          "2022-09-01",
          "2022-12-01",
          "2023-03-01",
          "2023-06-01",
          "2023-09-01",
          "2023-12-01",
          "2024-03-01",
          "2024-06-03",
          "2024-09-03"
         ],
         "y": [
          0,
          0.044763863792990806,
          0.35795260777091537,
          0.43830358944987785,
          0.5028091033588173,
          0.5941646427979527,
          0.6272156258643251,
          1.2770298328154797,
          1.3846332412324887,
          1.4142487271995559,
          1.541394391522847,
          1.4917532229009511,
          1.4904178802196455,
          1.494526084245025,
          1.5824982522287467,
          1.5841322484555125,
          1.160965286090065,
          0.9808639019891543,
          138.87637901846253,
          138.7745961365532,
          140.3285076756047,
          155.5089283297471,
          155.49533344512736,
          155.50712239387917,
          155.65823729102036,
          155.78592396307184,
          155.8218394357595,
          155.7046194697937,
          155.74246602158325,
          155.88044572206368,
          171.52740398749825,
          171.60997898058156,
          171.67041449469068,
          171.81940747228106,
          171.93051058904092,
          171.9520050266794,
          172.0488212833232,
          172.14034210344786,
          172.16081680676163,
          172.22823450023137,
          172.2369511283825,
          172.31818315277286,
          172.32777800792596,
          172.2388844371417,
          172.2961744821471,
          172.23290910688166,
          172.3270978762265,
          172.38529365392964,
          172.41924697841847,
          172.52661319480572,
          172.5519833734169,
          172.57493572400273,
          172.65318043570923,
          172.6594160800394,
          172.71467452126527,
          172.78424839482207,
          172.75420856548496,
          172.78760552472906,
          172.73337601533876,
          172.74079100409517,
          172.8374919674547,
          172.8167914022193,
          172.79430370462515,
          172.95811978997364,
          173.10770922515295,
          173.31955926960129,
          173.424768711353,
          173.47461934834803,
          173.43817451233002,
          173.43340581138477,
          173.39639871259624,
          173.3664901095853,
          173.42071566071968,
          173.41806201538603,
          173.39306213796854,
          173.48285260744987,
          173.48054369209558,
          173.5699656920149,
          173.56256653184886,
          173.6125584983865,
          173.68927657704597
         ]
        },
        {
         "mode": "lines",
         "name": "SPX",
         "type": "scatter",
         "x": [
          "2004-12-01",
          "2005-03-01",
          "2005-06-01",
          "2005-09-01",
          "2005-12-01",
          "2006-03-01",
          "2006-06-01",
          "2006-09-01",
          "2006-12-01",
          "2007-03-01",
          "2007-06-01",
          "2007-09-04",
          "2007-12-03",
          "2008-03-03",
          "2008-06-02",
          "2008-09-02",
          "2008-12-01",
          "2009-03-02",
          "2009-06-01",
          "2009-09-01",
          "2009-12-01",
          "2010-03-01",
          "2010-06-01",
          "2010-09-01",
          "2010-12-01",
          "2011-03-01",
          "2011-06-01",
          "2011-09-01",
          "2011-12-01",
          "2012-03-01",
          "2012-06-01",
          "2012-09-04",
          "2012-12-03",
          "2013-03-01",
          "2013-06-03",
          "2013-09-03",
          "2013-12-02",
          "2014-03-03",
          "2014-06-02",
          "2014-09-02",
          "2014-12-01",
          "2015-03-02",
          "2015-06-01",
          "2015-09-01",
          "2015-12-01",
          "2016-03-01",
          "2016-06-01",
          "2016-09-01",
          "2016-12-01",
          "2017-03-01",
          "2017-06-01",
          "2017-09-01",
          "2017-12-01",
          "2018-03-01",
          "2018-06-01",
          "2018-09-04",
          "2018-12-03",
          "2019-03-01",
          "2019-06-03",
          "2019-09-03",
          "2019-12-02",
          "2020-03-02",
          "2020-06-01",
          "2020-09-01",
          "2020-12-01",
          "2021-03-01",
          "2021-06-01",
          "2021-09-01",
          "2021-12-01",
          "2022-03-01",
          "2022-06-01",
          "2022-09-01",
          "2022-12-01",
          "2023-03-01",
          "2023-06-01",
          "2023-09-01",
          "2023-12-01",
          "2024-03-01",
          "2024-06-03",
          "2024-09-03"
         ],
         "y": [
          0,
          -0.031011435110132206,
          -0.044837077811284515,
          0.02689543290138778,
          0.042625671849219796,
          0.03581322181832196,
          0.05166960215800517,
          0.0857338850365699,
          0.10631096326370856,
          0.10200981489830065,
          0.12130795041188686,
          0.18266639530645284,
          0.18727031557662097,
          0.27395029841746005,
          0.2424481563147432,
          0.23090253788207848,
          0.12493405368798105,
          0.16414257837421165,
          0.07953723733205918,
          -0.48572160740372317,
          -0.6503716080351334,
          -0.39365542335806675,
          -0.33837709370718316,
          -0.23843660637046732,
          -0.23229703979334215,
          -0.27432522823066513,
          -0.2654571670817224,
          -0.1611681019130125,
          -0.08441872530955064,
          -0.07816556455635952,
          -0.16960376789450743,
          -0.13733592370016437,
          -0.043084446004299434,
          -0.11823852867941613,
          -0.02791445246535977,
          -0.024707536585150222,
          0.04691675121069662,
          0.12142211538528361,
          0.12102570344560909,
          0.21049763564530877,
          0.23478610499297697,
          0.27595037843119136,
          0.3145613906085931,
          0.33947563868459935,
          0.36967789448832844,
          0.36699766919355914,
          0.26360398243280325,
          0.3533867391460526,
          0.2905667584751634,
          0.3481947150312449,
          0.38114480198172296,
          0.39037311403886515,
          0.4758836760485633,
          0.48991629122433117,
          0.5086883690413628,
          0.5713894021544058,
          0.5846285063779211,
          0.6054541395086654,
          0.6614139337432039,
          0.6233007627123952,
          0.6280515819888196,
          0.6064662037569887,
          0.662145843732587,
          0.7288153224980526,
          0.7211653621817773,
          0.7098750975901698,
          0.8434069011190755,
          0.8804859194370386,
          0.9418342422694006,
          1.0132804845498777,
          1.0844660303304086,
          1.082017613167729,
          1.0339990809165776,
          0.9840068136863414,
          0.950131098823333,
          0.9770458749373818,
          0.9453658384984631,
          1.0092437935201186,
          1.0745150537315933,
          1.0916785392119466,
          1.1972735829065917,
          1.2249678379172415,
          1.2693761168484916
         ]
        }
       ],
       "layout": {
        "template": {
         "data": {
          "bar": [
           {
            "error_x": {
             "color": "#2a3f5f"
            },
            "error_y": {
             "color": "#2a3f5f"
            },
            "marker": {
             "line": {
              "color": "#E5ECF6",
              "width": 0.5
             },
             "pattern": {
              "fillmode": "overlay",
              "size": 10,
              "solidity": 0.2
             }
            },
            "type": "bar"
           }
          ],
          "barpolar": [
           {
            "marker": {
             "line": {
              "color": "#E5ECF6",
              "width": 0.5
             },
             "pattern": {
              "fillmode": "overlay",
              "size": 10,
              "solidity": 0.2
             }
            },
            "type": "barpolar"
           }
          ],
          "carpet": [
           {
            "aaxis": {
             "endlinecolor": "#2a3f5f",
             "gridcolor": "white",
             "linecolor": "white",
             "minorgridcolor": "white",
             "startlinecolor": "#2a3f5f"
            },
            "baxis": {
             "endlinecolor": "#2a3f5f",
             "gridcolor": "white",
             "linecolor": "white",
             "minorgridcolor": "white",
             "startlinecolor": "#2a3f5f"
            },
            "type": "carpet"
           }
          ],
          "choropleth": [
           {
            "colorbar": {
             "outlinewidth": 0,
             "ticks": ""
            },
            "type": "choropleth"
           }
          ],
          "contour": [
           {
            "colorbar": {
             "outlinewidth": 0,
             "ticks": ""
            },
            "colorscale": [
             [
              0,
              "#0d0887"
             ],
             [
              0.1111111111111111,
              "#46039f"
             ],
             [
              0.2222222222222222,
              "#7201a8"
             ],
             [
              0.3333333333333333,
              "#9c179e"
             ],
             [
              0.4444444444444444,
              "#bd3786"
             ],
             [
              0.5555555555555556,
              "#d8576b"
             ],
             [
              0.6666666666666666,
              "#ed7953"
             ],
             [
              0.7777777777777778,
              "#fb9f3a"
             ],
             [
              0.8888888888888888,
              "#fdca26"
             ],
             [
              1,
              "#f0f921"
             ]
            ],
            "type": "contour"
           }
          ],
          "contourcarpet": [
           {
            "colorbar": {
             "outlinewidth": 0,
             "ticks": ""
            },
            "type": "contourcarpet"
           }
          ],
          "heatmap": [
           {
            "colorbar": {
             "outlinewidth": 0,
             "ticks": ""
            },
            "colorscale": [
             [
              0,
              "#0d0887"
             ],
             [
              0.1111111111111111,
              "#46039f"
             ],
             [
              0.2222222222222222,
              "#7201a8"
             ],
             [
              0.3333333333333333,
              "#9c179e"
             ],
             [
              0.4444444444444444,
              "#bd3786"
             ],
             [
              0.5555555555555556,
              "#d8576b"
             ],
             [
              0.6666666666666666,
              "#ed7953"
             ],
             [
              0.7777777777777778,
              "#fb9f3a"
             ],
             [
              0.8888888888888888,
              "#fdca26"
             ],
             [
              1,
              "#f0f921"
             ]
            ],
            "type": "heatmap"
           }
          ],
          "heatmapgl": [
           {
            "colorbar": {
             "outlinewidth": 0,
             "ticks": ""
            },
            "colorscale": [
             [
              0,
              "#0d0887"
             ],
             [
              0.1111111111111111,
              "#46039f"
             ],
             [
              0.2222222222222222,
              "#7201a8"
             ],
             [
              0.3333333333333333,
              "#9c179e"
             ],
             [
              0.4444444444444444,
              "#bd3786"
             ],
             [
              0.5555555555555556,
              "#d8576b"
             ],
             [
              0.6666666666666666,
              "#ed7953"
             ],
             [
              0.7777777777777778,
              "#fb9f3a"
             ],
             [
              0.8888888888888888,
              "#fdca26"
             ],
             [
              1,
              "#f0f921"
             ]
            ],
            "type": "heatmapgl"
           }
          ],
          "histogram": [
           {
            "marker": {
             "pattern": {
              "fillmode": "overlay",
              "size": 10,
              "solidity": 0.2
             }
            },
            "type": "histogram"
           }
          ],
          "histogram2d": [
           {
            "colorbar": {
             "outlinewidth": 0,
             "ticks": ""
            },
            "colorscale": [
             [
              0,
              "#0d0887"
             ],
             [
              0.1111111111111111,
              "#46039f"
             ],
             [
              0.2222222222222222,
              "#7201a8"
             ],
             [
              0.3333333333333333,
              "#9c179e"
             ],
             [
              0.4444444444444444,
              "#bd3786"
             ],
             [
              0.5555555555555556,
              "#d8576b"
             ],
             [
              0.6666666666666666,
              "#ed7953"
             ],
             [
              0.7777777777777778,
              "#fb9f3a"
             ],
             [
              0.8888888888888888,
              "#fdca26"
             ],
             [
              1,
              "#f0f921"
             ]
            ],
            "type": "histogram2d"
           }
          ],
          "histogram2dcontour": [
           {
            "colorbar": {
             "outlinewidth": 0,
             "ticks": ""
            },
            "colorscale": [
             [
              0,
              "#0d0887"
             ],
             [
              0.1111111111111111,
              "#46039f"
             ],
             [
              0.2222222222222222,
              "#7201a8"
             ],
             [
              0.3333333333333333,
              "#9c179e"
             ],
             [
              0.4444444444444444,
              "#bd3786"
             ],
             [
              0.5555555555555556,
              "#d8576b"
             ],
             [
              0.6666666666666666,
              "#ed7953"
             ],
             [
              0.7777777777777778,
              "#fb9f3a"
             ],
             [
              0.8888888888888888,
              "#fdca26"
             ],
             [
              1,
              "#f0f921"
             ]
            ],
            "type": "histogram2dcontour"
           }
          ],
          "mesh3d": [
           {
            "colorbar": {
             "outlinewidth": 0,
             "ticks": ""
            },
            "type": "mesh3d"
           }
          ],
          "parcoords": [
           {
            "line": {
             "colorbar": {
              "outlinewidth": 0,
              "ticks": ""
             }
            },
            "type": "parcoords"
           }
          ],
          "pie": [
           {
            "automargin": true,
            "type": "pie"
           }
          ],
          "scatter": [
           {
            "fillpattern": {
             "fillmode": "overlay",
             "size": 10,
             "solidity": 0.2
            },
            "type": "scatter"
           }
          ],
          "scatter3d": [
           {
            "line": {
             "colorbar": {
              "outlinewidth": 0,
              "ticks": ""
             }
            },
            "marker": {
             "colorbar": {
              "outlinewidth": 0,
              "ticks": ""
             }
            },
            "type": "scatter3d"
           }
          ],
          "scattercarpet": [
           {
            "marker": {
             "colorbar": {
              "outlinewidth": 0,
              "ticks": ""
             }
            },
            "type": "scattercarpet"
           }
          ],
          "scattergeo": [
           {
            "marker": {
             "colorbar": {
              "outlinewidth": 0,
              "ticks": ""
             }
            },
            "type": "scattergeo"
           }
          ],
          "scattergl": [
           {
            "marker": {
             "colorbar": {
              "outlinewidth": 0,
              "ticks": ""
             }
            },
            "type": "scattergl"
           }
          ],
          "scattermapbox": [
           {
            "marker": {
             "colorbar": {
              "outlinewidth": 0,
              "ticks": ""
             }
            },
            "type": "scattermapbox"
           }
          ],
          "scatterpolar": [
           {
            "marker": {
             "colorbar": {
              "outlinewidth": 0,
              "ticks": ""
             }
            },
            "type": "scatterpolar"
           }
          ],
          "scatterpolargl": [
           {
            "marker": {
             "colorbar": {
              "outlinewidth": 0,
              "ticks": ""
             }
            },
            "type": "scatterpolargl"
           }
          ],
          "scatterternary": [
           {
            "marker": {
             "colorbar": {
              "outlinewidth": 0,
              "ticks": ""
             }
            },
            "type": "scatterternary"
           }
          ],
          "surface": [
           {
            "colorbar": {
             "outlinewidth": 0,
             "ticks": ""
            },
            "colorscale": [
             [
              0,
              "#0d0887"
             ],
             [
              0.1111111111111111,
              "#46039f"
             ],
             [
              0.2222222222222222,
              "#7201a8"
             ],
             [
              0.3333333333333333,
              "#9c179e"
             ],
             [
              0.4444444444444444,
              "#bd3786"
             ],
             [
              0.5555555555555556,
              "#d8576b"
             ],
             [
              0.6666666666666666,
              "#ed7953"
             ],
             [
              0.7777777777777778,
              "#fb9f3a"
             ],
             [
              0.8888888888888888,
              "#fdca26"
             ],
             [
              1,
              "#f0f921"
             ]
            ],
            "type": "surface"
           }
          ],
          "table": [
           {
            "cells": {
             "fill": {
              "color": "#EBF0F8"
             },
             "line": {
              "color": "white"
             }
            },
            "header": {
             "fill": {
              "color": "#C8D4E3"
             },
             "line": {
              "color": "white"
             }
            },
            "type": "table"
           }
          ]
         },
         "layout": {
          "annotationdefaults": {
           "arrowcolor": "#2a3f5f",
           "arrowhead": 0,
           "arrowwidth": 1
          },
          "autotypenumbers": "strict",
          "coloraxis": {
           "colorbar": {
            "outlinewidth": 0,
            "ticks": ""
           }
          },
          "colorscale": {
           "diverging": [
            [
             0,
             "#8e0152"
            ],
            [
             0.1,
             "#c51b7d"
            ],
            [
             0.2,
             "#de77ae"
            ],
            [
             0.3,
             "#f1b6da"
            ],
            [
             0.4,
             "#fde0ef"
            ],
            [
             0.5,
             "#f7f7f7"
            ],
            [
             0.6,
             "#e6f5d0"
            ],
            [
             0.7,
             "#b8e186"
            ],
            [
             0.8,
             "#7fbc41"
            ],
            [
             0.9,
             "#4d9221"
            ],
            [
             1,
             "#276419"
            ]
           ],
           "sequential": [
            [
             0,
             "#0d0887"
            ],
            [
             0.1111111111111111,
             "#46039f"
            ],
            [
             0.2222222222222222,
             "#7201a8"
            ],
            [
             0.3333333333333333,
             "#9c179e"
            ],
            [
             0.4444444444444444,
             "#bd3786"
            ],
            [
             0.5555555555555556,
             "#d8576b"
            ],
            [
             0.6666666666666666,
             "#ed7953"
            ],
            [
             0.7777777777777778,
             "#fb9f3a"
            ],
            [
             0.8888888888888888,
             "#fdca26"
            ],
            [
             1,
             "#f0f921"
            ]
           ],
           "sequentialminus": [
            [
             0,
             "#0d0887"
            ],
            [
             0.1111111111111111,
             "#46039f"
            ],
            [
             0.2222222222222222,
             "#7201a8"
            ],
            [
             0.3333333333333333,
             "#9c179e"
            ],
            [
             0.4444444444444444,
             "#bd3786"
            ],
            [
             0.5555555555555556,
             "#d8576b"
            ],
            [
             0.6666666666666666,
             "#ed7953"
            ],
            [
             0.7777777777777778,
             "#fb9f3a"
            ],
            [
             0.8888888888888888,
             "#fdca26"
            ],
            [
             1,
             "#f0f921"
            ]
           ]
          },
          "colorway": [
           "#636efa",
           "#EF553B",
           "#00cc96",
           "#ab63fa",
           "#FFA15A",
           "#19d3f3",
           "#FF6692",
           "#B6E880",
           "#FF97FF",
           "#FECB52"
          ],
          "font": {
           "color": "#2a3f5f"
          },
          "geo": {
           "bgcolor": "white",
           "lakecolor": "white",
           "landcolor": "#E5ECF6",
           "showlakes": true,
           "showland": true,
           "subunitcolor": "white"
          },
          "hoverlabel": {
           "align": "left"
          },
          "hovermode": "closest",
          "mapbox": {
           "style": "light"
          },
          "paper_bgcolor": "white",
          "plot_bgcolor": "#E5ECF6",
          "polar": {
           "angularaxis": {
            "gridcolor": "white",
            "linecolor": "white",
            "ticks": ""
           },
           "bgcolor": "#E5ECF6",
           "radialaxis": {
            "gridcolor": "white",
            "linecolor": "white",
            "ticks": ""
           }
          },
          "scene": {
           "xaxis": {
            "backgroundcolor": "#E5ECF6",
            "gridcolor": "white",
            "gridwidth": 2,
            "linecolor": "white",
            "showbackground": true,
            "ticks": "",
            "zerolinecolor": "white"
           },
           "yaxis": {
            "backgroundcolor": "#E5ECF6",
            "gridcolor": "white",
            "gridwidth": 2,
            "linecolor": "white",
            "showbackground": true,
            "ticks": "",
            "zerolinecolor": "white"
           },
           "zaxis": {
            "backgroundcolor": "#E5ECF6",
            "gridcolor": "white",
            "gridwidth": 2,
            "linecolor": "white",
            "showbackground": true,
            "ticks": "",
            "zerolinecolor": "white"
           }
          },
          "shapedefaults": {
           "line": {
            "color": "#2a3f5f"
           }
          },
          "ternary": {
           "aaxis": {
            "gridcolor": "white",
            "linecolor": "white",
            "ticks": ""
           },
           "baxis": {
            "gridcolor": "white",
            "linecolor": "white",
            "ticks": ""
           },
           "bgcolor": "#E5ECF6",
           "caxis": {
            "gridcolor": "white",
            "linecolor": "white",
            "ticks": ""
           }
          },
          "title": {
           "x": 0.05
          },
          "xaxis": {
           "automargin": true,
           "gridcolor": "white",
           "linecolor": "white",
           "ticks": "",
           "title": {
            "standoff": 15
           },
           "zerolinecolor": "white",
           "zerolinewidth": 2
          },
          "yaxis": {
           "automargin": true,
           "gridcolor": "white",
           "linecolor": "white",
           "ticks": "",
           "title": {
            "standoff": 15
           },
           "zerolinecolor": "white",
           "zerolinewidth": 2
          }
         }
        },
        "title": {
         "text": "Portfolio Cumulative Return Quarterly"
        },
        "xaxis": {
         "title": {
          "text": "Quarterly Trade Date"
         }
        },
        "yaxis": {
         "title": {
          "text": "Portfolio Value"
         }
        }
       }
      }
     },
     "metadata": {},
     "output_type": "display_data"
    }
   ],
   "source": [
    "trace_return1 = go.Scatter(x = time_ind, y = portfolio_cumsum_meanv, mode = 'lines', name = 'Mean-Variance')\n",
    "trace_return2 = go.Scatter(x = time_ind, y = portfolio_cumsum_minv, mode = 'lines', name = 'Minimum-Variance')\n",
    "trace_return3 = go.Scatter(x = time_ind, y = portfolio_cumsum_equal, mode = 'lines', name = 'Equally Weighted')\n",
    "trace_return4 = go.Scatter(x = time_ind, y = spx_cumsum, mode = 'lines', name = 'SPX')\n",
    "\n",
    "data = [trace_return1,trace_return2,trace_return3, trace_return4]\n",
    "layout = dict(title = \"Portfolio Cumulative Return Quarterly\", \n",
    "              xaxis = dict(title = 'Quarterly Trade Date'), \n",
    "              yaxis = dict(title = 'Portfolio Value'))\n",
    "fig = dict(data = data, layout = layout)\n",
    "plotly.offline.iplot(fig)"
   ]
  },
  {
   "cell_type": "markdown",
   "metadata": {},
   "source": [
    "# 5. Get all Quarterly Return and Calcualte Annulized return, standard deviation and Sharpe ratio"
   ]
  },
  {
   "cell_type": "code",
   "execution_count": 40,
   "metadata": {},
   "outputs": [],
   "source": [
    "quarter_return = pd.DataFrame(index = range(len(portfolio_return_equal)), columns = ['Mean-Var', 'Equally', 'Min-Var'])\n",
    "quarter_return['SPX'] = spx_return\n",
    "quarter_return['Mean-Var'] = portfolio_return_meanv\n",
    "quarter_return['Equally'] = portfolio_return_equal\n",
    "quarter_return['Min-Var'] = portfolio_return_minv\n",
    "\n",
    "#writer_return = pd.ExcelWriter('quarter_return_user8.xlsx')\n",
    "quarter_return.index=tradedate_full\n",
    "#quarter_return.to_excel(writer_return,'Sheet1')\n",
    "#writer_return.save()"
   ]
  },
  {
   "cell_type": "code",
   "execution_count": 41,
   "metadata": {},
   "outputs": [
    {
     "data": {
      "text/html": [
       "<div>\n",
       "<style scoped>\n",
       "    .dataframe tbody tr th:only-of-type {\n",
       "        vertical-align: middle;\n",
       "    }\n",
       "\n",
       "    .dataframe tbody tr th {\n",
       "        vertical-align: top;\n",
       "    }\n",
       "\n",
       "    .dataframe thead th {\n",
       "        text-align: right;\n",
       "    }\n",
       "</style>\n",
       "<table border=\"1\" class=\"dataframe\">\n",
       "  <thead>\n",
       "    <tr style=\"text-align: right;\">\n",
       "      <th></th>\n",
       "      <th>Mean-Var</th>\n",
       "      <th>Equally</th>\n",
       "      <th>Min-Var</th>\n",
       "      <th>SPX</th>\n",
       "    </tr>\n",
       "  </thead>\n",
       "  <tbody>\n",
       "    <tr>\n",
       "      <th>2004-12-01</th>\n",
       "      <td>0</td>\n",
       "      <td>0</td>\n",
       "      <td>0</td>\n",
       "      <td>0.000000</td>\n",
       "    </tr>\n",
       "    <tr>\n",
       "      <th>2005-03-01</th>\n",
       "      <td>0.045243</td>\n",
       "      <td>0.044764</td>\n",
       "      <td>0.045243</td>\n",
       "      <td>-0.031011</td>\n",
       "    </tr>\n",
       "    <tr>\n",
       "      <th>2005-06-01</th>\n",
       "      <td>0.313088</td>\n",
       "      <td>0.313189</td>\n",
       "      <td>0.313865</td>\n",
       "      <td>-0.013826</td>\n",
       "    </tr>\n",
       "    <tr>\n",
       "      <th>2005-09-01</th>\n",
       "      <td>0.07979</td>\n",
       "      <td>0.080351</td>\n",
       "      <td>0.079975</td>\n",
       "      <td>0.071733</td>\n",
       "    </tr>\n",
       "    <tr>\n",
       "      <th>2005-12-01</th>\n",
       "      <td>0.083836</td>\n",
       "      <td>0.064506</td>\n",
       "      <td>0.064406</td>\n",
       "      <td>0.015730</td>\n",
       "    </tr>\n",
       "  </tbody>\n",
       "</table>\n",
       "</div>"
      ],
      "text/plain": [
       "            Mean-Var   Equally   Min-Var       SPX\n",
       "2004-12-01         0         0         0  0.000000\n",
       "2005-03-01  0.045243  0.044764  0.045243 -0.031011\n",
       "2005-06-01  0.313088  0.313189  0.313865 -0.013826\n",
       "2005-09-01   0.07979  0.080351  0.079975  0.071733\n",
       "2005-12-01  0.083836  0.064506  0.064406  0.015730"
      ]
     },
     "execution_count": 41,
     "metadata": {},
     "output_type": "execute_result"
    }
   ],
   "source": [
    "quarter_return.head()"
   ]
  },
  {
   "cell_type": "code",
   "execution_count": 42,
   "metadata": {},
   "outputs": [],
   "source": [
    "annulizedR_spx=quarter_return['SPX'].mean()*4\n",
    "annulizedR_meanv=quarter_return['Mean-Var'].mean()*4\n",
    "annulizedR_equal=quarter_return['Equally'].mean()*4\n",
    "annulizedR_minv=quarter_return['Min-Var'].mean()*4\n",
    "annulizedS_spx=quarter_return['SPX'].std()*2\n",
    "annulizedS_meanv=quarter_return['Mean-Var'].std()*2\n",
    "annulizedS_equal=quarter_return['Equally'].std()*2\n",
    "annulizedS_minv=quarter_return['Min-Var'].std()*2"
   ]
  },
  {
   "cell_type": "code",
   "execution_count": 43,
   "metadata": {},
   "outputs": [
    {
     "name": "stdout",
     "output_type": "stream",
     "text": [
      "SPX 0.059124621378103294 0.17844413131058864\n",
      "Mean-Var 8.548934727985962 30.900103883854406\n",
      "Equally 8.577248226026962 30.920526532922292\n",
      "Min-Var 8.575092965431466 30.9105713412925\n"
     ]
    }
   ],
   "source": [
    "print(\"SPX\",annulizedR_spx,annulizedS_spx)\n",
    "print(\"Mean-Var\",annulizedR_meanv,annulizedS_meanv)\n",
    "print(\"Equally\",annulizedR_equal,annulizedS_equal)\n",
    "print(\"Min-Var\",annulizedR_minv,annulizedS_minv)\n"
   ]
  },
  {
   "cell_type": "code",
   "execution_count": 44,
   "metadata": {
    "collapsed": true
   },
   "outputs": [],
   "source": [
    "risk_free=0.015"
   ]
  },
  {
   "cell_type": "code",
   "execution_count": 45,
   "metadata": {},
   "outputs": [],
   "source": [
    "sharpe_spx=(annulizedR_spx-risk_free)/annulizedS_spx\n",
    "sharpe_meanv=(annulizedR_meanv-risk_free)/annulizedS_meanv\n",
    "sharpe_equal=(annulizedR_equal-risk_free)/annulizedS_equal\n",
    "sharpe_minv=(annulizedR_minv-risk_free)/annulizedS_minv"
   ]
  },
  {
   "cell_type": "code",
   "execution_count": 46,
   "metadata": {},
   "outputs": [
    {
     "name": "stdout",
     "output_type": "stream",
     "text": [
      "SPX Sharpe 0.24727415272235964\n",
      "Mean-Var Sharpe 0.27617818891686713\n",
      "Equally Sharpe 0.2769114625816737\n",
      "Min-Var Sharpe 0.27693092019933957\n"
     ]
    }
   ],
   "source": [
    "print(\"SPX Sharpe\",sharpe_spx)\n",
    "print(\"Mean-Var Sharpe\",sharpe_meanv)\n",
    "print(\"Equally Sharpe\",sharpe_equal)\n",
    "print(\"Min-Var Sharpe\",sharpe_minv)\n"
   ]
  },
  {
   "cell_type": "code",
   "execution_count": null,
   "metadata": {
    "collapsed": true
   },
   "outputs": [],
   "source": []
  },
  {
   "cell_type": "code",
   "execution_count": 47,
   "metadata": {
    "collapsed": true
   },
   "outputs": [],
   "source": [
    "insample_date=tradedate"
   ]
  },
  {
   "cell_type": "code",
   "execution_count": 48,
   "metadata": {},
   "outputs": [
    {
     "data": {
      "text/plain": [
       "['2004-03-01',\n",
       " '2004-06-01',\n",
       " '2004-09-01',\n",
       " '2004-12-01',\n",
       " '2005-03-01',\n",
       " '2005-06-01',\n",
       " '2005-09-01',\n",
       " '2005-12-01',\n",
       " '2006-03-01',\n",
       " '2006-06-01',\n",
       " '2006-09-01',\n",
       " '2006-12-01',\n",
       " '2007-03-01',\n",
       " '2007-06-01',\n",
       " '2007-09-04',\n",
       " '2007-12-03',\n",
       " '2008-03-03',\n",
       " '2008-06-02',\n",
       " '2008-09-02',\n",
       " '2008-12-01',\n",
       " '2009-03-02',\n",
       " '2009-06-01',\n",
       " '2009-09-01',\n",
       " '2009-12-01',\n",
       " '2010-03-01',\n",
       " '2010-06-01',\n",
       " '2010-09-01',\n",
       " '2010-12-01',\n",
       " '2011-03-01',\n",
       " '2011-06-01',\n",
       " '2011-09-01',\n",
       " '2011-12-01',\n",
       " '2012-03-01',\n",
       " '2012-06-01',\n",
       " '2012-09-04',\n",
       " '2012-12-03',\n",
       " '2013-03-01',\n",
       " '2013-06-03',\n",
       " '2013-09-03',\n",
       " '2013-12-02',\n",
       " '2014-03-03',\n",
       " '2014-06-02',\n",
       " '2014-09-02',\n",
       " '2014-12-01',\n",
       " '2015-03-02',\n",
       " '2015-06-01',\n",
       " '2015-09-01',\n",
       " '2015-12-01',\n",
       " '2016-03-01',\n",
       " '2016-06-01',\n",
       " '2016-09-01',\n",
       " '2016-12-01',\n",
       " '2017-03-01',\n",
       " '2017-06-01',\n",
       " '2017-09-01',\n",
       " '2017-12-01',\n",
       " '2018-03-01',\n",
       " '2018-06-01',\n",
       " '2018-09-04',\n",
       " '2018-12-03',\n",
       " '2019-03-01',\n",
       " '2019-06-03',\n",
       " '2019-09-03',\n",
       " '2019-12-02',\n",
       " '2020-03-02',\n",
       " '2020-06-01',\n",
       " '2020-09-01',\n",
       " '2020-12-01',\n",
       " '2021-03-01',\n",
       " '2021-06-01',\n",
       " '2021-09-01',\n",
       " '2021-12-01',\n",
       " '2022-03-01',\n",
       " '2022-06-01',\n",
       " '2022-09-01',\n",
       " '2022-12-01',\n",
       " '2023-03-01',\n",
       " '2023-06-01',\n",
       " '2023-09-01',\n",
       " '2023-12-01',\n",
       " '2024-03-01',\n",
       " '2024-06-03',\n",
       " '2024-09-03']"
      ]
     },
     "execution_count": 48,
     "metadata": {},
     "output_type": "execute_result"
    }
   ],
   "source": [
    "insample_date"
   ]
  },
  {
   "cell_type": "code",
   "execution_count": 49,
   "metadata": {},
   "outputs": [
    {
     "ename": "KeyError",
     "evalue": "\"['2004-03-01', '2004-06-01', '2004-09-01'] not in index\"",
     "output_type": "error",
     "traceback": [
      "\u001b[31m---------------------------------------------------------------------------\u001b[39m",
      "\u001b[31mKeyError\u001b[39m                                  Traceback (most recent call last)",
      "\u001b[36mCell\u001b[39m\u001b[36m \u001b[39m\u001b[32mIn[49]\u001b[39m\u001b[32m, line 1\u001b[39m\n\u001b[32m----> \u001b[39m\u001b[32m1\u001b[39m \u001b[43mquarter_return\u001b[49m\u001b[43m[\u001b[49m\u001b[33;43m'\u001b[39;49m\u001b[33;43mSPX\u001b[39;49m\u001b[33;43m'\u001b[39;49m\u001b[43m]\u001b[49m\u001b[43m[\u001b[49m\u001b[43minsample_date\u001b[49m\u001b[43m]\u001b[49m\n",
      "\u001b[36mFile \u001b[39m\u001b[32me:\\ucb\\code\\capstone\\FinRL-Trading\\venv\\Lib\\site-packages\\pandas\\core\\series.py:1153\u001b[39m, in \u001b[36mSeries.__getitem__\u001b[39m\u001b[34m(self, key)\u001b[39m\n\u001b[32m   1150\u001b[39m     key = np.asarray(key, dtype=\u001b[38;5;28mbool\u001b[39m)\n\u001b[32m   1151\u001b[39m     \u001b[38;5;28;01mreturn\u001b[39;00m \u001b[38;5;28mself\u001b[39m._get_rows_with_mask(key)\n\u001b[32m-> \u001b[39m\u001b[32m1153\u001b[39m \u001b[38;5;28;01mreturn\u001b[39;00m \u001b[38;5;28;43mself\u001b[39;49m\u001b[43m.\u001b[49m\u001b[43m_get_with\u001b[49m\u001b[43m(\u001b[49m\u001b[43mkey\u001b[49m\u001b[43m)\u001b[49m\n",
      "\u001b[36mFile \u001b[39m\u001b[32me:\\ucb\\code\\capstone\\FinRL-Trading\\venv\\Lib\\site-packages\\pandas\\core\\series.py:1194\u001b[39m, in \u001b[36mSeries._get_with\u001b[39m\u001b[34m(self, key)\u001b[39m\n\u001b[32m   1191\u001b[39m         \u001b[38;5;28;01mreturn\u001b[39;00m \u001b[38;5;28mself\u001b[39m.iloc[key]\n\u001b[32m   1193\u001b[39m \u001b[38;5;66;03m# handle the dup indexing case GH#4246\u001b[39;00m\n\u001b[32m-> \u001b[39m\u001b[32m1194\u001b[39m \u001b[38;5;28;01mreturn\u001b[39;00m \u001b[38;5;28;43mself\u001b[39;49m\u001b[43m.\u001b[49m\u001b[43mloc\u001b[49m\u001b[43m[\u001b[49m\u001b[43mkey\u001b[49m\u001b[43m]\u001b[49m\n",
      "\u001b[36mFile \u001b[39m\u001b[32me:\\ucb\\code\\capstone\\FinRL-Trading\\venv\\Lib\\site-packages\\pandas\\core\\indexing.py:1191\u001b[39m, in \u001b[36m_LocationIndexer.__getitem__\u001b[39m\u001b[34m(self, key)\u001b[39m\n\u001b[32m   1189\u001b[39m maybe_callable = com.apply_if_callable(key, \u001b[38;5;28mself\u001b[39m.obj)\n\u001b[32m   1190\u001b[39m maybe_callable = \u001b[38;5;28mself\u001b[39m._check_deprecated_callable_usage(key, maybe_callable)\n\u001b[32m-> \u001b[39m\u001b[32m1191\u001b[39m \u001b[38;5;28;01mreturn\u001b[39;00m \u001b[38;5;28;43mself\u001b[39;49m\u001b[43m.\u001b[49m\u001b[43m_getitem_axis\u001b[49m\u001b[43m(\u001b[49m\u001b[43mmaybe_callable\u001b[49m\u001b[43m,\u001b[49m\u001b[43m \u001b[49m\u001b[43maxis\u001b[49m\u001b[43m=\u001b[49m\u001b[43maxis\u001b[49m\u001b[43m)\u001b[49m\n",
      "\u001b[36mFile \u001b[39m\u001b[32me:\\ucb\\code\\capstone\\FinRL-Trading\\venv\\Lib\\site-packages\\pandas\\core\\indexing.py:1420\u001b[39m, in \u001b[36m_LocIndexer._getitem_axis\u001b[39m\u001b[34m(self, key, axis)\u001b[39m\n\u001b[32m   1417\u001b[39m     \u001b[38;5;28;01mif\u001b[39;00m \u001b[38;5;28mhasattr\u001b[39m(key, \u001b[33m\"\u001b[39m\u001b[33mndim\u001b[39m\u001b[33m\"\u001b[39m) \u001b[38;5;129;01mand\u001b[39;00m key.ndim > \u001b[32m1\u001b[39m:\n\u001b[32m   1418\u001b[39m         \u001b[38;5;28;01mraise\u001b[39;00m \u001b[38;5;167;01mValueError\u001b[39;00m(\u001b[33m\"\u001b[39m\u001b[33mCannot index with multidimensional key\u001b[39m\u001b[33m\"\u001b[39m)\n\u001b[32m-> \u001b[39m\u001b[32m1420\u001b[39m     \u001b[38;5;28;01mreturn\u001b[39;00m \u001b[38;5;28;43mself\u001b[39;49m\u001b[43m.\u001b[49m\u001b[43m_getitem_iterable\u001b[49m\u001b[43m(\u001b[49m\u001b[43mkey\u001b[49m\u001b[43m,\u001b[49m\u001b[43m \u001b[49m\u001b[43maxis\u001b[49m\u001b[43m=\u001b[49m\u001b[43maxis\u001b[49m\u001b[43m)\u001b[49m\n\u001b[32m   1422\u001b[39m \u001b[38;5;66;03m# nested tuple slicing\u001b[39;00m\n\u001b[32m   1423\u001b[39m \u001b[38;5;28;01mif\u001b[39;00m is_nested_tuple(key, labels):\n",
      "\u001b[36mFile \u001b[39m\u001b[32me:\\ucb\\code\\capstone\\FinRL-Trading\\venv\\Lib\\site-packages\\pandas\\core\\indexing.py:1360\u001b[39m, in \u001b[36m_LocIndexer._getitem_iterable\u001b[39m\u001b[34m(self, key, axis)\u001b[39m\n\u001b[32m   1357\u001b[39m \u001b[38;5;28mself\u001b[39m._validate_key(key, axis)\n\u001b[32m   1359\u001b[39m \u001b[38;5;66;03m# A collection of keys\u001b[39;00m\n\u001b[32m-> \u001b[39m\u001b[32m1360\u001b[39m keyarr, indexer = \u001b[38;5;28;43mself\u001b[39;49m\u001b[43m.\u001b[49m\u001b[43m_get_listlike_indexer\u001b[49m\u001b[43m(\u001b[49m\u001b[43mkey\u001b[49m\u001b[43m,\u001b[49m\u001b[43m \u001b[49m\u001b[43maxis\u001b[49m\u001b[43m)\u001b[49m\n\u001b[32m   1361\u001b[39m \u001b[38;5;28;01mreturn\u001b[39;00m \u001b[38;5;28mself\u001b[39m.obj._reindex_with_indexers(\n\u001b[32m   1362\u001b[39m     {axis: [keyarr, indexer]}, copy=\u001b[38;5;28;01mTrue\u001b[39;00m, allow_dups=\u001b[38;5;28;01mTrue\u001b[39;00m\n\u001b[32m   1363\u001b[39m )\n",
      "\u001b[36mFile \u001b[39m\u001b[32me:\\ucb\\code\\capstone\\FinRL-Trading\\venv\\Lib\\site-packages\\pandas\\core\\indexing.py:1558\u001b[39m, in \u001b[36m_LocIndexer._get_listlike_indexer\u001b[39m\u001b[34m(self, key, axis)\u001b[39m\n\u001b[32m   1555\u001b[39m ax = \u001b[38;5;28mself\u001b[39m.obj._get_axis(axis)\n\u001b[32m   1556\u001b[39m axis_name = \u001b[38;5;28mself\u001b[39m.obj._get_axis_name(axis)\n\u001b[32m-> \u001b[39m\u001b[32m1558\u001b[39m keyarr, indexer = \u001b[43max\u001b[49m\u001b[43m.\u001b[49m\u001b[43m_get_indexer_strict\u001b[49m\u001b[43m(\u001b[49m\u001b[43mkey\u001b[49m\u001b[43m,\u001b[49m\u001b[43m \u001b[49m\u001b[43maxis_name\u001b[49m\u001b[43m)\u001b[49m\n\u001b[32m   1560\u001b[39m \u001b[38;5;28;01mreturn\u001b[39;00m keyarr, indexer\n",
      "\u001b[36mFile \u001b[39m\u001b[32me:\\ucb\\code\\capstone\\FinRL-Trading\\venv\\Lib\\site-packages\\pandas\\core\\indexes\\base.py:6200\u001b[39m, in \u001b[36mIndex._get_indexer_strict\u001b[39m\u001b[34m(self, key, axis_name)\u001b[39m\n\u001b[32m   6197\u001b[39m \u001b[38;5;28;01melse\u001b[39;00m:\n\u001b[32m   6198\u001b[39m     keyarr, indexer, new_indexer = \u001b[38;5;28mself\u001b[39m._reindex_non_unique(keyarr)\n\u001b[32m-> \u001b[39m\u001b[32m6200\u001b[39m \u001b[38;5;28;43mself\u001b[39;49m\u001b[43m.\u001b[49m\u001b[43m_raise_if_missing\u001b[49m\u001b[43m(\u001b[49m\u001b[43mkeyarr\u001b[49m\u001b[43m,\u001b[49m\u001b[43m \u001b[49m\u001b[43mindexer\u001b[49m\u001b[43m,\u001b[49m\u001b[43m \u001b[49m\u001b[43maxis_name\u001b[49m\u001b[43m)\u001b[49m\n\u001b[32m   6202\u001b[39m keyarr = \u001b[38;5;28mself\u001b[39m.take(indexer)\n\u001b[32m   6203\u001b[39m \u001b[38;5;28;01mif\u001b[39;00m \u001b[38;5;28misinstance\u001b[39m(key, Index):\n\u001b[32m   6204\u001b[39m     \u001b[38;5;66;03m# GH 42790 - Preserve name from an Index\u001b[39;00m\n",
      "\u001b[36mFile \u001b[39m\u001b[32me:\\ucb\\code\\capstone\\FinRL-Trading\\venv\\Lib\\site-packages\\pandas\\core\\indexes\\base.py:6252\u001b[39m, in \u001b[36mIndex._raise_if_missing\u001b[39m\u001b[34m(self, key, indexer, axis_name)\u001b[39m\n\u001b[32m   6249\u001b[39m     \u001b[38;5;28;01mraise\u001b[39;00m \u001b[38;5;167;01mKeyError\u001b[39;00m(\u001b[33mf\u001b[39m\u001b[33m\"\u001b[39m\u001b[33mNone of [\u001b[39m\u001b[38;5;132;01m{\u001b[39;00mkey\u001b[38;5;132;01m}\u001b[39;00m\u001b[33m] are in the [\u001b[39m\u001b[38;5;132;01m{\u001b[39;00maxis_name\u001b[38;5;132;01m}\u001b[39;00m\u001b[33m]\u001b[39m\u001b[33m\"\u001b[39m)\n\u001b[32m   6251\u001b[39m not_found = \u001b[38;5;28mlist\u001b[39m(ensure_index(key)[missing_mask.nonzero()[\u001b[32m0\u001b[39m]].unique())\n\u001b[32m-> \u001b[39m\u001b[32m6252\u001b[39m \u001b[38;5;28;01mraise\u001b[39;00m \u001b[38;5;167;01mKeyError\u001b[39;00m(\u001b[33mf\u001b[39m\u001b[33m\"\u001b[39m\u001b[38;5;132;01m{\u001b[39;00mnot_found\u001b[38;5;132;01m}\u001b[39;00m\u001b[33m not in index\u001b[39m\u001b[33m\"\u001b[39m)\n",
      "\u001b[31mKeyError\u001b[39m: \"['2004-03-01', '2004-06-01', '2004-09-01'] not in index\""
     ]
    }
   ],
   "source": [
    "quarter_return['SPX'][insample_date]\n"
   ]
  },
  {
   "cell_type": "code",
   "execution_count": null,
   "metadata": {},
   "outputs": [
    {
     "name": "stdout",
     "output_type": "stream",
     "text": [
      "SPX 0.06773879078983287 0.2750324039850313\n",
      "Mean-Var 0.2769817423850113 0.30413300949795075\n",
      "Equally 0.2815628824134959 0.31130453935360886\n",
      "Min-Var 0.2815590917443039 0.31123331296013934\n",
      "SPX Sharpe 0.19175482607025168\n",
      "Mean-Var Sharpe 0.8614051556504145\n",
      "Equally Sharpe 0.8562768887565395\n",
      "Min-Var Sharpe 0.8564606700004602\n"
     ]
    }
   ],
   "source": [
    "annulizedR_spx_insample=quarter_return['SPX'][insample_date].mean()*4\n",
    "annulizedR_meanv_insample=quarter_return['Mean-Var'][insample_date].mean()*4\n",
    "annulizedR_equal_insample=quarter_return['Equally'][insample_date].mean()*4\n",
    "annulizedR_minv_insample=quarter_return['Min-Var'][insample_date].mean()*4\n",
    "annulizedS_spx_insample=quarter_return['SPX'][insample_date].std()*2\n",
    "annulizedS_meanv_insample=quarter_return['Mean-Var'][insample_date].std()*2\n",
    "annulizedS_equal_insample=quarter_return['Equally'][insample_date].std()*2\n",
    "annulizedS_minv_insample=quarter_return['Min-Var'][insample_date].std()*2\n",
    "print(\"SPX\",annulizedR_spx_insample,annulizedS_spx_insample)\n",
    "print(\"Mean-Var\",annulizedR_meanv_insample,annulizedS_meanv_insample)\n",
    "print(\"Equally\",annulizedR_equal_insample,annulizedS_equal_insample)\n",
    "print(\"Min-Var\",annulizedR_minv_insample,annulizedS_minv_insample)\n",
    "sharpe_spx_insample=(annulizedR_spx_insample-risk_free)/annulizedS_spx_insample\n",
    "sharpe_meanv_insample=(annulizedR_meanv_insample-risk_free)/annulizedS_meanv_insample\n",
    "sharpe_equal_insample=(annulizedR_equal_insample-risk_free)/annulizedS_equal_insample\n",
    "sharpe_minv_insample=(annulizedR_minv_insample-risk_free)/annulizedS_minv_insample\n",
    "print(\"SPX Sharpe\",sharpe_spx_insample)\n",
    "print(\"Mean-Var Sharpe\",sharpe_meanv_insample)\n",
    "print(\"Equally Sharpe\",sharpe_equal_insample)\n",
    "print(\"Min-Var Sharpe\",sharpe_minv_insample)"
   ]
  }
 ],
 "metadata": {
  "kernelspec": {
   "display_name": "venv",
   "language": "python",
   "name": "python3"
  },
  "language_info": {
   "codemirror_mode": {
    "name": "ipython",
    "version": 3
   },
   "file_extension": ".py",
   "mimetype": "text/x-python",
   "name": "python",
   "nbconvert_exporter": "python",
   "pygments_lexer": "ipython3",
   "version": "3.11.9"
  }
 },
 "nbformat": 4,
 "nbformat_minor": 2
}
